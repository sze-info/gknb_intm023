{
  "nbformat": 4,
  "nbformat_minor": 0,
  "metadata": {
    "colab": {
      "name": "Prg. alapjai, 5. előadás.ipynb",
      "provenance": [],
      "collapsed_sections": []
    },
    "kernelspec": {
      "name": "python3",
      "display_name": "Python 3"
    },
    "language_info": {
      "name": "python"
    }
  },
  "cells": [
    {
      "cell_type": "markdown",
      "metadata": {
        "id": "7z1S-RhE5kun"
      },
      "source": [
        "# Comprehension (felfogás, értelem?!)\n",
        "\n",
        "Szekvenciák tömör megadását lehetővé tevő nyelvi elem"
      ]
    },
    {
      "cell_type": "markdown",
      "metadata": {
        "id": "cAojDmvw5sbu"
      },
      "source": [
        "Négyzetszámok listájának előállítása"
      ]
    },
    {
      "cell_type": "code",
      "metadata": {
        "colab": {
          "base_uri": "https://localhost:8080/"
        },
        "id": "O9O5v56JzgqF",
        "outputId": "f3192cf5-abb1-43e7-ed17-84b8e250fd85"
      },
      "source": [
        "negyzetszamok = []\n",
        "for i in range(11):\n",
        "  negyzetszamok.append(i**2)\n",
        "print(negyzetszamok)"
      ],
      "execution_count": null,
      "outputs": [
        {
          "output_type": "stream",
          "text": [
            "[0, 1, 4, 9, 16, 25, 36, 49, 64, 81, 100]\n"
          ],
          "name": "stdout"
        }
      ]
    },
    {
      "cell_type": "code",
      "metadata": {
        "colab": {
          "base_uri": "https://localhost:8080/"
        },
        "id": "ld_B5Wuf0YNs",
        "outputId": "a58231ac-e5fd-4cc1-ea11-2753f26c3eea"
      },
      "source": [
        "negyzetszamok = [i**2 for i in range(11)]\n",
        "print(negyzetszamok)"
      ],
      "execution_count": null,
      "outputs": [
        {
          "output_type": "stream",
          "text": [
            "[0, 1, 4, 9, 16, 25, 36, 49, 64, 81, 100]\n"
          ],
          "name": "stdout"
        }
      ]
    },
    {
      "cell_type": "markdown",
      "metadata": {
        "id": "mQvaFlca8Kis"
      },
      "source": [
        "Ha nincs szükségünk a listára (unpacking):"
      ]
    },
    {
      "cell_type": "code",
      "metadata": {
        "colab": {
          "base_uri": "https://localhost:8080/"
        },
        "id": "hNC_0bz98N5c",
        "outputId": "3cf22ce2-ade6-48ff-fcaa-f35a2f495452"
      },
      "source": [
        "print(*[i**2 for i in range(11)])"
      ],
      "execution_count": null,
      "outputs": [
        {
          "output_type": "stream",
          "text": [
            "0 1 4 9 16 25 36 49 64 81 100\n"
          ],
          "name": "stdout"
        }
      ]
    },
    {
      "cell_type": "markdown",
      "metadata": {
        "id": "FqOjf85154bw"
      },
      "source": [
        "Mátrix \"kiterítése\" egy dimenzióba: két ciklust igényel"
      ]
    },
    {
      "cell_type": "code",
      "metadata": {
        "colab": {
          "base_uri": "https://localhost:8080/"
        },
        "id": "ezzDV3cj-lkF",
        "outputId": "adae1f9f-ff6c-4573-a07a-4f2ea2ecb38d"
      },
      "source": [
        "mtx = (\n",
        "    (11, 12, 13),\n",
        "    (21, 22, 23),\n",
        "    (31, 32, 33)\n",
        ")\n",
        "vektor = []\n",
        "for sor in mtx:\n",
        "  for elem in sor:\n",
        "    vektor.append(elem)\n",
        "print(vektor)"
      ],
      "execution_count": null,
      "outputs": [
        {
          "output_type": "stream",
          "text": [
            "[11, 12, 13, 21, 22, 23, 31, 32, 33]\n"
          ],
          "name": "stdout"
        }
      ]
    },
    {
      "cell_type": "code",
      "metadata": {
        "colab": {
          "base_uri": "https://localhost:8080/"
        },
        "id": "rzAbzuwi5CMg",
        "outputId": "cee7d4cf-8f52-4eec-e095-fc2ea59d1e03"
      },
      "source": [
        "mtx = (\n",
        "    (11, 12, 13),\n",
        "    (21, 22, 23),\n",
        "    (31, 32, 33)\n",
        ")\n",
        "vektor = [elem for sor in mtx for elem in sor]\n",
        "print(vektor)"
      ],
      "execution_count": null,
      "outputs": [
        {
          "output_type": "stream",
          "text": [
            "[11, 12, 13, 21, 22, 23, 31, 32, 33]\n"
          ],
          "name": "stdout"
        }
      ]
    },
    {
      "cell_type": "markdown",
      "metadata": {
        "id": "aE0ms7fu5xR5"
      },
      "source": [
        "Mátrix transzponáltjának előállítása: két ciklust igényel"
      ]
    },
    {
      "cell_type": "code",
      "metadata": {
        "id": "tI6O2eQZ_D8g"
      },
      "source": [
        "# mátrix beolvasása\n",
        "sor = int(input('Hány sora van a mátrixnak? '))\n",
        "oszlop = int(input('Hány oszlopa van a mátrixnak? '))\n",
        "mtx = []\n",
        "for s in range(sor):\n",
        "  ujsor = []\n",
        "  for o in range(oszlop):\n",
        "    ujsor.append(float(input(f'[{s+1}][{o+1}]: ')))\n",
        "  mtx.append(ujsor)\n",
        "# transzponálás\n",
        "tr = []\n",
        "for o in range(oszlop):\n",
        "  ujsor = []\n",
        "  for s in range(sor):\n",
        "    ujsor.append(mtx[s][o])\n",
        "  tr.append(ujsor)\n",
        "# nyomtatás\n",
        "print('Eredeti:', mtx)\n",
        "print('Transzponált:', tr)"
      ],
      "execution_count": null,
      "outputs": []
    },
    {
      "cell_type": "code",
      "metadata": {
        "colab": {
          "base_uri": "https://localhost:8080/"
        },
        "id": "jyFu2ldx2yxi",
        "outputId": "1a9967d3-dc26-4f25-e8fb-cc9e6ae85dc0"
      },
      "source": [
        "# mátrix beolvasása\n",
        "sor = int(input('Hány sora van a mátrixnak? '))\n",
        "oszlop = int(input('Hány oszlopa van a mátrixnak? '))\n",
        "mtx = []\n",
        "for s in range(sor):\n",
        "  ujsor = []\n",
        "  for o in range(oszlop):\n",
        "    ujsor.append(float(input(f'[{s+1}][{o+1}]: ')))\n",
        "  mtx.append(ujsor)\n",
        "# transzponálás\n",
        "tr = [[mtx[s][o] for s in range(sor)] for o in range(oszlop)]\n",
        "# nyomtatás\n",
        "print('Eredeti:', mtx)\n",
        "print('Transzponált:', tr)"
      ],
      "execution_count": null,
      "outputs": [
        {
          "output_type": "stream",
          "text": [
            "Hány sora van a mátrixnak? 2\n",
            "Hány oszlopa van a mátrixnak? 3\n",
            "[1][1]: 11\n",
            "[1][2]: 12\n",
            "[1][3]: 13\n",
            "[2][1]: 21\n",
            "[2][2]: 22\n",
            "[2][3]: 23\n",
            "Eredeti: [[11.0, 12.0, 13.0], [21.0, 22.0, 23.0]]\n",
            "Transzponált: [[11.0, 21.0], [12.0, 22.0], [13.0, 23.0]]\n"
          ],
          "name": "stdout"
        }
      ]
    },
    {
      "cell_type": "markdown",
      "metadata": {
        "id": "TGBcesip6wKz"
      },
      "source": [
        "Feltételek is előfordulhatnak a comprehension végén, pl. páros számokat tartalmazó lista előállítása"
      ]
    },
    {
      "cell_type": "code",
      "metadata": {
        "colab": {
          "base_uri": "https://localhost:8080/"
        },
        "id": "kNWWIgLv_JqO",
        "outputId": "dcca0b2d-551a-41d7-885c-3e9cff8286ac"
      },
      "source": [
        "paros = []\n",
        "for i in range(11):\n",
        "  if i%2 == 0:\n",
        "    paros.append(i)\n",
        "print(paros)"
      ],
      "execution_count": null,
      "outputs": [
        {
          "output_type": "stream",
          "text": [
            "[0, 2, 4, 6, 8, 10]\n"
          ],
          "name": "stdout"
        }
      ]
    },
    {
      "cell_type": "code",
      "metadata": {
        "colab": {
          "base_uri": "https://localhost:8080/"
        },
        "id": "fpkH_-427BRe",
        "outputId": "9428797f-ffe9-463a-f4f4-9a7cecaaafea"
      },
      "source": [
        "print([i for i in range(11) if i%2 == 0])"
      ],
      "execution_count": null,
      "outputs": [
        {
          "output_type": "stream",
          "text": [
            "[0, 2, 4, 6, 8, 10]\n"
          ],
          "name": "stdout"
        }
      ]
    },
    {
      "cell_type": "markdown",
      "metadata": {
        "id": "J9Negm9s7OGo"
      },
      "source": [
        "Ez persze másképpen is megoldható lett volna:"
      ]
    },
    {
      "cell_type": "code",
      "metadata": {
        "colab": {
          "base_uri": "https://localhost:8080/"
        },
        "id": "wM7r0Ihj7S13",
        "outputId": "aba30aeb-8c70-4e51-be4d-b0e110aae27c"
      },
      "source": [
        "print([i for i in range(0, 11, 2)])"
      ],
      "execution_count": null,
      "outputs": [
        {
          "output_type": "stream",
          "text": [
            "[0, 2, 4, 6, 8, 10]\n"
          ],
          "name": "stdout"
        }
      ]
    },
    {
      "cell_type": "markdown",
      "metadata": {
        "id": "QywD2Y6T7c2F"
      },
      "source": [
        "FizzBuzz játék: minden 3-mal osztható szám helyett \"Fizz\", az öttel oszthatók helyett \"Buzz\", a 15-tel oszthatók helyett \"FizzBuzz\". Több irányú elágazászt igényel."
      ]
    },
    {
      "cell_type": "code",
      "metadata": {
        "colab": {
          "base_uri": "https://localhost:8080/"
        },
        "id": "BlqYMqLg_bZj",
        "outputId": "18427e8b-cfc2-45bb-cb50-1287fd9ea7e0"
      },
      "source": [
        "szavak = []\n",
        "for i in range(1, 21):\n",
        "  if i%15==0:\n",
        "    szavak.append('FizzBuzz')\n",
        "  elif i%3==0:\n",
        "    szavak.append('Fizz')\n",
        "  elif i%5==0:\n",
        "    szavak.append('Buzz')\n",
        "  else:\n",
        "    szavak.append(i)\n",
        "print(szavak)"
      ],
      "execution_count": null,
      "outputs": [
        {
          "output_type": "stream",
          "text": [
            "[1, 2, 'Fizz', 4, 'Buzz', 'Fizz', 7, 8, 'Fizz', 'Buzz', 11, 'Fizz', 13, 14, 'FizzBuzz', 16, 17, 'Fizz', 19, 'Buzz']\n"
          ],
          "name": "stdout"
        }
      ]
    },
    {
      "cell_type": "code",
      "metadata": {
        "colab": {
          "base_uri": "https://localhost:8080/"
        },
        "id": "K1-8Nyuw74DK",
        "outputId": "0c659fd1-82b2-4a84-bfdd-a64361705ac3"
      },
      "source": [
        "print(['FizzBuzz' if i%15==0 else 'Fizz' if i%3==0 else 'Buzz' if i%5==0 else i for i in range(1, 21)])"
      ],
      "execution_count": null,
      "outputs": [
        {
          "output_type": "stream",
          "text": [
            "[1, 2, 'Fizz', 4, 'Buzz', 'Fizz', 7, 8, 'Fizz', 'Buzz', 11, 'Fizz', 13, 14, 'FizzBuzz', 16, 17, 'Fizz', 19, 'Buzz']\n"
          ],
          "name": "stdout"
        }
      ]
    },
    {
      "cell_type": "markdown",
      "metadata": {
        "id": "MMcaL2HNCUFV"
      },
      "source": [
        "# Halmaz (set)\n",
        "\n",
        "* A matematikai halmazfogalom számítógépes megfelelője\n",
        "* Nem sorrendtartó\n",
        "* Nem indexelhető\n",
        "* Adat ismétlődése nem megengedett\n",
        "* Tartalmazásvizsgálat nagyon gyors (O(1))\n",
        "* Különféle típusú adatokat is tárolhat\n",
        "* Módosítható típusú adatot nem tud tárolni (pl. lista)"
      ]
    },
    {
      "cell_type": "code",
      "metadata": {
        "colab": {
          "base_uri": "https://localhost:8080/"
        },
        "id": "Fbfj4_9MC114",
        "outputId": "5375e642-f0d9-4147-8e93-8b6d7f37fd9d"
      },
      "source": [
        "halmaz = {42, 3.14, 'Szalacsi Sándor', ('a', 'b')} # definíció\n",
        "print(halmaz)\n",
        "print('Halmaz típusa:', type(halmaz), 'elemszáma:', len(halmaz))\n",
        "print('Itt van Daemon Hill?', 'Daemon Hill' in halmaz)\n",
        "print('És a jómunkásember?', 'Szalacsi Sándor' in halmaz)\n",
        "halmaz.add(52)\n",
        "halmaz.add(52) # nem tárol semmit 2x, a többszöri hozzáadás nem gond\n",
        "halmaz.remove(42) # nem tárolt elemet nem lehet viszont eltávolítani\n",
        "print('Hozzáadás és törlés után:', halmaz)\n",
        "print('Üres halmaz:', set()) # a () üres tuple lenne!"
      ],
      "execution_count": null,
      "outputs": [
        {
          "output_type": "stream",
          "text": [
            "{42, 3.14, ('a', 'b'), 'Szalacsi Sándor'}\n",
            "Halmaz típusa: <class 'set'> elemszáma: 4\n",
            "Itt van Daemon Hill? False\n",
            "És a jómunkásember? True\n",
            "Hozzáadás és törlés után: {3.14, 'Szalacsi Sándor', 52, ('a', 'b')}\n",
            "Üres halmaz: set()\n"
          ],
          "name": "stdout"
        }
      ]
    },
    {
      "cell_type": "markdown",
      "metadata": {
        "id": "q7Asd3eIGHk0"
      },
      "source": [
        "Halmazműveletek támogatottak"
      ]
    },
    {
      "cell_type": "code",
      "metadata": {
        "colab": {
          "base_uri": "https://localhost:8080/"
        },
        "id": "BodJA4EBFmIt",
        "outputId": "e1b523d7-5c4f-4c80-9b81-e09d22477b14"
      },
      "source": [
        "paros = {i for i in range(2, 11, 2)}\n",
        "harom = {i for i in range(3, 11, 3)}\n",
        "print('Hattal oszthatók:', paros & harom)\n",
        "print('Páratlan számok:', {i for i in range(1, 11, 2)} - paros)\n",
        "print('Páros és hárommal osztható úniója:', paros | harom)"
      ],
      "execution_count": null,
      "outputs": [
        {
          "output_type": "stream",
          "text": [
            "Hattal oszthatók: {6}\n",
            "Páratlan számok: {1, 3, 5, 7, 9}\n",
            "Páros és hárommal osztható úniója: {2, 3, 4, 6, 8, 9, 10}\n"
          ],
          "name": "stdout"
        }
      ]
    },
    {
      "cell_type": "code",
      "metadata": {
        "colab": {
          "base_uri": "https://localhost:8080/"
        },
        "id": "Ol7C5ldAHJKK",
        "outputId": "35cf5bdc-1d64-4e0e-b71d-beafc5e2b968"
      },
      "source": [
        "import time\n",
        "import random\n",
        "halmaz = {i for i in range(10001)}\n",
        "lista = list(halmaz)\n",
        "\n",
        "kezd = time.time()\n",
        "for i in range(100000):\n",
        "  random.randint(0, 10000) in halmaz\n",
        "vege = time.time()\n",
        "print(f'Keresés halmazban: {vege-kezd:.2f} mp.')\n",
        "\n",
        "kezd = time.time()\n",
        "for i in range(100000):\n",
        "  random.randint(0, 10000) in lista\n",
        "vege = time.time()\n",
        "print(f'Keresés listában: {vege-kezd:.2f} mp.')"
      ],
      "execution_count": null,
      "outputs": [
        {
          "output_type": "stream",
          "text": [
            "Keresés halmazban: 0.14 mp.\n",
            "Keresés listában: 7.86 mp.\n"
          ],
          "name": "stdout"
        }
      ]
    },
    {
      "cell_type": "markdown",
      "metadata": {
        "id": "V3e2DXxVKOEv"
      },
      "source": [
        "Lottószámok előállítása"
      ]
    },
    {
      "cell_type": "code",
      "metadata": {
        "colab": {
          "base_uri": "https://localhost:8080/"
        },
        "id": "fY-zE5SOKQNm",
        "outputId": "be7918ec-bfc4-4b24-aa3e-3ab4f2b04e2f"
      },
      "source": [
        "import random as rnd\n",
        "szamok = set()\n",
        "while len(szamok) < 5:\n",
        "  szamok.add(rnd.randint(1, 90))\n",
        "print('Lottószámok növekvő sorrendben:', sorted(szamok))"
      ],
      "execution_count": null,
      "outputs": [
        {
          "output_type": "stream",
          "text": [
            "Lottószámok növekvő sorrendben: [45, 48, 63, 68, 82]\n"
          ],
          "name": "stdout"
        }
      ]
    },
    {
      "cell_type": "code",
      "metadata": {
        "colab": {
          "base_uri": "https://localhost:8080/"
        },
        "id": "UfVUroSgKuM8",
        "outputId": "aff245c9-1cb0-4940-c034-c66d23916caf"
      },
      "source": [
        "import random as rnd\n",
        "print('Lottószámok növekvő sorrendben:', sorted(rnd.sample(range(1, 91), 5)))"
      ],
      "execution_count": null,
      "outputs": [
        {
          "output_type": "stream",
          "text": [
            "Lottószámok növekvő sorrendben: [2, 15, 17, 41, 60]\n"
          ],
          "name": "stdout"
        }
      ]
    },
    {
      "cell_type": "markdown",
      "metadata": {
        "id": "3sxQu_JtLbVX"
      },
      "source": [
        "Milyen betűkből áll a vers?"
      ]
    },
    {
      "cell_type": "code",
      "metadata": {
        "colab": {
          "base_uri": "https://localhost:8080/"
        },
        "id": "Usk-ssRfLeDg",
        "outputId": "7c635325-d39d-4303-90a1-4fa360977c62"
      },
      "source": [
        "betuk = {b.lower() for b in '''\n",
        "Ej, mi a kő! tyúkanyó, kend\n",
        "A szobában lakik itt bent?\n",
        "Lám, csak jó az isten, jót ád,\n",
        "Hogy fölvitte a kend dolgát!\n",
        " \n",
        "Itt szaladgál föl és alá,\n",
        "Még a ládára is fölszáll,\n",
        "Eszébe jut, kotkodácsol,\n",
        "S nem verik ki a szobából.\n",
        " \n",
        "Dehogy verik, dehogy verik!\n",
        "Mint a galambot etetik,\n",
        "Válogat a kendermagban,\n",
        "A kiskirály sem él jobban.\n",
        " \n",
        "Ezért aztán, tyúkanyó, hát\n",
        "Jól megbecsűlje kend magát,\n",
        "Iparkodjék, ne legyen ám\n",
        "Tojás szűkében az anyám. -\n",
        " \n",
        "Morzsa kutyánk, hegyezd füled,\n",
        "Hadd beszélek mostan veled,\n",
        "Régi cseléd vagy a háznál,\n",
        "Mindig emberűl szolgáltál,\n",
        " \n",
        "Ezután is jó légy, Morzsa,\n",
        "Kedvet ne kapj a tyúkhusra,\n",
        "Élj a tyúkkal barátságba'...\n",
        "Anyám egyetlen jószága.\n",
        "'''}\n",
        "print(sorted(betuk))"
      ],
      "execution_count": null,
      "outputs": [
        {
          "output_type": "stream",
          "text": [
            "['\\n', ' ', '!', \"'\", ',', '-', '.', '?', 'a', 'b', 'c', 'd', 'e', 'f', 'g', 'h', 'i', 'j', 'k', 'l', 'm', 'n', 'o', 'p', 'r', 's', 't', 'u', 'v', 'y', 'z', 'á', 'é', 'ó', 'ö', 'ú', 'ü', 'ő', 'ű']\n"
          ],
          "name": "stdout"
        }
      ]
    },
    {
      "cell_type": "markdown",
      "source": [
        "Halmaz létrehozása listából comprehension-nel; értelemszerűen a lista ismétlődő elemei közül csak egy kerül a halmazba."
      ],
      "metadata": {
        "id": "uZr3JrzR1uR6"
      }
    },
    {
      "cell_type": "code",
      "source": [
        "lista = [\"egy\", \"kettő\", \"három\", \"egy\", \"négy\", \"kettő\"]\n",
        "halmaz = {elem for elem in lista}\n",
        "print(halmaz)"
      ],
      "metadata": {
        "colab": {
          "base_uri": "https://localhost:8080/"
        },
        "id": "r0fivASw1aSu",
        "outputId": "e4cb837f-5384-4a38-bce8-45c67737c84a"
      },
      "execution_count": null,
      "outputs": [
        {
          "output_type": "stream",
          "name": "stdout",
          "text": [
            "{'négy', 'három', 'egy', 'kettő'}\n"
          ]
        }
      ]
    },
    {
      "cell_type": "markdown",
      "metadata": {
        "id": "Mgf9wrroN_Vl"
      },
      "source": [
        "## Szótár (dictionary)\n",
        "\n",
        "* Más nyelvekben: map, leképezés, asszociatív tömb\n",
        "* Kulcs - érték párok halmaza\n",
        "* A kulcsok egyedi azonosítók, halmazt alkotnak\n",
        "* Gyors tartalmazásvizsgálat (O(1))\n",
        "* Indexelni a kulccsal lehet"
      ]
    },
    {
      "cell_type": "code",
      "metadata": {
        "colab": {
          "base_uri": "https://localhost:8080/"
        },
        "id": "mCpg5E61Ol04",
        "outputId": "e0ff6cea-4f13-4d06-d358-285c8f6a46da"
      },
      "source": [
        "hallgatok = {\n",
        "  '1Q2W3E': 'Kovács Béla',\n",
        "  'ASD123': 'Nagy Ilona',\n",
        "  'LKJHGF': 'Kiss Mihály'\n",
        "}\n",
        "print('A kurzus hallgatói:')\n",
        "for neptun in hallgatok:\n",
        "  print(neptun, ': ', hallgatok[neptun])\n",
        "\n",
        "print('Köztük van \"ASD123\"?', 'ASD123' in hallgatok)\n",
        "hallgatok['ASD123'] = 'Fehér Virág' # módosítás\n",
        "hallgatok['XXXXXX'] = 'Nemoda Buda' # új hallgató felvétele\n",
        "del hallgatok['1Q2W3E'] # törlés\n",
        "print('Hallgatók a módosítások után:', hallgatok)"
      ],
      "execution_count": null,
      "outputs": [
        {
          "output_type": "stream",
          "text": [
            "A kurzus hallgatói:\n",
            "1Q2W3E :  Kovács Béla\n",
            "ASD123 :  Nagy Ilona\n",
            "LKJHGF :  Kiss Mihály\n",
            "Köztük van \"ASD123\"? True\n",
            "Hallgatók a módosítások után: {'ASD123': 'Fehér Virág', 'LKJHGF': 'Kiss Mihály', 'XXXXXX': 'Nemoda Buda'}\n"
          ],
          "name": "stdout"
        }
      ]
    },
    {
      "cell_type": "code",
      "metadata": {
        "colab": {
          "base_uri": "https://localhost:8080/"
        },
        "id": "4LfpgeI_PSGg",
        "outputId": "37673773-574b-4db1-da84-7daa81ec1d36"
      },
      "source": [
        "hallgatok = {\n",
        "  '1Q2W3E': 'Kovács Béla',\n",
        "  'ASD123': 'Nagy Ilona',\n",
        "  'LKJHGF': 'Kiss Mihály'\n",
        "}\n",
        "oktatok = {\n",
        "  '5T6Z7U': 'Okos Tóbiás',\n",
        "  'MNBVCX': 'Professzor Péter'\n",
        "} \n",
        "print('Kollégák:', {**hallgatok, **oktatok}) # unpacking"
      ],
      "execution_count": null,
      "outputs": [
        {
          "output_type": "stream",
          "name": "stdout",
          "text": [
            "Kollégák: {'1Q2W3E': 'Kovács Béla', 'ASD123': 'Nagy Ilona', 'LKJHGF': 'Kiss Mihály', '5T6Z7U': 'Okos Tóbiás', 'MNBVCX': 'Professzor Péter'}\n"
          ]
        }
      ]
    },
    {
      "cell_type": "markdown",
      "metadata": {
        "id": "NZcE5bsJRukA"
      },
      "source": [
        "Vers betűinek előfordulási gyakorisága"
      ]
    },
    {
      "cell_type": "code",
      "metadata": {
        "colab": {
          "base_uri": "https://localhost:8080/"
        },
        "id": "P5QNE69ERz2E",
        "outputId": "7a5260bf-ec00-492b-d0e2-85266485740d"
      },
      "source": [
        "vers = '''\n",
        "Ej, mi a kő! tyúkanyó, kend\n",
        "A szobában lakik itt bent?\n",
        "Lám, csak jó az isten, jót ád,\n",
        "Hogy fölvitte a kend dolgát!\n",
        " \n",
        "Itt szaladgál föl és alá,\n",
        "Még a ládára is fölszáll,\n",
        "Eszébe jut, kotkodácsol,\n",
        "S nem verik ki a szobából.\n",
        " \n",
        "Dehogy verik, dehogy verik!\n",
        "Mint a galambot etetik,\n",
        "Válogat a kendermagban,\n",
        "A kiskirály sem él jobban.\n",
        " \n",
        "Ezért aztán, tyúkanyó, hát\n",
        "Jól megbecsűlje kend magát,\n",
        "Iparkodjék, ne legyen ám\n",
        "Tojás szűkében az anyám. -\n",
        " \n",
        "Morzsa kutyánk, hegyezd füled,\n",
        "Hadd beszélek mostan veled,\n",
        "Régi cseléd vagy a háznál,\n",
        "Mindig emberűl szolgáltál,\n",
        " \n",
        "Ezután is jó légy, Morzsa,\n",
        "Kedvet ne kapj a tyúkhusra,\n",
        "Élj a tyúkkal barátságba'...\n",
        "Anyám egyetlen jószága.\n",
        "'''\n",
        "gyakorisag = {} # üres szótár\n",
        "for b in vers:\n",
        "  b = b.lower()\n",
        "  gyakorisag[b] = gyakorisag.get(b, 0) + 1 # a kulcshoz tartozó értéket szolgáltatja, ha a kulcs létezik, különben 0-t\n",
        "print(gyakorisag)"
      ],
      "execution_count": null,
      "outputs": [
        {
          "output_type": "stream",
          "text": [
            "{'\\n': 30, 'e': 45, 'j': 13, ',': 24, ' ': 89, 'm': 18, 'i': 20, 'a': 44, 'k': 30, 'ő': 1, '!': 3, 't': 33, 'y': 18, 'ú': 4, 'n': 26, 'ó': 8, 'd': 20, 's': 26, 'z': 18, 'o': 18, 'b': 16, 'á': 29, 'l': 34, '?': 1, 'c': 4, 'h': 8, 'g': 21, 'f': 4, 'ö': 3, 'v': 8, 'é': 12, 'r': 14, 'u': 4, '.': 7, 'ű': 3, 'p': 2, '-': 1, 'ü': 1, \"'\": 1}\n"
          ],
          "name": "stdout"
        }
      ]
    },
    {
      "cell_type": "markdown",
      "metadata": {
        "id": "n0Vk28atofed"
      },
      "source": [
        "Szótárban nagyon gyorsan kereshetünk (a mindig egyedi) kulcs szerint."
      ]
    },
    {
      "cell_type": "code",
      "metadata": {
        "colab": {
          "base_uri": "https://localhost:8080/"
        },
        "id": "3CsubwhZmc17",
        "outputId": "f1e15edc-48e9-4f04-9bb6-48fe89406efd"
      },
      "source": [
        "targyak = {\n",
        "    'GKNB_INTM012' : {\n",
        "        'nev' : 'Számítógépek működése',\n",
        "        'eloadas' : 3,\n",
        "        'gyakorlat' : 2,\n",
        "        'felev' : 1\n",
        "    },\n",
        "    'GKNB_INTM021' : {\n",
        "        'nev' : 'Programozás',\n",
        "        'eloadas' : 2,\n",
        "        'gyakorlat' : 2,\n",
        "        'felev' : 2\n",
        "    },\n",
        "    'GKNB_INTM085' : {\n",
        "        'nev' : 'OO programozás',\n",
        "        'eloadas' : 1,\n",
        "        'gyakorlat' : 3,\n",
        "        'felev' : 3\n",
        "    }\n",
        "}\n",
        "neptun = input('Mi a tárgy Neptun kódja? ')\n",
        "if neptun in targyak:\n",
        "  print('A tárgy neve:', targyak[neptun]['nev'])\n",
        "  print('Előadások óraszáma hetente:', targyak[neptun]['eloadas'])\n",
        "  print('Gyakorlatok óraszáma hetente:', targyak[neptun]['gyakorlat'])\n",
        "  print('Ajánlott félév:', targyak[neptun]['felev'])\n",
        "else:\n",
        "  print('Nincs ilyen kódú tárgy a nyilvántartásban.')"
      ],
      "execution_count": null,
      "outputs": [
        {
          "output_type": "stream",
          "text": [
            "Mi a tárgy Neptun kódja? GKNB_INTM021\n",
            "A tárgy neve: Programozás\n",
            "Előadások óraszáma hetente: 2\n",
            "Gyakorlatok óraszáma hetente: 2\n",
            "Ajánlott félév: 2\n"
          ],
          "name": "stdout"
        }
      ]
    },
    {
      "cell_type": "code",
      "metadata": {
        "colab": {
          "base_uri": "https://localhost:8080/"
        },
        "id": "TdkfJomEXZKx",
        "outputId": "52aabd03-8472-4998-e64c-ce0d2be38820"
      },
      "source": [
        "emoji = {\n",
        "    ':)' : '\\N{grinning face}',\n",
        "    '>:|' : '\\N{angry face}'\n",
        "}\n",
        "print(emoji[':)'])"
      ],
      "execution_count": null,
      "outputs": [
        {
          "output_type": "stream",
          "text": [
            "😀\n"
          ],
          "name": "stdout"
        }
      ]
    },
    {
      "cell_type": "markdown",
      "source": [
        "A kicsomagolás (unpacking) használható szótárakkal is, pl. két szótár tartalmának összefésülésére."
      ],
      "metadata": {
        "id": "m7Uzc0JQ0S5Z"
      }
    },
    {
      "cell_type": "code",
      "source": [
        "betuk1 = {\n",
        "    'a' : 1,\n",
        "    'b' : 2,\n",
        "    'c' : 3\n",
        "}\n",
        "betuk2 = {\n",
        "    'c' : 4,\n",
        "    'd' : 5,\n",
        "    'e' : 6\n",
        "}\n",
        "mindenBetu = {**betuk1, **betuk2}\n",
        "print(mindenBetu)"
      ],
      "metadata": {
        "colab": {
          "base_uri": "https://localhost:8080/"
        },
        "id": "wsD7482s0Yju",
        "outputId": "0146b2f1-5e8c-466c-dbfc-ad09280b3c81"
      },
      "execution_count": null,
      "outputs": [
        {
          "output_type": "stream",
          "name": "stdout",
          "text": [
            "{'a': 1, 'b': 2, 'c': 4, 'd': 5, 'e': 6}\n"
          ]
        }
      ]
    },
    {
      "cell_type": "markdown",
      "source": [
        "Szótár készítése listából, comprehensionnel"
      ],
      "metadata": {
        "id": "rqRlvjQ-0wos"
      }
    },
    {
      "cell_type": "code",
      "source": [
        "lista = [\"Aladár\", \"Béla\", \"Cili\"]\n",
        "szotar = {kulcs:ertek for (kulcs, ertek) in enumerate(lista)}\n",
        "print(szotar)"
      ],
      "metadata": {
        "colab": {
          "base_uri": "https://localhost:8080/"
        },
        "id": "lP_wjJdJ0zhe",
        "outputId": "bcb4e0f1-37f9-45b8-d7c6-1ee41e967602"
      },
      "execution_count": null,
      "outputs": [
        {
          "output_type": "stream",
          "name": "stdout",
          "text": [
            "{0: 'Aladár', 1: 'Béla', 2: 'Cili'}\n"
          ]
        }
      ]
    },
    {
      "cell_type": "markdown",
      "source": [
        "## Iterálás egyszerre két szekvencián\n",
        "\n",
        "Időnként szükségünk van rá, hogy két lista azonos indexű elemeivel végezzünk műveletet, pl. egy számla végösszegénének kiszámításához ismerni kell az egységárat és a mennyiséget. Ezt jelenlegi tudásunkkal pl. így oldhatjuk meg:"
      ],
      "metadata": {
        "id": "H--2hSsC7O8x"
      }
    },
    {
      "cell_type": "code",
      "source": [
        "mennyiseg = (1, 2, 3)\n",
        "egysegar = (10, 20, 30)\n",
        "szorzatOsszeg = 0\n",
        "for i in range(min(len(mennyiseg), len(egysegar))):\n",
        "  szorzatOsszeg += mennyiseg[i] * egysegar[i]\n",
        "print('Mindösszesen:', szorzatOsszeg)"
      ],
      "metadata": {
        "colab": {
          "base_uri": "https://localhost:8080/"
        },
        "id": "QceJh-lJEm8K",
        "outputId": "d80eb260-89da-4c8d-c01f-eec1315d1d4d"
      },
      "execution_count": null,
      "outputs": [
        {
          "output_type": "stream",
          "name": "stdout",
          "text": [
            "Mindösszesen: 140\n"
          ]
        }
      ]
    },
    {
      "cell_type": "markdown",
      "source": [
        "Ugyanerre az eredményre juthatunk a *zip* függvénnyel is, ami összepárosítja a paraméterként adott *n* darab szekvencia soron következő elemeit, és egyetlen tuple-ben a rendelkezésünkre bocsátja:"
      ],
      "metadata": {
        "id": "DGdEiboiII6c"
      }
    },
    {
      "cell_type": "code",
      "source": [
        "mennyiseg = (1, 2, 3)\n",
        "tenyezok2 = (10, 20, 30)\n",
        "szorzatOsszeg = 0\n",
        "for par in zip(mennyiseg, egysegar):\n",
        "  szorzatOsszeg += par[0] * par[1]\n",
        "print('Mindösszesen:', szorzatOsszeg)"
      ],
      "metadata": {
        "colab": {
          "base_uri": "https://localhost:8080/"
        },
        "id": "XgmO9QHPHS6s",
        "outputId": "4b51be8e-7ca6-4d47-e06a-f0379e681963"
      },
      "execution_count": null,
      "outputs": [
        {
          "output_type": "stream",
          "name": "stdout",
          "text": [
            "Mindösszesen: 140\n"
          ]
        }
      ]
    },
    {
      "cell_type": "code",
      "source": [
        "mennyiseg = (1, 2, 3)\n",
        "egysegar = (10, 20, 30)\n",
        "for par in zip(mennyiseg, egysegar):\n",
        "  print(par, type(par)) # tényleg tuple"
      ],
      "metadata": {
        "colab": {
          "base_uri": "https://localhost:8080/"
        },
        "id": "FsZrNzAlHlz4",
        "outputId": "043926a9-b4a8-416d-ea13-f410cba2d4ce"
      },
      "execution_count": null,
      "outputs": [
        {
          "output_type": "stream",
          "name": "stdout",
          "text": [
            "(1, 10) <class 'tuple'>\n",
            "(2, 20) <class 'tuple'>\n",
            "(3, 30) <class 'tuple'>\n"
          ]
        }
      ]
    },
    {
      "cell_type": "markdown",
      "source": [
        "Ha nem egyforma elemszámúak a szekvenciák, a legrövidebb végének elérésekor leáll."
      ],
      "metadata": {
        "id": "OaMAKW-qIgIX"
      }
    },
    {
      "cell_type": "code",
      "source": [
        "mennyiseg = (1, 2, 3, 4, 5, 6, 7, 8, 9, 10)\n",
        "egysegar = (10, 20, 30)\n",
        "for par in zip(mennyiseg, egysegar):\n",
        "  print(par, type(par))"
      ],
      "metadata": {
        "colab": {
          "base_uri": "https://localhost:8080/"
        },
        "id": "oYCz4TmcIm2Q",
        "outputId": "43766484-b93f-4f53-85d4-6485ec231cdb"
      },
      "execution_count": null,
      "outputs": [
        {
          "output_type": "stream",
          "name": "stdout",
          "text": [
            "(1, 10) <class 'tuple'>\n",
            "(2, 20) <class 'tuple'>\n",
            "(3, 30) <class 'tuple'>\n"
          ]
        }
      ]
    },
    {
      "cell_type": "markdown",
      "source": [
        "Ha nincs szükségünk a tuple-re, ki is bonthatjuk azt külön változókba:"
      ],
      "metadata": {
        "id": "FUdtzK8vJyuP"
      }
    },
    {
      "cell_type": "code",
      "source": [
        "mennyiseg = (1, 2, 3)\n",
        "egysegar = (10, 20, 30)\n",
        "szorzatOsszeg = 0\n",
        "for m, e in zip(mennyiseg, egysegar): # unpacking\n",
        "  szorzatOsszeg += m * e\n",
        "print('Mindösszesen:', szorzatOsszeg)"
      ],
      "metadata": {
        "colab": {
          "base_uri": "https://localhost:8080/"
        },
        "id": "bhQgkwszJNat",
        "outputId": "74b9bf8f-0069-4afc-c72f-118ab727804e"
      },
      "execution_count": null,
      "outputs": [
        {
          "output_type": "stream",
          "name": "stdout",
          "text": [
            "Mindösszesen: 140\n"
          ]
        }
      ]
    },
    {
      "cell_type": "markdown",
      "source": [
        "Egyesíthetjük vagy szétbonthatunk vele szekvenciákat:"
      ],
      "metadata": {
        "id": "2Fs4xz2zL_Ko"
      }
    },
    {
      "cell_type": "code",
      "source": [
        "mennyiseg = (1, 2, 3)\n",
        "egysegar = (10, 20, 30)\n",
        "*tetelek, = zip(mennyiseg, egysegar)\n",
        "print(tetelek)"
      ],
      "metadata": {
        "colab": {
          "base_uri": "https://localhost:8080/"
        },
        "id": "VrKBwz1_LzGy",
        "outputId": "77db7b8c-7d17-4228-d839-1be37528910d"
      },
      "execution_count": null,
      "outputs": [
        {
          "output_type": "stream",
          "name": "stdout",
          "text": [
            "[(1, 10), (2, 20), (3, 30)]\n"
          ]
        }
      ]
    },
    {
      "cell_type": "code",
      "source": [
        "tetelek = [(1, 10), (2, 20), (3, 30)]\n",
        "mennyiseg, egysegar = zip(*tetelek)\n",
        "print(mennyiseg, egysegar)"
      ],
      "metadata": {
        "colab": {
          "base_uri": "https://localhost:8080/"
        },
        "id": "lmZkL3X7KNfw",
        "outputId": "43c6b33f-f438-442c-d7f2-1212fbb8f7d4"
      },
      "execution_count": null,
      "outputs": [
        {
          "output_type": "stream",
          "name": "stdout",
          "text": [
            "(1, 2, 3) (10, 20, 30)\n"
          ]
        }
      ]
    },
    {
      "cell_type": "markdown",
      "source": [
        "Szótárak tömeges létrehozásában is segít a zip:"
      ],
      "metadata": {
        "id": "da_fNHkHR761"
      }
    },
    {
      "cell_type": "code",
      "source": [
        "kulcsok = ('Név', 'Neptun', 'Szak')\n",
        "ertekek = (\n",
        "  ('Kovács Béla', 'ABC123', 'Logisztikai mérnök'),\n",
        "  ('Kiss Ramóna', 'A1B2C3', 'Villamosmérnök')\n",
        ")\n",
        "szemelyek = []\n",
        "for ertek in ertekek:\n",
        "  szemelyek.append(dict(zip(kulcsok, ertek)))\n",
        "print(szemelyek)"
      ],
      "metadata": {
        "colab": {
          "base_uri": "https://localhost:8080/"
        },
        "id": "j7Y0COXVNGe5",
        "outputId": "0ef9b966-a7de-4624-dd6c-e6683c4699f2"
      },
      "execution_count": null,
      "outputs": [
        {
          "output_type": "stream",
          "name": "stdout",
          "text": [
            "[{'Név': 'Kovács Béla', 'Neptun': 'ABC123', 'Szak': 'Logisztikai mérnök'}, {'Név': 'Kiss Ramóna', 'Neptun': 'A1B2C3', 'Szak': 'Villamosmérnök'}]\n"
          ]
        }
      ]
    },
    {
      "cell_type": "code",
      "source": [
        "nevek = ('Gizike', 'Marika', 'Borika')\n",
        "for sorszam, nev in zip(range(1, len(nevek)+1), nevek):\n",
        "  print(sorszam, nev)"
      ],
      "metadata": {
        "colab": {
          "base_uri": "https://localhost:8080/"
        },
        "id": "o3w8JNIi790C",
        "outputId": "98863d3e-47eb-4e48-e954-cb2974fa10b7"
      },
      "execution_count": null,
      "outputs": [
        {
          "output_type": "stream",
          "name": "stdout",
          "text": [
            "1 Gizike\n",
            "2 Marika\n",
            "3 Borika\n"
          ]
        }
      ]
    }
  ]
}