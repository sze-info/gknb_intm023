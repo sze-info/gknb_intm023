{
  "nbformat": 4,
  "nbformat_minor": 0,
  "metadata": {
    "colab": {
      "name": "Prg. alapjai, 1. előadás.ipynb",
      "provenance": [],
      "collapsed_sections": []
    },
    "kernelspec": {
      "name": "python3",
      "display_name": "Python 3"
    }
  },
  "cells": [
    {
      "cell_type": "markdown",
      "metadata": {
        "id": "Pyqi8lrzbKx0"
      },
      "source": [
        "# Bevezetés a [Python](https://www.python.org/) nyelvű programozásba\n",
        "\n",
        "## Bevezető\n",
        "\n",
        "Programozás\n",
        "\n",
        "* [Algoritmus + adatstruktúra = program](https://people.inf.ethz.ch/wirth/AD.pdf)\n",
        "* Megvalósítás programnyelv segítségével\n",
        "\n",
        "Algoritmus\n",
        "\n",
        "> Adott feladat megoldására alkalmas véges hosszú lépéssorozat.\n",
        "\n",
        "Adatstruktúra\n",
        "\n",
        "> Adatok tárolásának módja \n",
        "\n",
        "* megoldható feladatok köre\n",
        "* hatékonyság: tárigény és feldolgozási sebesség\n",
        "\n",
        "Néhány programozási nyelv: alacsony → magas szint\n",
        "\n",
        "* gépi kód\n",
        "* assembly\n",
        "* C, C++\n",
        "* Java, C#\n",
        "* Python\n",
        "\n",
        "Forrásszöveg (-kód) → végrehajtható program\n",
        "* Értelmező (interpreter)\n",
        "* Fordító (compiler)\n",
        "* Just-in-time compiler\n",
        "\n",
        "Miért éppen Python? \n",
        "\n",
        "* [Népszerű](https://www.tiobe.com/tiobe-index/)\n",
        "* Tulajdonságok:\n",
        "  * egyszerű, könnyen érthető, nagyon kifejező, tömör nyelv → könnyen tanulható\n",
        "  * rendkívül kiterjedt beépített függvénykönyvtár, széleskörű alkalmazhatóság\n",
        "    * automatizálás\n",
        "    * adatelemzés\n",
        "    * adatbázis-kezelés\n",
        "    * képfeldolgozás\n",
        "    * gépi tanulás\n",
        "    * tudományos alkalmazások\n",
        "    * parancssoros és grafikus felhasználói felület\n",
        "    * webalkalmazások\n",
        "  * több százezer elérhető [külső csomag](https://pypi.org/)\n",
        "  * erős és kiterjedt közösség, rendszeres [konferenciák](https://pycon.org/)\n",
        "  * szabad felhasználású és platformfüggetlen\n",
        "\n",
        "Fejlesztőeszközök\n",
        "\n",
        "* saját számítógépen\n",
        "  * [Visual Studio Code](https://code.visualstudio.com/)\n",
        "  * [Geany](https://www.geany.org/)\n",
        "  * [Jupyter notebook](https://jupyter-notebook.readthedocs.io/en/stable/)\n",
        "* weben\n",
        "  * [Colab](https://colab.research.google.com)\n",
        "  * [repl.it](https://repl.it)\n",
        "\n",
        "Jegyzet, tutorialok, súgó\n",
        "* [Dr. Takács Gábor jegyzete](http://www.sze.hu/~gtakacs/oktatas/pyprog/pyprog_jegyzet.pdf)\n",
        "* [Horváth Ernő, Hollósi János tananyaga](https://github.com/sze-info/sze-academic-python)\n",
        "* [A tárgy segédanyagai](https://github.com/sze-info/gknb_intm023)\n",
        "* [Hivatalos tutorial](https://docs.python.org/3/tutorial/)\n",
        "* [ELTE](http://nyelvek.inf.elte.hu/leirasok/Python/)\n",
        "\n",
        "Python további tulajdonságai\n",
        "* Verziók: (2 vs.) 3\n",
        "* értelmezett nyelv\n",
        "  * dinamikus típusok\n",
        "  * lassú\n",
        "* több paradigmát támogat (struktúrált, objektum-orientált, funkcionális)\n",
        "\n",
        "## Adattípusok\n",
        "\n",
        "Egyszerű típusok:\n",
        "* egész szám\n",
        "* lebegőpontos szám (törtszámok, racionális számok)\n",
        "* komplex szám\n",
        "* karakterlánc (string)\n",
        "* logikai érték (igaz, hamis)\n",
        "* None\n",
        "\n",
        "### Egész számok (int)\n",
        "\n",
        "Főbb tulajdonságok\n",
        "* lehetnek pozitívak vagy negatívak\n",
        "* tetszőlegesen nagy lehet az abszolút értékük, nincs túlcsordulási hiba\n",
        "\n",
        "Elvégezhetű műveletek (operátorok)\n",
        "* összeadás **+**\n",
        "* kivonás **-**\n",
        "* szorzás __*__\n",
        "* (lebegőpontos) osztás **/**\n",
        "* egészosztás **//**\n",
        "* maradékképzés **%**\n",
        "* hatványozás __**__\n",
        "\n",
        "\n",
        "\n",
        "\n",
        "\n"
      ]
    },
    {
      "cell_type": "code",
      "metadata": {
        "colab": {
          "base_uri": "https://localhost:8080/"
        },
        "id": "j_NhUbMswM81",
        "outputId": "8917e548-3a6e-45a7-9bef-31f8f3d94e10"
      },
      "source": [
        "2 + 3 + 4"
      ],
      "execution_count": 6,
      "outputs": [
        {
          "output_type": "execute_result",
          "data": {
            "text/plain": [
              "9"
            ]
          },
          "metadata": {
            "tags": []
          },
          "execution_count": 6
        }
      ]
    },
    {
      "cell_type": "markdown",
      "metadata": {
        "id": "xvJqZjxIw3_G"
      },
      "source": [
        "Itt még nincs jelentősége a szóközöknek, **tagolás**nak, de később még **nagyon fontos lesz**! Ld. még: [PEP 8](https://www.python.org/dev/peps/pep-0008/)"
      ]
    },
    {
      "cell_type": "code",
      "metadata": {
        "colab": {
          "base_uri": "https://localhost:8080/"
        },
        "id": "3JUb7in-xMGY",
        "outputId": "3cd10589-5441-4713-94e0-e74c07fe8059"
      },
      "source": [
        "2+3+4"
      ],
      "execution_count": 7,
      "outputs": [
        {
          "output_type": "execute_result",
          "data": {
            "text/plain": [
              "9"
            ]
          },
          "metadata": {
            "tags": []
          },
          "execution_count": 7
        }
      ]
    },
    {
      "cell_type": "code",
      "metadata": {
        "colab": {
          "base_uri": "https://localhost:8080/"
        },
        "id": "QijUxXVQxPVe",
        "outputId": "4183593b-f5b9-488d-aebd-e5ba6abcf864"
      },
      "source": [
        "2 + 3+4"
      ],
      "execution_count": 8,
      "outputs": [
        {
          "output_type": "execute_result",
          "data": {
            "text/plain": [
              "9"
            ]
          },
          "metadata": {
            "tags": []
          },
          "execution_count": 8
        }
      ]
    },
    {
      "cell_type": "code",
      "metadata": {
        "colab": {
          "base_uri": "https://localhost:8080/"
        },
        "id": "cWSRH7nUwnL6",
        "outputId": "f43de53d-34a9-4ad4-ea73-04be7be3ba1a"
      },
      "source": [
        "-4 - 3"
      ],
      "execution_count": 4,
      "outputs": [
        {
          "output_type": "execute_result",
          "data": {
            "text/plain": [
              "-7"
            ]
          },
          "metadata": {
            "tags": []
          },
          "execution_count": 4
        }
      ]
    },
    {
      "cell_type": "code",
      "metadata": {
        "colab": {
          "base_uri": "https://localhost:8080/"
        },
        "id": "ggniDjECx6fr",
        "outputId": "acdc2691-55a1-494c-c977-c961ee39c5df"
      },
      "source": [
        "5 * 3"
      ],
      "execution_count": 9,
      "outputs": [
        {
          "output_type": "execute_result",
          "data": {
            "text/plain": [
              "15"
            ]
          },
          "metadata": {
            "tags": []
          },
          "execution_count": 9
        }
      ]
    },
    {
      "cell_type": "code",
      "metadata": {
        "colab": {
          "base_uri": "https://localhost:8080/"
        },
        "id": "GTvtLHZEx9uo",
        "outputId": "fb35c1fd-c073-4712-dda5-ba08150bbfff"
      },
      "source": [
        "5 / 3"
      ],
      "execution_count": 10,
      "outputs": [
        {
          "output_type": "execute_result",
          "data": {
            "text/plain": [
              "1.6666666666666667"
            ]
          },
          "metadata": {
            "tags": []
          },
          "execution_count": 10
        }
      ]
    },
    {
      "cell_type": "code",
      "metadata": {
        "colab": {
          "base_uri": "https://localhost:8080/"
        },
        "id": "MQXhq7h5x_xr",
        "outputId": "92ce7518-e64d-4736-9842-04b88a9f3f1a"
      },
      "source": [
        "5 // 3"
      ],
      "execution_count": 11,
      "outputs": [
        {
          "output_type": "execute_result",
          "data": {
            "text/plain": [
              "1"
            ]
          },
          "metadata": {
            "tags": []
          },
          "execution_count": 11
        }
      ]
    },
    {
      "cell_type": "code",
      "metadata": {
        "colab": {
          "base_uri": "https://localhost:8080/"
        },
        "id": "zsRMmhu5yCi3",
        "outputId": "cbcfb8ff-f196-4255-ff8b-fbafd7d04137"
      },
      "source": [
        "5 % 3"
      ],
      "execution_count": 12,
      "outputs": [
        {
          "output_type": "execute_result",
          "data": {
            "text/plain": [
              "2"
            ]
          },
          "metadata": {
            "tags": []
          },
          "execution_count": 12
        }
      ]
    },
    {
      "cell_type": "code",
      "metadata": {
        "colab": {
          "base_uri": "https://localhost:8080/"
        },
        "id": "MRpwZJnoyHS6",
        "outputId": "1e1140b4-5fdf-4bf9-f1db-f2915d90a8c7"
      },
      "source": [
        "2 ** 6"
      ],
      "execution_count": 14,
      "outputs": [
        {
          "output_type": "execute_result",
          "data": {
            "text/plain": [
              "64"
            ]
          },
          "metadata": {
            "tags": []
          },
          "execution_count": 14
        }
      ]
    },
    {
      "cell_type": "code",
      "metadata": {
        "colab": {
          "base_uri": "https://localhost:8080/"
        },
        "id": "gOvp1Wmsy-5s",
        "outputId": "837555c5-9b64-4ddd-8724-88c7424f7593"
      },
      "source": [
        "999999999999999999999999999999999999999999999999999999999999999999999999999999999999999999999 + 1"
      ],
      "execution_count": 17,
      "outputs": [
        {
          "output_type": "execute_result",
          "data": {
            "text/plain": [
              "1000000000000000000000000000000000000000000000000000000000000000000000000000000000000000000000"
            ]
          },
          "metadata": {
            "tags": []
          },
          "execution_count": 17
        }
      ]
    },
    {
      "cell_type": "markdown",
      "metadata": {
        "id": "o_d-Ro-qyd-n"
      },
      "source": [
        "Az adat típusa mindig egyértelműen meghatározott, még ha ezt a programozó explicit módon nem is jelezte."
      ]
    },
    {
      "cell_type": "code",
      "metadata": {
        "colab": {
          "base_uri": "https://localhost:8080/"
        },
        "id": "u9Nk6W1dyoeK",
        "outputId": "a48a2d39-5de5-42e4-8cb2-3732715f8d02"
      },
      "source": [
        "type(42)"
      ],
      "execution_count": 15,
      "outputs": [
        {
          "output_type": "execute_result",
          "data": {
            "text/plain": [
              "int"
            ]
          },
          "metadata": {
            "tags": []
          },
          "execution_count": 15
        }
      ]
    },
    {
      "cell_type": "markdown",
      "metadata": {
        "id": "x3Nrf1llwNbr"
      },
      "source": [
        "type() függvény: adat típusát adja meg\n",
        "\n",
        "Függvény: névvel azonosított programrészlet, melynek működését paraméterekkel lehet befolyásolni, és értéket tud szolgáltatni\n",
        "\n",
        "Kifejezések\n",
        "* adatok (operandusok) és rajtuk végzett műveletek (operátorok) sorozata\n",
        "* adat lehet: konstans (literál) vagy változó\n",
        "* kiértékelési sorrend befolyásolható (többszintű) zárójelezéssel\n",
        "* [műveletek precedenciája](https://docs.python.org/3/reference/expressions.html#operator-precedence) és asszociativitása"
      ]
    },
    {
      "cell_type": "code",
      "metadata": {
        "colab": {
          "base_uri": "https://localhost:8080/"
        },
        "id": "mqpo2lkSzph7",
        "outputId": "dd3aa7bb-e3b1-4e24-e772-99b7a6f5e926"
      },
      "source": [
        "(1 + 2) * (3 + 4)"
      ],
      "execution_count": 18,
      "outputs": [
        {
          "output_type": "execute_result",
          "data": {
            "text/plain": [
              "21"
            ]
          },
          "metadata": {
            "tags": []
          },
          "execution_count": 18
        }
      ]
    },
    {
      "cell_type": "code",
      "metadata": {
        "colab": {
          "base_uri": "https://localhost:8080/"
        },
        "id": "ecTk398d1IBk",
        "outputId": "2c3be06d-9bf3-4ac1-90cd-8bbf6dc6e207"
      },
      "source": [
        "-10**2"
      ],
      "execution_count": 22,
      "outputs": [
        {
          "output_type": "execute_result",
          "data": {
            "text/plain": [
              "-100"
            ]
          },
          "metadata": {
            "tags": []
          },
          "execution_count": 22
        }
      ]
    },
    {
      "cell_type": "code",
      "metadata": {
        "colab": {
          "base_uri": "https://localhost:8080/"
        },
        "id": "hjjpou8-1jsH",
        "outputId": "43c17bdf-42fc-4c02-be39-25ceae31c22c"
      },
      "source": [
        "(-10)**2"
      ],
      "execution_count": 23,
      "outputs": [
        {
          "output_type": "execute_result",
          "data": {
            "text/plain": [
              "100"
            ]
          },
          "metadata": {
            "tags": []
          },
          "execution_count": 23
        }
      ]
    },
    {
      "cell_type": "code",
      "metadata": {
        "colab": {
          "base_uri": "https://localhost:8080/"
        },
        "id": "RrpiIdLr1PY2",
        "outputId": "a832d0d0-ac59-4db2-b05b-f3be8dadeaaa"
      },
      "source": [
        "10**-2"
      ],
      "execution_count": 21,
      "outputs": [
        {
          "output_type": "execute_result",
          "data": {
            "text/plain": [
              "0.01"
            ]
          },
          "metadata": {
            "tags": []
          },
          "execution_count": 21
        }
      ]
    },
    {
      "cell_type": "markdown",
      "metadata": {
        "id": "Mu3jOJpU2dtb"
      },
      "source": [
        "Változó:\n",
        "* név (azonosító)\n",
        "* típus → tárigény\n",
        "* az első hozzárendelés során jön létre (definíció)\n",
        "\n",
        "Hozzárendelési operátor: **=**"
      ]
    },
    {
      "cell_type": "code",
      "metadata": {
        "colab": {
          "base_uri": "https://localhost:8080/",
          "height": 174
        },
        "id": "rhK1qFbC4WH9",
        "outputId": "192a688c-41b0-481d-d4c9-d3a39f61837b"
      },
      "source": [
        "type(nincsilyen)"
      ],
      "execution_count": 29,
      "outputs": [
        {
          "output_type": "error",
          "ename": "NameError",
          "evalue": "ignored",
          "traceback": [
            "\u001b[0;31m---------------------------------------------------------------------------\u001b[0m",
            "\u001b[0;31mNameError\u001b[0m                                 Traceback (most recent call last)",
            "\u001b[0;32m<ipython-input-29-afbd25fc60e7>\u001b[0m in \u001b[0;36m<module>\u001b[0;34m()\u001b[0m\n\u001b[0;32m----> 1\u001b[0;31m \u001b[0mtype\u001b[0m\u001b[0;34m(\u001b[0m\u001b[0mnincsilyen\u001b[0m\u001b[0;34m)\u001b[0m\u001b[0;34m\u001b[0m\u001b[0;34m\u001b[0m\u001b[0m\n\u001b[0m",
            "\u001b[0;31mNameError\u001b[0m: name 'nincsilyen' is not defined"
          ]
        }
      ]
    },
    {
      "cell_type": "code",
      "metadata": {
        "colab": {
          "base_uri": "https://localhost:8080/"
        },
        "id": "lXdeZn892SOO",
        "outputId": "efc7d8da-52d7-44bb-c89c-9d1d3a415676"
      },
      "source": [
        "a = 3\n",
        "b = 4\n",
        "c = a + b + 5\n",
        "c"
      ],
      "execution_count": 25,
      "outputs": [
        {
          "output_type": "execute_result",
          "data": {
            "text/plain": [
              "12"
            ]
          },
          "metadata": {
            "tags": []
          },
          "execution_count": 25
        }
      ]
    },
    {
      "cell_type": "markdown",
      "metadata": {
        "id": "f-xjxWO28QTz"
      },
      "source": [
        "Eredmény megjelenítése: print() függvénnyel"
      ]
    },
    {
      "cell_type": "code",
      "metadata": {
        "colab": {
          "base_uri": "https://localhost:8080/"
        },
        "id": "jawn4Muq82pC",
        "outputId": "e1506d90-1bea-42e1-b237-ce1c04ebbee3"
      },
      "source": [
        "print(c)"
      ],
      "execution_count": 46,
      "outputs": [
        {
          "output_type": "stream",
          "text": [
            "12\n"
          ],
          "name": "stdout"
        }
      ]
    },
    {
      "cell_type": "markdown",
      "metadata": {
        "id": "5qLkGXS39Cp_"
      },
      "source": [
        "Változó típusa is meghatározható"
      ]
    },
    {
      "cell_type": "code",
      "metadata": {
        "colab": {
          "base_uri": "https://localhost:8080/"
        },
        "id": "VE7hduVI4psR",
        "outputId": "b27803f4-5f14-478b-87ad-43600b4273c6"
      },
      "source": [
        "type(c)"
      ],
      "execution_count": 30,
      "outputs": [
        {
          "output_type": "execute_result",
          "data": {
            "text/plain": [
              "int"
            ]
          },
          "metadata": {
            "tags": []
          },
          "execution_count": 30
        }
      ]
    },
    {
      "cell_type": "markdown",
      "metadata": {
        "id": "THsErpva3_QN"
      },
      "source": [
        "Minden aritmetikai operátornak létezik hozzárendeléssel összevont változata."
      ]
    },
    {
      "cell_type": "code",
      "metadata": {
        "colab": {
          "base_uri": "https://localhost:8080/"
        },
        "id": "oNSFS8SX4GWK",
        "outputId": "4702cb7d-4d39-4427-aaf9-3504e31b2d7f"
      },
      "source": [
        "a = 5\n",
        "a *= 2 + 3\n",
        "print(a)"
      ],
      "execution_count": 47,
      "outputs": [
        {
          "output_type": "stream",
          "text": [
            "25\n"
          ],
          "name": "stdout"
        }
      ]
    },
    {
      "cell_type": "markdown",
      "metadata": {
        "id": "sCNalgXk5k9E"
      },
      "source": [
        "## Megjegyzések\n",
        "* a program futását nem befolyásolja, dokumentálási célja van\n",
        "* programok bizonyos részeinek \"hatástalanítására\" is gyakran használják\n",
        "* egysoros megjegyzések **#**\n",
        "* több soros megjegyzések: **'''** és **\"\"\"**"
      ]
    },
    {
      "cell_type": "code",
      "metadata": {
        "id": "3F5WTzwY55s1"
      },
      "source": [
        "'''\n",
        "Szakirodalmi forrás: https://keptelenseg.hu/viccek/a-nap-vicce-51484\n",
        "'''\n",
        "cipő = 38 # A topánka mérete\n",
        "mell = 90 # Kosárméretet ide se merem írni\n",
        "csípő = 60\n",
        "# derék = mell\n",
        "magasság = 170"
      ],
      "execution_count": 48,
      "outputs": []
    },
    {
      "cell_type": "markdown",
      "metadata": {
        "id": "2gKdzltg-rab"
      },
      "source": [
        "## [Lebegőpontos számok](https://hu.wikipedia.org/wiki/Lebeg%C5%91pontos_sz%C3%A1m%C3%A1br%C3%A1zol%C3%A1s) (float)\n",
        "* lehetővé teszik a racionális számok ábrázolását, kezelését\n",
        "* megvalósítás: [IEEE-754](https://www.h-schmidt.net/FloatConverter/IEEE754.html) dupla pontosságú változata (double)\n",
        "* 8 bájt, kb. 15-16 decimális jegy pontosság, ábrázolási határ: ±1.7 x 10<sup>-308</sup>-tól ±1.7 x 10<sup>+308</sup>-ig\n",
        "* de számábrázolási hibák\n",
        "* lassabb műveletvégzés, mint egészekkel"
      ]
    },
    {
      "cell_type": "code",
      "metadata": {
        "colab": {
          "base_uri": "https://localhost:8080/"
        },
        "id": "ZnbFRVWWBFEt",
        "outputId": "71d21767-1634-4c3e-9685-ec77b8de8ff2"
      },
      "source": [
        "pi = 3.14159265358979323846264338327950288419716939937510\n",
        "r = 2\n",
        "print(2. * r * pi)"
      ],
      "execution_count": 49,
      "outputs": [
        {
          "output_type": "stream",
          "text": [
            "12.566370614359172\n"
          ],
          "name": "stdout"
        }
      ]
    },
    {
      "cell_type": "code",
      "metadata": {
        "colab": {
          "base_uri": "https://localhost:8080/"
        },
        "id": "jwnA8ePrBfEj",
        "outputId": "782fd13f-59a2-4b2d-df41-9553e3d39626"
      },
      "source": [
        "print(1.) # elhagyható a törtrész\n",
        "print(.2) # elhagyható az egészrész\n",
        "# de mindkettő nem\n",
        "print(1.2e3) # exponenciális alak\n",
        "print(1E-3) # a kis- és nagy e betű ugyanazt eredményezi\n",
        "print(type(1)) # int típus\n",
        "print(type(1.)) # float típus\n",
        "print(type(1e0)) # ez is"
      ],
      "execution_count": 61,
      "outputs": [
        {
          "output_type": "stream",
          "text": [
            "1.0\n",
            "0.2\n",
            "1200.0\n",
            "0.001\n",
            "<class 'int'>\n",
            "<class 'float'>\n",
            "<class 'float'>\n"
          ],
          "name": "stdout"
        }
      ]
    },
    {
      "cell_type": "markdown",
      "metadata": {
        "id": "vO-8D3FCCnQn"
      },
      "source": [
        "Automatikus típuskonverzió\n",
        "* műveletvégzés csak azonos típusú adatokkal lehetséges\n",
        "* az értelmező rögzített szabályok szerint automatikusan (implicit módon) konvertál\n",
        "* ökölszabály: kisebbről nagyobbra, szűkebb ábrázolási képességű típusról a bővebbre, hogy ne vesszen el információ"
      ]
    },
    {
      "cell_type": "code",
      "metadata": {
        "colab": {
          "base_uri": "https://localhost:8080/"
        },
        "id": "A8KIPIl1C-dq",
        "outputId": "f39f3437-85f3-4494-c145-7757eb7329d9"
      },
      "source": [
        "a = 1\n",
        "b = 2.3\n",
        "c = a + b\n",
        "print(type(a))\n",
        "print(type(b))\n",
        "print(type(c))\n",
        "print(c)"
      ],
      "execution_count": 63,
      "outputs": [
        {
          "output_type": "stream",
          "text": [
            "<class 'int'>\n",
            "<class 'float'>\n",
            "<class 'float'>\n",
            "3.3\n"
          ],
          "name": "stdout"
        }
      ]
    },
    {
      "cell_type": "markdown",
      "metadata": {
        "id": "Jfz5RW_0Dh1l"
      },
      "source": [
        "Menne egyszerűbben is:"
      ]
    },
    {
      "cell_type": "code",
      "metadata": {
        "colab": {
          "base_uri": "https://localhost:8080/"
        },
        "id": "E7uTbqroDkQW",
        "outputId": "365516c0-ba22-42e3-ddfe-d3b4811999fa"
      },
      "source": [
        "type(1 + 2.3)"
      ],
      "execution_count": 64,
      "outputs": [
        {
          "output_type": "execute_result",
          "data": {
            "text/plain": [
              "float"
            ]
          },
          "metadata": {
            "tags": []
          },
          "execution_count": 64
        }
      ]
    },
    {
      "cell_type": "markdown",
      "metadata": {
        "id": "w-c8TN4PERnx"
      },
      "source": [
        "## [Matematikai függvénykönyvtár](https://docs.python.org/3/library/math.html)\n",
        "\n",
        "* a Python [standard függvénykönyvtárának](https://docs.python.org/3/library/index.html) része\n",
        "* import-álni kell a modult\n",
        "* számos matematikai függvényt és állandót biztosít"
      ]
    },
    {
      "cell_type": "code",
      "metadata": {
        "colab": {
          "base_uri": "https://localhost:8080/"
        },
        "id": "pQkYgGb-E8S9",
        "outputId": "2d5a1f8a-71b8-40c0-91e6-8aa1461a85d8"
      },
      "source": [
        "import math\n",
        "r = 1\n",
        "print(2. * r * math.pi)\n",
        "print(r**2 * math.pi)"
      ],
      "execution_count": 68,
      "outputs": [
        {
          "output_type": "stream",
          "text": [
            "6.283185307179586\n",
            "3.141592653589793\n"
          ],
          "name": "stdout"
        }
      ]
    },
    {
      "cell_type": "code",
      "metadata": {
        "colab": {
          "base_uri": "https://localhost:8080/"
        },
        "id": "2Pwif-ceGLP8",
        "outputId": "5fdae582-7984-4f6e-cb82-69d5b5cecdb0"
      },
      "source": [
        "print(math.e) # Euler-konstans\n",
        "print(math.inf) # A \"végtelen\" ábrázolható lebegőpontos típusban\n",
        "print(-math.inf)\n",
        "print(math.nan) # nem szám speciális érték"
      ],
      "execution_count": 75,
      "outputs": [
        {
          "output_type": "stream",
          "text": [
            "2.718281828459045\n",
            "inf\n",
            "-inf\n",
            "nan\n"
          ],
          "name": "stdout"
        }
      ]
    },
    {
      "cell_type": "markdown",
      "metadata": {
        "id": "voECuuZeHQ3C"
      },
      "source": [
        "\"Kerekítések\""
      ]
    },
    {
      "cell_type": "code",
      "metadata": {
        "colab": {
          "base_uri": "https://localhost:8080/"
        },
        "id": "uYoOrY30HqMm",
        "outputId": "716e76aa-ca09-4e72-bef8-027f7635e6c7"
      },
      "source": [
        "szám = 1.4\n",
        "print(math.floor(szám))\n",
        "print(math.ceil(szám))\n",
        "print(round(szám)) # ez nem a matematikai könyvtár része"
      ],
      "execution_count": 78,
      "outputs": [
        {
          "output_type": "stream",
          "text": [
            "1\n",
            "2\n",
            "1\n"
          ],
          "name": "stdout"
        }
      ]
    },
    {
      "cell_type": "markdown",
      "metadata": {
        "id": "uSoxHPj7IuOy"
      },
      "source": [
        "Logaritmus"
      ]
    },
    {
      "cell_type": "code",
      "metadata": {
        "colab": {
          "base_uri": "https://localhost:8080/"
        },
        "id": "HDNeXAIeIxVi",
        "outputId": "76fcbd52-5b92-4923-c331-377dbfa5f171"
      },
      "source": [
        "print(math.log(math.e)) # természetes alap\n",
        "print(math.log(64, 2)) # kettes alap"
      ],
      "execution_count": 86,
      "outputs": [
        {
          "output_type": "stream",
          "text": [
            "1.0\n",
            "6.0\n"
          ],
          "name": "stdout"
        }
      ]
    },
    {
      "cell_type": "markdown",
      "metadata": {
        "id": "xLeYnRSxJLp_"
      },
      "source": [
        "Trigonometrikus függvények\n",
        "* radiánban értelmezik a szögeket!"
      ]
    },
    {
      "cell_type": "code",
      "metadata": {
        "colab": {
          "base_uri": "https://localhost:8080/"
        },
        "id": "AbZOLnyuJOlW",
        "outputId": "7a2ef767-e508-490d-deac-ec40cc7ae37e"
      },
      "source": [
        "print(math.sin(math.pi / 2))\n",
        "print(math.sin(math.radians(270))) # konvertálás fokról radiánra"
      ],
      "execution_count": 91,
      "outputs": [
        {
          "output_type": "stream",
          "text": [
            "1.0\n",
            "-1.0\n"
          ],
          "name": "stdout"
        }
      ]
    },
    {
      "cell_type": "code",
      "metadata": {
        "colab": {
          "base_uri": "https://localhost:8080/"
        },
        "id": "zF7NCaCVJ2_E",
        "outputId": "984aeb0e-dfb1-465e-aaca-976916d800c0"
      },
      "source": [
        "print(math.degrees(math.asin(1)))"
      ],
      "execution_count": 93,
      "outputs": [
        {
          "output_type": "stream",
          "text": [
            "90.0\n"
          ],
          "name": "stdout"
        }
      ]
    }
  ]
}