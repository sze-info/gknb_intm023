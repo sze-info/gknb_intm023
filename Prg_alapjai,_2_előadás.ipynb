{
  "nbformat": 4,
  "nbformat_minor": 0,
  "metadata": {
    "colab": {
      "name": "Prg. alapjai, 2. előadás.ipynb",
      "provenance": []
    },
    "kernelspec": {
      "name": "python3",
      "display_name": "Python 3"
    }
  },
  "cells": [
    {
      "cell_type": "markdown",
      "metadata": {
        "id": "Ri-kkpgYlgAR"
      },
      "source": [
        "# Karakterláncok (string-ek, str) kezelésének alapjai\n",
        "\n",
        "* karakterlánc állandók állhatnak aposztrófok és idézőjelek között is\n",
        "* ha az egyiket használjuk, a másik állhat a string belsejében\n",
        "* bonyolultabb esetekre: [Escape-szekvenciák](https://docs.python.org/3/reference/lexical_analysis.html#string-and-bytes-literals), [Unicode nevek](https://www.unicode.org/Public/UCD/latest/ucd/NamesList.txt)\n",
        "* Alapértelmezett karakterkódolás: UTF-8"
      ]
    },
    {
      "cell_type": "code",
      "metadata": {
        "colab": {
          "base_uri": "https://localhost:8080/",
          "height": 219
        },
        "id": "ypKT9tEZlQCz",
        "outputId": "00431cd9-9d98-433c-e318-e814dc8c9abb"
      },
      "source": [
        "print(type('szöveg')) # szöveges adattípus\n",
        "print('Hahó Python!') # Karakterlánc általában aposztrófok között áll\n",
        "print(\"Szia Balboa!\") # Vagy idézőjelek közt\n",
        "# \\ → hosszú szöveg a következő sorban folytatódik, mögötte nem lehet más\n",
        "print('She\\'s got a smile that it seems to me\\n' \\\n",
        "      'Reminds me of childhood memories\\n' \\\n",
        "      'Where everything was as fresh as the bright blue sky')\n",
        "print('''Nagyvárosi angyal,\n",
        "Újra Téged küldött az Ég,\n",
        "Bár fárad a szárnyad,\n",
        "Tudod, hogy nem pihenhetsz még.''') # Többsoros string. Használható \"\"\"-lel is\n",
        "\"\"\"\n",
        "Hosszú megjegyzéseket is készítenek \n",
        "többsoros string literálokkal, amiket\n",
        "nem rendelnek hozzá változóhoz, és\n",
        "más módon sem hasznosítják.\n",
        "\"\"\""
      ],
      "execution_count": null,
      "outputs": [
        {
          "output_type": "stream",
          "text": [
            "<class 'str'>\n",
            "Hahó Python!\n",
            "Szia Balboa!\n",
            "She's got a smile that it seems to me\n",
            "Reminds me of childhood memories\n",
            "Where everything was as fresh as the bright blue sky\n",
            "Nagyvárosi angyal,\n",
            "Újra Téged küldött az Ég,\n",
            "Bár fárad a szárnyad,\n",
            "Tudod, hogy nem pihenhetsz még.\n"
          ],
          "name": "stdout"
        },
        {
          "output_type": "execute_result",
          "data": {
            "application/vnd.google.colaboratory.intrinsic+json": {
              "type": "string"
            },
            "text/plain": [
              "'\\nHosszú megjegyzéseket is készítenek \\ntöbbsoros string literálokkal, amiket\\nnem rendelnek hozzá változóhoz, és\\nmás módon sem hasznosítják.\\n'"
            ]
          },
          "metadata": {
            "tags": []
          },
          "execution_count": 23
        }
      ]
    },
    {
      "cell_type": "code",
      "metadata": {
        "colab": {
          "base_uri": "https://localhost:8080/"
        },
        "id": "z81xMkTrCICg",
        "outputId": "663cd0c2-550d-4ba7-bc48-d2af49e96c7f"
      },
      "source": [
        "print(\"Guns 'n' Roses\") # aposztrófok nyomtatása idézőjelek között\n",
        "print('Dwayne \"The Rock\" Johnson') # vagy fordítva\n",
        "print('Hogyan lehet \\'-t és \\\"-t is megjeleníteni egyszerre?') # Escape sorozatok\n",
        "print('\\N{euro sign}') # Különleges karakterek nyomtatása unicode nvükkel\n",
        "print('\\u20AC') # vagy kódjukkal lehetséges"
      ],
      "execution_count": null,
      "outputs": [
        {
          "output_type": "stream",
          "text": [
            "Guns 'n' Roses\n",
            "Dwayne \"The Rock\" Johnson\n",
            "Hogyan lehet '-t és \"-t is megjeleníteni egyszerre?\n",
            "€\n",
            "€\n"
          ],
          "name": "stdout"
        }
      ]
    },
    {
      "cell_type": "markdown",
      "metadata": {
        "id": "5BNJmX2z_ooj"
      },
      "source": [
        "Karakterláncokkal használható operátorok"
      ]
    },
    {
      "cell_type": "code",
      "metadata": {
        "colab": {
          "base_uri": "https://localhost:8080/"
        },
        "id": "CUj1aU9-_tby",
        "outputId": "c302c28e-24ee-4db6-e77c-1f2437523b74"
      },
      "source": [
        "print('Egyszer ' + 'volt ' + 'egy ' + 'majom\\n' + 'Ez ' + 'volt ' + 'az ' + 'én ' + 'bajom.') # összefűzés\n",
        "print('rat' in 'tattaratta') # tartalmazás\n",
        "print('RAT' in 'tattaratta') # megkülönbözteti a kis- és nagybetűket\n",
        "print('RAT' not in 'tattaratta') # nem tartalmazás\n",
        "print('Szöveg'[0]) # Indexeléssel elérhető egy-egy betű, stringként"
      ],
      "execution_count": null,
      "outputs": [
        {
          "output_type": "stream",
          "text": [
            "Egyszer volt egy majom\n",
            "Ez volt az én bajom.\n",
            "True\n",
            "False\n",
            "True\n",
            "S\n"
          ],
          "name": "stdout"
        }
      ]
    },
    {
      "cell_type": "code",
      "metadata": {
        "colab": {
          "base_uri": "https://localhost:8080/",
          "height": 193
        },
        "id": "5-FL2DcV9HYf",
        "outputId": "1d95b335-44ce-4610-851c-2cdbf7bd7fb9"
      },
      "source": [
        "str = 'Csacska macska';\n",
        "str[0] = 'c' # a string nem módosítható, ún. immutable object"
      ],
      "execution_count": null,
      "outputs": [
        {
          "output_type": "error",
          "ename": "TypeError",
          "evalue": "ignored",
          "traceback": [
            "\u001b[0;31m---------------------------------------------------------------------------\u001b[0m",
            "\u001b[0;31mTypeError\u001b[0m                                 Traceback (most recent call last)",
            "\u001b[0;32m<ipython-input-25-3feaa8ad4aa6>\u001b[0m in \u001b[0;36m<module>\u001b[0;34m()\u001b[0m\n\u001b[1;32m      1\u001b[0m \u001b[0mstr\u001b[0m \u001b[0;34m=\u001b[0m \u001b[0;34m'Csacska macska'\u001b[0m\u001b[0;34m;\u001b[0m\u001b[0;34m\u001b[0m\u001b[0;34m\u001b[0m\u001b[0m\n\u001b[0;32m----> 2\u001b[0;31m \u001b[0mstr\u001b[0m\u001b[0;34m[\u001b[0m\u001b[0;36m0\u001b[0m\u001b[0;34m]\u001b[0m \u001b[0;34m=\u001b[0m \u001b[0;34m'c'\u001b[0m \u001b[0;31m# a string nem módosítható, ún. immutable object\u001b[0m\u001b[0;34m\u001b[0m\u001b[0;34m\u001b[0m\u001b[0m\n\u001b[0m",
            "\u001b[0;31mTypeError\u001b[0m: 'str' object does not support item assignment"
          ]
        }
      ]
    },
    {
      "cell_type": "code",
      "metadata": {
        "colab": {
          "base_uri": "https://localhost:8080/"
        },
        "id": "dL4DafR49M--",
        "outputId": "18b6d77d-db76-48da-97ed-a6e72b9a651f"
      },
      "source": [
        "str = 'Cica'\n",
        "print(str[0:4]) # rész-karakterlánc előállítása [kezdőIndex, végIndex) alapján (slicing)\n",
        "print(str[0:2])\n",
        "print(str[:2]) # alapértelmezett kezdőIndex = 0\n",
        "print(str[2:4])\n",
        "print(str[2:]) # alapértelmezett végIndex = karakterlánc hossza\n",
        "print(str[:-2]) # negatív index is használható; hátulról a második betű már nem kerül a részsztringbe\n",
        "print(str[:]) # a teljes stringet adja vissza, másolatként"
      ],
      "execution_count": null,
      "outputs": [
        {
          "output_type": "stream",
          "text": [
            "Cica\n",
            "Ci\n",
            "Ci\n",
            "ca\n",
            "ca\n",
            "Ci\n",
            "Cica\n"
          ],
          "name": "stdout"
        }
      ]
    },
    {
      "cell_type": "code",
      "metadata": {
        "colab": {
          "base_uri": "https://localhost:8080/"
        },
        "id": "9y4p_pVQ_jYj",
        "outputId": "d03d0a78-6999-4eca-c848-b28b5c23725d"
      },
      "source": [
        "print(str[::2]) # megadható lépésköz is; 0 kezdőIndex, 2 lépsköz → minden páros indexű betű\n",
        "print(str[1::2]) # minden páratlan indexű\n",
        "print(str[0:4:1]) # minden betű, jó bonyolultan"
      ],
      "execution_count": null,
      "outputs": [
        {
          "output_type": "stream",
          "text": [
            "Cc\n",
            "ia\n",
            "Cica\n"
          ],
          "name": "stdout"
        }
      ]
    },
    {
      "cell_type": "markdown",
      "metadata": {
        "id": "UfX_suYzDIE_"
      },
      "source": [
        "Függvények\n",
        "\n",
        "* Metódus: olyan függvény, ami mindig egy objektum adatain végez műveleteket\n",
        "* Objektum: adat és a rajta végezhetű műveletek (függvények) egysége\n",
        "* [String metódusok](https://docs.python.org/3/library/stdtypes.html#string-methods)"
      ]
    },
    {
      "cell_type": "code",
      "metadata": {
        "colab": {
          "base_uri": "https://localhost:8080/"
        },
        "id": "NzjwTERWAR0e",
        "outputId": "ac1ffe31-015e-4efe-fbf7-d785b5963005"
      },
      "source": [
        "print(len('Éva')) # visszaadja a szting hosszát (betűk számát)\n",
        "print('   \\tFehér karakterek     \\n   '.strip()) # kezdő és záró fehér karakterek eltávolítása\n",
        "print('Abc'.isalpha()) # csak betűt tartalmaz?\n",
        "print('123'.isdigit()) # csak számjegy karaktert tartalmaz?\n",
        "print('Kiscica'.find('ica')) # első előfordulás indexét szolgáltatja\n",
        "print('szovegfajl.txt'.endswith('txt')) # mire végződik?\n",
        "print('Nemecsek'.lower()) # kisbetűre konvertál"
      ],
      "execution_count": null,
      "outputs": [
        {
          "output_type": "stream",
          "text": [
            "3\n",
            "Fehér karakterek\n",
            "True\n",
            "True\n",
            "4\n",
            "True\n",
            "nemecsek\n"
          ],
          "name": "stdout"
        }
      ]
    },
    {
      "cell_type": "markdown",
      "metadata": {
        "id": "fPV5VO4KiKeJ"
      },
      "source": [
        "# Adatok beolvasása, kiírása és konverziója\n",
        "\n",
        "Határozzuk meg egy háromszög kerületét és területét!"
      ]
    },
    {
      "cell_type": "code",
      "metadata": {
        "colab": {
          "base_uri": "https://localhost:8080/"
        },
        "id": "ejARJysyiTqs",
        "outputId": "c595ec7c-b87f-4050-f2f5-8e810e7288b2"
      },
      "source": [
        "import math\n",
        "\n",
        "a = 3\n",
        "b = 4\n",
        "c = 5\n",
        "\n",
        "k = a + b + c\n",
        "# https://hu.wikipedia.org/wiki/H%C3%A9r%C3%B3n-k%C3%A9plet\n",
        "s = k / 2\n",
        "t = math.sqrt(s * (s - a) * (s - b) * (s - c))\n",
        "print('A háromszög kerülete:')\n",
        "print(k)\n",
        "print('Területe:')\n",
        "print(t)"
      ],
      "execution_count": null,
      "outputs": [
        {
          "output_type": "stream",
          "text": [
            "A háromszög kerülete:\n",
            "12\n",
            "Területe:\n",
            "6.0\n"
          ],
          "name": "stdout"
        }
      ]
    },
    {
      "cell_type": "markdown",
      "metadata": {
        "id": "6jAAEcXejcfp"
      },
      "source": [
        "Problémák:\n",
        "1. új háromszöggel végzett munkához mindig át kell írni a kódot\n",
        "2. eredmények kijelzése körülményes\n",
        "3. minden új sorba kerül\n",
        "4. tizedes jegyek száma változik, formázás nem egységes\n",
        "\n",
        "Megoldások:\n",
        "\n",
        "1. beolvasás **input()**-tal (a visszatérési érték string típusú)"
      ]
    },
    {
      "cell_type": "code",
      "metadata": {
        "colab": {
          "base_uri": "https://localhost:8080/"
        },
        "id": "piVXtI42kOIe",
        "outputId": "a0d51d8f-1bf5-4df2-a7f4-13be040160d4"
      },
      "source": [
        "print('Add meg a neved!')\n",
        "nev = input() # adat beolvasása\n",
        "nev = 'Szia ' + nev + '!'\n",
        "print(nev)"
      ],
      "execution_count": null,
      "outputs": [
        {
          "output_type": "stream",
          "text": [
            "Add meg a neved!\n",
            "Viki\n",
            "Szia Viki!\n"
          ],
          "name": "stdout"
        }
      ]
    },
    {
      "cell_type": "code",
      "metadata": {
        "colab": {
          "base_uri": "https://localhost:8080/"
        },
        "id": "XYTpeAcDkmYo",
        "outputId": "38f0576e-fe78-48f1-d665-33ff2325c031"
      },
      "source": [
        "nev = input('Add meg a neved! ') # a bekért adathoz tájékoztató szöveg adható\n",
        "nev = 'Szia ' + nev + '!'\n",
        "print(nev)"
      ],
      "execution_count": null,
      "outputs": [
        {
          "output_type": "stream",
          "text": [
            "Add meg a neved! Miklós\n",
            "Szia Miklós!\n"
          ],
          "name": "stdout"
        }
      ]
    },
    {
      "cell_type": "code",
      "metadata": {
        "colab": {
          "base_uri": "https://localhost:8080/",
          "height": 193
        },
        "id": "Tmt_xotylC4k",
        "outputId": "66d8008b-27f4-46ca-f131-281459eca11a"
      },
      "source": [
        "k = 12\n",
        "uzenet = 'A háromszög kerülete: ' + k # aritmetikai és szöveges adatokat nem tud automatikusan azonos típusúra alakítani"
      ],
      "execution_count": null,
      "outputs": [
        {
          "output_type": "error",
          "ename": "TypeError",
          "evalue": "ignored",
          "traceback": [
            "\u001b[0;31m---------------------------------------------------------------------------\u001b[0m",
            "\u001b[0;31mTypeError\u001b[0m                                 Traceback (most recent call last)",
            "\u001b[0;32m<ipython-input-8-bc9f830caaf3>\u001b[0m in \u001b[0;36m<module>\u001b[0;34m()\u001b[0m\n\u001b[1;32m      1\u001b[0m \u001b[0mk\u001b[0m \u001b[0;34m=\u001b[0m \u001b[0;36m6\u001b[0m\u001b[0;34m\u001b[0m\u001b[0;34m\u001b[0m\u001b[0m\n\u001b[0;32m----> 2\u001b[0;31m \u001b[0muzenet\u001b[0m \u001b[0;34m=\u001b[0m \u001b[0;34m'A háromszög kerülete: '\u001b[0m \u001b[0;34m+\u001b[0m \u001b[0mk\u001b[0m \u001b[0;31m# aritmetikai és szöveges adatokat nem tud automatikusan azonos típusúra alakítani\u001b[0m\u001b[0;34m\u001b[0m\u001b[0;34m\u001b[0m\u001b[0m\n\u001b[0m",
            "\u001b[0;31mTypeError\u001b[0m: can only concatenate str (not \"int\") to str"
          ]
        }
      ]
    },
    {
      "cell_type": "markdown",
      "metadata": {
        "id": "yIjMByYOmEzt"
      },
      "source": [
        "Megoldás a 2-3. problémára: explicit típuskonverzió"
      ]
    },
    {
      "cell_type": "code",
      "metadata": {
        "colab": {
          "base_uri": "https://localhost:8080/"
        },
        "id": "kIMx9en-lXd6",
        "outputId": "1b1ff057-c9fe-45eb-d1ae-8de82f60d560"
      },
      "source": [
        "k = 12\n",
        "t = 6.0\n",
        "uzenet = 'A háromszög kerülete: ' + str(k) + '\\nTerülete: ' + str(t)\n",
        "print(uzenet)"
      ],
      "execution_count": null,
      "outputs": [
        {
          "output_type": "stream",
          "text": [
            "A háromszög kerülete: 12\n",
            "Területe: 6.0\n"
          ],
          "name": "stdout"
        }
      ]
    },
    {
      "cell_type": "code",
      "metadata": {
        "colab": {
          "base_uri": "https://localhost:8080/"
        },
        "id": "Vcy-4acdol36",
        "outputId": "16299590-7726-4488-a4f1-b89b931b9b37"
      },
      "source": [
        "type(int('123'))"
      ],
      "execution_count": null,
      "outputs": [
        {
          "output_type": "execute_result",
          "data": {
            "text/plain": [
              "int"
            ]
          },
          "metadata": {
            "tags": []
          },
          "execution_count": 11
        }
      ]
    },
    {
      "cell_type": "code",
      "metadata": {
        "colab": {
          "base_uri": "https://localhost:8080/"
        },
        "id": "gORWkVIVoqYH",
        "outputId": "973e7b2d-da54-4283-ef97-30f70779362c"
      },
      "source": [
        "type(float('3.14'))"
      ],
      "execution_count": null,
      "outputs": [
        {
          "output_type": "execute_result",
          "data": {
            "text/plain": [
              "float"
            ]
          },
          "metadata": {
            "tags": []
          },
          "execution_count": 12
        }
      ]
    },
    {
      "cell_type": "markdown",
      "metadata": {
        "id": "NX5tAHwXmgvH"
      },
      "source": [
        "Alternatíva: \n",
        "* a **print()** több paramétert is képes fogadni, ezeket egymás után nyomtatja\n",
        "* alapértelmezetten szóközökkel választja el az adatokat, és\n",
        "* új sor karakterrel zárja a kiírást,\n",
        "* de mindkettő testre szabható."
      ]
    },
    {
      "cell_type": "code",
      "metadata": {
        "colab": {
          "base_uri": "https://localhost:8080/"
        },
        "id": "-hUpaRUqmVEl",
        "outputId": "e1d43b72-0572-4831-cdd0-62088a9deba0"
      },
      "source": [
        "k = 12\n",
        "t = 6.0\n",
        "print('A háromszög kerülete:', k)\n",
        "print('Területe:', t)"
      ],
      "execution_count": null,
      "outputs": [
        {
          "output_type": "stream",
          "text": [
            "A háromszög kerülete: 12\n",
            "Területe: 6.0\n"
          ],
          "name": "stdout"
        }
      ]
    },
    {
      "cell_type": "code",
      "metadata": {
        "colab": {
          "base_uri": "https://localhost:8080/"
        },
        "id": "E2ETWfmLozeT",
        "outputId": "9b16824f-0834-40d0-b2f5-b63f0654cea0"
      },
      "source": [
        "print('egy', 'kettő', 'három', sep=', ') # elválasztó jel(ek)\n",
        "print('egy', 'kettő', 'három', sep='')\n",
        "\n",
        "print('egy', end=' ') # sorvégjel(ek)\n",
        "print('kettő', end='')\n",
        "print(' három')\n",
        "\n",
        "print('egy', 'kettő', 'három', sep=', ', end=', ') # kombinálhatóak is\n",
        "print('négy')"
      ],
      "execution_count": null,
      "outputs": [
        {
          "output_type": "stream",
          "text": [
            "egy, kettő, három\n",
            "egykettőhárom\n",
            "egy kettő három\n",
            "egy, kettő, három, négy\n"
          ],
          "name": "stdout"
        }
      ]
    },
    {
      "cell_type": "markdown",
      "metadata": {
        "id": "ot7dAvKSupHA"
      },
      "source": [
        "Megoldás a 4. problémára: az **f-string**-ek használata (Python 3.6+)\n",
        "* a string literál elé egy **f** betű kerül\n",
        "* literálon belül **{** és **}** közé bármilyen kifejezés írható, értéke behelyettesítésre kerül\n",
        "* az érték formázható egy **:**-ot követő [*formátumstring*](https://docs.python.org/3/library/string.html#format-specification-mini-language)-gel\n"
      ]
    },
    {
      "cell_type": "code",
      "metadata": {
        "colab": {
          "base_uri": "https://localhost:8080/"
        },
        "id": "XF9LAwv0tuqu",
        "outputId": "cf83df0f-c782-44c2-ad3b-14241c219dd6"
      },
      "source": [
        "import math\n",
        "print(f'\\N{Greek Small Letter Pi} értéke: {math.pi:.3f}')"
      ],
      "execution_count": null,
      "outputs": [
        {
          "output_type": "stream",
          "text": [
            "π értéke: 3.142\n"
          ],
          "name": "stdout"
        }
      ]
    },
    {
      "cell_type": "markdown",
      "metadata": {
        "id": "X1JKj_F9xghj"
      },
      "source": [
        "A háromszöges feladat elegánsabb megoldása"
      ]
    },
    {
      "cell_type": "code",
      "metadata": {
        "colab": {
          "base_uri": "https://localhost:8080/"
        },
        "id": "xn_JWb8Dxkct",
        "outputId": "654f67d4-f6d1-4948-a730-95353863b4a3"
      },
      "source": [
        "import math\n",
        "print(\"Adja meg egy háromszög oldalhosszait, hogy kiszámíthassuk kerületét és területét!\")\n",
        "a = float(input('\"A\" oldal hossza: '))\n",
        "b = float(input('\"B\" oldal hossza: '))\n",
        "c = float(input('\"C\" oldal hossza: '))\n",
        "k = a + b + c\n",
        "s = k / 2\n",
        "t = math.sqrt(s * (s - a) * (s - b) * (s - c))\n",
        "print(f'A háromszög kerülete: {k:.2f}, területe: {t:.2f}')"
      ],
      "execution_count": null,
      "outputs": [
        {
          "output_type": "stream",
          "text": [
            "Adja meg egy háromszög oldalhosszait, hogy kiszámíthassuk kerületét és területét!\n",
            "\"A\" oldal hossza: 3\n",
            "\"B\" oldal hossza: 4\n",
            "\"C\" oldal hossza: 5\n",
            "A háromszög kerülete: 12.00, területe: 6.00\n"
          ],
          "name": "stdout"
        }
      ]
    },
    {
      "cell_type": "markdown",
      "metadata": {
        "id": "OfQy04Z_1JuV"
      },
      "source": [
        "# Logikai típus (bool) és műveletek\n",
        "* csak igaz (True) és hamis (False) értékek léteznek\n",
        "* logikai operátorok: nem (not), és (and), megengedő vagy (or)\n",
        "\n",
        "| A | B | not A | A or B | A and B |\n",
        "|---|---|---|---|---|\n",
        "|True|True|False|True|True|\n",
        "|True|False|False|True|False|\n",
        "|False|True|True|True|False|\n",
        "|False|False|True|False|False|\n",
        "\n"
      ]
    },
    {
      "cell_type": "code",
      "metadata": {
        "colab": {
          "base_uri": "https://localhost:8080/"
        },
        "id": "WSFjLt2D1Vp5",
        "outputId": "58980851-8c23-4d3a-a556-cde80a0712a7"
      },
      "source": [
        "print(type(True))\n",
        "print(not True)\n",
        "print(True or False)\n",
        "print(True and False)"
      ],
      "execution_count": null,
      "outputs": [
        {
          "output_type": "stream",
          "text": [
            "<class 'bool'>\n",
            "False\n",
            "True\n",
            "False\n"
          ],
          "name": "stdout"
        }
      ]
    },
    {
      "cell_type": "markdown",
      "metadata": {
        "id": "9VOMME4p5FEU"
      },
      "source": [
        "Relációs operátorok → logikai eredmény\n",
        "\n",
        "| Operátor | Jelentés |\n",
        "|---|---|\n",
        "| < | Kisebb |\n",
        "|---|---|\n",
        "| <= | Kisebb vagy egyenlő |\n",
        "|---|---|\n",
        "| > | Nagyobb |\n",
        "|---|---|\n",
        "| >= | Nagyobb vagy egyenlő |\n",
        "|---|---|\n",
        "| == | Egyenlő |\n",
        "|---|---|\n",
        "| != | Nem egyenlő |"
      ]
    },
    {
      "cell_type": "code",
      "metadata": {
        "colab": {
          "base_uri": "https://localhost:8080/"
        },
        "id": "-zGSdWVy4VuB",
        "outputId": "09b82c29-1bd0-4960-cbd8-233f1f2cd752"
      },
      "source": [
        "print(1 < 3)"
      ],
      "execution_count": null,
      "outputs": [
        {
          "output_type": "stream",
          "text": [
            "True\n"
          ],
          "name": "stdout"
        }
      ]
    },
    {
      "cell_type": "markdown",
      "metadata": {
        "id": "_Wav9hUH_8hf"
      },
      "source": [
        "Érdekesség: a logikai értéket numerikusan kezeli a Python, az igazat 1-nek, a hamisat 0-nak tekintve."
      ]
    },
    {
      "cell_type": "code",
      "metadata": {
        "colab": {
          "base_uri": "https://localhost:8080/"
        },
        "id": "QXQwBMKK_yO_",
        "outputId": "7ca0f89b-eb94-4eac-d9bc-fe3b84497653"
      },
      "source": [
        "print(True + True)\n",
        "print(False + False)\n",
        "print('A csak számjegyeket tartalmazó stringek száma:', \n",
        "      '123'.isdigit() + '-1.2'.isdigit() + 'Jani'.isdigit())"
      ],
      "execution_count": null,
      "outputs": [
        {
          "output_type": "stream",
          "text": [
            "2\n",
            "0\n",
            "A csak számjegyeket tartalmazó stringek száma: 1\n"
          ],
          "name": "stdout"
        }
      ]
    },
    {
      "cell_type": "markdown",
      "metadata": {
        "id": "A6veCmSu6s0B"
      },
      "source": [
        "# Vezérlési szerkezetek\n",
        "* szekvencia (végrehajtás az utasítások megadásának sorrendjében)\n",
        "* szelekció (feltétel)\n",
        "* iteráció (ciklus)\n",
        "\n",
        "# Feltételes szerkezet\n",
        "\n",
        "## Adott feltétel teljesülése esetén kell végrehajtani az *utasítások*-at\n",
        "\n",
        "**if** *feltétel* **:**\n",
        "> *utasítások*\n",
        "\n",
        "## Ha a *feltétel* teljesül, akkor *utasítások1*-et kell végrehajtani, különben *utasítások2*-t\n",
        "\n",
        "**if** *feltétel* **:**\n",
        "> *utasítások1*\n",
        "\n",
        "**else:**\n",
        "\n",
        "> *utasítások2*\n",
        "\n",
        "## Több irányú elágazás is megvalósítható\n",
        "\n",
        "**if** *feltétel1* **:**\n",
        "> *utasítások1*\n",
        "\n",
        "**elif** *feltétel2* **:**\n",
        "> *utasítások2*\n",
        "\n",
        "**else:**\n",
        "\n",
        "> *utasítások3*\n",
        "\n",
        "Nagyon figyeljünk oda a behúzásokra!\n",
        "\n",
        "### Döntsük el egy számról, hogy páros-e vagy páratlan!"
      ]
    },
    {
      "cell_type": "code",
      "metadata": {
        "colab": {
          "base_uri": "https://localhost:8080/"
        },
        "id": "NXxmfmmR-p5Y",
        "outputId": "57715c4b-a9d6-444b-9340-fcdfc3c810c3"
      },
      "source": [
        "szam = int(input('Adjon meg egy egész számot! '))\n",
        "if szam % 2 == 1:\n",
        "  print('Páratlan.')\n",
        "else:\n",
        "  print('Páros.')"
      ],
      "execution_count": null,
      "outputs": [
        {
          "output_type": "stream",
          "text": [
            "Adjon meg egy egész számot! 12\n",
            "Páros.\n"
          ],
          "name": "stdout"
        }
      ]
    },
    {
      "cell_type": "code",
      "metadata": {
        "colab": {
          "base_uri": "https://localhost:8080/"
        },
        "id": "BB-t_GJv_emd",
        "outputId": "d7ccfeb1-2fc5-4387-c56b-e92e5fae3f57"
      },
      "source": [
        "szam = int(input('Adjon meg egy egész számot! '))\n",
        "if szam % 2: # rövidítés: a nulla hamisnak számít, minden más igaznak\n",
        "  print('Páratlan.')\n",
        "else:\n",
        "  print('Páros.')"
      ],
      "execution_count": null,
      "outputs": [
        {
          "output_type": "stream",
          "text": [
            "Adjon meg egy egész számot! 3\n",
            "Páratlan.\n"
          ],
          "name": "stdout"
        }
      ]
    },
    {
      "cell_type": "markdown",
      "metadata": {
        "id": "0Sh3r395-pDj"
      },
      "source": [
        "### Olvassuk be egy háromszög három oldalhosszát, és állapítsuk meg, hogy megszerkeszthető-e!"
      ]
    },
    {
      "cell_type": "code",
      "metadata": {
        "colab": {
          "base_uri": "https://localhost:8080/"
        },
        "id": "4tTRDKkC9T60",
        "outputId": "a793a75a-9751-4d20-9cc9-d36361bdaab0"
      },
      "source": [
        "print(\"Adja meg egy háromszög oldalhosszait!\")\n",
        "a = float(input('\"A\" oldal hossza: '))\n",
        "b = float(input('\"B\" oldal hossza: '))\n",
        "c = float(input('\"C\" oldal hossza: '))\n",
        "if (a + b > c) and (b + c > a) and (c + a > b):\n",
        "  print('Ez a háromszög megszerkeszthető.')\n",
        "else:\n",
        "  print('A háromszög nem szerkeszthető meg.')"
      ],
      "execution_count": null,
      "outputs": [
        {
          "output_type": "stream",
          "text": [
            "Adja meg egy háromszög oldalhosszait!\n",
            "\"A\" oldal hossza: 1\n",
            "\"B\" oldal hossza: 1\n",
            "\"C\" oldal hossza: 3\n",
            "A háromszög nem szerkeszthető meg.\n"
          ],
          "name": "stdout"
        }
      ]
    }
  ]
}