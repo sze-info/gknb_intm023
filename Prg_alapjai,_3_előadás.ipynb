{
  "nbformat": 4,
  "nbformat_minor": 0,
  "metadata": {
    "colab": {
      "name": "Prg. alapjai, 3. előadás.ipynb",
      "provenance": []
    },
    "kernelspec": {
      "name": "python3",
      "display_name": "Python 3"
    }
  },
  "cells": [
    {
      "cell_type": "markdown",
      "metadata": {
        "id": "PAAwKMueqkvr"
      },
      "source": [
        "# while ciklus\n",
        "\n",
        "Korábbi ismereteinket felkészítve írjunk programot, ami Fahrenheit - Celsius értékek táblázatát alkotja meg!"
      ]
    },
    {
      "cell_type": "code",
      "metadata": {
        "colab": {
          "base_uri": "https://localhost:8080/"
        },
        "id": "rG-QkFlZpZ9W",
        "outputId": "e3b99742-afb5-4ed5-8bad-e312bac564ee"
      },
      "source": [
        "print('Fahrenheit - Celsius')\n",
        "print(f'{0:10d}{5/9 * (0-32):10.2f}')\n",
        "print(f'{10:10d}{5/9 * (10-32):10.2f}')\n",
        "print(f'{20:10d}{5/9 * (20-32):10.2f}')\n",
        "print(f'{30:10d}{5/9 * (30-32):10.2f}')\n",
        "print(f'{40:10d}{5/9 * (40-32):10.2f}')\n",
        "print(f'{50:10d}{5/9 * (50-32):10.2f}')\n",
        "print(f'{60:10d}{5/9 * (60-32):10.2f}')\n",
        "print(f'{70:10d}{5/9 * (70-32):10.2f}')\n",
        "print(f'{80:10d}{5/9 * (80-32):10.2f}')\n",
        "print(f'{90:10d}{5/9 * (90-32):10.2f}')\n",
        "print(f'{100:10d}{5/9 * (100-32):10.2f}')\n",
        "print(f'{110:10d}{5/9 * (110-32):10.2f}')\n",
        "print(f'{120:10d}{5/9 * (120-32):10.2f}')\n",
        "print(f'{130:10d}{5/9 * (130-32):10.2f}')\n",
        "print(f'{140:10d}{5/9 * (140-32):10.2f}')\n",
        "print(f'{150:10d}{5/9 * (150-32):10.2f}')\n",
        "print(f'{160:10d}{5/9 * (160-32):10.2f}')\n",
        "print(f'{170:10d}{5/9 * (170-32):10.2f}')\n",
        "print(f'{180:10d}{5/9 * (180-32):10.2f}')\n",
        "print(f'{190:10d}{5/9 * (190-32):10.2f}')\n",
        "print(f'{200:10d}{5/9 * (200-32):10.2f}')"
      ],
      "execution_count": null,
      "outputs": [
        {
          "output_type": "stream",
          "text": [
            "Fahrenheit - Celsius\n",
            "         0    -17.78\n",
            "        10    -12.22\n",
            "        20     -6.67\n",
            "        30     -1.11\n",
            "        40      4.44\n",
            "        50     10.00\n",
            "        60     15.56\n",
            "        70     21.11\n",
            "        80     26.67\n",
            "        90     32.22\n",
            "       100     37.78\n",
            "       110     43.33\n",
            "       120     48.89\n",
            "       130     54.44\n",
            "       140     60.00\n",
            "       150     65.56\n",
            "       160     71.11\n",
            "       170     76.67\n",
            "       180     82.22\n",
            "       190     87.78\n",
            "       200     93.33\n"
          ],
          "name": "stdout"
        }
      ]
    },
    {
      "cell_type": "code",
      "metadata": {
        "colab": {
          "base_uri": "https://localhost:8080/"
        },
        "id": "8fXUAqHbokYN",
        "outputId": "45150d4a-66a2-41f1-bc2b-c4bce1ff6929"
      },
      "source": [
        "print('Fahrenheit - Celsius')\n",
        "f = 0\n",
        "print(f'{f:10d}{5/9 * (f-32):10.2f}')\n",
        "f = 10\n",
        "print(f'{f:10d}{5/9 * (f-32):10.2f}')\n",
        "f = 20\n",
        "print(f'{f:10d}{5/9 * (f-32):10.2f}')\n",
        "f = 30\n",
        "print(f'{f:10d}{5/9 * (f-32):10.2f}')\n",
        "f = 40\n",
        "print(f'{f:10d}{5/9 * (f-32):10.2f}')\n",
        "f = 50\n",
        "print(f'{f:10d}{5/9 * (f-32):10.2f}')\n",
        "f = 60\n",
        "print(f'{f:10d}{5/9 * (f-32):10.2f}')\n",
        "f = 70\n",
        "print(f'{f:10d}{5/9 * (f-32):10.2f}')\n",
        "f = 80\n",
        "print(f'{f:10d}{5/9 * (f-32):10.2f}')\n",
        "f = 90\n",
        "print(f'{f:10d}{5/9 * (f-32):10.2f}')\n",
        "f = 100\n",
        "print(f'{f:10d}{5/9 * (f-32):10.2f}')\n",
        "f = 110\n",
        "print(f'{f:10d}{5/9 * (f-32):10.2f}')\n",
        "f = 120\n",
        "print(f'{f:10d}{5/9 * (f-32):10.2f}')\n",
        "f = 130\n",
        "print(f'{f:10d}{5/9 * (f-32):10.2f}')\n",
        "f = 140\n",
        "print(f'{f:10d}{5/9 * (f-32):10.2f}')\n",
        "f = 150\n",
        "print(f'{f:10d}{5/9 * (f-32):10.2f}')\n",
        "f = 160\n",
        "print(f'{f:10d}{5/9 * (f-32):10.2f}')\n",
        "f = 170\n",
        "print(f'{f:10d}{5/9 * (f-32):10.2f}')\n",
        "f = 180\n",
        "print(f'{f:10d}{5/9 * (f-32):10.2f}')\n",
        "f = 190\n",
        "print(f'{f:10d}{5/9 * (f-32):10.2f}')\n",
        "f = 200\n",
        "print(f'{f:10d}{5/9 * (f-32):10.2f}')"
      ],
      "execution_count": null,
      "outputs": [
        {
          "output_type": "stream",
          "text": [
            "Fahrenheit - Celsius\n",
            "         0    -17.78\n",
            "        10    -12.22\n",
            "        20     -6.67\n",
            "        30     -1.11\n",
            "        40      4.44\n",
            "        50     10.00\n",
            "        60     15.56\n",
            "        70     21.11\n",
            "        80     26.67\n",
            "        90     32.22\n",
            "       100     37.78\n",
            "       110     43.33\n",
            "       120     48.89\n",
            "       130     54.44\n",
            "       140     60.00\n",
            "       150     65.56\n",
            "       160     71.11\n",
            "       170     76.67\n",
            "       180     82.22\n",
            "       190     87.78\n",
            "       200     93.33\n"
          ],
          "name": "stdout"
        }
      ]
    },
    {
      "cell_type": "markdown",
      "metadata": {
        "id": "g-sIOaZHqvgz"
      },
      "source": [
        "Problémák:\n",
        "* nagyon hosszú a kód, rengeteg ismétlődéssel\n",
        "* sok hibalehetőség (elgépelés)\n",
        "* nehezen karbantartható (felbontás, vizsgált tartomány változtatása?)\n",
        "\n",
        "Megoldás: ciklusok (iteráció) használata\n",
        "\n",
        "**while** *ismétlési_feltétel*:\n",
        "> ciklusmag"
      ]
    },
    {
      "cell_type": "code",
      "metadata": {
        "colab": {
          "base_uri": "https://localhost:8080/"
        },
        "id": "VaW_WPF_rO8w",
        "outputId": "32db4fc2-6a98-4ffa-ccfb-c0750dd035ef"
      },
      "source": [
        "also = 0\n",
        "felso = 200\n",
        "lepes = 10\n",
        "print('Fahrenheit - Celsius')\n",
        "f = also\n",
        "while f <= felso:\n",
        "  print(f'{f:10d}{5/9 * (f-32):10.2f}')\n",
        "  f += lepes"
      ],
      "execution_count": null,
      "outputs": [
        {
          "output_type": "stream",
          "text": [
            "Fahrenheit - Celsius\n",
            "         0    -17.78\n",
            "        10    -12.22\n",
            "        20     -6.67\n",
            "        30     -1.11\n",
            "        40      4.44\n",
            "        50     10.00\n",
            "        60     15.56\n",
            "        70     21.11\n",
            "        80     26.67\n",
            "        90     32.22\n",
            "       100     37.78\n",
            "       110     43.33\n",
            "       120     48.89\n",
            "       130     54.44\n",
            "       140     60.00\n",
            "       150     65.56\n",
            "       160     71.11\n",
            "       170     76.67\n",
            "       180     82.22\n",
            "       190     87.78\n",
            "       200     93.33\n"
          ],
          "name": "stdout"
        }
      ]
    },
    {
      "cell_type": "markdown",
      "metadata": {
        "id": "3P_5gCnvsiTL"
      },
      "source": [
        "Ha pl. az adatokat a felhasználó adja meg, már elvileg sincs lehetőségünk ciklus nélkül megoldani a feladatot"
      ]
    },
    {
      "cell_type": "code",
      "metadata": {
        "colab": {
          "base_uri": "https://localhost:8080/"
        },
        "id": "znFHu2lHsr2W",
        "outputId": "fc35642d-e179-4dc2-c319-1a151e1906ed"
      },
      "source": [
        "also = int(input('Alsó korlát: '))\n",
        "felso = int(input('Felső korlát: '))\n",
        "lepes = int(input('Lépésköz: '))\n",
        "print('Fahrenheit - Celsius')\n",
        "f = also\n",
        "while f <= felso:\n",
        "  print(f'{f:10d}{5/9 * (f-32):10.2f}')\n",
        "  f += lepes"
      ],
      "execution_count": null,
      "outputs": [
        {
          "output_type": "stream",
          "text": [
            "Alsó korlát: 10\n",
            "Felső korlát: 230\n",
            "Lépésköz: 5\n",
            "Fahrenheit - Celsius\n",
            "        10    -12.22\n",
            "        15     -9.44\n",
            "        20     -6.67\n",
            "        25     -3.89\n",
            "        30     -1.11\n",
            "        35      1.67\n",
            "        40      4.44\n",
            "        45      7.22\n",
            "        50     10.00\n",
            "        55     12.78\n",
            "        60     15.56\n",
            "        65     18.33\n",
            "        70     21.11\n",
            "        75     23.89\n",
            "        80     26.67\n",
            "        85     29.44\n",
            "        90     32.22\n",
            "        95     35.00\n",
            "       100     37.78\n",
            "       105     40.56\n",
            "       110     43.33\n",
            "       115     46.11\n",
            "       120     48.89\n",
            "       125     51.67\n",
            "       130     54.44\n",
            "       135     57.22\n",
            "       140     60.00\n",
            "       145     62.78\n",
            "       150     65.56\n",
            "       155     68.33\n",
            "       160     71.11\n",
            "       165     73.89\n",
            "       170     76.67\n",
            "       175     79.44\n",
            "       180     82.22\n",
            "       185     85.00\n",
            "       190     87.78\n",
            "       195     90.56\n",
            "       200     93.33\n",
            "       205     96.11\n",
            "       210     98.89\n",
            "       215    101.67\n",
            "       220    104.44\n",
            "       225    107.22\n",
            "       230    110.00\n"
          ],
          "name": "stdout"
        }
      ]
    },
    {
      "cell_type": "markdown",
      "metadata": {
        "id": "ZxWaDC01tyZl"
      },
      "source": [
        "# (Ál)véletlen számok generálása\n",
        "\n",
        "* működése determinisztikus, de a felhasználó számára többnyire elég, ha nem nem tűnik annak\n",
        "* ez előny lehet, ha a reprodukálhatóság szempont\n",
        "* egy kiinduló állapotból (seed) minden alkalommal ugyanabban a sorrendben adja vissza egy véges hosszú sorozat tagjait, majd újraindul\n",
        "* [referencia](https://docs.python.org/3/library/random.html)"
      ]
    },
    {
      "cell_type": "code",
      "metadata": {
        "colab": {
          "base_uri": "https://localhost:8080/"
        },
        "id": "bvGE9pcRuiex",
        "outputId": "7eb28738-f7c7-4e89-d4e8-813939a838a2"
      },
      "source": [
        "import random\n",
        "i = 0\n",
        "random.seed(1)\n",
        "while i<10:\n",
        "  print(random.uniform(0, 1)) # egyenletes eloszlás, intervallum: [0, 1]\n",
        "  i += 1\n",
        "\n",
        "print()\n",
        "\n",
        "i = 0\n",
        "random.seed(1)\n",
        "while i<10:\n",
        "  print(random.uniform(0, 1))\n",
        "  i += 1"
      ],
      "execution_count": null,
      "outputs": [
        {
          "output_type": "stream",
          "text": [
            "0.13436424411240122\n",
            "0.8474337369372327\n",
            "0.763774618976614\n",
            "0.2550690257394217\n",
            "0.49543508709194095\n",
            "0.4494910647887381\n",
            "0.651592972722763\n",
            "0.7887233511355132\n",
            "0.0938595867742349\n",
            "0.02834747652200631\n",
            "\n",
            "0.13436424411240122\n",
            "0.8474337369372327\n",
            "0.763774618976614\n",
            "0.2550690257394217\n",
            "0.49543508709194095\n",
            "0.4494910647887381\n",
            "0.651592972722763\n",
            "0.7887233511355132\n",
            "0.0938595867742349\n",
            "0.02834747652200631\n"
          ],
          "name": "stdout"
        }
      ]
    },
    {
      "cell_type": "code",
      "metadata": {
        "colab": {
          "base_uri": "https://localhost:8080/"
        },
        "id": "gSO0MzeXxZ3Q",
        "outputId": "b7e7926c-7da6-42b8-d6e2-ed816dd67984"
      },
      "source": [
        "i = 0\n",
        "while i<10:\n",
        "  print(random.randint(1, 5)) # egyenletes eloszlás, csak egészeket ad az [1, 5] intervallumból\n",
        "  i += 1"
      ],
      "execution_count": null,
      "outputs": [
        {
          "output_type": "stream",
          "text": [
            "4\n",
            "4\n",
            "5\n",
            "1\n",
            "4\n",
            "3\n",
            "2\n",
            "5\n",
            "1\n",
            "3\n"
          ],
          "name": "stdout"
        }
      ]
    },
    {
      "cell_type": "code",
      "metadata": {
        "colab": {
          "base_uri": "https://localhost:8080/"
        },
        "id": "aMUXhnW3wSEe",
        "outputId": "4e62bc79-a790-437c-d82c-53ee1020b2ca"
      },
      "source": [
        "i = 0\n",
        "while i<10:\n",
        "  print(random.normalvariate(0, 1)) # normális eloszlás, paraméterek: számtani közép, szórás\n",
        "  i += 1"
      ],
      "execution_count": null,
      "outputs": [
        {
          "output_type": "stream",
          "text": [
            "1.0154811671771364\n",
            "-0.33645692765064195\n",
            "1.217481808649941\n",
            "-0.8413143268906724\n",
            "-0.21134102549639144\n",
            "-0.5953466628852611\n",
            "-0.892749877706562\n",
            "1.3056702417351966\n",
            "0.2998548212414041\n",
            "-0.9746277676119484\n"
          ],
          "name": "stdout"
        }
      ]
    },
    {
      "cell_type": "markdown",
      "metadata": {
        "id": "lJI6VTZHyA7e"
      },
      "source": [
        "Számkitalálós játék\n",
        "\n",
        "* meg kell adni egy alsó és egy felső korlátot\n",
        "* a gép kitalál egy számot ebben az intervallumban\n",
        "* amit a lehető legkevesebb próbálkozással kell kitalálni\n",
        "* minden próbálkozás után közli, hogy a tipp kisebb vagy nagyobb a generált értéknél, esetleg pont annyi"
      ]
    },
    {
      "cell_type": "code",
      "metadata": {
        "colab": {
          "base_uri": "https://localhost:8080/"
        },
        "id": "z9FX4mieyWxB",
        "outputId": "bba75ea8-d1b1-4a10-b2ba-7c298d7a62a4"
      },
      "source": [
        "import random as rnd # rövidítés, álnév bevezetése\n",
        "print('Számkitalálós játék')\n",
        "also = int(input('Mi legyen a legkisebb lehetséges érték? '))\n",
        "felso = int(input('Mi legyen a legnagyobb lehetséges érték? '))\n",
        "szam = rnd.randint(also, felso)\n",
        "proba = 0\n",
        "tipp = szam + 1 # Csak az a fontos, hogy tipp és szam ne legyen ugyanannyi\n",
        "print(f'Kitaláltam egy számot {also} és {felso} között, találd ki!')\n",
        "while tipp != szam:\n",
        "  tipp = int(input('Tipp: '))\n",
        "  proba += 1\n",
        "  if tipp < szam:\n",
        "    print('Nagyobbra gondoltam.')\n",
        "  elif tipp > szam:\n",
        "    print('Kisebbre gondoltam.')\n",
        "  else:\n",
        "    print('Eltaláltad', proba, 'próbálkozással!')"
      ],
      "execution_count": null,
      "outputs": [
        {
          "output_type": "stream",
          "text": [
            "Számkitalálós játék\n",
            "Mi legyen a legkisebb lehetséges érték? 1\n",
            "Mi legyen a legnagyobb lehetséges érték? 100\n",
            "Kitaláltam egy számot 1 és 100 között, találd ki!\n",
            "Tipp: 50\n",
            "Nagyobbra gondoltam.\n",
            "Tipp: 75\n",
            "Kisebbre gondoltam.\n",
            "Tipp: 57\n",
            "Nagyobbra gondoltam.\n",
            "Tipp: 66\n",
            "Kisebbre gondoltam.\n",
            "Tipp: 62\n",
            "Eltaláltad 5 próbálkozással!\n"
          ],
          "name": "stdout"
        }
      ]
    },
    {
      "cell_type": "code",
      "metadata": {
        "colab": {
          "base_uri": "https://localhost:8080/"
        },
        "id": "TqSty9su0_gW",
        "outputId": "55710605-b5bf-4773-b5ea-70ede2ff3228"
      },
      "source": [
        "import random as rnd\n",
        "print('Számkitalálós játék')\n",
        "also = int(input('Mi legyen a legkisebb lehetséges érték? '))\n",
        "felso = int(input('Mi legyen a legnagyobb lehetséges érték? '))\n",
        "szam = rnd.randint(also, felso)\n",
        "proba = 0\n",
        "print(f'Kitaláltam egy számot {also} és {felso} között, találd ki!')\n",
        "while True: # Mindenképp belép a ciklusmagba\n",
        "  tipp = int(input('Tipp: '))\n",
        "  proba += 1\n",
        "  if tipp < szam:\n",
        "    print('Nagyobbra gondoltam.')\n",
        "  elif tipp > szam:\n",
        "    print('Kisebbre gondoltam.')\n",
        "  else:\n",
        "    print('Eltaláltad', proba, 'próbálkozással!')\n",
        "    break # a ciklus utáni utasítással folytatja a programot, ha van olyan"
      ],
      "execution_count": null,
      "outputs": [
        {
          "output_type": "stream",
          "text": [
            "Számkitalálós játék\n",
            "Mi legyen a legkisebb lehetséges érték? 1\n",
            "Mi legyen a legnagyobb lehetséges érték? 100\n",
            "Kitaláltam egy számot 1 és 100 között, találd ki!\n",
            "Tipp: 50\n",
            "Kisebbre gondoltam.\n",
            "Tipp: 25\n",
            "Nagyobbra gondoltam.\n",
            "Tipp: 37\n",
            "Kisebbre gondoltam.\n",
            "Tipp: 31\n",
            "Nagyobbra gondoltam.\n",
            "Tipp: 34\n",
            "Kisebbre gondoltam.\n",
            "Tipp: 32\n",
            "Eltaláltad 6 próbálkozással!\n"
          ],
          "name": "stdout"
        }
      ]
    },
    {
      "cell_type": "markdown",
      "metadata": {
        "id": "F9e1XBsrCn7q"
      },
      "source": [
        "Számok minimumának, maximumának és átlagának meghatározása"
      ]
    },
    {
      "cell_type": "code",
      "metadata": {
        "colab": {
          "base_uri": "https://localhost:8080/"
        },
        "id": "vdHtGD0zIDPq",
        "outputId": "a8e90ca2-a39f-444d-e2d2-155b846ee16a"
      },
      "source": [
        "print('Számok minimumának, maximumának és átlagának meghatározása')\n",
        "print('Adjon meg nemnegatív számokat! Kilépés negatív értékre.')\n",
        "min = max = szam = float(input('Következő szám: ')) # hozzárendelés jobbról balra\n",
        "db = 0\n",
        "osszeg = 0.\n",
        "while szam >= 0:\n",
        "  if szam < min:\n",
        "    min = szam\n",
        "  elif szam > max:\n",
        "    max = szam\n",
        "  osszeg += szam\n",
        "  db += 1\n",
        "  szam = float(input('Következő szám: '))\n",
        "if db>0:\n",
        "  print(f'Minimum: {min}, maximum: {max}, átlag: {osszeg/db:.2f}')\n",
        "else:\n",
        "  print('Nem adott meg számokat.')"
      ],
      "execution_count": null,
      "outputs": [
        {
          "output_type": "stream",
          "text": [
            "Számok minimumának, maximumának és átlagának meghatározása\n",
            "Adjon meg nemnegatív számokat! Kilépés negatív értékre.\n",
            "Következő szám: 3\n",
            "Következő szám: 4\n",
            "Következő szám: 6\n",
            "Következő szám: -1\n",
            "Minimum: 3.0, maximum: 6.0, átlag: 4.33\n"
          ],
          "name": "stdout"
        }
      ]
    },
    {
      "cell_type": "markdown",
      "metadata": {
        "id": "x5dXQTsgP7S5"
      },
      "source": [
        "Rajzoljunk **R** sugarú körlapot a képernyőre csillagokból!"
      ]
    },
    {
      "cell_type": "code",
      "metadata": {
        "colab": {
          "base_uri": "https://localhost:8080/"
        },
        "id": "bsOuRdaPLy6c",
        "outputId": "f5413384-9459-421d-a496-88a9bb68725d"
      },
      "source": [
        "R = 15\n",
        "s = -R\n",
        "while s <= R:\n",
        "  o = -R\n",
        "  while o <= R:\n",
        "    if s**2 + o**2 <= R**2:\n",
        "      print('*', end='')\n",
        "    else:\n",
        "      print(' ', end='')\n",
        "    o += 1\n",
        "  print()\n",
        "  s += 1"
      ],
      "execution_count": null,
      "outputs": [
        {
          "output_type": "stream",
          "text": [
            "               *               \n",
            "          ***********          \n",
            "        ***************        \n",
            "      *******************      \n",
            "     *********************     \n",
            "    ***********************    \n",
            "   *************************   \n",
            "   *************************   \n",
            "  ***************************  \n",
            "  ***************************  \n",
            " ***************************** \n",
            " ***************************** \n",
            " ***************************** \n",
            " ***************************** \n",
            " ***************************** \n",
            "*******************************\n",
            " ***************************** \n",
            " ***************************** \n",
            " ***************************** \n",
            " ***************************** \n",
            " ***************************** \n",
            "  ***************************  \n",
            "  ***************************  \n",
            "   *************************   \n",
            "   *************************   \n",
            "    ***********************    \n",
            "     *********************     \n",
            "      *******************      \n",
            "        ***************        \n",
            "          ***********          \n",
            "               *               \n"
          ],
          "name": "stdout"
        }
      ]
    },
    {
      "cell_type": "markdown",
      "metadata": {
        "id": "Ix1UFPdEQHyI"
      },
      "source": [
        "A karakterek szélessége és magassága eltér a képernyőn, ezért az ábra torz lesz. Egy [ellipszist](https://hu.wikipedia.org/wiki/Ellipszis_(g%C3%B6rbe)) kell rajzolnunk, hogy optikailag kört kapjunk."
      ]
    },
    {
      "cell_type": "code",
      "metadata": {
        "colab": {
          "base_uri": "https://localhost:8080/"
        },
        "id": "e43yylPHMzHI",
        "outputId": "42976f47-c83f-4f34-9c57-cb0789c31bfa"
      },
      "source": [
        "RS = 8\n",
        "RO = 15\n",
        "s = -RS\n",
        "while s <= RS:\n",
        "  o = -RO\n",
        "  while o <= RO:\n",
        "    if s**2/RS**2 + o**2/RO**2 <= 1:\n",
        "      print('*', end='')\n",
        "    else:\n",
        "      print(' ', end='')\n",
        "    o += 1\n",
        "  print()\n",
        "  s += 1"
      ],
      "execution_count": null,
      "outputs": [
        {
          "output_type": "stream",
          "text": [
            "               *               \n",
            "        ***************        \n",
            "      *******************      \n",
            "    ***********************    \n",
            "   *************************   \n",
            "  ***************************  \n",
            " ***************************** \n",
            " ***************************** \n",
            "*******************************\n",
            " ***************************** \n",
            " ***************************** \n",
            "  ***************************  \n",
            "   *************************   \n",
            "    ***********************    \n",
            "      *******************      \n",
            "        ***************        \n",
            "               *               \n"
          ],
          "name": "stdout"
        }
      ]
    }
  ]
}