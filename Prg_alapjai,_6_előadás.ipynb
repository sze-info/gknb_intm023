{
  "nbformat": 4,
  "nbformat_minor": 0,
  "metadata": {
    "colab": {
      "name": "Prg. alapjai, 6. előadás.ipynb",
      "provenance": [],
      "collapsed_sections": []
    },
    "kernelspec": {
      "name": "python3",
      "display_name": "Python 3"
    },
    "language_info": {
      "name": "python"
    }
  },
  "cells": [
    {
      "cell_type": "markdown",
      "source": [
        "# Függvények\n",
        "[Ellipszis](https://hu.wikipedia.org/wiki/Ellipszis_(g%C3%B6rbe)) rajzolása (emlékeztető)"
      ],
      "metadata": {
        "id": "_K5MBLoOY9K9"
      }
    },
    {
      "cell_type": "code",
      "execution_count": null,
      "metadata": {
        "colab": {
          "base_uri": "https://localhost:8080/"
        },
        "id": "LjsiCzRQVAou",
        "outputId": "a6ead8c1-ddd3-4abd-8dd4-ee4efdf44a31"
      },
      "outputs": [
        {
          "output_type": "stream",
          "name": "stdout",
          "text": [
            "               *               \n",
            "        ***************        \n",
            "      *******************      \n",
            "    ***********************    \n",
            "   *************************   \n",
            "  ***************************  \n",
            " ***************************** \n",
            " ***************************** \n",
            "*******************************\n",
            " ***************************** \n",
            " ***************************** \n",
            "  ***************************  \n",
            "   *************************   \n",
            "    ***********************    \n",
            "      *******************      \n",
            "        ***************        \n",
            "               *               \n"
          ]
        }
      ],
      "source": [
        "RS = 8\n",
        "RO = 15\n",
        "s = -RS\n",
        "while s <= RS:\n",
        "  o = -RO\n",
        "  while o <= RO:\n",
        "    if s**2/RS**2 + o**2/RO**2 <= 1:\n",
        "      print('*', end='')\n",
        "    else:\n",
        "      print(' ', end='')\n",
        "    o += 1\n",
        "  print()\n",
        "  s += 1"
      ]
    },
    {
      "cell_type": "markdown",
      "source": [
        "Ha két ellipszist is szeretnék rajzolni, akkor már ismételnem kell a kódot:"
      ],
      "metadata": {
        "id": "NvjOj4uvZ8N7"
      }
    },
    {
      "cell_type": "code",
      "source": [
        "RS = 8\n",
        "RO = 15\n",
        "s = -RS\n",
        "while s <= RS:\n",
        "  o = -RO\n",
        "  while o <= RO:\n",
        "    if s**2/RS**2 + o**2/RO**2 <= 1:\n",
        "      print('*', end='')\n",
        "    else:\n",
        "      print(' ', end='')\n",
        "    o += 1\n",
        "  print()\n",
        "  s += 1\n",
        "\n",
        "RS = 4\n",
        "RO = 8\n",
        "s = -RS\n",
        "while s <= RS:\n",
        "  o = -RO\n",
        "  while o <= RO:\n",
        "    if s**2/RS**2 + o**2/RO**2 <= 1:\n",
        "      print('*', end='')\n",
        "    else:\n",
        "      print(' ', end='')\n",
        "    o += 1\n",
        "  print()\n",
        "  s += 1"
      ],
      "metadata": {
        "colab": {
          "base_uri": "https://localhost:8080/"
        },
        "id": "xOm4_cyXaEX8",
        "outputId": "a08dc8d3-403b-4109-acca-bd5413f396fd"
      },
      "execution_count": null,
      "outputs": [
        {
          "output_type": "stream",
          "name": "stdout",
          "text": [
            "               *               \n",
            "        ***************        \n",
            "      *******************      \n",
            "    ***********************    \n",
            "   *************************   \n",
            "  ***************************  \n",
            " ***************************** \n",
            " ***************************** \n",
            "*******************************\n",
            " ***************************** \n",
            " ***************************** \n",
            "  ***************************  \n",
            "   *************************   \n",
            "    ***********************    \n",
            "      *******************      \n",
            "        ***************        \n",
            "               *               \n",
            "        *        \n",
            "   ***********   \n",
            "  *************  \n",
            " *************** \n",
            "*****************\n",
            " *************** \n",
            "  *************  \n",
            "   ***********   \n",
            "        *        \n"
          ]
        }
      ]
    },
    {
      "cell_type": "markdown",
      "source": [
        "Ez nem szép:\n",
        "- nagyon hosszú a kód, feleslegesen töltöm vele a gép memóriáját\n",
        "- ha kiderül, hogy hibás, minden ismételt előfordulását javítani kell\n",
        "\n",
        "A függvény adatok és utasítások elnevezett egysége, melynek működése paraméterezéssel módosítható, értéket tud szolgáltatni, és/vagy *mellékhatásokat* tud kiváltani (pl. nyomtat a képernyőre).\n",
        "\n",
        "Segít a programunkat kisebb egységekre bontani, modularizálni. Ezáltal az könnyebben áttekinthetővé, érthetővé válik, és még mérete is csökkenhet.\n",
        "\n",
        "Függvények segítségével ugyanis megtehetjük, hogy a programrészletet csak egyszer írjuk meg, és többször felhasználjuk (meghívjuk). Ráadásul a függvény működése paraméterezhető is, azaz könnyen lehet pl. eltérő méretű ellipsziseket rajzolni.\n",
        "\n",
        "Függvény definiálása: *def* kulcsszóval, kerek zárójelpárba kerülnek a paraméterek:\n",
        "- A függvény definíciójában szereplő paraméterek a *formális paraméterek* (parameters). Ezekkel úgy dolgozhatunk a függvényen belül, mint bármelyik változóval.\n",
        "- A függvény hívásánál szereplők pedig az *aktuális paraméterek* (arguments, args).\n",
        "\n",
        "A formális és aktuális paraméterek neveinek nem *kell* egyezni, sőt, az aktuális paraméterek sokszor eleve nem is változók (konstansok/literálok), nincs nevük."
      ],
      "metadata": {
        "id": "xh9EVgkoaS-Z"
      }
    },
    {
      "cell_type": "code",
      "source": [
        "def ellipszis(rs, ro): # függvény definíciója: def kulcsszó, egyedi azonosító (a függvény neve), formális paraméterlista\n",
        "  s = -rs              # Itt kezdődik az adatok és műveletek sorozata, azaz a függvény teste\n",
        "  while s <= rs:\n",
        "    o = -ro\n",
        "    while o <= ro:\n",
        "      if s**2/rs**2 + o**2/ro**2 <= 1:\n",
        "        print('*', end='')\n",
        "      else:\n",
        "        print(' ', end='')\n",
        "      o += 1\n",
        "    print()\n",
        "    s += 1\n",
        "\n",
        "ellipszis(8, 15) # függvény első hívása\n",
        "ellipszis(4, 8)  # függvény második hívása"
      ],
      "metadata": {
        "colab": {
          "base_uri": "https://localhost:8080/"
        },
        "id": "URMBEjKTajuH",
        "outputId": "833a5cd8-5dc1-4280-c30d-1c9e0f13873e"
      },
      "execution_count": null,
      "outputs": [
        {
          "output_type": "stream",
          "name": "stdout",
          "text": [
            "               *               \n",
            "        ***************        \n",
            "      *******************      \n",
            "    ***********************    \n",
            "   *************************   \n",
            "  ***************************  \n",
            " ***************************** \n",
            " ***************************** \n",
            "*******************************\n",
            " ***************************** \n",
            " ***************************** \n",
            "  ***************************  \n",
            "   *************************   \n",
            "    ***********************    \n",
            "      *******************      \n",
            "        ***************        \n",
            "               *               \n",
            "        *        \n",
            "   ***********   \n",
            "  *************  \n",
            " *************** \n",
            "*****************\n",
            " *************** \n",
            "  *************  \n",
            "   ***********   \n",
            "        *        \n"
          ]
        }
      ]
    },
    {
      "cell_type": "markdown",
      "source": [
        "Egy függvény célja nem csak az lehet, hogy mellékhatást generáljon, hanem az is, hogy értéket állítson elő. Pl. egy téglalap két oldalhosszának ismeretében megadhatja a kerületét:"
      ],
      "metadata": {
        "id": "GZZFsDzFjV3e"
      }
    },
    {
      "cell_type": "code",
      "source": [
        "def teglalapKerulet(a, b):\n",
        "  return 2 * (a + b)\n",
        "\n",
        "print(teglalapKerulet(2, 3))\n",
        "print(teglalapKerulet(2.5, 4))"
      ],
      "metadata": {
        "colab": {
          "base_uri": "https://localhost:8080/"
        },
        "id": "j_Wq1xhjjqff",
        "outputId": "fdaa1bfd-958b-4758-e6f1-5087b20ab2b1"
      },
      "execution_count": null,
      "outputs": [
        {
          "output_type": "stream",
          "name": "stdout",
          "text": [
            "10\n",
            "13.0\n"
          ]
        }
      ]
    },
    {
      "cell_type": "markdown",
      "source": [
        "A visszatérési értéket a *return* kulcsszót követő kifejezés határozza meg. A return egyúttal véget vet a függvény futásának is, visszaadja a vezérlést a függvény hívójának. Több return is szerepelhet egy függvényben.\n",
        "\n",
        "Feladat: állapítsuk meg egy karakterláncról, hogy formailag Neptun kódnak tekinthető-e! (6 karakter hosszú, csak alfanumerikus jelekből állhat.)"
      ],
      "metadata": {
        "id": "6j79MUaYj-eC"
      }
    },
    {
      "cell_type": "code",
      "source": [
        "def isNeptun(kod):\n",
        "  if len(kod) != 6:\n",
        "    return False\n",
        "  for betu in kod:\n",
        "    if not (betu.isdigit() or betu.isalpha()):\n",
        "      return False\n",
        "  return True\n",
        "\n",
        "print(isNeptun('Abc123'))\n",
        "print(isNeptun('1a'))\n",
        "print(isNeptun('1a2b3c4d'))\n",
        "print(isNeptun('1a+!3c'))"
      ],
      "metadata": {
        "colab": {
          "base_uri": "https://localhost:8080/"
        },
        "id": "GFsmIBjek3l6",
        "outputId": "068e9125-eea6-453b-9d61-eb1f06bd8922"
      },
      "execution_count": null,
      "outputs": [
        {
          "output_type": "stream",
          "name": "stdout",
          "text": [
            "True\n",
            "False\n",
            "False\n",
            "False\n"
          ]
        }
      ]
    },
    {
      "cell_type": "markdown",
      "source": [
        "A Python arra is képes, hogy egyszerre több értéket adjon vissza egy returnnel."
      ],
      "metadata": {
        "id": "c4V9vOcW5K54"
      }
    },
    {
      "cell_type": "code",
      "source": [
        "def teglalap(a, b):\n",
        "  kerulet = 2 * (a + b)\n",
        "  terulet = a * b\n",
        "  return kerulet, terulet\n",
        "\n",
        "k, t = teglalap(2, 3)\n",
        "print(f'A téglalap kerülete {k}, területe {t}.')"
      ],
      "metadata": {
        "colab": {
          "base_uri": "https://localhost:8080/"
        },
        "id": "uz-fBFGp5QUW",
        "outputId": "e3fab1b6-315f-405b-cfcc-11a8a1e36aa9"
      },
      "execution_count": null,
      "outputs": [
        {
          "output_type": "stream",
          "name": "stdout",
          "text": [
            "A téglalap kerülete 10, területe 6.\n"
          ]
        }
      ]
    },
    {
      "cell_type": "markdown",
      "source": [
        "Igazából egy tuple-t ad vissza, majd azt kicsomagolja:\n",
        "\n"
      ],
      "metadata": {
        "id": "Z244Wr3O5s5z"
      }
    },
    {
      "cell_type": "code",
      "source": [
        "eredmeny = teglalap(2, 3)\n",
        "print(eredmeny)\n",
        "print(type(eredmeny))"
      ],
      "metadata": {
        "colab": {
          "base_uri": "https://localhost:8080/"
        },
        "id": "oUDv5IIp5wO-",
        "outputId": "77bbf760-3b27-4478-b032-1b2e9072e6a5"
      },
      "execution_count": null,
      "outputs": [
        {
          "output_type": "stream",
          "name": "stdout",
          "text": [
            "(10, 6)\n",
            "<class 'tuple'>\n"
          ]
        }
      ]
    },
    {
      "cell_type": "markdown",
      "source": [
        "A függvénynek pontosan annyi aktuális paramétert kell átadni híváskor, mint amennyi a definícióban a formális paraméterek száma."
      ],
      "metadata": {
        "id": "6iAkWpMKexkz"
      }
    },
    {
      "cell_type": "code",
      "source": [
        "ellipszis(3)"
      ],
      "metadata": {
        "colab": {
          "base_uri": "https://localhost:8080/",
          "height": 174
        },
        "id": "2NskBF9jeo-E",
        "outputId": "4fc1f495-eefd-4d23-ad5b-1c5f232d82b9"
      },
      "execution_count": null,
      "outputs": [
        {
          "output_type": "error",
          "ename": "TypeError",
          "evalue": "ignored",
          "traceback": [
            "\u001b[0;31m---------------------------------------------------------------------------\u001b[0m",
            "\u001b[0;31mTypeError\u001b[0m                                 Traceback (most recent call last)",
            "\u001b[0;32m<ipython-input-5-6d0e6053d93e>\u001b[0m in \u001b[0;36m<module>\u001b[0;34m()\u001b[0m\n\u001b[0;32m----> 1\u001b[0;31m \u001b[0mellipszis\u001b[0m\u001b[0;34m(\u001b[0m\u001b[0;36m3\u001b[0m\u001b[0;34m)\u001b[0m\u001b[0;34m\u001b[0m\u001b[0;34m\u001b[0m\u001b[0m\n\u001b[0m",
            "\u001b[0;31mTypeError\u001b[0m: ellipszis() missing 1 required positional argument: 'ro'"
          ]
        }
      ]
    },
    {
      "cell_type": "code",
      "source": [
        "ellipszis(1, 2, 3)"
      ],
      "metadata": {
        "colab": {
          "base_uri": "https://localhost:8080/",
          "height": 174
        },
        "id": "sCfmoX15ets5",
        "outputId": "e5ede562-e5ad-406e-9164-41e7b54ece70"
      },
      "execution_count": null,
      "outputs": [
        {
          "output_type": "error",
          "ename": "TypeError",
          "evalue": "ignored",
          "traceback": [
            "\u001b[0;31m---------------------------------------------------------------------------\u001b[0m",
            "\u001b[0;31mTypeError\u001b[0m                                 Traceback (most recent call last)",
            "\u001b[0;32m<ipython-input-6-bf161653b3cf>\u001b[0m in \u001b[0;36m<module>\u001b[0;34m()\u001b[0m\n\u001b[0;32m----> 1\u001b[0;31m \u001b[0mellipszis\u001b[0m\u001b[0;34m(\u001b[0m\u001b[0;36m1\u001b[0m\u001b[0;34m,\u001b[0m \u001b[0;36m2\u001b[0m\u001b[0;34m,\u001b[0m \u001b[0;36m3\u001b[0m\u001b[0;34m)\u001b[0m\u001b[0;34m\u001b[0m\u001b[0;34m\u001b[0m\u001b[0m\n\u001b[0m",
            "\u001b[0;31mTypeError\u001b[0m: ellipszis() takes 2 positional arguments but 3 were given"
          ]
        }
      ]
    },
    {
      "cell_type": "markdown",
      "source": [
        "Időnként viszont lehet értelme bizonyos alapértelmezett paraméter értékeknek, pl. ha általános ellipszis helyett speciálisan kört szeretnénk rajzolni, felesleges mindkét irányú sugarat megadni."
      ],
      "metadata": {
        "id": "c7TvvBJ8iD0R"
      }
    },
    {
      "cell_type": "code",
      "source": [
        "def ellipszis(rs, ro=None): # alapértelmezett érték a None, amit nem lehetne értelmesen használni; innen tudjuk, hogy a két sugár értéke legyen egyforma\n",
        "  ro = rs if ro is None else ro\n",
        "  s = -rs\n",
        "  while s <= rs:\n",
        "    o = -ro\n",
        "    while o <= ro:\n",
        "      if s**2/rs**2 + o**2/ro**2 <= 1:\n",
        "        print('*', end='')\n",
        "      else:\n",
        "        print(' ', end='')\n",
        "      o += 1\n",
        "    print()\n",
        "    s += 1\n",
        "\n",
        "ellipszis(3)\n",
        "ellipszis(3, 5)"
      ],
      "metadata": {
        "colab": {
          "base_uri": "https://localhost:8080/"
        },
        "id": "ZM0tzyw1fJnq",
        "outputId": "c6ee5c1f-6d35-4926-85a9-b5f89a953868"
      },
      "execution_count": null,
      "outputs": [
        {
          "output_type": "stream",
          "name": "stdout",
          "text": [
            "   *   \n",
            " ***** \n",
            " ***** \n",
            "*******\n",
            " ***** \n",
            " ***** \n",
            "   *   \n",
            "     *     \n",
            "  *******  \n",
            " ********* \n",
            "***********\n",
            " ********* \n",
            "  *******  \n",
            "     *     \n"
          ]
        }
      ]
    },
    {
      "cell_type": "markdown",
      "source": [
        "Időnként nem lehet előre sejteni, hány paraméterre lesz szükség (emlékezzünk a print függvényre). Készítsünk olyan függvényt, ami az összes paraméterének az összegét szolgáltatja! Ilyenkor a formális paraméter elé egy csillagot kell tenni, amitől az tuple típusban fogadja az összes aktuális paramétert (packing)."
      ],
      "metadata": {
        "id": "9yIHfjE2nBgo"
      }
    },
    {
      "cell_type": "code",
      "source": [
        "def osszead(*operandusok):\n",
        "  osszeg = 0\n",
        "  for operandus in operandusok:\n",
        "    osszeg += operandus\n",
        "  return osszeg\n",
        "\n",
        "print(osszead(1, 2, 3))\n",
        "print(osszead(1, 2, 3, 4, 5))"
      ],
      "metadata": {
        "colab": {
          "base_uri": "https://localhost:8080/"
        },
        "id": "HunpP6sBnRDj",
        "outputId": "33395209-d7d4-4b99-e7a5-e809ced58ec8"
      },
      "execution_count": null,
      "outputs": [
        {
          "output_type": "stream",
          "name": "stdout",
          "text": [
            "6\n",
            "15\n"
          ]
        }
      ]
    },
    {
      "cell_type": "markdown",
      "source": [
        "Persze megtehettük volna, hogy a függvény eleve egy listát/tuple-t fogad:"
      ],
      "metadata": {
        "id": "BHoNe7rKtGgz"
      }
    },
    {
      "cell_type": "code",
      "source": [
        "def osszeadLista(operandusok):\n",
        "  osszeg = 0\n",
        "  for operandus in operandusok:\n",
        "    osszeg += operandus\n",
        "  return osszeg\n",
        "\n",
        "print(osszeadLista((1, 2, 3)))        # tuple\n",
        "print(osszeadLista([1, 2, 3, 4, 5]))  # lista\n",
        "\n",
        "*szamok, = 1, 2, 3                    # packing\n",
        "print(osszeadLista(szamok))"
      ],
      "metadata": {
        "colab": {
          "base_uri": "https://localhost:8080/"
        },
        "id": "vAGXeNzttPja",
        "outputId": "bb6d779f-1c07-49af-dc99-7666b4c67f1c"
      },
      "execution_count": null,
      "outputs": [
        {
          "output_type": "stream",
          "name": "stdout",
          "text": [
            "6\n",
            "15\n",
            "6\n"
          ]
        }
      ]
    },
    {
      "cell_type": "markdown",
      "source": [
        "Az aktuális paraméterek megadási sorrendjének általában jelentősége van. Nem mindegy pl., hogy a sugarak hosszát milyen sorrendben adjuk meg ellipszis rajzolásakor."
      ],
      "metadata": {
        "id": "2Br-Wm8HoPRv"
      }
    },
    {
      "cell_type": "code",
      "source": [
        "ellipszis(5, 10)\n",
        "ellipszis(10, 5)"
      ],
      "metadata": {
        "colab": {
          "base_uri": "https://localhost:8080/"
        },
        "id": "9zwwSzmrodcE",
        "outputId": "66da5613-b3dc-4000-9c35-e0ed001c7df3"
      },
      "execution_count": null,
      "outputs": [
        {
          "output_type": "stream",
          "name": "stdout",
          "text": [
            "          *          \n",
            "    *************    \n",
            "  *****************  \n",
            " ******************* \n",
            " ******************* \n",
            "*********************\n",
            " ******************* \n",
            " ******************* \n",
            "  *****************  \n",
            "    *************    \n",
            "          *          \n",
            "     *     \n",
            "   *****   \n",
            "  *******  \n",
            "  *******  \n",
            " ********* \n",
            " ********* \n",
            " ********* \n",
            " ********* \n",
            " ********* \n",
            " ********* \n",
            "***********\n",
            " ********* \n",
            " ********* \n",
            " ********* \n",
            " ********* \n",
            " ********* \n",
            " ********* \n",
            "  *******  \n",
            "  *******  \n",
            "   *****   \n",
            "     *     \n"
          ]
        }
      ]
    },
    {
      "cell_type": "markdown",
      "source": [
        "Amikor egy függvény sok paramétert fogad, könnyű összekeverni a paraméterek sorrendjét, de szerencsére erre is van megoldása a Pythonnak: híváskor megadható, hogy melyik értéket melyik formális paraméterhez kívánjuk hozzárendelni (keyword arguments)."
      ],
      "metadata": {
        "id": "FXYvwJVbosbI"
      }
    },
    {
      "cell_type": "code",
      "source": [
        "ellipszis(rs=5, ro=10)\n",
        "ellipszis(ro=10, rs=5)"
      ],
      "metadata": {
        "colab": {
          "base_uri": "https://localhost:8080/"
        },
        "id": "HWBIIOO2pBqk",
        "outputId": "e6e10cf5-bd65-42dd-cce7-e364cab0fb2d"
      },
      "execution_count": null,
      "outputs": [
        {
          "output_type": "stream",
          "name": "stdout",
          "text": [
            "          *          \n",
            "    *************    \n",
            "  *****************  \n",
            " ******************* \n",
            " ******************* \n",
            "*********************\n",
            " ******************* \n",
            " ******************* \n",
            "  *****************  \n",
            "    *************    \n",
            "          *          \n",
            "          *          \n",
            "    *************    \n",
            "  *****************  \n",
            " ******************* \n",
            " ******************* \n",
            "*********************\n",
            " ******************* \n",
            " ******************* \n",
            "  *****************  \n",
            "    *************    \n",
            "          *          \n"
          ]
        }
      ]
    },
    {
      "cell_type": "markdown",
      "source": [
        "Paraméterek átadási módja: *hozzárendelés* szerint\n",
        "\n",
        "Feladat: írjunk olyan függvényt, ami felcseréli két változó értékét!"
      ],
      "metadata": {
        "id": "IZXqd4Bs2__o"
      }
    },
    {
      "cell_type": "code",
      "source": [
        "x = 2\n",
        "y = 5\n",
        "\n",
        "def csere(a, b):\n",
        "  a, b = b, a\n",
        "\n",
        "csere(x, y)\n",
        "print(f'x={x}, y={y}') # Hoppá!"
      ],
      "metadata": {
        "colab": {
          "base_uri": "https://localhost:8080/"
        },
        "id": "gizIrd3XqAFY",
        "outputId": "8d5bec18-9fa8-43b1-add6-9bf4251041b5"
      },
      "execution_count": null,
      "outputs": [
        {
          "output_type": "stream",
          "name": "stdout",
          "text": [
            "x=2, y=5\n"
          ]
        }
      ]
    },
    {
      "cell_type": "markdown",
      "source": [
        "Mi történik a háttérben?"
      ],
      "metadata": {
        "id": "an0suO3M3LyP"
      }
    },
    {
      "cell_type": "code",
      "source": [
        "x = 2\n",
        "y = 5\n",
        "\n",
        "def csere(a, b):\n",
        "  print(f'a címe: {id(a)}, b címe: {id(b)}')\n",
        "  a, b = b, a\n",
        "  print(f'a címe: {id(a)}, b címe: {id(b)}')\n",
        "\n",
        "print(f'x címe: {id(x)}, y címe: {id(y)}')\n",
        "csere(x, y)\n",
        "print(f'x címe: {id(x)}, y címe: {id(y)}')\n",
        "print(f'x={x}, y={y}')"
      ],
      "metadata": {
        "colab": {
          "base_uri": "https://localhost:8080/"
        },
        "id": "Ky02Mx7A3ODV",
        "outputId": "6e939c74-446a-48b9-eed7-bb19555863ee"
      },
      "execution_count": null,
      "outputs": [
        {
          "output_type": "stream",
          "name": "stdout",
          "text": [
            "x címe: 94529986804256, y címe: 94529986804352\n",
            "a címe: 94529986804256, b címe: 94529986804352\n",
            "a címe: 94529986804352, b címe: 94529986804256\n",
            "x címe: 94529986804256, y címe: 94529986804352\n",
            "x=2, y=5\n"
          ]
        }
      ]
    },
    {
      "cell_type": "markdown",
      "source": [
        "1)\n",
        "> x --> 2\n",
        "\n",
        "> y --> 5\n",
        "\n",
        "2) \n",
        "> x --> 2 <-- a\n",
        "\n",
        "> y --> 5 <-- b\n",
        "\n",
        "3)\n",
        "> x --> 2 <-- b\n",
        "\n",
        "> y --> 5 <-- a\n",
        "\n",
        "4)\n",
        "> x --> 2\n",
        "\n",
        "> y --> 5"
      ],
      "metadata": {
        "id": "-us7tbL0Cy8P"
      }
    },
    {
      "cell_type": "code",
      "source": [
        "x = 2\n",
        "\n",
        "def kob(a):\n",
        "  print(f'a címe: {id(a)}')\n",
        "  a = a**3\n",
        "  print(f'a címe: {id(a)}')\n",
        "\n",
        "print(f'x címe: {id(x)}')\n",
        "kob(x)\n",
        "print(f'x címe: {id(x)}')\n",
        "print(x)"
      ],
      "metadata": {
        "colab": {
          "base_uri": "https://localhost:8080/"
        },
        "id": "EsZG5AZR4F9n",
        "outputId": "992e4b87-ad8c-44a4-9388-7ab2e278c8eb"
      },
      "execution_count": null,
      "outputs": [
        {
          "output_type": "stream",
          "name": "stdout",
          "text": [
            "x címe: 94529986804256\n",
            "a címe: 94529986804256\n",
            "a címe: 94529986804448\n",
            "x címe: 94529986804256\n",
            "2\n"
          ]
        }
      ]
    },
    {
      "cell_type": "markdown",
      "source": [
        "1)\n",
        "> x --> 2\n",
        "\n",
        "2)\n",
        "> x --> 2 <-- a\n",
        "\n",
        "3)\n",
        "> x --> 2\n",
        "\n",
        "> a --> 8\n",
        "\n",
        "4)\n",
        "> x --> 2"
      ],
      "metadata": {
        "id": "VMaENeK0Dzb-"
      }
    },
    {
      "cell_type": "code",
      "source": [
        "x = 2\n",
        "\n",
        "def kob():\n",
        "  x = x**3 # nem éri el a függvényen kívül definiált, rá nézve globális változót\n",
        "\n",
        "kob()\n",
        "print(x)"
      ],
      "metadata": {
        "colab": {
          "base_uri": "https://localhost:8080/",
          "height": 358
        },
        "id": "K5wVTa607JGF",
        "outputId": "9b180063-fa1f-41b1-f06f-39d456ba64d9"
      },
      "execution_count": null,
      "outputs": [
        {
          "output_type": "error",
          "ename": "UnboundLocalError",
          "evalue": "ignored",
          "traceback": [
            "\u001b[0;31m---------------------------------------------------------------------------\u001b[0m",
            "\u001b[0;31mUnboundLocalError\u001b[0m                         Traceback (most recent call last)",
            "\u001b[0;32m<ipython-input-42-0f6f07e8a500>\u001b[0m in \u001b[0;36m<module>\u001b[0;34m()\u001b[0m\n\u001b[1;32m      4\u001b[0m   \u001b[0mx\u001b[0m \u001b[0;34m=\u001b[0m \u001b[0mx\u001b[0m\u001b[0;34m**\u001b[0m\u001b[0;36m3\u001b[0m\u001b[0;34m\u001b[0m\u001b[0;34m\u001b[0m\u001b[0m\n\u001b[1;32m      5\u001b[0m \u001b[0;34m\u001b[0m\u001b[0m\n\u001b[0;32m----> 6\u001b[0;31m \u001b[0mkob\u001b[0m\u001b[0;34m(\u001b[0m\u001b[0;34m)\u001b[0m\u001b[0;34m\u001b[0m\u001b[0;34m\u001b[0m\u001b[0m\n\u001b[0m\u001b[1;32m      7\u001b[0m \u001b[0mprint\u001b[0m\u001b[0;34m(\u001b[0m\u001b[0mx\u001b[0m\u001b[0;34m)\u001b[0m\u001b[0;34m\u001b[0m\u001b[0;34m\u001b[0m\u001b[0m\n",
            "\u001b[0;32m<ipython-input-42-0f6f07e8a500>\u001b[0m in \u001b[0;36mkob\u001b[0;34m()\u001b[0m\n\u001b[1;32m      2\u001b[0m \u001b[0;34m\u001b[0m\u001b[0m\n\u001b[1;32m      3\u001b[0m \u001b[0;32mdef\u001b[0m \u001b[0mkob\u001b[0m\u001b[0;34m(\u001b[0m\u001b[0;34m)\u001b[0m\u001b[0;34m:\u001b[0m\u001b[0;34m\u001b[0m\u001b[0;34m\u001b[0m\u001b[0m\n\u001b[0;32m----> 4\u001b[0;31m   \u001b[0mx\u001b[0m \u001b[0;34m=\u001b[0m \u001b[0mx\u001b[0m\u001b[0;34m**\u001b[0m\u001b[0;36m3\u001b[0m\u001b[0;34m\u001b[0m\u001b[0;34m\u001b[0m\u001b[0m\n\u001b[0m\u001b[1;32m      5\u001b[0m \u001b[0;34m\u001b[0m\u001b[0m\n\u001b[1;32m      6\u001b[0m \u001b[0mkob\u001b[0m\u001b[0;34m(\u001b[0m\u001b[0;34m)\u001b[0m\u001b[0;34m\u001b[0m\u001b[0;34m\u001b[0m\u001b[0m\n",
            "\u001b[0;31mUnboundLocalError\u001b[0m: local variable 'x' referenced before assignment"
          ]
        }
      ]
    },
    {
      "cell_type": "markdown",
      "source": [
        "Melyek a függvényre nézve globális és lokális változók?"
      ],
      "metadata": {
        "id": "FtjQLd-KEwxm"
      }
    },
    {
      "cell_type": "code",
      "source": [
        "x = 2\n",
        "\n",
        "def kob(a):\n",
        "  a = a**3\n",
        "  print(f'Lokális változók: {locals()}')\n",
        "\n",
        "print(f'Globális változók: {globals()}')\n",
        "kob(x)\n",
        "print(x)"
      ],
      "metadata": {
        "colab": {
          "base_uri": "https://localhost:8080/"
        },
        "id": "0SjI_uuUEVrC",
        "outputId": "c5e6c4da-09eb-4a73-af48-31d19a83963f"
      },
      "execution_count": null,
      "outputs": [
        {
          "output_type": "stream",
          "name": "stdout",
          "text": [
            "Globális változók: {'__name__': '__main__', '__doc__': 'Automatically created module for IPython interactive environment', '__package__': None, '__loader__': None, '__spec__': None, '__builtin__': <module 'builtins' (built-in)>, '__builtins__': <module 'builtins' (built-in)>, '_ih': ['', \"RS = 8\\nRO = 15\\ns = -RS\\nwhile s <= RS:\\n  o = -RO\\n  while o <= RO:\\n    if s**2/RS**2 + o**2/RO**2 <= 1:\\n      print('*', end='')\\n    else:\\n      print(' ', end='')\\n    o += 1\\n  print()\\n  s += 1\", \"RS = 8\\nRO = 15\\ns = -RS\\nwhile s <= RS:\\n  o = -RO\\n  while o <= RO:\\n    if s**2/RS**2 + o**2/RO**2 <= 1:\\n      print('*', end='')\\n    else:\\n      print(' ', end='')\\n    o += 1\\n  print()\\n  s += 1\\n\\nRS = 4\\nRO = 7\\ns = -RS\\nwhile s <= RS:\\n  o = -RO\\n  while o <= RO:\\n    if s**2/RS**2 + o**2/RO**2 <= 1:\\n      print('*', end='')\\n    else:\\n      print(' ', end='')\\n    o += 1\\n  print()\\n  s += 1\", \"RS = 8\\nRO = 15\\ns = -RS\\nwhile s <= RS:\\n  o = -RO\\n  while o <= RO:\\n    if s**2/RS**2 + o**2/RO**2 <= 1:\\n      print('*', end='')\\n    else:\\n      print(' ', end='')\\n    o += 1\\n  print()\\n  s += 1\\n\\nRS = 4\\nRO = 8\\ns = -RS\\nwhile s <= RS:\\n  o = -RO\\n  while o <= RO:\\n    if s**2/RS**2 + o**2/RO**2 <= 1:\\n      print('*', end='')\\n    else:\\n      print(' ', end='')\\n    o += 1\\n  print()\\n  s += 1\", \"def ellipszis(rs, ro): # függvény definíciója\\n  s = -rs\\n  while s <= rs:\\n    o = -ro\\n    while o <= ro:\\n      if s**2/rs**2 + o**2/ro**2 <= 1:\\n        print('*', end='')\\n      else:\\n        print(' ', end='')\\n      o += 1\\n    print()\\n    s += 1\\n\\nellipszis(8, 15)\\nellipszis(4, 8)\", 'ellipszis(3)', 'ellipszis(1, 2, 3)', \"def ellipszis(rs, ro): # függvény definíciója\\n  s = -rs\\n  while s <= rs:\\n    o = -ro\\n    while o <= ro:\\n      if s**2/rs**2 + o**2/ro**2 <= 1:\\n        print('*', end='')\\n      else:\\n        print(' ', end='')\\n      o += 1\\n    print()\\n    s += 1\", \"def ellipszis(rs, ro=5):\\n  s = -rs\\n  while s <= rs:\\n    o = -ro\\n    while o <= ro:\\n      if s**2/rs**2 + o**2/ro**2 <= 1:\\n        print('*', end='')\\n      else:\\n        print(' ', end='')\\n      o += 1\\n    print()\\n    s += 1\\n\\nellipszis(3)\", \"def ellipszis(rs, ro=rs):\\n  s = -rs\\n  while s <= rs:\\n    o = -ro\\n    while o <= ro:\\n      if s**2/rs**2 + o**2/ro**2 <= 1:\\n        print('*', end='')\\n      else:\\n        print(' ', end='')\\n      o += 1\\n    print()\\n    s += 1\\n\\nellipszis(3)\", \"def ellipszis(rs, ro=None):\\n  ro = ro if type(ro)!='NoneType' else rs\\n  s = -rs\\n  while s <= rs:\\n    o = -ro\\n    while o <= ro:\\n      if s**2/rs**2 + o**2/ro**2 <= 1:\\n        print('*', end='')\\n      else:\\n        print(' ', end='')\\n      o += 1\\n    print()\\n    s += 1\\n\\nellipszis(3)\", \"def ellipszis(rs, ro=None):\\n  ro = rs if isinstance(ro, None) else ro\\n  s = -rs\\n  while s <= rs:\\n    o = -ro\\n    while o <= ro:\\n      if s**2/rs**2 + o**2/ro**2 <= 1:\\n        print('*', end='')\\n      else:\\n        print(' ', end='')\\n      o += 1\\n    print()\\n    s += 1\\n\\nellipszis(3)\", \"def ellipszis(rs, ro=None):\\n  ro = rs if isinstance(ro, NoneType) else ro\\n  s = -rs\\n  while s <= rs:\\n    o = -ro\\n    while o <= ro:\\n      if s**2/rs**2 + o**2/ro**2 <= 1:\\n        print('*', end='')\\n      else:\\n        print(' ', end='')\\n      o += 1\\n    print()\\n    s += 1\\n\\nellipszis(3)\", \"def ellipszis(rs, ro=None):\\n  ro = rs if ro is None else ro\\n  s = -rs\\n  while s <= rs:\\n    o = -ro\\n    while o <= ro:\\n      if s**2/rs**2 + o**2/ro**2 <= 1:\\n        print('*', end='')\\n      else:\\n        print(' ', end='')\\n      o += 1\\n    print()\\n    s += 1\\n\\nellipszis(3)\", \"def ellipszis(rs, ro=None): # alapértelmezett érték a None, amit nem lehetne értelmesen használni; innen tudjuk, hogy a két sugár értéke legyen egyforma\\n  ro = rs if ro is None else ro\\n  s = -rs\\n  while s <= rs:\\n    o = -ro\\n    while o <= ro:\\n      if s**2/rs**2 + o**2/ro**2 <= 1:\\n        print('*', end='')\\n      else:\\n        print(' ', end='')\\n      o += 1\\n    print()\\n    s += 1\\n\\nellipszis(3)\\nellipszis(3, 5)\", 'def teglalapKeruler(a, b):\\n  return 2 * (a + b)\\n\\nprint(teglalapKeruler(2, 3))\\nprint(teglalapKeruler(2.5, 4))', 'def teglalapKerulet(a, b):\\n  return 2 * (a + b)\\n\\nprint(teglalapKerulet(2, 3))\\nprint(teglalapKerulet(2.5, 4))', \"def isNeptun(kod):\\n  if len(kod) != 6:\\n    return False\\n  for betu in kod:\\n    if not (betu.isdigit() or betu.isalpha()):\\n      return False\\n  return True\\n\\nprint(isNeptun('Abc123'))\", \"def isNeptun(kod):\\n  if len(kod) != 6:\\n    return False\\n  for betu in kod:\\n    if not (betu.isdigit() or betu.isalpha()):\\n      return False\\n  return True\\n\\nprint(isNeptun('Abc123'))\\nprint('1a')\\nprint('1a2b3c4d')\", \"def isNeptun(kod):\\n  if len(kod) != 6:\\n    return False\\n  for betu in kod:\\n    if not (betu.isdigit() or betu.isalpha()):\\n      return False\\n  return True\\n\\nprint(isNeptun('Abc123'))\\nprint(isNeptun('1a'))\\nprint(isNeptun('1a2b3c4d'))\", \"def isNeptun(kod):\\n  if len(kod) != 6:\\n    return False\\n  for betu in kod:\\n    if not (betu.isdigit() or betu.isalpha()):\\n      return False\\n  return True\\n\\nprint(isNeptun('Abc123'))\\nprint(isNeptun('1a'))\\nprint(isNeptun('1a2b3c4d'))\\nprint(isNeptun('1a+!3c'))\", 'def osszead(*operandusok):\\n  osszeg = 0\\n  for operandus in operandusok:\\n    osszeg += operandus\\n  return osszeg\\n\\nprint(osszead(1, 2, 3))\\nprint(osszead(1, 2, 3, 4, 5))', 'ellipszis(5, 10)\\nellipszis(10, 5)', 'ellipszis(rs=5, ro=10)', 'ellipszis(rs=5, ro=10)\\nellipszis(ro=10, rs=5)', \"def tanulmanyok(**targyak):\\n  oraszam = 0\\n  for kod, targy in targyak:\\n    if 'eloadas' in targy:\\n      oraszam += targy['eloadas']\\n    if 'gyakorlat' in targy:\\n      oraszam += targy['gyakorlat']\\n  return oraszam\\n\\nprint(tanulmanyok(\\n    GKNB_INTM012 = {\\n        'nev' : 'Számítógépek működése',\\n        'eloadas' : 3,\\n        'gyakorlat' : 2,\\n        'felev' : 1\\n    },\\n    GKNB_INTM021 = {\\n        'nev' : 'Programozás',\\n        'eloadas' : 2,\\n        'gyakorlat' : 2,\\n        'felev' : 2\\n    }\\n))\", \"def tanulmanyok(**targyak):\\n  oraszam = 0\\n  for targy in targyak:\\n    if 'eloadas' in targy:\\n      oraszam += targy['eloadas']\\n    if 'gyakorlat' in targy:\\n      oraszam += targy['gyakorlat']\\n  return oraszam\\n\\nprint(tanulmanyok(\\n    GKNB_INTM012 = {\\n        'nev' : 'Számítógépek működése',\\n        'eloadas' : 3,\\n        'gyakorlat' : 2,\\n        'felev' : 1\\n    },\\n    GKNB_INTM021 = {\\n        'nev' : 'Programozás',\\n        'eloadas' : 2,\\n        'gyakorlat' : 2,\\n        'felev' : 2\\n    }\\n))\", 'def osszeadLista(operandusok):\\n  osszeg = 0\\n  for operandus in operandusok:\\n    osszeg += operandus\\n  return osszeg\\n\\nprint(osszeadLista((1, 2, 3)))        # tuple\\nprint(osszeadLista([1, 2, 3, 4, 5]))  # lista', 'def osszeadLista(operandusok):\\n  osszeg = 0\\n  for operandus in operandusok:\\n    osszeg += operandus\\n  return osszeg\\n\\nprint(osszeadLista((1, 2, 3)))        # tuple\\nprint(osszeadLista([1, 2, 3, 4, 5]))  # lista\\n\\n*szamok, = 1, 2, 3\\n\\nprint(osszeadLista(szamok))', \"a = 2\\nb = 5\\n\\ndef csere(a, b):\\n  a, b = b, a\\n\\nprint(f'a={a}, b={b}')\", \"a = 2\\nb = 5\\n\\ndef csere(a, b):\\n  a, b = b, a\\n\\ncsere(a, b)\\nprint(f'a={a}, b={b}') # Hoppá!\", \"x = 2\\ny = 5\\n\\ndef csere(a, b):\\n  a, b = b, a\\n\\ncsere(x, y)\\nprint(f'x={x}, y={y}') # Hoppá!\", \"x = 2\\ny = 5\\n\\ndef csere(a, b):\\n  print(f'a címe: {id(a)}, b címe: {id(b)}')\\n  a, b = b, a\\n  print(f'a címe: {id(a)}, b címe: {id(b)}')\\n\\nprint(f'x címe: {id(x)}, y címe: {id(y)}')\\ncsere(x, y)\\nprint(f'x címe: {id(x)}, y címe: {id(y)}')\\nprint(f'x={x}, y={y}')\", 'x = 2\\n\\ndef kob(a):\\n  x = x**3\\n\\nkob(x)\\nprint(x)', 'x = 2\\n\\ndef kob(a):\\n  a = a**3\\n\\nkob(x)\\nprint(x)', \"x = 2\\n\\ndef kob(a):\\n  print(f'a címe: {id(a)}')\\n  a = a**3\\n  print(f'a címe: {id(a)}')\\n\\nprint(f'x címe: {id(x)}')\\nkob(x)\\nprint(f'x címe: {id(x)}')\\nprint(x)\", 'def teglalap(a, b):\\n  kerulet = 2 * (a + b)\\n  terulet = a * b\\n  return kerulet, terulet\\n\\nk, t = teglalap(2, 3)', \"def teglalap(a, b):\\n  kerulet = 2 * (a + b)\\n  terulet = a * b\\n  return kerulet, terulet\\n\\nk, t = teglalap(2, 3)\\nprint(f'A téglalap kerülete {k}, területe {t}.')\", 'eredmeny = teglalap(2, 3)\\nprint(eredmeny)', \"x = 2\\ny = 5\\n\\ndef csere(a, b):\\n  a, b = b, a\\n  return a, b\\n\\nx, y = csere(x, y)\\nprint(f'x={x}, y={y}')\", 'x = 2\\n\\ndef kob(a):\\n  return a**3\\n  \\nx = kob(x)\\nprint(x)', 'x = 2\\n\\ndef kob():\\n  x = x**3\\n\\nkob(x)\\nprint(x)', 'x = 2\\n\\ndef kob():\\n  x = x**3\\n\\nkob()\\nprint(x)', 'x = 2\\n\\ndef kob():\\n  global x\\n  x = x**3\\n\\nkob()\\nprint(x)', '*szamok, = 2, 5\\n\\ndef csere(t):\\n  t[0], t[1] = t[1], t[0]\\n\\nprint(szamok)\\ncsere(szamok)\\nprint(szamok)', 'szamok = (2, 5)\\n\\ndef csere(t):\\n  t[0], t[1] = t[1], t[0]\\n\\nprint(szamok)\\ncsere(szamok)\\nprint(szamok)', 'szamok = [2, 5]\\n\\ndef csere(t):\\n  t[0], t[1] = t[1], t[0]\\n\\nprint(szamok)\\ncsere(szamok)\\nprint(szamok)', 'd = {x : 2}\\n\\ndef kob(a):\\n  return a[x]**3\\n  \\nkob(d)\\nprint(d)', \"d = {x : 2}\\n\\ndef kob(a):\\n  return a['x']**3\\n  \\nkob(d)\\nprint(d)\", \"d = {'x' : 2}\\n\\ndef kob(a):\\n  return a['x']**3\\n  \\nkob(d)\\nprint(d)\", \"x = 2\\n\\ndef kob(a):\\n  a = a**3\\n  print(f'Lokális változók: {locals()}')\\n\\nprint(f'Globális változók: {globals()}')\\nkob(x)\\nprint(x)\"], '_oh': {}, '_dh': ['/content'], '_sh': <module 'IPython.core.shadowns' from '/usr/local/lib/python3.7/dist-packages/IPython/core/shadowns.py'>, 'In': ['', \"RS = 8\\nRO = 15\\ns = -RS\\nwhile s <= RS:\\n  o = -RO\\n  while o <= RO:\\n    if s**2/RS**2 + o**2/RO**2 <= 1:\\n      print('*', end='')\\n    else:\\n      print(' ', end='')\\n    o += 1\\n  print()\\n  s += 1\", \"RS = 8\\nRO = 15\\ns = -RS\\nwhile s <= RS:\\n  o = -RO\\n  while o <= RO:\\n    if s**2/RS**2 + o**2/RO**2 <= 1:\\n      print('*', end='')\\n    else:\\n      print(' ', end='')\\n    o += 1\\n  print()\\n  s += 1\\n\\nRS = 4\\nRO = 7\\ns = -RS\\nwhile s <= RS:\\n  o = -RO\\n  while o <= RO:\\n    if s**2/RS**2 + o**2/RO**2 <= 1:\\n      print('*', end='')\\n    else:\\n      print(' ', end='')\\n    o += 1\\n  print()\\n  s += 1\", \"RS = 8\\nRO = 15\\ns = -RS\\nwhile s <= RS:\\n  o = -RO\\n  while o <= RO:\\n    if s**2/RS**2 + o**2/RO**2 <= 1:\\n      print('*', end='')\\n    else:\\n      print(' ', end='')\\n    o += 1\\n  print()\\n  s += 1\\n\\nRS = 4\\nRO = 8\\ns = -RS\\nwhile s <= RS:\\n  o = -RO\\n  while o <= RO:\\n    if s**2/RS**2 + o**2/RO**2 <= 1:\\n      print('*', end='')\\n    else:\\n      print(' ', end='')\\n    o += 1\\n  print()\\n  s += 1\", \"def ellipszis(rs, ro): # függvény definíciója\\n  s = -rs\\n  while s <= rs:\\n    o = -ro\\n    while o <= ro:\\n      if s**2/rs**2 + o**2/ro**2 <= 1:\\n        print('*', end='')\\n      else:\\n        print(' ', end='')\\n      o += 1\\n    print()\\n    s += 1\\n\\nellipszis(8, 15)\\nellipszis(4, 8)\", 'ellipszis(3)', 'ellipszis(1, 2, 3)', \"def ellipszis(rs, ro): # függvény definíciója\\n  s = -rs\\n  while s <= rs:\\n    o = -ro\\n    while o <= ro:\\n      if s**2/rs**2 + o**2/ro**2 <= 1:\\n        print('*', end='')\\n      else:\\n        print(' ', end='')\\n      o += 1\\n    print()\\n    s += 1\", \"def ellipszis(rs, ro=5):\\n  s = -rs\\n  while s <= rs:\\n    o = -ro\\n    while o <= ro:\\n      if s**2/rs**2 + o**2/ro**2 <= 1:\\n        print('*', end='')\\n      else:\\n        print(' ', end='')\\n      o += 1\\n    print()\\n    s += 1\\n\\nellipszis(3)\", \"def ellipszis(rs, ro=rs):\\n  s = -rs\\n  while s <= rs:\\n    o = -ro\\n    while o <= ro:\\n      if s**2/rs**2 + o**2/ro**2 <= 1:\\n        print('*', end='')\\n      else:\\n        print(' ', end='')\\n      o += 1\\n    print()\\n    s += 1\\n\\nellipszis(3)\", \"def ellipszis(rs, ro=None):\\n  ro = ro if type(ro)!='NoneType' else rs\\n  s = -rs\\n  while s <= rs:\\n    o = -ro\\n    while o <= ro:\\n      if s**2/rs**2 + o**2/ro**2 <= 1:\\n        print('*', end='')\\n      else:\\n        print(' ', end='')\\n      o += 1\\n    print()\\n    s += 1\\n\\nellipszis(3)\", \"def ellipszis(rs, ro=None):\\n  ro = rs if isinstance(ro, None) else ro\\n  s = -rs\\n  while s <= rs:\\n    o = -ro\\n    while o <= ro:\\n      if s**2/rs**2 + o**2/ro**2 <= 1:\\n        print('*', end='')\\n      else:\\n        print(' ', end='')\\n      o += 1\\n    print()\\n    s += 1\\n\\nellipszis(3)\", \"def ellipszis(rs, ro=None):\\n  ro = rs if isinstance(ro, NoneType) else ro\\n  s = -rs\\n  while s <= rs:\\n    o = -ro\\n    while o <= ro:\\n      if s**2/rs**2 + o**2/ro**2 <= 1:\\n        print('*', end='')\\n      else:\\n        print(' ', end='')\\n      o += 1\\n    print()\\n    s += 1\\n\\nellipszis(3)\", \"def ellipszis(rs, ro=None):\\n  ro = rs if ro is None else ro\\n  s = -rs\\n  while s <= rs:\\n    o = -ro\\n    while o <= ro:\\n      if s**2/rs**2 + o**2/ro**2 <= 1:\\n        print('*', end='')\\n      else:\\n        print(' ', end='')\\n      o += 1\\n    print()\\n    s += 1\\n\\nellipszis(3)\", \"def ellipszis(rs, ro=None): # alapértelmezett érték a None, amit nem lehetne értelmesen használni; innen tudjuk, hogy a két sugár értéke legyen egyforma\\n  ro = rs if ro is None else ro\\n  s = -rs\\n  while s <= rs:\\n    o = -ro\\n    while o <= ro:\\n      if s**2/rs**2 + o**2/ro**2 <= 1:\\n        print('*', end='')\\n      else:\\n        print(' ', end='')\\n      o += 1\\n    print()\\n    s += 1\\n\\nellipszis(3)\\nellipszis(3, 5)\", 'def teglalapKeruler(a, b):\\n  return 2 * (a + b)\\n\\nprint(teglalapKeruler(2, 3))\\nprint(teglalapKeruler(2.5, 4))', 'def teglalapKerulet(a, b):\\n  return 2 * (a + b)\\n\\nprint(teglalapKerulet(2, 3))\\nprint(teglalapKerulet(2.5, 4))', \"def isNeptun(kod):\\n  if len(kod) != 6:\\n    return False\\n  for betu in kod:\\n    if not (betu.isdigit() or betu.isalpha()):\\n      return False\\n  return True\\n\\nprint(isNeptun('Abc123'))\", \"def isNeptun(kod):\\n  if len(kod) != 6:\\n    return False\\n  for betu in kod:\\n    if not (betu.isdigit() or betu.isalpha()):\\n      return False\\n  return True\\n\\nprint(isNeptun('Abc123'))\\nprint('1a')\\nprint('1a2b3c4d')\", \"def isNeptun(kod):\\n  if len(kod) != 6:\\n    return False\\n  for betu in kod:\\n    if not (betu.isdigit() or betu.isalpha()):\\n      return False\\n  return True\\n\\nprint(isNeptun('Abc123'))\\nprint(isNeptun('1a'))\\nprint(isNeptun('1a2b3c4d'))\", \"def isNeptun(kod):\\n  if len(kod) != 6:\\n    return False\\n  for betu in kod:\\n    if not (betu.isdigit() or betu.isalpha()):\\n      return False\\n  return True\\n\\nprint(isNeptun('Abc123'))\\nprint(isNeptun('1a'))\\nprint(isNeptun('1a2b3c4d'))\\nprint(isNeptun('1a+!3c'))\", 'def osszead(*operandusok):\\n  osszeg = 0\\n  for operandus in operandusok:\\n    osszeg += operandus\\n  return osszeg\\n\\nprint(osszead(1, 2, 3))\\nprint(osszead(1, 2, 3, 4, 5))', 'ellipszis(5, 10)\\nellipszis(10, 5)', 'ellipszis(rs=5, ro=10)', 'ellipszis(rs=5, ro=10)\\nellipszis(ro=10, rs=5)', \"def tanulmanyok(**targyak):\\n  oraszam = 0\\n  for kod, targy in targyak:\\n    if 'eloadas' in targy:\\n      oraszam += targy['eloadas']\\n    if 'gyakorlat' in targy:\\n      oraszam += targy['gyakorlat']\\n  return oraszam\\n\\nprint(tanulmanyok(\\n    GKNB_INTM012 = {\\n        'nev' : 'Számítógépek működése',\\n        'eloadas' : 3,\\n        'gyakorlat' : 2,\\n        'felev' : 1\\n    },\\n    GKNB_INTM021 = {\\n        'nev' : 'Programozás',\\n        'eloadas' : 2,\\n        'gyakorlat' : 2,\\n        'felev' : 2\\n    }\\n))\", \"def tanulmanyok(**targyak):\\n  oraszam = 0\\n  for targy in targyak:\\n    if 'eloadas' in targy:\\n      oraszam += targy['eloadas']\\n    if 'gyakorlat' in targy:\\n      oraszam += targy['gyakorlat']\\n  return oraszam\\n\\nprint(tanulmanyok(\\n    GKNB_INTM012 = {\\n        'nev' : 'Számítógépek működése',\\n        'eloadas' : 3,\\n        'gyakorlat' : 2,\\n        'felev' : 1\\n    },\\n    GKNB_INTM021 = {\\n        'nev' : 'Programozás',\\n        'eloadas' : 2,\\n        'gyakorlat' : 2,\\n        'felev' : 2\\n    }\\n))\", 'def osszeadLista(operandusok):\\n  osszeg = 0\\n  for operandus in operandusok:\\n    osszeg += operandus\\n  return osszeg\\n\\nprint(osszeadLista((1, 2, 3)))        # tuple\\nprint(osszeadLista([1, 2, 3, 4, 5]))  # lista', 'def osszeadLista(operandusok):\\n  osszeg = 0\\n  for operandus in operandusok:\\n    osszeg += operandus\\n  return osszeg\\n\\nprint(osszeadLista((1, 2, 3)))        # tuple\\nprint(osszeadLista([1, 2, 3, 4, 5]))  # lista\\n\\n*szamok, = 1, 2, 3\\n\\nprint(osszeadLista(szamok))', \"a = 2\\nb = 5\\n\\ndef csere(a, b):\\n  a, b = b, a\\n\\nprint(f'a={a}, b={b}')\", \"a = 2\\nb = 5\\n\\ndef csere(a, b):\\n  a, b = b, a\\n\\ncsere(a, b)\\nprint(f'a={a}, b={b}') # Hoppá!\", \"x = 2\\ny = 5\\n\\ndef csere(a, b):\\n  a, b = b, a\\n\\ncsere(x, y)\\nprint(f'x={x}, y={y}') # Hoppá!\", \"x = 2\\ny = 5\\n\\ndef csere(a, b):\\n  print(f'a címe: {id(a)}, b címe: {id(b)}')\\n  a, b = b, a\\n  print(f'a címe: {id(a)}, b címe: {id(b)}')\\n\\nprint(f'x címe: {id(x)}, y címe: {id(y)}')\\ncsere(x, y)\\nprint(f'x címe: {id(x)}, y címe: {id(y)}')\\nprint(f'x={x}, y={y}')\", 'x = 2\\n\\ndef kob(a):\\n  x = x**3\\n\\nkob(x)\\nprint(x)', 'x = 2\\n\\ndef kob(a):\\n  a = a**3\\n\\nkob(x)\\nprint(x)', \"x = 2\\n\\ndef kob(a):\\n  print(f'a címe: {id(a)}')\\n  a = a**3\\n  print(f'a címe: {id(a)}')\\n\\nprint(f'x címe: {id(x)}')\\nkob(x)\\nprint(f'x címe: {id(x)}')\\nprint(x)\", 'def teglalap(a, b):\\n  kerulet = 2 * (a + b)\\n  terulet = a * b\\n  return kerulet, terulet\\n\\nk, t = teglalap(2, 3)', \"def teglalap(a, b):\\n  kerulet = 2 * (a + b)\\n  terulet = a * b\\n  return kerulet, terulet\\n\\nk, t = teglalap(2, 3)\\nprint(f'A téglalap kerülete {k}, területe {t}.')\", 'eredmeny = teglalap(2, 3)\\nprint(eredmeny)', \"x = 2\\ny = 5\\n\\ndef csere(a, b):\\n  a, b = b, a\\n  return a, b\\n\\nx, y = csere(x, y)\\nprint(f'x={x}, y={y}')\", 'x = 2\\n\\ndef kob(a):\\n  return a**3\\n  \\nx = kob(x)\\nprint(x)', 'x = 2\\n\\ndef kob():\\n  x = x**3\\n\\nkob(x)\\nprint(x)', 'x = 2\\n\\ndef kob():\\n  x = x**3\\n\\nkob()\\nprint(x)', 'x = 2\\n\\ndef kob():\\n  global x\\n  x = x**3\\n\\nkob()\\nprint(x)', '*szamok, = 2, 5\\n\\ndef csere(t):\\n  t[0], t[1] = t[1], t[0]\\n\\nprint(szamok)\\ncsere(szamok)\\nprint(szamok)', 'szamok = (2, 5)\\n\\ndef csere(t):\\n  t[0], t[1] = t[1], t[0]\\n\\nprint(szamok)\\ncsere(szamok)\\nprint(szamok)', 'szamok = [2, 5]\\n\\ndef csere(t):\\n  t[0], t[1] = t[1], t[0]\\n\\nprint(szamok)\\ncsere(szamok)\\nprint(szamok)', 'd = {x : 2}\\n\\ndef kob(a):\\n  return a[x]**3\\n  \\nkob(d)\\nprint(d)', \"d = {x : 2}\\n\\ndef kob(a):\\n  return a['x']**3\\n  \\nkob(d)\\nprint(d)\", \"d = {'x' : 2}\\n\\ndef kob(a):\\n  return a['x']**3\\n  \\nkob(d)\\nprint(d)\", \"x = 2\\n\\ndef kob(a):\\n  a = a**3\\n  print(f'Lokális változók: {locals()}')\\n\\nprint(f'Globális változók: {globals()}')\\nkob(x)\\nprint(x)\"], 'Out': {}, 'get_ipython': <bound method InteractiveShell.get_ipython of <google.colab._shell.Shell object at 0x7f0605794fd0>>, 'exit': <IPython.core.autocall.ZMQExitAutocall object at 0x7f0602524390>, 'quit': <IPython.core.autocall.ZMQExitAutocall object at 0x7f0602524390>, '_': '', '__': '', '___': '', '_i': \"d = {'x' : 2}\\n\\ndef kob(a):\\n  return a['x']**3\\n  \\nkob(d)\\nprint(d)\", '_ii': \"d = {x : 2}\\n\\ndef kob(a):\\n  return a['x']**3\\n  \\nkob(d)\\nprint(d)\", '_iii': 'd = {x : 2}\\n\\ndef kob(a):\\n  return a[x]**3\\n  \\nkob(d)\\nprint(d)', '_i1': \"RS = 8\\nRO = 15\\ns = -RS\\nwhile s <= RS:\\n  o = -RO\\n  while o <= RO:\\n    if s**2/RS**2 + o**2/RO**2 <= 1:\\n      print('*', end='')\\n    else:\\n      print(' ', end='')\\n    o += 1\\n  print()\\n  s += 1\", 'RS': 4, 'RO': 8, 's': 5, 'o': 9, '_i2': \"RS = 8\\nRO = 15\\ns = -RS\\nwhile s <= RS:\\n  o = -RO\\n  while o <= RO:\\n    if s**2/RS**2 + o**2/RO**2 <= 1:\\n      print('*', end='')\\n    else:\\n      print(' ', end='')\\n    o += 1\\n  print()\\n  s += 1\\n\\nRS = 4\\nRO = 7\\ns = -RS\\nwhile s <= RS:\\n  o = -RO\\n  while o <= RO:\\n    if s**2/RS**2 + o**2/RO**2 <= 1:\\n      print('*', end='')\\n    else:\\n      print(' ', end='')\\n    o += 1\\n  print()\\n  s += 1\", '_i3': \"RS = 8\\nRO = 15\\ns = -RS\\nwhile s <= RS:\\n  o = -RO\\n  while o <= RO:\\n    if s**2/RS**2 + o**2/RO**2 <= 1:\\n      print('*', end='')\\n    else:\\n      print(' ', end='')\\n    o += 1\\n  print()\\n  s += 1\\n\\nRS = 4\\nRO = 8\\ns = -RS\\nwhile s <= RS:\\n  o = -RO\\n  while o <= RO:\\n    if s**2/RS**2 + o**2/RO**2 <= 1:\\n      print('*', end='')\\n    else:\\n      print(' ', end='')\\n    o += 1\\n  print()\\n  s += 1\", '_i4': \"def ellipszis(rs, ro): # függvény definíciója\\n  s = -rs\\n  while s <= rs:\\n    o = -ro\\n    while o <= ro:\\n      if s**2/rs**2 + o**2/ro**2 <= 1:\\n        print('*', end='')\\n      else:\\n        print(' ', end='')\\n      o += 1\\n    print()\\n    s += 1\\n\\nellipszis(8, 15)\\nellipszis(4, 8)\", 'ellipszis': <function ellipszis at 0x7f05f3e3f290>, '_i5': 'ellipszis(3)', '_i6': 'ellipszis(1, 2, 3)', '_i7': \"def ellipszis(rs, ro): # függvény definíciója\\n  s = -rs\\n  while s <= rs:\\n    o = -ro\\n    while o <= ro:\\n      if s**2/rs**2 + o**2/ro**2 <= 1:\\n        print('*', end='')\\n      else:\\n        print(' ', end='')\\n      o += 1\\n    print()\\n    s += 1\", '_i8': \"def ellipszis(rs, ro=5):\\n  s = -rs\\n  while s <= rs:\\n    o = -ro\\n    while o <= ro:\\n      if s**2/rs**2 + o**2/ro**2 <= 1:\\n        print('*', end='')\\n      else:\\n        print(' ', end='')\\n      o += 1\\n    print()\\n    s += 1\\n\\nellipszis(3)\", '_i9': \"def ellipszis(rs, ro=rs):\\n  s = -rs\\n  while s <= rs:\\n    o = -ro\\n    while o <= ro:\\n      if s**2/rs**2 + o**2/ro**2 <= 1:\\n        print('*', end='')\\n      else:\\n        print(' ', end='')\\n      o += 1\\n    print()\\n    s += 1\\n\\nellipszis(3)\", '_i10': \"def ellipszis(rs, ro=None):\\n  ro = ro if type(ro)!='NoneType' else rs\\n  s = -rs\\n  while s <= rs:\\n    o = -ro\\n    while o <= ro:\\n      if s**2/rs**2 + o**2/ro**2 <= 1:\\n        print('*', end='')\\n      else:\\n        print(' ', end='')\\n      o += 1\\n    print()\\n    s += 1\\n\\nellipszis(3)\", '_i11': \"def ellipszis(rs, ro=None):\\n  ro = rs if isinstance(ro, None) else ro\\n  s = -rs\\n  while s <= rs:\\n    o = -ro\\n    while o <= ro:\\n      if s**2/rs**2 + o**2/ro**2 <= 1:\\n        print('*', end='')\\n      else:\\n        print(' ', end='')\\n      o += 1\\n    print()\\n    s += 1\\n\\nellipszis(3)\", '_i12': \"def ellipszis(rs, ro=None):\\n  ro = rs if isinstance(ro, NoneType) else ro\\n  s = -rs\\n  while s <= rs:\\n    o = -ro\\n    while o <= ro:\\n      if s**2/rs**2 + o**2/ro**2 <= 1:\\n        print('*', end='')\\n      else:\\n        print(' ', end='')\\n      o += 1\\n    print()\\n    s += 1\\n\\nellipszis(3)\", '_i13': \"def ellipszis(rs, ro=None):\\n  ro = rs if ro is None else ro\\n  s = -rs\\n  while s <= rs:\\n    o = -ro\\n    while o <= ro:\\n      if s**2/rs**2 + o**2/ro**2 <= 1:\\n        print('*', end='')\\n      else:\\n        print(' ', end='')\\n      o += 1\\n    print()\\n    s += 1\\n\\nellipszis(3)\", '_i14': \"def ellipszis(rs, ro=None): # alapértelmezett érték a None, amit nem lehetne értelmesen használni; innen tudjuk, hogy a két sugár értéke legyen egyforma\\n  ro = rs if ro is None else ro\\n  s = -rs\\n  while s <= rs:\\n    o = -ro\\n    while o <= ro:\\n      if s**2/rs**2 + o**2/ro**2 <= 1:\\n        print('*', end='')\\n      else:\\n        print(' ', end='')\\n      o += 1\\n    print()\\n    s += 1\\n\\nellipszis(3)\\nellipszis(3, 5)\", '_i15': 'def teglalapKeruler(a, b):\\n  return 2 * (a + b)\\n\\nprint(teglalapKeruler(2, 3))\\nprint(teglalapKeruler(2.5, 4))', 'teglalapKeruler': <function teglalapKeruler at 0x7f05ebcb3cb0>, '_i16': 'def teglalapKerulet(a, b):\\n  return 2 * (a + b)\\n\\nprint(teglalapKerulet(2, 3))\\nprint(teglalapKerulet(2.5, 4))', 'teglalapKerulet': <function teglalapKerulet at 0x7f05ebcb3d40>, '_i17': \"def isNeptun(kod):\\n  if len(kod) != 6:\\n    return False\\n  for betu in kod:\\n    if not (betu.isdigit() or betu.isalpha()):\\n      return False\\n  return True\\n\\nprint(isNeptun('Abc123'))\", 'isNeptun': <function isNeptun at 0x7f05ebc524d0>, '_i18': \"def isNeptun(kod):\\n  if len(kod) != 6:\\n    return False\\n  for betu in kod:\\n    if not (betu.isdigit() or betu.isalpha()):\\n      return False\\n  return True\\n\\nprint(isNeptun('Abc123'))\\nprint('1a')\\nprint('1a2b3c4d')\", '_i19': \"def isNeptun(kod):\\n  if len(kod) != 6:\\n    return False\\n  for betu in kod:\\n    if not (betu.isdigit() or betu.isalpha()):\\n      return False\\n  return True\\n\\nprint(isNeptun('Abc123'))\\nprint(isNeptun('1a'))\\nprint(isNeptun('1a2b3c4d'))\", '_i20': \"def isNeptun(kod):\\n  if len(kod) != 6:\\n    return False\\n  for betu in kod:\\n    if not (betu.isdigit() or betu.isalpha()):\\n      return False\\n  return True\\n\\nprint(isNeptun('Abc123'))\\nprint(isNeptun('1a'))\\nprint(isNeptun('1a2b3c4d'))\\nprint(isNeptun('1a+!3c'))\", '_i21': 'def osszead(*operandusok):\\n  osszeg = 0\\n  for operandus in operandusok:\\n    osszeg += operandus\\n  return osszeg\\n\\nprint(osszead(1, 2, 3))\\nprint(osszead(1, 2, 3, 4, 5))', 'osszead': <function osszead at 0x7f05ebc520e0>, '_i22': 'ellipszis(5, 10)\\nellipszis(10, 5)', '_i23': 'ellipszis(rs=5, ro=10)', '_i24': 'ellipszis(rs=5, ro=10)\\nellipszis(ro=10, rs=5)', '_i25': \"def tanulmanyok(**targyak):\\n  oraszam = 0\\n  for kod, targy in targyak:\\n    if 'eloadas' in targy:\\n      oraszam += targy['eloadas']\\n    if 'gyakorlat' in targy:\\n      oraszam += targy['gyakorlat']\\n  return oraszam\\n\\nprint(tanulmanyok(\\n    GKNB_INTM012 = {\\n        'nev' : 'Számítógépek működése',\\n        'eloadas' : 3,\\n        'gyakorlat' : 2,\\n        'felev' : 1\\n    },\\n    GKNB_INTM021 = {\\n        'nev' : 'Programozás',\\n        'eloadas' : 2,\\n        'gyakorlat' : 2,\\n        'felev' : 2\\n    }\\n))\", 'tanulmanyok': <function tanulmanyok at 0x7f05ebc2a5f0>, '_i26': \"def tanulmanyok(**targyak):\\n  oraszam = 0\\n  for targy in targyak:\\n    if 'eloadas' in targy:\\n      oraszam += targy['eloadas']\\n    if 'gyakorlat' in targy:\\n      oraszam += targy['gyakorlat']\\n  return oraszam\\n\\nprint(tanulmanyok(\\n    GKNB_INTM012 = {\\n        'nev' : 'Számítógépek működése',\\n        'eloadas' : 3,\\n        'gyakorlat' : 2,\\n        'felev' : 1\\n    },\\n    GKNB_INTM021 = {\\n        'nev' : 'Programozás',\\n        'eloadas' : 2,\\n        'gyakorlat' : 2,\\n        'felev' : 2\\n    }\\n))\", '_i27': 'def osszeadLista(operandusok):\\n  osszeg = 0\\n  for operandus in operandusok:\\n    osszeg += operandus\\n  return osszeg\\n\\nprint(osszeadLista((1, 2, 3)))        # tuple\\nprint(osszeadLista([1, 2, 3, 4, 5]))  # lista', 'osszeadLista': <function osszeadLista at 0x7f05ebbd8440>, '_i28': 'def osszeadLista(operandusok):\\n  osszeg = 0\\n  for operandus in operandusok:\\n    osszeg += operandus\\n  return osszeg\\n\\nprint(osszeadLista((1, 2, 3)))        # tuple\\nprint(osszeadLista([1, 2, 3, 4, 5]))  # lista\\n\\n*szamok, = 1, 2, 3\\n\\nprint(osszeadLista(szamok))', 'szamok': [5, 2], '_i29': \"a = 2\\nb = 5\\n\\ndef csere(a, b):\\n  a, b = b, a\\n\\nprint(f'a={a}, b={b}')\", 'a': 2, 'b': 5, 'csere': <function csere at 0x7f05ebb999e0>, '_i30': \"a = 2\\nb = 5\\n\\ndef csere(a, b):\\n  a, b = b, a\\n\\ncsere(a, b)\\nprint(f'a={a}, b={b}') # Hoppá!\", '_i31': \"x = 2\\ny = 5\\n\\ndef csere(a, b):\\n  a, b = b, a\\n\\ncsere(x, y)\\nprint(f'x={x}, y={y}') # Hoppá!\", 'x': 2, 'y': 2, '_i32': \"x = 2\\ny = 5\\n\\ndef csere(a, b):\\n  print(f'a címe: {id(a)}, b címe: {id(b)}')\\n  a, b = b, a\\n  print(f'a címe: {id(a)}, b címe: {id(b)}')\\n\\nprint(f'x címe: {id(x)}, y címe: {id(y)}')\\ncsere(x, y)\\nprint(f'x címe: {id(x)}, y címe: {id(y)}')\\nprint(f'x={x}, y={y}')\", '_i33': 'x = 2\\n\\ndef kob(a):\\n  x = x**3\\n\\nkob(x)\\nprint(x)', 'kob': <function kob at 0x7f05ebb919e0>, '_i34': 'x = 2\\n\\ndef kob(a):\\n  a = a**3\\n\\nkob(x)\\nprint(x)', '_i35': \"x = 2\\n\\ndef kob(a):\\n  print(f'a címe: {id(a)}')\\n  a = a**3\\n  print(f'a címe: {id(a)}')\\n\\nprint(f'x címe: {id(x)}')\\nkob(x)\\nprint(f'x címe: {id(x)}')\\nprint(x)\", '_i36': 'def teglalap(a, b):\\n  kerulet = 2 * (a + b)\\n  terulet = a * b\\n  return kerulet, terulet\\n\\nk, t = teglalap(2, 3)', 'teglalap': <function teglalap at 0x7f05ebb8a9e0>, 'k': 10, 't': 6, '_i37': \"def teglalap(a, b):\\n  kerulet = 2 * (a + b)\\n  terulet = a * b\\n  return kerulet, terulet\\n\\nk, t = teglalap(2, 3)\\nprint(f'A téglalap kerülete {k}, területe {t}.')\", '_i38': 'eredmeny = teglalap(2, 3)\\nprint(eredmeny)', 'eredmeny': (10, 6), '_i39': \"x = 2\\ny = 5\\n\\ndef csere(a, b):\\n  a, b = b, a\\n  return a, b\\n\\nx, y = csere(x, y)\\nprint(f'x={x}, y={y}')\", '_i40': 'x = 2\\n\\ndef kob(a):\\n  return a**3\\n  \\nx = kob(x)\\nprint(x)', '_i41': 'x = 2\\n\\ndef kob():\\n  x = x**3\\n\\nkob(x)\\nprint(x)', '_i42': 'x = 2\\n\\ndef kob():\\n  x = x**3\\n\\nkob()\\nprint(x)', '_i43': 'x = 2\\n\\ndef kob():\\n  global x\\n  x = x**3\\n\\nkob()\\nprint(x)', '_i44': '*szamok, = 2, 5\\n\\ndef csere(t):\\n  t[0], t[1] = t[1], t[0]\\n\\nprint(szamok)\\ncsere(szamok)\\nprint(szamok)', '_i45': 'szamok = (2, 5)\\n\\ndef csere(t):\\n  t[0], t[1] = t[1], t[0]\\n\\nprint(szamok)\\ncsere(szamok)\\nprint(szamok)', '_i46': 'szamok = [2, 5]\\n\\ndef csere(t):\\n  t[0], t[1] = t[1], t[0]\\n\\nprint(szamok)\\ncsere(szamok)\\nprint(szamok)', '_i47': 'd = {x : 2}\\n\\ndef kob(a):\\n  return a[x]**3\\n  \\nkob(d)\\nprint(d)', 'd': {'x': 2}, '_i48': \"d = {x : 2}\\n\\ndef kob(a):\\n  return a['x']**3\\n  \\nkob(d)\\nprint(d)\", '_i49': \"d = {'x' : 2}\\n\\ndef kob(a):\\n  return a['x']**3\\n  \\nkob(d)\\nprint(d)\", '_i50': \"x = 2\\n\\ndef kob(a):\\n  a = a**3\\n  print(f'Lokális változók: {locals()}')\\n\\nprint(f'Globális változók: {globals()}')\\nkob(x)\\nprint(x)\"}\n",
            "Lokális változók: {'a': 8}\n",
            "2\n"
          ]
        }
      ]
    },
    {
      "cell_type": "markdown",
      "source": [
        "Meg tudjuk mondani, hogy *x*-et ne a lokális változók között keresse, mint általában."
      ],
      "metadata": {
        "id": "pV05vufUFZ0R"
      }
    },
    {
      "cell_type": "code",
      "source": [
        "x = 2\n",
        "\n",
        "def kob():\n",
        "  global x  # elérhetővé teszi a globális változót\n",
        "  x = x**3\n",
        "  print(f'Lokális változók: {locals()}')\n",
        "\n",
        "print(f'Globális változók: {globals()}')\n",
        "kob()\n",
        "print(x)"
      ],
      "metadata": {
        "colab": {
          "base_uri": "https://localhost:8080/"
        },
        "id": "0dXvNgfd-K70",
        "outputId": "6be75ba5-b392-44f6-c4ba-0f14cc1a99b5"
      },
      "execution_count": null,
      "outputs": [
        {
          "output_type": "stream",
          "name": "stdout",
          "text": [
            "Globális változók: {'__name__': '__main__', '__doc__': 'Automatically created module for IPython interactive environment', '__package__': None, '__loader__': None, '__spec__': None, '__builtin__': <module 'builtins' (built-in)>, '__builtins__': <module 'builtins' (built-in)>, '_ih': ['', \"RS = 8\\nRO = 15\\ns = -RS\\nwhile s <= RS:\\n  o = -RO\\n  while o <= RO:\\n    if s**2/RS**2 + o**2/RO**2 <= 1:\\n      print('*', end='')\\n    else:\\n      print(' ', end='')\\n    o += 1\\n  print()\\n  s += 1\", \"RS = 8\\nRO = 15\\ns = -RS\\nwhile s <= RS:\\n  o = -RO\\n  while o <= RO:\\n    if s**2/RS**2 + o**2/RO**2 <= 1:\\n      print('*', end='')\\n    else:\\n      print(' ', end='')\\n    o += 1\\n  print()\\n  s += 1\\n\\nRS = 4\\nRO = 7\\ns = -RS\\nwhile s <= RS:\\n  o = -RO\\n  while o <= RO:\\n    if s**2/RS**2 + o**2/RO**2 <= 1:\\n      print('*', end='')\\n    else:\\n      print(' ', end='')\\n    o += 1\\n  print()\\n  s += 1\", \"RS = 8\\nRO = 15\\ns = -RS\\nwhile s <= RS:\\n  o = -RO\\n  while o <= RO:\\n    if s**2/RS**2 + o**2/RO**2 <= 1:\\n      print('*', end='')\\n    else:\\n      print(' ', end='')\\n    o += 1\\n  print()\\n  s += 1\\n\\nRS = 4\\nRO = 8\\ns = -RS\\nwhile s <= RS:\\n  o = -RO\\n  while o <= RO:\\n    if s**2/RS**2 + o**2/RO**2 <= 1:\\n      print('*', end='')\\n    else:\\n      print(' ', end='')\\n    o += 1\\n  print()\\n  s += 1\", \"def ellipszis(rs, ro): # függvény definíciója\\n  s = -rs\\n  while s <= rs:\\n    o = -ro\\n    while o <= ro:\\n      if s**2/rs**2 + o**2/ro**2 <= 1:\\n        print('*', end='')\\n      else:\\n        print(' ', end='')\\n      o += 1\\n    print()\\n    s += 1\\n\\nellipszis(8, 15)\\nellipszis(4, 8)\", 'ellipszis(3)', 'ellipszis(1, 2, 3)', \"def ellipszis(rs, ro): # függvény definíciója\\n  s = -rs\\n  while s <= rs:\\n    o = -ro\\n    while o <= ro:\\n      if s**2/rs**2 + o**2/ro**2 <= 1:\\n        print('*', end='')\\n      else:\\n        print(' ', end='')\\n      o += 1\\n    print()\\n    s += 1\", \"def ellipszis(rs, ro=5):\\n  s = -rs\\n  while s <= rs:\\n    o = -ro\\n    while o <= ro:\\n      if s**2/rs**2 + o**2/ro**2 <= 1:\\n        print('*', end='')\\n      else:\\n        print(' ', end='')\\n      o += 1\\n    print()\\n    s += 1\\n\\nellipszis(3)\", \"def ellipszis(rs, ro=rs):\\n  s = -rs\\n  while s <= rs:\\n    o = -ro\\n    while o <= ro:\\n      if s**2/rs**2 + o**2/ro**2 <= 1:\\n        print('*', end='')\\n      else:\\n        print(' ', end='')\\n      o += 1\\n    print()\\n    s += 1\\n\\nellipszis(3)\", \"def ellipszis(rs, ro=None):\\n  ro = ro if type(ro)!='NoneType' else rs\\n  s = -rs\\n  while s <= rs:\\n    o = -ro\\n    while o <= ro:\\n      if s**2/rs**2 + o**2/ro**2 <= 1:\\n        print('*', end='')\\n      else:\\n        print(' ', end='')\\n      o += 1\\n    print()\\n    s += 1\\n\\nellipszis(3)\", \"def ellipszis(rs, ro=None):\\n  ro = rs if isinstance(ro, None) else ro\\n  s = -rs\\n  while s <= rs:\\n    o = -ro\\n    while o <= ro:\\n      if s**2/rs**2 + o**2/ro**2 <= 1:\\n        print('*', end='')\\n      else:\\n        print(' ', end='')\\n      o += 1\\n    print()\\n    s += 1\\n\\nellipszis(3)\", \"def ellipszis(rs, ro=None):\\n  ro = rs if isinstance(ro, NoneType) else ro\\n  s = -rs\\n  while s <= rs:\\n    o = -ro\\n    while o <= ro:\\n      if s**2/rs**2 + o**2/ro**2 <= 1:\\n        print('*', end='')\\n      else:\\n        print(' ', end='')\\n      o += 1\\n    print()\\n    s += 1\\n\\nellipszis(3)\", \"def ellipszis(rs, ro=None):\\n  ro = rs if ro is None else ro\\n  s = -rs\\n  while s <= rs:\\n    o = -ro\\n    while o <= ro:\\n      if s**2/rs**2 + o**2/ro**2 <= 1:\\n        print('*', end='')\\n      else:\\n        print(' ', end='')\\n      o += 1\\n    print()\\n    s += 1\\n\\nellipszis(3)\", \"def ellipszis(rs, ro=None): # alapértelmezett érték a None, amit nem lehetne értelmesen használni; innen tudjuk, hogy a két sugár értéke legyen egyforma\\n  ro = rs if ro is None else ro\\n  s = -rs\\n  while s <= rs:\\n    o = -ro\\n    while o <= ro:\\n      if s**2/rs**2 + o**2/ro**2 <= 1:\\n        print('*', end='')\\n      else:\\n        print(' ', end='')\\n      o += 1\\n    print()\\n    s += 1\\n\\nellipszis(3)\\nellipszis(3, 5)\", 'def teglalapKeruler(a, b):\\n  return 2 * (a + b)\\n\\nprint(teglalapKeruler(2, 3))\\nprint(teglalapKeruler(2.5, 4))', 'def teglalapKerulet(a, b):\\n  return 2 * (a + b)\\n\\nprint(teglalapKerulet(2, 3))\\nprint(teglalapKerulet(2.5, 4))', \"def isNeptun(kod):\\n  if len(kod) != 6:\\n    return False\\n  for betu in kod:\\n    if not (betu.isdigit() or betu.isalpha()):\\n      return False\\n  return True\\n\\nprint(isNeptun('Abc123'))\", \"def isNeptun(kod):\\n  if len(kod) != 6:\\n    return False\\n  for betu in kod:\\n    if not (betu.isdigit() or betu.isalpha()):\\n      return False\\n  return True\\n\\nprint(isNeptun('Abc123'))\\nprint('1a')\\nprint('1a2b3c4d')\", \"def isNeptun(kod):\\n  if len(kod) != 6:\\n    return False\\n  for betu in kod:\\n    if not (betu.isdigit() or betu.isalpha()):\\n      return False\\n  return True\\n\\nprint(isNeptun('Abc123'))\\nprint(isNeptun('1a'))\\nprint(isNeptun('1a2b3c4d'))\", \"def isNeptun(kod):\\n  if len(kod) != 6:\\n    return False\\n  for betu in kod:\\n    if not (betu.isdigit() or betu.isalpha()):\\n      return False\\n  return True\\n\\nprint(isNeptun('Abc123'))\\nprint(isNeptun('1a'))\\nprint(isNeptun('1a2b3c4d'))\\nprint(isNeptun('1a+!3c'))\", 'def osszead(*operandusok):\\n  osszeg = 0\\n  for operandus in operandusok:\\n    osszeg += operandus\\n  return osszeg\\n\\nprint(osszead(1, 2, 3))\\nprint(osszead(1, 2, 3, 4, 5))', 'ellipszis(5, 10)\\nellipszis(10, 5)', 'ellipszis(rs=5, ro=10)', 'ellipszis(rs=5, ro=10)\\nellipszis(ro=10, rs=5)', \"def tanulmanyok(**targyak):\\n  oraszam = 0\\n  for kod, targy in targyak:\\n    if 'eloadas' in targy:\\n      oraszam += targy['eloadas']\\n    if 'gyakorlat' in targy:\\n      oraszam += targy['gyakorlat']\\n  return oraszam\\n\\nprint(tanulmanyok(\\n    GKNB_INTM012 = {\\n        'nev' : 'Számítógépek működése',\\n        'eloadas' : 3,\\n        'gyakorlat' : 2,\\n        'felev' : 1\\n    },\\n    GKNB_INTM021 = {\\n        'nev' : 'Programozás',\\n        'eloadas' : 2,\\n        'gyakorlat' : 2,\\n        'felev' : 2\\n    }\\n))\", \"def tanulmanyok(**targyak):\\n  oraszam = 0\\n  for targy in targyak:\\n    if 'eloadas' in targy:\\n      oraszam += targy['eloadas']\\n    if 'gyakorlat' in targy:\\n      oraszam += targy['gyakorlat']\\n  return oraszam\\n\\nprint(tanulmanyok(\\n    GKNB_INTM012 = {\\n        'nev' : 'Számítógépek működése',\\n        'eloadas' : 3,\\n        'gyakorlat' : 2,\\n        'felev' : 1\\n    },\\n    GKNB_INTM021 = {\\n        'nev' : 'Programozás',\\n        'eloadas' : 2,\\n        'gyakorlat' : 2,\\n        'felev' : 2\\n    }\\n))\", 'def osszeadLista(operandusok):\\n  osszeg = 0\\n  for operandus in operandusok:\\n    osszeg += operandus\\n  return osszeg\\n\\nprint(osszeadLista((1, 2, 3)))        # tuple\\nprint(osszeadLista([1, 2, 3, 4, 5]))  # lista', 'def osszeadLista(operandusok):\\n  osszeg = 0\\n  for operandus in operandusok:\\n    osszeg += operandus\\n  return osszeg\\n\\nprint(osszeadLista((1, 2, 3)))        # tuple\\nprint(osszeadLista([1, 2, 3, 4, 5]))  # lista\\n\\n*szamok, = 1, 2, 3\\n\\nprint(osszeadLista(szamok))', \"a = 2\\nb = 5\\n\\ndef csere(a, b):\\n  a, b = b, a\\n\\nprint(f'a={a}, b={b}')\", \"a = 2\\nb = 5\\n\\ndef csere(a, b):\\n  a, b = b, a\\n\\ncsere(a, b)\\nprint(f'a={a}, b={b}') # Hoppá!\", \"x = 2\\ny = 5\\n\\ndef csere(a, b):\\n  a, b = b, a\\n\\ncsere(x, y)\\nprint(f'x={x}, y={y}') # Hoppá!\", \"x = 2\\ny = 5\\n\\ndef csere(a, b):\\n  print(f'a címe: {id(a)}, b címe: {id(b)}')\\n  a, b = b, a\\n  print(f'a címe: {id(a)}, b címe: {id(b)}')\\n\\nprint(f'x címe: {id(x)}, y címe: {id(y)}')\\ncsere(x, y)\\nprint(f'x címe: {id(x)}, y címe: {id(y)}')\\nprint(f'x={x}, y={y}')\", 'x = 2\\n\\ndef kob(a):\\n  x = x**3\\n\\nkob(x)\\nprint(x)', 'x = 2\\n\\ndef kob(a):\\n  a = a**3\\n\\nkob(x)\\nprint(x)', \"x = 2\\n\\ndef kob(a):\\n  print(f'a címe: {id(a)}')\\n  a = a**3\\n  print(f'a címe: {id(a)}')\\n\\nprint(f'x címe: {id(x)}')\\nkob(x)\\nprint(f'x címe: {id(x)}')\\nprint(x)\", 'def teglalap(a, b):\\n  kerulet = 2 * (a + b)\\n  terulet = a * b\\n  return kerulet, terulet\\n\\nk, t = teglalap(2, 3)', \"def teglalap(a, b):\\n  kerulet = 2 * (a + b)\\n  terulet = a * b\\n  return kerulet, terulet\\n\\nk, t = teglalap(2, 3)\\nprint(f'A téglalap kerülete {k}, területe {t}.')\", 'eredmeny = teglalap(2, 3)\\nprint(eredmeny)', \"x = 2\\ny = 5\\n\\ndef csere(a, b):\\n  a, b = b, a\\n  return a, b\\n\\nx, y = csere(x, y)\\nprint(f'x={x}, y={y}')\", 'x = 2\\n\\ndef kob(a):\\n  return a**3\\n  \\nx = kob(x)\\nprint(x)', 'x = 2\\n\\ndef kob():\\n  x = x**3\\n\\nkob(x)\\nprint(x)', 'x = 2\\n\\ndef kob():\\n  x = x**3\\n\\nkob()\\nprint(x)', 'x = 2\\n\\ndef kob():\\n  global x\\n  x = x**3\\n\\nkob()\\nprint(x)', '*szamok, = 2, 5\\n\\ndef csere(t):\\n  t[0], t[1] = t[1], t[0]\\n\\nprint(szamok)\\ncsere(szamok)\\nprint(szamok)', 'szamok = (2, 5)\\n\\ndef csere(t):\\n  t[0], t[1] = t[1], t[0]\\n\\nprint(szamok)\\ncsere(szamok)\\nprint(szamok)', 'szamok = [2, 5]\\n\\ndef csere(t):\\n  t[0], t[1] = t[1], t[0]\\n\\nprint(szamok)\\ncsere(szamok)\\nprint(szamok)', 'd = {x : 2}\\n\\ndef kob(a):\\n  return a[x]**3\\n  \\nkob(d)\\nprint(d)', \"d = {x : 2}\\n\\ndef kob(a):\\n  return a['x']**3\\n  \\nkob(d)\\nprint(d)\", \"d = {'x' : 2}\\n\\ndef kob(a):\\n  return a['x']**3\\n  \\nkob(d)\\nprint(d)\", \"x = 2\\n\\ndef kob(a):\\n  a = a**3\\n  print(f'Lokális változók: {locals()}')\\n\\nprint(f'Globális változók: {globals()}')\\nkob(x)\\nprint(x)\", \"x = 2\\n\\ndef kob():\\n  global x  # elérhetővé teszi a globális változót\\n  x = x**3\\n  print(f'Lokális változók: {locals()}')\\n\\nprint(f'Globális változók: {globals()}')\\nkob()\\nprint(x)\"], '_oh': {}, '_dh': ['/content'], '_sh': <module 'IPython.core.shadowns' from '/usr/local/lib/python3.7/dist-packages/IPython/core/shadowns.py'>, 'In': ['', \"RS = 8\\nRO = 15\\ns = -RS\\nwhile s <= RS:\\n  o = -RO\\n  while o <= RO:\\n    if s**2/RS**2 + o**2/RO**2 <= 1:\\n      print('*', end='')\\n    else:\\n      print(' ', end='')\\n    o += 1\\n  print()\\n  s += 1\", \"RS = 8\\nRO = 15\\ns = -RS\\nwhile s <= RS:\\n  o = -RO\\n  while o <= RO:\\n    if s**2/RS**2 + o**2/RO**2 <= 1:\\n      print('*', end='')\\n    else:\\n      print(' ', end='')\\n    o += 1\\n  print()\\n  s += 1\\n\\nRS = 4\\nRO = 7\\ns = -RS\\nwhile s <= RS:\\n  o = -RO\\n  while o <= RO:\\n    if s**2/RS**2 + o**2/RO**2 <= 1:\\n      print('*', end='')\\n    else:\\n      print(' ', end='')\\n    o += 1\\n  print()\\n  s += 1\", \"RS = 8\\nRO = 15\\ns = -RS\\nwhile s <= RS:\\n  o = -RO\\n  while o <= RO:\\n    if s**2/RS**2 + o**2/RO**2 <= 1:\\n      print('*', end='')\\n    else:\\n      print(' ', end='')\\n    o += 1\\n  print()\\n  s += 1\\n\\nRS = 4\\nRO = 8\\ns = -RS\\nwhile s <= RS:\\n  o = -RO\\n  while o <= RO:\\n    if s**2/RS**2 + o**2/RO**2 <= 1:\\n      print('*', end='')\\n    else:\\n      print(' ', end='')\\n    o += 1\\n  print()\\n  s += 1\", \"def ellipszis(rs, ro): # függvény definíciója\\n  s = -rs\\n  while s <= rs:\\n    o = -ro\\n    while o <= ro:\\n      if s**2/rs**2 + o**2/ro**2 <= 1:\\n        print('*', end='')\\n      else:\\n        print(' ', end='')\\n      o += 1\\n    print()\\n    s += 1\\n\\nellipszis(8, 15)\\nellipszis(4, 8)\", 'ellipszis(3)', 'ellipszis(1, 2, 3)', \"def ellipszis(rs, ro): # függvény definíciója\\n  s = -rs\\n  while s <= rs:\\n    o = -ro\\n    while o <= ro:\\n      if s**2/rs**2 + o**2/ro**2 <= 1:\\n        print('*', end='')\\n      else:\\n        print(' ', end='')\\n      o += 1\\n    print()\\n    s += 1\", \"def ellipszis(rs, ro=5):\\n  s = -rs\\n  while s <= rs:\\n    o = -ro\\n    while o <= ro:\\n      if s**2/rs**2 + o**2/ro**2 <= 1:\\n        print('*', end='')\\n      else:\\n        print(' ', end='')\\n      o += 1\\n    print()\\n    s += 1\\n\\nellipszis(3)\", \"def ellipszis(rs, ro=rs):\\n  s = -rs\\n  while s <= rs:\\n    o = -ro\\n    while o <= ro:\\n      if s**2/rs**2 + o**2/ro**2 <= 1:\\n        print('*', end='')\\n      else:\\n        print(' ', end='')\\n      o += 1\\n    print()\\n    s += 1\\n\\nellipszis(3)\", \"def ellipszis(rs, ro=None):\\n  ro = ro if type(ro)!='NoneType' else rs\\n  s = -rs\\n  while s <= rs:\\n    o = -ro\\n    while o <= ro:\\n      if s**2/rs**2 + o**2/ro**2 <= 1:\\n        print('*', end='')\\n      else:\\n        print(' ', end='')\\n      o += 1\\n    print()\\n    s += 1\\n\\nellipszis(3)\", \"def ellipszis(rs, ro=None):\\n  ro = rs if isinstance(ro, None) else ro\\n  s = -rs\\n  while s <= rs:\\n    o = -ro\\n    while o <= ro:\\n      if s**2/rs**2 + o**2/ro**2 <= 1:\\n        print('*', end='')\\n      else:\\n        print(' ', end='')\\n      o += 1\\n    print()\\n    s += 1\\n\\nellipszis(3)\", \"def ellipszis(rs, ro=None):\\n  ro = rs if isinstance(ro, NoneType) else ro\\n  s = -rs\\n  while s <= rs:\\n    o = -ro\\n    while o <= ro:\\n      if s**2/rs**2 + o**2/ro**2 <= 1:\\n        print('*', end='')\\n      else:\\n        print(' ', end='')\\n      o += 1\\n    print()\\n    s += 1\\n\\nellipszis(3)\", \"def ellipszis(rs, ro=None):\\n  ro = rs if ro is None else ro\\n  s = -rs\\n  while s <= rs:\\n    o = -ro\\n    while o <= ro:\\n      if s**2/rs**2 + o**2/ro**2 <= 1:\\n        print('*', end='')\\n      else:\\n        print(' ', end='')\\n      o += 1\\n    print()\\n    s += 1\\n\\nellipszis(3)\", \"def ellipszis(rs, ro=None): # alapértelmezett érték a None, amit nem lehetne értelmesen használni; innen tudjuk, hogy a két sugár értéke legyen egyforma\\n  ro = rs if ro is None else ro\\n  s = -rs\\n  while s <= rs:\\n    o = -ro\\n    while o <= ro:\\n      if s**2/rs**2 + o**2/ro**2 <= 1:\\n        print('*', end='')\\n      else:\\n        print(' ', end='')\\n      o += 1\\n    print()\\n    s += 1\\n\\nellipszis(3)\\nellipszis(3, 5)\", 'def teglalapKeruler(a, b):\\n  return 2 * (a + b)\\n\\nprint(teglalapKeruler(2, 3))\\nprint(teglalapKeruler(2.5, 4))', 'def teglalapKerulet(a, b):\\n  return 2 * (a + b)\\n\\nprint(teglalapKerulet(2, 3))\\nprint(teglalapKerulet(2.5, 4))', \"def isNeptun(kod):\\n  if len(kod) != 6:\\n    return False\\n  for betu in kod:\\n    if not (betu.isdigit() or betu.isalpha()):\\n      return False\\n  return True\\n\\nprint(isNeptun('Abc123'))\", \"def isNeptun(kod):\\n  if len(kod) != 6:\\n    return False\\n  for betu in kod:\\n    if not (betu.isdigit() or betu.isalpha()):\\n      return False\\n  return True\\n\\nprint(isNeptun('Abc123'))\\nprint('1a')\\nprint('1a2b3c4d')\", \"def isNeptun(kod):\\n  if len(kod) != 6:\\n    return False\\n  for betu in kod:\\n    if not (betu.isdigit() or betu.isalpha()):\\n      return False\\n  return True\\n\\nprint(isNeptun('Abc123'))\\nprint(isNeptun('1a'))\\nprint(isNeptun('1a2b3c4d'))\", \"def isNeptun(kod):\\n  if len(kod) != 6:\\n    return False\\n  for betu in kod:\\n    if not (betu.isdigit() or betu.isalpha()):\\n      return False\\n  return True\\n\\nprint(isNeptun('Abc123'))\\nprint(isNeptun('1a'))\\nprint(isNeptun('1a2b3c4d'))\\nprint(isNeptun('1a+!3c'))\", 'def osszead(*operandusok):\\n  osszeg = 0\\n  for operandus in operandusok:\\n    osszeg += operandus\\n  return osszeg\\n\\nprint(osszead(1, 2, 3))\\nprint(osszead(1, 2, 3, 4, 5))', 'ellipszis(5, 10)\\nellipszis(10, 5)', 'ellipszis(rs=5, ro=10)', 'ellipszis(rs=5, ro=10)\\nellipszis(ro=10, rs=5)', \"def tanulmanyok(**targyak):\\n  oraszam = 0\\n  for kod, targy in targyak:\\n    if 'eloadas' in targy:\\n      oraszam += targy['eloadas']\\n    if 'gyakorlat' in targy:\\n      oraszam += targy['gyakorlat']\\n  return oraszam\\n\\nprint(tanulmanyok(\\n    GKNB_INTM012 = {\\n        'nev' : 'Számítógépek működése',\\n        'eloadas' : 3,\\n        'gyakorlat' : 2,\\n        'felev' : 1\\n    },\\n    GKNB_INTM021 = {\\n        'nev' : 'Programozás',\\n        'eloadas' : 2,\\n        'gyakorlat' : 2,\\n        'felev' : 2\\n    }\\n))\", \"def tanulmanyok(**targyak):\\n  oraszam = 0\\n  for targy in targyak:\\n    if 'eloadas' in targy:\\n      oraszam += targy['eloadas']\\n    if 'gyakorlat' in targy:\\n      oraszam += targy['gyakorlat']\\n  return oraszam\\n\\nprint(tanulmanyok(\\n    GKNB_INTM012 = {\\n        'nev' : 'Számítógépek működése',\\n        'eloadas' : 3,\\n        'gyakorlat' : 2,\\n        'felev' : 1\\n    },\\n    GKNB_INTM021 = {\\n        'nev' : 'Programozás',\\n        'eloadas' : 2,\\n        'gyakorlat' : 2,\\n        'felev' : 2\\n    }\\n))\", 'def osszeadLista(operandusok):\\n  osszeg = 0\\n  for operandus in operandusok:\\n    osszeg += operandus\\n  return osszeg\\n\\nprint(osszeadLista((1, 2, 3)))        # tuple\\nprint(osszeadLista([1, 2, 3, 4, 5]))  # lista', 'def osszeadLista(operandusok):\\n  osszeg = 0\\n  for operandus in operandusok:\\n    osszeg += operandus\\n  return osszeg\\n\\nprint(osszeadLista((1, 2, 3)))        # tuple\\nprint(osszeadLista([1, 2, 3, 4, 5]))  # lista\\n\\n*szamok, = 1, 2, 3\\n\\nprint(osszeadLista(szamok))', \"a = 2\\nb = 5\\n\\ndef csere(a, b):\\n  a, b = b, a\\n\\nprint(f'a={a}, b={b}')\", \"a = 2\\nb = 5\\n\\ndef csere(a, b):\\n  a, b = b, a\\n\\ncsere(a, b)\\nprint(f'a={a}, b={b}') # Hoppá!\", \"x = 2\\ny = 5\\n\\ndef csere(a, b):\\n  a, b = b, a\\n\\ncsere(x, y)\\nprint(f'x={x}, y={y}') # Hoppá!\", \"x = 2\\ny = 5\\n\\ndef csere(a, b):\\n  print(f'a címe: {id(a)}, b címe: {id(b)}')\\n  a, b = b, a\\n  print(f'a címe: {id(a)}, b címe: {id(b)}')\\n\\nprint(f'x címe: {id(x)}, y címe: {id(y)}')\\ncsere(x, y)\\nprint(f'x címe: {id(x)}, y címe: {id(y)}')\\nprint(f'x={x}, y={y}')\", 'x = 2\\n\\ndef kob(a):\\n  x = x**3\\n\\nkob(x)\\nprint(x)', 'x = 2\\n\\ndef kob(a):\\n  a = a**3\\n\\nkob(x)\\nprint(x)', \"x = 2\\n\\ndef kob(a):\\n  print(f'a címe: {id(a)}')\\n  a = a**3\\n  print(f'a címe: {id(a)}')\\n\\nprint(f'x címe: {id(x)}')\\nkob(x)\\nprint(f'x címe: {id(x)}')\\nprint(x)\", 'def teglalap(a, b):\\n  kerulet = 2 * (a + b)\\n  terulet = a * b\\n  return kerulet, terulet\\n\\nk, t = teglalap(2, 3)', \"def teglalap(a, b):\\n  kerulet = 2 * (a + b)\\n  terulet = a * b\\n  return kerulet, terulet\\n\\nk, t = teglalap(2, 3)\\nprint(f'A téglalap kerülete {k}, területe {t}.')\", 'eredmeny = teglalap(2, 3)\\nprint(eredmeny)', \"x = 2\\ny = 5\\n\\ndef csere(a, b):\\n  a, b = b, a\\n  return a, b\\n\\nx, y = csere(x, y)\\nprint(f'x={x}, y={y}')\", 'x = 2\\n\\ndef kob(a):\\n  return a**3\\n  \\nx = kob(x)\\nprint(x)', 'x = 2\\n\\ndef kob():\\n  x = x**3\\n\\nkob(x)\\nprint(x)', 'x = 2\\n\\ndef kob():\\n  x = x**3\\n\\nkob()\\nprint(x)', 'x = 2\\n\\ndef kob():\\n  global x\\n  x = x**3\\n\\nkob()\\nprint(x)', '*szamok, = 2, 5\\n\\ndef csere(t):\\n  t[0], t[1] = t[1], t[0]\\n\\nprint(szamok)\\ncsere(szamok)\\nprint(szamok)', 'szamok = (2, 5)\\n\\ndef csere(t):\\n  t[0], t[1] = t[1], t[0]\\n\\nprint(szamok)\\ncsere(szamok)\\nprint(szamok)', 'szamok = [2, 5]\\n\\ndef csere(t):\\n  t[0], t[1] = t[1], t[0]\\n\\nprint(szamok)\\ncsere(szamok)\\nprint(szamok)', 'd = {x : 2}\\n\\ndef kob(a):\\n  return a[x]**3\\n  \\nkob(d)\\nprint(d)', \"d = {x : 2}\\n\\ndef kob(a):\\n  return a['x']**3\\n  \\nkob(d)\\nprint(d)\", \"d = {'x' : 2}\\n\\ndef kob(a):\\n  return a['x']**3\\n  \\nkob(d)\\nprint(d)\", \"x = 2\\n\\ndef kob(a):\\n  a = a**3\\n  print(f'Lokális változók: {locals()}')\\n\\nprint(f'Globális változók: {globals()}')\\nkob(x)\\nprint(x)\", \"x = 2\\n\\ndef kob():\\n  global x  # elérhetővé teszi a globális változót\\n  x = x**3\\n  print(f'Lokális változók: {locals()}')\\n\\nprint(f'Globális változók: {globals()}')\\nkob()\\nprint(x)\"], 'Out': {}, 'get_ipython': <bound method InteractiveShell.get_ipython of <google.colab._shell.Shell object at 0x7f0605794fd0>>, 'exit': <IPython.core.autocall.ZMQExitAutocall object at 0x7f0602524390>, 'quit': <IPython.core.autocall.ZMQExitAutocall object at 0x7f0602524390>, '_': '', '__': '', '___': '', '_i': \"x = 2\\n\\ndef kob(a):\\n  a = a**3\\n  print(f'Lokális változók: {locals()}')\\n\\nprint(f'Globális változók: {globals()}')\\nkob(x)\\nprint(x)\", '_ii': \"d = {'x' : 2}\\n\\ndef kob(a):\\n  return a['x']**3\\n  \\nkob(d)\\nprint(d)\", '_iii': \"d = {x : 2}\\n\\ndef kob(a):\\n  return a['x']**3\\n  \\nkob(d)\\nprint(d)\", '_i1': \"RS = 8\\nRO = 15\\ns = -RS\\nwhile s <= RS:\\n  o = -RO\\n  while o <= RO:\\n    if s**2/RS**2 + o**2/RO**2 <= 1:\\n      print('*', end='')\\n    else:\\n      print(' ', end='')\\n    o += 1\\n  print()\\n  s += 1\", 'RS': 4, 'RO': 8, 's': 5, 'o': 9, '_i2': \"RS = 8\\nRO = 15\\ns = -RS\\nwhile s <= RS:\\n  o = -RO\\n  while o <= RO:\\n    if s**2/RS**2 + o**2/RO**2 <= 1:\\n      print('*', end='')\\n    else:\\n      print(' ', end='')\\n    o += 1\\n  print()\\n  s += 1\\n\\nRS = 4\\nRO = 7\\ns = -RS\\nwhile s <= RS:\\n  o = -RO\\n  while o <= RO:\\n    if s**2/RS**2 + o**2/RO**2 <= 1:\\n      print('*', end='')\\n    else:\\n      print(' ', end='')\\n    o += 1\\n  print()\\n  s += 1\", '_i3': \"RS = 8\\nRO = 15\\ns = -RS\\nwhile s <= RS:\\n  o = -RO\\n  while o <= RO:\\n    if s**2/RS**2 + o**2/RO**2 <= 1:\\n      print('*', end='')\\n    else:\\n      print(' ', end='')\\n    o += 1\\n  print()\\n  s += 1\\n\\nRS = 4\\nRO = 8\\ns = -RS\\nwhile s <= RS:\\n  o = -RO\\n  while o <= RO:\\n    if s**2/RS**2 + o**2/RO**2 <= 1:\\n      print('*', end='')\\n    else:\\n      print(' ', end='')\\n    o += 1\\n  print()\\n  s += 1\", '_i4': \"def ellipszis(rs, ro): # függvény definíciója\\n  s = -rs\\n  while s <= rs:\\n    o = -ro\\n    while o <= ro:\\n      if s**2/rs**2 + o**2/ro**2 <= 1:\\n        print('*', end='')\\n      else:\\n        print(' ', end='')\\n      o += 1\\n    print()\\n    s += 1\\n\\nellipszis(8, 15)\\nellipszis(4, 8)\", 'ellipszis': <function ellipszis at 0x7f05f3e3f290>, '_i5': 'ellipszis(3)', '_i6': 'ellipszis(1, 2, 3)', '_i7': \"def ellipszis(rs, ro): # függvény definíciója\\n  s = -rs\\n  while s <= rs:\\n    o = -ro\\n    while o <= ro:\\n      if s**2/rs**2 + o**2/ro**2 <= 1:\\n        print('*', end='')\\n      else:\\n        print(' ', end='')\\n      o += 1\\n    print()\\n    s += 1\", '_i8': \"def ellipszis(rs, ro=5):\\n  s = -rs\\n  while s <= rs:\\n    o = -ro\\n    while o <= ro:\\n      if s**2/rs**2 + o**2/ro**2 <= 1:\\n        print('*', end='')\\n      else:\\n        print(' ', end='')\\n      o += 1\\n    print()\\n    s += 1\\n\\nellipszis(3)\", '_i9': \"def ellipszis(rs, ro=rs):\\n  s = -rs\\n  while s <= rs:\\n    o = -ro\\n    while o <= ro:\\n      if s**2/rs**2 + o**2/ro**2 <= 1:\\n        print('*', end='')\\n      else:\\n        print(' ', end='')\\n      o += 1\\n    print()\\n    s += 1\\n\\nellipszis(3)\", '_i10': \"def ellipszis(rs, ro=None):\\n  ro = ro if type(ro)!='NoneType' else rs\\n  s = -rs\\n  while s <= rs:\\n    o = -ro\\n    while o <= ro:\\n      if s**2/rs**2 + o**2/ro**2 <= 1:\\n        print('*', end='')\\n      else:\\n        print(' ', end='')\\n      o += 1\\n    print()\\n    s += 1\\n\\nellipszis(3)\", '_i11': \"def ellipszis(rs, ro=None):\\n  ro = rs if isinstance(ro, None) else ro\\n  s = -rs\\n  while s <= rs:\\n    o = -ro\\n    while o <= ro:\\n      if s**2/rs**2 + o**2/ro**2 <= 1:\\n        print('*', end='')\\n      else:\\n        print(' ', end='')\\n      o += 1\\n    print()\\n    s += 1\\n\\nellipszis(3)\", '_i12': \"def ellipszis(rs, ro=None):\\n  ro = rs if isinstance(ro, NoneType) else ro\\n  s = -rs\\n  while s <= rs:\\n    o = -ro\\n    while o <= ro:\\n      if s**2/rs**2 + o**2/ro**2 <= 1:\\n        print('*', end='')\\n      else:\\n        print(' ', end='')\\n      o += 1\\n    print()\\n    s += 1\\n\\nellipszis(3)\", '_i13': \"def ellipszis(rs, ro=None):\\n  ro = rs if ro is None else ro\\n  s = -rs\\n  while s <= rs:\\n    o = -ro\\n    while o <= ro:\\n      if s**2/rs**2 + o**2/ro**2 <= 1:\\n        print('*', end='')\\n      else:\\n        print(' ', end='')\\n      o += 1\\n    print()\\n    s += 1\\n\\nellipszis(3)\", '_i14': \"def ellipszis(rs, ro=None): # alapértelmezett érték a None, amit nem lehetne értelmesen használni; innen tudjuk, hogy a két sugár értéke legyen egyforma\\n  ro = rs if ro is None else ro\\n  s = -rs\\n  while s <= rs:\\n    o = -ro\\n    while o <= ro:\\n      if s**2/rs**2 + o**2/ro**2 <= 1:\\n        print('*', end='')\\n      else:\\n        print(' ', end='')\\n      o += 1\\n    print()\\n    s += 1\\n\\nellipszis(3)\\nellipszis(3, 5)\", '_i15': 'def teglalapKeruler(a, b):\\n  return 2 * (a + b)\\n\\nprint(teglalapKeruler(2, 3))\\nprint(teglalapKeruler(2.5, 4))', 'teglalapKeruler': <function teglalapKeruler at 0x7f05ebcb3cb0>, '_i16': 'def teglalapKerulet(a, b):\\n  return 2 * (a + b)\\n\\nprint(teglalapKerulet(2, 3))\\nprint(teglalapKerulet(2.5, 4))', 'teglalapKerulet': <function teglalapKerulet at 0x7f05ebcb3d40>, '_i17': \"def isNeptun(kod):\\n  if len(kod) != 6:\\n    return False\\n  for betu in kod:\\n    if not (betu.isdigit() or betu.isalpha()):\\n      return False\\n  return True\\n\\nprint(isNeptun('Abc123'))\", 'isNeptun': <function isNeptun at 0x7f05ebc524d0>, '_i18': \"def isNeptun(kod):\\n  if len(kod) != 6:\\n    return False\\n  for betu in kod:\\n    if not (betu.isdigit() or betu.isalpha()):\\n      return False\\n  return True\\n\\nprint(isNeptun('Abc123'))\\nprint('1a')\\nprint('1a2b3c4d')\", '_i19': \"def isNeptun(kod):\\n  if len(kod) != 6:\\n    return False\\n  for betu in kod:\\n    if not (betu.isdigit() or betu.isalpha()):\\n      return False\\n  return True\\n\\nprint(isNeptun('Abc123'))\\nprint(isNeptun('1a'))\\nprint(isNeptun('1a2b3c4d'))\", '_i20': \"def isNeptun(kod):\\n  if len(kod) != 6:\\n    return False\\n  for betu in kod:\\n    if not (betu.isdigit() or betu.isalpha()):\\n      return False\\n  return True\\n\\nprint(isNeptun('Abc123'))\\nprint(isNeptun('1a'))\\nprint(isNeptun('1a2b3c4d'))\\nprint(isNeptun('1a+!3c'))\", '_i21': 'def osszead(*operandusok):\\n  osszeg = 0\\n  for operandus in operandusok:\\n    osszeg += operandus\\n  return osszeg\\n\\nprint(osszead(1, 2, 3))\\nprint(osszead(1, 2, 3, 4, 5))', 'osszead': <function osszead at 0x7f05ebc520e0>, '_i22': 'ellipszis(5, 10)\\nellipszis(10, 5)', '_i23': 'ellipszis(rs=5, ro=10)', '_i24': 'ellipszis(rs=5, ro=10)\\nellipszis(ro=10, rs=5)', '_i25': \"def tanulmanyok(**targyak):\\n  oraszam = 0\\n  for kod, targy in targyak:\\n    if 'eloadas' in targy:\\n      oraszam += targy['eloadas']\\n    if 'gyakorlat' in targy:\\n      oraszam += targy['gyakorlat']\\n  return oraszam\\n\\nprint(tanulmanyok(\\n    GKNB_INTM012 = {\\n        'nev' : 'Számítógépek működése',\\n        'eloadas' : 3,\\n        'gyakorlat' : 2,\\n        'felev' : 1\\n    },\\n    GKNB_INTM021 = {\\n        'nev' : 'Programozás',\\n        'eloadas' : 2,\\n        'gyakorlat' : 2,\\n        'felev' : 2\\n    }\\n))\", 'tanulmanyok': <function tanulmanyok at 0x7f05ebc2a5f0>, '_i26': \"def tanulmanyok(**targyak):\\n  oraszam = 0\\n  for targy in targyak:\\n    if 'eloadas' in targy:\\n      oraszam += targy['eloadas']\\n    if 'gyakorlat' in targy:\\n      oraszam += targy['gyakorlat']\\n  return oraszam\\n\\nprint(tanulmanyok(\\n    GKNB_INTM012 = {\\n        'nev' : 'Számítógépek működése',\\n        'eloadas' : 3,\\n        'gyakorlat' : 2,\\n        'felev' : 1\\n    },\\n    GKNB_INTM021 = {\\n        'nev' : 'Programozás',\\n        'eloadas' : 2,\\n        'gyakorlat' : 2,\\n        'felev' : 2\\n    }\\n))\", '_i27': 'def osszeadLista(operandusok):\\n  osszeg = 0\\n  for operandus in operandusok:\\n    osszeg += operandus\\n  return osszeg\\n\\nprint(osszeadLista((1, 2, 3)))        # tuple\\nprint(osszeadLista([1, 2, 3, 4, 5]))  # lista', 'osszeadLista': <function osszeadLista at 0x7f05ebbd8440>, '_i28': 'def osszeadLista(operandusok):\\n  osszeg = 0\\n  for operandus in operandusok:\\n    osszeg += operandus\\n  return osszeg\\n\\nprint(osszeadLista((1, 2, 3)))        # tuple\\nprint(osszeadLista([1, 2, 3, 4, 5]))  # lista\\n\\n*szamok, = 1, 2, 3\\n\\nprint(osszeadLista(szamok))', 'szamok': [5, 2], '_i29': \"a = 2\\nb = 5\\n\\ndef csere(a, b):\\n  a, b = b, a\\n\\nprint(f'a={a}, b={b}')\", 'a': 2, 'b': 5, 'csere': <function csere at 0x7f05ebb999e0>, '_i30': \"a = 2\\nb = 5\\n\\ndef csere(a, b):\\n  a, b = b, a\\n\\ncsere(a, b)\\nprint(f'a={a}, b={b}') # Hoppá!\", '_i31': \"x = 2\\ny = 5\\n\\ndef csere(a, b):\\n  a, b = b, a\\n\\ncsere(x, y)\\nprint(f'x={x}, y={y}') # Hoppá!\", 'x': 2, 'y': 2, '_i32': \"x = 2\\ny = 5\\n\\ndef csere(a, b):\\n  print(f'a címe: {id(a)}, b címe: {id(b)}')\\n  a, b = b, a\\n  print(f'a címe: {id(a)}, b címe: {id(b)}')\\n\\nprint(f'x címe: {id(x)}, y címe: {id(y)}')\\ncsere(x, y)\\nprint(f'x címe: {id(x)}, y címe: {id(y)}')\\nprint(f'x={x}, y={y}')\", '_i33': 'x = 2\\n\\ndef kob(a):\\n  x = x**3\\n\\nkob(x)\\nprint(x)', 'kob': <function kob at 0x7f05ebbbbf80>, '_i34': 'x = 2\\n\\ndef kob(a):\\n  a = a**3\\n\\nkob(x)\\nprint(x)', '_i35': \"x = 2\\n\\ndef kob(a):\\n  print(f'a címe: {id(a)}')\\n  a = a**3\\n  print(f'a címe: {id(a)}')\\n\\nprint(f'x címe: {id(x)}')\\nkob(x)\\nprint(f'x címe: {id(x)}')\\nprint(x)\", '_i36': 'def teglalap(a, b):\\n  kerulet = 2 * (a + b)\\n  terulet = a * b\\n  return kerulet, terulet\\n\\nk, t = teglalap(2, 3)', 'teglalap': <function teglalap at 0x7f05ebb8a9e0>, 'k': 10, 't': 6, '_i37': \"def teglalap(a, b):\\n  kerulet = 2 * (a + b)\\n  terulet = a * b\\n  return kerulet, terulet\\n\\nk, t = teglalap(2, 3)\\nprint(f'A téglalap kerülete {k}, területe {t}.')\", '_i38': 'eredmeny = teglalap(2, 3)\\nprint(eredmeny)', 'eredmeny': (10, 6), '_i39': \"x = 2\\ny = 5\\n\\ndef csere(a, b):\\n  a, b = b, a\\n  return a, b\\n\\nx, y = csere(x, y)\\nprint(f'x={x}, y={y}')\", '_i40': 'x = 2\\n\\ndef kob(a):\\n  return a**3\\n  \\nx = kob(x)\\nprint(x)', '_i41': 'x = 2\\n\\ndef kob():\\n  x = x**3\\n\\nkob(x)\\nprint(x)', '_i42': 'x = 2\\n\\ndef kob():\\n  x = x**3\\n\\nkob()\\nprint(x)', '_i43': 'x = 2\\n\\ndef kob():\\n  global x\\n  x = x**3\\n\\nkob()\\nprint(x)', '_i44': '*szamok, = 2, 5\\n\\ndef csere(t):\\n  t[0], t[1] = t[1], t[0]\\n\\nprint(szamok)\\ncsere(szamok)\\nprint(szamok)', '_i45': 'szamok = (2, 5)\\n\\ndef csere(t):\\n  t[0], t[1] = t[1], t[0]\\n\\nprint(szamok)\\ncsere(szamok)\\nprint(szamok)', '_i46': 'szamok = [2, 5]\\n\\ndef csere(t):\\n  t[0], t[1] = t[1], t[0]\\n\\nprint(szamok)\\ncsere(szamok)\\nprint(szamok)', '_i47': 'd = {x : 2}\\n\\ndef kob(a):\\n  return a[x]**3\\n  \\nkob(d)\\nprint(d)', 'd': {'x': 2}, '_i48': \"d = {x : 2}\\n\\ndef kob(a):\\n  return a['x']**3\\n  \\nkob(d)\\nprint(d)\", '_i49': \"d = {'x' : 2}\\n\\ndef kob(a):\\n  return a['x']**3\\n  \\nkob(d)\\nprint(d)\", '_i50': \"x = 2\\n\\ndef kob(a):\\n  a = a**3\\n  print(f'Lokális változók: {locals()}')\\n\\nprint(f'Globális változók: {globals()}')\\nkob(x)\\nprint(x)\", '_i51': \"x = 2\\n\\ndef kob():\\n  global x  # elérhetővé teszi a globális változót\\n  x = x**3\\n  print(f'Lokális változók: {locals()}')\\n\\nprint(f'Globális változók: {globals()}')\\nkob()\\nprint(x)\"}\n",
            "Lokális változók: {}\n",
            "8\n"
          ]
        }
      ]
    },
    {
      "cell_type": "markdown",
      "source": [
        "Ez persze működik, de:\n",
        "- A függvény nem vihető át másik programba anélkül, hogy a változóneveket egyeztetnénk, ez számos későbbi hiba forrása lehet\n",
        "- Látszólag a \"semmiből\" jön az x változó a függvény kódjában, ami a működésének megértését nehezíti\n",
        "- Csak egyetlen változó köbre emelésére képes, más változókkal nem tud dolgozni\n",
        "- (Nem szálbiztos)\n",
        "\n",
        "Ez annyi hátrány, hogy ezt a \"megoldást\" inkább FELEJTSÜK is EL!\n",
        "\n",
        "Megoldási javaslat #1: visszadjuk és újra hozzárendeljük az értékeket a változókhoz."
      ],
      "metadata": {
        "id": "G5ebPTb66V71"
      }
    },
    {
      "cell_type": "code",
      "source": [
        "x = 2\n",
        "y = 5\n",
        "\n",
        "def csere(a, b):\n",
        "  return b, a\n",
        "\n",
        "x, y = csere(x, y)\n",
        "print(f'x={x}, y={y}') # Kicsit nyakatekert, de működik"
      ],
      "metadata": {
        "colab": {
          "base_uri": "https://localhost:8080/"
        },
        "id": "6sD553-J6eqz",
        "outputId": "41ba23e1-ac6c-43d9-f069-3effb8b50c71"
      },
      "execution_count": null,
      "outputs": [
        {
          "output_type": "stream",
          "name": "stdout",
          "text": [
            "x=5, y=2\n"
          ]
        }
      ]
    },
    {
      "cell_type": "code",
      "source": [
        "x = 2\n",
        "\n",
        "def kob(a):\n",
        "  return a**3\n",
        "  \n",
        "x = kob(x)\n",
        "print(x)"
      ],
      "metadata": {
        "colab": {
          "base_uri": "https://localhost:8080/"
        },
        "id": "vfGZh9jN6vmm",
        "outputId": "e1f6d2b9-2f69-490c-c400-117a5dc45451"
      },
      "execution_count": null,
      "outputs": [
        {
          "output_type": "stream",
          "name": "stdout",
          "text": [
            "8\n"
          ]
        }
      ]
    },
    {
      "cell_type": "markdown",
      "source": [
        "Megoldási javaslat #2: használjunk (subscriptable [elemei elérhetők indexeléssel] & mutable [tartalma megváltoztatható]) objektumokat (list, dictionary) a paraméterlistán!"
      ],
      "metadata": {
        "id": "SyrWMoSgARsp"
      }
    },
    {
      "cell_type": "code",
      "source": [
        "szamok = [2, 5]\n",
        "\n",
        "def csere(t):\n",
        "  t[0], t[1] = t[1], t[0]\n",
        "\n",
        "print(szamok)\n",
        "csere(szamok)\n",
        "print(szamok)"
      ],
      "metadata": {
        "colab": {
          "base_uri": "https://localhost:8080/"
        },
        "id": "tyHe7NeUAX-g",
        "outputId": "c351bf0a-5afb-401c-b8a0-9315438ecc70"
      },
      "execution_count": null,
      "outputs": [
        {
          "output_type": "stream",
          "name": "stdout",
          "text": [
            "[2, 5]\n",
            "[5, 2]\n"
          ]
        }
      ]
    },
    {
      "cell_type": "code",
      "source": [
        "d = {'x' : 2}\n",
        "\n",
        "def kob(a):\n",
        "  a['x'] = a['x']**3\n",
        "\n",
        "print(d)\n",
        "kob(d)\n",
        "print(d)"
      ],
      "metadata": {
        "colab": {
          "base_uri": "https://localhost:8080/"
        },
        "id": "NREOqH_gBJ1P",
        "outputId": "02b1e5bd-b88a-4a02-f9c0-91467e31a5d8"
      },
      "execution_count": null,
      "outputs": [
        {
          "output_type": "stream",
          "name": "stdout",
          "text": [
            "{'x': 2}\n",
            "{'x': 8}\n"
          ]
        }
      ]
    },
    {
      "cell_type": "markdown",
      "source": [
        "Feladat: készítsünk függvényt, amely visszaadja a [Fibonacci](https://hu.wikipedia.org/wiki/Fibonacci-sz%C3%A1mok)-sorozat *n* indexű elemét!"
      ],
      "metadata": {
        "id": "emuW2B-ZHyAS"
      }
    },
    {
      "cell_type": "code",
      "source": [
        "def fibonacci(n):\n",
        "  a = 0\n",
        "  b = 1\n",
        "  for i in range(n):\n",
        "    a, b = b, a+b\n",
        "  return a\n",
        "\n",
        "print(fibonacci(0))\n",
        "print(fibonacci(1))\n",
        "print(fibonacci(2))\n",
        "print(fibonacci(3))\n",
        "print(fibonacci(4))\n",
        "print(fibonacci(5))"
      ],
      "metadata": {
        "colab": {
          "base_uri": "https://localhost:8080/"
        },
        "id": "Vui2zgPzGgDq",
        "outputId": "a4282c71-357a-4cc7-8a82-05de807ceadd"
      },
      "execution_count": null,
      "outputs": [
        {
          "output_type": "stream",
          "name": "stdout",
          "text": [
            "0\n",
            "1\n",
            "1\n",
            "2\n",
            "3\n",
            "5\n"
          ]
        }
      ]
    },
    {
      "cell_type": "markdown",
      "source": [
        "Ki is használhatnánk persze, hogy maga a sorozat másodrendben rekurzív, azaz az *n* indexű eleme megkapható az *n-2* és *n-1* indexű elemek összegeként. Ezt a két elemet azonban pont olyan módszerrel kell meghatározni, mint az *n* indexű elemet, azaz a függvény meghívhatja saját magát: (ön)rekurzív függvényhívás.\n",
        "\n",
        "Minden hívásnál szükség esetén új \"példányok\" jönnek létre a lokális változókból, ezért egymást nem írják felül, nem lesz gond. Viszont el kell kerülni, hogy a \"végtelenségig\" hívja a függvény önmagát!"
      ],
      "metadata": {
        "id": "V0nIAxkoIU6-"
      }
    },
    {
      "cell_type": "code",
      "source": [
        "def rekFibonacci(n):\n",
        "  if n==0 or n==1:\n",
        "    return n\n",
        "  return rekFibonacci(n-2) + rekFibonacci(n-1)\n",
        "\n",
        "print(fibonacci(0))\n",
        "print(fibonacci(1))\n",
        "print(fibonacci(2))\n",
        "print(fibonacci(3))\n",
        "print(fibonacci(4))\n",
        "print(fibonacci(5))"
      ],
      "metadata": {
        "colab": {
          "base_uri": "https://localhost:8080/"
        },
        "id": "YDjHMn4oI7S5",
        "outputId": "cc4c9f23-fcd8-4638-fbc9-50630f7a98ff"
      },
      "execution_count": null,
      "outputs": [
        {
          "output_type": "stream",
          "name": "stdout",
          "text": [
            "0\n",
            "1\n",
            "1\n",
            "2\n",
            "3\n",
            "5\n"
          ]
        }
      ]
    },
    {
      "cell_type": "markdown",
      "source": [
        "A függvények értékül adhatók változóknak, tulajdonképpen új név adható a függvényeknek."
      ],
      "metadata": {
        "id": "1srbOOacKAEv"
      }
    },
    {
      "cell_type": "code",
      "source": [
        "def osszead(a, b):\n",
        "  return a+b\n",
        "\n",
        "def szoroz(a, b):\n",
        "  return a*b\n",
        "\n",
        "muvelet = osszead\n",
        "print(muvelet(2, 3))\n",
        "\n",
        "muvelet = szoroz\n",
        "print(muvelet(2, 3))"
      ],
      "metadata": {
        "colab": {
          "base_uri": "https://localhost:8080/"
        },
        "id": "DXHQ6bTdJv9O",
        "outputId": "f1c4f098-e200-4828-ab79-4cf118cf4008"
      },
      "execution_count": null,
      "outputs": [
        {
          "output_type": "stream",
          "name": "stdout",
          "text": [
            "5\n",
            "6\n"
          ]
        }
      ]
    },
    {
      "cell_type": "markdown",
      "source": [
        "Függvények egymásba is ágyazhatók (nested functions), ha bizonyos részfunkciók elvégzésének módja nem tartozik a külvilágra:"
      ],
      "metadata": {
        "id": "OMKNa2s9LGJT"
      }
    },
    {
      "cell_type": "code",
      "source": [
        "def muvelet(a, op, b):\n",
        "  def osszead(a, b):\n",
        "    return a+b\n",
        "\n",
        "  def kivon(a, b):\n",
        "    return a-b\n",
        "\n",
        "  def szoroz(a, b):\n",
        "    return a*b\n",
        "\n",
        "  def oszt(a, b):\n",
        "    return a/b\n",
        "\n",
        "  muveletek = {\n",
        "      '+' : osszead,\n",
        "      '-' : kivon,\n",
        "      '*' : szoroz,\n",
        "      '/' : oszt\n",
        "  }\n",
        "\n",
        "  return muveletek[op](a, b)\n",
        "\n",
        "print(muvelet(2, '+', 3))\n",
        "print(muvelet(2, '-', 3))\n",
        "print(muvelet(2, '*', 3))\n",
        "print(muvelet(2, '/', 3))"
      ],
      "metadata": {
        "colab": {
          "base_uri": "https://localhost:8080/"
        },
        "id": "b6SQWy1yKRU9",
        "outputId": "ed342302-c924-4087-b621-66162029c225"
      },
      "execution_count": null,
      "outputs": [
        {
          "output_type": "stream",
          "name": "stdout",
          "text": [
            "5\n",
            "-1\n",
            "6\n",
            "0.6666666666666666\n"
          ]
        }
      ]
    },
    {
      "cell_type": "markdown",
      "source": [
        "Zárványok: a visszadott belső függvény \"emlékszik\" arra a környezetre, amiben létrehozták, azaz ebben az esetben a *kitevo* változó értékére, ezért hívásakor már elég csak az alapot megadni.\n",
        "\n",
        "Ha van egy változónk, amit nem akarunk minden hívásnál újra és újra átadni, de a globális változók használatát is el szeretnénk kerülni, jól jön ez a lehetőség."
      ],
      "metadata": {
        "id": "5CGs7d-FM5u-"
      }
    },
    {
      "cell_type": "code",
      "source": [
        "def hatvany(kitevo):\n",
        "  def belso(alap):\n",
        "    return alap**kitevo\n",
        "  return belso\n",
        "\n",
        "negyzet = hatvany(2)\n",
        "kob = hatvany(3)\n",
        "print(negyzet(3))\n",
        "print(kob(3))"
      ],
      "metadata": {
        "colab": {
          "base_uri": "https://localhost:8080/"
        },
        "id": "Pst4X4EXLpVz",
        "outputId": "24ac56e1-2c7d-47c3-ad59-3bf5471d0fb2"
      },
      "execution_count": null,
      "outputs": [
        {
          "output_type": "stream",
          "name": "stdout",
          "text": [
            "9\n",
            "27\n"
          ]
        }
      ]
    },
    {
      "cell_type": "markdown",
      "source": [
        "## Függvények dokumentálása\n",
        "[Type hinting](https://peps.python.org/pep-0484/): megadható a függvények paramétereinek elvárt típusa és a visszatérési érték típusa is:"
      ],
      "metadata": {
        "id": "DiKhVl_sq0vf"
      }
    },
    {
      "cell_type": "code",
      "source": [
        "def fibonacci(n: int) -> int:\n",
        "  a = 0\n",
        "  b = 1\n",
        "  for i in range(n):\n",
        "    a, b = b, a+b\n",
        "  return a\n",
        "\n",
        "print(fibonacci(4))"
      ],
      "metadata": {
        "colab": {
          "base_uri": "https://localhost:8080/"
        },
        "id": "bKnBVOq8WQeQ",
        "outputId": "15473504-c38f-4a4a-d5b0-3204d79630f5"
      },
      "execution_count": null,
      "outputs": [
        {
          "output_type": "stream",
          "name": "stdout",
          "text": [
            "3\n"
          ]
        }
      ]
    },
    {
      "cell_type": "markdown",
      "source": [
        "Bonyolultabb esetekre használható a [typing](https://docs.python.org/3/library/typing.html) könyvtár.\n",
        "\n",
        "Docstring: minden beépített függvény, objektum rendelkezik egy rövid ismertetővel, amit a *help()* függvénnyel olvashatunk, pl.:"
      ],
      "metadata": {
        "id": "QcUx3va6ZttH"
      }
    },
    {
      "cell_type": "code",
      "source": [
        "help(min)"
      ],
      "metadata": {
        "colab": {
          "base_uri": "https://localhost:8080/"
        },
        "id": "7dx-YtxKZ6Mk",
        "outputId": "ca8737af-1ec5-4f09-a894-0c23dc17acd0"
      },
      "execution_count": null,
      "outputs": [
        {
          "output_type": "stream",
          "name": "stdout",
          "text": [
            "Help on built-in function min in module builtins:\n",
            "\n",
            "min(...)\n",
            "    min(iterable, *[, default=obj, key=func]) -> value\n",
            "    min(arg1, arg2, *args, *[, key=func]) -> value\n",
            "    \n",
            "    With a single iterable argument, return its smallest item. The\n",
            "    default keyword-only argument specifies an object to return if\n",
            "    the provided iterable is empty.\n",
            "    With two or more arguments, return the smallest argument.\n",
            "\n"
          ]
        }
      ]
    },
    {
      "cell_type": "markdown",
      "source": [
        "Hasonló dokumentációt mi is könnyen beépíthetünk saját függvényeinkbe. A szokásos elvárásokat a [PEP 257](https://peps.python.org/pep-0257/) rögzíti:\n",
        "- tripla idézőjelek közé kell tenni,\n",
        "- egy sor ne legyen 72 karakternél hosszabb,\n",
        "- legalább az egy soros összefoglalóból álljon,\n",
        "- az összefoglalót egy üres sor kövesse,\n",
        "- amit további, részletesebb leírás követhet,\n",
        "- amit ha megadunk, újabb üres sorral illik lezárni.\n",
        "\n",
        "A paraméterezés módját és a visszatérési értéket is szokás dokumentálni. Ennek több változata, stílusa is kialakult ([Google](https://github.com/google/styleguide/blob/gh-pages/pyguide.md#38-comments-and-docstrings), [reStructuredText](https://docutils.sourceforge.io/rst.html), [NumPy/SciPy](https://numpydoc.readthedocs.io/en/latest/format.html), [Epytext](http://epydoc.sourceforge.net/epytext.html)), melyet érdemes következetesen használni. Ez lehetővé teszi különféle dokumentáció generátor szoftverek (pl. [Sphinx](http://www.sphinx-doc.org/en/stable/), [Epydoc](http://epydoc.sourceforge.net/), [Doxygen](https://www.doxygen.nl/manual/docblocks.html)) alkalmazását, illetve a felhasználók számára ismerősnek, könnyen értelmezhetőnek tűnik. Az alábbi példa a NumPy/SciPy stílust követi.\n",
        "\n",
        "Az általunk készített fájlok elején is szokás dokumentációt elhelyezni, leírva benne a szkript feladatát, használatának módját, feltételeit, az elérhető függvények listáját és azok céljának vázlatos megadását."
      ],
      "metadata": {
        "id": "Q2DPaI6daB58"
      }
    },
    {
      "cell_type": "code",
      "source": [
        "def fibonacci(n: int) -> int:\n",
        "  \"\"\"A Fibonacci-sorozat elemeinek iteratív kiszámítása.\n",
        "  \n",
        "  Parameters\n",
        "  ----------\n",
        "  n : int\n",
        "    A sorozat elemének indexe, nemnegatív egész kell, hogy legyen.\n",
        "    \n",
        "  Returns\n",
        "  -------\n",
        "  int\n",
        "    A sorozat n indexű elemének értéke.\n",
        "  \"\"\"\n",
        "\n",
        "  a = 0\n",
        "  b = 1\n",
        "  for i in range(n):\n",
        "    a, b = b, a+b\n",
        "  return a\n",
        "\n",
        "help(fibonacci)"
      ],
      "metadata": {
        "colab": {
          "base_uri": "https://localhost:8080/"
        },
        "id": "w6LcQvrYaHri",
        "outputId": "d5a9ce10-e2ae-4bd0-a825-24a1990b0e26"
      },
      "execution_count": null,
      "outputs": [
        {
          "output_type": "stream",
          "name": "stdout",
          "text": [
            "Help on function fibonacci in module __main__:\n",
            "\n",
            "fibonacci(n: int) -> int\n",
            "    A Fibonacci-sorozat elemeinek iteratív kiszámítása.\n",
            "    \n",
            "    Parameters\n",
            "    ----------\n",
            "    n : int\n",
            "      A sorozat elemének indexe, nemnegatív egész kell, hogy legyen.\n",
            "      \n",
            "    Returns\n",
            "    -------\n",
            "    int\n",
            "      A sorozat n indexű elemének értéke.\n",
            "\n"
          ]
        }
      ]
    },
    {
      "cell_type": "markdown",
      "source": [
        "## Példák függvények alkalmazására\n",
        "\n",
        "### Integrálérték meghatározása közelítéssel [Forrás (51. old.)](http://www.informatom.hu/sze/01/LGB_SZ001/Algoritmusok_%C3%A9s_adatstrukt%C3%BAr%C3%A1k.pdf)\n",
        "\n",
        "Számítsuk ki egy $f(x)$ függvény adott $[a, b]$ intervallumon vett határozott integrálját!\n",
        "\n",
        "Osszuk be az $[a, b]$ intervallumot $n$ egyenlő részre, majd húzzunk az $y$ tengellyel párhuzamos egyeneseket ezekben az osztáspontokban. Kössük össze a szomszédos párhuzamosok és a függvény metszéspontjának pontjait!\n",
        "\n",
        "![kép.png](data:image/png;base64,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)\n",
        "\n",
        "Olyan trapézrendszert kapunk, amelynek területösszege a függvény határozott integrálját közelíti. A beosztást finomítva (pl. minden részintervallumot megfelezve), a trapézok területösszege a határozott integrál még jobb közelítését adja. A megoldás tehát úgy fogalmazható, hogy készítsük el azt a sorozatot, amely a finomodó beosztáshoz tartozó trapézok területösszegéből áll, ez a sorozat határértékben a keresett integrálértékhez tart, és ha két egymást követő területösszeg alig tér el egymástól (az eltérés abszolút értéke kisebb, mint $ϵ$), akkor a határozott integrál közelítéseként az utolsónak előállított összeget fogadjuk el.\n",
        "\n",
        "Formalizálva, ha az intervallumot $n$ egyenlő részre osztjuk, az $i$-edik\n",
        "osztáspontban felvett függvényértéket $y_i$-vel jelöljük, akkor a trapézok\n",
        "összege így írható fel:\n",
        "\n",
        "$T = h \\left( \\frac{y_0 - y_n}{2} + \\sum^{n-1}_{i=1} y_i\\right)$\n",
        "\n",
        "ahol $y_0$ az $a$-ban, $y_n$ a $b$-ben felvett függvényérték és $h=\\frac{b-a}{n}$."
      ],
      "metadata": {
        "id": "80oYuMbo-n2I"
      }
    },
    {
      "cell_type": "code",
      "source": [
        "from typing import Callable\n",
        "\n",
        "def f(x: float) -> float:\n",
        "  return x**2.\n",
        "\n",
        "def integralKozelites(f: Callable[[float], float], a: float, b: float) -> float:\n",
        "  EPS = 1e-6\n",
        "  if a > b:\n",
        "    a, b = b, a\n",
        "  y0 = f(a)\n",
        "  yn = f(b)\n",
        "  terulet = (b-a) * (y0+yn)/2.\n",
        "  n = 2\n",
        "  while True:\n",
        "    elozo = terulet\n",
        "    hossz = (b-a) / n\n",
        "    terulet = (y0+yn) / 2.\n",
        "    for i in range(1, n):\n",
        "      terulet += f(a+i*hossz)\n",
        "    terulet = terulet * hossz\n",
        "    n = n * 2\n",
        "    if abs(terulet - elozo)<EPS:\n",
        "      break\n",
        "  return terulet\n",
        "\n",
        "print(f\"{integralKozelites(f, 0, 1):.6f}\")"
      ],
      "metadata": {
        "colab": {
          "base_uri": "https://localhost:8080/"
        },
        "id": "pG2vMEoY-rU2",
        "outputId": "6b0ce916-b920-4957-cfd0-47a7d8e37b57"
      },
      "execution_count": null,
      "outputs": [
        {
          "output_type": "stream",
          "name": "stdout",
          "text": [
            "0.333333\n"
          ]
        }
      ]
    },
    {
      "cell_type": "markdown",
      "source": [
        "Ellenőrzésként számítsuk ki analitikus módon a következőt: $\\int^b_a x^2 dx = \\left[ \\frac{x^3}{3} \\right]^1_0 = \\frac{1^3}{3}-\\frac{0^3}{3} = \\frac{1}{3}$\n",
        "\n",
        "![kép.png](data:image/png;base64,iVBORw0KGgoAAAANSUhEUgAAAr4AAAHdCAYAAAD7D3ocAAAABHNCSVQICAgIfAhkiAAAIABJREFUeF7t3Ql8VeWZ+PEnJCEJkAXCLhjCEgRUcCkuVUFtXVoVtLWtXVzamXbaqVOcmbbzbzsjdrrNdBGcLtNOW3FfqhXq2kUJrrWKgMi+hX2HAGFJcpf/+96Qe87NenPvufe+57y/8/nwEe45532f5/te5fHkPe+bF1WHcCCAAAIIIIAAAgggEHCBXgHPj/QQQAABBBBAAAEEEIgJUPjyRUAAAQQQQAABBBCwQoDC14phJkkEEEAAAQQQQAABCl++AwgggAACCCCAAAJWCFD4WjHMJIkAAggggAACCCBA4ct3AAEEEEAAAQQQQMAKAQpfK4aZJBFAAAEEEEAAAQQofPkOIIAAAggggAACCFghQOFrxTCTJAIIIIAAAggggACFL98BBBBAAAEEEEAAASsEKHytGGaSRACBtgKzZ89u+xF/RgABBBAIuEBeVB0Bz5H0EEAAgQSBuro6qa6uloMHD0pFRQU6CCCAAAKWCPDE15KBJk0EEHAE5syZE/vDvHnzYEEAAQQQsEiAJ74WDTapIoBAi4B+ynvo0CEZNWqUbNq0CRYEEEAAAUsEeOJryUCTJgIItAjMnz8/VvTqQ095qK2thQYBBBBAwBIBCl9LBpo0EUCgRaDt9Ia2f8YJAQQQQCC4Akx1CO7YkhkCCLQRqK+vl/79+7dz4SW3diR8gAACCARSgCe+gRxWkkIAgY4E3E93y8vL45fw1LcjLT5DAAEEgifAE9/gjSkZIYBAJwL6ZbbNmze3OztlyhRZsmRJu8/5AAEEEEAgWAI88Q3WeJINAgh0IrB06dIOi159uT6nf3EggAACCARbgMI32ONLdgggcFKgde3ezkC6O9/ZfXyOAAIIIOAfAaY6+GesiBQBBFIU0C+16Z3a9D9POeUU2b59e7ylAQMGyIEDB2I7uOk1fdnJLUVkbkMAAQR8IMATXx8MEiEigEB6AnrtXl306uOGG25IaOy8886L/Vmf19dxIIAAAggEV4DCN7hjS2YIIHBSwL1qw/XXX5/gMnXq1Pif586dixkCCCCAQIAFKHwDPLikhgACLbuzLVq0KEYxbdo0GTFiRAJLZWWlzJgxI/YZL7nxjUEAAQSCLUDhG+zxJTsErBdwP+299dZbO/Rwf86avh0S8SECCCAQCAEK30AMI0kggEBnAq2FrN6worPCd+bMmVJVVRVr4r777uusKT5HAAEEEPC5AIWvzweQ8BFAoHMB/bJa64YVurjt6mgtivVLbjz17UqKcwgggIB/BSh8/Tt2RI4AAt0IuFdpmDVrVpdXu58G89S3SypOIoAAAr4VoPD17dAROAIIdCdQW1sbu2Ty5MmityXu6tDbGeuX3/TRel9X13MOAQQQQMB/AhS+/hszIkYAgSQFZs+eHStm9T+TOfTubfr6O++8M5nLuQYBBBBAwGcC7NzmswEjXAQQSE9g3bp1UlNTE2/knnvukdtvvz29RrkbAQQQQMAXAjzx9cUwESQCCCCAAAIIIIBAugIUvukKcj8CCCCAAAIIIICALwQofH0xTASJAAIIIIAAAgggkK4AhW+6gtyPAAIIIIAAAggg4AsBCl9fDBNBIoAAAggggAACCKQrQOGbriD3I4AAAggggAACCPhCgMLXF8NkYZD1q0X2L7UwcVJGAAE/Cegtrq+//nrJy8uL/brttttEf5bycWK/yM5FKd/OjQgg0LUAhW/XPpzNhcCKn4s8PkHkybNE3vlOLiKgTwQQQCApAb3pyYwZM2ThwoVy7733ylNPPZX0hintOmjYKnL/QJGnp7f896/dBXyAAALpChSk2wD3I+C5wO7XnCbfmyty9rc874IGEUAAAS8EKioq5NZbb403tXTpUrnvvvtEF8Q9Plb8j3NL7CdeUfUrr8fNcAMCCHQuwBPfzm04kyuB0mqn5xP7RPa+natI6BcBBBDoUmDWrFkJ52fOnCnl5eVd3tPpyfWPOKf6jlC/p+jt1IoTCKQoQOGbIhy3ZVDg1A8lNr7luQx2RtMIIICAdwK1tbUJT4CTbnnfOyJHtzmXj/tM0rdyIQIIJC9A4Zu8FVdmS2DwBSKFZU5vWyl8s0VPPwggkLqAfqlNF75tnwIn1eLGJxIvG/3RpG7jIgQQ6JkAhW/PvLg6GwLqzWg59cNOT3veFGk6lI2e6QMBBBBIWUAXvHpur5732+Nj3QPOLXqaw8Cze9wENyCAQPcCFL7dG3FFLgTaTnfY/HQuoqBPBBBAICmB+fPnx570TpkyJanrEy468G7iNIexN/W8De5AAIGkBCh8k2LioqwLVF2b2CXzfLM+BHSIAALJCeiVHPThLnp7tJZv22kO1UxzSE6eqxDouQDLmfXcjDuyIdBbvRU9+DwRPc1BH1ueVSv7qKV99DQIDgQQQMAQAV303nHHHTJ9+nRZtmxZLCpd9E6ePDn5l9zWP+xkUzJY/bdvqiHZEQYCwROg8A3emAYno5FqdYfWwrf5sPr9GyJDLgxOfmSCAAK+FtAF7uzZs9X/k0djG1i4jzvvvDO53A6uFDm8wbl27KeSu4+rEEAgJQEK35TYuCkrAnqe72LXXx5bnqfwzQo8nSBgn4B+cquf2Op/6l933313wtQF/dldd90Vg9E7tOkX2PQvPbc3raPtNAdWc0iLk5sR6E6AOb7dCXE+dwKDzhUpVtt3th4sa5a7saBnBAIuoAvbqqoq2bRpU2xJMj19ofWYN2+enHXWWbEiV/9qndPrCckm1zJmsWkOajlHDgQQyJgAT3wzRkvDngjoZc3W3tfSlF7g/fhekZJBnjRNIwgggECrQOu2w3qurn5JTRe/eiqDLnL1EmUHDx6Uurq62OUprdzQEfWh9SIHljtnRn+c9xg6cuIzBDwU4Imvh5g0lQEBPc/XfWx5JgOd0CQCCCDgCLQWwa1LlOkiWE9r0AWvZ0Wv7m7jY4nsTHPga4hAxgV44ptxYjpIS2DklYm362XNxt+WVpPcjAACCHQloJ/66uO2226LvbSW0oYUXXXQes49v7e32vRi6MXJ3MU1CCCQhgBPfNPA49YsCOhlzYZe5HSk5/lGwlnomC4QQMBWAf1Ut7y8PFbwthbBnls0bBXZ37L+b6xtvWkFyzV6zkyDCLQVoPBtK8KfzRNwT3cIHRPZ/ap5MRIRAggESmDUqFHxOb4ZScy9dq/ugGkOGWGmUQTaClD4thXhz+YJtN2+WG9mwYEAAghkSECv4tB66Pm9GTk2/s5pNjbNYVpGuqFRBBBIFKDw5RthvkDlZJE+w5w4Nz9tfsxEiAACvhTQKznoYlev5KCPjBS+eprDvsWOz5iPifTK96UXQSPgNwEKX7+NmK3xjprpZF6/Wu10tMlWCfJGAIEMCsyaNSu2G1vr3N5FixbFe3M/CU4rhHUPJt4+Ri1jxoEAAlkRoPDNCjOdpC1QdW1iE5sXpN0kDSCAAAL6ie7cuXNj83l1watfbNPze/UxefLk2Oetm1bo33tybHzcaUZPcxh2qSfN0ggCCHQvQOHbvRFXmCAw/HKR/BInEqY7mDAqxICA7wX0E179q7q6OrZBhf596+Fe1kwXxe5zKSeuN61IWM3hk6zmkDImNyLQcwHW8e25GXfkQiC/t4he07dufkvvO2tFmg6J6OXOOBBAAIEUBXQxq6cwzJw5s11hq4tdXQzrJ8D6954cGx5NbEbP7+VAAIGsCVD4Zo2ajtIWOPUap/CNRkS2/lGEvzTSZqUBBGwW0Lu0te7U1tZBr+Orpzl4erinOZQMVqs5XOJp8zSGAAJdCzDVoWsfzpokMGpGYjRbWN3BpOEhFgQQ6EZAT3M4sNy5aLR6qY1NK7pB4zQC3gpQ+HrrSWuZFCgeKDJoqtND3R9EotFM9kjbCCCAgHcC6x9KbIvVHLyzpSUEkhSg8E0SissMEXCv7tB8mF3cDBkWwkAAgSQE1j3gXKSnOQy5MImbuAQBBLwUoPD1UpO2Mi/QblmzZzLfJz0ggAAC6QocXKHWH9/gtDL2U0xzSNeU+xFIQYDCNwU0bsmhALu45RCfrhFAIGWBDY8l3sqLuSlTciMC6QhQ+Kajx725ERh1vdNv/Sp2ccvNKNArAgj0RGD9w87VfUeIDD6/J3dzLQIIeCRA4esRJM1kUaDddAf1khsHAgggYKrAgXcTpzmM+YSpkRIXAoEXoPAN/BAHMMHhl7GLWwCHlZQQCKxAu2kOahkzDgQQyIkAhW9O2Ok0LYHYLm5XOU3sXCgSOpZWk9yMAAIIZExg7f1O03qaw6BzM9YVDSOAQNcCFL5d+3DWVAH3dAe9i9tmNrMwdaiICwGrBfYtFjm6zSEY92mrOUgegVwLUPjmegToPzWBtvN86xak1g53IYAAApkUWP9IYuvM782kNm0j0K0AhW+3RFxgpIDexW3oRU5oW54ViYSNDJWgEEDAUgG9s6R7mkNptYhekpEDAQRyJkDhmzN6Ok5boGqG04TexW3HS2k3SQMIIICAZwK7XhY5sddpbvxtnjVNQwggkJoAhW9qbtxlgkD1RxKjqJtvQlTEgAACCLQIuNfu1Z/o3do4EEAgpwIUvjnlp/O0BMrUjw0rJjpN1D2VVnPcjAACCHgmoKdebXjcaW7Q+0TKRnvWPA0hgEBqAhS+qblxlykCo1zTHY7tFNn7timREQcCCNgssO0FkaZ6R2DsJ23WIHcEjBGg8DVmKAgkJQF34asbYHWHlBi5CQEEPBZoN82BwtdjYZpDICUBCt+U2LjJGIHB54kUVTrhbGZZM2PGhkAQsFUgdEJk05NO9nq3yZLBtmqQNwJGCVD4GjUcBJOSwOiPOrcdWC5yeFNKzXATAggg4InAZvWibbjRaWrsTZ40SyMIIJC+AIVv+oa0kGuBttMd9F86HAgggECuBNybVuQViLBpRa5Ggn4RaCdA4duOhA98JzD8cpH8EifsTRS+vhtDAkYgKALNDSJbnnOyOfVDIoX9gpIdeSDgewEKX98PIQlIfm+RqmsciNii8fuAQQABBLIvsOFRkWjI6ZfVHLI/BvSIQBcCFL5d4HDKRwLuXdx02Juf8VHwhIoAAoERcE9zyC9S/1PuWnIxMEmSCAL+FaDw9e/YEblbQD/xzXN9nVndge8HAghkW+D4nsSt06vVi7cFxdmOgv4QQKALAQrfLnA45SOB3uUiwy51At6qFo8PHfdRAoSKAAK+F1j/UGIKrObg+yElgeAJUPgGb0ztzaj6eif3sFpHc+vz9lqQOQIIZF9g7QNOn/p/xkdenf0Y6BEBBLoUoPDtkoeTvhKoviExXPcC8r5KhGARQMB3AvWrRfYvccIe9+nE6Ve+S4iAEQimAIVvMMfVzqz6DBMZfIGT++an1SLyTXZakDUCCGRXYO39if2N+0x2+6c3BBBISoDCNykmLvKNwOiPOKE2HxHZ/hffhE6gCCDgU4FoVGTtPCf40lHqf8LVduocCCBgnACFr3FDQkBpCVS7Cl/dENMd0uLkZgQQSEJArx1+bKdzYc1tSdzEJQggkAsBCt9cqNNn5gT0k5bKs5z269QubpFw5vqjZQQQQGDdg4kGTHPgO4GAsQIUvsYODYGlLOCe7tB4QGTXopSb4kYEEECgS4FIs8j6h51LhlwoUlbd5S2cRACB3AlQ+ObOnp4zJaAXjXcfm36fqZ5oFwEEbBfY/Ae1ZvgxR0Gv5sCBAALGClD4Gjs0BJayQMV4kYoJzu0bnxTRL59wIIAAAl4LuNfuzSsQGXOT1z3QHgIIeChA4eshJk0ZJOB+ye34LpE9fzUoOEJBAIFACDTWi2x51knl1A+LFFUEIjWSQCCoAhS+QR1Z2/NiMwvbvwHkj0DmBTY8qn6aFHL6YZpD5s3pAYE0BSh80wTkdkMFBqqVHfpVOcFtfMLQQAkLAQR8K+BezaGgj8ioGb5NhcARsEWAwteWkbYxz9E3Olk3bBbZ59pO1EYPckYAAe8Eju4Q2f2a097YT4r0KvSufVpCAIGMCFD4ZoSVRo0QaDfdgae+RowLQSAQBIHVv07MgrV7gzCq5GCBAIWvBYNsbYpDLhApGeqkv+FxaylIHAEEPBZYe6/TYJ9hIkMv9rgDmkMAgUwIUPhmQpU2zRFwT3c4vF5k/zJzYiMSBBDwp8CuV0SO1Dmxj/+sSF6eP3MhagQsE6DwtWzArUt3zMcSU97IU1/rvgMkjIDXAmvuS2xx/Oe87oH2EEAgQwIUvhmCpVlDBIa8X013GOIEw3QHQwaGMBDwqUDohMiGR5zg2aLYpwNJ2LYKUPjaOvK25K1//Djm4062THewZeTJE4HMCGxSO0G6tyiuuSUz/dAqAghkRIDCNyOsNGqUwGimOxg1HgSDgJ8F1rqmOeQXiYz9lJ+zIXYErBOg8LVuyC1MWP8okukOFg48KSPgsYBeu3f7n51GR10vUtjX405oDgEEMilA4ZtJXdo2QyA23eETTixMdzBjXIgCAb8JrLs/MeLxt/otA+JFwHoBCl/rvwKWALRb3eF3liROmggg4JnAql86TRUPFDnlCs+apiEEEMiOAIVvdpzpJdcC7aY7PJbriOgfAQT8JLDnzTZr96olzFi7108jSKwIxAQofPki2CMw9pNOrkx3sGfcyRQBLwTcL7Xp9pjm4IUqbSCQdQEK36yT02HOBNy7uOkgNjLdIWdjQccI+Ekg0iyy/mEn4kFTRSpO81MGxIoAAicFKHz5KtgjMOSCNqs7MN3BnsEnUwTSEKibL9J0yGmAtXvTwORWBHIrQOGbW396z7aAe81NPd1h35JsR0B/CCDgN4E19zoR5xWotXtd06b8lgvxImC5AIWv5V8A69Ifc2Niyu6tR63DIGEEEOhW4NhOka0vOJeNmilSVNHtbVyAAAJmClD4mjkuRJUpgcHni/Qd4bS+/pFM9US7CCAQBIE1v1VZRJ1MTvtsELIiBwSsFaDwtXboLU583Ked5I9uE9n1msUYpI4AAl0KrPqVc7pkqMiIK7u8nJMIIGC2AIWv2eNDdJkQGHtTYqtMd8iEMm0i4H+BHbUiDVucPE77O7V2L39t+n9gycBmAf4Ntnn0bc19wJkiZWOc7Nc9JBIJ26pB3ggg0JlAbJqD69CFLwcCCPhagMLX18NH8CkLjL/NubWpXmTHiyk3xY0IIBBAgeajIhtcSx4Ov0yktCqAiZISAnYJUPjaNd5k2yow7uZEiw2PYoMAAgg4AusfVD8JanL+fJraopgDAQR8L0Dh6/shJIGUBPqNFBl8nnOr3sVN787EgQACCGiB1b9xHArLRKo/ggsCCARAgMI3AINICikKjHG95NbcILLl2RQb4jYEEAiUQP1akb1vOSnVfEYkvyhQKZIMArYKUPjaOvLkLTLmE4kKrOnLtwIBBLTAql8kOkz4Ai4IIBAQAQrfgAwkaaQg0GeIyPDLnRs3/0EkdDyFhrgFAQQCI6CnPK12reZQeZbIgDMCkx6JIGC7AIWv7d8A2/N3r+kbPiFS95TtIuSPgN0CdQtEmg87BrzUZvf3gewDJ0DhG7ghJaEeCYz+mFqQvsC5hekOPeLjYgQCJ+Beu7dXbxH3To+BS5aEELBPgMLXvjEnY7dA71KRUz/sfLL1OZHGgxghgICNAsd2iWx93sl89I0ivcttlCBnBAIrQOEb2KElsaQF3NMdohERnvomTceFCARKYGWbl9qY5hCo4SUZBLQAhS/fAwSqZogU9HUc1j2ACQII2Cag/6d31S+drPuqtb6HTbdNgXwRCLwAhW/gh5gEuxUoKBbRP9JsPfb8VeTwxm5v4wIEEAiQgF7H+/huJ6HTv6zm/+cFKEFSQQABLUDhy/cAAS3Q9gWWdffjggACNgm4n/bm5YuMZ4tim4afXO0RoPC1Z6zJtCuB4ZeJFA9yrlhL4dsVF+cQCJSAfqlti3qxtfUY/VH134PKQKVIMggg0CJA4cs3AQEtoH+kOf42x+LIJpHdb2CDAAI2CKz6X5Vl1MmUndpsGHVytFSAwtfSgSftDgRqbkn8cN2DHVzERwggECgB/VLbSl34njzKxqgdHS8NVIokgwACjgCFL98GBFoF+k9UW5NOdjzWPyyity/lQACB4Aq0falt4heDmyuZIYAAL7fxHUAgQaDmM84fm+oTF7OHCgEEgiew6ldOTvqltppbg5cjGSGAQFyAJ758GRBwC4xzFb7687Ws6csXBIHACsRealPLmLUeYz7OS22BHWwSQ6BFgMKXbwICboGSwSKnfND5pG6+SHMDRgggEESB2BJmvNQWxKElJwQ6E6Dw7UyGz+0VcE93iIZENjxqrwWZIxBUgdhLba4tivVLbcMuCWq25IUAAicFKHz5KiDQVqBa7eKWX+R8ypq+bYX4MwL+F9jyTOJObZP+0f85kQECCHQrQOHbLREXWCegtzCuVgvYtx67XlFbGKt1fTkQQCA4Ait+7uTSqzc7tQVnZMkEgS4FKHy75OGktQJt1/Rd81trKUgcgcAJNGwV2fZHJ60xnxDpXRa4NEkIAQTaC1D4tjfhEwTUC24fEOkzzJFY8xv1DozrJRiMEEDAvwLL5yTGzjQH/44lkSPQQwEK3x6CcbklArEtjD/nJHtsp8iOFy1JnjQRCLBAuFFk9f85CVZOERk8NcAJkxoCCLgFKHz5PiDQmcD4zyaeWTOvsyv5HAEE/CKgd2RsPuJEe/pX/BI5cSKAgAcCFL4eINJEQAXKqkWGupY32vSE+gvzaECTJS0ELBF47x4n0cJSkbE3WZI4aSKAgBag8OV7gEBXAuNvc87qH5Hqp0UcCCDgT4E9fxPZv9SJfcIXEpcu9GdWRI0AAj0QoPDtARaXWiig3/Yu6OMkvuZeCxFIGYGACKx0LWGmUzr9nwKSGGkggECyAhS+yUpxnZ0Cek3fMR93ct/zBmv62vlNIGu/C5w4INH1j8SzODZUbU3eb6TfsyJ+BBDooQCFbw/BuNxCgbYvubnfCLeQg5QR8KWAWpIwL9IUD/07+87xZRoEjQAC6QlQ+Kbnx902CAy9SKR0lJPp2nms6WvDuJNjcAT0Gtyul9p2RPrLU0fHBCc/MkEAgaQFKHyTpuJCqwVO+3snfb2m77YXrOYgeQR8JbD1WZGj2+Ihzwtdqn6v1urmQAAB6wQofK0bchJOSaDm1sTbVrkWwE+pQW5CAIGsCSx3ljBrjBbIw80XZ61rOkIAAbMEKHzNGg+iMVWg73CRkVc70dXNFzmxz9RoiQsBBFoFDq4S2f7nuMf80FRpkBJ8EEDAUgEKX0sHnrRTEJjgmu4gas7gmt+m0Ai3IIBAVgXcG1aojn/VrFZz4EAAAWsFKHytHXoS77FA1QyRokrnthU/63ET3IAAAlkUaFJbE6+9L97hjsKRsiE6LIsB0BUCCJgmQOFr2ogQj7kCeepfF/dT34YtIjsXmRsvkSFgu8CqX4qEj8cV3i0513YR8kfAegEKX+u/AgD0SGDCPyRevvrXPbqdixFAIEsC0YhawmxOvLNoYYnU9R6bpc7pBgEETBWg8DV1ZIjLTIHSKpHhlzuxbXhcpOmQmbESFQI2C2xeoJYw2x4XCA+coFYwYwkzm78S5I6AFqDw5XuAQE8F3NMd9E5Q6x7oaQtcjwACmRZYPjfeQzQvX0KVPO3NNDntI+AHAQpfP4wSMZolUH1D4ktuK9U8Qg4EEDBHQC9h5pp/H6lUu7TlF0qvPDX94eTRi6e/5owXkSCQRQEK3yxi01VABHoVitTc4iRz8D2RvW8HJDnSQCAAAu/+KJ6EWnhQQgNPi/15Ut+j8c8nDx0cgERJAQEEeipA4dtTMa5HQAtM+EKiw2p2cuOLgYARAicOqOlHD8ZDiZYOl2hRaezP55QdlnvGr5RZ59bIL65hPV8jxosgEMiyAIVvlsHpLiACFTUiQ13bnq5V83xDxwKSHGkg4GOBlT8X0XPvTx6hQeMTkrmicr985dxxUl5c5OMkCR0BBFIVoPBNVY77EHC/5KbXCnUtlA8OAgjkQCCsCl7XTm2R3v0k0o8NK3IwEnSJgLECFL7GDg2BGS8w+mMihWVOmCt+anzIBIhAoAXWqykOJ/bGUwwPYgmzQI83ySGQggCFbwpo3IJATCBf/ah0/G0OxsGVIrteBQcBBHIlsPS/4j1H83tLeMDoXEVCvwggYKgAha+hA0NYPhGY9OXEQFf+wieBEyYCARPY+oLIobXxpMKVah5+r4KAJUk6CCCQrgCFb7qC3G+3QLlaFP+UDzgGGx5TP2rdb7cJ2SOQC4F3fxLvNZrXS9q+1JaLkOgTAQTME6DwNW9MiMhvApO+5EQcDYuwtJnfRpB4/S5Qv0Zk+5/jWUT6V4sUFHeYVWMkT7YdUS+jciCAgJUCFL5WDjtJeypQNUOkZIjT5Aq1nFJUL5vPgQACWRFY+v14N7ENKwZP7LDbbSeK5fLFU+Xih16S77781w6v4UMEEAi2AIVvsMeX7LIhoH6sKu65vke3imx9Phs90wcCCBzfk7hhRdkpasMK12orLqFFB/vLvubesU8eX7EaOwQQsFCAwtfCQSflDAhM/KJIXr7TsF5EnwMBBDIvsHyO+gmLmmJ08gjpJcw6OZqjzl95TSHnnk4u52MEEAigAIVvAAeVlHIgUFwpMvpGp+Mtz4o0bMlBIHSJgEUCITVX17WSSqS4XG1Y4Zp2ZBEFqSKAQHICFL7JOXEVAt0LuF9y01eztFn3ZlyBQDoCa34j0lQfbyE85PR0WuNeBBCwQIDC14JBJsUsCQy9WKS/66WaVb8UCTdmqXO6QcAygWhEZNkP40lHC0okXF5lGQLpIoBATwUofHsqxvUIdCUw6XbnbONBkfUPd3U15xBAIFUBvWa2azpRbCWHvLxUW+M+BBCwRIDC15KBJs0sCdTcLFJY6nTmeiKVpQjoBgE7BJZ8J55ntFehhCvVZjIcCCCAQDcCFL7dAHEagR4JFPQRmfB555b6VSI7X+7wUUAvAAAgAElEQVRRE1yMAALdCGx5TuTgyvhF4cGnsT1xN2ScRgCBFgEKX74JCHgtcPpXVIuuH7kun+t1D7SHgN0CS38Qzz+qlhEMDVSFLwcCCCCQhACFbxJIXIJAjwT6jRQZNdO5pe4pNRdRbWrBgQAC6Qvse0dk1yvxdsKV40TyWzalSL9xWkAAgaALUPgGfYTJLzcCZ+invq2H2kR1xf/kJg56RSBoAm/f6fybpXZN7Gx74qClTT4IIOCNAIWvN460gkCiwLBpIhWuHaRW/q9I6BhKCCCQjsChdSJbnom3EOlfrV4mLUm6xaFFzvKCp5T1S/o+LkQAgeAIUPgGZyzJxDSByV9zImo+IrLuAdMiJB4E/CXwzrfj8aqfo0hzDzesuLJyn3x8yA4ZWdZH5l59ub9yJ1oEEPBEgMLXE0YaQaADgbE3iRT1d07wklsHSHyEQJICx3aqdbEfiV8cqVCbVfTu2VNb/crpXWM2yMufvFQmDR6YZMdchgACQRKg8A3SaJKLWQL5RSKTvuzEpJc22/Zns2IkGgT8IrDkuyLRcDzaUA+f9volTeJEAIHMClD4ZtaX1m0XmPiPamWzfEdh+d22i5A/Aj0XOLFPZNWv4vdFSodLtLii5+1wBwIIWC9A4Wv9VwCAjAr0GSIy5hNOF1ufVwvvqye/HAggkLzAku+LRJrj14eGTEr+Xq5EAAEEXAIUvnwdEMi0gPslN93Xuz/MdI+0j0BwBPTT3pU/j+cT6VMpkb6Dg5MfmSCAQFYFKHyzyk1nVgpUniky/DIn9bX3ixzbbSUFSSPQY4Fl6n8Uwyfit4WGTulxE9yAAAIItApQ+PJdQCAbAlNcS5vpF3TeYxvjbLDTh88FGuvVvyv3xJOIPe0tHerzpAgfAQRyKUDhm0t9+rZHYMSVIuU1Tr56Jzc2tLBn/Mk0NQE9LSjhae/k1No5edfRcC/58uoJcslDC+WZtRvSaoubEUDAnwIUvv4cN6L2o8DZ33Kibm4QWf0bP2ZBzAhkR0A/7XWtfR0p7q+e9g5Lq+/n9g2SvxwYKFuPHJNv176eVlvcjAAC/hSg8PXnuBG1HwXGqA0t+gx3ItdLm0UjfsyEmBHIvID+9yN0NN5PaFj6c3uPhgvi7R1pbMp8DvSAAALGCVD4GjckBBRYgV7qL90z/9lJ78gmkU1PBjZdEkMgZQH9E5F3fxy/Pfa0t8z1P40pN8yNCCBguwCFr+3fAPLPrsBpnxcpdG2zuuxH2e2f3hDwg0Dbp71D1cooHAgggIAHAhS+HiDSBAJJC/QuFZn4JefyvX8T2VGb9O1ciEDgBZoOibj+hzD2tLd8RODTJkEEEMiOAIVvdpzpBQFH4Mx/SdzGeMn30EEAgVaBd38i0nw47hEaegY2CCCAgGcCFL6eUdIQAkkKlKhdp2pudi7e/meRvW8neTOXIRBgAf20911n+k+kqEzN7eVpb4BHnNQQyLoAhW/WyekQASUw+d8SGXjqy9cCAZEl309Y3zq2kkNeHjIIIICAZwIUvp5R0hACPRCoUJtZVH/EuaHuKZH6tT1ogEsRCJjAif1ql7Y58aQixeVqbu/IgCVJOgggkGsBCt9cjwD92ytwzuzE3Jd8x14LMkdAf//DjXGH0PBzMEEAAQQ8F6Dw9ZyUBhFIUmDA6SIjr3YuXv+wyJG6JG/mMgQCJHBsl8iKn8UTivQdlPYubQHSIRUEEPBQgMLXQ0yaQqDHAmd907klGlbLOP13j5vgBgR8L/DOt0UizfE0mjP0tLewl7NTYmE+f/35/ntDAgikIMC/+SmgcQsCngkMfb/IsGlOc6t/LXJ8r2fN0xACxgs0bBVZ9ct4mJHS4RLtU5mRsC8qPyj98kOxtmeeNi4jfdAoAgiYLUDha/b4EJ0NAu6nvvqp17s/tCFrckSgRWDxbJGo8yS2edhZGZOpKjkh86e8I49ed4F8+7KLMtYPDSOAgLkCFL7mjg2R2SIw4oMiA10v8qz4uUhjvS3Zk6fNAnolk7Xz4gKR8lMlWlKRUZERRY1y3vABGe2DxhFAwFwBCl9zx4bIbBI4+9+dbENHRZb+wKbsydVWgb99Pf60N6oMmodOtlWCvBFAIEsCFL5ZgqYbBLoUqLpOpP8k55L35oqc2NflLZxEwNcC+94RqZsfTyEyYLREi8t8nRLBI4CA+QIUvuaPERHaIKB3pzrnTifT8Am1wgNzfW0YemtzfO3L8dSjksfTXmu/CCSOQHYFKHyz601vCHQuUP1RkYoJzvn37uGpb+danPGzQN0Ckd1vxDMIDzpNpLCPnzMidgQQ8IkAha9PBoowLRDQT32nfs9JVD/1XfpfFiROilYJ6BUc3vxqPOVorwIJDTnDKgKSRQCB3AlQ+ObOnp4RaC8waqZI5RTn8xU/5alveyU+8bPA6t+IHFoXzyA89EyR/MKsZbTyaF95cs02aQypDWM4EEDAOgEKX+uGnISNF3jfd50Q9VPfJd83PmQCRCApgZD6Pr/l7FYYLSiR0MDxSd3qxUVLj5TKDcvOln9duEw+u+B5L5qkDQQQ8JkAha/PBoxwLRA49UMig89zEl2p1vVlhQcLBt6CFJf/RH2XnZ0JQ8PPFsnL3l9DyxpK48hLd+6xAJwUEUCgrUD2/ovTtmf+jAACnQuc+5/OudhTX9fc387v4gwC5gqcOJCwPnWkuL+E+4/KarzRqJpHf/KIRPXKwRwIIGCbAIWvbSNOvv4Q0Lu5tX3q27DNH7ETJQIdCSz+D7VDxZH4meYRUzu6is8QQACBjApQ+GaUl8YRSENgqmv3tnCjyOLZaTTGrQjkUODgSpGVv4gHECkdLtG+A3MYEF0jgICtAhS+to48eZsvMHy6yIgrnDjX/Fakfo35cRMhAm0FXvkH19bEarOKU85tewV/RgABBLIiQOGbFWY6QSBFgfN/5LpRzUn82/9LsSFuQyBHAlueEdn1SrzzSGWNRIucl8xyFBXdIoCApQIUvpYOPGn7RGCAWth/zE1OsHVPiex92yfBE6b1ApFmkddnxRmi+b3V1sRsVmH99wIABHIoQOGbQ3y6RiApAb2ur3vJJ1chkdT9XIRArgTe+x+RwxvivYf0ZhUFRbmKhn4RQAABofDlS4CA6QJl1SITv+REufs1kS3PmR418dku0HhQvZB5Z1whUlQm4cpxtquQPwII5FiAwjfHA0D3CCQlcM5d6klZH+fSN7+e1G1chEDOBPR89OaGePex5cuyuFlFzvKmYwQQMFqAwtfo4SE4BE4KFA8QmfxVh+PgeyLrHoQHATMF9PJlq34Zjy1SNkKi/YaYGStRIYCAVQIUvlYNN8n6WuBMVfgW9XdSePNrInp9Xw4ETBN4+e/iEUUlT5oMWb5sYl/nCfTkoYNNUyMeBBDIggCFbxaQ6QIBTwQK+4roKQ+tx7GdIu/+2JOmaQQBzwTWPSCy+414c+FBE0R6q++uAcfU8kNyz/iVMuvcGvnlta41sg2IjRAQQCA7AhS+2XGmFwS8EZioNgIoG+O09c53RI7v9aZtWkEgXYEmtSXx63fEW4kWFEvIsOXLrqjcL185d5yUF7O6RLrDzf0I+FGAwtePo0bM9gr0KhS54G4n//BxNrWw99tgXuZvfUOkcX88rtgObb0KzIuTiBBAwFoBCl9rh57EfStQda3IsEuc8Nf8RkS/TMSBQC4FDiwXWfHTeASRvoMlUlGVy4joGwEEEGgnQOHbjoQPEPCBwEW/SFwa6tUv+iBoQgy0QO1t8fSiatmy5pEXBDpdkkMAAX8KUPj6c9yI2naB/hNFJqj5vq3HzpdF6ubbrkL+uRJY/WuRfYvjvYcHT5JoUb9cRUO/CCCAQKcCFL6d0nACAcMF3qdebCssdYJ8/SsikWbDgya8wAk01ov89V/jaUXUCg4hVfhyIIAAAiYKUPiaOCrEhEAyAnpN33Ndy5s1bFHLm/0kmTu5BgHvBN5Qqzg0HYq3F9JTHHrle9e+xy01RvJk2xH1UigHAghYKUDha+Wwk3RgBCb9U+LyZotVIazX9+VAIBsCu14VWTsv3lOkfKREDN6hbduJYrl88VS5+KGX5Lsv/zUbQvSBAAKGCVD4GjYghINAjwT0k7UL5zi36OXNXv1yj5rgYgRSEgip79pLn4rfGs3LVzu0vS+lprJ106KD/WVfc+9Yd4+vWJ2tbukHAQQMEqDwNWgwCAWBlAROvUZk5FXOrXW/F9n+YkpNcRMCSQu8/e8ienrNySM0fIqac16S9O25uLA56vyV1xQK5yIE+kQAgRwLUPjmeADoHgFPBC7+lZpX2fIkK9bey38vEm70pGkaQaCdwL6lIsudjVQiJZUSrhzf7jI+QAABBEwToPA1bUSIB4FUBPqNFDnnTufOI5tElv13Ki1xDwJdC0TUk9KXPikSjcSui63ZW/V+ta50Xtf3cRYBBBAwQIDC14BBIAQEPBGY/FWR8hqnqXfUcmcNWz1pmkYQiAss+y+R+lXxP4aHnKHW7HUtqwcVAgggYLAAha/Bg0NoCPRIoFehyLR7nVsiTSKvfKFHTXAxAl0KHFovsnh2/JJIUZlas1dtpsKBAAII+ESAwtcnA0WYCCQlMPRCkbHOm/ay9XmRTU8mdSsXIdClgJ7a8OLH45ukRCXv5BQH/hrp0o2TCCBglAD/xTJqOAgGAQ8E9PJmha7tYl/9UsIGAx70QBM2Cug54/veiWceVk96oyUDbJQgZwQQ8LEAha+PB4/QEehQoHigyFQ1D7P1OL5HRO+uxYFAqgL1as3bt/8jfnekdz8Jqbm9HAgggIDfBCh8/TZixItAMgITvygyaKpz5Ro193fny8ncyTUIJApEQiJ/+ZhrioOoKQ4XG70tMUOIAAIIdCZA4duZDJ8j4GcBvbTUZQ+q4kS98NZ6LLxZRO+2xYFATwT0k94Dy+N3hIecLtE+THHoCSHXIoCAOQIUvuaMBZEg4K1A+TiRc7/ttNmwWeStb3nbB60FW2DvYpGlP4jnGCku9/UUh3756un1yaNfkWvDl2CPItkhgIBLgMKXrwMCQRY4U63tW6m2km09lv9EvaC0JMgZk5tXAqETLVMcJBprsWWjikvURhX+/Wvjisp9Mr5PQyyfr190nldStIMAAj4S8O9/wXyETKgI5EygV77IpWrKQ576Z+vx4k1qO2O1xi8HAl0JvH67yJGN8StCw86WaHFZV3cYf66sICwLpiyRTf/wYfnoRNdmL8ZHToAIIOCVAIWvV5K0g4CpAgMmiZztmuJwaI3Im18zNVriMkFg01Miq38djyTSd7CEB403ITJiQAABBNISoPBNi4+bEfCJwFmq8O3v2mHrvbkiO2p9EjxhZlWgYZtIrXoR8uQR7VUgTVUXZTUEOkMAAQQyJUDhmylZ2kXAJAFVvMhlj7Sf8tB02KQoiSXXAnrpsj/foNYra5kHq8NpPlXtBlhYkuvI6B8BBBDwRIDC1xNGGkHABwKVZ4q877tOoMd3ibyq1vvlQKBV4K1viux9K+4RHlgjkfKR+CCAAAKBEaDwDcxQkggCSQhMVnN7h1zgXLj+YZG6BUncyCWBF9j+oojelvjkESmukObh5wQ+bRJEAAG7BCh87RpvsrVdQG9scfmj6kfXpY5E7a0ix3baLmN3/if2qaXLPh43iKpVQJqrp/l66TK7B5TsEUCgMwEK385k+ByBoAr0O1Xkop852TXVq3mdH1ULtUaCmjF5dSWgx/1Pal5v4/74Vc2nXiDR3v26usuX5/SKxHduGCOXPLxQ3tujin0OBBCwToDC17ohJ2EElMC4z4iMvtGh2P26yOLZ0NgooJe22/VKPPPwgDESqagKpMQL+wbKY7uHy9bDx2TW8y8FMkeSQgCBrgUofLv24SwCwRW4RK3TWjLUye+d/1RLnC0Mbr5k1l5g0+9F3v1x/PNIUZk0n/K+9tcF5JPdTUXxTLYfPhKQrEgDAQR6IkDh2xMtrkUgSAK91S5cH3xCZaTm/bYeesrDsd1BypJcOhOoXy3y0qfjZ/V6vc3V00X0bn8cCCCAQEAFKHwDOrCkhUBSAkPfLzL1e86ljQda1nFlvm9SfL69SK/T+/yH1dbVx2Mp6LmvzVUXS7TI9dKjb5MjcAQQQKBzAQrfzm04g4AdAlP+TWTElU6uer7v2/9hR+62ZqlXcDiyMZ59eMgZEikbbqsGeSOAgEUCFL4WDTapItCpgF7irI+r8FmiNrpgvm+nXL4+ocd263PxFMKlwySkCl8OBBBAwAYBCl8bRpkcEehOoKhC5Ir5arqv2tq49fjzR0QOO08Fu2uC8z4Q2KIK3re+FQ80opYs01McRK/vzIEAAghYIEDha8EgkyICSQkMVm/zX/AT59LGg2oe6NVq8qeaD8rhf4F976j52+p/Zk4eLS+zXSqSX+j/3MgAAQQQSFKAwjdJKC5DwAqB028XqbrOSfXQWrWjl1rvN6pff+LwrcCRzSLPXqFeZjsRSyH+MluxWtmDAwEEELBIgMLXosEmVQSSErjsIZGKCc6lW19QPx7/RlK3cpGBAk2HVdF7ecLObOFhU3iZzcChIiQEEMi8AIVv5o3pAQF/CRSqrWo/9EeR4oFO3Et/ILLhMX/lQbQikWaRF65Rc7U3xDVCA8ZKaPAkdBBAAAErBSh8rRx2kkagG4F+I0WuUi9C9ertXLjwZpF9S7q5kdNGCegNKtzbEfcbKqERU40KMZvBFPaKxLsrzOevv2za0xcCpgjwb74pI0EcCJgmoF92u+xBJ6pIk3rZ7SqRhi2mRUo8HQm89mWRjY/Hz0SKy6V51DSrV3C4qPyg9MsPxUxmnjauIzU+QwCBgAtQ+AZ8gEkPgbQERqsX26b8P6eJ43tEnlYrAZzYn1az3JxhgSVqN74VP4t3Ei0okabRap5vvmu5ugyHYGLzVSUn5PEzl8qPL5ss377sIhNDJCYEEMiwAIVvhoFpHgHfC7xPbXhQda2Tht7x69kPqGXOjvo+tUAmsOr/1MuI34ynppctaxqjit7CkkCm29OkRpcclxtqRvT0Nq5HAIGACFD4BmQgSQOBjAnozQ0uVz8yH6SmPrQe+5eK/FEVw5GWHxtnrG8a7pmAfgHxlc/H74nm5cee9EbVNAcOBBBAAAH16goICCCAQLcCBcVqpYc/iZTXOJfqLY1fvIk1frvFy9IFele2lz4Z7yya10sVvZdKtK9rdY4shUI3CCCAgKkCFL6mjgxxIWCagN7W+BpV7PZVKz60HpueEHn5cxS/uR6rugXqCfwMNQ4tqxZEJU+aq6dLtN+QXEdG/wgggIBRAhS+Rg0HwSBguEDf4SLXquK3aIAT6Jp7KX5zOWwbfyfyp+tV0dsy7SRW9I66WCKlw3IZFX0jgAACRgpQ+Bo5LASFgMECZWNEPvwXkYI+TpAUv7kZsHVql72/fEz13bKldMtWxO+XSLnrqXxuIqNXBBBAwEgBCl8jh4WgEDBcYOBZLbu7FfR1AqX4ze6grf6tyEK1QcXJo6XovUgiFVXZjcNnva082leeXLNNGkNhn0VOuAgg4IUAha8XirSBgI0CQ9U6qNe8qJ78UvxmffhX/qJlesnJjlumN1xC0dvNQCw9Uio3LDtb/nXhMvnsgue7uZrTCCAQRAEK3yCOKjkhkC2Bwed1XPzqH79HmrMVhV39vPk1kVe/FM9Zr97QPPoypjck8S1Y1lAav2rpTrUZCwcCCFgnQOFr3ZCTMAIeC7QWv4VlTsN6tQe9yUXTEY87s7i5sNoy+k83iCz7YRwh2qtlnd5I6VCLYZJPPRpVa1KfPCLRlnnRyd/NlQggEAQBCt8gjCI5IJBrAV386tUe3MXvzpdFFpwvcmxXrqPzf/8n9on84WKRuqfiubTsyPZBtWTZYP/nRwYIIIBAlgQofLMETTcIBF5g4NkiM14XKXGtHXtwpchT54rUrwl8+hlLsH6tyJPKdu/f4l1EC/tI07irJNqnMmPd0jACCCAQRAEK3yCOKjkhkCuBAZNErn87cYe3o9tV8au2O976x1xF5d9+t6gXsJ46R+To1ngOkeL+0ljzIbYh9u+oEjkCCORQgMI3h/h0jUAgBfqNUMWvejo57BInvWY11/f5q0UW36U+Y25lt+MeVUtt/fWrIi98SKS5IX55uGyEetJ7pVpJo6jbJrgAAQQQQKC9AIVvexM+QQCBdAV6l7dsclH9UVdLquBdPFvkuavUS2+H0+0huPfrOdF6Pu+7P0rIMTRootqGeJqIeqGNAwEEEEAgNQEK39TcuAsBBLoT6FUo8kG1ne65/6mudP2nZtuf1JxVtQHGgRXdtWDf+V1qjvQTZ4jsfiOee2zlhqqLJTRcmXEggAACCKQlQOGbFh83I4BAtwJnf0vk6udE9FPg1uPIxpZ5vyt+qj5h6oOET4jo9XmfVtND9AoOJ49IUZk0qfm8kYpTu2XmAgQQQACB7gUofLs34goEEEhXYKSal/qRZSIDznRaCh8Xee129WN99eN7/QKcrceeN0V+d3rL+rx6bu/JI6y2Hm6quVqiqvjlQAABBBDwRoDC1xtHWkEAge4ESqtaXnobrXZ1cx+7XhF5fKLI2vu6ayFY5/VT3jf+RWT+hSKHNzi55eVLaMR50lyltoTuVRCsnMkGAQQQyLEAhW+OB4DuEbBKIF+tRvCBx0QuvV9NfahwUm9WL7vV3qp+1K+e/tavDj7JRjX3+bEJIst/onKNxPONlAyILVUWqhwbfIMcZDi0qDHe6yll/XIQAV0igECuBSh8cz0C9I+AjQLjPiNyo3q5bZgqdN2H3u3td+rlrte/olZ+OBQ8mf1quseC94v8RT31bqhz8tNPedXLa7FNKYqZ2pCpgb+ycp98Zuh2uWB4pcy9+vJMdUO7CCBgsACFr8GDQ2gIBFqg73C1zXGtyMX/q9aldT19i4ZE3rtH5FH11HPV/ymCALz8dnyPyKLPtezAtlut3OA6Imr3tdhTXrVcmeTlBXrIc52c1v3m6I3y8HXny6TBA3MdDv0jgEAOBCh8c4BOlwgg4BKY8AWRj6mtjYeoua7uQ69u8MrnW+b/rpmnZgSogthvx7EdLU+vHxktsua3KnpnWoPEnvKeLU1jr+Qpr9/GlXgRQMC3AhS+vh06AkcgQAL9RorMeFXN/X1QpF+bpbv0nN9Ft4no4nH5XJGQWg3C9KN+jcjCm0UeUi/06afXoaOuiPMk3L9aGk+7Tj3lVfN8ecpr+mgSHwIIBEiAV4YDNJikgoC/BdQPosd9SmTMjarAnSOy5HuJ83yPblWrIMxSu7/dKaJ3hBv3aZHheo6wIdMDIk0iG9RLa6t/LbKztsOhiPQbJqFTzpZIsevFvg6v5EMEEEAAgUwI8MQ3E6q0iQACqQv06i0yWW3m8Am1xNfp/6SW9FI7wLkP/dLbmt+IPHOpyMOjRP72DZFDa1PvL907D6ppGvplvAeGqae8qhjvoOgNl41QL65dLU1jLqPoTdeb+xFAwDiBefPmyaWXXip33HGH1NXVGRefO6C8qDqMjpDgEEDAboEG9aT3PTXFYdWvRJqPdG7RX20CMeo6kVOvUfOFL+j0unXr1klNTU38/D333CO336420kj20FMtdr8msqNWRG+/vPetTu8MDxgjocET2YSiU6HcnCg68weSVzIiN53TKwIBFJg+fbosWrQontmUKVNk1qxZMmPGDKmoMOsnXEx1COAXkJQQCJSAnv97/o9EzpmtphGoVR70NIiGLe1TPPieiP6lp0gUqzf2q28QGXi2SPl4kYrTRPoMbX9Pd5/oIrdePdHVc3b1k1293JrecKOrQ7+0NrBGwoMnSLSgpKsrOYcAAggEQuDWW2+VpUuXyqFDLctQ6t/rz3TRO3PmTLnllltEF8cmHDzxNWEUiAEBBHomoJ+0rntI/bo/+fsK+qotk0+Xo8295bm/vCKHVU17RO1ncOG0q2Tq2ZNaniY3qSfK+qmynk5xeL3IsZ3Jta92WNPTGSIVIyVcqpZpY8e15NyyfNXRcC/5+rrxsqb5VPn6JRfKNTVjshwB3SEQbIH58+eLnvawYMGCdomOGjUqVgzrIlj/PlcHhW+u5OkXAQTSF2huEFmvCuANaje4HQvTb68HLUQLiiSii93yEbGil8N8gd/tHiL/vqFlmsvgvn3kb59XG6lwIICA5wJ6nq8ugufMmSObN29u175+Ctz6JLjdyQx/QOGbYWCaRwCBLAmE1ePb3W+o6QhqntmOWpE9fxUJn/C0c72lsC50I6WnSKTPAE/bprHMC8zbcYr8oE4ti6eOkoICWXW72lSEAwEEMipQW1sbewqsC+HWqRCtHeqpEK1PgfW84Gwcxha+69evlyeeeEJOnPD2L65soNIHAgiYIVBZsF8GFByUgfl7Rf++f/5B6R1tkOOH90hpsVoyuEhi/2wM5cmxJvVL/fO4+meD+rXnaL5sO5QvW+sLZPvhfKk7kC+N4TwzEiOKlAQO17xPDk69NnZvXlOjjHrhqZTa4SYEEOi5QCgUkn379smuXbukvr6+XQO68G0tgjP5QpyRha8GqayslEjEtctROyI+QAABBBBAIHmBgoGDZNg/f0N6FZfIkVdr5cDvH03+Zq5EAAFPBXr37i1NTWr98w6Ou+++O7YqRCYOIwvfN998U84///xM5EubCCCAAAIWC+QPqJSCigHSuHGdxQqkjoB5AuXl5bEnvvpXJqc9GFn46uG4+eab5YEHHjBvZIgIAQQQQAABBBBAwBOBadOmxQteTxrsphFjC99u4uY0AgggkJJA2htYpNQrNyGAAAJ2Cei1fOfOnRt7qa3tnN7Wp7t6OkO2lzZjAwu7vodkiwACCCCAAAIIZERAF7h6DV+9jJkufNseeic3vYyZns6Qq4PCN1fy9IsAAggggAACCARAQBe8d9xxR4dPd6uqquJTGbL9dLcjWgrfjlT4DAEEEEAAAQQQQBVQx0QAAA46SURBVCApAf0Ud9EitYa669BPd/WTXX3OpIPC16TRIBYEEEAAAQQQQMBnAnoVBl346qe7et6uLnZNeLrbESOFb0cqfIYAAggggAACCCCQlICe05vpZciSCiSJi3olcQ2XIIAAAggggAACCCDQqUAm197ttNMUTlD4poDGLQgggAACCCCAAAL+E6Dw9d+YETECCCCAAAIIIIBACgIUvimgcQsCCCCAAAIIIICA/wQofP03ZkSMAAIIIIAAAgggkIIAhW8KaNyCAAIIIIAAAggg4D8BljPz35gRMQIIZFGgvqle7lp8lyzcvlCmDJwS63nWGbNkSmXL77MYCl2lIbD18BGZ+8Zi2Xr4sDx243VptMStCCDgZwEKXz+PHrEjgEBGBXTRe+nTl8qmI5uk9traWLE7v26+TH96usybPk9mjjJrR6KMYvi08daC94mVa2IZnDdimE8zIWwEEPBCgKkOXijSBgIIBFJg5h9nytL9S2X+FfPjT3h1sat/Xf+n66V2R20g8w5SUk+sWCMfmVRDwRukQSUXBNIQoPBNA49bEUAguAK6qF20c5HMqJoh04dPT0hUT3XQh54CwWG2wB0XnCsXjBgu56tfHAgggACFL98BBBBAoAOBOcvnxD5tW/Tqz1rn99burOWpbwd2Jn50/kgKXxPHhZgQyLYAhW+2xekPAQSMF9BzexdsXhCLs7OX2KYNmxY731ogG58UASKAAAIICIUvXwIEEECgjcD8TfPjn4wqHdWhT+vnukjmQAABBBDwhwCFrz/GiSgRQCCLAnUNdfHeuit89TxgDgQQQAABfwhQ+PpjnIgSAQSyKLB039Is9kZXCCCAAALZEqDwzZY0/SCAgG8Eejp9gWXNfDO0BIoAApYLUPha/gUgfQQQSF+gs+kQ6bdMCwgggAACXgpQ+HqpSVsIIBAIgY6WMOsqMQrfrnQ4hwACCJgjQOFrzlgQCQIIGCjQ2bSH+saW1RzKe5cbGDUhIYAAAgh0JEDh25EKnyGAgNUC04dNj+ff2YtueitjfbivtRqN5BFAAAEfCFD4+mCQCBEBBLIroKc6VPWrinXaWuC2jaDuSF3so5mjZrY9xZ8RQAABBAwVoPA1dGAICwEEcitw6/hbYwHct/a+doHo6Q+bGzbHiuOZ1RS+7YD4AAEEEDBUgMLX0IEhLAQQyK3ArDNmyeQBk2NPfFuf7rZG1LpN8exzZktF74rcBkrvCCCAAAJJC1D4Jk3FhQggYJOALmhrr6uNPdW944074qnPWzNP7lp8l9xSc4u0PhW2ycWvuf5pfV0s9O2HG/yaAnEjgIAHAgUetEETCCCAQCAFYsXvtbWin/BOeWKK5OXlyaYjm+TeafdS9PpkxO+qfV3e3LZDVu7dH4t42+EjcubP75WJgwbKv0+/UCYNqvRJJoSJAAJeCFD4eqFIGwggEFgBvUbvnAvnxPLTUx5Ys9dfQ32nKm45EEAAgVYBpjrwXUAAAQSSFKDoTRKKyxBAAAFDBSh8DR0YwkIAAQQQQAABBBDwVoDC11tPWkMAAQQQQAABBBAwVIDC19CBISwEEEAAAQQQQAABbwUofL31pDUEEEAAAQQQQAABQwUofA0dGMJCAAEEEEAAAQQQ8FaAwtdbT1pDAAEEEEAAAQQQMFSAwtfQgSEsBBBAAAEEEEAAAW8FKHy99aQ1BBBAAAEEEEAAAUMFKHwNHRjCQgABBBBAAAEEEPBWgMLXW09aQwABBBBAAAEEEDBUgMLX0IEhLAQQQAABBBBAAAFvBSh8vfWkNQQQQAABBBBAAAFDBSh8DR0YwkIAAQQQQAABBBDwVoDC11tPWkMAAQQQQAABBBAwVIDC19CBISwEEEAAAQQQQAABbwUofL31pDUEEEAAAQQQQAABQwUofA0dGMJCAAEEEEAAAQQQ8FaAwtdbT1pDAAEEEEAAAQQQMFSAwtfQgSEsBBBAAAEEEEAAAW8FKHy99aQ1BBBAAAEEEEAAAUMFKHwNHRjCQgABBBBAAAEEEPBWgMLXW09aQwABBBBAAAEEEDBUgMLX0IEhLAQQQAABBBBAAAFvBSh8vfWkNQQQQAABBBBAAAFDBSh8DR0YwkIAAQQQQAABBBDwVoDC11tPWkMAAQQQQAABBBAwVIDC19CBISwEEEAAAQQQQAABbwUofL31pDUEEEAAAQQQQAABQwUofA0dGMJCAAEEEEAAAQQQ8FaAwtdbT1pDAAEEEEAAAQQQMFSAwtfQgSEsBBBAAAEEEEAAAW8FKHy99aQ1BBBAAAEEEEAAAUMFKHwNHRjCQgABBBBAAAEEEPBWgMLXW09aQwABBBBAAAEEEDBUgMLX0IEhLAQQQAABBBBAAAFvBSh8vfWkNQQQQAABBBBAAAFDBSh8DR0YwkIAAQQQQAABBBDwVoDC11tPWkMAAQQQQAABBBAwVIDC19CBISwEEEAAAQQQQAABbwUofL31pDUEEEAAAQQQQAABQwUofA0dGMJCAAEEEEAAAQQQ8FaAwtdbT1pDAAEEEEAAAQQQMFSAwtfQgSEsBBBAAAEEEEAAAW8FKHy99aQ1BBBAAAEEEEAAAUMFKHwNHRjCQgABBBBAAAEEEPBWgMLXW09aQwABBBBAAAEEEDBUgMLX0IEhLAQQQAABBBBAAAFvBSh8vfWkNQQQQAABBBBAAAFDBSh8DR0YwkIAAQQQQAABBBDwVoDC11tPWkMAAQQQQAABBBAwVIDC19CBISwEEEAAAQQQQAABbwUofL31pDUEEEAAAQQQQAABQwUofA0dGMJCAAEEEEAAAQQQ8FaAwtdbT1pDAAEEEEAAAQQQMFSAwtfQgSEsBBBAAAEEEEAAAW8FKHy99aQ1BBBAAAEEEEAAAUMFKHwNHRjCQgABBBBAAAEEEPBWgMLXW09aQwABBBBAAAEEEDBUgMLX0IEhLAQQQAABBBBAAAFvBSh8vfWkNQQQQAABBBBAAAFDBSh8DR0YwkIAAQQQQAABBBDwVoDC11tPWkMAAQQQQAABBBAwVIDC19CBISwEEEAAAQQQQAABbwUofL31pDUEEEAAAQQQQAABQwUofA0dGMJCAAEEEEAAAQQQ8FaAwtdbT1pDAAEEEEAAAQQQMFSAwtfQgSEsBBBAAAEEEEAAAW8FKHy99aQ1BBBAAAEEEEAAAUMFKHwNHRjCQgABBBBAAAEEEPBWgMLXW09aQwABBBBAAAEEEDBUgMLX0IEhLAQQQAABBBBAAAFvBSh8vfWkNQQQQAABBBBAAAFDBSh8DR0YwkIAAQQQQAABBBDwVoDC11tPWkMAAQQQQAABBBAwVIDC19CBISwEEEAAAQQQQAABbwUofL31pDUEEEAAAQQQQAABQwUofA0dGMJCAAEEEEAAAQQQ8FaAwtdbT1pDAAEEEEAAAQQQMFSAwtfQgSEsBBBAAAEEEEAAAW8FKHy99aQ1BBBAAAEEEEAAAUMFKHwNHRjCQgABBBBAAAEEEPBWgMLXW09aQwABBBBAAAEEEDBUgMLX0IEhLAQQQAABBBBAAAFvBSh8vfWkNQQQQAABBBBAAAFDBSh8DR0YwkIAAQQQQAABBBDwVoDC11tPWkMAAQQQQAABBBAwVIDC19CBISwEEEAAAQQQQAABbwUofL31pDUEEEAAAQQQQAABQwUofA0dGMJCAAEEEEAAAQQQ8FaAwtdbT1pDAAEEEEAAAQQQMFSAwtfQgSEsBBBAAAEEEEAAAW8FKHy99aQ1BBBAAAEEEEAAAUMFKHwNHRjCQgABBBBAAAEEEPBWgMLXW09aQwABBBBAAAEEEDBUgMLX0IEhLAQQQAABBBBAAAFvBSh8vfWkNQQQQAABBBBAAAFDBSh8DR0YwkIAAQQQQAABBBDwVoDC11tPWkMAAQQQQAABBBAwVIDC19CBISwEEEAAAQQQQAABbwUofL31pDUEEEAAAQQQQAABQwUofA0dGMJCAAEEEEAAAQQQ8FaAwtdbT1pDAAEEEEAAAQQQMFSAwtfQgSEsBBBAAAEEEEAAAW8FKHy99aQ1BBBAAAEEEEAAAUMFKHwNHRjCQgABBBBAAAEEEPBWgMLXW09aQwABBBBAAAEEEDBUgMLX0IEhLAQQQAABBBBAAAFvBSh8vfWkNQQQQAABBBBAAAFDBSh8DR0YwkIAAQQQQAABBBDwVoDC11tPWkMAAQQQQAABBBAwVIDC19CBISwEEEAAAQQQQAABbwUofL31pDUEEEAAAQQQQAABQwUofA0dGMJCAAEEEEAAAQQQ8FaAwtdbT1pDAAHDBcrKyhIiLC0tNTxiwkMAAQQQ8EqAwtcrSdpBAAFfCAwZMkSuuuqqWKz69zNmzPBF3ASJAAIIIJC+QF5UHek3QwsIIICAvwRWrlwpEydO9FfQRIsAAgggkJYAhW9afNyMAAIIIIAAAggg4BcBpjr4ZaSIEwEEEEAAAQQQQCAtAQrftPi4GQEEEEAAAQQQQMAvAhS+fhkp4kQAAQQQQAABBBBIS4DCNy0+bkYAAQQQQAABBBDwiwCFr19GijgRQAABBBBAAAEE0hKg8E2Lj5sRQAABBBBAAAEE/CJA4euXkSJOBBBAAAEEEEAAgbQEKHzT4uNmBBBAAAEEEEAAAb8IUPj6ZaSIEwEEEEAAAQQQQCAtAQrftPi4GQEEEEAAAQQQQMAvAhS+fhkp4kQAAQQQQAABBBBIS4DCNy0+bkYAAQQQQAABBBDwiwCFr19GijgRQAABBBBAAAEE0hKg8E2Lj5sRQAABBBBAAAEE/CJA4euXkSJOBBBAAAEEEEAAgbQEKHzT4uNmBBBAAAEEEEAAAb8IUPj6ZaSIEwEEEEAAAQQQQCAtAQrftPi4GQEEEEAAAQQQQMAvAv8fRzYLdqgp7B8AAAAASUVORK5CYII=)\n",
        "\n",
        "[Forrás](https://www.mateking.hu/matek-1/hatarozott-integralas/a-gorbe-alatti-terulet-es-a-hatarozott-integralas#20)"
      ],
      "metadata": {
        "id": "R2mUui5TP9r2"
      }
    },
    {
      "cell_type": "markdown",
      "source": [
        "### $\\pi$ értékének közelítése\n",
        "\n",
        "Meghatározása többféle képpen is lehetséges, de az [egyik legismertebb módszer](https://hu.wikipedia.org/wiki/P%C3%AD_(sz%C3%A1m)#A_matematikai_anal%C3%ADzisben) a $cos(\\frac{\\pi}{2}) = 0$ függvény zérushelyének megkeresésével oldja meg a problémát.\n",
        "\n",
        "Egy függvény zérushelyének megkeresése sokszor, így ebben az esetben is megoldható [Newton-módszerrel](https://hu.wikipedia.org/wiki/Newton-m%C3%B3dszer), amennyiben a megoldáshoz kellően közeli helyről indítjuk a keresést (ez a példában 4). A megoldandó függvénynek deriválhatónak kell lennie, de ez esetünkben nem gond, mert tudjuk, hogy $cos(x)' = -sin(x)$. A módszer iteratív, azaz több lépésben közelítünk az eredményhez, de nem végtelen sokkal, mivel egyre kisebb javulást tudunk csak elérni az újabb és újabb közelítésekkel: *EPSZILON*-nál kisebb javulás esetén meg fogunk állni.\n",
        "\n",
        "A *math* könyvtárban természetesen rendelkezésre áll a *cos* függvény, de érdekességképpen ezt is megírhatjuk, ha ismerjük a [*cos* függvény Taylor-sorát](https://hu.wikipedia.org/wiki/Sz%C3%B6gf%C3%BCggv%C3%A9nyek#Defin%C3%ADci%C3%B3_v%C3%A9gtelen_sorral). Ez egyre csökkenő értékű tagok összegzését jelenti. Nyilván nincs értelme, és lehetőségünk sem a végtelenségig pontosítani az eredményt, ezért egy adott *EPSZILON* pontosság elérésekor leállunk. Bár tudunk Python-ban hatványozni (\\*\\* operátor) és faktoriálist számolni is ([*math.factorial()*](https://docs.python.org/3/library/math.html#math.factorial)), a műveletek számát csökkenthetjük, ha a korábban kiszámolt hatványokat, illetve faktoriálisokat szorozzuk tovább.\n",
        "\n",
        "Mivel tudjuk, hogy $sin(x) = cos(\\frac{\\pi}{2} - x)$, csábító lenne a *sin* függvény kiszámítását is a meglévő *cos* függvényünkre bízni, de éppen $\\pi$ értékét keressük. Taylor-sorfejltéssel viszont a *sin* értéke is nagyon hasonló módon számolható lenne."
      ],
      "metadata": {
        "id": "A_CZ6LRuXPJT"
      }
    },
    {
      "cell_type": "code",
      "source": [
        "import math\n",
        "from typing import Callable\n",
        "\n",
        "EPSZILON = 1e-6\n",
        "\n",
        "def my_cos(x: float) -> float:\n",
        "  szamlalo = 1\n",
        "  k = 0\n",
        "  nevezo = 1\n",
        "  elojel = 1\n",
        "  tag = 1\n",
        "  osszeg = tag\n",
        "  while(abs(tag) > EPSZILON):\n",
        "    szamlalo *= x*x\n",
        "    k += 2\n",
        "    nevezo *= (k-1)*k\n",
        "    elojel *= -1\n",
        "    tag = elojel * szamlalo / nevezo\n",
        "    osszeg += tag\n",
        "  return osszeg\n",
        "\n",
        "def Fx(x: float) -> float:\n",
        "  return my_cos(x/2.)\n",
        "def dFx(x: float) -> float:\n",
        "  return -math.sin(x/2.)\n",
        "  \n",
        "def Erinto(Fx: Callable[[float], float], dFx: Callable[[float], float], x0: float) -> float:\n",
        "\tx1 = x0 - Fx(x0)/dFx(x0)\n",
        "\twhile abs(x1-x0) > EPSZILON:\n",
        "\t\tx0 = x1\n",
        "\t\tx1 = x0 - Fx(x0)/dFx(x0)\n",
        "\treturn x1\n",
        "\n",
        "print('\\N{Greek Small Letter Pi} \\N{Almost Equal To}', Erinto(Fx, dFx, 4.), f'vs. {math.pi}')"
      ],
      "metadata": {
        "colab": {
          "base_uri": "https://localhost:8080/"
        },
        "id": "DRQN9wqjf21c",
        "outputId": "3198b49b-23ff-4fc9-cb3f-4fe56b7e5fee"
      },
      "execution_count": null,
      "outputs": [
        {
          "output_type": "stream",
          "name": "stdout",
          "text": [
            "π ≈ 3.1415934169317814 vs. 3.141592653589793\n"
          ]
        }
      ]
    },
    {
      "cell_type": "markdown",
      "source": [
        "# Bepillantás az objektum-orientált (OO) programozásba\n",
        "Eddigi programjaink *procedurális* megközelítésben készültek, azaz elsősorban arra koncentráltunk, hogy egy-egy konkrét feladatot milyen adatszerkezet segítségével, és azon milyen műveleteket, milyen sorrendben végrehajtva tudunk elérni a célig.\n",
        "\n",
        "Ezzel szemben az *OO* programozás során az egymással kapcsolatban álló programegységek hierarchiájának megtervezése kerül a fókuszba. OO programok készítése során számos OO alapelvet kell betartani, illetve lehetőségekkel lehet élni, mint pl. egységbezárás, adatrejtés, származtatás, többalakúság. Ennek a tárgynak a keretében nem célunk az OO programozás teljeskörű elsajátíttatása, azonban a Python függvénykönyvtára széles körben támaszkodik az OO lehetőségekre, ezért fontosnak tartjuk, hogy legalább az alapjait értsék annak, hogy mi történik ezekben a könyvtárakban, hogyan kell használni azokat.\n",
        "\n",
        "Fontos fogalom a *class* kulcsszóval megjelölt *osztály*, ami a logikailag összetartozó adatokat és a rajtuk elvégezhető műveleteket egy egységbe zárja (egységbezárás elve). Pl. egy téglalap osztály egységbe zárja a téglalap két oldalhosszát (ezek az ún. *adattagok* vagy *attribútumok*), és a kerületet, területet kiszámító függvényeket (ezek pedig a  *metódusok*). Ez az osztály általánosságban megmondja, milyen adatok fontosak egy téglalap jellemzéséhez, és milyen műveletek végezhetők téglalapokkal, de önmagában az osztály még nem működőképes, mert nem tartozik hozzá memóriaterület. Az osztály tehát *típusként viselkedik*, nem változóként.\n",
        "\n",
        "Az osztály használatba vételéhez *példányosítani* kell, vagy másképp fogalmazva *objektumot* kell létrehozni belőle; ezek már változók lesznek. A példányosítás során rendelünk memóriaterületet az osztályhoz, amin annak adattagjai már tárolhatók. Ha több téglalappal is szeretnénk dolgozni, akkor több példányt fogunk létrehozni, melyek különböző oldalhossz párokat tartalmazhatnak.\n",
        "\n",
        "Az objektumok adattagjainak inicializálását egy speciális metódus, az ún. *konstruktor* végzi. Ennek paramétereket megadva az adattagok kezdeti értéke már beállítható. Pythonban a konstruktor definíciója során az \\_\\_init\\_\\_ metódusnevet kell alkalmazni, de a példányosításnál már az osztály nevével egyező metódusnak kell átadni az inicializáláshoz használt értékeket.\n",
        "\n",
        "Mivel tehát általánosságban elmondható, hogy az osztályt egyszer definiáljuk, de több példányt is létrehozhatunk belőle, az adatoknak annyiszor foglalunk helyet a tárban, ahány példányra szükség van, de a metódusokat elegendő egyszer tárolni, hiszen eltérő adatokon ugyan, de mindig ugyanazokat a műveleteket hajtjuk végre. Ebből következik, hogy a metódusoknak valahonnan tudniuk kell, mikor-melyik példány adattagjaival kell műveleteket végezniük. Erre a célra szolgál egy speciális változó, a *self*, ami az aktuális példányt jelöli ki. Ezt minden metódus első formális paramétereként fel kell tüntetni, de a metódus hívásakor automatikusan fog értéket kapni, tehát azt nekünk nem kell szolgáltatnunk (értéke a példány nevéből automatizáltan kikövetkeztethető).\n",
        "\n",
        "OO programok írásakor elkerülhetetlenül szükségünk lesz a . (pont) operátor használatára. Ezzel választjuk el egymástól pl. a self kulcsszót és egy adattag/metódus nevét, amikor azt az osztály kódján belül használni szeretnénk, de egy példány adott metódusának hívásához is meg kell nevezni a példányt, és attól a . operátorral elválasztva a hívandó metódust.\n",
        "\n"
      ],
      "metadata": {
        "id": "YdRe730tmLuL"
      }
    },
    {
      "cell_type": "code",
      "source": [
        "class Teglalap:             # osztálydefiníció kezdete\n",
        "  def __init__(self, a : float, b : float): # konstruktor\n",
        "    self.a = a              # adattagok inicializálása\n",
        "    self.b = b\n",
        "\n",
        "  def kerulet(self) -> float:        # metódus\n",
        "    return (self.a + self.b) * 2\n",
        "\n",
        "  def terulet(self) -> float:\n",
        "    return self.a * self.b\n",
        "\n",
        "t1 = Teglalap(2, 5);\n",
        "print('Az első téglalap kerülete: ', t1.kerulet(), ', területe: ', t1.terulet())\n",
        "t2 = Teglalap(3, 6);\n",
        "print('A második téglalap kerülete: ', t2.kerulet(), ', területe: ', t2.terulet())\n"
      ],
      "metadata": {
        "colab": {
          "base_uri": "https://localhost:8080/"
        },
        "id": "Vx9kWBu0vXp9",
        "outputId": "d9129f30-f07b-4973-b5fd-267be5d47d2c"
      },
      "execution_count": null,
      "outputs": [
        {
          "output_type": "stream",
          "name": "stdout",
          "text": [
            "Az első téglalap kerülete:  14 , területe:  10\n",
            "A második téglalap kerülete:  18 , területe:  18\n"
          ]
        }
      ]
    },
    {
      "cell_type": "markdown",
      "source": [
        "A következő példa két osztály együttes használatát mutatja be. A Koordinata osztály egy síkbeli koordinátát tárol. Ezt használja a Poligon osztály az őt alkotó szakaszok végpontjainak meghatározására (az utolsó pontot automatikusan összeköti az elsővel)."
      ],
      "metadata": {
        "id": "eC6ICdmn5Fyq"
      }
    },
    {
      "cell_type": "code",
      "source": [
        "import math\n",
        "\n",
        "class Koordinata:\n",
        "  def __init__(self, x : float, y : float) -> None:\n",
        "    self.x = x\n",
        "    self.y = y\n",
        "\n",
        "class Poligon:\n",
        "  def __init__(self) -> None:\n",
        "    self.pontok = [] # A Koordinata osztály több példányát fogjuk tárolni itt\n",
        "  def hozzaad(self, pont: Koordinata) -> None:\n",
        "    self.pontok.append(pont)\n",
        "  def szakasz(self, a: Koordinata, b: Koordinata) -> float: # Egy szakasz hossza\n",
        "    return math.sqrt((a.x-b.x)**2 + (a.y-b.y)**2)\n",
        "  def kerulet(self) -> float:\n",
        "    if len(self.pontok) == 0:\n",
        "      return 0.\n",
        "    kerulet = 0.\n",
        "    elozo = self.pontok[0]\n",
        "    for i in range(1, len(self.pontok)):\n",
        "      akt = self.pontok[i]\n",
        "      kerulet += self.szakasz(elozo, akt) # A kerület a szakaszok hosszának összege\n",
        "      elozo = akt\n",
        "    return kerulet + self.szakasz(elozo, self.pontok[0])\n",
        "\n",
        "p1 = Poligon()\n",
        "p1.hozzaad(Koordinata(0, 0))\n",
        "p1.hozzaad(Koordinata(2, 0))\n",
        "p1.hozzaad(Koordinata(2, 2))\n",
        "p1.hozzaad(Koordinata(0, 2))\n",
        "print(\"A poligon kerülete: \", p1.kerulet())\n",
        "\n",
        "p2 = Poligon()\n",
        "p2.hozzaad(Koordinata(1, 1))\n",
        "print(\"A poligon kerülete: \", p2.kerulet())\n",
        "\n",
        "p3 = Poligon()\n",
        "print(\"A poligon kerülete: \", p3.kerulet())"
      ],
      "metadata": {
        "colab": {
          "base_uri": "https://localhost:8080/"
        },
        "id": "PCTvvzxKx8ju",
        "outputId": "ffe5739e-99e4-4918-a6d9-1fddd7287445"
      },
      "execution_count": null,
      "outputs": [
        {
          "output_type": "stream",
          "name": "stdout",
          "text": [
            "A poligon kerülete:  8.0\n",
            "A poligon kerülete:  0.0\n",
            "A poligon kerülete:  0.0\n"
          ]
        }
      ]
    }
  ]
}