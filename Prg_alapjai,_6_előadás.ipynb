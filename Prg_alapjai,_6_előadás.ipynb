{
  "nbformat": 4,
  "nbformat_minor": 0,
  "metadata": {
    "colab": {
      "name": "Prg. alapjai, 6. előadás.ipynb",
      "provenance": [],
      "collapsed_sections": []
    },
    "kernelspec": {
      "name": "python3",
      "display_name": "Python 3"
    },
    "language_info": {
      "name": "python"
    }
  },
  "cells": [
    {
      "cell_type": "markdown",
      "source": [
        "# Függvények\n",
        "[Ellipszis](https://hu.wikipedia.org/wiki/Ellipszis_(g%C3%B6rbe)) rajzolása (emlékeztető)"
      ],
      "metadata": {
        "id": "_K5MBLoOY9K9"
      }
    },
    {
      "cell_type": "code",
      "execution_count": null,
      "metadata": {
        "colab": {
          "base_uri": "https://localhost:8080/"
        },
        "id": "LjsiCzRQVAou",
        "outputId": "a6ead8c1-ddd3-4abd-8dd4-ee4efdf44a31"
      },
      "outputs": [
        {
          "output_type": "stream",
          "name": "stdout",
          "text": [
            "               *               \n",
            "        ***************        \n",
            "      *******************      \n",
            "    ***********************    \n",
            "   *************************   \n",
            "  ***************************  \n",
            " ***************************** \n",
            " ***************************** \n",
            "*******************************\n",
            " ***************************** \n",
            " ***************************** \n",
            "  ***************************  \n",
            "   *************************   \n",
            "    ***********************    \n",
            "      *******************      \n",
            "        ***************        \n",
            "               *               \n"
          ]
        }
      ],
      "source": [
        "RS = 8\n",
        "RO = 15\n",
        "s = -RS\n",
        "while s <= RS:\n",
        "  o = -RO\n",
        "  while o <= RO:\n",
        "    if s**2/RS**2 + o**2/RO**2 <= 1:\n",
        "      print('*', end='')\n",
        "    else:\n",
        "      print(' ', end='')\n",
        "    o += 1\n",
        "  print()\n",
        "  s += 1"
      ]
    },
    {
      "cell_type": "markdown",
      "source": [
        "Ha két ellipszist is szeretnék rajzolni, akkor már ismételnem kell a kódot:"
      ],
      "metadata": {
        "id": "NvjOj4uvZ8N7"
      }
    },
    {
      "cell_type": "code",
      "source": [
        "RS = 8\n",
        "RO = 15\n",
        "s = -RS\n",
        "while s <= RS:\n",
        "  o = -RO\n",
        "  while o <= RO:\n",
        "    if s**2/RS**2 + o**2/RO**2 <= 1:\n",
        "      print('*', end='')\n",
        "    else:\n",
        "      print(' ', end='')\n",
        "    o += 1\n",
        "  print()\n",
        "  s += 1\n",
        "\n",
        "RS = 4\n",
        "RO = 8\n",
        "s = -RS\n",
        "while s <= RS:\n",
        "  o = -RO\n",
        "  while o <= RO:\n",
        "    if s**2/RS**2 + o**2/RO**2 <= 1:\n",
        "      print('*', end='')\n",
        "    else:\n",
        "      print(' ', end='')\n",
        "    o += 1\n",
        "  print()\n",
        "  s += 1"
      ],
      "metadata": {
        "colab": {
          "base_uri": "https://localhost:8080/"
        },
        "id": "xOm4_cyXaEX8",
        "outputId": "a08dc8d3-403b-4109-acca-bd5413f396fd"
      },
      "execution_count": null,
      "outputs": [
        {
          "output_type": "stream",
          "name": "stdout",
          "text": [
            "               *               \n",
            "        ***************        \n",
            "      *******************      \n",
            "    ***********************    \n",
            "   *************************   \n",
            "  ***************************  \n",
            " ***************************** \n",
            " ***************************** \n",
            "*******************************\n",
            " ***************************** \n",
            " ***************************** \n",
            "  ***************************  \n",
            "   *************************   \n",
            "    ***********************    \n",
            "      *******************      \n",
            "        ***************        \n",
            "               *               \n",
            "        *        \n",
            "   ***********   \n",
            "  *************  \n",
            " *************** \n",
            "*****************\n",
            " *************** \n",
            "  *************  \n",
            "   ***********   \n",
            "        *        \n"
          ]
        }
      ]
    },
    {
      "cell_type": "markdown",
      "source": [
        "Ez nem szép:\n",
        "- nagyon hosszú a kód, feleslegesen töltöm vele a gép memóriáját\n",
        "- ha kiderül, hogy hibás, minden ismételt előfordulását javítani kell\n",
        "\n",
        "A függvény adatok és utasítások elnevezett egysége, melynek működése paraméterezéssel módosítható, értéket tud szolgáltatni, és/vagy *mellékhatásokat* tud kiváltani (pl. nyomtat a képernyőre).\n",
        "\n",
        "Segít a programunkat kisebb egységekre bontani, modularizálni. Ezáltal az könnyebben áttekinthetővé, érthetővé válik, és még mérete is csökkenhet.\n",
        "\n",
        "Függvények segítségével ugyanis megtehetjük, hogy a programrészletet csak egyszer írjuk meg, és többször felhasználjuk (meghívjuk). Ráadásul a függvény működése paraméterezhető is, azaz könnyen lehet pl. eltérő méretű ellipsziseket rajzolni.\n",
        "\n",
        "Függvény definiálása: *def* kulcsszóval, kerek zárójelpárba kerülnek a paraméterek:\n",
        "- A függvény definíciójában szereplő paraméterek a *formális paraméterek* (parameters). Ezekkel úgy dolgozhatunk a függvényen belül, mint bármelyik változóval.\n",
        "- A függvény hívásánál szereplők pedig az *aktuális paraméterek* (arguments, args).\n",
        "\n",
        "A formális és aktuális paraméterek neveinek nem *kell* egyezni, sőt, az aktuális paraméterek sokszor eleve nem is változók (konstansok/literálok), nincs nevük."
      ],
      "metadata": {
        "id": "xh9EVgkoaS-Z"
      }
    },
    {
      "cell_type": "code",
      "source": [
        "def ellipszis(rs, ro): # függvény definíciója: def kulcsszó, egyedi azonosító (a függvény neve), formális paraméterlista\n",
        "  s = -rs              # Itt kezdődik az adatok és műveletek sorozata, azaz a függvény teste\n",
        "  while s <= rs:\n",
        "    o = -ro\n",
        "    while o <= ro:\n",
        "      if s**2/rs**2 + o**2/ro**2 <= 1:\n",
        "        print('*', end='')\n",
        "      else:\n",
        "        print(' ', end='')\n",
        "      o += 1\n",
        "    print()\n",
        "    s += 1\n",
        "\n",
        "ellipszis(8, 15) # függvény első hívása\n",
        "ellipszis(4, 8)  # függvény második hívása"
      ],
      "metadata": {
        "colab": {
          "base_uri": "https://localhost:8080/"
        },
        "id": "URMBEjKTajuH",
        "outputId": "833a5cd8-5dc1-4280-c30d-1c9e0f13873e"
      },
      "execution_count": null,
      "outputs": [
        {
          "output_type": "stream",
          "name": "stdout",
          "text": [
            "               *               \n",
            "        ***************        \n",
            "      *******************      \n",
            "    ***********************    \n",
            "   *************************   \n",
            "  ***************************  \n",
            " ***************************** \n",
            " ***************************** \n",
            "*******************************\n",
            " ***************************** \n",
            " ***************************** \n",
            "  ***************************  \n",
            "   *************************   \n",
            "    ***********************    \n",
            "      *******************      \n",
            "        ***************        \n",
            "               *               \n",
            "        *        \n",
            "   ***********   \n",
            "  *************  \n",
            " *************** \n",
            "*****************\n",
            " *************** \n",
            "  *************  \n",
            "   ***********   \n",
            "        *        \n"
          ]
        }
      ]
    },
    {
      "cell_type": "markdown",
      "source": [
        "Egy függvény célja nem csak az lehet, hogy mellékhatást generáljon, hanem az is, hogy értéket állítson elő. Pl. egy téglalap két oldalhosszának ismeretében megadhatja a kerületét:"
      ],
      "metadata": {
        "id": "GZZFsDzFjV3e"
      }
    },
    {
      "cell_type": "code",
      "source": [
        "def teglalapKerulet(a, b):\n",
        "  return 2 * (a + b)\n",
        "\n",
        "print(teglalapKerulet(2, 3))\n",
        "print(teglalapKerulet(2.5, 4))"
      ],
      "metadata": {
        "colab": {
          "base_uri": "https://localhost:8080/"
        },
        "id": "j_Wq1xhjjqff",
        "outputId": "fdaa1bfd-958b-4758-e6f1-5087b20ab2b1"
      },
      "execution_count": null,
      "outputs": [
        {
          "output_type": "stream",
          "name": "stdout",
          "text": [
            "10\n",
            "13.0\n"
          ]
        }
      ]
    },
    {
      "cell_type": "markdown",
      "source": [
        "A visszatérési értéket a *return* kulcsszót követő kifejezés határozza meg. A return egyúttal véget vet a függvény futásának is, visszaadja a vezérlést a függvény hívójának. Több return is szerepelhet egy függvényben.\n",
        "\n",
        "Feladat: állapítsuk meg egy karakterláncról, hogy formailag Neptun kódnak tekinthető-e! (6 karakter hosszú, csak alfanumerikus jelekből állhat.)"
      ],
      "metadata": {
        "id": "6j79MUaYj-eC"
      }
    },
    {
      "cell_type": "code",
      "source": [
        "def isNeptun(kod):\n",
        "  if len(kod) != 6:\n",
        "    return False\n",
        "  for betu in kod:\n",
        "    if not (betu.isdigit() or betu.isalpha()):\n",
        "      return False\n",
        "  return True\n",
        "\n",
        "print(isNeptun('Abc123'))\n",
        "print(isNeptun('1a'))\n",
        "print(isNeptun('1a2b3c4d'))\n",
        "print(isNeptun('1a+!3c'))"
      ],
      "metadata": {
        "colab": {
          "base_uri": "https://localhost:8080/"
        },
        "id": "GFsmIBjek3l6",
        "outputId": "068e9125-eea6-453b-9d61-eb1f06bd8922"
      },
      "execution_count": null,
      "outputs": [
        {
          "output_type": "stream",
          "name": "stdout",
          "text": [
            "True\n",
            "False\n",
            "False\n",
            "False\n"
          ]
        }
      ]
    },
    {
      "cell_type": "markdown",
      "source": [
        "A Python arra is képes, hogy egyszerre több értéket adjon vissza egy returnnel."
      ],
      "metadata": {
        "id": "c4V9vOcW5K54"
      }
    },
    {
      "cell_type": "code",
      "source": [
        "def teglalap(a, b):\n",
        "  kerulet = 2 * (a + b)\n",
        "  terulet = a * b\n",
        "  return kerulet, terulet\n",
        "\n",
        "k, t = teglalap(2, 3)\n",
        "print(f'A téglalap kerülete {k}, területe {t}.')"
      ],
      "metadata": {
        "colab": {
          "base_uri": "https://localhost:8080/"
        },
        "id": "uz-fBFGp5QUW",
        "outputId": "e3fab1b6-315f-405b-cfcc-11a8a1e36aa9"
      },
      "execution_count": null,
      "outputs": [
        {
          "output_type": "stream",
          "name": "stdout",
          "text": [
            "A téglalap kerülete 10, területe 6.\n"
          ]
        }
      ]
    },
    {
      "cell_type": "markdown",
      "source": [
        "Igazából egy tuple-t ad vissza, majd azt kicsomagolja:\n",
        "\n"
      ],
      "metadata": {
        "id": "Z244Wr3O5s5z"
      }
    },
    {
      "cell_type": "code",
      "source": [
        "eredmeny = teglalap(2, 3)\n",
        "print(eredmeny)\n",
        "print(type(eredmeny))"
      ],
      "metadata": {
        "colab": {
          "base_uri": "https://localhost:8080/"
        },
        "id": "oUDv5IIp5wO-",
        "outputId": "77bbf760-3b27-4478-b032-1b2e9072e6a5"
      },
      "execution_count": null,
      "outputs": [
        {
          "output_type": "stream",
          "name": "stdout",
          "text": [
            "(10, 6)\n",
            "<class 'tuple'>\n"
          ]
        }
      ]
    },
    {
      "cell_type": "markdown",
      "source": [
        "A függvénynek pontosan annyi aktuális paramétert kell átadni híváskor, mint amennyi a definícióban a formális paraméterek száma."
      ],
      "metadata": {
        "id": "6iAkWpMKexkz"
      }
    },
    {
      "cell_type": "code",
      "source": [
        "ellipszis(3)"
      ],
      "metadata": {
        "colab": {
          "base_uri": "https://localhost:8080/",
          "height": 174
        },
        "id": "2NskBF9jeo-E",
        "outputId": "4fc1f495-eefd-4d23-ad5b-1c5f232d82b9"
      },
      "execution_count": null,
      "outputs": [
        {
          "output_type": "error",
          "ename": "TypeError",
          "evalue": "ignored",
          "traceback": [
            "\u001b[0;31m---------------------------------------------------------------------------\u001b[0m",
            "\u001b[0;31mTypeError\u001b[0m                                 Traceback (most recent call last)",
            "\u001b[0;32m<ipython-input-5-6d0e6053d93e>\u001b[0m in \u001b[0;36m<module>\u001b[0;34m()\u001b[0m\n\u001b[0;32m----> 1\u001b[0;31m \u001b[0mellipszis\u001b[0m\u001b[0;34m(\u001b[0m\u001b[0;36m3\u001b[0m\u001b[0;34m)\u001b[0m\u001b[0;34m\u001b[0m\u001b[0;34m\u001b[0m\u001b[0m\n\u001b[0m",
            "\u001b[0;31mTypeError\u001b[0m: ellipszis() missing 1 required positional argument: 'ro'"
          ]
        }
      ]
    },
    {
      "cell_type": "code",
      "source": [
        "ellipszis(1, 2, 3)"
      ],
      "metadata": {
        "colab": {
          "base_uri": "https://localhost:8080/",
          "height": 174
        },
        "id": "sCfmoX15ets5",
        "outputId": "e5ede562-e5ad-406e-9164-41e7b54ece70"
      },
      "execution_count": null,
      "outputs": [
        {
          "output_type": "error",
          "ename": "TypeError",
          "evalue": "ignored",
          "traceback": [
            "\u001b[0;31m---------------------------------------------------------------------------\u001b[0m",
            "\u001b[0;31mTypeError\u001b[0m                                 Traceback (most recent call last)",
            "\u001b[0;32m<ipython-input-6-bf161653b3cf>\u001b[0m in \u001b[0;36m<module>\u001b[0;34m()\u001b[0m\n\u001b[0;32m----> 1\u001b[0;31m \u001b[0mellipszis\u001b[0m\u001b[0;34m(\u001b[0m\u001b[0;36m1\u001b[0m\u001b[0;34m,\u001b[0m \u001b[0;36m2\u001b[0m\u001b[0;34m,\u001b[0m \u001b[0;36m3\u001b[0m\u001b[0;34m)\u001b[0m\u001b[0;34m\u001b[0m\u001b[0;34m\u001b[0m\u001b[0m\n\u001b[0m",
            "\u001b[0;31mTypeError\u001b[0m: ellipszis() takes 2 positional arguments but 3 were given"
          ]
        }
      ]
    },
    {
      "cell_type": "markdown",
      "source": [
        "Időnként viszont lehet értelme bizonyos alapértelmezett paraméter értékeknek, pl. ha általános ellipszis helyett speciálisan kört szeretnénk rajzolni, felesleges mindkét irányú sugarat megadni."
      ],
      "metadata": {
        "id": "c7TvvBJ8iD0R"
      }
    },
    {
      "cell_type": "code",
      "source": [
        "def ellipszis(rs, ro=None): # alapértelmezett érték a None, amit nem lehetne értelmesen használni; innen tudjuk, hogy a két sugár értéke legyen egyforma\n",
        "  ro = rs if ro is None else ro\n",
        "  s = -rs\n",
        "  while s <= rs:\n",
        "    o = -ro\n",
        "    while o <= ro:\n",
        "      if s**2/rs**2 + o**2/ro**2 <= 1:\n",
        "        print('*', end='')\n",
        "      else:\n",
        "        print(' ', end='')\n",
        "      o += 1\n",
        "    print()\n",
        "    s += 1\n",
        "\n",
        "ellipszis(3)\n",
        "ellipszis(3, 5)"
      ],
      "metadata": {
        "colab": {
          "base_uri": "https://localhost:8080/"
        },
        "id": "ZM0tzyw1fJnq",
        "outputId": "c6ee5c1f-6d35-4926-85a9-b5f89a953868"
      },
      "execution_count": null,
      "outputs": [
        {
          "output_type": "stream",
          "name": "stdout",
          "text": [
            "   *   \n",
            " ***** \n",
            " ***** \n",
            "*******\n",
            " ***** \n",
            " ***** \n",
            "   *   \n",
            "     *     \n",
            "  *******  \n",
            " ********* \n",
            "***********\n",
            " ********* \n",
            "  *******  \n",
            "     *     \n"
          ]
        }
      ]
    },
    {
      "cell_type": "markdown",
      "source": [
        "Időnként nem lehet előre sejteni, hány paraméterre lesz szükség (emlékezzünk a print függvényre). Készítsünk olyan függvényt, ami az összes paraméterének az összegét szolgáltatja! Ilyenkor a formális paraméter elé egy csillagot kell tenni, amitől az tuple típusban fogadja az összes aktuális paramétert (packing)."
      ],
      "metadata": {
        "id": "9yIHfjE2nBgo"
      }
    },
    {
      "cell_type": "code",
      "source": [
        "def osszead(*operandusok):\n",
        "  osszeg = 0\n",
        "  for operandus in operandusok:\n",
        "    osszeg += operandus\n",
        "  return osszeg\n",
        "\n",
        "print(osszead(1, 2, 3))\n",
        "print(osszead(1, 2, 3, 4, 5))"
      ],
      "metadata": {
        "colab": {
          "base_uri": "https://localhost:8080/"
        },
        "id": "HunpP6sBnRDj",
        "outputId": "33395209-d7d4-4b99-e7a5-e809ced58ec8"
      },
      "execution_count": null,
      "outputs": [
        {
          "output_type": "stream",
          "name": "stdout",
          "text": [
            "6\n",
            "15\n"
          ]
        }
      ]
    },
    {
      "cell_type": "markdown",
      "source": [
        "Persze megtehettük volna, hogy a függvény eleve egy listát/tuple-t fogad:"
      ],
      "metadata": {
        "id": "BHoNe7rKtGgz"
      }
    },
    {
      "cell_type": "code",
      "source": [
        "def osszeadLista(operandusok):\n",
        "  osszeg = 0\n",
        "  for operandus in operandusok:\n",
        "    osszeg += operandus\n",
        "  return osszeg\n",
        "\n",
        "print(osszeadLista((1, 2, 3)))        # tuple\n",
        "print(osszeadLista([1, 2, 3, 4, 5]))  # lista\n",
        "\n",
        "*szamok, = 1, 2, 3                    # packing\n",
        "print(osszeadLista(szamok))"
      ],
      "metadata": {
        "colab": {
          "base_uri": "https://localhost:8080/"
        },
        "id": "vAGXeNzttPja",
        "outputId": "bb6d779f-1c07-49af-dc99-7666b4c67f1c"
      },
      "execution_count": null,
      "outputs": [
        {
          "output_type": "stream",
          "name": "stdout",
          "text": [
            "6\n",
            "15\n",
            "6\n"
          ]
        }
      ]
    },
    {
      "cell_type": "markdown",
      "source": [
        "Az aktuális paraméterek megadási sorrendjének általában jelentősége van. Nem mindegy pl., hogy a sugarak hosszát milyen sorrendben adjuk meg ellipszis rajzolásakor."
      ],
      "metadata": {
        "id": "2Br-Wm8HoPRv"
      }
    },
    {
      "cell_type": "code",
      "source": [
        "ellipszis(5, 10)\n",
        "ellipszis(10, 5)"
      ],
      "metadata": {
        "colab": {
          "base_uri": "https://localhost:8080/"
        },
        "id": "9zwwSzmrodcE",
        "outputId": "66da5613-b3dc-4000-9c35-e0ed001c7df3"
      },
      "execution_count": null,
      "outputs": [
        {
          "output_type": "stream",
          "name": "stdout",
          "text": [
            "          *          \n",
            "    *************    \n",
            "  *****************  \n",
            " ******************* \n",
            " ******************* \n",
            "*********************\n",
            " ******************* \n",
            " ******************* \n",
            "  *****************  \n",
            "    *************    \n",
            "          *          \n",
            "     *     \n",
            "   *****   \n",
            "  *******  \n",
            "  *******  \n",
            " ********* \n",
            " ********* \n",
            " ********* \n",
            " ********* \n",
            " ********* \n",
            " ********* \n",
            "***********\n",
            " ********* \n",
            " ********* \n",
            " ********* \n",
            " ********* \n",
            " ********* \n",
            " ********* \n",
            "  *******  \n",
            "  *******  \n",
            "   *****   \n",
            "     *     \n"
          ]
        }
      ]
    },
    {
      "cell_type": "markdown",
      "source": [
        "Amikor egy függvény sok paramétert fogad, könnyű összekeverni a paraméterek sorrendjét, de szerencsére erre is van megoldása a Pythonnak: híváskor megadható, hogy melyik értéket melyik formális paraméterhez kívánjuk hozzárendelni (keyword arguments)."
      ],
      "metadata": {
        "id": "FXYvwJVbosbI"
      }
    },
    {
      "cell_type": "code",
      "source": [
        "ellipszis(rs=5, ro=10)\n",
        "ellipszis(ro=10, rs=5)"
      ],
      "metadata": {
        "colab": {
          "base_uri": "https://localhost:8080/"
        },
        "id": "HWBIIOO2pBqk",
        "outputId": "e6e10cf5-bd65-42dd-cce7-e364cab0fb2d"
      },
      "execution_count": null,
      "outputs": [
        {
          "output_type": "stream",
          "name": "stdout",
          "text": [
            "          *          \n",
            "    *************    \n",
            "  *****************  \n",
            " ******************* \n",
            " ******************* \n",
            "*********************\n",
            " ******************* \n",
            " ******************* \n",
            "  *****************  \n",
            "    *************    \n",
            "          *          \n",
            "          *          \n",
            "    *************    \n",
            "  *****************  \n",
            " ******************* \n",
            " ******************* \n",
            "*********************\n",
            " ******************* \n",
            " ******************* \n",
            "  *****************  \n",
            "    *************    \n",
            "          *          \n"
          ]
        }
      ]
    },
    {
      "cell_type": "markdown",
      "source": [
        "Paraméterek átadási módja: *hozzárendelés* szerint\n",
        "\n",
        "Feladat: írjunk olyan függvényt, ami felcseréli két változó értékét!"
      ],
      "metadata": {
        "id": "IZXqd4Bs2__o"
      }
    },
    {
      "cell_type": "code",
      "source": [
        "x = 2\n",
        "y = 5\n",
        "\n",
        "def csere(a, b):\n",
        "  a, b = b, a\n",
        "\n",
        "csere(x, y)\n",
        "print(f'x={x}, y={y}') # Hoppá!"
      ],
      "metadata": {
        "colab": {
          "base_uri": "https://localhost:8080/"
        },
        "id": "gizIrd3XqAFY",
        "outputId": "8d5bec18-9fa8-43b1-add6-9bf4251041b5"
      },
      "execution_count": null,
      "outputs": [
        {
          "output_type": "stream",
          "name": "stdout",
          "text": [
            "x=2, y=5\n"
          ]
        }
      ]
    },
    {
      "cell_type": "markdown",
      "source": [
        "Mi történik a háttérben?"
      ],
      "metadata": {
        "id": "an0suO3M3LyP"
      }
    },
    {
      "cell_type": "code",
      "source": [
        "x = 2\n",
        "y = 5\n",
        "\n",
        "def csere(a, b):\n",
        "  print(f'a címe: {id(a)}, b címe: {id(b)}')\n",
        "  a, b = b, a\n",
        "  print(f'a címe: {id(a)}, b címe: {id(b)}')\n",
        "\n",
        "print(f'x címe: {id(x)}, y címe: {id(y)}')\n",
        "csere(x, y)\n",
        "print(f'x címe: {id(x)}, y címe: {id(y)}')\n",
        "print(f'x={x}, y={y}')"
      ],
      "metadata": {
        "colab": {
          "base_uri": "https://localhost:8080/"
        },
        "id": "Ky02Mx7A3ODV",
        "outputId": "6e939c74-446a-48b9-eed7-bb19555863ee"
      },
      "execution_count": null,
      "outputs": [
        {
          "output_type": "stream",
          "name": "stdout",
          "text": [
            "x címe: 94529986804256, y címe: 94529986804352\n",
            "a címe: 94529986804256, b címe: 94529986804352\n",
            "a címe: 94529986804352, b címe: 94529986804256\n",
            "x címe: 94529986804256, y címe: 94529986804352\n",
            "x=2, y=5\n"
          ]
        }
      ]
    },
    {
      "cell_type": "markdown",
      "source": [
        "1)\n",
        "> x --> 2\n",
        "\n",
        "> y --> 5\n",
        "\n",
        "2) \n",
        "> x --> 2 <-- a\n",
        "\n",
        "> y --> 5 <-- b\n",
        "\n",
        "3)\n",
        "> x --> 2 <-- b\n",
        "\n",
        "> y --> 5 <-- a\n",
        "\n",
        "4)\n",
        "> x --> 2\n",
        "\n",
        "> y --> 5"
      ],
      "metadata": {
        "id": "-us7tbL0Cy8P"
      }
    },
    {
      "cell_type": "code",
      "source": [
        "x = 2\n",
        "\n",
        "def kob(a):\n",
        "  print(f'a címe: {id(a)}')\n",
        "  a = a**3\n",
        "  print(f'a címe: {id(a)}')\n",
        "\n",
        "print(f'x címe: {id(x)}')\n",
        "kob(x)\n",
        "print(f'x címe: {id(x)}')\n",
        "print(x)"
      ],
      "metadata": {
        "colab": {
          "base_uri": "https://localhost:8080/"
        },
        "id": "EsZG5AZR4F9n",
        "outputId": "992e4b87-ad8c-44a4-9388-7ab2e278c8eb"
      },
      "execution_count": null,
      "outputs": [
        {
          "output_type": "stream",
          "name": "stdout",
          "text": [
            "x címe: 94529986804256\n",
            "a címe: 94529986804256\n",
            "a címe: 94529986804448\n",
            "x címe: 94529986804256\n",
            "2\n"
          ]
        }
      ]
    },
    {
      "cell_type": "markdown",
      "source": [
        "1)\n",
        "> x --> 2\n",
        "\n",
        "2)\n",
        "> x --> 2 <-- a\n",
        "\n",
        "3)\n",
        "> x --> 2\n",
        "\n",
        "> a --> 8\n",
        "\n",
        "4)\n",
        "> x --> 2"
      ],
      "metadata": {
        "id": "VMaENeK0Dzb-"
      }
    },
    {
      "cell_type": "code",
      "source": [
        "x = 2\n",
        "\n",
        "def kob():\n",
        "  x = x**3 # nem éri el a függvényen kívül definiált, rá nézve globális változót\n",
        "\n",
        "kob()\n",
        "print(x)"
      ],
      "metadata": {
        "colab": {
          "base_uri": "https://localhost:8080/",
          "height": 358
        },
        "id": "K5wVTa607JGF",
        "outputId": "9b180063-fa1f-41b1-f06f-39d456ba64d9"
      },
      "execution_count": null,
      "outputs": [
        {
          "output_type": "error",
          "ename": "UnboundLocalError",
          "evalue": "ignored",
          "traceback": [
            "\u001b[0;31m---------------------------------------------------------------------------\u001b[0m",
            "\u001b[0;31mUnboundLocalError\u001b[0m                         Traceback (most recent call last)",
            "\u001b[0;32m<ipython-input-42-0f6f07e8a500>\u001b[0m in \u001b[0;36m<module>\u001b[0;34m()\u001b[0m\n\u001b[1;32m      4\u001b[0m   \u001b[0mx\u001b[0m \u001b[0;34m=\u001b[0m \u001b[0mx\u001b[0m\u001b[0;34m**\u001b[0m\u001b[0;36m3\u001b[0m\u001b[0;34m\u001b[0m\u001b[0;34m\u001b[0m\u001b[0m\n\u001b[1;32m      5\u001b[0m \u001b[0;34m\u001b[0m\u001b[0m\n\u001b[0;32m----> 6\u001b[0;31m \u001b[0mkob\u001b[0m\u001b[0;34m(\u001b[0m\u001b[0;34m)\u001b[0m\u001b[0;34m\u001b[0m\u001b[0;34m\u001b[0m\u001b[0m\n\u001b[0m\u001b[1;32m      7\u001b[0m \u001b[0mprint\u001b[0m\u001b[0;34m(\u001b[0m\u001b[0mx\u001b[0m\u001b[0;34m)\u001b[0m\u001b[0;34m\u001b[0m\u001b[0;34m\u001b[0m\u001b[0m\n",
            "\u001b[0;32m<ipython-input-42-0f6f07e8a500>\u001b[0m in \u001b[0;36mkob\u001b[0;34m()\u001b[0m\n\u001b[1;32m      2\u001b[0m \u001b[0;34m\u001b[0m\u001b[0m\n\u001b[1;32m      3\u001b[0m \u001b[0;32mdef\u001b[0m \u001b[0mkob\u001b[0m\u001b[0;34m(\u001b[0m\u001b[0;34m)\u001b[0m\u001b[0;34m:\u001b[0m\u001b[0;34m\u001b[0m\u001b[0;34m\u001b[0m\u001b[0m\n\u001b[0;32m----> 4\u001b[0;31m   \u001b[0mx\u001b[0m \u001b[0;34m=\u001b[0m \u001b[0mx\u001b[0m\u001b[0;34m**\u001b[0m\u001b[0;36m3\u001b[0m\u001b[0;34m\u001b[0m\u001b[0;34m\u001b[0m\u001b[0m\n\u001b[0m\u001b[1;32m      5\u001b[0m \u001b[0;34m\u001b[0m\u001b[0m\n\u001b[1;32m      6\u001b[0m \u001b[0mkob\u001b[0m\u001b[0;34m(\u001b[0m\u001b[0;34m)\u001b[0m\u001b[0;34m\u001b[0m\u001b[0;34m\u001b[0m\u001b[0m\n",
            "\u001b[0;31mUnboundLocalError\u001b[0m: local variable 'x' referenced before assignment"
          ]
        }
      ]
    },
    {
      "cell_type": "markdown",
      "source": [
        "Melyek a függvényre nézve globális és lokális változók?"
      ],
      "metadata": {
        "id": "FtjQLd-KEwxm"
      }
    },
    {
      "cell_type": "code",
      "source": [
        "x = 2\n",
        "\n",
        "def kob(a):\n",
        "  a = a**3\n",
        "  print(f'Lokális változók: {locals()}')\n",
        "\n",
        "print(f'Globális változók: {globals()}')\n",
        "kob(x)\n",
        "print(x)"
      ],
      "metadata": {
        "colab": {
          "base_uri": "https://localhost:8080/"
        },
        "id": "0SjI_uuUEVrC",
        "outputId": "c5e6c4da-09eb-4a73-af48-31d19a83963f"
      },
      "execution_count": null,
      "outputs": [
        {
          "output_type": "stream",
          "name": "stdout",
          "text": [
            "Globális változók: {'__name__': '__main__', '__doc__': 'Automatically created module for IPython interactive environment', '__package__': None, '__loader__': None, '__spec__': None, '__builtin__': <module 'builtins' (built-in)>, '__builtins__': <module 'builtins' (built-in)>, '_ih': ['', \"RS = 8\\nRO = 15\\ns = -RS\\nwhile s <= RS:\\n  o = -RO\\n  while o <= RO:\\n    if s**2/RS**2 + o**2/RO**2 <= 1:\\n      print('*', end='')\\n    else:\\n      print(' ', end='')\\n    o += 1\\n  print()\\n  s += 1\", \"RS = 8\\nRO = 15\\ns = -RS\\nwhile s <= RS:\\n  o = -RO\\n  while o <= RO:\\n    if s**2/RS**2 + o**2/RO**2 <= 1:\\n      print('*', end='')\\n    else:\\n      print(' ', end='')\\n    o += 1\\n  print()\\n  s += 1\\n\\nRS = 4\\nRO = 7\\ns = -RS\\nwhile s <= RS:\\n  o = -RO\\n  while o <= RO:\\n    if s**2/RS**2 + o**2/RO**2 <= 1:\\n      print('*', end='')\\n    else:\\n      print(' ', end='')\\n    o += 1\\n  print()\\n  s += 1\", \"RS = 8\\nRO = 15\\ns = -RS\\nwhile s <= RS:\\n  o = -RO\\n  while o <= RO:\\n    if s**2/RS**2 + o**2/RO**2 <= 1:\\n      print('*', end='')\\n    else:\\n      print(' ', end='')\\n    o += 1\\n  print()\\n  s += 1\\n\\nRS = 4\\nRO = 8\\ns = -RS\\nwhile s <= RS:\\n  o = -RO\\n  while o <= RO:\\n    if s**2/RS**2 + o**2/RO**2 <= 1:\\n      print('*', end='')\\n    else:\\n      print(' ', end='')\\n    o += 1\\n  print()\\n  s += 1\", \"def ellipszis(rs, ro): # függvény definíciója\\n  s = -rs\\n  while s <= rs:\\n    o = -ro\\n    while o <= ro:\\n      if s**2/rs**2 + o**2/ro**2 <= 1:\\n        print('*', end='')\\n      else:\\n        print(' ', end='')\\n      o += 1\\n    print()\\n    s += 1\\n\\nellipszis(8, 15)\\nellipszis(4, 8)\", 'ellipszis(3)', 'ellipszis(1, 2, 3)', \"def ellipszis(rs, ro): # függvény definíciója\\n  s = -rs\\n  while s <= rs:\\n    o = -ro\\n    while o <= ro:\\n      if s**2/rs**2 + o**2/ro**2 <= 1:\\n        print('*', end='')\\n      else:\\n        print(' ', end='')\\n      o += 1\\n    print()\\n    s += 1\", \"def ellipszis(rs, ro=5):\\n  s = -rs\\n  while s <= rs:\\n    o = -ro\\n    while o <= ro:\\n      if s**2/rs**2 + o**2/ro**2 <= 1:\\n        print('*', end='')\\n      else:\\n        print(' ', end='')\\n      o += 1\\n    print()\\n    s += 1\\n\\nellipszis(3)\", \"def ellipszis(rs, ro=rs):\\n  s = -rs\\n  while s <= rs:\\n    o = -ro\\n    while o <= ro:\\n      if s**2/rs**2 + o**2/ro**2 <= 1:\\n        print('*', end='')\\n      else:\\n        print(' ', end='')\\n      o += 1\\n    print()\\n    s += 1\\n\\nellipszis(3)\", \"def ellipszis(rs, ro=None):\\n  ro = ro if type(ro)!='NoneType' else rs\\n  s = -rs\\n  while s <= rs:\\n    o = -ro\\n    while o <= ro:\\n      if s**2/rs**2 + o**2/ro**2 <= 1:\\n        print('*', end='')\\n      else:\\n        print(' ', end='')\\n      o += 1\\n    print()\\n    s += 1\\n\\nellipszis(3)\", \"def ellipszis(rs, ro=None):\\n  ro = rs if isinstance(ro, None) else ro\\n  s = -rs\\n  while s <= rs:\\n    o = -ro\\n    while o <= ro:\\n      if s**2/rs**2 + o**2/ro**2 <= 1:\\n        print('*', end='')\\n      else:\\n        print(' ', end='')\\n      o += 1\\n    print()\\n    s += 1\\n\\nellipszis(3)\", \"def ellipszis(rs, ro=None):\\n  ro = rs if isinstance(ro, NoneType) else ro\\n  s = -rs\\n  while s <= rs:\\n    o = -ro\\n    while o <= ro:\\n      if s**2/rs**2 + o**2/ro**2 <= 1:\\n        print('*', end='')\\n      else:\\n        print(' ', end='')\\n      o += 1\\n    print()\\n    s += 1\\n\\nellipszis(3)\", \"def ellipszis(rs, ro=None):\\n  ro = rs if ro is None else ro\\n  s = -rs\\n  while s <= rs:\\n    o = -ro\\n    while o <= ro:\\n      if s**2/rs**2 + o**2/ro**2 <= 1:\\n        print('*', end='')\\n      else:\\n        print(' ', end='')\\n      o += 1\\n    print()\\n    s += 1\\n\\nellipszis(3)\", \"def ellipszis(rs, ro=None): # alapértelmezett érték a None, amit nem lehetne értelmesen használni; innen tudjuk, hogy a két sugár értéke legyen egyforma\\n  ro = rs if ro is None else ro\\n  s = -rs\\n  while s <= rs:\\n    o = -ro\\n    while o <= ro:\\n      if s**2/rs**2 + o**2/ro**2 <= 1:\\n        print('*', end='')\\n      else:\\n        print(' ', end='')\\n      o += 1\\n    print()\\n    s += 1\\n\\nellipszis(3)\\nellipszis(3, 5)\", 'def teglalapKeruler(a, b):\\n  return 2 * (a + b)\\n\\nprint(teglalapKeruler(2, 3))\\nprint(teglalapKeruler(2.5, 4))', 'def teglalapKerulet(a, b):\\n  return 2 * (a + b)\\n\\nprint(teglalapKerulet(2, 3))\\nprint(teglalapKerulet(2.5, 4))', \"def isNeptun(kod):\\n  if len(kod) != 6:\\n    return False\\n  for betu in kod:\\n    if not (betu.isdigit() or betu.isalpha()):\\n      return False\\n  return True\\n\\nprint(isNeptun('Abc123'))\", \"def isNeptun(kod):\\n  if len(kod) != 6:\\n    return False\\n  for betu in kod:\\n    if not (betu.isdigit() or betu.isalpha()):\\n      return False\\n  return True\\n\\nprint(isNeptun('Abc123'))\\nprint('1a')\\nprint('1a2b3c4d')\", \"def isNeptun(kod):\\n  if len(kod) != 6:\\n    return False\\n  for betu in kod:\\n    if not (betu.isdigit() or betu.isalpha()):\\n      return False\\n  return True\\n\\nprint(isNeptun('Abc123'))\\nprint(isNeptun('1a'))\\nprint(isNeptun('1a2b3c4d'))\", \"def isNeptun(kod):\\n  if len(kod) != 6:\\n    return False\\n  for betu in kod:\\n    if not (betu.isdigit() or betu.isalpha()):\\n      return False\\n  return True\\n\\nprint(isNeptun('Abc123'))\\nprint(isNeptun('1a'))\\nprint(isNeptun('1a2b3c4d'))\\nprint(isNeptun('1a+!3c'))\", 'def osszead(*operandusok):\\n  osszeg = 0\\n  for operandus in operandusok:\\n    osszeg += operandus\\n  return osszeg\\n\\nprint(osszead(1, 2, 3))\\nprint(osszead(1, 2, 3, 4, 5))', 'ellipszis(5, 10)\\nellipszis(10, 5)', 'ellipszis(rs=5, ro=10)', 'ellipszis(rs=5, ro=10)\\nellipszis(ro=10, rs=5)', \"def tanulmanyok(**targyak):\\n  oraszam = 0\\n  for kod, targy in targyak:\\n    if 'eloadas' in targy:\\n      oraszam += targy['eloadas']\\n    if 'gyakorlat' in targy:\\n      oraszam += targy['gyakorlat']\\n  return oraszam\\n\\nprint(tanulmanyok(\\n    GKNB_INTM012 = {\\n        'nev' : 'Számítógépek működése',\\n        'eloadas' : 3,\\n        'gyakorlat' : 2,\\n        'felev' : 1\\n    },\\n    GKNB_INTM021 = {\\n        'nev' : 'Programozás',\\n        'eloadas' : 2,\\n        'gyakorlat' : 2,\\n        'felev' : 2\\n    }\\n))\", \"def tanulmanyok(**targyak):\\n  oraszam = 0\\n  for targy in targyak:\\n    if 'eloadas' in targy:\\n      oraszam += targy['eloadas']\\n    if 'gyakorlat' in targy:\\n      oraszam += targy['gyakorlat']\\n  return oraszam\\n\\nprint(tanulmanyok(\\n    GKNB_INTM012 = {\\n        'nev' : 'Számítógépek működése',\\n        'eloadas' : 3,\\n        'gyakorlat' : 2,\\n        'felev' : 1\\n    },\\n    GKNB_INTM021 = {\\n        'nev' : 'Programozás',\\n        'eloadas' : 2,\\n        'gyakorlat' : 2,\\n        'felev' : 2\\n    }\\n))\", 'def osszeadLista(operandusok):\\n  osszeg = 0\\n  for operandus in operandusok:\\n    osszeg += operandus\\n  return osszeg\\n\\nprint(osszeadLista((1, 2, 3)))        # tuple\\nprint(osszeadLista([1, 2, 3, 4, 5]))  # lista', 'def osszeadLista(operandusok):\\n  osszeg = 0\\n  for operandus in operandusok:\\n    osszeg += operandus\\n  return osszeg\\n\\nprint(osszeadLista((1, 2, 3)))        # tuple\\nprint(osszeadLista([1, 2, 3, 4, 5]))  # lista\\n\\n*szamok, = 1, 2, 3\\n\\nprint(osszeadLista(szamok))', \"a = 2\\nb = 5\\n\\ndef csere(a, b):\\n  a, b = b, a\\n\\nprint(f'a={a}, b={b}')\", \"a = 2\\nb = 5\\n\\ndef csere(a, b):\\n  a, b = b, a\\n\\ncsere(a, b)\\nprint(f'a={a}, b={b}') # Hoppá!\", \"x = 2\\ny = 5\\n\\ndef csere(a, b):\\n  a, b = b, a\\n\\ncsere(x, y)\\nprint(f'x={x}, y={y}') # Hoppá!\", \"x = 2\\ny = 5\\n\\ndef csere(a, b):\\n  print(f'a címe: {id(a)}, b címe: {id(b)}')\\n  a, b = b, a\\n  print(f'a címe: {id(a)}, b címe: {id(b)}')\\n\\nprint(f'x címe: {id(x)}, y címe: {id(y)}')\\ncsere(x, y)\\nprint(f'x címe: {id(x)}, y címe: {id(y)}')\\nprint(f'x={x}, y={y}')\", 'x = 2\\n\\ndef kob(a):\\n  x = x**3\\n\\nkob(x)\\nprint(x)', 'x = 2\\n\\ndef kob(a):\\n  a = a**3\\n\\nkob(x)\\nprint(x)', \"x = 2\\n\\ndef kob(a):\\n  print(f'a címe: {id(a)}')\\n  a = a**3\\n  print(f'a címe: {id(a)}')\\n\\nprint(f'x címe: {id(x)}')\\nkob(x)\\nprint(f'x címe: {id(x)}')\\nprint(x)\", 'def teglalap(a, b):\\n  kerulet = 2 * (a + b)\\n  terulet = a * b\\n  return kerulet, terulet\\n\\nk, t = teglalap(2, 3)', \"def teglalap(a, b):\\n  kerulet = 2 * (a + b)\\n  terulet = a * b\\n  return kerulet, terulet\\n\\nk, t = teglalap(2, 3)\\nprint(f'A téglalap kerülete {k}, területe {t}.')\", 'eredmeny = teglalap(2, 3)\\nprint(eredmeny)', \"x = 2\\ny = 5\\n\\ndef csere(a, b):\\n  a, b = b, a\\n  return a, b\\n\\nx, y = csere(x, y)\\nprint(f'x={x}, y={y}')\", 'x = 2\\n\\ndef kob(a):\\n  return a**3\\n  \\nx = kob(x)\\nprint(x)', 'x = 2\\n\\ndef kob():\\n  x = x**3\\n\\nkob(x)\\nprint(x)', 'x = 2\\n\\ndef kob():\\n  x = x**3\\n\\nkob()\\nprint(x)', 'x = 2\\n\\ndef kob():\\n  global x\\n  x = x**3\\n\\nkob()\\nprint(x)', '*szamok, = 2, 5\\n\\ndef csere(t):\\n  t[0], t[1] = t[1], t[0]\\n\\nprint(szamok)\\ncsere(szamok)\\nprint(szamok)', 'szamok = (2, 5)\\n\\ndef csere(t):\\n  t[0], t[1] = t[1], t[0]\\n\\nprint(szamok)\\ncsere(szamok)\\nprint(szamok)', 'szamok = [2, 5]\\n\\ndef csere(t):\\n  t[0], t[1] = t[1], t[0]\\n\\nprint(szamok)\\ncsere(szamok)\\nprint(szamok)', 'd = {x : 2}\\n\\ndef kob(a):\\n  return a[x]**3\\n  \\nkob(d)\\nprint(d)', \"d = {x : 2}\\n\\ndef kob(a):\\n  return a['x']**3\\n  \\nkob(d)\\nprint(d)\", \"d = {'x' : 2}\\n\\ndef kob(a):\\n  return a['x']**3\\n  \\nkob(d)\\nprint(d)\", \"x = 2\\n\\ndef kob(a):\\n  a = a**3\\n  print(f'Lokális változók: {locals()}')\\n\\nprint(f'Globális változók: {globals()}')\\nkob(x)\\nprint(x)\"], '_oh': {}, '_dh': ['/content'], '_sh': <module 'IPython.core.shadowns' from '/usr/local/lib/python3.7/dist-packages/IPython/core/shadowns.py'>, 'In': ['', \"RS = 8\\nRO = 15\\ns = -RS\\nwhile s <= RS:\\n  o = -RO\\n  while o <= RO:\\n    if s**2/RS**2 + o**2/RO**2 <= 1:\\n      print('*', end='')\\n    else:\\n      print(' ', end='')\\n    o += 1\\n  print()\\n  s += 1\", \"RS = 8\\nRO = 15\\ns = -RS\\nwhile s <= RS:\\n  o = -RO\\n  while o <= RO:\\n    if s**2/RS**2 + o**2/RO**2 <= 1:\\n      print('*', end='')\\n    else:\\n      print(' ', end='')\\n    o += 1\\n  print()\\n  s += 1\\n\\nRS = 4\\nRO = 7\\ns = -RS\\nwhile s <= RS:\\n  o = -RO\\n  while o <= RO:\\n    if s**2/RS**2 + o**2/RO**2 <= 1:\\n      print('*', end='')\\n    else:\\n      print(' ', end='')\\n    o += 1\\n  print()\\n  s += 1\", \"RS = 8\\nRO = 15\\ns = -RS\\nwhile s <= RS:\\n  o = -RO\\n  while o <= RO:\\n    if s**2/RS**2 + o**2/RO**2 <= 1:\\n      print('*', end='')\\n    else:\\n      print(' ', end='')\\n    o += 1\\n  print()\\n  s += 1\\n\\nRS = 4\\nRO = 8\\ns = -RS\\nwhile s <= RS:\\n  o = -RO\\n  while o <= RO:\\n    if s**2/RS**2 + o**2/RO**2 <= 1:\\n      print('*', end='')\\n    else:\\n      print(' ', end='')\\n    o += 1\\n  print()\\n  s += 1\", \"def ellipszis(rs, ro): # függvény definíciója\\n  s = -rs\\n  while s <= rs:\\n    o = -ro\\n    while o <= ro:\\n      if s**2/rs**2 + o**2/ro**2 <= 1:\\n        print('*', end='')\\n      else:\\n        print(' ', end='')\\n      o += 1\\n    print()\\n    s += 1\\n\\nellipszis(8, 15)\\nellipszis(4, 8)\", 'ellipszis(3)', 'ellipszis(1, 2, 3)', \"def ellipszis(rs, ro): # függvény definíciója\\n  s = -rs\\n  while s <= rs:\\n    o = -ro\\n    while o <= ro:\\n      if s**2/rs**2 + o**2/ro**2 <= 1:\\n        print('*', end='')\\n      else:\\n        print(' ', end='')\\n      o += 1\\n    print()\\n    s += 1\", \"def ellipszis(rs, ro=5):\\n  s = -rs\\n  while s <= rs:\\n    o = -ro\\n    while o <= ro:\\n      if s**2/rs**2 + o**2/ro**2 <= 1:\\n        print('*', end='')\\n      else:\\n        print(' ', end='')\\n      o += 1\\n    print()\\n    s += 1\\n\\nellipszis(3)\", \"def ellipszis(rs, ro=rs):\\n  s = -rs\\n  while s <= rs:\\n    o = -ro\\n    while o <= ro:\\n      if s**2/rs**2 + o**2/ro**2 <= 1:\\n        print('*', end='')\\n      else:\\n        print(' ', end='')\\n      o += 1\\n    print()\\n    s += 1\\n\\nellipszis(3)\", \"def ellipszis(rs, ro=None):\\n  ro = ro if type(ro)!='NoneType' else rs\\n  s = -rs\\n  while s <= rs:\\n    o = -ro\\n    while o <= ro:\\n      if s**2/rs**2 + o**2/ro**2 <= 1:\\n        print('*', end='')\\n      else:\\n        print(' ', end='')\\n      o += 1\\n    print()\\n    s += 1\\n\\nellipszis(3)\", \"def ellipszis(rs, ro=None):\\n  ro = rs if isinstance(ro, None) else ro\\n  s = -rs\\n  while s <= rs:\\n    o = -ro\\n    while o <= ro:\\n      if s**2/rs**2 + o**2/ro**2 <= 1:\\n        print('*', end='')\\n      else:\\n        print(' ', end='')\\n      o += 1\\n    print()\\n    s += 1\\n\\nellipszis(3)\", \"def ellipszis(rs, ro=None):\\n  ro = rs if isinstance(ro, NoneType) else ro\\n  s = -rs\\n  while s <= rs:\\n    o = -ro\\n    while o <= ro:\\n      if s**2/rs**2 + o**2/ro**2 <= 1:\\n        print('*', end='')\\n      else:\\n        print(' ', end='')\\n      o += 1\\n    print()\\n    s += 1\\n\\nellipszis(3)\", \"def ellipszis(rs, ro=None):\\n  ro = rs if ro is None else ro\\n  s = -rs\\n  while s <= rs:\\n    o = -ro\\n    while o <= ro:\\n      if s**2/rs**2 + o**2/ro**2 <= 1:\\n        print('*', end='')\\n      else:\\n        print(' ', end='')\\n      o += 1\\n    print()\\n    s += 1\\n\\nellipszis(3)\", \"def ellipszis(rs, ro=None): # alapértelmezett érték a None, amit nem lehetne értelmesen használni; innen tudjuk, hogy a két sugár értéke legyen egyforma\\n  ro = rs if ro is None else ro\\n  s = -rs\\n  while s <= rs:\\n    o = -ro\\n    while o <= ro:\\n      if s**2/rs**2 + o**2/ro**2 <= 1:\\n        print('*', end='')\\n      else:\\n        print(' ', end='')\\n      o += 1\\n    print()\\n    s += 1\\n\\nellipszis(3)\\nellipszis(3, 5)\", 'def teglalapKeruler(a, b):\\n  return 2 * (a + b)\\n\\nprint(teglalapKeruler(2, 3))\\nprint(teglalapKeruler(2.5, 4))', 'def teglalapKerulet(a, b):\\n  return 2 * (a + b)\\n\\nprint(teglalapKerulet(2, 3))\\nprint(teglalapKerulet(2.5, 4))', \"def isNeptun(kod):\\n  if len(kod) != 6:\\n    return False\\n  for betu in kod:\\n    if not (betu.isdigit() or betu.isalpha()):\\n      return False\\n  return True\\n\\nprint(isNeptun('Abc123'))\", \"def isNeptun(kod):\\n  if len(kod) != 6:\\n    return False\\n  for betu in kod:\\n    if not (betu.isdigit() or betu.isalpha()):\\n      return False\\n  return True\\n\\nprint(isNeptun('Abc123'))\\nprint('1a')\\nprint('1a2b3c4d')\", \"def isNeptun(kod):\\n  if len(kod) != 6:\\n    return False\\n  for betu in kod:\\n    if not (betu.isdigit() or betu.isalpha()):\\n      return False\\n  return True\\n\\nprint(isNeptun('Abc123'))\\nprint(isNeptun('1a'))\\nprint(isNeptun('1a2b3c4d'))\", \"def isNeptun(kod):\\n  if len(kod) != 6:\\n    return False\\n  for betu in kod:\\n    if not (betu.isdigit() or betu.isalpha()):\\n      return False\\n  return True\\n\\nprint(isNeptun('Abc123'))\\nprint(isNeptun('1a'))\\nprint(isNeptun('1a2b3c4d'))\\nprint(isNeptun('1a+!3c'))\", 'def osszead(*operandusok):\\n  osszeg = 0\\n  for operandus in operandusok:\\n    osszeg += operandus\\n  return osszeg\\n\\nprint(osszead(1, 2, 3))\\nprint(osszead(1, 2, 3, 4, 5))', 'ellipszis(5, 10)\\nellipszis(10, 5)', 'ellipszis(rs=5, ro=10)', 'ellipszis(rs=5, ro=10)\\nellipszis(ro=10, rs=5)', \"def tanulmanyok(**targyak):\\n  oraszam = 0\\n  for kod, targy in targyak:\\n    if 'eloadas' in targy:\\n      oraszam += targy['eloadas']\\n    if 'gyakorlat' in targy:\\n      oraszam += targy['gyakorlat']\\n  return oraszam\\n\\nprint(tanulmanyok(\\n    GKNB_INTM012 = {\\n        'nev' : 'Számítógépek működése',\\n        'eloadas' : 3,\\n        'gyakorlat' : 2,\\n        'felev' : 1\\n    },\\n    GKNB_INTM021 = {\\n        'nev' : 'Programozás',\\n        'eloadas' : 2,\\n        'gyakorlat' : 2,\\n        'felev' : 2\\n    }\\n))\", \"def tanulmanyok(**targyak):\\n  oraszam = 0\\n  for targy in targyak:\\n    if 'eloadas' in targy:\\n      oraszam += targy['eloadas']\\n    if 'gyakorlat' in targy:\\n      oraszam += targy['gyakorlat']\\n  return oraszam\\n\\nprint(tanulmanyok(\\n    GKNB_INTM012 = {\\n        'nev' : 'Számítógépek működése',\\n        'eloadas' : 3,\\n        'gyakorlat' : 2,\\n        'felev' : 1\\n    },\\n    GKNB_INTM021 = {\\n        'nev' : 'Programozás',\\n        'eloadas' : 2,\\n        'gyakorlat' : 2,\\n        'felev' : 2\\n    }\\n))\", 'def osszeadLista(operandusok):\\n  osszeg = 0\\n  for operandus in operandusok:\\n    osszeg += operandus\\n  return osszeg\\n\\nprint(osszeadLista((1, 2, 3)))        # tuple\\nprint(osszeadLista([1, 2, 3, 4, 5]))  # lista', 'def osszeadLista(operandusok):\\n  osszeg = 0\\n  for operandus in operandusok:\\n    osszeg += operandus\\n  return osszeg\\n\\nprint(osszeadLista((1, 2, 3)))        # tuple\\nprint(osszeadLista([1, 2, 3, 4, 5]))  # lista\\n\\n*szamok, = 1, 2, 3\\n\\nprint(osszeadLista(szamok))', \"a = 2\\nb = 5\\n\\ndef csere(a, b):\\n  a, b = b, a\\n\\nprint(f'a={a}, b={b}')\", \"a = 2\\nb = 5\\n\\ndef csere(a, b):\\n  a, b = b, a\\n\\ncsere(a, b)\\nprint(f'a={a}, b={b}') # Hoppá!\", \"x = 2\\ny = 5\\n\\ndef csere(a, b):\\n  a, b = b, a\\n\\ncsere(x, y)\\nprint(f'x={x}, y={y}') # Hoppá!\", \"x = 2\\ny = 5\\n\\ndef csere(a, b):\\n  print(f'a címe: {id(a)}, b címe: {id(b)}')\\n  a, b = b, a\\n  print(f'a címe: {id(a)}, b címe: {id(b)}')\\n\\nprint(f'x címe: {id(x)}, y címe: {id(y)}')\\ncsere(x, y)\\nprint(f'x címe: {id(x)}, y címe: {id(y)}')\\nprint(f'x={x}, y={y}')\", 'x = 2\\n\\ndef kob(a):\\n  x = x**3\\n\\nkob(x)\\nprint(x)', 'x = 2\\n\\ndef kob(a):\\n  a = a**3\\n\\nkob(x)\\nprint(x)', \"x = 2\\n\\ndef kob(a):\\n  print(f'a címe: {id(a)}')\\n  a = a**3\\n  print(f'a címe: {id(a)}')\\n\\nprint(f'x címe: {id(x)}')\\nkob(x)\\nprint(f'x címe: {id(x)}')\\nprint(x)\", 'def teglalap(a, b):\\n  kerulet = 2 * (a + b)\\n  terulet = a * b\\n  return kerulet, terulet\\n\\nk, t = teglalap(2, 3)', \"def teglalap(a, b):\\n  kerulet = 2 * (a + b)\\n  terulet = a * b\\n  return kerulet, terulet\\n\\nk, t = teglalap(2, 3)\\nprint(f'A téglalap kerülete {k}, területe {t}.')\", 'eredmeny = teglalap(2, 3)\\nprint(eredmeny)', \"x = 2\\ny = 5\\n\\ndef csere(a, b):\\n  a, b = b, a\\n  return a, b\\n\\nx, y = csere(x, y)\\nprint(f'x={x}, y={y}')\", 'x = 2\\n\\ndef kob(a):\\n  return a**3\\n  \\nx = kob(x)\\nprint(x)', 'x = 2\\n\\ndef kob():\\n  x = x**3\\n\\nkob(x)\\nprint(x)', 'x = 2\\n\\ndef kob():\\n  x = x**3\\n\\nkob()\\nprint(x)', 'x = 2\\n\\ndef kob():\\n  global x\\n  x = x**3\\n\\nkob()\\nprint(x)', '*szamok, = 2, 5\\n\\ndef csere(t):\\n  t[0], t[1] = t[1], t[0]\\n\\nprint(szamok)\\ncsere(szamok)\\nprint(szamok)', 'szamok = (2, 5)\\n\\ndef csere(t):\\n  t[0], t[1] = t[1], t[0]\\n\\nprint(szamok)\\ncsere(szamok)\\nprint(szamok)', 'szamok = [2, 5]\\n\\ndef csere(t):\\n  t[0], t[1] = t[1], t[0]\\n\\nprint(szamok)\\ncsere(szamok)\\nprint(szamok)', 'd = {x : 2}\\n\\ndef kob(a):\\n  return a[x]**3\\n  \\nkob(d)\\nprint(d)', \"d = {x : 2}\\n\\ndef kob(a):\\n  return a['x']**3\\n  \\nkob(d)\\nprint(d)\", \"d = {'x' : 2}\\n\\ndef kob(a):\\n  return a['x']**3\\n  \\nkob(d)\\nprint(d)\", \"x = 2\\n\\ndef kob(a):\\n  a = a**3\\n  print(f'Lokális változók: {locals()}')\\n\\nprint(f'Globális változók: {globals()}')\\nkob(x)\\nprint(x)\"], 'Out': {}, 'get_ipython': <bound method InteractiveShell.get_ipython of <google.colab._shell.Shell object at 0x7f0605794fd0>>, 'exit': <IPython.core.autocall.ZMQExitAutocall object at 0x7f0602524390>, 'quit': <IPython.core.autocall.ZMQExitAutocall object at 0x7f0602524390>, '_': '', '__': '', '___': '', '_i': \"d = {'x' : 2}\\n\\ndef kob(a):\\n  return a['x']**3\\n  \\nkob(d)\\nprint(d)\", '_ii': \"d = {x : 2}\\n\\ndef kob(a):\\n  return a['x']**3\\n  \\nkob(d)\\nprint(d)\", '_iii': 'd = {x : 2}\\n\\ndef kob(a):\\n  return a[x]**3\\n  \\nkob(d)\\nprint(d)', '_i1': \"RS = 8\\nRO = 15\\ns = -RS\\nwhile s <= RS:\\n  o = -RO\\n  while o <= RO:\\n    if s**2/RS**2 + o**2/RO**2 <= 1:\\n      print('*', end='')\\n    else:\\n      print(' ', end='')\\n    o += 1\\n  print()\\n  s += 1\", 'RS': 4, 'RO': 8, 's': 5, 'o': 9, '_i2': \"RS = 8\\nRO = 15\\ns = -RS\\nwhile s <= RS:\\n  o = -RO\\n  while o <= RO:\\n    if s**2/RS**2 + o**2/RO**2 <= 1:\\n      print('*', end='')\\n    else:\\n      print(' ', end='')\\n    o += 1\\n  print()\\n  s += 1\\n\\nRS = 4\\nRO = 7\\ns = -RS\\nwhile s <= RS:\\n  o = -RO\\n  while o <= RO:\\n    if s**2/RS**2 + o**2/RO**2 <= 1:\\n      print('*', end='')\\n    else:\\n      print(' ', end='')\\n    o += 1\\n  print()\\n  s += 1\", '_i3': \"RS = 8\\nRO = 15\\ns = -RS\\nwhile s <= RS:\\n  o = -RO\\n  while o <= RO:\\n    if s**2/RS**2 + o**2/RO**2 <= 1:\\n      print('*', end='')\\n    else:\\n      print(' ', end='')\\n    o += 1\\n  print()\\n  s += 1\\n\\nRS = 4\\nRO = 8\\ns = -RS\\nwhile s <= RS:\\n  o = -RO\\n  while o <= RO:\\n    if s**2/RS**2 + o**2/RO**2 <= 1:\\n      print('*', end='')\\n    else:\\n      print(' ', end='')\\n    o += 1\\n  print()\\n  s += 1\", '_i4': \"def ellipszis(rs, ro): # függvény definíciója\\n  s = -rs\\n  while s <= rs:\\n    o = -ro\\n    while o <= ro:\\n      if s**2/rs**2 + o**2/ro**2 <= 1:\\n        print('*', end='')\\n      else:\\n        print(' ', end='')\\n      o += 1\\n    print()\\n    s += 1\\n\\nellipszis(8, 15)\\nellipszis(4, 8)\", 'ellipszis': <function ellipszis at 0x7f05f3e3f290>, '_i5': 'ellipszis(3)', '_i6': 'ellipszis(1, 2, 3)', '_i7': \"def ellipszis(rs, ro): # függvény definíciója\\n  s = -rs\\n  while s <= rs:\\n    o = -ro\\n    while o <= ro:\\n      if s**2/rs**2 + o**2/ro**2 <= 1:\\n        print('*', end='')\\n      else:\\n        print(' ', end='')\\n      o += 1\\n    print()\\n    s += 1\", '_i8': \"def ellipszis(rs, ro=5):\\n  s = -rs\\n  while s <= rs:\\n    o = -ro\\n    while o <= ro:\\n      if s**2/rs**2 + o**2/ro**2 <= 1:\\n        print('*', end='')\\n      else:\\n        print(' ', end='')\\n      o += 1\\n    print()\\n    s += 1\\n\\nellipszis(3)\", '_i9': \"def ellipszis(rs, ro=rs):\\n  s = -rs\\n  while s <= rs:\\n    o = -ro\\n    while o <= ro:\\n      if s**2/rs**2 + o**2/ro**2 <= 1:\\n        print('*', end='')\\n      else:\\n        print(' ', end='')\\n      o += 1\\n    print()\\n    s += 1\\n\\nellipszis(3)\", '_i10': \"def ellipszis(rs, ro=None):\\n  ro = ro if type(ro)!='NoneType' else rs\\n  s = -rs\\n  while s <= rs:\\n    o = -ro\\n    while o <= ro:\\n      if s**2/rs**2 + o**2/ro**2 <= 1:\\n        print('*', end='')\\n      else:\\n        print(' ', end='')\\n      o += 1\\n    print()\\n    s += 1\\n\\nellipszis(3)\", '_i11': \"def ellipszis(rs, ro=None):\\n  ro = rs if isinstance(ro, None) else ro\\n  s = -rs\\n  while s <= rs:\\n    o = -ro\\n    while o <= ro:\\n      if s**2/rs**2 + o**2/ro**2 <= 1:\\n        print('*', end='')\\n      else:\\n        print(' ', end='')\\n      o += 1\\n    print()\\n    s += 1\\n\\nellipszis(3)\", '_i12': \"def ellipszis(rs, ro=None):\\n  ro = rs if isinstance(ro, NoneType) else ro\\n  s = -rs\\n  while s <= rs:\\n    o = -ro\\n    while o <= ro:\\n      if s**2/rs**2 + o**2/ro**2 <= 1:\\n        print('*', end='')\\n      else:\\n        print(' ', end='')\\n      o += 1\\n    print()\\n    s += 1\\n\\nellipszis(3)\", '_i13': \"def ellipszis(rs, ro=None):\\n  ro = rs if ro is None else ro\\n  s = -rs\\n  while s <= rs:\\n    o = -ro\\n    while o <= ro:\\n      if s**2/rs**2 + o**2/ro**2 <= 1:\\n        print('*', end='')\\n      else:\\n        print(' ', end='')\\n      o += 1\\n    print()\\n    s += 1\\n\\nellipszis(3)\", '_i14': \"def ellipszis(rs, ro=None): # alapértelmezett érték a None, amit nem lehetne értelmesen használni; innen tudjuk, hogy a két sugár értéke legyen egyforma\\n  ro = rs if ro is None else ro\\n  s = -rs\\n  while s <= rs:\\n    o = -ro\\n    while o <= ro:\\n      if s**2/rs**2 + o**2/ro**2 <= 1:\\n        print('*', end='')\\n      else:\\n        print(' ', end='')\\n      o += 1\\n    print()\\n    s += 1\\n\\nellipszis(3)\\nellipszis(3, 5)\", '_i15': 'def teglalapKeruler(a, b):\\n  return 2 * (a + b)\\n\\nprint(teglalapKeruler(2, 3))\\nprint(teglalapKeruler(2.5, 4))', 'teglalapKeruler': <function teglalapKeruler at 0x7f05ebcb3cb0>, '_i16': 'def teglalapKerulet(a, b):\\n  return 2 * (a + b)\\n\\nprint(teglalapKerulet(2, 3))\\nprint(teglalapKerulet(2.5, 4))', 'teglalapKerulet': <function teglalapKerulet at 0x7f05ebcb3d40>, '_i17': \"def isNeptun(kod):\\n  if len(kod) != 6:\\n    return False\\n  for betu in kod:\\n    if not (betu.isdigit() or betu.isalpha()):\\n      return False\\n  return True\\n\\nprint(isNeptun('Abc123'))\", 'isNeptun': <function isNeptun at 0x7f05ebc524d0>, '_i18': \"def isNeptun(kod):\\n  if len(kod) != 6:\\n    return False\\n  for betu in kod:\\n    if not (betu.isdigit() or betu.isalpha()):\\n      return False\\n  return True\\n\\nprint(isNeptun('Abc123'))\\nprint('1a')\\nprint('1a2b3c4d')\", '_i19': \"def isNeptun(kod):\\n  if len(kod) != 6:\\n    return False\\n  for betu in kod:\\n    if not (betu.isdigit() or betu.isalpha()):\\n      return False\\n  return True\\n\\nprint(isNeptun('Abc123'))\\nprint(isNeptun('1a'))\\nprint(isNeptun('1a2b3c4d'))\", '_i20': \"def isNeptun(kod):\\n  if len(kod) != 6:\\n    return False\\n  for betu in kod:\\n    if not (betu.isdigit() or betu.isalpha()):\\n      return False\\n  return True\\n\\nprint(isNeptun('Abc123'))\\nprint(isNeptun('1a'))\\nprint(isNeptun('1a2b3c4d'))\\nprint(isNeptun('1a+!3c'))\", '_i21': 'def osszead(*operandusok):\\n  osszeg = 0\\n  for operandus in operandusok:\\n    osszeg += operandus\\n  return osszeg\\n\\nprint(osszead(1, 2, 3))\\nprint(osszead(1, 2, 3, 4, 5))', 'osszead': <function osszead at 0x7f05ebc520e0>, '_i22': 'ellipszis(5, 10)\\nellipszis(10, 5)', '_i23': 'ellipszis(rs=5, ro=10)', '_i24': 'ellipszis(rs=5, ro=10)\\nellipszis(ro=10, rs=5)', '_i25': \"def tanulmanyok(**targyak):\\n  oraszam = 0\\n  for kod, targy in targyak:\\n    if 'eloadas' in targy:\\n      oraszam += targy['eloadas']\\n    if 'gyakorlat' in targy:\\n      oraszam += targy['gyakorlat']\\n  return oraszam\\n\\nprint(tanulmanyok(\\n    GKNB_INTM012 = {\\n        'nev' : 'Számítógépek működése',\\n        'eloadas' : 3,\\n        'gyakorlat' : 2,\\n        'felev' : 1\\n    },\\n    GKNB_INTM021 = {\\n        'nev' : 'Programozás',\\n        'eloadas' : 2,\\n        'gyakorlat' : 2,\\n        'felev' : 2\\n    }\\n))\", 'tanulmanyok': <function tanulmanyok at 0x7f05ebc2a5f0>, '_i26': \"def tanulmanyok(**targyak):\\n  oraszam = 0\\n  for targy in targyak:\\n    if 'eloadas' in targy:\\n      oraszam += targy['eloadas']\\n    if 'gyakorlat' in targy:\\n      oraszam += targy['gyakorlat']\\n  return oraszam\\n\\nprint(tanulmanyok(\\n    GKNB_INTM012 = {\\n        'nev' : 'Számítógépek működése',\\n        'eloadas' : 3,\\n        'gyakorlat' : 2,\\n        'felev' : 1\\n    },\\n    GKNB_INTM021 = {\\n        'nev' : 'Programozás',\\n        'eloadas' : 2,\\n        'gyakorlat' : 2,\\n        'felev' : 2\\n    }\\n))\", '_i27': 'def osszeadLista(operandusok):\\n  osszeg = 0\\n  for operandus in operandusok:\\n    osszeg += operandus\\n  return osszeg\\n\\nprint(osszeadLista((1, 2, 3)))        # tuple\\nprint(osszeadLista([1, 2, 3, 4, 5]))  # lista', 'osszeadLista': <function osszeadLista at 0x7f05ebbd8440>, '_i28': 'def osszeadLista(operandusok):\\n  osszeg = 0\\n  for operandus in operandusok:\\n    osszeg += operandus\\n  return osszeg\\n\\nprint(osszeadLista((1, 2, 3)))        # tuple\\nprint(osszeadLista([1, 2, 3, 4, 5]))  # lista\\n\\n*szamok, = 1, 2, 3\\n\\nprint(osszeadLista(szamok))', 'szamok': [5, 2], '_i29': \"a = 2\\nb = 5\\n\\ndef csere(a, b):\\n  a, b = b, a\\n\\nprint(f'a={a}, b={b}')\", 'a': 2, 'b': 5, 'csere': <function csere at 0x7f05ebb999e0>, '_i30': \"a = 2\\nb = 5\\n\\ndef csere(a, b):\\n  a, b = b, a\\n\\ncsere(a, b)\\nprint(f'a={a}, b={b}') # Hoppá!\", '_i31': \"x = 2\\ny = 5\\n\\ndef csere(a, b):\\n  a, b = b, a\\n\\ncsere(x, y)\\nprint(f'x={x}, y={y}') # Hoppá!\", 'x': 2, 'y': 2, '_i32': \"x = 2\\ny = 5\\n\\ndef csere(a, b):\\n  print(f'a címe: {id(a)}, b címe: {id(b)}')\\n  a, b = b, a\\n  print(f'a címe: {id(a)}, b címe: {id(b)}')\\n\\nprint(f'x címe: {id(x)}, y címe: {id(y)}')\\ncsere(x, y)\\nprint(f'x címe: {id(x)}, y címe: {id(y)}')\\nprint(f'x={x}, y={y}')\", '_i33': 'x = 2\\n\\ndef kob(a):\\n  x = x**3\\n\\nkob(x)\\nprint(x)', 'kob': <function kob at 0x7f05ebb919e0>, '_i34': 'x = 2\\n\\ndef kob(a):\\n  a = a**3\\n\\nkob(x)\\nprint(x)', '_i35': \"x = 2\\n\\ndef kob(a):\\n  print(f'a címe: {id(a)}')\\n  a = a**3\\n  print(f'a címe: {id(a)}')\\n\\nprint(f'x címe: {id(x)}')\\nkob(x)\\nprint(f'x címe: {id(x)}')\\nprint(x)\", '_i36': 'def teglalap(a, b):\\n  kerulet = 2 * (a + b)\\n  terulet = a * b\\n  return kerulet, terulet\\n\\nk, t = teglalap(2, 3)', 'teglalap': <function teglalap at 0x7f05ebb8a9e0>, 'k': 10, 't': 6, '_i37': \"def teglalap(a, b):\\n  kerulet = 2 * (a + b)\\n  terulet = a * b\\n  return kerulet, terulet\\n\\nk, t = teglalap(2, 3)\\nprint(f'A téglalap kerülete {k}, területe {t}.')\", '_i38': 'eredmeny = teglalap(2, 3)\\nprint(eredmeny)', 'eredmeny': (10, 6), '_i39': \"x = 2\\ny = 5\\n\\ndef csere(a, b):\\n  a, b = b, a\\n  return a, b\\n\\nx, y = csere(x, y)\\nprint(f'x={x}, y={y}')\", '_i40': 'x = 2\\n\\ndef kob(a):\\n  return a**3\\n  \\nx = kob(x)\\nprint(x)', '_i41': 'x = 2\\n\\ndef kob():\\n  x = x**3\\n\\nkob(x)\\nprint(x)', '_i42': 'x = 2\\n\\ndef kob():\\n  x = x**3\\n\\nkob()\\nprint(x)', '_i43': 'x = 2\\n\\ndef kob():\\n  global x\\n  x = x**3\\n\\nkob()\\nprint(x)', '_i44': '*szamok, = 2, 5\\n\\ndef csere(t):\\n  t[0], t[1] = t[1], t[0]\\n\\nprint(szamok)\\ncsere(szamok)\\nprint(szamok)', '_i45': 'szamok = (2, 5)\\n\\ndef csere(t):\\n  t[0], t[1] = t[1], t[0]\\n\\nprint(szamok)\\ncsere(szamok)\\nprint(szamok)', '_i46': 'szamok = [2, 5]\\n\\ndef csere(t):\\n  t[0], t[1] = t[1], t[0]\\n\\nprint(szamok)\\ncsere(szamok)\\nprint(szamok)', '_i47': 'd = {x : 2}\\n\\ndef kob(a):\\n  return a[x]**3\\n  \\nkob(d)\\nprint(d)', 'd': {'x': 2}, '_i48': \"d = {x : 2}\\n\\ndef kob(a):\\n  return a['x']**3\\n  \\nkob(d)\\nprint(d)\", '_i49': \"d = {'x' : 2}\\n\\ndef kob(a):\\n  return a['x']**3\\n  \\nkob(d)\\nprint(d)\", '_i50': \"x = 2\\n\\ndef kob(a):\\n  a = a**3\\n  print(f'Lokális változók: {locals()}')\\n\\nprint(f'Globális változók: {globals()}')\\nkob(x)\\nprint(x)\"}\n",
            "Lokális változók: {'a': 8}\n",
            "2\n"
          ]
        }
      ]
    },
    {
      "cell_type": "markdown",
      "source": [
        "Meg tudjuk mondani, hogy *x*-et ne a lokális változók között keresse, mint általában."
      ],
      "metadata": {
        "id": "pV05vufUFZ0R"
      }
    },
    {
      "cell_type": "code",
      "source": [
        "x = 2\n",
        "\n",
        "def kob():\n",
        "  global x  # elérhetővé teszi a globális változót\n",
        "  x = x**3\n",
        "  print(f'Lokális változók: {locals()}')\n",
        "\n",
        "print(f'Globális változók: {globals()}')\n",
        "kob()\n",
        "print(x)"
      ],
      "metadata": {
        "colab": {
          "base_uri": "https://localhost:8080/"
        },
        "id": "0dXvNgfd-K70",
        "outputId": "6be75ba5-b392-44f6-c4ba-0f14cc1a99b5"
      },
      "execution_count": null,
      "outputs": [
        {
          "output_type": "stream",
          "name": "stdout",
          "text": [
            "Globális változók: {'__name__': '__main__', '__doc__': 'Automatically created module for IPython interactive environment', '__package__': None, '__loader__': None, '__spec__': None, '__builtin__': <module 'builtins' (built-in)>, '__builtins__': <module 'builtins' (built-in)>, '_ih': ['', \"RS = 8\\nRO = 15\\ns = -RS\\nwhile s <= RS:\\n  o = -RO\\n  while o <= RO:\\n    if s**2/RS**2 + o**2/RO**2 <= 1:\\n      print('*', end='')\\n    else:\\n      print(' ', end='')\\n    o += 1\\n  print()\\n  s += 1\", \"RS = 8\\nRO = 15\\ns = -RS\\nwhile s <= RS:\\n  o = -RO\\n  while o <= RO:\\n    if s**2/RS**2 + o**2/RO**2 <= 1:\\n      print('*', end='')\\n    else:\\n      print(' ', end='')\\n    o += 1\\n  print()\\n  s += 1\\n\\nRS = 4\\nRO = 7\\ns = -RS\\nwhile s <= RS:\\n  o = -RO\\n  while o <= RO:\\n    if s**2/RS**2 + o**2/RO**2 <= 1:\\n      print('*', end='')\\n    else:\\n      print(' ', end='')\\n    o += 1\\n  print()\\n  s += 1\", \"RS = 8\\nRO = 15\\ns = -RS\\nwhile s <= RS:\\n  o = -RO\\n  while o <= RO:\\n    if s**2/RS**2 + o**2/RO**2 <= 1:\\n      print('*', end='')\\n    else:\\n      print(' ', end='')\\n    o += 1\\n  print()\\n  s += 1\\n\\nRS = 4\\nRO = 8\\ns = -RS\\nwhile s <= RS:\\n  o = -RO\\n  while o <= RO:\\n    if s**2/RS**2 + o**2/RO**2 <= 1:\\n      print('*', end='')\\n    else:\\n      print(' ', end='')\\n    o += 1\\n  print()\\n  s += 1\", \"def ellipszis(rs, ro): # függvény definíciója\\n  s = -rs\\n  while s <= rs:\\n    o = -ro\\n    while o <= ro:\\n      if s**2/rs**2 + o**2/ro**2 <= 1:\\n        print('*', end='')\\n      else:\\n        print(' ', end='')\\n      o += 1\\n    print()\\n    s += 1\\n\\nellipszis(8, 15)\\nellipszis(4, 8)\", 'ellipszis(3)', 'ellipszis(1, 2, 3)', \"def ellipszis(rs, ro): # függvény definíciója\\n  s = -rs\\n  while s <= rs:\\n    o = -ro\\n    while o <= ro:\\n      if s**2/rs**2 + o**2/ro**2 <= 1:\\n        print('*', end='')\\n      else:\\n        print(' ', end='')\\n      o += 1\\n    print()\\n    s += 1\", \"def ellipszis(rs, ro=5):\\n  s = -rs\\n  while s <= rs:\\n    o = -ro\\n    while o <= ro:\\n      if s**2/rs**2 + o**2/ro**2 <= 1:\\n        print('*', end='')\\n      else:\\n        print(' ', end='')\\n      o += 1\\n    print()\\n    s += 1\\n\\nellipszis(3)\", \"def ellipszis(rs, ro=rs):\\n  s = -rs\\n  while s <= rs:\\n    o = -ro\\n    while o <= ro:\\n      if s**2/rs**2 + o**2/ro**2 <= 1:\\n        print('*', end='')\\n      else:\\n        print(' ', end='')\\n      o += 1\\n    print()\\n    s += 1\\n\\nellipszis(3)\", \"def ellipszis(rs, ro=None):\\n  ro = ro if type(ro)!='NoneType' else rs\\n  s = -rs\\n  while s <= rs:\\n    o = -ro\\n    while o <= ro:\\n      if s**2/rs**2 + o**2/ro**2 <= 1:\\n        print('*', end='')\\n      else:\\n        print(' ', end='')\\n      o += 1\\n    print()\\n    s += 1\\n\\nellipszis(3)\", \"def ellipszis(rs, ro=None):\\n  ro = rs if isinstance(ro, None) else ro\\n  s = -rs\\n  while s <= rs:\\n    o = -ro\\n    while o <= ro:\\n      if s**2/rs**2 + o**2/ro**2 <= 1:\\n        print('*', end='')\\n      else:\\n        print(' ', end='')\\n      o += 1\\n    print()\\n    s += 1\\n\\nellipszis(3)\", \"def ellipszis(rs, ro=None):\\n  ro = rs if isinstance(ro, NoneType) else ro\\n  s = -rs\\n  while s <= rs:\\n    o = -ro\\n    while o <= ro:\\n      if s**2/rs**2 + o**2/ro**2 <= 1:\\n        print('*', end='')\\n      else:\\n        print(' ', end='')\\n      o += 1\\n    print()\\n    s += 1\\n\\nellipszis(3)\", \"def ellipszis(rs, ro=None):\\n  ro = rs if ro is None else ro\\n  s = -rs\\n  while s <= rs:\\n    o = -ro\\n    while o <= ro:\\n      if s**2/rs**2 + o**2/ro**2 <= 1:\\n        print('*', end='')\\n      else:\\n        print(' ', end='')\\n      o += 1\\n    print()\\n    s += 1\\n\\nellipszis(3)\", \"def ellipszis(rs, ro=None): # alapértelmezett érték a None, amit nem lehetne értelmesen használni; innen tudjuk, hogy a két sugár értéke legyen egyforma\\n  ro = rs if ro is None else ro\\n  s = -rs\\n  while s <= rs:\\n    o = -ro\\n    while o <= ro:\\n      if s**2/rs**2 + o**2/ro**2 <= 1:\\n        print('*', end='')\\n      else:\\n        print(' ', end='')\\n      o += 1\\n    print()\\n    s += 1\\n\\nellipszis(3)\\nellipszis(3, 5)\", 'def teglalapKeruler(a, b):\\n  return 2 * (a + b)\\n\\nprint(teglalapKeruler(2, 3))\\nprint(teglalapKeruler(2.5, 4))', 'def teglalapKerulet(a, b):\\n  return 2 * (a + b)\\n\\nprint(teglalapKerulet(2, 3))\\nprint(teglalapKerulet(2.5, 4))', \"def isNeptun(kod):\\n  if len(kod) != 6:\\n    return False\\n  for betu in kod:\\n    if not (betu.isdigit() or betu.isalpha()):\\n      return False\\n  return True\\n\\nprint(isNeptun('Abc123'))\", \"def isNeptun(kod):\\n  if len(kod) != 6:\\n    return False\\n  for betu in kod:\\n    if not (betu.isdigit() or betu.isalpha()):\\n      return False\\n  return True\\n\\nprint(isNeptun('Abc123'))\\nprint('1a')\\nprint('1a2b3c4d')\", \"def isNeptun(kod):\\n  if len(kod) != 6:\\n    return False\\n  for betu in kod:\\n    if not (betu.isdigit() or betu.isalpha()):\\n      return False\\n  return True\\n\\nprint(isNeptun('Abc123'))\\nprint(isNeptun('1a'))\\nprint(isNeptun('1a2b3c4d'))\", \"def isNeptun(kod):\\n  if len(kod) != 6:\\n    return False\\n  for betu in kod:\\n    if not (betu.isdigit() or betu.isalpha()):\\n      return False\\n  return True\\n\\nprint(isNeptun('Abc123'))\\nprint(isNeptun('1a'))\\nprint(isNeptun('1a2b3c4d'))\\nprint(isNeptun('1a+!3c'))\", 'def osszead(*operandusok):\\n  osszeg = 0\\n  for operandus in operandusok:\\n    osszeg += operandus\\n  return osszeg\\n\\nprint(osszead(1, 2, 3))\\nprint(osszead(1, 2, 3, 4, 5))', 'ellipszis(5, 10)\\nellipszis(10, 5)', 'ellipszis(rs=5, ro=10)', 'ellipszis(rs=5, ro=10)\\nellipszis(ro=10, rs=5)', \"def tanulmanyok(**targyak):\\n  oraszam = 0\\n  for kod, targy in targyak:\\n    if 'eloadas' in targy:\\n      oraszam += targy['eloadas']\\n    if 'gyakorlat' in targy:\\n      oraszam += targy['gyakorlat']\\n  return oraszam\\n\\nprint(tanulmanyok(\\n    GKNB_INTM012 = {\\n        'nev' : 'Számítógépek működése',\\n        'eloadas' : 3,\\n        'gyakorlat' : 2,\\n        'felev' : 1\\n    },\\n    GKNB_INTM021 = {\\n        'nev' : 'Programozás',\\n        'eloadas' : 2,\\n        'gyakorlat' : 2,\\n        'felev' : 2\\n    }\\n))\", \"def tanulmanyok(**targyak):\\n  oraszam = 0\\n  for targy in targyak:\\n    if 'eloadas' in targy:\\n      oraszam += targy['eloadas']\\n    if 'gyakorlat' in targy:\\n      oraszam += targy['gyakorlat']\\n  return oraszam\\n\\nprint(tanulmanyok(\\n    GKNB_INTM012 = {\\n        'nev' : 'Számítógépek működése',\\n        'eloadas' : 3,\\n        'gyakorlat' : 2,\\n        'felev' : 1\\n    },\\n    GKNB_INTM021 = {\\n        'nev' : 'Programozás',\\n        'eloadas' : 2,\\n        'gyakorlat' : 2,\\n        'felev' : 2\\n    }\\n))\", 'def osszeadLista(operandusok):\\n  osszeg = 0\\n  for operandus in operandusok:\\n    osszeg += operandus\\n  return osszeg\\n\\nprint(osszeadLista((1, 2, 3)))        # tuple\\nprint(osszeadLista([1, 2, 3, 4, 5]))  # lista', 'def osszeadLista(operandusok):\\n  osszeg = 0\\n  for operandus in operandusok:\\n    osszeg += operandus\\n  return osszeg\\n\\nprint(osszeadLista((1, 2, 3)))        # tuple\\nprint(osszeadLista([1, 2, 3, 4, 5]))  # lista\\n\\n*szamok, = 1, 2, 3\\n\\nprint(osszeadLista(szamok))', \"a = 2\\nb = 5\\n\\ndef csere(a, b):\\n  a, b = b, a\\n\\nprint(f'a={a}, b={b}')\", \"a = 2\\nb = 5\\n\\ndef csere(a, b):\\n  a, b = b, a\\n\\ncsere(a, b)\\nprint(f'a={a}, b={b}') # Hoppá!\", \"x = 2\\ny = 5\\n\\ndef csere(a, b):\\n  a, b = b, a\\n\\ncsere(x, y)\\nprint(f'x={x}, y={y}') # Hoppá!\", \"x = 2\\ny = 5\\n\\ndef csere(a, b):\\n  print(f'a címe: {id(a)}, b címe: {id(b)}')\\n  a, b = b, a\\n  print(f'a címe: {id(a)}, b címe: {id(b)}')\\n\\nprint(f'x címe: {id(x)}, y címe: {id(y)}')\\ncsere(x, y)\\nprint(f'x címe: {id(x)}, y címe: {id(y)}')\\nprint(f'x={x}, y={y}')\", 'x = 2\\n\\ndef kob(a):\\n  x = x**3\\n\\nkob(x)\\nprint(x)', 'x = 2\\n\\ndef kob(a):\\n  a = a**3\\n\\nkob(x)\\nprint(x)', \"x = 2\\n\\ndef kob(a):\\n  print(f'a címe: {id(a)}')\\n  a = a**3\\n  print(f'a címe: {id(a)}')\\n\\nprint(f'x címe: {id(x)}')\\nkob(x)\\nprint(f'x címe: {id(x)}')\\nprint(x)\", 'def teglalap(a, b):\\n  kerulet = 2 * (a + b)\\n  terulet = a * b\\n  return kerulet, terulet\\n\\nk, t = teglalap(2, 3)', \"def teglalap(a, b):\\n  kerulet = 2 * (a + b)\\n  terulet = a * b\\n  return kerulet, terulet\\n\\nk, t = teglalap(2, 3)\\nprint(f'A téglalap kerülete {k}, területe {t}.')\", 'eredmeny = teglalap(2, 3)\\nprint(eredmeny)', \"x = 2\\ny = 5\\n\\ndef csere(a, b):\\n  a, b = b, a\\n  return a, b\\n\\nx, y = csere(x, y)\\nprint(f'x={x}, y={y}')\", 'x = 2\\n\\ndef kob(a):\\n  return a**3\\n  \\nx = kob(x)\\nprint(x)', 'x = 2\\n\\ndef kob():\\n  x = x**3\\n\\nkob(x)\\nprint(x)', 'x = 2\\n\\ndef kob():\\n  x = x**3\\n\\nkob()\\nprint(x)', 'x = 2\\n\\ndef kob():\\n  global x\\n  x = x**3\\n\\nkob()\\nprint(x)', '*szamok, = 2, 5\\n\\ndef csere(t):\\n  t[0], t[1] = t[1], t[0]\\n\\nprint(szamok)\\ncsere(szamok)\\nprint(szamok)', 'szamok = (2, 5)\\n\\ndef csere(t):\\n  t[0], t[1] = t[1], t[0]\\n\\nprint(szamok)\\ncsere(szamok)\\nprint(szamok)', 'szamok = [2, 5]\\n\\ndef csere(t):\\n  t[0], t[1] = t[1], t[0]\\n\\nprint(szamok)\\ncsere(szamok)\\nprint(szamok)', 'd = {x : 2}\\n\\ndef kob(a):\\n  return a[x]**3\\n  \\nkob(d)\\nprint(d)', \"d = {x : 2}\\n\\ndef kob(a):\\n  return a['x']**3\\n  \\nkob(d)\\nprint(d)\", \"d = {'x' : 2}\\n\\ndef kob(a):\\n  return a['x']**3\\n  \\nkob(d)\\nprint(d)\", \"x = 2\\n\\ndef kob(a):\\n  a = a**3\\n  print(f'Lokális változók: {locals()}')\\n\\nprint(f'Globális változók: {globals()}')\\nkob(x)\\nprint(x)\", \"x = 2\\n\\ndef kob():\\n  global x  # elérhetővé teszi a globális változót\\n  x = x**3\\n  print(f'Lokális változók: {locals()}')\\n\\nprint(f'Globális változók: {globals()}')\\nkob()\\nprint(x)\"], '_oh': {}, '_dh': ['/content'], '_sh': <module 'IPython.core.shadowns' from '/usr/local/lib/python3.7/dist-packages/IPython/core/shadowns.py'>, 'In': ['', \"RS = 8\\nRO = 15\\ns = -RS\\nwhile s <= RS:\\n  o = -RO\\n  while o <= RO:\\n    if s**2/RS**2 + o**2/RO**2 <= 1:\\n      print('*', end='')\\n    else:\\n      print(' ', end='')\\n    o += 1\\n  print()\\n  s += 1\", \"RS = 8\\nRO = 15\\ns = -RS\\nwhile s <= RS:\\n  o = -RO\\n  while o <= RO:\\n    if s**2/RS**2 + o**2/RO**2 <= 1:\\n      print('*', end='')\\n    else:\\n      print(' ', end='')\\n    o += 1\\n  print()\\n  s += 1\\n\\nRS = 4\\nRO = 7\\ns = -RS\\nwhile s <= RS:\\n  o = -RO\\n  while o <= RO:\\n    if s**2/RS**2 + o**2/RO**2 <= 1:\\n      print('*', end='')\\n    else:\\n      print(' ', end='')\\n    o += 1\\n  print()\\n  s += 1\", \"RS = 8\\nRO = 15\\ns = -RS\\nwhile s <= RS:\\n  o = -RO\\n  while o <= RO:\\n    if s**2/RS**2 + o**2/RO**2 <= 1:\\n      print('*', end='')\\n    else:\\n      print(' ', end='')\\n    o += 1\\n  print()\\n  s += 1\\n\\nRS = 4\\nRO = 8\\ns = -RS\\nwhile s <= RS:\\n  o = -RO\\n  while o <= RO:\\n    if s**2/RS**2 + o**2/RO**2 <= 1:\\n      print('*', end='')\\n    else:\\n      print(' ', end='')\\n    o += 1\\n  print()\\n  s += 1\", \"def ellipszis(rs, ro): # függvény definíciója\\n  s = -rs\\n  while s <= rs:\\n    o = -ro\\n    while o <= ro:\\n      if s**2/rs**2 + o**2/ro**2 <= 1:\\n        print('*', end='')\\n      else:\\n        print(' ', end='')\\n      o += 1\\n    print()\\n    s += 1\\n\\nellipszis(8, 15)\\nellipszis(4, 8)\", 'ellipszis(3)', 'ellipszis(1, 2, 3)', \"def ellipszis(rs, ro): # függvény definíciója\\n  s = -rs\\n  while s <= rs:\\n    o = -ro\\n    while o <= ro:\\n      if s**2/rs**2 + o**2/ro**2 <= 1:\\n        print('*', end='')\\n      else:\\n        print(' ', end='')\\n      o += 1\\n    print()\\n    s += 1\", \"def ellipszis(rs, ro=5):\\n  s = -rs\\n  while s <= rs:\\n    o = -ro\\n    while o <= ro:\\n      if s**2/rs**2 + o**2/ro**2 <= 1:\\n        print('*', end='')\\n      else:\\n        print(' ', end='')\\n      o += 1\\n    print()\\n    s += 1\\n\\nellipszis(3)\", \"def ellipszis(rs, ro=rs):\\n  s = -rs\\n  while s <= rs:\\n    o = -ro\\n    while o <= ro:\\n      if s**2/rs**2 + o**2/ro**2 <= 1:\\n        print('*', end='')\\n      else:\\n        print(' ', end='')\\n      o += 1\\n    print()\\n    s += 1\\n\\nellipszis(3)\", \"def ellipszis(rs, ro=None):\\n  ro = ro if type(ro)!='NoneType' else rs\\n  s = -rs\\n  while s <= rs:\\n    o = -ro\\n    while o <= ro:\\n      if s**2/rs**2 + o**2/ro**2 <= 1:\\n        print('*', end='')\\n      else:\\n        print(' ', end='')\\n      o += 1\\n    print()\\n    s += 1\\n\\nellipszis(3)\", \"def ellipszis(rs, ro=None):\\n  ro = rs if isinstance(ro, None) else ro\\n  s = -rs\\n  while s <= rs:\\n    o = -ro\\n    while o <= ro:\\n      if s**2/rs**2 + o**2/ro**2 <= 1:\\n        print('*', end='')\\n      else:\\n        print(' ', end='')\\n      o += 1\\n    print()\\n    s += 1\\n\\nellipszis(3)\", \"def ellipszis(rs, ro=None):\\n  ro = rs if isinstance(ro, NoneType) else ro\\n  s = -rs\\n  while s <= rs:\\n    o = -ro\\n    while o <= ro:\\n      if s**2/rs**2 + o**2/ro**2 <= 1:\\n        print('*', end='')\\n      else:\\n        print(' ', end='')\\n      o += 1\\n    print()\\n    s += 1\\n\\nellipszis(3)\", \"def ellipszis(rs, ro=None):\\n  ro = rs if ro is None else ro\\n  s = -rs\\n  while s <= rs:\\n    o = -ro\\n    while o <= ro:\\n      if s**2/rs**2 + o**2/ro**2 <= 1:\\n        print('*', end='')\\n      else:\\n        print(' ', end='')\\n      o += 1\\n    print()\\n    s += 1\\n\\nellipszis(3)\", \"def ellipszis(rs, ro=None): # alapértelmezett érték a None, amit nem lehetne értelmesen használni; innen tudjuk, hogy a két sugár értéke legyen egyforma\\n  ro = rs if ro is None else ro\\n  s = -rs\\n  while s <= rs:\\n    o = -ro\\n    while o <= ro:\\n      if s**2/rs**2 + o**2/ro**2 <= 1:\\n        print('*', end='')\\n      else:\\n        print(' ', end='')\\n      o += 1\\n    print()\\n    s += 1\\n\\nellipszis(3)\\nellipszis(3, 5)\", 'def teglalapKeruler(a, b):\\n  return 2 * (a + b)\\n\\nprint(teglalapKeruler(2, 3))\\nprint(teglalapKeruler(2.5, 4))', 'def teglalapKerulet(a, b):\\n  return 2 * (a + b)\\n\\nprint(teglalapKerulet(2, 3))\\nprint(teglalapKerulet(2.5, 4))', \"def isNeptun(kod):\\n  if len(kod) != 6:\\n    return False\\n  for betu in kod:\\n    if not (betu.isdigit() or betu.isalpha()):\\n      return False\\n  return True\\n\\nprint(isNeptun('Abc123'))\", \"def isNeptun(kod):\\n  if len(kod) != 6:\\n    return False\\n  for betu in kod:\\n    if not (betu.isdigit() or betu.isalpha()):\\n      return False\\n  return True\\n\\nprint(isNeptun('Abc123'))\\nprint('1a')\\nprint('1a2b3c4d')\", \"def isNeptun(kod):\\n  if len(kod) != 6:\\n    return False\\n  for betu in kod:\\n    if not (betu.isdigit() or betu.isalpha()):\\n      return False\\n  return True\\n\\nprint(isNeptun('Abc123'))\\nprint(isNeptun('1a'))\\nprint(isNeptun('1a2b3c4d'))\", \"def isNeptun(kod):\\n  if len(kod) != 6:\\n    return False\\n  for betu in kod:\\n    if not (betu.isdigit() or betu.isalpha()):\\n      return False\\n  return True\\n\\nprint(isNeptun('Abc123'))\\nprint(isNeptun('1a'))\\nprint(isNeptun('1a2b3c4d'))\\nprint(isNeptun('1a+!3c'))\", 'def osszead(*operandusok):\\n  osszeg = 0\\n  for operandus in operandusok:\\n    osszeg += operandus\\n  return osszeg\\n\\nprint(osszead(1, 2, 3))\\nprint(osszead(1, 2, 3, 4, 5))', 'ellipszis(5, 10)\\nellipszis(10, 5)', 'ellipszis(rs=5, ro=10)', 'ellipszis(rs=5, ro=10)\\nellipszis(ro=10, rs=5)', \"def tanulmanyok(**targyak):\\n  oraszam = 0\\n  for kod, targy in targyak:\\n    if 'eloadas' in targy:\\n      oraszam += targy['eloadas']\\n    if 'gyakorlat' in targy:\\n      oraszam += targy['gyakorlat']\\n  return oraszam\\n\\nprint(tanulmanyok(\\n    GKNB_INTM012 = {\\n        'nev' : 'Számítógépek működése',\\n        'eloadas' : 3,\\n        'gyakorlat' : 2,\\n        'felev' : 1\\n    },\\n    GKNB_INTM021 = {\\n        'nev' : 'Programozás',\\n        'eloadas' : 2,\\n        'gyakorlat' : 2,\\n        'felev' : 2\\n    }\\n))\", \"def tanulmanyok(**targyak):\\n  oraszam = 0\\n  for targy in targyak:\\n    if 'eloadas' in targy:\\n      oraszam += targy['eloadas']\\n    if 'gyakorlat' in targy:\\n      oraszam += targy['gyakorlat']\\n  return oraszam\\n\\nprint(tanulmanyok(\\n    GKNB_INTM012 = {\\n        'nev' : 'Számítógépek működése',\\n        'eloadas' : 3,\\n        'gyakorlat' : 2,\\n        'felev' : 1\\n    },\\n    GKNB_INTM021 = {\\n        'nev' : 'Programozás',\\n        'eloadas' : 2,\\n        'gyakorlat' : 2,\\n        'felev' : 2\\n    }\\n))\", 'def osszeadLista(operandusok):\\n  osszeg = 0\\n  for operandus in operandusok:\\n    osszeg += operandus\\n  return osszeg\\n\\nprint(osszeadLista((1, 2, 3)))        # tuple\\nprint(osszeadLista([1, 2, 3, 4, 5]))  # lista', 'def osszeadLista(operandusok):\\n  osszeg = 0\\n  for operandus in operandusok:\\n    osszeg += operandus\\n  return osszeg\\n\\nprint(osszeadLista((1, 2, 3)))        # tuple\\nprint(osszeadLista([1, 2, 3, 4, 5]))  # lista\\n\\n*szamok, = 1, 2, 3\\n\\nprint(osszeadLista(szamok))', \"a = 2\\nb = 5\\n\\ndef csere(a, b):\\n  a, b = b, a\\n\\nprint(f'a={a}, b={b}')\", \"a = 2\\nb = 5\\n\\ndef csere(a, b):\\n  a, b = b, a\\n\\ncsere(a, b)\\nprint(f'a={a}, b={b}') # Hoppá!\", \"x = 2\\ny = 5\\n\\ndef csere(a, b):\\n  a, b = b, a\\n\\ncsere(x, y)\\nprint(f'x={x}, y={y}') # Hoppá!\", \"x = 2\\ny = 5\\n\\ndef csere(a, b):\\n  print(f'a címe: {id(a)}, b címe: {id(b)}')\\n  a, b = b, a\\n  print(f'a címe: {id(a)}, b címe: {id(b)}')\\n\\nprint(f'x címe: {id(x)}, y címe: {id(y)}')\\ncsere(x, y)\\nprint(f'x címe: {id(x)}, y címe: {id(y)}')\\nprint(f'x={x}, y={y}')\", 'x = 2\\n\\ndef kob(a):\\n  x = x**3\\n\\nkob(x)\\nprint(x)', 'x = 2\\n\\ndef kob(a):\\n  a = a**3\\n\\nkob(x)\\nprint(x)', \"x = 2\\n\\ndef kob(a):\\n  print(f'a címe: {id(a)}')\\n  a = a**3\\n  print(f'a címe: {id(a)}')\\n\\nprint(f'x címe: {id(x)}')\\nkob(x)\\nprint(f'x címe: {id(x)}')\\nprint(x)\", 'def teglalap(a, b):\\n  kerulet = 2 * (a + b)\\n  terulet = a * b\\n  return kerulet, terulet\\n\\nk, t = teglalap(2, 3)', \"def teglalap(a, b):\\n  kerulet = 2 * (a + b)\\n  terulet = a * b\\n  return kerulet, terulet\\n\\nk, t = teglalap(2, 3)\\nprint(f'A téglalap kerülete {k}, területe {t}.')\", 'eredmeny = teglalap(2, 3)\\nprint(eredmeny)', \"x = 2\\ny = 5\\n\\ndef csere(a, b):\\n  a, b = b, a\\n  return a, b\\n\\nx, y = csere(x, y)\\nprint(f'x={x}, y={y}')\", 'x = 2\\n\\ndef kob(a):\\n  return a**3\\n  \\nx = kob(x)\\nprint(x)', 'x = 2\\n\\ndef kob():\\n  x = x**3\\n\\nkob(x)\\nprint(x)', 'x = 2\\n\\ndef kob():\\n  x = x**3\\n\\nkob()\\nprint(x)', 'x = 2\\n\\ndef kob():\\n  global x\\n  x = x**3\\n\\nkob()\\nprint(x)', '*szamok, = 2, 5\\n\\ndef csere(t):\\n  t[0], t[1] = t[1], t[0]\\n\\nprint(szamok)\\ncsere(szamok)\\nprint(szamok)', 'szamok = (2, 5)\\n\\ndef csere(t):\\n  t[0], t[1] = t[1], t[0]\\n\\nprint(szamok)\\ncsere(szamok)\\nprint(szamok)', 'szamok = [2, 5]\\n\\ndef csere(t):\\n  t[0], t[1] = t[1], t[0]\\n\\nprint(szamok)\\ncsere(szamok)\\nprint(szamok)', 'd = {x : 2}\\n\\ndef kob(a):\\n  return a[x]**3\\n  \\nkob(d)\\nprint(d)', \"d = {x : 2}\\n\\ndef kob(a):\\n  return a['x']**3\\n  \\nkob(d)\\nprint(d)\", \"d = {'x' : 2}\\n\\ndef kob(a):\\n  return a['x']**3\\n  \\nkob(d)\\nprint(d)\", \"x = 2\\n\\ndef kob(a):\\n  a = a**3\\n  print(f'Lokális változók: {locals()}')\\n\\nprint(f'Globális változók: {globals()}')\\nkob(x)\\nprint(x)\", \"x = 2\\n\\ndef kob():\\n  global x  # elérhetővé teszi a globális változót\\n  x = x**3\\n  print(f'Lokális változók: {locals()}')\\n\\nprint(f'Globális változók: {globals()}')\\nkob()\\nprint(x)\"], 'Out': {}, 'get_ipython': <bound method InteractiveShell.get_ipython of <google.colab._shell.Shell object at 0x7f0605794fd0>>, 'exit': <IPython.core.autocall.ZMQExitAutocall object at 0x7f0602524390>, 'quit': <IPython.core.autocall.ZMQExitAutocall object at 0x7f0602524390>, '_': '', '__': '', '___': '', '_i': \"x = 2\\n\\ndef kob(a):\\n  a = a**3\\n  print(f'Lokális változók: {locals()}')\\n\\nprint(f'Globális változók: {globals()}')\\nkob(x)\\nprint(x)\", '_ii': \"d = {'x' : 2}\\n\\ndef kob(a):\\n  return a['x']**3\\n  \\nkob(d)\\nprint(d)\", '_iii': \"d = {x : 2}\\n\\ndef kob(a):\\n  return a['x']**3\\n  \\nkob(d)\\nprint(d)\", '_i1': \"RS = 8\\nRO = 15\\ns = -RS\\nwhile s <= RS:\\n  o = -RO\\n  while o <= RO:\\n    if s**2/RS**2 + o**2/RO**2 <= 1:\\n      print('*', end='')\\n    else:\\n      print(' ', end='')\\n    o += 1\\n  print()\\n  s += 1\", 'RS': 4, 'RO': 8, 's': 5, 'o': 9, '_i2': \"RS = 8\\nRO = 15\\ns = -RS\\nwhile s <= RS:\\n  o = -RO\\n  while o <= RO:\\n    if s**2/RS**2 + o**2/RO**2 <= 1:\\n      print('*', end='')\\n    else:\\n      print(' ', end='')\\n    o += 1\\n  print()\\n  s += 1\\n\\nRS = 4\\nRO = 7\\ns = -RS\\nwhile s <= RS:\\n  o = -RO\\n  while o <= RO:\\n    if s**2/RS**2 + o**2/RO**2 <= 1:\\n      print('*', end='')\\n    else:\\n      print(' ', end='')\\n    o += 1\\n  print()\\n  s += 1\", '_i3': \"RS = 8\\nRO = 15\\ns = -RS\\nwhile s <= RS:\\n  o = -RO\\n  while o <= RO:\\n    if s**2/RS**2 + o**2/RO**2 <= 1:\\n      print('*', end='')\\n    else:\\n      print(' ', end='')\\n    o += 1\\n  print()\\n  s += 1\\n\\nRS = 4\\nRO = 8\\ns = -RS\\nwhile s <= RS:\\n  o = -RO\\n  while o <= RO:\\n    if s**2/RS**2 + o**2/RO**2 <= 1:\\n      print('*', end='')\\n    else:\\n      print(' ', end='')\\n    o += 1\\n  print()\\n  s += 1\", '_i4': \"def ellipszis(rs, ro): # függvény definíciója\\n  s = -rs\\n  while s <= rs:\\n    o = -ro\\n    while o <= ro:\\n      if s**2/rs**2 + o**2/ro**2 <= 1:\\n        print('*', end='')\\n      else:\\n        print(' ', end='')\\n      o += 1\\n    print()\\n    s += 1\\n\\nellipszis(8, 15)\\nellipszis(4, 8)\", 'ellipszis': <function ellipszis at 0x7f05f3e3f290>, '_i5': 'ellipszis(3)', '_i6': 'ellipszis(1, 2, 3)', '_i7': \"def ellipszis(rs, ro): # függvény definíciója\\n  s = -rs\\n  while s <= rs:\\n    o = -ro\\n    while o <= ro:\\n      if s**2/rs**2 + o**2/ro**2 <= 1:\\n        print('*', end='')\\n      else:\\n        print(' ', end='')\\n      o += 1\\n    print()\\n    s += 1\", '_i8': \"def ellipszis(rs, ro=5):\\n  s = -rs\\n  while s <= rs:\\n    o = -ro\\n    while o <= ro:\\n      if s**2/rs**2 + o**2/ro**2 <= 1:\\n        print('*', end='')\\n      else:\\n        print(' ', end='')\\n      o += 1\\n    print()\\n    s += 1\\n\\nellipszis(3)\", '_i9': \"def ellipszis(rs, ro=rs):\\n  s = -rs\\n  while s <= rs:\\n    o = -ro\\n    while o <= ro:\\n      if s**2/rs**2 + o**2/ro**2 <= 1:\\n        print('*', end='')\\n      else:\\n        print(' ', end='')\\n      o += 1\\n    print()\\n    s += 1\\n\\nellipszis(3)\", '_i10': \"def ellipszis(rs, ro=None):\\n  ro = ro if type(ro)!='NoneType' else rs\\n  s = -rs\\n  while s <= rs:\\n    o = -ro\\n    while o <= ro:\\n      if s**2/rs**2 + o**2/ro**2 <= 1:\\n        print('*', end='')\\n      else:\\n        print(' ', end='')\\n      o += 1\\n    print()\\n    s += 1\\n\\nellipszis(3)\", '_i11': \"def ellipszis(rs, ro=None):\\n  ro = rs if isinstance(ro, None) else ro\\n  s = -rs\\n  while s <= rs:\\n    o = -ro\\n    while o <= ro:\\n      if s**2/rs**2 + o**2/ro**2 <= 1:\\n        print('*', end='')\\n      else:\\n        print(' ', end='')\\n      o += 1\\n    print()\\n    s += 1\\n\\nellipszis(3)\", '_i12': \"def ellipszis(rs, ro=None):\\n  ro = rs if isinstance(ro, NoneType) else ro\\n  s = -rs\\n  while s <= rs:\\n    o = -ro\\n    while o <= ro:\\n      if s**2/rs**2 + o**2/ro**2 <= 1:\\n        print('*', end='')\\n      else:\\n        print(' ', end='')\\n      o += 1\\n    print()\\n    s += 1\\n\\nellipszis(3)\", '_i13': \"def ellipszis(rs, ro=None):\\n  ro = rs if ro is None else ro\\n  s = -rs\\n  while s <= rs:\\n    o = -ro\\n    while o <= ro:\\n      if s**2/rs**2 + o**2/ro**2 <= 1:\\n        print('*', end='')\\n      else:\\n        print(' ', end='')\\n      o += 1\\n    print()\\n    s += 1\\n\\nellipszis(3)\", '_i14': \"def ellipszis(rs, ro=None): # alapértelmezett érték a None, amit nem lehetne értelmesen használni; innen tudjuk, hogy a két sugár értéke legyen egyforma\\n  ro = rs if ro is None else ro\\n  s = -rs\\n  while s <= rs:\\n    o = -ro\\n    while o <= ro:\\n      if s**2/rs**2 + o**2/ro**2 <= 1:\\n        print('*', end='')\\n      else:\\n        print(' ', end='')\\n      o += 1\\n    print()\\n    s += 1\\n\\nellipszis(3)\\nellipszis(3, 5)\", '_i15': 'def teglalapKeruler(a, b):\\n  return 2 * (a + b)\\n\\nprint(teglalapKeruler(2, 3))\\nprint(teglalapKeruler(2.5, 4))', 'teglalapKeruler': <function teglalapKeruler at 0x7f05ebcb3cb0>, '_i16': 'def teglalapKerulet(a, b):\\n  return 2 * (a + b)\\n\\nprint(teglalapKerulet(2, 3))\\nprint(teglalapKerulet(2.5, 4))', 'teglalapKerulet': <function teglalapKerulet at 0x7f05ebcb3d40>, '_i17': \"def isNeptun(kod):\\n  if len(kod) != 6:\\n    return False\\n  for betu in kod:\\n    if not (betu.isdigit() or betu.isalpha()):\\n      return False\\n  return True\\n\\nprint(isNeptun('Abc123'))\", 'isNeptun': <function isNeptun at 0x7f05ebc524d0>, '_i18': \"def isNeptun(kod):\\n  if len(kod) != 6:\\n    return False\\n  for betu in kod:\\n    if not (betu.isdigit() or betu.isalpha()):\\n      return False\\n  return True\\n\\nprint(isNeptun('Abc123'))\\nprint('1a')\\nprint('1a2b3c4d')\", '_i19': \"def isNeptun(kod):\\n  if len(kod) != 6:\\n    return False\\n  for betu in kod:\\n    if not (betu.isdigit() or betu.isalpha()):\\n      return False\\n  return True\\n\\nprint(isNeptun('Abc123'))\\nprint(isNeptun('1a'))\\nprint(isNeptun('1a2b3c4d'))\", '_i20': \"def isNeptun(kod):\\n  if len(kod) != 6:\\n    return False\\n  for betu in kod:\\n    if not (betu.isdigit() or betu.isalpha()):\\n      return False\\n  return True\\n\\nprint(isNeptun('Abc123'))\\nprint(isNeptun('1a'))\\nprint(isNeptun('1a2b3c4d'))\\nprint(isNeptun('1a+!3c'))\", '_i21': 'def osszead(*operandusok):\\n  osszeg = 0\\n  for operandus in operandusok:\\n    osszeg += operandus\\n  return osszeg\\n\\nprint(osszead(1, 2, 3))\\nprint(osszead(1, 2, 3, 4, 5))', 'osszead': <function osszead at 0x7f05ebc520e0>, '_i22': 'ellipszis(5, 10)\\nellipszis(10, 5)', '_i23': 'ellipszis(rs=5, ro=10)', '_i24': 'ellipszis(rs=5, ro=10)\\nellipszis(ro=10, rs=5)', '_i25': \"def tanulmanyok(**targyak):\\n  oraszam = 0\\n  for kod, targy in targyak:\\n    if 'eloadas' in targy:\\n      oraszam += targy['eloadas']\\n    if 'gyakorlat' in targy:\\n      oraszam += targy['gyakorlat']\\n  return oraszam\\n\\nprint(tanulmanyok(\\n    GKNB_INTM012 = {\\n        'nev' : 'Számítógépek működése',\\n        'eloadas' : 3,\\n        'gyakorlat' : 2,\\n        'felev' : 1\\n    },\\n    GKNB_INTM021 = {\\n        'nev' : 'Programozás',\\n        'eloadas' : 2,\\n        'gyakorlat' : 2,\\n        'felev' : 2\\n    }\\n))\", 'tanulmanyok': <function tanulmanyok at 0x7f05ebc2a5f0>, '_i26': \"def tanulmanyok(**targyak):\\n  oraszam = 0\\n  for targy in targyak:\\n    if 'eloadas' in targy:\\n      oraszam += targy['eloadas']\\n    if 'gyakorlat' in targy:\\n      oraszam += targy['gyakorlat']\\n  return oraszam\\n\\nprint(tanulmanyok(\\n    GKNB_INTM012 = {\\n        'nev' : 'Számítógépek működése',\\n        'eloadas' : 3,\\n        'gyakorlat' : 2,\\n        'felev' : 1\\n    },\\n    GKNB_INTM021 = {\\n        'nev' : 'Programozás',\\n        'eloadas' : 2,\\n        'gyakorlat' : 2,\\n        'felev' : 2\\n    }\\n))\", '_i27': 'def osszeadLista(operandusok):\\n  osszeg = 0\\n  for operandus in operandusok:\\n    osszeg += operandus\\n  return osszeg\\n\\nprint(osszeadLista((1, 2, 3)))        # tuple\\nprint(osszeadLista([1, 2, 3, 4, 5]))  # lista', 'osszeadLista': <function osszeadLista at 0x7f05ebbd8440>, '_i28': 'def osszeadLista(operandusok):\\n  osszeg = 0\\n  for operandus in operandusok:\\n    osszeg += operandus\\n  return osszeg\\n\\nprint(osszeadLista((1, 2, 3)))        # tuple\\nprint(osszeadLista([1, 2, 3, 4, 5]))  # lista\\n\\n*szamok, = 1, 2, 3\\n\\nprint(osszeadLista(szamok))', 'szamok': [5, 2], '_i29': \"a = 2\\nb = 5\\n\\ndef csere(a, b):\\n  a, b = b, a\\n\\nprint(f'a={a}, b={b}')\", 'a': 2, 'b': 5, 'csere': <function csere at 0x7f05ebb999e0>, '_i30': \"a = 2\\nb = 5\\n\\ndef csere(a, b):\\n  a, b = b, a\\n\\ncsere(a, b)\\nprint(f'a={a}, b={b}') # Hoppá!\", '_i31': \"x = 2\\ny = 5\\n\\ndef csere(a, b):\\n  a, b = b, a\\n\\ncsere(x, y)\\nprint(f'x={x}, y={y}') # Hoppá!\", 'x': 2, 'y': 2, '_i32': \"x = 2\\ny = 5\\n\\ndef csere(a, b):\\n  print(f'a címe: {id(a)}, b címe: {id(b)}')\\n  a, b = b, a\\n  print(f'a címe: {id(a)}, b címe: {id(b)}')\\n\\nprint(f'x címe: {id(x)}, y címe: {id(y)}')\\ncsere(x, y)\\nprint(f'x címe: {id(x)}, y címe: {id(y)}')\\nprint(f'x={x}, y={y}')\", '_i33': 'x = 2\\n\\ndef kob(a):\\n  x = x**3\\n\\nkob(x)\\nprint(x)', 'kob': <function kob at 0x7f05ebbbbf80>, '_i34': 'x = 2\\n\\ndef kob(a):\\n  a = a**3\\n\\nkob(x)\\nprint(x)', '_i35': \"x = 2\\n\\ndef kob(a):\\n  print(f'a címe: {id(a)}')\\n  a = a**3\\n  print(f'a címe: {id(a)}')\\n\\nprint(f'x címe: {id(x)}')\\nkob(x)\\nprint(f'x címe: {id(x)}')\\nprint(x)\", '_i36': 'def teglalap(a, b):\\n  kerulet = 2 * (a + b)\\n  terulet = a * b\\n  return kerulet, terulet\\n\\nk, t = teglalap(2, 3)', 'teglalap': <function teglalap at 0x7f05ebb8a9e0>, 'k': 10, 't': 6, '_i37': \"def teglalap(a, b):\\n  kerulet = 2 * (a + b)\\n  terulet = a * b\\n  return kerulet, terulet\\n\\nk, t = teglalap(2, 3)\\nprint(f'A téglalap kerülete {k}, területe {t}.')\", '_i38': 'eredmeny = teglalap(2, 3)\\nprint(eredmeny)', 'eredmeny': (10, 6), '_i39': \"x = 2\\ny = 5\\n\\ndef csere(a, b):\\n  a, b = b, a\\n  return a, b\\n\\nx, y = csere(x, y)\\nprint(f'x={x}, y={y}')\", '_i40': 'x = 2\\n\\ndef kob(a):\\n  return a**3\\n  \\nx = kob(x)\\nprint(x)', '_i41': 'x = 2\\n\\ndef kob():\\n  x = x**3\\n\\nkob(x)\\nprint(x)', '_i42': 'x = 2\\n\\ndef kob():\\n  x = x**3\\n\\nkob()\\nprint(x)', '_i43': 'x = 2\\n\\ndef kob():\\n  global x\\n  x = x**3\\n\\nkob()\\nprint(x)', '_i44': '*szamok, = 2, 5\\n\\ndef csere(t):\\n  t[0], t[1] = t[1], t[0]\\n\\nprint(szamok)\\ncsere(szamok)\\nprint(szamok)', '_i45': 'szamok = (2, 5)\\n\\ndef csere(t):\\n  t[0], t[1] = t[1], t[0]\\n\\nprint(szamok)\\ncsere(szamok)\\nprint(szamok)', '_i46': 'szamok = [2, 5]\\n\\ndef csere(t):\\n  t[0], t[1] = t[1], t[0]\\n\\nprint(szamok)\\ncsere(szamok)\\nprint(szamok)', '_i47': 'd = {x : 2}\\n\\ndef kob(a):\\n  return a[x]**3\\n  \\nkob(d)\\nprint(d)', 'd': {'x': 2}, '_i48': \"d = {x : 2}\\n\\ndef kob(a):\\n  return a['x']**3\\n  \\nkob(d)\\nprint(d)\", '_i49': \"d = {'x' : 2}\\n\\ndef kob(a):\\n  return a['x']**3\\n  \\nkob(d)\\nprint(d)\", '_i50': \"x = 2\\n\\ndef kob(a):\\n  a = a**3\\n  print(f'Lokális változók: {locals()}')\\n\\nprint(f'Globális változók: {globals()}')\\nkob(x)\\nprint(x)\", '_i51': \"x = 2\\n\\ndef kob():\\n  global x  # elérhetővé teszi a globális változót\\n  x = x**3\\n  print(f'Lokális változók: {locals()}')\\n\\nprint(f'Globális változók: {globals()}')\\nkob()\\nprint(x)\"}\n",
            "Lokális változók: {}\n",
            "8\n"
          ]
        }
      ]
    },
    {
      "cell_type": "markdown",
      "source": [
        "Ez persze működik, de:\n",
        "- A függvény nem vihető át másik programba anélkül, hogy a változóneveket egyeztetnénk, ez számos későbbi hiba forrása lehet\n",
        "- Látszólag a \"semmiből\" jön az x változó a függvény kódjában, ami a működésének megértését nehezíti\n",
        "- Csak egyetlen változó köbre emelésére képes, más változókkal nem tud dolgozni\n",
        "- (Nem szálbiztos)\n",
        "\n",
        "Ez annyi hátrány, hogy ezt a \"megoldást\" inkább FELEJTSÜK is EL!\n",
        "\n",
        "Megoldási javaslat #1: visszadjuk és újra hozzárendeljük az értékeket a változókhoz."
      ],
      "metadata": {
        "id": "G5ebPTb66V71"
      }
    },
    {
      "cell_type": "code",
      "source": [
        "x = 2\n",
        "y = 5\n",
        "\n",
        "def csere(a, b):\n",
        "  return b, a\n",
        "\n",
        "x, y = csere(x, y)\n",
        "print(f'x={x}, y={y}') # Kicsit nyakatekert, de működik"
      ],
      "metadata": {
        "colab": {
          "base_uri": "https://localhost:8080/"
        },
        "id": "6sD553-J6eqz",
        "outputId": "41ba23e1-ac6c-43d9-f069-3effb8b50c71"
      },
      "execution_count": null,
      "outputs": [
        {
          "output_type": "stream",
          "name": "stdout",
          "text": [
            "x=5, y=2\n"
          ]
        }
      ]
    },
    {
      "cell_type": "code",
      "source": [
        "x = 2\n",
        "\n",
        "def kob(a):\n",
        "  return a**3\n",
        "  \n",
        "x = kob(x)\n",
        "print(x)"
      ],
      "metadata": {
        "colab": {
          "base_uri": "https://localhost:8080/"
        },
        "id": "vfGZh9jN6vmm",
        "outputId": "e1f6d2b9-2f69-490c-c400-117a5dc45451"
      },
      "execution_count": null,
      "outputs": [
        {
          "output_type": "stream",
          "name": "stdout",
          "text": [
            "8\n"
          ]
        }
      ]
    },
    {
      "cell_type": "markdown",
      "source": [
        "Megoldási javaslat #2: használjunk (subscriptable [elemei elérhetők indexeléssel] & mutable [tartalma megváltoztatható]) objektumokat (list, dictionary) a paraméterlistán!"
      ],
      "metadata": {
        "id": "SyrWMoSgARsp"
      }
    },
    {
      "cell_type": "code",
      "source": [
        "szamok = [2, 5]\n",
        "\n",
        "def csere(t):\n",
        "  t[0], t[1] = t[1], t[0]\n",
        "\n",
        "print(szamok)\n",
        "csere(szamok)\n",
        "print(szamok)"
      ],
      "metadata": {
        "colab": {
          "base_uri": "https://localhost:8080/"
        },
        "id": "tyHe7NeUAX-g",
        "outputId": "c351bf0a-5afb-401c-b8a0-9315438ecc70"
      },
      "execution_count": null,
      "outputs": [
        {
          "output_type": "stream",
          "name": "stdout",
          "text": [
            "[2, 5]\n",
            "[5, 2]\n"
          ]
        }
      ]
    },
    {
      "cell_type": "code",
      "source": [
        "d = {'x' : 2}\n",
        "\n",
        "def kob(a):\n",
        "  a['x'] = a['x']**3\n",
        "\n",
        "print(d)\n",
        "kob(d)\n",
        "print(d)"
      ],
      "metadata": {
        "colab": {
          "base_uri": "https://localhost:8080/"
        },
        "id": "NREOqH_gBJ1P",
        "outputId": "02b1e5bd-b88a-4a02-f9c0-91467e31a5d8"
      },
      "execution_count": null,
      "outputs": [
        {
          "output_type": "stream",
          "name": "stdout",
          "text": [
            "{'x': 2}\n",
            "{'x': 8}\n"
          ]
        }
      ]
    },
    {
      "cell_type": "markdown",
      "source": [
        "Feladat: készítsünk függvényt, amely visszaadja a [Fibonacci](https://hu.wikipedia.org/wiki/Fibonacci-sz%C3%A1mok)-sorozat *n* indexű elemét!"
      ],
      "metadata": {
        "id": "emuW2B-ZHyAS"
      }
    },
    {
      "cell_type": "code",
      "source": [
        "def fibonacci(n):\n",
        "  a = 0\n",
        "  b = 1\n",
        "  for i in range(n):\n",
        "    a, b = b, a+b\n",
        "  return a\n",
        "\n",
        "print(fibonacci(0))\n",
        "print(fibonacci(1))\n",
        "print(fibonacci(2))\n",
        "print(fibonacci(3))\n",
        "print(fibonacci(4))\n",
        "print(fibonacci(5))"
      ],
      "metadata": {
        "colab": {
          "base_uri": "https://localhost:8080/"
        },
        "id": "Vui2zgPzGgDq",
        "outputId": "a4282c71-357a-4cc7-8a82-05de807ceadd"
      },
      "execution_count": null,
      "outputs": [
        {
          "output_type": "stream",
          "name": "stdout",
          "text": [
            "0\n",
            "1\n",
            "1\n",
            "2\n",
            "3\n",
            "5\n"
          ]
        }
      ]
    },
    {
      "cell_type": "markdown",
      "source": [
        "Ki is használhatnánk persze, hogy maga a sorozat másodrendben rekurzív, azaz az *n* indexű eleme megkapható az *n-2* és *n-1* indexű elemek összegeként. Ezt a két elemet azonban pont olyan módszerrel kell meghatározni, mint az *n* indexű elemet, azaz a függvény meghívhatja saját magát: (ön)rekurzív függvényhívás.\n",
        "\n",
        "Minden hívásnál szükség esetén új \"példányok\" jönnek létre a lokális változókból, ezért egymást nem írják felül, nem lesz gond. Viszont el kell kerülni, hogy a \"végtelenségig\" hívja a függvény önmagát!"
      ],
      "metadata": {
        "id": "V0nIAxkoIU6-"
      }
    },
    {
      "cell_type": "code",
      "source": [
        "def rekFibonacci(n):\n",
        "  if n==0 or n==1:\n",
        "    return n\n",
        "  return rekFibonacci(n-2) + rekFibonacci(n-1)\n",
        "\n",
        "print(fibonacci(0))\n",
        "print(fibonacci(1))\n",
        "print(fibonacci(2))\n",
        "print(fibonacci(3))\n",
        "print(fibonacci(4))\n",
        "print(fibonacci(5))"
      ],
      "metadata": {
        "colab": {
          "base_uri": "https://localhost:8080/"
        },
        "id": "YDjHMn4oI7S5",
        "outputId": "cc4c9f23-fcd8-4638-fbc9-50630f7a98ff"
      },
      "execution_count": null,
      "outputs": [
        {
          "output_type": "stream",
          "name": "stdout",
          "text": [
            "0\n",
            "1\n",
            "1\n",
            "2\n",
            "3\n",
            "5\n"
          ]
        }
      ]
    },
    {
      "cell_type": "markdown",
      "source": [
        "A függvények értékül adhatók változóknak, tulajdonképpen új név adható a függvényeknek."
      ],
      "metadata": {
        "id": "1srbOOacKAEv"
      }
    },
    {
      "cell_type": "code",
      "source": [
        "def osszead(a, b):\n",
        "  return a+b\n",
        "\n",
        "def szoroz(a, b):\n",
        "  return a*b\n",
        "\n",
        "muvelet = osszead\n",
        "print(muvelet(2, 3))\n",
        "\n",
        "muvelet = szoroz\n",
        "print(muvelet(2, 3))"
      ],
      "metadata": {
        "colab": {
          "base_uri": "https://localhost:8080/"
        },
        "id": "DXHQ6bTdJv9O",
        "outputId": "f1c4f098-e200-4828-ab79-4cf118cf4008"
      },
      "execution_count": null,
      "outputs": [
        {
          "output_type": "stream",
          "name": "stdout",
          "text": [
            "5\n",
            "6\n"
          ]
        }
      ]
    },
    {
      "cell_type": "markdown",
      "source": [
        "Függvények egymásba is ágyazhatók (nested functions), ha bizonyos részfunkciók elvégzésének módja nem tartozik a külvilágra:"
      ],
      "metadata": {
        "id": "OMKNa2s9LGJT"
      }
    },
    {
      "cell_type": "code",
      "source": [
        "def muvelet(a, op, b):\n",
        "  def osszead(a, b):\n",
        "    return a+b\n",
        "\n",
        "  def kivon(a, b):\n",
        "    return a-b\n",
        "\n",
        "  def szoroz(a, b):\n",
        "    return a*b\n",
        "\n",
        "  def oszt(a, b):\n",
        "    return a/b\n",
        "\n",
        "  muveletek = {\n",
        "      '+' : osszead,\n",
        "      '-' : kivon,\n",
        "      '*' : szoroz,\n",
        "      '/' : oszt\n",
        "  }\n",
        "\n",
        "  return muveletek[op](a, b)\n",
        "\n",
        "print(muvelet(2, '+', 3))\n",
        "print(muvelet(2, '-', 3))\n",
        "print(muvelet(2, '*', 3))\n",
        "print(muvelet(2, '/', 3))"
      ],
      "metadata": {
        "colab": {
          "base_uri": "https://localhost:8080/"
        },
        "id": "b6SQWy1yKRU9",
        "outputId": "ed342302-c924-4087-b621-66162029c225"
      },
      "execution_count": null,
      "outputs": [
        {
          "output_type": "stream",
          "name": "stdout",
          "text": [
            "5\n",
            "-1\n",
            "6\n",
            "0.6666666666666666\n"
          ]
        }
      ]
    },
    {
      "cell_type": "markdown",
      "source": [
        "Zárványok: a visszadott belső függvény \"emlékszik\" arra a környezetre, amiben létrehozták, azaz ebben az esetben a *kitevo* változó értékére, ezért hívásakor már elég csak az alapot megadni.\n",
        "\n",
        "Ha van egy változónk, amit nem akarunk minden hívásnál újra és újra átadni, de a globális változók használatát is el szeretnénk kerülni, jól jön ez a lehetőség."
      ],
      "metadata": {
        "id": "5CGs7d-FM5u-"
      }
    },
    {
      "cell_type": "code",
      "source": [
        "def hatvany(kitevo):\n",
        "  def belso(alap):\n",
        "    return alap**kitevo\n",
        "  return belso\n",
        "\n",
        "negyzet = hatvany(2)\n",
        "kob = hatvany(3)\n",
        "print(negyzet(3))\n",
        "print(kob(3))"
      ],
      "metadata": {
        "colab": {
          "base_uri": "https://localhost:8080/"
        },
        "id": "Pst4X4EXLpVz",
        "outputId": "24ac56e1-2c7d-47c3-ad59-3bf5471d0fb2"
      },
      "execution_count": null,
      "outputs": [
        {
          "output_type": "stream",
          "name": "stdout",
          "text": [
            "9\n",
            "27\n"
          ]
        }
      ]
    },
    {
      "cell_type": "markdown",
      "source": [
        "## Függvények dokumentálása\n",
        "[Type hinting](https://peps.python.org/pep-0484/): megadható a függvények paramétereinek elvárt típusa és a visszatérési érték típusa is:"
      ],
      "metadata": {
        "id": "DiKhVl_sq0vf"
      }
    },
    {
      "cell_type": "code",
      "source": [
        "def fibonacci(n: int) -> int:\n",
        "  a = 0\n",
        "  b = 1\n",
        "  for i in range(n):\n",
        "    a, b = b, a+b\n",
        "  return a\n",
        "\n",
        "print(fibonacci(4))"
      ],
      "metadata": {
        "colab": {
          "base_uri": "https://localhost:8080/"
        },
        "id": "bKnBVOq8WQeQ",
        "outputId": "15473504-c38f-4a4a-d5b0-3204d79630f5"
      },
      "execution_count": null,
      "outputs": [
        {
          "output_type": "stream",
          "name": "stdout",
          "text": [
            "3\n"
          ]
        }
      ]
    },
    {
      "cell_type": "markdown",
      "source": [
        "Docstring: minden beépített függvény, objektum rendelkezik egy rövid ismertetővel, amit a *help()* függvénnyel olvashatunk, pl.:"
      ],
      "metadata": {
        "id": "QcUx3va6ZttH"
      }
    },
    {
      "cell_type": "code",
      "source": [
        "help(min)"
      ],
      "metadata": {
        "colab": {
          "base_uri": "https://localhost:8080/"
        },
        "id": "7dx-YtxKZ6Mk",
        "outputId": "ca8737af-1ec5-4f09-a894-0c23dc17acd0"
      },
      "execution_count": null,
      "outputs": [
        {
          "output_type": "stream",
          "name": "stdout",
          "text": [
            "Help on built-in function min in module builtins:\n",
            "\n",
            "min(...)\n",
            "    min(iterable, *[, default=obj, key=func]) -> value\n",
            "    min(arg1, arg2, *args, *[, key=func]) -> value\n",
            "    \n",
            "    With a single iterable argument, return its smallest item. The\n",
            "    default keyword-only argument specifies an object to return if\n",
            "    the provided iterable is empty.\n",
            "    With two or more arguments, return the smallest argument.\n",
            "\n"
          ]
        }
      ]
    },
    {
      "cell_type": "markdown",
      "source": [
        "Hasonló dokumentációt mi is könnyen beépíthetünk saját függvényeinkbe. A szokásos elvárásokat a [PEP 257](https://peps.python.org/pep-0257/) rögzíti:\n",
        "- tripla idézőjelek közé kell tenni,\n",
        "- egy sor ne legyen 72 karakternél hosszabb,\n",
        "- legalább az egy soros összefoglalóból álljon,\n",
        "- az összefoglalót egy üres sor kövesse,\n",
        "- amit további, részletesebb leírás követhet,\n",
        "- amit ha megadunk, újabb üres sorral illik lezárni.\n",
        "\n",
        "A paraméterezés módját és a visszatérési értéket is szokás dokumentálni. Ennek több változata, stílusa is kialakult ([Google](https://github.com/google/styleguide/blob/gh-pages/pyguide.md#38-comments-and-docstrings), [reStructuredText](https://docutils.sourceforge.io/rst.html), [NumPy/SciPy](https://numpydoc.readthedocs.io/en/latest/format.html), [Epytext](http://epydoc.sourceforge.net/epytext.html)), melyet érdemes következetesen használni. Ez lehetővé teszi különféle dokumentáció generátor szoftverek (pl. [Sphinx](http://www.sphinx-doc.org/en/stable/), [Epydoc](http://epydoc.sourceforge.net/), [Doxygen](https://www.doxygen.nl/manual/docblocks.html)) alkalmazását, illetve a felhasználók számára ismerősnek, könnyen értelmezhetőnek tűnik. Az alábbi példa a NumPy/SciPy stílust követi.\n",
        "\n",
        "Az általunk készített fájlok elején is szokás dokumentációt elhelyezni, leírva benne a szkript feladatát, használatának módját, feltételeit, az elérhető függvények listáját és azok céljának vázlatos megadását."
      ],
      "metadata": {
        "id": "Q2DPaI6daB58"
      }
    },
    {
      "cell_type": "code",
      "source": [
        "def fibonacci(n: int) -> int:\n",
        "  \"\"\"A Fibonacci-sorozat elemeinek iteratív kiszámítása.\n",
        "  \n",
        "  Parameters\n",
        "  ----------\n",
        "  n : int\n",
        "    A sorozat elemének indexe, nemnegatív egész kell, hogy legyen.\n",
        "    \n",
        "  Returns\n",
        "  -------\n",
        "  int\n",
        "    A sorozat n indexű elemének értéke.\n",
        "  \"\"\"\n",
        "\n",
        "  a = 0\n",
        "  b = 1\n",
        "  for i in range(n):\n",
        "    a, b = b, a+b\n",
        "  return a\n",
        "\n",
        "help(fibonacci)"
      ],
      "metadata": {
        "colab": {
          "base_uri": "https://localhost:8080/"
        },
        "id": "w6LcQvrYaHri",
        "outputId": "d5a9ce10-e2ae-4bd0-a825-24a1990b0e26"
      },
      "execution_count": null,
      "outputs": [
        {
          "output_type": "stream",
          "name": "stdout",
          "text": [
            "Help on function fibonacci in module __main__:\n",
            "\n",
            "fibonacci(n: int) -> int\n",
            "    A Fibonacci-sorozat elemeinek iteratív kiszámítása.\n",
            "    \n",
            "    Parameters\n",
            "    ----------\n",
            "    n : int\n",
            "      A sorozat elemének indexe, nemnegatív egész kell, hogy legyen.\n",
            "      \n",
            "    Returns\n",
            "    -------\n",
            "    int\n",
            "      A sorozat n indexű elemének értéke.\n",
            "\n"
          ]
        }
      ]
    }
  ]
}