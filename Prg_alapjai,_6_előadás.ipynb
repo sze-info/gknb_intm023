{
  "nbformat": 4,
  "nbformat_minor": 0,
  "metadata": {
    "colab": {
      "provenance": []
    },
    "kernelspec": {
      "name": "python3",
      "display_name": "Python 3"
    },
    "language_info": {
      "name": "python"
    }
  },
  "cells": [
    {
      "cell_type": "markdown",
      "source": [
        "# Függvények\n",
        "[Ellipszis](https://hu.wikipedia.org/wiki/Ellipszis_(g%C3%B6rbe)) rajzolása (emlékeztető)"
      ],
      "metadata": {
        "id": "_K5MBLoOY9K9"
      }
    },
    {
      "cell_type": "code",
      "execution_count": null,
      "metadata": {
        "colab": {
          "base_uri": "https://localhost:8080/"
        },
        "id": "LjsiCzRQVAou",
        "outputId": "da2f7736-bc83-45ce-fd00-3cc4e4f25d13"
      },
      "outputs": [
        {
          "output_type": "stream",
          "name": "stdout",
          "text": [
            "               *               \n",
            "        ***************        \n",
            "      *******************      \n",
            "    ***********************    \n",
            "   *************************   \n",
            "  ***************************  \n",
            " ***************************** \n",
            " ***************************** \n",
            "*******************************\n",
            " ***************************** \n",
            " ***************************** \n",
            "  ***************************  \n",
            "   *************************   \n",
            "    ***********************    \n",
            "      *******************      \n",
            "        ***************        \n",
            "               *               \n"
          ]
        }
      ],
      "source": [
        "RS = 8\n",
        "RO = 15\n",
        "s = -RS\n",
        "while s <= RS:\n",
        "  o = -RO\n",
        "  while o <= RO:\n",
        "    if s**2/RS**2 + o**2/RO**2 <= 1:\n",
        "      print('*', end='')\n",
        "    else:\n",
        "      print(' ', end='')\n",
        "    o += 1\n",
        "  print()\n",
        "  s += 1"
      ]
    },
    {
      "cell_type": "markdown",
      "source": [
        "Ha két ellipszist is szeretnék rajzolni, akkor már ismételnem kell a kódot:"
      ],
      "metadata": {
        "id": "NvjOj4uvZ8N7"
      }
    },
    {
      "cell_type": "code",
      "source": [
        "RS = 8\n",
        "RO = 15\n",
        "s = -RS\n",
        "while s <= RS:\n",
        "  o = -RO\n",
        "  while o <= RO:\n",
        "    if s**2/RS**2 + o**2/RO**2 <= 1:\n",
        "      print('*', end='')\n",
        "    else:\n",
        "      print(' ', end='')\n",
        "    o += 1\n",
        "  print()\n",
        "  s += 1\n",
        "\n",
        "RS = 4\n",
        "RO = 8\n",
        "s = -RS\n",
        "while s <= RS:\n",
        "  o = -RO\n",
        "  while o <= RO:\n",
        "    if s**2/RS**2 + o**2/RO**2 <= 1:\n",
        "      print('*', end='')\n",
        "    else:\n",
        "      print(' ', end='')\n",
        "    o += 1\n",
        "  print()\n",
        "  s += 1"
      ],
      "metadata": {
        "colab": {
          "base_uri": "https://localhost:8080/"
        },
        "id": "xOm4_cyXaEX8",
        "outputId": "9f66d073-06e4-4858-97c6-70bfbb180c6f"
      },
      "execution_count": null,
      "outputs": [
        {
          "output_type": "stream",
          "name": "stdout",
          "text": [
            "               *               \n",
            "        ***************        \n",
            "      *******************      \n",
            "    ***********************    \n",
            "   *************************   \n",
            "  ***************************  \n",
            " ***************************** \n",
            " ***************************** \n",
            "*******************************\n",
            " ***************************** \n",
            " ***************************** \n",
            "  ***************************  \n",
            "   *************************   \n",
            "    ***********************    \n",
            "      *******************      \n",
            "        ***************        \n",
            "               *               \n",
            "        *        \n",
            "   ***********   \n",
            "  *************  \n",
            " *************** \n",
            "*****************\n",
            " *************** \n",
            "  *************  \n",
            "   ***********   \n",
            "        *        \n"
          ]
        }
      ]
    },
    {
      "cell_type": "markdown",
      "source": [
        "Ez nem szép:\n",
        "- nagyon hosszú a kód, feleslegesen töltöm vele a gép memóriáját\n",
        "- ha kiderül, hogy hibás, minden ismételt előfordulását javítani kell\n",
        "\n",
        "A függvény adatok és utasítások elnevezett egysége, melynek működése paraméterezéssel módosítható, értéket tud szolgáltatni, és/vagy *mellékhatásokat* tud kiváltani (pl. nyomtat a képernyőre).\n",
        "\n",
        "Segít a programunkat kisebb egységekre bontani, modularizálni. Ezáltal az könnyebben áttekinthetővé, érthetővé válik, és még mérete is csökkenhet.\n",
        "\n",
        "Függvények segítségével ugyanis megtehetjük, hogy a programrészletet csak egyszer írjuk meg, és többször felhasználjuk (meghívjuk). Ráadásul a függvény működése paraméterezhető is, azaz könnyen lehet pl. eltérő méretű ellipsziseket rajzolni.\n",
        "\n",
        "Függvény definiálása: *def* kulcsszóval, kerek zárójelpárba kerülnek a paraméterek:\n",
        "- A függvény definíciójában szereplő paraméterek a *formális paraméterek* (parameters). Ezekkel úgy dolgozhatunk a függvényen belül, mint bármelyik változóval.\n",
        "- A függvény hívásánál szereplők pedig az *aktuális paraméterek* (arguments, args).\n",
        "\n",
        "A formális és aktuális paraméterek neveinek nem *kell* egyezni, sőt, az aktuális paraméterek sokszor eleve nem is változók (konstansok/literálok), nincs nevük."
      ],
      "metadata": {
        "id": "xh9EVgkoaS-Z"
      }
    },
    {
      "cell_type": "code",
      "source": [
        "def ellipszis(rs, ro): # függvény definíciója: def kulcsszó, egyedi azonosító (a függvény neve), formális paraméterlista\n",
        "  s = -rs              # Itt kezdődik az adatok és műveletek sorozata, azaz a függvény teste\n",
        "  while s <= rs:\n",
        "    o = -ro\n",
        "    while o <= ro:\n",
        "      if s**2/rs**2 + o**2/ro**2 <= 1:\n",
        "        print('*', end='')\n",
        "      else:\n",
        "        print(' ', end='')\n",
        "      o += 1\n",
        "    print()\n",
        "    s += 1\n",
        "\n",
        "ellipszis(8, 15) # függvény első hívása\n",
        "ellipszis(4, 8)  # függvény második hívása"
      ],
      "metadata": {
        "colab": {
          "base_uri": "https://localhost:8080/"
        },
        "id": "URMBEjKTajuH",
        "outputId": "dc8368de-9536-435b-ffc1-3b1f7342a36a"
      },
      "execution_count": null,
      "outputs": [
        {
          "output_type": "stream",
          "name": "stdout",
          "text": [
            "               *               \n",
            "        ***************        \n",
            "      *******************      \n",
            "    ***********************    \n",
            "   *************************   \n",
            "  ***************************  \n",
            " ***************************** \n",
            " ***************************** \n",
            "*******************************\n",
            " ***************************** \n",
            " ***************************** \n",
            "  ***************************  \n",
            "   *************************   \n",
            "    ***********************    \n",
            "      *******************      \n",
            "        ***************        \n",
            "               *               \n",
            "        *        \n",
            "   ***********   \n",
            "  *************  \n",
            " *************** \n",
            "*****************\n",
            " *************** \n",
            "  *************  \n",
            "   ***********   \n",
            "        *        \n"
          ]
        }
      ]
    },
    {
      "cell_type": "markdown",
      "source": [
        "Egy függvény célja nem csak az lehet, hogy mellékhatást generáljon, hanem az is, hogy értéket állítson elő. Pl. egy téglalap két oldalhosszának ismeretében megadhatja a kerületét:"
      ],
      "metadata": {
        "id": "GZZFsDzFjV3e"
      }
    },
    {
      "cell_type": "code",
      "source": [
        "def teglalapKerulet(a, b):\n",
        "  return 2 * (a + b)\n",
        "\n",
        "print(teglalapKerulet(2, 3))\n",
        "print(teglalapKerulet(2.5, 4))"
      ],
      "metadata": {
        "colab": {
          "base_uri": "https://localhost:8080/"
        },
        "id": "j_Wq1xhjjqff",
        "outputId": "83318f20-0e3b-4ec8-89f0-f9599da70016"
      },
      "execution_count": null,
      "outputs": [
        {
          "output_type": "stream",
          "name": "stdout",
          "text": [
            "10\n",
            "13.0\n"
          ]
        }
      ]
    },
    {
      "cell_type": "markdown",
      "source": [
        "A visszatérési értéket a *return* kulcsszót követő kifejezés határozza meg. A return egyúttal véget vet a függvény futásának is, visszaadja a vezérlést a függvény hívójának. Több return is szerepelhet egy függvényben.\n",
        "\n",
        "Feladat: állapítsuk meg egy karakterláncról, hogy formailag Neptun kódnak tekinthető-e! (6 karakter hosszú, csak alfanumerikus jelekből állhat.)"
      ],
      "metadata": {
        "id": "6j79MUaYj-eC"
      }
    },
    {
      "cell_type": "code",
      "source": [
        "def isNeptun(kod):\n",
        "  if len(kod) != 6:\n",
        "    return False\n",
        "  for betu in kod:\n",
        "    if not (betu.isdigit() or betu.isalpha()):\n",
        "      return False\n",
        "  return True\n",
        "\n",
        "print(isNeptun('Abc123'))\n",
        "print(isNeptun('1a'))\n",
        "print(isNeptun('1a2b3c4d'))\n",
        "print(isNeptun('1a+!3c'))"
      ],
      "metadata": {
        "colab": {
          "base_uri": "https://localhost:8080/"
        },
        "id": "GFsmIBjek3l6",
        "outputId": "399cf77e-18c6-420a-8f7c-636f69aa253f"
      },
      "execution_count": null,
      "outputs": [
        {
          "output_type": "stream",
          "name": "stdout",
          "text": [
            "True\n",
            "False\n",
            "False\n",
            "False\n"
          ]
        }
      ]
    },
    {
      "cell_type": "markdown",
      "source": [
        "Feladat: rendezzünk ABC sorrendbe szavakat, de úgy, hogy a kis- és nagybetűket nem különböztetjük meg. Látható, hogy a sort() önmagában nem képes megoldani ezt a feladatot."
      ],
      "metadata": {
        "id": "k1k3Q46ny9m-"
      }
    },
    {
      "cell_type": "code",
      "source": [
        "betuk = ['alfa', 'BETA', 'gamma', 'DELTA', 'EPSZILON', 'dzeta']\n",
        "betuk.sort()\n",
        "print('A betűk rendezés után:', betuk)"
      ],
      "metadata": {
        "colab": {
          "base_uri": "https://localhost:8080/"
        },
        "id": "zxWemmTeqoAv",
        "outputId": "e996a2be-37b5-4bea-ffff-1c95e9295b3a"
      },
      "execution_count": null,
      "outputs": [
        {
          "output_type": "stream",
          "name": "stdout",
          "text": [
            "A betűk rendezés után: ['BETA', 'DELTA', 'EPSZILON', 'alfa', 'dzeta', 'gamma']\n"
          ]
        }
      ]
    },
    {
      "cell_type": "markdown",
      "source": [
        "Átadható neki viszont egy key (kulcs) függvény, ami a rendezendő adat felhasználásával visszaad egy kulcs értéket, és a sort() a kulcs értékét használva fogja elvégezni a rendezést az eredeti adat helyett. Vagyis, ha ugyanazt a kulcsot állítjuk elő a kis- és nagybetűs alakokból is, akkor ilyen szempontból nem lesz különbség téve a szavak között."
      ],
      "metadata": {
        "id": "WOF-IdT-zSUx"
      }
    },
    {
      "cell_type": "code",
      "source": [
        "def nincsKulonbseg(szo):\n",
        "  return szo.lower()\n",
        "\n",
        "betuk = ['alfa', 'BETA', 'gamma', 'DELTA', 'EPSZILON', 'dzeta']\n",
        "betuk.sort(key = nincsKulonbseg)\n",
        "print('A betűk rendezés után:', betuk)"
      ],
      "metadata": {
        "colab": {
          "base_uri": "https://localhost:8080/"
        },
        "id": "LwzHW3ecrBdK",
        "outputId": "691b6b85-495f-4714-b040-f8e892a027d1"
      },
      "execution_count": null,
      "outputs": [
        {
          "output_type": "stream",
          "name": "stdout",
          "text": [
            "A betűk rendezés után: ['alfa', 'BETA', 'DELTA', 'dzeta', 'EPSZILON', 'gamma']\n"
          ]
        }
      ]
    },
    {
      "cell_type": "markdown",
      "source": [
        "Más nyelvekben a saját szempont alapján történő rendezés általában egy összehasonlító függvény megadásával történik, ami két paraméterét egymáshoz hasonlítja, és\n",
        "1. ha az első előrébb van a sorrendben, mint a második, akkor negítív,\n",
        "1. ha az első hátrébb van a sorrendben, mint a második, akkor pozitív,\n",
        "1. egyébként 0 értéket ad vissza.\n",
        "\n",
        "Ebben az esetben tehát nincs szükség rá, hogy az adatoknak ismert abszolút pozíciójuk legyen, ami bizonyos esetekben megkönnyíti a sorrend felállítását. A két módszer közti átalakítást legkönnyebben a functools modul *cmp_to_key()* függvényével végezhetjük el.\n",
        "\n"
      ],
      "metadata": {
        "id": "74FS7qAhz4c4"
      }
    },
    {
      "cell_type": "code",
      "source": [
        "import functools as ft\n",
        "\n",
        "def hasonlit(a, b):\n",
        "  a = a.lower()\n",
        "  b = b.lower()\n",
        "  if a < b:\n",
        "    return -1\n",
        "  elif a > b:\n",
        "    return 1\n",
        "  else:\n",
        "    return 0\n",
        "\n",
        "betuk = ['alfa', 'BETA', 'gamma', 'DELTA', 'EPSZILON', 'dzeta']\n",
        "betuk.sort(key = ft.cmp_to_key(hasonlit))\n",
        "print('A betűk rendezés után:', betuk)"
      ],
      "metadata": {
        "colab": {
          "base_uri": "https://localhost:8080/"
        },
        "id": "sI-KKIuytmje",
        "outputId": "d85646fe-12e2-4e4e-c806-cf0cfa8a876c"
      },
      "execution_count": null,
      "outputs": [
        {
          "output_type": "stream",
          "name": "stdout",
          "text": [
            "A betűk rendezés után: ['alfa', 'BETA', 'DELTA', 'dzeta', 'EPSZILON', 'gamma']\n"
          ]
        }
      ]
    },
    {
      "cell_type": "markdown",
      "source": [
        "A Python arra is képes, hogy egyszerre több értéket adjon vissza egy returnnel."
      ],
      "metadata": {
        "id": "c4V9vOcW5K54"
      }
    },
    {
      "cell_type": "code",
      "source": [
        "def teglalap(a, b):\n",
        "  kerulet = 2 * (a + b)\n",
        "  terulet = a * b\n",
        "  return kerulet, terulet\n",
        "\n",
        "k, t = teglalap(2, 3)\n",
        "print(f'A téglalap kerülete {k}, területe {t}.')"
      ],
      "metadata": {
        "colab": {
          "base_uri": "https://localhost:8080/"
        },
        "id": "uz-fBFGp5QUW",
        "outputId": "7e499d6c-fe37-4f2c-998f-b583b2e0eec0"
      },
      "execution_count": null,
      "outputs": [
        {
          "output_type": "stream",
          "name": "stdout",
          "text": [
            "A téglalap kerülete 10, területe 6.\n"
          ]
        }
      ]
    },
    {
      "cell_type": "markdown",
      "source": [
        "Igazából egy tuple-t ad vissza, majd azt kicsomagolja:\n",
        "\n"
      ],
      "metadata": {
        "id": "Z244Wr3O5s5z"
      }
    },
    {
      "cell_type": "code",
      "source": [
        "eredmeny = teglalap(2, 3)\n",
        "print(eredmeny)\n",
        "print(type(eredmeny))"
      ],
      "metadata": {
        "colab": {
          "base_uri": "https://localhost:8080/"
        },
        "id": "oUDv5IIp5wO-",
        "outputId": "20b43673-bab8-4277-e5df-d3d8d81e9f1a"
      },
      "execution_count": null,
      "outputs": [
        {
          "output_type": "stream",
          "name": "stdout",
          "text": [
            "(10, 6)\n",
            "<class 'tuple'>\n"
          ]
        }
      ]
    },
    {
      "cell_type": "markdown",
      "source": [
        "A függvénynek pontosan annyi aktuális paramétert kell átadni híváskor, mint amennyi a definícióban a formális paraméterek száma."
      ],
      "metadata": {
        "id": "6iAkWpMKexkz"
      }
    },
    {
      "cell_type": "code",
      "source": [
        "ellipszis(3)"
      ],
      "metadata": {
        "colab": {
          "base_uri": "https://localhost:8080/",
          "height": 174
        },
        "id": "2NskBF9jeo-E",
        "outputId": "f8796b8f-e06f-4586-b2fa-abd15b7642c2"
      },
      "execution_count": null,
      "outputs": [
        {
          "output_type": "error",
          "ename": "TypeError",
          "evalue": "ignored",
          "traceback": [
            "\u001b[0;31m---------------------------------------------------------------------------\u001b[0m",
            "\u001b[0;31mTypeError\u001b[0m                                 Traceback (most recent call last)",
            "\u001b[0;32m<ipython-input-8-6d0e6053d93e>\u001b[0m in \u001b[0;36m<module>\u001b[0;34m\u001b[0m\n\u001b[0;32m----> 1\u001b[0;31m \u001b[0mellipszis\u001b[0m\u001b[0;34m(\u001b[0m\u001b[0;36m3\u001b[0m\u001b[0;34m)\u001b[0m\u001b[0;34m\u001b[0m\u001b[0;34m\u001b[0m\u001b[0m\n\u001b[0m",
            "\u001b[0;31mTypeError\u001b[0m: ellipszis() missing 1 required positional argument: 'ro'"
          ]
        }
      ]
    },
    {
      "cell_type": "code",
      "source": [
        "ellipszis(1, 2, 3)"
      ],
      "metadata": {
        "colab": {
          "base_uri": "https://localhost:8080/",
          "height": 174
        },
        "id": "sCfmoX15ets5",
        "outputId": "4c9e5463-34b7-4a84-a45f-93ab88fef25b"
      },
      "execution_count": null,
      "outputs": [
        {
          "output_type": "error",
          "ename": "TypeError",
          "evalue": "ignored",
          "traceback": [
            "\u001b[0;31m---------------------------------------------------------------------------\u001b[0m",
            "\u001b[0;31mTypeError\u001b[0m                                 Traceback (most recent call last)",
            "\u001b[0;32m<ipython-input-9-bf161653b3cf>\u001b[0m in \u001b[0;36m<module>\u001b[0;34m\u001b[0m\n\u001b[0;32m----> 1\u001b[0;31m \u001b[0mellipszis\u001b[0m\u001b[0;34m(\u001b[0m\u001b[0;36m1\u001b[0m\u001b[0;34m,\u001b[0m \u001b[0;36m2\u001b[0m\u001b[0;34m,\u001b[0m \u001b[0;36m3\u001b[0m\u001b[0;34m)\u001b[0m\u001b[0;34m\u001b[0m\u001b[0;34m\u001b[0m\u001b[0m\n\u001b[0m",
            "\u001b[0;31mTypeError\u001b[0m: ellipszis() takes 2 positional arguments but 3 were given"
          ]
        }
      ]
    },
    {
      "cell_type": "markdown",
      "source": [
        "Időnként viszont lehet értelme bizonyos alapértelmezett paraméter értékeknek, pl. ha általános ellipszis helyett speciálisan kört szeretnénk rajzolni, felesleges mindkét irányú sugarat (fél nagytengely, fél kistengely) megadni."
      ],
      "metadata": {
        "id": "c7TvvBJ8iD0R"
      }
    },
    {
      "cell_type": "code",
      "source": [
        "def ellipszis(rs, ro=None): # alapértelmezett érték a None, amit nem lehetne értelmesen használni; innen tudjuk, hogy a két sugár értéke legyen egyforma\n",
        "  ro = rs if ro is None else ro\n",
        "  s = -rs\n",
        "  while s <= rs:\n",
        "    o = -ro\n",
        "    while o <= ro:\n",
        "      if s**2/rs**2 + o**2/ro**2 <= 1:\n",
        "        print('*', end='')\n",
        "      else:\n",
        "        print(' ', end='')\n",
        "      o += 1\n",
        "    print()\n",
        "    s += 1\n",
        "\n",
        "ellipszis(3)\n",
        "ellipszis(3, 5)"
      ],
      "metadata": {
        "id": "ZM0tzyw1fJnq",
        "colab": {
          "base_uri": "https://localhost:8080/"
        },
        "outputId": "b0884d6e-894e-4c93-e000-117bab56f1b9"
      },
      "execution_count": null,
      "outputs": [
        {
          "output_type": "stream",
          "name": "stdout",
          "text": [
            "   *   \n",
            " ***** \n",
            " ***** \n",
            "*******\n",
            " ***** \n",
            " ***** \n",
            "   *   \n",
            "     *     \n",
            "  *******  \n",
            " ********* \n",
            "***********\n",
            " ********* \n",
            "  *******  \n",
            "     *     \n"
          ]
        }
      ]
    },
    {
      "cell_type": "markdown",
      "source": [
        "Időnként nem lehet előre sejteni, hány paraméterre lesz szükség (emlékezzünk a print függvényre). Készítsünk olyan függvényt, ami az összes paraméterének az összegét szolgáltatja! Ilyenkor a formális paraméter elé egy csillagot kell tenni, amitől az tuple típusban fogadja az összes aktuális paramétert (packing)."
      ],
      "metadata": {
        "id": "9yIHfjE2nBgo"
      }
    },
    {
      "cell_type": "code",
      "source": [
        "def osszead(*operandusok):\n",
        "  osszeg = 0\n",
        "  for operandus in operandusok:\n",
        "    osszeg += operandus\n",
        "  return osszeg\n",
        "\n",
        "print(osszead())\n",
        "print(osszead(1, 2, 3))\n",
        "print(osszead(1, 2, 3, 4, 5))"
      ],
      "metadata": {
        "id": "HunpP6sBnRDj",
        "colab": {
          "base_uri": "https://localhost:8080/"
        },
        "outputId": "2caf78dd-97ba-4cca-8a71-27a8c9ddb393"
      },
      "execution_count": null,
      "outputs": [
        {
          "output_type": "stream",
          "name": "stdout",
          "text": [
            "0\n",
            "6\n",
            "15\n"
          ]
        }
      ]
    },
    {
      "cell_type": "markdown",
      "source": [
        "Persze megtehettük volna, hogy a függvény eleve egy listát/tuple-t fogad:"
      ],
      "metadata": {
        "id": "BHoNe7rKtGgz"
      }
    },
    {
      "cell_type": "code",
      "source": [
        "def osszeadLista(operandusok):\n",
        "  osszeg = 0\n",
        "  for operandus in operandusok:\n",
        "    osszeg += operandus\n",
        "  return osszeg\n",
        "\n",
        "print(osszeadLista((1, 2, 3)))        # tuple\n",
        "print(osszeadLista([1, 2, 3, 4, 5]))  # lista\n",
        "\n",
        "*szamok, = 1, 2, 3                    # packing\n",
        "print(osszeadLista(szamok))"
      ],
      "metadata": {
        "id": "vAGXeNzttPja",
        "colab": {
          "base_uri": "https://localhost:8080/"
        },
        "outputId": "b9653317-2f17-4920-e87f-c9670bf54357"
      },
      "execution_count": null,
      "outputs": [
        {
          "output_type": "stream",
          "name": "stdout",
          "text": [
            "6\n",
            "15\n",
            "6\n"
          ]
        }
      ]
    },
    {
      "cell_type": "markdown",
      "source": [
        "Az aktuális paraméterek megadási sorrendjének általában jelentősége van. Nem mindegy pl., hogy a sugarak hosszát milyen sorrendben adjuk meg ellipszis rajzolásakor."
      ],
      "metadata": {
        "id": "2Br-Wm8HoPRv"
      }
    },
    {
      "cell_type": "code",
      "source": [
        "ellipszis(5, 10)\n",
        "ellipszis(10, 5)"
      ],
      "metadata": {
        "id": "9zwwSzmrodcE",
        "colab": {
          "base_uri": "https://localhost:8080/"
        },
        "outputId": "80de6e43-bdc0-47c7-f665-f9733024f7b6"
      },
      "execution_count": null,
      "outputs": [
        {
          "output_type": "stream",
          "name": "stdout",
          "text": [
            "          *          \n",
            "    *************    \n",
            "  *****************  \n",
            " ******************* \n",
            " ******************* \n",
            "*********************\n",
            " ******************* \n",
            " ******************* \n",
            "  *****************  \n",
            "    *************    \n",
            "          *          \n",
            "     *     \n",
            "   *****   \n",
            "  *******  \n",
            "  *******  \n",
            " ********* \n",
            " ********* \n",
            " ********* \n",
            " ********* \n",
            " ********* \n",
            " ********* \n",
            "***********\n",
            " ********* \n",
            " ********* \n",
            " ********* \n",
            " ********* \n",
            " ********* \n",
            " ********* \n",
            "  *******  \n",
            "  *******  \n",
            "   *****   \n",
            "     *     \n"
          ]
        }
      ]
    },
    {
      "cell_type": "markdown",
      "source": [
        "Amikor egy függvény sok paramétert fogad, könnyű összekeverni a paraméterek sorrendjét, de szerencsére erre is van megoldása a Pythonnak: híváskor megadható, hogy melyik értéket melyik formális paraméterhez kívánjuk hozzárendelni (keyword arguments)."
      ],
      "metadata": {
        "id": "FXYvwJVbosbI"
      }
    },
    {
      "cell_type": "code",
      "source": [
        "ellipszis(rs=5, ro=10)\n",
        "ellipszis(ro=10, rs=5)"
      ],
      "metadata": {
        "id": "HWBIIOO2pBqk",
        "colab": {
          "base_uri": "https://localhost:8080/"
        },
        "outputId": "dabf0386-a0e3-4c38-e02e-fe0e72506e95"
      },
      "execution_count": null,
      "outputs": [
        {
          "output_type": "stream",
          "name": "stdout",
          "text": [
            "          *          \n",
            "    *************    \n",
            "  *****************  \n",
            " ******************* \n",
            " ******************* \n",
            "*********************\n",
            " ******************* \n",
            " ******************* \n",
            "  *****************  \n",
            "    *************    \n",
            "          *          \n",
            "          *          \n",
            "    *************    \n",
            "  *****************  \n",
            " ******************* \n",
            " ******************* \n",
            "*********************\n",
            " ******************* \n",
            " ******************* \n",
            "  *****************  \n",
            "    *************    \n",
            "          *          \n"
          ]
        }
      ]
    },
    {
      "cell_type": "markdown",
      "source": [
        "Paraméterek átadási módja: *hozzárendelés* szerint\n",
        "\n",
        "Feladat: írjunk olyan függvényt, ami felcseréli két változó értékét!"
      ],
      "metadata": {
        "id": "IZXqd4Bs2__o"
      }
    },
    {
      "cell_type": "code",
      "source": [
        "x = 2\n",
        "y = 5\n",
        "\n",
        "def csere(a, b):\n",
        "  a, b = b, a\n",
        "\n",
        "csere(x, y)\n",
        "print(f'x={x}, y={y}') # Hoppá!"
      ],
      "metadata": {
        "id": "gizIrd3XqAFY",
        "colab": {
          "base_uri": "https://localhost:8080/"
        },
        "outputId": "8779bdd0-fc9c-4c84-c69e-75db3054aec9"
      },
      "execution_count": null,
      "outputs": [
        {
          "output_type": "stream",
          "name": "stdout",
          "text": [
            "x=2, y=5\n"
          ]
        }
      ]
    },
    {
      "cell_type": "markdown",
      "source": [
        "Mi történik a háttérben?"
      ],
      "metadata": {
        "id": "an0suO3M3LyP"
      }
    },
    {
      "cell_type": "code",
      "source": [
        "x = 2\n",
        "y = 5\n",
        "\n",
        "def csere(a, b):\n",
        "  print(f'a címe: {id(a)}, b címe: {id(b)}')\n",
        "  a, b = b, a\n",
        "  print(f'a címe: {id(a)}, b címe: {id(b)}')\n",
        "\n",
        "print(f'x címe: {id(x)}, y címe: {id(y)}')\n",
        "csere(x, y)\n",
        "print(f'x címe: {id(x)}, y címe: {id(y)}')\n",
        "print(f'x={x}, y={y}')"
      ],
      "metadata": {
        "id": "Ky02Mx7A3ODV",
        "colab": {
          "base_uri": "https://localhost:8080/"
        },
        "outputId": "6857b0d1-f26f-4cde-ad94-3a749fc58e2c"
      },
      "execution_count": null,
      "outputs": [
        {
          "output_type": "stream",
          "name": "stdout",
          "text": [
            "x címe: 11126720, y címe: 11126816\n",
            "a címe: 11126720, b címe: 11126816\n",
            "a címe: 11126816, b címe: 11126720\n",
            "x címe: 11126720, y címe: 11126816\n",
            "x=2, y=5\n"
          ]
        }
      ]
    },
    {
      "cell_type": "markdown",
      "source": [
        "1)\n",
        "> x --> 2\n",
        "\n",
        "> y --> 5\n",
        "\n",
        "2)\n",
        "> x --> 2 <-- a\n",
        "\n",
        "> y --> 5 <-- b\n",
        "\n",
        "3)\n",
        "> x --> 2 <-- b\n",
        "\n",
        "> y --> 5 <-- a\n",
        "\n",
        "4)\n",
        "> x --> 2\n",
        "\n",
        "> y --> 5"
      ],
      "metadata": {
        "id": "-us7tbL0Cy8P"
      }
    },
    {
      "cell_type": "code",
      "source": [
        "x = 2\n",
        "\n",
        "def kob(a):\n",
        "  print(f'a címe: {id(a)}')\n",
        "  a = a**3\n",
        "  print(f'a címe: {id(a)}')\n",
        "\n",
        "print(f'x címe: {id(x)}')\n",
        "kob(x)\n",
        "print(f'x címe: {id(x)}')\n",
        "print(x)"
      ],
      "metadata": {
        "id": "EsZG5AZR4F9n",
        "colab": {
          "base_uri": "https://localhost:8080/"
        },
        "outputId": "393f849a-d72f-4854-f0f1-28aa9b8aa28f"
      },
      "execution_count": null,
      "outputs": [
        {
          "output_type": "stream",
          "name": "stdout",
          "text": [
            "x címe: 11126720\n",
            "a címe: 11126720\n",
            "a címe: 11126912\n",
            "x címe: 11126720\n",
            "2\n"
          ]
        }
      ]
    },
    {
      "cell_type": "markdown",
      "source": [
        "1)\n",
        "> x --> 2\n",
        "\n",
        "2)\n",
        "> x --> 2 <-- a\n",
        "\n",
        "3)\n",
        "> x --> 2\n",
        "\n",
        "> a --> 8\n",
        "\n",
        "4)\n",
        "> x --> 2"
      ],
      "metadata": {
        "id": "VMaENeK0Dzb-"
      }
    },
    {
      "cell_type": "markdown",
      "source": [
        "Csábítónak tűnik, hogy paraméterek helyett a főprogramban definiált változókkal dolgozzanak a függvények, ha a paraméterekkel ennyi baj van.\n",
        "\n",
        "Melyek a függvényre nézve globális (rajta kívül definiált) és lokális (benne definiált) változók?"
      ],
      "metadata": {
        "id": "FtjQLd-KEwxm"
      }
    },
    {
      "cell_type": "code",
      "source": [
        "x = 2\n",
        "\n",
        "def kob(a):\n",
        "  a = a**3\n",
        "  print(f'Lokális változók: {locals()}')\n",
        "\n",
        "print(f'Globális változók: {globals()}')\n",
        "kob(x)\n",
        "print(x)"
      ],
      "metadata": {
        "id": "0SjI_uuUEVrC",
        "colab": {
          "base_uri": "https://localhost:8080/"
        },
        "outputId": "80a81d1a-4db9-4667-c891-d2d7827bd28c"
      },
      "execution_count": null,
      "outputs": [
        {
          "output_type": "stream",
          "name": "stdout",
          "text": [
            "Globális változók: {'__name__': '__main__', '__doc__': 'Automatically created module for IPython interactive environment', '__package__': None, '__loader__': None, '__spec__': None, '__builtin__': <module 'builtins' (built-in)>, '__builtins__': <module 'builtins' (built-in)>, '_ih': ['', 'from typing import Callable\\n\\ndef f(x: float) -> float:\\n  return x**2.\\n\\n# https://docs.python.org/3/library/typing.html#callable\\ndef integralKozelites(f: Callable[[float], float], a: float, b: float) -> float:\\n  EPS = 1e-6\\n  if a > b:\\n    a, b = b, a\\n  y0 = f(a)\\n  yn = f(b)\\n  terulet = (b-a) * (y0+yn)/2.\\n  n = 2\\n  while True:\\n    elozo = terulet\\n    hossz = (b-a) / n\\n    terulet = (y0+yn) / 2.\\n    for i in range(1, n):\\n      terulet += f(a+i*hossz)\\n    terulet = terulet * hossz\\n    n *= 2\\n    if abs(terulet - elozo) < EPS:\\n      break\\n  return terulet\\n\\nprint(f\"{integralKozelites(f, 0, 1):.6f}\")', \"import math\\nfrom typing import Callable\\n\\nEPSZILON = 1e-6\\n\\ndef my_cos(x: float) -> float:\\n  szamlalo = 1\\n  k = 0\\n  nevezo = 1\\n  elojel = 1\\n  tag = 1\\n  osszeg = tag\\n  while(abs(tag) > EPSZILON):\\n    szamlalo *= x*x\\n    k += 2\\n    nevezo *= (k-1)*k\\n    elojel *= -1\\n    tag = elojel * szamlalo / nevezo\\n    osszeg += tag\\n  return osszeg\\n\\ndef Fx(x: float) -> float:\\n  return my_cos(x/2.)\\ndef dFx(x: float) -> float:\\n  return -math.sin(x/2.)\\n  \\ndef Erinto(Fx: Callable[[float], float], dFx: Callable[[float], float], x0: float) -> float:\\n\\tx1 = x0 - Fx(x0)/dFx(x0)\\n\\twhile abs(x1-x0) > EPSZILON:\\n    x0, x1 = x1, x0 - Fx(x0)/dFx(x0)\\n\\treturn x1\\n\\nprint('\\\\N{Greek Small Letter Pi} \\\\N{Almost Equal To}', Erinto(Fx, dFx, 4.), f'vs. {math.pi}')\", \"import math\\nfrom typing import Callable\\n\\nEPSZILON = 1e-6\\n\\ndef my_cos(x: float) -> float:\\n  szamlalo = 1\\n  k = 0\\n  nevezo = 1\\n  elojel = 1\\n  tag = 1\\n  osszeg = tag\\n  while(abs(tag) > EPSZILON):\\n    szamlalo *= x*x\\n    k += 2\\n    nevezo *= (k-1)*k\\n    elojel *= -1\\n    tag = elojel * szamlalo / nevezo\\n    osszeg += tag\\n  return osszeg\\n\\ndef Fx(x: float) -> float:\\n  return my_cos(x/2.)\\ndef dFx(x: float) -> float:\\n  return -math.sin(x/2.)\\n  \\ndef Erinto(Fx: Callable[[float], float], dFx: Callable[[float], float], x0: float) -> float:\\n  x1 = x0 - Fx(x0)/dFx(x0)\\n  while abs(x1-x0) > EPSZILON:\\n    x0, x1 = x1, x0 - Fx(x0)/dFx(x0)\\n  return x1\\n\\nprint('\\\\N{Greek Small Letter Pi} \\\\N{Almost Equal To}', Erinto(Fx, dFx, 4.), f'vs. {math.pi}')\", \"import math\\nfrom typing import Callable\\n\\nEPSZILON = 1e-6\\n\\ndef my_cos(x: float) -> float:\\n  szamlalo = 1\\n  k = 0\\n  nevezo = 1\\n  elojel = 1\\n  tag = 1\\n  osszeg = tag\\n  while(abs(tag) > EPSZILON):\\n    szamlalo *= x*x\\n    k += 2\\n    nevezo *= (k-1)*k\\n    elojel *= -1\\n    tag = elojel * szamlalo / nevezo\\n    osszeg += tag\\n  return osszeg\\n\\ndef Fx(x: float) -> float:\\n  return my_cos(x/2.)\\ndef dFx(x: float) -> float:\\n  return -math.sin(x/2.)\\n  \\ndef Erinto(Fx: Callable[[float], float], dFx: Callable[[float], float], x0: float) -> float:\\n  x1 = x0 - Fx(x0)/dFx(x0)\\n  while abs(x1-x0) > EPSZILON:\\n    x0, x1 = x1, x0 - Fx(x0)/dFx(x0)\\n  return x1\\n\\nprint('\\\\N{Greek Small Letter Pi} \\\\N{Almost Equal To}', Erinto(Fx, dFx, 4.), f'vs. {math.pi}')\", \"import math\\nfrom typing import Callable\\n\\nEPSZILON = 1e-6\\n\\ndef my_cos(x: float) -> float:\\n  szamlalo = 1\\n  k = 0\\n  nevezo = 1\\n  elojel = 1\\n  tag = 1\\n  osszeg = tag\\n  while(abs(tag) > EPSZILON):\\n    szamlalo *= x*x\\n    k += 2\\n    nevezo *= (k-1)*k\\n    elojel *= -1\\n    tag = elojel * szamlalo / nevezo\\n    osszeg += tag\\n  return osszeg\\n\\ndef Fx(x: float) -> float:\\n  return my_cos(x/2.)\\ndef dFx(x: float) -> float:\\n  return -math.sin(x/2.)\\n  \\ndef Erinto(Fx: Callable[[float], float], dFx: Callable[[float], float], x0: float) -> float:\\n  x1 = x0 - Fx(x0)/dFx(x0)\\n  while abs(x1-x0) > EPSZILON:\\n    x0, x1 = x1, x1 - Fx(x0)/dFx(x0)\\n  return x1\\n\\nprint('\\\\N{Greek Small Letter Pi} \\\\N{Almost Equal To}', Erinto(Fx, dFx, 4.), f'vs. {math.pi}')\", \"import math\\nfrom typing import Callable\\n\\nEPSZILON = 1e-6\\n\\ndef my_cos(x: float) -> float:\\n  szamlalo = 1\\n  k = 0\\n  nevezo = 1\\n  elojel = 1\\n  tag = 1\\n  osszeg = tag\\n  while(abs(tag) > EPSZILON):\\n    szamlalo *= x*x\\n    k += 2\\n    nevezo *= (k-1)*k\\n    elojel *= -1\\n    tag = elojel * szamlalo / nevezo\\n    osszeg += tag\\n  return osszeg\\n\\ndef Fx(x: float) -> float:\\n  return my_cos(x/2.)\\ndef dFx(x: float) -> float:\\n  return -math.sin(x/2.)\\n  \\ndef Erinto(Fx: Callable[[float], float], dFx: Callable[[float], float], x0: float) -> float:\\n  x1 = x0 - Fx(x0)/dFx(x0)\\n  while abs(x1-x0) > EPSZILON:\\n    x0, x1 = x1, x1 - Fx(x0)/dFx(x0)\\n  return x1\\n\\nprint(f'\\\\N{Greek Small Letter Pi} \\\\N{Almost Equal To} {Erinto(Fx, dFx, 4.)} vs. {math.pi}')\", 'import math\\n\\nclass Koordinata:\\n  def __init__(self, x : float, y : float) -> None:\\n    self.x = x\\n    self.y = y\\n\\nclass Poligon:\\n  def __init__(self) -> None:\\n    self.pontok = [] # A Koordinata osztály több példányát fogjuk tárolni itt\\n  def hozzaad(self, pont: Koordinata) -> None:\\n    self.pontok.append(pont)\\n  def szakasz(self, a: Koordinata, b: Koordinata) -> float: # Egy szakasz hossza\\n    return math.sqrt((a.x-b.x)**2 + (a.y-b.y)**2)\\n  def kerulet(self) -> float:\\n    if len(self.pontok) == 0:\\n      return 0.\\n    kerulet = 0.\\n    elozo = self.pontok[0]\\n    for i in range(1, len(self.pontok)):\\n      akt = self.pontok[i]\\n      kerulet += self.szakasz(elozo, akt) # A kerület a szakaszok hosszának összege\\n      elozo = akt\\n    return kerulet + self.szakasz(elozo, self.pontok[0])\\n\\np1 = Poligon()\\np1.hozzaad(Koordinata(0, 0))\\np1.hozzaad(Koordinata(2, 0))\\np1.hozzaad(Koordinata(2, 2))\\np1.hozzaad(Koordinata(0, 2))\\nprint(\"A poligon kerülete: \", p1.kerulet())\\n\\np2 = Poligon()\\np2.hozzaad(Koordinata(1, 1))\\nprint(\"A poligon kerülete: \", p2.kerulet())\\n\\np3 = Poligon()\\nprint(\"A poligon kerülete: \", p3.kerulet())', \"def ellipszis(rs, ro=None): # alapértelmezett érték a None, amit nem lehetne értelmesen használni; innen tudjuk, hogy a két sugár értéke legyen egyforma\\n  ro = rs if ro is None else ro\\n  s = -rs\\n  while s <= rs:\\n    o = -ro\\n    while o <= ro:\\n      if s**2/rs**2 + o**2/ro**2 <= 1:\\n        print('*', end='')\\n      else:\\n        print(' ', end='')\\n      o += 1\\n    print()\\n    s += 1\\n\\nellipszis(3)\\nellipszis(3, 5)\", 'def osszead(*operandusok):\\n  osszeg = 0\\n  for operandus in operandusok:\\n    osszeg += operandus\\n  return osszeg\\n\\nprint(osszead(1, 2, 3))\\nprint(osszead(1, 2, 3, 4, 5))', 'def osszeadLista(operandusok):\\n  osszeg = 0\\n  for operandus in operandusok:\\n    osszeg += operandus\\n  return osszeg\\n\\nprint(osszeadLista((1, 2, 3)))        # tuple\\nprint(osszeadLista([1, 2, 3, 4, 5]))  # lista\\n\\n*szamok, = 1, 2, 3                    # packing\\nprint(osszeadLista(szamok))', 'ellipszis(5, 10)\\nellipszis(10, 5)', 'ellipszis(rs=5, ro=10)\\nellipszis(ro=10, rs=5)', \"x = 2\\ny = 5\\n\\ndef csere(a, b):\\n  a, b = b, a\\n\\ncsere(x, y)\\nprint(f'x={x}, y={y}') # Hoppá!\", \"x = 2\\ny = 5\\n\\ndef csere(a, b):\\n  print(f'a címe: {id(a)}, b címe: {id(b)}')\\n  a, b = b, a\\n  print(f'a címe: {id(a)}, b címe: {id(b)}')\\n\\nprint(f'x címe: {id(x)}, y címe: {id(y)}')\\ncsere(x, y)\\nprint(f'x címe: {id(x)}, y címe: {id(y)}')\\nprint(f'x={x}, y={y}')\", \"x = 2\\n\\ndef kob(a):\\n  print(f'a címe: {id(a)}')\\n  a = a**3\\n  print(f'a címe: {id(a)}')\\n\\nprint(f'x címe: {id(x)}')\\nkob(x)\\nprint(f'x címe: {id(x)}')\\nprint(x)\", 'x = 2\\n\\ndef kob():\\n  x = x**3 # nem éri el a függvényen kívül definiált, rá nézve globális változót\\n\\nkob()\\nprint(x)', \"x = 2\\n\\ndef kob(a):\\n  a = a**3\\n  print(f'Lokális változók: {locals()}')\\n\\nprint(f'Globális változók: {globals()}')\\nkob(x)\\nprint(x)\"], '_oh': {}, '_dh': ['/content'], 'In': ['', 'from typing import Callable\\n\\ndef f(x: float) -> float:\\n  return x**2.\\n\\n# https://docs.python.org/3/library/typing.html#callable\\ndef integralKozelites(f: Callable[[float], float], a: float, b: float) -> float:\\n  EPS = 1e-6\\n  if a > b:\\n    a, b = b, a\\n  y0 = f(a)\\n  yn = f(b)\\n  terulet = (b-a) * (y0+yn)/2.\\n  n = 2\\n  while True:\\n    elozo = terulet\\n    hossz = (b-a) / n\\n    terulet = (y0+yn) / 2.\\n    for i in range(1, n):\\n      terulet += f(a+i*hossz)\\n    terulet = terulet * hossz\\n    n *= 2\\n    if abs(terulet - elozo) < EPS:\\n      break\\n  return terulet\\n\\nprint(f\"{integralKozelites(f, 0, 1):.6f}\")', \"import math\\nfrom typing import Callable\\n\\nEPSZILON = 1e-6\\n\\ndef my_cos(x: float) -> float:\\n  szamlalo = 1\\n  k = 0\\n  nevezo = 1\\n  elojel = 1\\n  tag = 1\\n  osszeg = tag\\n  while(abs(tag) > EPSZILON):\\n    szamlalo *= x*x\\n    k += 2\\n    nevezo *= (k-1)*k\\n    elojel *= -1\\n    tag = elojel * szamlalo / nevezo\\n    osszeg += tag\\n  return osszeg\\n\\ndef Fx(x: float) -> float:\\n  return my_cos(x/2.)\\ndef dFx(x: float) -> float:\\n  return -math.sin(x/2.)\\n  \\ndef Erinto(Fx: Callable[[float], float], dFx: Callable[[float], float], x0: float) -> float:\\n\\tx1 = x0 - Fx(x0)/dFx(x0)\\n\\twhile abs(x1-x0) > EPSZILON:\\n    x0, x1 = x1, x0 - Fx(x0)/dFx(x0)\\n\\treturn x1\\n\\nprint('\\\\N{Greek Small Letter Pi} \\\\N{Almost Equal To}', Erinto(Fx, dFx, 4.), f'vs. {math.pi}')\", \"import math\\nfrom typing import Callable\\n\\nEPSZILON = 1e-6\\n\\ndef my_cos(x: float) -> float:\\n  szamlalo = 1\\n  k = 0\\n  nevezo = 1\\n  elojel = 1\\n  tag = 1\\n  osszeg = tag\\n  while(abs(tag) > EPSZILON):\\n    szamlalo *= x*x\\n    k += 2\\n    nevezo *= (k-1)*k\\n    elojel *= -1\\n    tag = elojel * szamlalo / nevezo\\n    osszeg += tag\\n  return osszeg\\n\\ndef Fx(x: float) -> float:\\n  return my_cos(x/2.)\\ndef dFx(x: float) -> float:\\n  return -math.sin(x/2.)\\n  \\ndef Erinto(Fx: Callable[[float], float], dFx: Callable[[float], float], x0: float) -> float:\\n  x1 = x0 - Fx(x0)/dFx(x0)\\n  while abs(x1-x0) > EPSZILON:\\n    x0, x1 = x1, x0 - Fx(x0)/dFx(x0)\\n  return x1\\n\\nprint('\\\\N{Greek Small Letter Pi} \\\\N{Almost Equal To}', Erinto(Fx, dFx, 4.), f'vs. {math.pi}')\", \"import math\\nfrom typing import Callable\\n\\nEPSZILON = 1e-6\\n\\ndef my_cos(x: float) -> float:\\n  szamlalo = 1\\n  k = 0\\n  nevezo = 1\\n  elojel = 1\\n  tag = 1\\n  osszeg = tag\\n  while(abs(tag) > EPSZILON):\\n    szamlalo *= x*x\\n    k += 2\\n    nevezo *= (k-1)*k\\n    elojel *= -1\\n    tag = elojel * szamlalo / nevezo\\n    osszeg += tag\\n  return osszeg\\n\\ndef Fx(x: float) -> float:\\n  return my_cos(x/2.)\\ndef dFx(x: float) -> float:\\n  return -math.sin(x/2.)\\n  \\ndef Erinto(Fx: Callable[[float], float], dFx: Callable[[float], float], x0: float) -> float:\\n  x1 = x0 - Fx(x0)/dFx(x0)\\n  while abs(x1-x0) > EPSZILON:\\n    x0, x1 = x1, x0 - Fx(x0)/dFx(x0)\\n  return x1\\n\\nprint('\\\\N{Greek Small Letter Pi} \\\\N{Almost Equal To}', Erinto(Fx, dFx, 4.), f'vs. {math.pi}')\", \"import math\\nfrom typing import Callable\\n\\nEPSZILON = 1e-6\\n\\ndef my_cos(x: float) -> float:\\n  szamlalo = 1\\n  k = 0\\n  nevezo = 1\\n  elojel = 1\\n  tag = 1\\n  osszeg = tag\\n  while(abs(tag) > EPSZILON):\\n    szamlalo *= x*x\\n    k += 2\\n    nevezo *= (k-1)*k\\n    elojel *= -1\\n    tag = elojel * szamlalo / nevezo\\n    osszeg += tag\\n  return osszeg\\n\\ndef Fx(x: float) -> float:\\n  return my_cos(x/2.)\\ndef dFx(x: float) -> float:\\n  return -math.sin(x/2.)\\n  \\ndef Erinto(Fx: Callable[[float], float], dFx: Callable[[float], float], x0: float) -> float:\\n  x1 = x0 - Fx(x0)/dFx(x0)\\n  while abs(x1-x0) > EPSZILON:\\n    x0, x1 = x1, x1 - Fx(x0)/dFx(x0)\\n  return x1\\n\\nprint('\\\\N{Greek Small Letter Pi} \\\\N{Almost Equal To}', Erinto(Fx, dFx, 4.), f'vs. {math.pi}')\", \"import math\\nfrom typing import Callable\\n\\nEPSZILON = 1e-6\\n\\ndef my_cos(x: float) -> float:\\n  szamlalo = 1\\n  k = 0\\n  nevezo = 1\\n  elojel = 1\\n  tag = 1\\n  osszeg = tag\\n  while(abs(tag) > EPSZILON):\\n    szamlalo *= x*x\\n    k += 2\\n    nevezo *= (k-1)*k\\n    elojel *= -1\\n    tag = elojel * szamlalo / nevezo\\n    osszeg += tag\\n  return osszeg\\n\\ndef Fx(x: float) -> float:\\n  return my_cos(x/2.)\\ndef dFx(x: float) -> float:\\n  return -math.sin(x/2.)\\n  \\ndef Erinto(Fx: Callable[[float], float], dFx: Callable[[float], float], x0: float) -> float:\\n  x1 = x0 - Fx(x0)/dFx(x0)\\n  while abs(x1-x0) > EPSZILON:\\n    x0, x1 = x1, x1 - Fx(x0)/dFx(x0)\\n  return x1\\n\\nprint(f'\\\\N{Greek Small Letter Pi} \\\\N{Almost Equal To} {Erinto(Fx, dFx, 4.)} vs. {math.pi}')\", 'import math\\n\\nclass Koordinata:\\n  def __init__(self, x : float, y : float) -> None:\\n    self.x = x\\n    self.y = y\\n\\nclass Poligon:\\n  def __init__(self) -> None:\\n    self.pontok = [] # A Koordinata osztály több példányát fogjuk tárolni itt\\n  def hozzaad(self, pont: Koordinata) -> None:\\n    self.pontok.append(pont)\\n  def szakasz(self, a: Koordinata, b: Koordinata) -> float: # Egy szakasz hossza\\n    return math.sqrt((a.x-b.x)**2 + (a.y-b.y)**2)\\n  def kerulet(self) -> float:\\n    if len(self.pontok) == 0:\\n      return 0.\\n    kerulet = 0.\\n    elozo = self.pontok[0]\\n    for i in range(1, len(self.pontok)):\\n      akt = self.pontok[i]\\n      kerulet += self.szakasz(elozo, akt) # A kerület a szakaszok hosszának összege\\n      elozo = akt\\n    return kerulet + self.szakasz(elozo, self.pontok[0])\\n\\np1 = Poligon()\\np1.hozzaad(Koordinata(0, 0))\\np1.hozzaad(Koordinata(2, 0))\\np1.hozzaad(Koordinata(2, 2))\\np1.hozzaad(Koordinata(0, 2))\\nprint(\"A poligon kerülete: \", p1.kerulet())\\n\\np2 = Poligon()\\np2.hozzaad(Koordinata(1, 1))\\nprint(\"A poligon kerülete: \", p2.kerulet())\\n\\np3 = Poligon()\\nprint(\"A poligon kerülete: \", p3.kerulet())', \"def ellipszis(rs, ro=None): # alapértelmezett érték a None, amit nem lehetne értelmesen használni; innen tudjuk, hogy a két sugár értéke legyen egyforma\\n  ro = rs if ro is None else ro\\n  s = -rs\\n  while s <= rs:\\n    o = -ro\\n    while o <= ro:\\n      if s**2/rs**2 + o**2/ro**2 <= 1:\\n        print('*', end='')\\n      else:\\n        print(' ', end='')\\n      o += 1\\n    print()\\n    s += 1\\n\\nellipszis(3)\\nellipszis(3, 5)\", 'def osszead(*operandusok):\\n  osszeg = 0\\n  for operandus in operandusok:\\n    osszeg += operandus\\n  return osszeg\\n\\nprint(osszead(1, 2, 3))\\nprint(osszead(1, 2, 3, 4, 5))', 'def osszeadLista(operandusok):\\n  osszeg = 0\\n  for operandus in operandusok:\\n    osszeg += operandus\\n  return osszeg\\n\\nprint(osszeadLista((1, 2, 3)))        # tuple\\nprint(osszeadLista([1, 2, 3, 4, 5]))  # lista\\n\\n*szamok, = 1, 2, 3                    # packing\\nprint(osszeadLista(szamok))', 'ellipszis(5, 10)\\nellipszis(10, 5)', 'ellipszis(rs=5, ro=10)\\nellipszis(ro=10, rs=5)', \"x = 2\\ny = 5\\n\\ndef csere(a, b):\\n  a, b = b, a\\n\\ncsere(x, y)\\nprint(f'x={x}, y={y}') # Hoppá!\", \"x = 2\\ny = 5\\n\\ndef csere(a, b):\\n  print(f'a címe: {id(a)}, b címe: {id(b)}')\\n  a, b = b, a\\n  print(f'a címe: {id(a)}, b címe: {id(b)}')\\n\\nprint(f'x címe: {id(x)}, y címe: {id(y)}')\\ncsere(x, y)\\nprint(f'x címe: {id(x)}, y címe: {id(y)}')\\nprint(f'x={x}, y={y}')\", \"x = 2\\n\\ndef kob(a):\\n  print(f'a címe: {id(a)}')\\n  a = a**3\\n  print(f'a címe: {id(a)}')\\n\\nprint(f'x címe: {id(x)}')\\nkob(x)\\nprint(f'x címe: {id(x)}')\\nprint(x)\", 'x = 2\\n\\ndef kob():\\n  x = x**3 # nem éri el a függvényen kívül definiált, rá nézve globális változót\\n\\nkob()\\nprint(x)', \"x = 2\\n\\ndef kob(a):\\n  a = a**3\\n  print(f'Lokális változók: {locals()}')\\n\\nprint(f'Globális változók: {globals()}')\\nkob(x)\\nprint(x)\"], 'Out': {}, 'get_ipython': <bound method InteractiveShell.get_ipython of <google.colab._shell.Shell object at 0x7f767c02f450>>, 'exit': <IPython.core.autocall.ZMQExitAutocall object at 0x7f767c99d050>, 'quit': <IPython.core.autocall.ZMQExitAutocall object at 0x7f767c99d050>, '_': '', '__': '', '___': '', '_i': 'x = 2\\n\\ndef kob():\\n  x = x**3 # nem éri el a függvényen kívül definiált, rá nézve globális változót\\n\\nkob()\\nprint(x)', '_ii': \"x = 2\\n\\ndef kob(a):\\n  print(f'a címe: {id(a)}')\\n  a = a**3\\n  print(f'a címe: {id(a)}')\\n\\nprint(f'x címe: {id(x)}')\\nkob(x)\\nprint(f'x címe: {id(x)}')\\nprint(x)\", '_iii': \"x = 2\\ny = 5\\n\\ndef csere(a, b):\\n  print(f'a címe: {id(a)}, b címe: {id(b)}')\\n  a, b = b, a\\n  print(f'a címe: {id(a)}, b címe: {id(b)}')\\n\\nprint(f'x címe: {id(x)}, y címe: {id(y)}')\\ncsere(x, y)\\nprint(f'x címe: {id(x)}, y címe: {id(y)}')\\nprint(f'x={x}, y={y}')\", '_i1': 'from typing import Callable\\n\\ndef f(x: float) -> float:\\n  return x**2.\\n\\n# https://docs.python.org/3/library/typing.html#callable\\ndef integralKozelites(f: Callable[[float], float], a: float, b: float) -> float:\\n  EPS = 1e-6\\n  if a > b:\\n    a, b = b, a\\n  y0 = f(a)\\n  yn = f(b)\\n  terulet = (b-a) * (y0+yn)/2.\\n  n = 2\\n  while True:\\n    elozo = terulet\\n    hossz = (b-a) / n\\n    terulet = (y0+yn) / 2.\\n    for i in range(1, n):\\n      terulet += f(a+i*hossz)\\n    terulet = terulet * hossz\\n    n *= 2\\n    if abs(terulet - elozo) < EPS:\\n      break\\n  return terulet\\n\\nprint(f\"{integralKozelites(f, 0, 1):.6f}\")', 'Callable': typing.Callable, 'f': <function f at 0x7f766afff320>, 'integralKozelites': <function integralKozelites at 0x7f766f355290>, '_i2': \"import math\\nfrom typing import Callable\\n\\nEPSZILON = 1e-6\\n\\ndef my_cos(x: float) -> float:\\n  szamlalo = 1\\n  k = 0\\n  nevezo = 1\\n  elojel = 1\\n  tag = 1\\n  osszeg = tag\\n  while(abs(tag) > EPSZILON):\\n    szamlalo *= x*x\\n    k += 2\\n    nevezo *= (k-1)*k\\n    elojel *= -1\\n    tag = elojel * szamlalo / nevezo\\n    osszeg += tag\\n  return osszeg\\n\\ndef Fx(x: float) -> float:\\n  return my_cos(x/2.)\\ndef dFx(x: float) -> float:\\n  return -math.sin(x/2.)\\n  \\ndef Erinto(Fx: Callable[[float], float], dFx: Callable[[float], float], x0: float) -> float:\\n\\tx1 = x0 - Fx(x0)/dFx(x0)\\n\\twhile abs(x1-x0) > EPSZILON:\\n    x0, x1 = x1, x0 - Fx(x0)/dFx(x0)\\n\\treturn x1\\n\\nprint('\\\\N{Greek Small Letter Pi} \\\\N{Almost Equal To}', Erinto(Fx, dFx, 4.), f'vs. {math.pi}')\", '_i4': \"import math\\nfrom typing import Callable\\n\\nEPSZILON = 1e-6\\n\\ndef my_cos(x: float) -> float:\\n  szamlalo = 1\\n  k = 0\\n  nevezo = 1\\n  elojel = 1\\n  tag = 1\\n  osszeg = tag\\n  while(abs(tag) > EPSZILON):\\n    szamlalo *= x*x\\n    k += 2\\n    nevezo *= (k-1)*k\\n    elojel *= -1\\n    tag = elojel * szamlalo / nevezo\\n    osszeg += tag\\n  return osszeg\\n\\ndef Fx(x: float) -> float:\\n  return my_cos(x/2.)\\ndef dFx(x: float) -> float:\\n  return -math.sin(x/2.)\\n  \\ndef Erinto(Fx: Callable[[float], float], dFx: Callable[[float], float], x0: float) -> float:\\n  x1 = x0 - Fx(x0)/dFx(x0)\\n  while abs(x1-x0) > EPSZILON:\\n    x0, x1 = x1, x0 - Fx(x0)/dFx(x0)\\n  return x1\\n\\nprint('\\\\N{Greek Small Letter Pi} \\\\N{Almost Equal To}', Erinto(Fx, dFx, 4.), f'vs. {math.pi}')\", 'math': <module 'math' (built-in)>, 'EPSZILON': 1e-06, 'my_cos': <function my_cos at 0x7f766a5930e0>, 'Fx': <function Fx at 0x7f766a5934d0>, 'dFx': <function dFx at 0x7f766a593d40>, 'Erinto': <function Erinto at 0x7f766a593ef0>, '_i5': \"import math\\nfrom typing import Callable\\n\\nEPSZILON = 1e-6\\n\\ndef my_cos(x: float) -> float:\\n  szamlalo = 1\\n  k = 0\\n  nevezo = 1\\n  elojel = 1\\n  tag = 1\\n  osszeg = tag\\n  while(abs(tag) > EPSZILON):\\n    szamlalo *= x*x\\n    k += 2\\n    nevezo *= (k-1)*k\\n    elojel *= -1\\n    tag = elojel * szamlalo / nevezo\\n    osszeg += tag\\n  return osszeg\\n\\ndef Fx(x: float) -> float:\\n  return my_cos(x/2.)\\ndef dFx(x: float) -> float:\\n  return -math.sin(x/2.)\\n  \\ndef Erinto(Fx: Callable[[float], float], dFx: Callable[[float], float], x0: float) -> float:\\n  x1 = x0 - Fx(x0)/dFx(x0)\\n  while abs(x1-x0) > EPSZILON:\\n    x0, x1 = x1, x0 - Fx(x0)/dFx(x0)\\n  return x1\\n\\nprint('\\\\N{Greek Small Letter Pi} \\\\N{Almost Equal To}', Erinto(Fx, dFx, 4.), f'vs. {math.pi}')\", '_i6': \"import math\\nfrom typing import Callable\\n\\nEPSZILON = 1e-6\\n\\ndef my_cos(x: float) -> float:\\n  szamlalo = 1\\n  k = 0\\n  nevezo = 1\\n  elojel = 1\\n  tag = 1\\n  osszeg = tag\\n  while(abs(tag) > EPSZILON):\\n    szamlalo *= x*x\\n    k += 2\\n    nevezo *= (k-1)*k\\n    elojel *= -1\\n    tag = elojel * szamlalo / nevezo\\n    osszeg += tag\\n  return osszeg\\n\\ndef Fx(x: float) -> float:\\n  return my_cos(x/2.)\\ndef dFx(x: float) -> float:\\n  return -math.sin(x/2.)\\n  \\ndef Erinto(Fx: Callable[[float], float], dFx: Callable[[float], float], x0: float) -> float:\\n  x1 = x0 - Fx(x0)/dFx(x0)\\n  while abs(x1-x0) > EPSZILON:\\n    x0, x1 = x1, x1 - Fx(x0)/dFx(x0)\\n  return x1\\n\\nprint('\\\\N{Greek Small Letter Pi} \\\\N{Almost Equal To}', Erinto(Fx, dFx, 4.), f'vs. {math.pi}')\", '_i7': \"import math\\nfrom typing import Callable\\n\\nEPSZILON = 1e-6\\n\\ndef my_cos(x: float) -> float:\\n  szamlalo = 1\\n  k = 0\\n  nevezo = 1\\n  elojel = 1\\n  tag = 1\\n  osszeg = tag\\n  while(abs(tag) > EPSZILON):\\n    szamlalo *= x*x\\n    k += 2\\n    nevezo *= (k-1)*k\\n    elojel *= -1\\n    tag = elojel * szamlalo / nevezo\\n    osszeg += tag\\n  return osszeg\\n\\ndef Fx(x: float) -> float:\\n  return my_cos(x/2.)\\ndef dFx(x: float) -> float:\\n  return -math.sin(x/2.)\\n  \\ndef Erinto(Fx: Callable[[float], float], dFx: Callable[[float], float], x0: float) -> float:\\n  x1 = x0 - Fx(x0)/dFx(x0)\\n  while abs(x1-x0) > EPSZILON:\\n    x0, x1 = x1, x1 - Fx(x0)/dFx(x0)\\n  return x1\\n\\nprint(f'\\\\N{Greek Small Letter Pi} \\\\N{Almost Equal To} {Erinto(Fx, dFx, 4.)} vs. {math.pi}')\", '_i8': 'import math\\n\\nclass Koordinata:\\n  def __init__(self, x : float, y : float) -> None:\\n    self.x = x\\n    self.y = y\\n\\nclass Poligon:\\n  def __init__(self) -> None:\\n    self.pontok = [] # A Koordinata osztály több példányát fogjuk tárolni itt\\n  def hozzaad(self, pont: Koordinata) -> None:\\n    self.pontok.append(pont)\\n  def szakasz(self, a: Koordinata, b: Koordinata) -> float: # Egy szakasz hossza\\n    return math.sqrt((a.x-b.x)**2 + (a.y-b.y)**2)\\n  def kerulet(self) -> float:\\n    if len(self.pontok) == 0:\\n      return 0.\\n    kerulet = 0.\\n    elozo = self.pontok[0]\\n    for i in range(1, len(self.pontok)):\\n      akt = self.pontok[i]\\n      kerulet += self.szakasz(elozo, akt) # A kerület a szakaszok hosszának összege\\n      elozo = akt\\n    return kerulet + self.szakasz(elozo, self.pontok[0])\\n\\np1 = Poligon()\\np1.hozzaad(Koordinata(0, 0))\\np1.hozzaad(Koordinata(2, 0))\\np1.hozzaad(Koordinata(2, 2))\\np1.hozzaad(Koordinata(0, 2))\\nprint(\"A poligon kerülete: \", p1.kerulet())\\n\\np2 = Poligon()\\np2.hozzaad(Koordinata(1, 1))\\nprint(\"A poligon kerülete: \", p2.kerulet())\\n\\np3 = Poligon()\\nprint(\"A poligon kerülete: \", p3.kerulet())', 'Koordinata': <class '__main__.Koordinata'>, 'Poligon': <class '__main__.Poligon'>, 'p1': <__main__.Poligon object at 0x7f766a5a7f50>, 'p2': <__main__.Poligon object at 0x7f766a5a75d0>, 'p3': <__main__.Poligon object at 0x7f766a5a72d0>, '_i9': \"def ellipszis(rs, ro=None): # alapértelmezett érték a None, amit nem lehetne értelmesen használni; innen tudjuk, hogy a két sugár értéke legyen egyforma\\n  ro = rs if ro is None else ro\\n  s = -rs\\n  while s <= rs:\\n    o = -ro\\n    while o <= ro:\\n      if s**2/rs**2 + o**2/ro**2 <= 1:\\n        print('*', end='')\\n      else:\\n        print(' ', end='')\\n      o += 1\\n    print()\\n    s += 1\\n\\nellipszis(3)\\nellipszis(3, 5)\", 'ellipszis': <function ellipszis at 0x7f766a5a3830>, '_i10': 'def osszead(*operandusok):\\n  osszeg = 0\\n  for operandus in operandusok:\\n    osszeg += operandus\\n  return osszeg\\n\\nprint(osszead(1, 2, 3))\\nprint(osszead(1, 2, 3, 4, 5))', 'osszead': <function osszead at 0x7f766a5a3680>, '_i11': 'def osszeadLista(operandusok):\\n  osszeg = 0\\n  for operandus in operandusok:\\n    osszeg += operandus\\n  return osszeg\\n\\nprint(osszeadLista((1, 2, 3)))        # tuple\\nprint(osszeadLista([1, 2, 3, 4, 5]))  # lista\\n\\n*szamok, = 1, 2, 3                    # packing\\nprint(osszeadLista(szamok))', 'osszeadLista': <function osszeadLista at 0x7f766a5a35f0>, 'szamok': [1, 2, 3], '_i12': 'ellipszis(5, 10)\\nellipszis(10, 5)', '_i13': 'ellipszis(rs=5, ro=10)\\nellipszis(ro=10, rs=5)', '_i14': \"x = 2\\ny = 5\\n\\ndef csere(a, b):\\n  a, b = b, a\\n\\ncsere(x, y)\\nprint(f'x={x}, y={y}') # Hoppá!\", 'x': 2, 'y': 5, 'csere': <function csere at 0x7f766a5a3b00>, '_i15': \"x = 2\\ny = 5\\n\\ndef csere(a, b):\\n  print(f'a címe: {id(a)}, b címe: {id(b)}')\\n  a, b = b, a\\n  print(f'a címe: {id(a)}, b címe: {id(b)}')\\n\\nprint(f'x címe: {id(x)}, y címe: {id(y)}')\\ncsere(x, y)\\nprint(f'x címe: {id(x)}, y címe: {id(y)}')\\nprint(f'x={x}, y={y}')\", '_i16': \"x = 2\\n\\ndef kob(a):\\n  print(f'a címe: {id(a)}')\\n  a = a**3\\n  print(f'a címe: {id(a)}')\\n\\nprint(f'x címe: {id(x)}')\\nkob(x)\\nprint(f'x címe: {id(x)}')\\nprint(x)\", 'kob': <function kob at 0x7f766a4c0050>, '_i17': 'x = 2\\n\\ndef kob():\\n  x = x**3 # nem éri el a függvényen kívül definiált, rá nézve globális változót\\n\\nkob()\\nprint(x)', '_i18': \"x = 2\\n\\ndef kob(a):\\n  a = a**3\\n  print(f'Lokális változók: {locals()}')\\n\\nprint(f'Globális változók: {globals()}')\\nkob(x)\\nprint(x)\"}\n",
            "Lokális változók: {'a': 8}\n",
            "2\n"
          ]
        }
      ]
    },
    {
      "cell_type": "markdown",
      "source": [
        "A függvény nyilvánvalóan eléri saját lokális változóit."
      ],
      "metadata": {
        "id": "2bW1UsnE59Gn"
      }
    },
    {
      "cell_type": "code",
      "source": [
        "def fv():\n",
        "  x = 1\n",
        "  print(x)\n",
        "\n",
        "fv()"
      ],
      "metadata": {
        "colab": {
          "base_uri": "https://localhost:8080/"
        },
        "id": "RmvV8VWV5wvC",
        "outputId": "4e7cc662-d1d0-4479-d3c8-d49af6e60ed1"
      },
      "execution_count": null,
      "outputs": [
        {
          "output_type": "stream",
          "name": "stdout",
          "text": [
            "1\n"
          ]
        }
      ]
    },
    {
      "cell_type": "markdown",
      "source": [
        "Sőt, általában a globális változókat is."
      ],
      "metadata": {
        "id": "40B0Wf-A6BhB"
      }
    },
    {
      "cell_type": "code",
      "source": [
        "x = 1\n",
        "\n",
        "def fv():\n",
        "  print(x)\n",
        "\n",
        "fv()"
      ],
      "metadata": {
        "colab": {
          "base_uri": "https://localhost:8080/"
        },
        "id": "-XOTMM-46Fme",
        "outputId": "dd862664-8dd8-4c30-cb60-8731878e0267"
      },
      "execution_count": null,
      "outputs": [
        {
          "output_type": "stream",
          "name": "stdout",
          "text": [
            "1\n"
          ]
        }
      ]
    },
    {
      "cell_type": "markdown",
      "source": [
        "Viszont, ha a lokális és globális változó neve megegyezik, akkor csak a lokálisat éri el."
      ],
      "metadata": {
        "id": "-FiqbwYi6MzB"
      }
    },
    {
      "cell_type": "code",
      "source": [
        "x = 1\n",
        "\n",
        "def fv():\n",
        "  x = 2\n",
        "  print('Lokális:', x)\n",
        "\n",
        "fv()\n",
        "print('Globális:', x)"
      ],
      "metadata": {
        "colab": {
          "base_uri": "https://localhost:8080/"
        },
        "id": "q9WQVMJ76StK",
        "outputId": "40db7bec-1344-433e-a29f-9a3df03da8fb"
      },
      "execution_count": null,
      "outputs": [
        {
          "output_type": "stream",
          "name": "stdout",
          "text": [
            "Lokális: 2\n",
            "Globális: 1\n"
          ]
        }
      ]
    },
    {
      "cell_type": "markdown",
      "source": [
        "Tehát visszatérve a korábbi feladathoz, ha köbre kívánjuk emelni a globális változó értékét, akkor csak azt érjük el, hogy új lokális változót próbálunk létrehozni egy korábban nem definiált értékű lokális változó alapján, azaz önmagával akarjuk inicializálni a változót."
      ],
      "metadata": {
        "id": "GcxrTB4t64Qy"
      }
    },
    {
      "cell_type": "code",
      "source": [
        "x = 2\n",
        "\n",
        "def kob():\n",
        "  x = x**3\n",
        "\n",
        "kob()\n",
        "print(x)"
      ],
      "metadata": {
        "id": "K5wVTa607JGF",
        "colab": {
          "base_uri": "https://localhost:8080/",
          "height": 368
        },
        "outputId": "abe9b640-4029-46b1-86b8-0e7c6b60642b"
      },
      "execution_count": null,
      "outputs": [
        {
          "output_type": "error",
          "ename": "UnboundLocalError",
          "evalue": "ignored",
          "traceback": [
            "\u001b[0;31m---------------------------------------------------------------------------\u001b[0m",
            "\u001b[0;31mUnboundLocalError\u001b[0m                         Traceback (most recent call last)",
            "\u001b[0;32m<ipython-input-7-2eb1afb5084d>\u001b[0m in \u001b[0;36m<cell line: 9>\u001b[0;34m()\u001b[0m\n\u001b[1;32m      7\u001b[0m   \u001b[0mx\u001b[0m \u001b[0;34m=\u001b[0m \u001b[0my\u001b[0m\u001b[0;34m\u001b[0m\u001b[0;34m\u001b[0m\u001b[0m\n\u001b[1;32m      8\u001b[0m \u001b[0;34m\u001b[0m\u001b[0m\n\u001b[0;32m----> 9\u001b[0;31m \u001b[0mkob\u001b[0m\u001b[0;34m(\u001b[0m\u001b[0;34m)\u001b[0m\u001b[0;34m\u001b[0m\u001b[0;34m\u001b[0m\u001b[0m\n\u001b[0m\u001b[1;32m     10\u001b[0m \u001b[0mprint\u001b[0m\u001b[0;34m(\u001b[0m\u001b[0mx\u001b[0m\u001b[0;34m)\u001b[0m\u001b[0;34m\u001b[0m\u001b[0;34m\u001b[0m\u001b[0m\n",
            "\u001b[0;32m<ipython-input-7-2eb1afb5084d>\u001b[0m in \u001b[0;36mkob\u001b[0;34m()\u001b[0m\n\u001b[1;32m      3\u001b[0m \u001b[0;32mdef\u001b[0m \u001b[0mkob\u001b[0m\u001b[0;34m(\u001b[0m\u001b[0;34m)\u001b[0m\u001b[0;34m:\u001b[0m\u001b[0;34m\u001b[0m\u001b[0;34m\u001b[0m\u001b[0m\n\u001b[1;32m      4\u001b[0m   \u001b[0;31m#x = x**3 # nem éri el a függvényen kívül definiált, rá nézve globális változót\u001b[0m\u001b[0;34m\u001b[0m\u001b[0;34m\u001b[0m\u001b[0m\n\u001b[0;32m----> 5\u001b[0;31m   \u001b[0my\u001b[0m \u001b[0;34m=\u001b[0m \u001b[0mx\u001b[0m\u001b[0;34m\u001b[0m\u001b[0;34m\u001b[0m\u001b[0m\n\u001b[0m\u001b[1;32m      6\u001b[0m   \u001b[0my\u001b[0m \u001b[0;34m=\u001b[0m \u001b[0my\u001b[0m\u001b[0;34m**\u001b[0m\u001b[0;36m3\u001b[0m\u001b[0;34m\u001b[0m\u001b[0;34m\u001b[0m\u001b[0m\n\u001b[1;32m      7\u001b[0m   \u001b[0mx\u001b[0m \u001b[0;34m=\u001b[0m \u001b[0my\u001b[0m\u001b[0;34m\u001b[0m\u001b[0;34m\u001b[0m\u001b[0m\n",
            "\u001b[0;31mUnboundLocalError\u001b[0m: local variable 'x' referenced before assignment"
          ]
        }
      ]
    },
    {
      "cell_type": "markdown",
      "source": [
        "Meg tudjuk viszont mondani, hogy *x*-et ne a lokális változók között keresse, mint általában."
      ],
      "metadata": {
        "id": "pV05vufUFZ0R"
      }
    },
    {
      "cell_type": "code",
      "source": [
        "x = 2\n",
        "\n",
        "def kob():\n",
        "  global x  # elérhetővé teszi a globális változót\n",
        "  x = x**3\n",
        "\n",
        "kob()\n",
        "print(x)"
      ],
      "metadata": {
        "id": "0dXvNgfd-K70",
        "colab": {
          "base_uri": "https://localhost:8080/"
        },
        "outputId": "7cc2a0d3-1ddc-4c60-e4b0-250528561b99"
      },
      "execution_count": null,
      "outputs": [
        {
          "output_type": "stream",
          "name": "stdout",
          "text": [
            "8\n"
          ]
        }
      ]
    },
    {
      "cell_type": "markdown",
      "source": [
        "Ez persze működik, de:\n",
        "- A függvény nem vihető át másik programba anélkül, hogy a változóneveket egyeztetnénk, ez számos későbbi hiba forrása lehet\n",
        "- Látszólag a \"semmiből\" jön az x változó a függvény kódjában, ami a működésének megértését nehezíti\n",
        "- Csak egyetlen változó köbre emelésére képes, más változókkal nem tud dolgozni\n",
        "- (Nem szálbiztos)\n",
        "\n",
        "Ez annyi hátrány, hogy ezt a \"megoldást\" inkább FELEJTSÜK is EL!\n",
        "\n",
        "Megoldási javaslat #1: visszadjuk és újra hozzárendeljük az értékeket a változókhoz."
      ],
      "metadata": {
        "id": "G5ebPTb66V71"
      }
    },
    {
      "cell_type": "code",
      "source": [
        "x = 2\n",
        "y = 5\n",
        "\n",
        "def csere(a, b):\n",
        "  return b, a\n",
        "\n",
        "x, y = csere(x, y)\n",
        "print(f'x={x}, y={y}') # Kicsit nyakatekert, de működik"
      ],
      "metadata": {
        "id": "6sD553-J6eqz",
        "colab": {
          "base_uri": "https://localhost:8080/"
        },
        "outputId": "0b48e119-65e8-4302-88b5-5cddc1e238bf"
      },
      "execution_count": null,
      "outputs": [
        {
          "output_type": "stream",
          "name": "stdout",
          "text": [
            "x=5, y=2\n"
          ]
        }
      ]
    },
    {
      "cell_type": "code",
      "source": [
        "x = 2\n",
        "\n",
        "def kob(a):\n",
        "  return a**3\n",
        "\n",
        "x = kob(x)\n",
        "print(x)"
      ],
      "metadata": {
        "id": "vfGZh9jN6vmm",
        "colab": {
          "base_uri": "https://localhost:8080/"
        },
        "outputId": "7fed6afb-68ad-4b09-df7d-b4b7a4661e4c"
      },
      "execution_count": null,
      "outputs": [
        {
          "output_type": "stream",
          "name": "stdout",
          "text": [
            "8\n"
          ]
        }
      ]
    },
    {
      "cell_type": "markdown",
      "source": [
        "Megoldási javaslat #2: használjunk (subscriptable [elemei elérhetők indexeléssel] & mutable [tartalma megváltoztatható]) objektumokat (list, dictionary) a paraméterlistán!"
      ],
      "metadata": {
        "id": "SyrWMoSgARsp"
      }
    },
    {
      "cell_type": "code",
      "source": [
        "szamok = [2, 5]\n",
        "\n",
        "def csere(l):\n",
        "  l[0], l[1] = l[1], l[0]\n",
        "\n",
        "print(szamok)\n",
        "csere(szamok)\n",
        "print(szamok)"
      ],
      "metadata": {
        "id": "tyHe7NeUAX-g",
        "colab": {
          "base_uri": "https://localhost:8080/"
        },
        "outputId": "a89a2e41-ce78-486f-d969-a7c62249ccdc"
      },
      "execution_count": null,
      "outputs": [
        {
          "output_type": "stream",
          "name": "stdout",
          "text": [
            "[2, 5]\n",
            "[5, 2]\n"
          ]
        }
      ]
    },
    {
      "cell_type": "code",
      "source": [
        "d = {'x' : 2}\n",
        "\n",
        "def kob(a):\n",
        "  a['x'] = a['x']**3\n",
        "\n",
        "print(d)\n",
        "kob(d)\n",
        "print(d)"
      ],
      "metadata": {
        "id": "NREOqH_gBJ1P",
        "colab": {
          "base_uri": "https://localhost:8080/"
        },
        "outputId": "3cb0f00f-9278-4eea-e2a3-e4520d05ba06"
      },
      "execution_count": null,
      "outputs": [
        {
          "output_type": "stream",
          "name": "stdout",
          "text": [
            "{'x': 2}\n",
            "{'x': 8}\n"
          ]
        }
      ]
    },
    {
      "cell_type": "markdown",
      "source": [
        "A globális - lokális változók összetettségét tovább bonyolítja, hogy a függvények egymásba is ágyazhatók, és saját lokális változóikat elrejtik a külvilág elől, de láthatóvá teszik a beágyazott függvények számára."
      ],
      "metadata": {
        "id": "cN0qUvBm8-qL"
      }
    },
    {
      "cell_type": "code",
      "source": [
        "x = 1\n",
        "\n",
        "def fv1():\n",
        "  x = 2\n",
        "  y = 10\n",
        "\n",
        "  def fv2():\n",
        "    x = 3\n",
        "    print('fv2 lokális x:', x)\n",
        "    print('fv2 külső y:', y)\n",
        "\n",
        "  print('fv1 lokális x:', x)\n",
        "  print('fv1 lokális y:', y)\n",
        "  fv2()\n",
        "\n",
        "print('globális x:', x)\n",
        "fv1()"
      ],
      "metadata": {
        "colab": {
          "base_uri": "https://localhost:8080/"
        },
        "id": "D19XS3D68U3i",
        "outputId": "79e49b5a-ac29-4179-aa6d-8a937406c37b"
      },
      "execution_count": null,
      "outputs": [
        {
          "output_type": "stream",
          "name": "stdout",
          "text": [
            "globális x: 1\n",
            "fv1 lokális x: 2\n",
            "fv1 lokális y: 10\n",
            "fv2 lokális x: 3\n",
            "fv2 külső y: 10\n"
          ]
        }
      ]
    },
    {
      "cell_type": "markdown",
      "source": [
        "Feladat: készítsünk függvényt, amely visszaadja a [Fibonacci](https://hu.wikipedia.org/wiki/Fibonacci-sz%C3%A1mok)-sorozat *n* indexű elemét!"
      ],
      "metadata": {
        "id": "emuW2B-ZHyAS"
      }
    },
    {
      "cell_type": "code",
      "source": [
        "def fibonacci(n):\n",
        "  a = 0\n",
        "  b = 1\n",
        "  for i in range(n):\n",
        "    a, b = b, a+b\n",
        "  return a\n",
        "\n",
        "print(fibonacci(0))\n",
        "print(fibonacci(1))\n",
        "print(fibonacci(2))\n",
        "print(fibonacci(3))\n",
        "print(fibonacci(4))\n",
        "print(fibonacci(5))"
      ],
      "metadata": {
        "id": "Vui2zgPzGgDq",
        "colab": {
          "base_uri": "https://localhost:8080/"
        },
        "outputId": "b1718254-1375-4271-bfa0-08f00439e212"
      },
      "execution_count": null,
      "outputs": [
        {
          "output_type": "stream",
          "name": "stdout",
          "text": [
            "0\n",
            "1\n",
            "1\n",
            "2\n",
            "3\n",
            "5\n"
          ]
        }
      ]
    },
    {
      "cell_type": "markdown",
      "source": [
        "Ki is használhatnánk persze, hogy maga a sorozat másodrendben rekurzív, azaz az *n* indexű eleme megkapható az *n-2* és *n-1* indexű elemek összegeként. Ezt a két elemet azonban pont olyan módszerrel kell meghatározni, mint az *n* indexű elemet, azaz a függvény meghívhatja saját magát: (ön)rekurzív függvényhívás.\n",
        "\n",
        "<div><img src=\"data:image/jpeg;base64,/9j/4AAQSkZJRgABAQAAAQABAAD/4gIoSUNDX1BST0ZJTEUAAQEAAAIYAAAAAAIQAABtbnRyUkdCIFhZWiAAAAAAAAAAAAAAAABhY3NwAAAAAAAAAAAAAAAAAAAAAAAAAAAAAAAAAAAAAQAA9tYAAQAAAADTLQAAAAAAAAAAAAAAAAAAAAAAAAAAAAAAAAAAAAAAAAAAAAAAAAAAAAAAAAAAAAAAAAAAAAlkZXNjAAAA8AAAAHRyWFlaAAABZAAAABRnWFlaAAABeAAAABRiWFlaAAABjAAAABRyVFJDAAABoAAAAChnVFJDAAABoAAAAChiVFJDAAABoAAAACh3dHB0AAAByAAAABRjcHJ0AAAB3AAAADxtbHVjAAAAAAAAAAEAAAAMZW5VUwAAAFgAAAAcAHMAUgBHAEIAAAAAAAAAAAAAAAAAAAAAAAAAAAAAAAAAAAAAAAAAAAAAAAAAAAAAAAAAAAAAAAAAAAAAAAAAAAAAAAAAAAAAAAAAAAAAAAAAAAAAAAAAAFhZWiAAAAAAAABvogAAOPUAAAOQWFlaIAAAAAAAAGKZAAC3hQAAGNpYWVogAAAAAAAAJKAAAA+EAAC2z3BhcmEAAAAAAAQAAAACZmYAAPKnAAANWQAAE9AAAApbAAAAAAAAAABYWVogAAAAAAAA9tYAAQAAAADTLW1sdWMAAAAAAAAAAQAAAAxlblVTAAAAIAAAABwARwBvAG8AZwBsAGUAIABJAG4AYwAuACAAMgAwADEANv/bAEMAEAsMDgwKEA4NDhIREBMYKBoYFhYYMSMlHSg6Mz08OTM4N0BIXE5ARFdFNzhQbVFXX2JnaGc+TXF5cGR4XGVnY//bAEMBERISGBUYLxoaL2NCOEJjY2NjY2NjY2NjY2NjY2NjY2NjY2NjY2NjY2NjY2NjY2NjY2NjY2NjY2NjY2NjY2NjY//AABEIA8ADrgMBIgACEQEDEQH/xAAbAAABBQEBAAAAAAAAAAAAAAAAAQIDBQYEB//EAE8QAAEEAQMEAQMCAwIKBgcGBwEAAgMRBAUhMQYSQVETB2FxFCIVgZEWMiMzNDU2QlJTc5MXJFSSobElJmNydIKDQ0RHVWJlwdEnhDey0v/EABkBAQADAQEAAAAAAAAAAAAAAAABAgMEBf/EACMRAQEAAgMBAQEBAQEBAQEAAAEAAhEDITETEkEEUSIjMmH/2gAMAwEAAhEDEQA/APQEIQkhCEJIQhCSEIQkhCEJIQhCSEIQkhCEJIQhCSEIQkhCEJIQhCSEIQkhCEJIQhCSEIQkhCEJIQhCSEIQkhCEJIQhCSEIQkhCEJIQhCSEIQkhCEJIQhCSEIQkhCEJIQhCSEIQkhCEJIQhCSEIQkhCEJIQhCSEIQkhCEJIQhCSEIQkhCE13BSQRVUBtwqXU+ptL02Qx5E5L/TN1Zz974ZGxEd5aQLNUSNl5Q6EaRrD365hPyASTV0HJL1DS9UxtVxRk4jy6OyD3CjYXLN1LpUGUMeTJAkXBj5Wn4vSuRlaRHUbWE16K8+jGA/SMiSeVx1AvBY1JexOkYGGRxAYBZJ4Aq7tZXM69w8bKMUMEk8beZVXYuryT9CZbXvuWCo1D0Vl6VceFLimTKmcbe5JbzGzYJ8KPLa8CJ7Q7uKhxtb03KmMEGVG6QGg1YnrjVi7OGlRn4saKi/tXf0lpuh5UgycL9QZ4OS9JbCbMx4JY45ZmRvkNNa40SU3IzsTFcxmRkRwuf8A3Q4gErE9RynL61wcZm3xEK86t6fOs4gkiNZENlvpySvZJ444vlfI1rALLyRVe7SY2Vj5kIkxpmys9sIIteVz69myaKNGka4PDw2/PrtXofTOljSdHihd/jHDuekrtRPcGtLiQABZJNABPAAApZD6h5suPpcUMRoTOpySt5eo9KglbG7NjLiapqs+5vZ3AgCrBJoV+fS810DA6fzp4MZwyZciTnw1qvuu3nB0GDHxyWN7g1JasPZ2d4c0sq+6xRHk2mDNxpI3vZPG9jAS4gggAc2vPum9ZkGi6hhTS2GQkxdyXplhk6R1er7klr29UaOZWxfrY7KtIZY5mCSJ7ZGOFhzSCCPyF5n0x07j6xpWZK8kTMNMVt9P82SIZuHJZbFb/sElscnUcTC2ycmKI1YDnAFTMka9gLSCCAQQbBB43XkmbJJrufm5k+SyMRAua13kDgBazpfPyMnpLLYXn5Yg4NektayeGWR0bJo3PbuWtIJH5CcZ4myCMyNEh4bYsryfpTVzpmtCWa3Rynse5X2E5snX+TI+buEYcY0lrtQ1vT9LNZc4Y4i+1S6fqWLqcHyYkge1eb6Vis13UczO1LIccfHt7vZWi6U1nRf1EuNh4xxC/wAON9ySv9R1rT9L2zJg1/PaFFpfUWBq8z4MV7jI0WbavNM7P/Va9LkZsTp2h5AjXo3TODgswxl4uCcV8ootekuHM650/FyJIfjlkLF3aP1Rp2qvbHC8snd/9m5Y3qYwaf1iJjGyWO2uexO0tjNZ6rjydMxjj40ZBKS3+o6niaXjmbLkDB65JXLpXUWnatO+HDe4uAs21Ybrh/d1JU9mNoWw6Vh0w4YytPxDAXU1xdykpNa6owNHmEOQHOkq6anaX1PpmqFrIJg2U7dj9lksiDHz/qA6LIYZIi6i1yh6v0mDQ87GnwLjEnDEl6aCDx4NFPXJpk7snT4J3inPYCQutJJaCQE08H2TSpNb6mwdHkbHPbpOe1qSvCQOTSWwsfL19p7S74opJGqIfUPBvfFlSW1sIsLBv+ocYNRYSlP1DxqB/SSJpo3bewi1jIPqBgPkp2PIxKev8EZXYYpBF/tKdU2zSWFjR9QtPD6OPKpJOvtNEdsjkKiWusIsLMx9baRI0kyOaosbrrSpHEP7oklrEizOV1rpOOQ0SOlvy1Ts6u0Zw/ypJXocDx6sJ1hZ3+2GkjCGQZf/AKfLkT9ZaRDR/UF9+GpLQkgC0WOFnh1jozow85NE7dqjyOtdHh4kMn3YktNYRYKzkfWejSEg5Baoo+uNJfKY5HuYBw5JagkBFhZx/Wej+JS5MPW2jeJXJLTWEWFnousdFlZZyxGfTk89W6KHlhzG++5JX1irRYCqR1FpTmGRuZGQFyt6w0VxDRlpLQWCiwFTQdTaRkbMzI0S9UaRFL8b8yNJXNgIsKsj1vTJRbc2Eodr2lMIDs2Id3CSs7ARYVKOp9GJeP10Q7FzHrHRhCX/AD36aktHYRYWbi600aTmcsUcvXGkRGhI+RJacEHcFLYWQn6906KRobHK9nly5JPqJAL+LFcp1Lc2EWDSwZ+ocfjCTx9QoN7xFFG7dWEWFlR13pNNsyKcda6KOJ0ptHYRYWZHW2kGYxvkcwDhyb/bjSfcqS1FgpCQOTSy0HXWlSntd8kaJeudLZ39vyPLUlq0lhZwdaaLW865I+vdMdLTo5WpLXWCiwqBnWOiv5yw1IOsdFcSP1SSvwQRacs/k9W6RDGH/qe77NUR6z0YPIE5oDlJaSwiwqCDq/RZwby2x14ekf1do4jEgyr9NaktBYRYVF/avRg/tdlBhSDqzSDlfCcsD07gJK/TbAFqn/tLpHcxv6+K3KU6/pQu8+CwkrSwiwqWHqfSJ4yW5kbVJpeu4eqveMV3cGpK3SIUMsjYoy97g1oBJJNUAkprCLCzuT1hpEHE5kUY640j9tvcLSWnSWFnX9Z6KwiskuTZOtNFYaE5cktJYRYWZ/tvo/fXyvU56v0jte5uR3BiSv7CLCzA640gtsyPXPL19pTeI5ZElr7CLCwr/qHHbRFhOUo+oeDe+LKktpYurSrHf9IGm0yopUS/UDAbkBrIpXxeXJLZJLAWOP1A04ZBZ8cpi8PUMv1ExuIsR7kluElhYg/UTGoVhyJuT9RIR2/psSQ++5JbmwiwsQz6iYxZb8SRRxfUSEvqfEICS3dhFhYiX6h4vYfgxZC5Mj+ocRA+XGSW6sJDRBCwQ+ord/8AqKQ/UNxj2wqkSW5lJEZMYBIBIB8mtl5xqmuavmRZGFlaaH+nfFZausfUOYGnYQch/wBQZSyTtwmiThjkk3TtCzIOksx4Egnm4iXfo3TOOOnjJlYgOYWOXAfqDkmPbDb3UpG/UN4ZT8G3pLn03Qsp3SuoMfGWSOf3NaVfdCYcbNCje+CpS8m3BUA6/wA+zeNH6amDr7U2xBvwRdySk6mwsnTOoTqQxxPBKptP1nWdQzoIsLBbiQBw+TtjoKM/UDJoXgRIH1AyWybYTRHx2pJOrIsrS+o2amwdwKvenuos/VsmQzYQixg2w5UU/XeS8R3hxe3tS4nXcsUZZLhxpKHp/FOudUy5srLijeXL0ql5zg9bnG+StMjAe4v/AGqaL6hTfIS/DuLgdqS9B+xPhZTr7T5c3S43wCzE9VuJ9QHl1ZOKlP1A94VO7klV6T1NHp2KI8fSmnLaKMiseo352p9LY0+VjuE/y7tanDrDRoXvkg0wiRSv+oEJxh24jzJw5qSqdZ6cyBp2PqOFGakjHyxNV50bpkg6byWyg3kXTSuefr/taHRYSYPqJ7wP3JKg0+TXMJk+Bgxyhr30+mLXab0+/Sens3vBmy8iO3tVSzr/ACvhfeLGZuWqQ/USSqGAO5JQdL9JRZ+NJJqUMrDw1S9OafqGNj6xjiAmPtcwA+XKKX6hZpZTMeMPTIuv9RbQlx43pJ+mdMyZvTMgMBizWS2wuU3R2gajjaq+bNiMUYYWnu5K5B19qbZHuMcRB3AXIOs9Xqa5q79xbR+1JWmX01rGmZsr9IcDFKV0dNdJZUWofr9SAYWG2saqaPrTV4sUxuIJrZ6lxuutTg2mEc9hJTappOq6LrEmdgxCeOV1h3aHKx0nM6oytSgdlRuZjX+4dq5Mb6hT8ZGKHLrH1Fg84kiSj13Rnaj1nG2WMnGewW5q4cnS8/pvXIzp/wAr4XldsP1CuQ/Phdsa6ZPqFheMaRJRda6DNkOj1LFiL5KHyNUWk6x1DNlYkIxPjg4P7eQu7H6/w3x900EjFzZH1Ei3GPiuckq3W4M7B6wkzMbFklIIexTxaNrXUGqRZGqR/FExSY31Efxk4q62/UPFLN8WTuSWxjaI2hrQAAAAAKAA2UthceDmwahjNmx3hzXAEjki118bBJFLyrrwh2uuXqtLyfrffqOUtUB3NuqTE6RknwmTnIDS+iGrvPR2L2ip5O5XunuMmn45cQXfGLrg7KcmzR2AW5iJ3YOSNlpejGXePkfycmS9GcGLJ/PctYADQrbkkcoNdxJqz5Cn8lH0bIjoySt8pvchnRfBflfyDVriCTXI8IotJraxRA4Kj8E+jZV3RrS9pZkVF/rJj+jPEeWtZRBBoAji+D+UtCiCNjyDwVPzJ9HdjB0ZliUtdNH2DhyQdI5dSAOjW1BqzXPJPn1aLN3QHsgKHjKfo2FPSGoe4049HZ4Fh0a3ANDYg+wfKLG53BPkek/BPo2IPRmd4kjQej8scSxly24JN0SPO3KaQbAr+vlPwUfRsQekM7w+NRDpTUO8tpq3dbEWR6HgJCSRRJIqjafgn0bGHpDKLbbJHf8AspWdH5XDpI1sgCBW9ekGxQBJB2I+yfMn0bGno3JHGRGmjo/NNVJGtqQbFbGqBHpKBVkjfzflPwU/RsT/AGSyjFy0PUR6T1D1G6/Tluyb3oH7EbJpbe4AB+/hPwT6Ngv7O6qwEBmx9OQemNSoH42re0RuCQPFHj2gDY2ao7Ecp8yfRsI3pXUi6qj/ACXJkvTmosf8Yi7vZC3xFAUKPk3ykJJFAn1ynzJ9GwEHTmpzHaIx35eaUx6Z1L9QyGRv4IK3IseAAOASgONUSaPNHavSfMn0bDHpTUPUf8nKU9I54NF8a2oIO17DgIuzW+3keVJxlH0bF/2PzDVyRqVvR0okp2S0M8uWvBsEE2PAPhIBW1kb3YO9qfmT6Nlj0eLZWVbOHKSTo/HMY+KdzX+3LTHcknzyfaTYEkVZFE/ZPmUfRs0OkYmShwyLZwWqP+x4LyP1VNWoockAn35H4SGiNqBPJHlPwT6Nlz0fbDWTT1C7o7I8ZEZWu2AABNDj7IvYiybFbo8ZScjY89H5QJb8saD0hl9wAljIIWwsUBWwNos0d6N2CPCfMn0bGu6SzgWFjo3KQdJZAlbUjXx8krXHe7NjkA+D7QQLHocC/wCtp8yfRsiej5zKQ3Ij7VE7pPNAtpjK2ZsEVYA4A8IBPH9U+ZPo2Md0lmhoNsLzy1PPR+T/AKs8a2BqgDZaNwPIRZo1ZPgnkJ8yfRsYOk87YuLEj+lM2iWdpW0I8DYfbn7osiwCRR2I5A+6fMn0bGHpPNLAR2qIdK6j3UI4/wA9y3ANEGyT9ynbkcfz8p8yfRsXF0lmSB5e5ocFCeltR9NW6NkizdG6S3dmyPsNgqvGT6Ngz0tqDZQwtaiXpjUWVTQ5bwEgAWRQpFkcHf2hxlP0SwMvTmpRsDnRgBHTT5MbX8VokdH3SBpW3ziRhZBaCSWEgebWL6VBk6lxQx/Ye5VyAtMclvYFnetZp4dBlELL7qDlogs/1mHHQ5AyQRlZ17zrQdIGs5EmOJhHP220u4Kvj9O8oMtuVGXLk6A36gJeRYjXqVJLzv8A6O5y3fNaHI/6O5/OavQ6O+934KO3/wA7SXmcX0/1E38kkQU3/R5meMqNej0ikl5sz6e55jPdkRgrvg+ncHZc+U/uW6AASAUKCSxP/R5i1/lknclH09xxL3DJcWra0EtJLAyfTvao81IPp44x/uy/3Lf7pKB5SWIh+nmOIqlyXFyaPp5Bb7y1uQKAA4CKNc0ksTjfT6BocMjKc9SRfT7CilDvnkIWyoWCdyPKWkljB9PsMSlxyJKSj6fYNm55FsqRQSWNk+n2DzFPI1yhZ9PoBO4vyXGNbikUElkJOhcN0QY2RS/2E0z3ItUEUksrF0NprYnNeXuceHKU9F6Uapr1paCVJZ6TpHS3xGMxob0hpQoujLloUJLNf2L0qzTXqU9I6RRHwK/pFJLPnpDSviMfxKOLo7TIzdOctIlSWWb0PpgcTciczorSmx9rmvetOhJZVvQ+me5U+XorTX7x90a0yKSWRHQmH5memDoLGEm+TIWLY0gi0lk29BaeOZZEw9BYNV88i16KSWTZ0NgMdG4Pce3ldJ6M0r/ZctHSKSWcj6M0qPftcUsnRmky8xuWipCSoD0ho/b2jGUA6I0ry1601JUlQwdJaTj3WP3KR/TGkOi+M4caukhFpKjPSukEsJxBbFG7o3R3cwK/rYpaSWVl6F0qQ2wyRrnPQWEIC1sju9bKrRSSxcfQcDLvJ5CUfT3C85Ei2ZSJLBf9Hl5JvKqBSH6dw/NtlOMS3P380gi/JCSyx6E0f1Isz1T0vFo2I3Ix5HOBevTyFmuvBfTEv2e1JVf02I/TZbVuaHled/TbIAycjH8uavRLpJJ43qq3teQdWhg6jyhF/tL16tgNiPN72vIerJGS9SZThbf3UVJ7R/Lb6fEYNMx2UWn4wSDyLC6CKO265tNd3abjkEm2Cy7k0KXUTuF0Hlzvsg3tAIJ3Sk1ZH4TaoffylWUAE7khAs8bj2i9qQARwdkkGh7KOD7QCAbACUmtiBSUyHmhx9ku4549IBoEjYoABFkpI2549IFEWUGjQG4QASaqh7SiCfIPCjJDnA2SRzSfVXwUwC+AAfskYO5JQgnejz5QR4HCmRsDdoFb159oG/A3RdGiPukINgAE8eQgnccn8oAJ8UEHc7JTLsDsOUD/AMCkJoE0PSQEgcn7D0kpKANEpB+6wBVJln/WBPpKGkm9xXhKGUg7CgL2QYyKBFgpQLJ5BHFqQPP+sBQ2tNwoTEQQasI7aFUR9wpu8E0CAEAg2AR+U3NUIAHkkhFAG+L8qV7LFDnwQmUQe1wG29lRuamhoBJJNJDXglKSSTZ28JLGwpW3ujUiSrCcTVEhId+EkhNhFJUlWkigkSlqO1JCEISRaCTaEiSW0iWrQAkgJUlJUkiClSVeymmE4Jo9I7SLrdJPsJLrlAO1UAU2wOVEnpCaKW0hNElKHyizCTiSlhAPaQCeAsLoD5Y+o8X4qLzKtpqg7tMyKBP7Ds1Ynpt7ma/i9rO8mQLHk8t+Py9mF0LWa68IHT0hIsdy0wWd63xzP09NTt2UVla2T+neO5+ryTBtsY1enrzD6czlmryxVYkjXp6SEIQkhCEJJLSpCksHyLSTkIQkhCEJIQhCSEIQkhCEJIQhCSEIQkhCEJIQhCSEIQkhCEJIQhCSEIQkhCEJIQhCSEIQkhCEJIQkSpIQhCSEIQkhCEJKOQuABaAfdpWkkAkUTyE6rQklQhCSFiPqQZBgQeGdy26wX1JdN8WMwC4Ukz6aY2+Vkkemre7LF/TqZjsOeJq2ySaPdVsvIerD/wCsuW7uD6cvXQKHA28heR9WvDuo8qmBqk9ofLb4T+/Bx3CqMYoDgGlJZK5dIcHaXinx2Ci1dlLoPLnfZKrcn7pSe42SLQQUAgWlEAA72gizZRaHJII4RtYISDzaBe6mS0EhCRPFeFEgb7WAgmtiCfwg7VYQAQdjsUknPACQjZO44QQbBJ2SijCCaFHhOLfItNPojZSTUUEtWEl00I2ICU9Rx72QdvJIRuduPul3FbikkgHgcc7pxO/qvSS6NoO5STw72mkbkgkXzukS8FJAN7cfdPDQeSmkVxwkquRt9io1J5bG0USHfdJ2BzQQQBxSj2qqJHsqQP7QBV1wlBFPbtZAG/3KH24XtY+3Kd3B1G7J5B2AQQDuK9E2g00IIINg0NtkhBHNX9ksjAw2CaPJKYbvm1YeqIJs72UVSKrlKlEgQbHCU7jdACSQk0i0pCEk1LSDaBaSKRSVNSQlCRCSckJSpLFpIBJQBYSgBJdFJPAoAIAoncoBAFkoN8jdRumKB92kIIB2/CUCzzSKoEE88JJvck5N1/K07tP8vaXt3B5CmigzHmLCmkoANaSQd72WG6cmDOpMOT3KtvqUkcWnZDn0GhpBWR6Ma1/UcHc3uWPJ06t+Py9cCousCG9N5Xcr5U/VHadAyxJs3tWVrYX6fyBuv1x3RL1JeXfTtkh1p7mGoxGe5eopIQhCSEIQko5A4gAGh5KYIADdkk7k3yp0JJoBA3NoAq05CSFy5mQ3DxJch9lsTC8gegF1LlzMZuXhzYz7DZWFhI9EUkvN4dU6h6kz3R4M5jaPDD2hoXWY+q9HyI3ZE0k0TpACQTIuSPS+oOmc10uHEZGny0dwIVlhddzsnEOqYoaktpm5uLgRCXMmZCwmg5xoWVxf2l0X/wDMsdP1bS8XXsGOOZ7/AI7EjXMXnnVOm6PpThi4RlkyeXW6w1JelYOqYWolww8mOcsALuwp+Xn4mC0OysiOEHgvICy3SelSaDpGTqOT/jJI+74/QWSwA3XtWfJqmaIYt3Fz3JL1PF1fT85xZi5kUrvTSp5posaF807wyNgtz3GgAPJXl2v6bgaWYsrR9QEpDqoSAlq1TtSdqnQOVkvr5Phc1ySvcfWdOymyPx8yKRsdF5DhQCXG1nTcyT48bMhlf6a5eZ9J6KdayJo5JHR4zBcgak6j00dO61H+jkNUJGFJbHq7qU6ZEyPAyIjkh9SM5NJ2gdU4mRp0b9SzcePJLjYVD1vp8IwcXVrd+oyu0P8AX91S9LdK4GqaTHl5BlEheUl6EDYBG4IXBrLnR6RmSRuLXNhcQ4cggFdzRQAHAAAXBrv+Zc3/AID0ljuhNTysnPyjmZb5I44r/wAK9bLH1vTMqYQ4+bBJL4a1y8v6U0k6znPxjI6OAMuTt8qbqrRo+n86EYsjy14LgkvVpJWRRl8jwxo5JNAKud1Fo7T2u1HHB+7lV6myHVulMN+o5Qx2ODJJHrKSY/SFFrczMD/Du1JenQZEOTGHwSNkYeC0ggrDdf6hl4WfijFyZIg6M2GFVnQma+HXhisfcEoK6fqX/nDD/wCEUlrsLVsXF0jCdn5kcckkLTcjtyrTGyoMyISY0zZWHhzSCFiNK6Liz9LiyczJlM8rLb6aqnpvIn0Tqr+HudbHSmJ6S9Iy9TwsL/KsqKL7OcAVFj63pmU8R4+dBI/0HLIa9gaBHq2VNqeoSmWV9/FFyxZrV26PEGP0fJyHOui2UJL17IJGPKQSCGEgjkGjuvPuh9TzcvXjFk5UssYjOzytR03lyZvS0c0puQMcLXnOgat/Bc6TJDPkd8ZYxJesZmrYGAQzMy4oXO4Dyo3a3prMVmS7MiELyQ197FYbp7Qp+pMp2p6pITDf83qx+okTINLwYomgMEpSWxxcuDNgbNjSNliNgOabBo0VzN1vTX5n6QZkRyCSz473tV/Qv+jGN+SsXif/AOQ2f/GFJd3XGpZ2Hr4jxsqaKMxN2YVvP1MUGAzIyJQxgjBc9xoCwNyV5x9RDXUn4hajJ1DM6v1CHAx6igbw3/zKS9Dw9Z07Ol+LFzIpn1dMKsVUaJomLouMI8doMh3fJyXK3SQhCEkIQhJCEISQhCEkLG/UihpEX3kWyWL+ozmjAx+5gdbklB9NWVh5LluSFgPprO8uy4OY9nL0C0kzwvKuuKGuyUyl6qDwT42v2vKOt3l3Uc9iu0UpPZ/NWk6ccDosADCxWgscHZVXTxJ0iEl4eSrIGjXIOy3PLmye2fY33Npt2UoFFLR8mlNWRJYPG6WkDhJLRQQUnG6KsJIRwkS8JJ3KAd6CQbbpRzftKICQkhKkIJIvhJFEnYg/ZBbY2IRRugPCcATWw2TdaiI3qq+6FJVkk0CgtokkWCm5MQKKUgAgiyCk/CbkpIogngpCd6sUAkNADaygCt6pWo3Ov7hIDuSeEJN7TU3OBqwePCCb29pu5NHhAsE72D7TVMtCkoAuqN+TaBRFki0263G5vZR1QdUhYAQQeQmglooUR5CCCTuCAed+E0kk0Bt4KTcpkP8AdcAQeAPCYUtkmhz7SgA7EEJsomXfCU3XKUxnkAEXxaaRRo2FO5HhKTST+dBGw53/AAki7SpBfo0i74SQhKkJTUlTU5CSal7iUUfCKISSpKANoAtLSSQmilq90UlCSUWeAKTrNbEAJgNH8pa+9JqbjYnc39kDYhAIrwUApqmCSdjsPaLAIG9X48oRdD+aS4taaHaRk2O4BpIbyQsl0iz5eo8WnllEuWx1BwZgZJcLAjNgclZHolod1JjrHke7bj8vXAqbq1sjunsoRCyWq5CrOooRPomUwlwHxk2Fla3nfQ85xeoY4y8ASgsXrC8d6TF9RYtvEdG7K9iSQhCEkIQhJCEISQhCEkKv1aSaDS8qTGsztiJZQs2ArBCS8+xev5YG9mpYLi/2z9qpNYzJOqtWjOJiFnDAvUpMPFm3kxonn25gJTosaDHswwxx3z2tASWe17Nm6e6ZgEVGcARBywWi6liYmonM1GCTKk5aLFdy9enghyGhs0TJQDYD2ggH8FRfwzB/7Hj/APKCSptJ16DqaPLxWwPiqOiSsKMMaBqT2argfqYF6tDi4+PZggijurLGgE17oJ8sEU7O2aNkg9OAICS8ydrHT7wG43T1v+8i1WVBFD0JkfFjDH78cvMXoq/jwsWI2zFhafYYAVJIxsrCx7Q5pFEEAgj0QUlhPpjXyZ34YuP6kf56g/4K9EixYMa/ggjjurLGgXXF0E2bDxcg90+NFI4CrewE1+SEllOsMaTI6QwHRNLhEGOP47VVdNdXx6TpzMOXFfJTjTmr0bsaG9naO2qqhVeq9KE6bhc/o8f/AJYSXQ11gH2AVw69/mTN/wCC9WAFCgo3MD2lrgC0gggiwQeQQkvOfpr/AJzyv+EpvqZ/l2F/wnLdxYuPjknHx4onEVbGAX9iQEs2Lj5JBmx4pCBQL2AkD7WEl5/1LjZE3S+kSxNc+GOIB6j0XqSKDT48DF0oS5lUCAD3L0cRMEQjEYDAKDABQHquKTYsTGgd3RY8THe2sAKS8u6Ls9WQ3zb13/Uv/OOJ/wAJb9mFixS/LHjRNkFnuawA2edwLSzYmPkEHIx4pSBQ72A0PQsJLDaf1hPpOlQ42bgvLwy4n+HBcXSmDk6x1D/E5mkRh5kc7xa9FfiY8rWtkx4ntaKDXMBAA4ABCmjYyJvZGxrAOGtAAH8gkvJHOk0jqN02o4xlLZHEtdw5dHU2ryatiwviwP02I15p1buK9PmxYMggzwRyEcF7QSPxYTHYuO9ohfjxljTYaWAgH2BVApKi6L/0OH4kWJ6T02HVNVkxZ7/dC6j6K9Yigiii7Io2MZv+1oAG/OwUcWFjQO7oceJj6I7msANH7gJLzXCys7o7WXQZFmBx3b4ePBWh6zA1rQYMzTz8rI32aWslxocijPBHJXHe0GvxYRFBFDF8cUTI2G7a0ADfnYJLzrp7qyTA00aezEdPODUfaq3Q/md1ninJ2mORb16q3DxYpPkjxomv57mxgH+oFpBhYol+UY0Ilu+8MF37urtJecfUT/ST/wCk1SdQaBNoz4dV0y2w0HGuYyvQpMLFmdc2NFI6gLfGCaHAshTmNr4yxzAWEUWkAgj1XCSo+l+o49YxxHIQzLYKc1aJccWFiwO74caGN9UHMjANfkBdiSEIQkhCEJIQhCSEIQkhY36iDH/hMTni5Q+o1sllev4TJoBcOWPSVV9NOMxb1ec/TfJrOyYDzI1ejWkjdeVddmtefbF6svKOvP3dQSUeApPZaHQbZo+ODH2CirG7A+x5VfoU3z6Rjn7dqsDuQDa6Dy5cvWeBYBQCb4CKA2o0l4GwSiS7NCkm91RTuBaNq2JtKZACEEmkbBBSSJfF7lISnAkDeqSSDbfn7I4N+D4S7Vt/NHP3SSVfCU7iuCEhvxslG4Pk+0kCyQR4S3W18+bSC6O5QKAs3aSUnazv90WRVkEJLobgEegigNiDvuPskhwJIqq8gKMGrrZSEEA1dqMCib3PpJF3yUb/AJQdzYAQN7JoK1EE0ihaLQduUkHigjmgdkFIdqvm+UlIGju9j0l2s7AEb3aQHc3zSXxaimaSXAEk15CbsdgKHu0pHAv+XtIaOw2AShnAVxQ+/tJYOxBoeknKCb23BSEtkckgePuggk2QK+6SyCBdpaI5sJNS9oNg716SdgAJAooBAsCySdku4NmiCOE2zqaDfAs+kFp5Fff7IokkjYeUMd3EgAiuU20MyvZSoO5Ne+PSSlO2SpBujkbICSdSEISQm2E/dJR8VaQksI5QQRyAij+Ekh3pPF/gJAa2I39oG12bSRRq0AbVaOebAQbHFJIDrKXckAbDm01KN7BuqtJcmquazS8guptsIJPAKynRUhZ1Hj0wuu2rTa7B8+jztd4HcFmOiq/tFB3PLFjye3Rx+Xry49TifPp2RHGQHuYQCuxQy38T+3Y0aPo0srS8c0t5i13HOQA8slDSF7Ra8UbM6LXhK5vcRkGx7Nr2SN3yRseQRYBIPINcJLoQkCVJCEISQhCEkIQhJCEISQhCEkKl13qHF0P4v1LJHfLddiul5/8AU7/7h/NJabQ+ocTWxJ+lEjXR8teu3UM6LTsOTKnNRxrzTpuWTQ9WwZpTUOXGr3r3NdkzY2kQcyuDnJK10/rPTtRzI8WGOcSScW1deu9RYuhmIZLJHGS67F550zE7F6wxcd3McxatN15nHBlxLxcWcODt5o+5Ja3T8uPUMKHLiBDJWhwBXWqTSc+OLpnGzZxHDH8IcQwUAsrL1vqmdkGLScL+VF5SXoqzuqdW4Ol6gcOeOV0grdoUHTWuannZkuJqeIYXsZ332lqoeqtU/S9SOh/RYUuzP3SxWUl6IDYBHBAIT1n+qtTyNJ0T9Vi9okD2tPcFmsbrLV8rCc3HxRPlNNl7Y7ACS9FQvPtP6+kMUjMzH7p+IxGof7b6vh5rW6jitjj8s7aKS9HQq3M1JsGjyahE0ytbF8jW+wsg7qXqiYd+PphEf/CtJegoWI0DrOXJzm4WpQiORxoOV/r2twaHhfNKO5zjTGJK4THGgT6BK87Z1f1FnW/CwQ6P02IuWt6e1KbVdMM2VCYZQ4sLUlzaZ1Zg6lqAwYY5hIb3ctFQXlPRlN6v/wCYrvVOscufUm4uhRiXxZF9yS3dLP6z1C7CzIcDCxxlZkvMd0Grj1LqPJ0DT4m6h8eRqEv+pFs1izrOotai7tRj0qFofRdOIDbvy5JekRGR0bTKA2QgdwBsA+QCqfW+qMLRclkGSyQue3utiTprqOLXInDt+KdldzVkfqR/nnHPuFJei48zcjHjmYCBI0OF80RYtUsfVmDJq400RyicyGLgUrbSRWk4f/BZ/wCQXmuJt9Q2/wDxZSXq6EISQhCEkIQhJCEISQhCEkIQhJCoesRfT2Qr5UvVAJ0DKDXtbbeXJLCdB5IxtfEb+ZW0vUrA3Ow4C8p6KOPF1FE3J7b4YfTl6tuUknk0ST6PC8q64jhZr8pidbjRe1eqgV7O68o65H/rHKpoS1GjW7ScUmMREx0W+wCu1hvnn2uDQJJJ9Ix3PLSaqwrEbAAjzsVudBc6dsoAANk2CgEVzVlLW/7iAgn8V7CndEhocG0VXKUADhBIokmj6QkXfIRSAQQK39oG+/FbUlEdqKpARQSiLQSPCCLQGjkFKYquN0Emxew+yLKASPvaSAa8EhFEea+yPBO4+yBVWTR9JIFWlIBH4SbjwENs2EhFg8kgoLQ4ksBBA5QbIoAbILi7YbVyhGiuqvlNJs80nuFCxxdJhbR29WrHtCRQ9m04Gtim7eRSADSMCfZ4G4SWNh5tNAu62AT7obAWlMVRIoknyEgBBqz+EpBNUCB5oo7QdwS0/dJFEkjz4KKPB3PtBsbGj9wi1EjnwQivPrlFoqgRexSEUAfyiq2JJ82l2rc0hKZLra7QSBRNlBseijf7DfhKIoEWAQUEgCronlBFnY0AigTRB/KkaNTSQSA3jyfaU80NygtPdTNwnxtrclN06mFpaLIAB4ASWPBpTcmjv+UFoHIAH28Juaob+9otOcwjcbDmymBpJ34TdGpxKDV8EoIB52QARZtNwjk8FLdc7oGwvm0JTFov2EUhJCEw2iypk5AO4rkb/kekIH/luFFFxazGJNJyG9xae0n9qy3R3xjqLHExd7atXqlDS8ruJA7SSRyCsb0qHnqHFEbwy37uKx5Pbfjer2RNO4KcuTNoYc5JIAjNlos1R4WVreUxN+bq+mAf5QV6+F4pg2dbiMReKmBB5IFr2sGgPO3KSchIEqSEIQkhRzOc2MlgshSISXLG+Rws2PCmAJG5JTiBVJUkC63QlQkhIEqEkhtef/U7/wC4f/MvQVl+runp9eON8EscYiu+5JUWp6b+s6F0/JYD34sah6Lx5tX1p2o5Ti/4FudHwDg6Pj4Uxa8xM7SuqOCKAEQxsjBNkMAAJ+9BJeY6P/p63/4p6tPqd/jMH8PXZhdI5WN1CNSdkRGMSGTtXb1d07ka8ccwSMjEQN9ySrdTDz9NcXt8MjSfTd+MMfIaNsm1qNN0wQaFDp2T2yhkXxvrgrK5PQMjZ/k03MEaS23cwy9ncPkAstsXV8+6teY9c/6Xn8RrX9N9NTaTlS5OTlGeR7O1cPUPSWVqusnNiyImMobOSXT9Qv8ARf8A+qxQfTdgGjzP9yq36m0mTWdKGJE9rHdwNlN6V0aTRNOfjzyNkc55dbUlg+nI2v6yja7j5nqz+pn+X4X/AAnKx0npHKwdeGoPyInMD3OpdXVvTORreRBJjzRxiJhB7kksuqnR+i8PKDA95iYwKo0WTqHqGGTJj1cYrGuqg1ad+hx5PT0Wl5TrLIw3ub7CzMHQObFJQ1INh89l2ks68SDqmMS5Iy5BOy5m8OV99S+/9Vhf7v4yp/7CzQ6uyfGyWCBjw6n2XLV6zo+PrOGcfJB9tcOQUlzdJvx39P4wxi3ZgD68FWbJI3seYi1wBIJBBAI5BrysN/YLPhfWLqIbGtXoGknRtN/TGYyuLi4uKS8ogx8rK1CWPDDjKe8000SBZIC0nQGfhY+Q/GnYGZUhpkitNB6RytM1oZ0uRE5gvZqk1/o39dmjK0+RmO/l6SznXIP9qiZLDKYvQ3zYX8FMlx/pfi+1VSp5+mZNV0uOHVJ2uyoto541S/2C1Gvi/iLDAkuDoAOPUwLL7BG9aPrDScfUsmB0mowYroxVSq10Dp/G0KEiIl8r67nlVXVfS2TrefHkQzRxhrO2nJLS4ze3HiDCHNDAAQbBAGxH2Ky0Oj4jerTnjUsYvMhIgsd3ctRhQ/p8KCBxBdHGGEj2AAaWWh6Ry4+pRqZyIjEJzL2pLaBKhCSEIQkhCEJIQhCSEIQkhCEJIVV1FFHNoWUyXZpjVqqPqycQaBkuSXnnRxb/AB+C4TIvXSvLOgDWv/3OWr1JJKRtXteZ/UMuGrtBA7e1el1zsd15l9RHXrjR6iUnsrjpWUS6FGGt7QwkX5crYkECj53VX0y4O0KCmgK25NULXQeXPl6zTQ8A/lAI9UlSdqjVTUb+AFHRJIPvypCa4TSAQBRtW6pmgkEkUPCkFE7c+QgAAAAAIO3gV9lEggnekIFEGwUcc8JI/laCB4tF+jSKHk7pRH43QCikhs0KSblP2IJRYIJ2BHhF1uBuAigSCRsUm4AqjZNpSd7FXxQS7Em9qQCGi6JsUCo3SEhBaCaI25TABz5KkJBFG75UYG5IUkmkGqI25RfvnwnF29EJtEbHdSeyQgHmgE2iOOE9CmiQCgfulBsgfdHHCKSTySCARseCgizRGw8pncSKIR3bV5G6iQALPhBCO4O2HJQL4qykj7AivulP5tLzyEiQgc8A/lCQCygtKdUxQ8C0Ud7FIoAotHVGorat7+yCQANwEE0CbpMAA3JslA3F1StIu7/mnCiCCoge2gfKlAqifG6h2M31AJ3CCASB74QCSbARYaSTwkGAQWkPIrwVELGwGw4PhSNZ33ZoHhL8ADQCSQOKUzTRXfOxS3dgWfupBFYJsEDwOU10RDQ4Ch5HpSREmXYFFLuksAADhF++EoGLHnZFpaBFnYeEVaaZISgUUEWkPoJJUhNJUDkH+SSiySG4sxcAQGmwRYOywnTxc3qDFLIvlcJRTVvMhnfjzNJIBadx+Fhumml3UuKGmqkWPJ3b8fmr2IWQLUctfE+yAKNk+NlKuXOcGYcznEgCMkkCyBRWVreS4EkmP1M0wNDyZiK8EEr2IePG10vFsF72a3FJinuImBaSvZ2E9oJoEgX9jSSkCVIEqSEIQkhCEJJClQhJCEISQhCEkIQhJCEISQhCEkIQhJCEISQhCEkIQhJCEISQhCEkIQhJCEISQhCEklpUISQhCEkiEISRYSpKSpJLSpK3tKkhCEJIQhCSEIQkhZvro105L93haRUXWLWnpzKLvDbCSxn06lrW5G+Xxr06r8rzP6cxMdq8kjuWsoL020ki8s+oO+v/APyr1IkCrNAleW9f/wCkLvtGpPZXXSP+ZGeP3K7FC7Fkql6TcX6FH7a5XV+uV0Hlz5es0+ARSKrZOq/dpDXBFeiUqyEG9qRVko7R4on7IBIJtNsgChvwgV44QNybP8kHYUKO/ASQCQKCONybQQTvRR2hJIQTvVBHgUlo1tv+UGzQAopI/IRQB2G54RZBANlOB2NA34vwkm0QR3CyfKduSATQSWSDZJPtKKOxslIHcFoBAAJA8ndOABJog/gVSjkJa0Fopp5rchOY4kUbsbA1VolMVubNj0ggEkAkEJxAbvRBO4IQCSSQDuKJ8IbKHTQn7DfyfaSq82fKcSAdiSD5TCAATVlSUMqRBI2oEe0bUTR2UsjckAc2gCyQT/NIN6rY8pwG9EgkpJA0XuSUdoJ4TztvYr7BNJve1E1IQO6hsUUQdzunVW5opALBJ2Pi0klFPDQRuAT7SloBHmx4RVDir4UMkDSPIAQRYoi/ulvt2IJS2SN9h4SmaQQAbsJhAuve9qTYAAjjghBbY5B9V4QlGRYIJ/kk7STVcJ/aT+fBTgD5IVt0JRBpJoijexUpFkAkk8beEAHe+fH4UgaA2gbJ8jlVXbANUZcRtvScGghpIFpwaDYsE/dL2g0bANcFKwEgAa4UKHpBJJIG4OyQAE15BuzwnCwSbF144TcmhoFhhoDdI54bYJskbDwUoFgkGh5vyk7A6wRQ52TcdtCGl3Ao3vXAT/gNcjdStADaaCAPaKFbk3e48JuqFzkFpAIs8AoLC0WRY52UwBdIDVgbUiUlsZIN2dh5CbadXOTewFD0lAFbcqeNoEdkCyLN8qNjfkcQNgDtflWHZQlEAnHwggtcQeRyQEDc3vXhI0OY4sxZiCAQ0kE8DZYfQA6XqPG/wwiJksOW2zA12JMHkAFpBvYcbLG9JsD+psVr2d1OWXJ1bcfZevjgeduVBktbLiysdZDmEEDmiF0qDIb348jQaJaQFja3kGkwsf1LDHdME69k4/AC8Whhd/Hmwtsu+cCwvZmWGhvNAAn3skpAlTQTulvekkqElotJKhICDwlSQhCEkISWi0kqEloSSoQhJCElotJKhIi0kqEiEkqElotJKhJaLSSoSbpUkISE0ElnfbhJOQm92wJ2BQSQEk5CbvZSkpJUJLRuklQktANpJUJLSXx6PCSchJdItJKhJaSzW26SchNJ9EJbSSoTSSgmvxXKSchNBvkUlu0kqE2x5sIJqkk5CZZrYWfItKDfr7hJOWd62jMnTsy0O6znXMvxdOy/cgJLN/TZrDnZX+0GUF6I0gi7BHheb/TkwDU5Q+zMW21ekjk2Ukp42AJ8WvKuuxGdflLH26qc1ep7n8Hj7Lynrl0h6jmD+AB2qT2Wi6VcHaLEQyqKuABVgij7Vb09R0THVltQAHBW55c76yHY1Rv7IsEDYk+PslPNk7VskA3sE8qaslEbiz9kVe58pb3q0hINCjXtJLRAsgUeEmxHFHmwlNAAgkn16SEjayd0kbEWCd0eavdG+90QeAigBQG6SDY45QSQNufP2QQaA2BQBYFchKJrXEg2PwUoJI9fdKASeaTgACbF3wUhINtjRS7uNNoAclFEXdDzuiwRVgEputFgbekebIJNbfZGxFEEVwUAhwIBJrglN7kAkEm7PgFG4FWRf32RQIJPAQSA7igRso8ok7RVHck8pjx2Oq9q5UgJaCSQfQTDRNmyVI0amEuIJAI38pCTRHtSEFw3IASWQKBFBSu4moAIABIuvKUDfgE+0znfe0Bg8miknkEbmj9kWBxW6jqyQbICACNjuCpm6UNIFkijxvwg2RvRAN7KMgDyQjuIqiT+VCQaYAe6Pi0l8Wd/GyA7vIJqwN6SkkEULB8AcKKeoNEGx4QWgAG7HlAqzudzug7HY2E3NTaIukbnkAfhOsHayjtoEg39kmpKFbGkhFb2CEbHYhBFuAA2TdCTmNs9x4AoWnn0AOb2CSgBVkUd0FxBAuh7rlRusGoIBFEUfaUAEAEEV5QN3bix7tNG5ITclsGwRtwKQKANGggECyOfKaWgUWeebUyea7RY3vcIoE2DW2ySqBAFAcg8pQbF1t4SSUTYJAHNhHdRs7+PygEA2AQCN03YAmzRKSfYBtoq0wtDhbzsPAQST5ICCASKNjykh5oBoBoih7QGhpA8hANG63ugggEknn0FHc1OIDnUABexPpc8jS1xHIGwIU1AAADf2g0QRVbf1U7SjVW6iWjT8gvBc3tNgclY3plt9R4paHiMSrb5/a3T8hzxYa0kgcrE9M5MmN1BilvD5BbVnyO214zRexqDIPZjzO9MJ/oFMDaikYHsc13DgQfwRusrW8WZmOxdW/VQ2C2QkBax/wBRJCKiwgCspPA0azJjkWz5y30auls/4BpjQW/CrGK+VXIPZjPqEBjW7FuVPP1DgqxiKB3S+nlopsgTm9NaYCT8bnK3zaP2Sn6i/u2wraunC6/xp8oRz45ijdy9cB6U0/3IszrmBHgag6GI2xVcU9rGQ+XsrHB7Q5rgWkWCDYIPCmVX092jQsMN8RBWirTCaSANzScubK7hjS9hAf2EtJ8Giks5qvW2JgZZgZGZqsGlEz6gadw+KULEabhfxLV/hyH0XOJetEOjcSn3kye2qQXyhQ9rnI6706Ls+NrpLTp+udMiApsj1SDovF8ZLlC/oqMk/Flqfw0fstGOuNL+EPJkUB+oOmeI5VR/2LZQrLt3JTm9FQiQ/Jl0xPyz9ldS9fae0Asikcmn6hacGA/DLapT0VHQrKUp6Nx/ic0TuL+Q5Pwz9lbu6+01oZUUqB1/pl0Y5e1U0XRUPxW/Lt3tqVvREXnJLk/DP0V47rzSgywZFK7rnSG/6z1nD0VH4ynIHRTKfeXTk/LP0WjHXGj+ZXKN/XOlAPovPbws5F0WKd8+T2qc9EQW2stPyz9Fdf290rbaRcs/1DxW7RYznLgHRGO5h7cqnLpg6Kw2NAllcX+XJ+WfomD6iU03hfuRH9ROTLhJ/wDY3Tbc4ySU7ZoTj0rpvqSmikMGhzKA/UV/x/5GPkTB9QsgS/uxGFi7YOltKhItjpUHpbSrNxuT8M/Zch+oknaKwgXrrj+oeMWH5caRA6Q0wwln7vfcmHo/TXQ9re4P47k/DSZFPF9Q8BxqXHlauhvXelOIFSi1UjoiDufWS74/u2ioz0K3zmp+WGRXsfXGkuNPkfGpG9aaO6Qs+Vyzx6FaIH1lXKmDoPjuzQGppp2WmPWWi8HJTJetdHjAqVzw5Z49Bjas5Mn6Gfzj5Qcn5aP0Whf1xo7XANkkeoj15pVMoSqgf0RJQEeU0v8AKkHQ8d75afln6K9HXmlF5FSrlyvqBixSlsWM6RVzOisYMqbKcXpjeiY9zJmV/sp+Gfou8/USDxhPUQ+ovvCXMOioR29+X77l3DpTTAACHp+WOZcZ+omV4wmKdn1F/wBrBXS7pzS7FQkKN3S2lOi7RG5rvDu5T+HVU5Derod1/hgMuBxtRTfULGqQRY8h/wBlcOT0diur9PO6L7OSRdHYwLS/Ic5R+Gn9lPH9RKYPlwrcmz/UNxlYYMWo/wDW7lIOk9NsWJFJF0vpsXdcZf3eybap/DP2XG36hZAlp2IwttdR+osfjDcnf2V0vsrtkUEXR+DEbkkkeFDgk/ZSH6iRh9DCIjXIPqHlecSPldp6S0st4kTj0rpZIIY4VVtT8M+hcUv1CnBBjxGLl1nrBur6W/GkxQyQmwrZ3SmlB99rvs1U3VOi4eDisnx7jPd2lqOKG6TIXRWH017TkZl13L0Fef8A03x6lyZ/bVvqG10NlWtOK8s6/o68S08Nor1O15F1m2upcqxyh7LZaGGHRsWtv2rtBu6BBA49qr6co6FjkdytARdgkH2V0HlzPsAiwCCDXHgIJANXv9uEEkDaiCd9t0mw2FkHyVNEpsHejaQEgkchAAHn7UUGxZAFJIJI45SE1Vj7FFXvdfdAonmz7SRQsUSR79I2I25vkoIIO4oe0AWbI28UkgAg3Q+9oJIcT7HCCLoE7DhKAQSCL2q7SSDkbE3yAnAAnztexTRQIo0RyD5Ttgd7B9pQQCSCauttkoIcASKrxSQEg7Ha/ARZINUQfaVpxN8G0AUbJ2qgm1VUeUGiRdmjskg1RBuzwmmyATYI4TiSDuNgNkEFwAI3qz6H806/smE0d72HCfGDySAD4PlNB7qLQCLokb7oAIJBBv0gf0o7IJBJHO/jwo+SQpCdwBYNWQRQH81G4hoLnEAAAkk0m/8Asdsck2apF3sQPso5MiCNnc+aMCxRseVENQwqJ/VRkA1ZI59Umwo03TYBryfKO3/w2UQyYCARNGS400gg2VLdktBBIG4BshN06T+RdGroe6tBJOwALhyLoUocrKhwoDNkSBjAQCRvZWfl6xjbkER43dEo2b0tJir5aZpLXEivuAbpTBxIBFADk+1lcTq6GWX48iH4ozw5aHBzcfNhMmPJ8jAaJ4IKKPRS4o3SRe4PO6AKO3KNwaAA8VfCCCLI5HjlNVZSQCRyfuk2Is3aBd3VgoAJJuuNk7pgkFo5/KawHvNGhXFp1kAXQBPlNIJAI90QCpoZ4JNgEG99/CAQR5B434SUBvuK2sIJBoAnhKZSf3AEUEEEDYi/KQmjY2/O6Bt4BHu0koBO1ADzSWiDVWAdifCaCBYJIv0gEDYWa8lJK4bjySlqyACQeT902wPFn2lNBoddEGvykgOJux5qkgJArarQQSNxud7QBRBI/kkgEm6Ir7ooEjgHzXlBIsAbk77DhBIFEWK2/KSBe5AAA9pRsLG5PtITYqjR8gI4oHYDyEk4ggkGkAftBBs8FHcA2gRZO9oLhVkgED+qS58hpLJW0P3NIAI24XnunMEXUUEczyKmAc5q9IkIEZLgCACb/kvOdNcB1NBIaIOQs8/LTjvY27NAu9huoMiUQQvkIJEYJIAsmhdD7ldAIIBHFKHJAOPICe0dpt3oUd1la3jRyBLrRyC0kOmLu087lejAWASaDgCARRC87xovn1trGScymn8E0V6LdAAkkgAAkbmltx2PJ6TgALoAXzaQtBO/Pj0lFngADxRTga2AC033ZamUAL2scLHdbRluZFJ4katoTfAFrO9Y4xl05kreI3KuZsr8bprroCf5dA7efjetUsB9NsttZGJ+HregggVRtc90Tlz5JIx5SOQwkX+CuhQT0YpATVtIv+RUMvJNAdfU0Z9yFegkiyASK4NWAvPdLcIOpA5gD2NlK9CuiaIFHcA7BbcbY8kAAgAEk3vflLwbF3wKRf7jY28IAIursFaWcAGyARXo+EeaIA2okekEirqidj9k6qoij7+ySjIAFAEj2U4AHYE2Rygk7htUfaC0tobXyDaE0zQAXAG6JoBdIaSACCCOAmxs3BIG24JI2TwSXE72PPtQvdYo5I+4BzTRBoj2o+0lxBIAUzCHE7kknhElAGyCfP4TZAowW91A2eE/sIGwIJFGxYpRGFpkBBNVe2yrOo9YfpEUZZEJXS8B9jtR6NwNuq6BIBokUeDynEtdRFg+VxabnR6lhR5LQWWAC30QusGxZH2oIO4mqBzu9+52Bq0AEkiz23wmgU4gjcmwE66KDVR3ABsirpODSTuKHjdNAJsAAk777KTYgAgWOaRpgEtG3J2T+ACRv6CCCaBG4PhBO57dze9+EpgHc0SPP4TgCCQT3Hm1E57GGiTZ5AFpzHh4tpNjwk2UgHdvRCC0EGwQKoAIJqkWL8i1Eiu1tAgA+CmEkmjQHNhPIsHax7tNGzqGw9IRmuO4INAbH2U2gXEEEDwK2TyATRNVuE0kkjYUPKkjIdxQIr7pg3JBquCU80SRW/tMPgDitwpolqqA3F3Z8JpIJBJNjyg8EDc+kAgt8GvHlRRBBO5AAA29ptgEEXQ4TiCa5I5QCLINb8bcKZNJ9CySgCiTdEiiPacAQDY4PKQAGyeSkksUEEk2Bx6RRO9VSUA2Sdgk0wCQRfqtvSUVRIuzsbSAkGxRAS3Y3234Sknnm0EgHfyfCbdDYWKS2Ksn+VJpk1wJoDjxaznW4aNNh9tkWlIujvus31ua0uJvuRRl5Tx+z/prEztypbuT0t9VLDfTRtYuVJ7ctxa57okqgBfC8p65lkf1DIHt7Q0U1er7UPRXlnX8vdrhbW7UPZabQ3OdpGKXANPYF38Dcgri0WjpGKL4YuskEkk78Wug8ude2LAN8DggoBId4rkIsFtEWQdkHeydhWyd1ZwsEkiwT4TfJobA+UXuCCdtrRWxsWDvaUbgG7sUiyBWwF8qPmqJo7UpCQQARwLtTTAJJ2N/lANuJ9DhAAAJG1pewUN0kl2ONjyfIQCGgVZrm0hBsXZryE4EA7hKNSEEb0KPlOaAPII8WgG7JINnYIAqi8AVwPajdIQLNnYi0EeOEF1g2A0DwPKCQaIKmmKNmxwlIBA45vlINibs/lBBo9oskAkGqpR5QzciePGhfNMQGMBJs1f2CwupdT5ufcGPcURJoN5K6+t897smPCAprACrbo/RIosNuZPG107t2+2rDl5DE3dHHhs22UxotYdEZMczml3aT1PkYshh1Huki/o4L0UAAENAAPNAUD4KxXXOksY5mdFy/ZzVhx/6FdNd4wPLhyercyeUx4bGsbwFWn+K5khY4TuLiSrnonAwct0pyInPnip7FuwAK7Q0AcUKpOTncXUOMbzOPpvWp2AmKTtPspzektUMha6Nelkm9ybPm+QgOJrcrJ/0Nc4zV5jP09q+K89sUlMF2uRmXqWHL8xdKwkiy66JC9ZBO9GweQVBkY0GTCYpoY3xu2LS0G/weQVOP+l3pjxmtl5nqGq5GsTQRS1E0UFsMHo/TY4AZy7ILhfcqrqTpQ495Gnhxb5iUPTPUx04jCzrfj+HHli0zXM3i1AB7Kw1fouN7XSac6neInLNYGZnaFn/AB9pYSQHscvUI3NfGJGOD2uFgg3sfuOFguvIfi1dkgkFvjUcOaumtkCbLZRObJEyRhsOAdQN3tvugnckEhVXTEl6FHfcrbYirNLvE13cjoWQWaIG3kWlAskgGvsgH1ugEgkjYkV+U3RNI7iAL2O6cSLsDaqpICA2gN73KQijY4I3U0MAmqJFWnbexwmsALrBv7JwPPA3UQYA9kEIqhRG3q0UfYSggCjuPammBYqgAL8oN2bKQkWdygEG6JtJLxtylA4BN14TduPJQdqJNeqSTiLNgVfG6SiRvQPhJ5FjY8fdPIJO4sUkkJqq2PnblJRBF0QfKAQTZvZBIPHPlJABNkOA+xCDQF8H+qXccgD2fSOBsAR79JJpIaQSLtKACXECwR/RBAAF7kHhKSCbAI9geUk14NOBoAtIAO+9LzjT42S9QxsncY7mr9q9Hc4Na4gAbGifGy84xyIupInym2jIBKyz8tOMvY2imgegAoslodBK0kBpYQSeACDZUrSCAWmwQKPsJsoDonggEEEEHyKWdreLAmLVx8Lge2SmkL0sOJDXEgkgEkDz+F51jsA6h7WjYTEL0YgC72A4HtbYWPJ6QKNGqRwbAH5TRR3IO6eBtwRavZyC+aC58/HblYMsLhfeCQPFhdGw5KQkjcU4DgH78qE2QdPdiOkc3+Fa7U7u2M2x69VaQQCKIIsEcV4XkvU+nDA1ISNv4pSHL0TpfURqOjQSOIMoFOCwRHu6RE2V2opYw9rgeCCP6ilMmqrTeLapH+i1yeNthrZSQvRcOUT4sUwoBzQTY34Wa+ouKItQgyh/9qFbaBlfrdJheW0WjtNLXjSz5DrZWpAsEG0Ekm7ocpoFiyjmrulrYziQTdmzsAgAgbb3ym1bjVgBOBDCQDdokizYBAo8EcoO4IofYk3aAKNXYO6AauwB4BKVt9U7HAsAJAJ2FeUtkAgiiPA3tQta1zgLJI3NKUgNIIsnyoTvcNao5ZRHjyTOFiMFxDdiQBuFlcDrES5zo8yKonGmeO1a0sa5rmFth+xb7HlYrqbpp0TnZuCGmHyxvKo7K2KPTbVv7gAwhwO4cOKWb64xXZOFFkNsmJU3TPUL8CUwZrpHY7uPbVtMvGGo6Y+EOLRMNjwbI4KCpqlNO7MdD57e6bFkc4udT2rYg1Tie0kWRyN1mdA6an0rOOTLIHctDWrUAgkEUQQbobA+lIJ7Rkmupha14PcCBV9w5UJcNxXGwJ8hdRADhvQI3B4UUjO4ktFEcA/634VhKiNGASNxsnAAAkA2Ezup1OsHkg+FIHXsCAD5U7JrcbkAg72nbkbCt9/uhgBFA7J5FAAmwoUp1QPiLnEsIAIogp8TBGKBBJ5UhsjYUPKiongkb0k00wBrflAAO5G4QwFraJsnglB2BHk+VU7pBkJtp3ITSaCcTsAU0iyCKr7KwUSHcUBuPKQnbk7JSCLBI9phsAG6I8ppjNu90EWduPKTYeeUH+6QD90KII9c+d0GhZAIPlFgmuDSNrolTIPI32QdyABsPKKAaSTveyCLNg7EcJIsGwL2QdkAUKqvNo5FpI3ABPBPNoIAJ87ce0UKAJsA2jupx4ocJNxuQK238IAANH0jckkEUOUXVXulDFgb3x4QSSCRQ2pFc/dIOD9kkpJoUVl+t3PGFjtr/B2tRyKWa61/yCIeO5Q+VsHTSfTU/uymm16Ba88+nGVWTkYy9CBF/kWue6IXlXX2/UJDee1erWvIesQ9vUeUXFSHcthpALdPxwbafjAI9Gl2kb0aJG64tOJdpuOSbtgs1RJXYDYBFk1RW4dXKvbLYFEjnjZBIBrckoIIFA3e+/hNLjYNk+FbVHc4EVRSEgg0aIO3ophomyaPpFjiqHtNUz6HcNxtulsBxs2ozZr7eUWVGpSEgihYA33RYF3/AC3QCK3A2UfcCTt+FOqGlLzdC6pIAfIskpheSSAEB1O4JH3Kam6UEUQQL9o7QaJJ2HJUPy2CKFoErq5sDwo1N01Dezya4QXtAG4G9EFDHB5DgQKG4UBPcSSASDsAp1SO6drgSQwl33JpFAg2ASASfwOaUIsuBAJPmlNWxskbf1vwofIPfd5xqeS3N14ymxF8gC9QiaG48YjsNbGCLFWCNgvMM5rMTXz8sf8Ag2SgkewTa9Mw8vGzoRJizNkYRxYsDwCF53+gW7ONNU5FEnYbUQOCo5YY54zHK0OB5BFqQgjkEH0RuhcYp3bOm5sTAxsEOGPEGBxs+yV03dXvSVIir2yEIQo3IR5vk/dKkTr2b1HaCCKBBuyfXpY3XekDI5+Tp7vyxbLYkbeefSATsbIN8jYrTDkcWqg93lGPqGqaXfxSSxAmiCosnLydXz2OyJAZHU3uXq+TiwZcLosiNsjHCiCBYHu1gepumZNPccnFbeL/AOLV1cfKLvWmojq1ml4wxcCKFsnyBo2cOLPIC6iABsVmOkdYdkxDAm5jbbHLTgE2Ko+jyV3iJ0XJkaXc0kAbEgoANcEj2g2HEVxyiyDuNq8FTU7lBA4/mE0k83ZJ4StBN0AB7PKd2hoBAsk8pTrfsNbQ32P3QAAKJJs8p5oVe9phJF1tttso7plFXvSLsk0AAkBsAmiUEjexQUyUg0BQ97IIHIO48JLBGw/naNzxz6pJBPcdhVeUAWaIBCKP49o2Bvcg7X7SQSCKB3vyE6/3AWaATQTZBokbj7IJJo3vdEJJSbBF+eUcVZBBHgbpASQRR2PKKAINWlG5SbJ3JCAaFg19q2SEkk1QJ8oBI2JBPo8JTOBt1kizx4BQSW8it6IHhNoHkWRwPSCSKIJs8g+UjMzC44cwiAc7sNA7C68rzfSYP1WsQxyyFhdIF6LmSGLEmkFW1hNHYHZeeaO+OXX8dzu5jXSg01ZZ+WvH5eyRimtF3QAv3so8lpfBIxpIc5pAI8Eg0VMOB6oKHLd8eNK+6phN/gErO0vGsaORustjD6eJiC7myCvSAKABNkCyff4Xm+POGauycU+5S4j8lelAWbA2IBA9Ahbcfljyekl7VuPNJx3G5KAd62AqgfaQbE7haWcAWg71W1IO2xFk+koBBATeuqNb7qrqHTxn6a/tbcsVuYs90hrA0TUjFkR/tmpp9tW3O290eD9x6WN6o0Y4znZ8PDnfuas8zZsteN103pzXWAQbFWCByDxSkG4WA6U6uLCzA1F/2ZKVu2EOaC0ggiwQbB+6wbazfXWAMrRDLy+BZHo3OdFnHGd3VKvUZGNljcxwBDgQQeCCvJOoNOyNC1klru3uJfG5qsOmhNmm9AIJ2IqjRF7oNVvYA9Kv0bU4tUxWyMsyMaBKrIAk7kVe4G63HZYIj3NvuF3X2rlO2B9ikVbiNq8IogWDuPFKd7ogC9iavf8ACC0Fpo2BuTXKLsEgAEmiSpw0dtGiPYHlJIztLQRQJFEhL2juFEgDcnwg0CABt5VfruVk4Wmvkw2OMxdShU8pDb3WDyW2dwCKDq3o+kWHECgQBuCaseq9LzzI6i1yIdsj5GJYesNVZy9j1Rd9Ncx12V/qXSEeTmnJxZvhs25q0GPB+mx44xIZO0V3Eblc+i5cmfp0OTkANkfdhdoFUACAOVIaoVepgJsmzRN0BZJUGXn42BEZMqYMYDYaOSoNb1OPSNPORXdITUbVgYYs3qHNdJPIT5c4quWYFbDjcnRaLL63gjtuLAZPTnJum9ah8lajH6pzFBjdNY0UvdKTKKNtXHq+gNgjMuLZ9sWRyi3Q/wCdDdvi5s0TJGU4OFhw3sHgWPKgMjIiPmIZe4DiAvO8bVNX0yJ0EUkkcZ5aQaChlGp53+Em+aWhYLrWpyAWHyd+XpxysePZ08QIFm3AUFAzWdMlbbc2Irz5mhZ88Ykq78OJBUjemcw80wqjym6xwOvLfSavp8ZDXZ0QLjQoqSLPwp3OZBlRyEHcAglefO6YzfDmrnGk6lA4SNhfY8tQ5T+MeBvURIHA9jg4irAIJG6cSaqifJsUvLWnVsRz3xmaMmiS1deN1dquMAHuEv3erHINV409t7mZUOHjuyMiQNiaLJ5P4A8lZrI64jbL24+KXxqh1zXpdYcxoaI4mmwwK10vQoRitOVHchNqufJor8fC5N243WeHK4CWJ0S0ME8OTH348jZWVdtN19isfqHTkT4u7DsPo21VuiarLoeU5r4yWOIDmlOPlHqcnChu9CoAmiASLAO6OCSAQTsiKVs8LZmEFkgDmg7EAhG3A4rlbnlzPXUEm7NcIBBJ3IQBtd19kUb8UdlNA9QeQTwNgjn17RRJpAoAkhJBKS6oDg8pAbB28oAJBJH4STrRVeikBttkUlFJI4JQAQCbsX5QKocXaAKsH3skjwD4GyCADYsbWUACig7irpKYsVe9fZUHV0RfpHd6cr+6FchUHWTq0YAu5kUPlOPtzfTeWs/JiEdhzbL16MBfK85+m8tahlR+HtXowXO3RIaAArYLyXrOBkWvzuY+w42V60BW323XkHVwcOosoPby5Sey2GlFh0vHLCXANC7ASHk3QI4XBotnSMe2htBd3I/C6A2XKvbPJJFXZ5TSSdwAAhoFEkHnkINVtdeFZKN9RuASSEyx6SndNQKNy9ycHUbAtNSgok3LyboIO/CLSJNy8ihyixsEgKW0k0iiUApx343SJJGmjYBFeFLTSQXCr9cpgNcoujsaTW5vVOAGgBpAvn2U17wSQAT4P2KjuwDe4XDrGf8AoMB8108gtb7JIVXysdurJdUTxZWrVALfQDz7KghwdXxwTDFOwCiQ1dfSWGdR1sOkbbW3IV6USDZB2NAX6C4OXlMXSXZgdVH0rPmT4JGaJLbw56vCdzfPI/CCSeTxshcWWX6y2WpCEIUUwhCEkIQhJCEIUSFHkQR5WO+CUWyQFpJ4BUiAQDvdcke1YUTVDeW982hdQfeF9VxYXocbhJGxwBAcA4C9xf3WA6obI7qPIa824uW40vGkx9NhjyJC9wbR9gUvX4lQ3cnIG7pvYAEElAbW12eU4AHYDjhBq99iPXla7sZo328hOAogDe9/wm2bJBFIJIPdYFiqCbploA7HnkpCCDyCEAUaJuhdosEgVyki7NDb7lBFmtrPi03Y3fINbJwA3rYjglJFk7EVWyCPJJH4QDvuSTXA4RV2SAB7tKIFk+z9/KCC4gVVcoAJBIIAHIPJRdUACfO6SCACSBztftAAB3Neb9IJs+Bfj0ggkUa/KSACCQCSDuUE3sLQDuPQHhBN2KINpIBoc7oAN2aH3QQNtuB75R4AeCCeFFMGrskgFAAJIFkji0b9tkAhKCONxtYKmXLqIadOyPmNN7CCQsL0xCyXqfFbywSWt5qEscenTSZAtgaQRV2KpYLpe29SYZa6h8iyz8tePy9kXNki8eQUDbSADwbHldK552iSF7LADmkWeBY5KztLxaWm6kQ6OgJSCGcmj4XpcZJhioloLRQPIFcH7rzZzXQauQHW5sxAI/PIXpIAIaSTZAJBHJpbcdjyfydWwAoAc34QSeBRHmkgIIBIFnc0lFA7BXsv7LyNtiEnBG1lOokncAUgA0N0pmk+SPsmyRxzRmOVgkjcCC1wUm9jgoJogEWfClBNNAo7LH630zIyYyabHcflq4dN6g1LR3013dGy2mKRb7g772K28LhztKw86JzJYw0k2XtWbhu1OQOmZi9fYD2D9VDJG5N1/I0bqLT2VnRxTsBMfcqrO6OjdRwpe32HrmHRUvP6qNZuKPVp+hPaijnl0/Ja6CW+02O0miQfIteg6JmyahprMmWhISQaWdHRcvyNrJjLFqsHHZh47IWkuAFE1QJ+wWmI/wBqZo+XQG2kFuaSDsDSAAeST6AKdQe6gaFcVyreWepQATRBIG5pTdpa4VwRaiLA1poEHghSNcQBZBNUD4H5RadS72Tew2QGgGrIBINk2SUABth5sjewdilAAJAJIIuyOFFJRSY0E8ZbNCx5caAIBtQHS8B9XhRXHwKC7jswgEk1R2TG7NABNXv91Gje4rMeS2H9oBIoAAUGgqFji0gE2L3s0APJtdM8kcMMkkxDYwLcTsABxv7XnuvdQzajKcbDtmPdDt5ejkBSYq9Xf1zn408UWPjyiV0Zty4NB1XGxcUxZBLDewaP7wKgg6czJWW9zYg6qDlz6ppTdNiZ3Th0juWhc6mbq68cXjN2yjmjnjEkbg5hGxaePynkWCKscmvKzXSpc1s8jpC2Jo3C6cnqXHjaRBGXvXNlxu+rqOU13XZYJLtrSHHcEAkj1aaZY2EAyRs7dgCRsPRCxsur6jkzftkeCTYaFNHoOs54EwxpHNkdyVc43+tm8oeFpZdRxInBsmTG03YIshRu1nT2g3OHLkxugc9++RPHGny9BuhaXSahE1SYC63UedPC6Watgyx9wyB+DYK6Bl47m9wyYyCNiTQ/FLKt0fCqRp1WBsjCo26FlymseWKZvtr1b5AbIc6+lsgQ5pLacwjYjcEriztIxsyL43ARkGw5oCzYy9T0aYxu7mi6p24KvdG1mPPHxy0zIF03w5UcE7G1M8M+m5cPpsQZIlmkD2sNhrVcZObj4tCaZrDVhvJAUxBIIB3o7ni/SwWYXuzHieQkhxBcSTQtAc3S05Jxmwtd/HNPLmtE/PJo0K4BWc6ingyM8S47ge5oBpTDpqdzGSRTRvY8WCq/O0zKwXf4aM/Yq+AD02OaptL0Hp8SDRcXv8NK7yKdsL23VF0zrMWXisxXgRyRAALQXsQefYXYInV5+XT2TPNgbeUHayeEpG4BIAq9vKQgkcWL2KkoWASCKIAI5QQQTZB+6CaIvjikCgpokA5NpQSAbNBF0PdpPFA2T7SS71RIIRsNgCUAGrsJLB4/mkja7o2lsJL2BsEXRSg+gSPaUxaCUDcHgINgbkceEkhKpOrHRt0R4dy5wDVd1ZCoesiW6S39t3Ioy8px9uX6bzsbnzxeXtXo+xXmv05ivVZZLbsxelUVg3RBNUV5V182QdQuL+C0dq9VoAryjrt4d1FL9moey0eiS/Po+O7tLKFLvAqxyuDRpxPpWOQ0toLtsroPLly9YsgVeyO69ikS8FWqxXrZFJbKRCalSAJUnCSKSosoSSVaKKLpANkKaZRacmkAHkotRRKQivum2ltF1JCfABCzHWOU0CLG7bdRctPe4Nki7qlhOqMo5GrPZ4j/AGqnIgWnGbbTdB4QiwpMw33S/tWrIsEfah9lwaFB+m0XFjsOtocrBeRyO8lu7HokQhCxrQhCE3INgXRO9IIo1RPjhUPVGs5eksjOLDYk5ed1kpdV6hljcTLkBjt1thxORtdVV15emAWSLqhZJGyQb2RuAaJHjZecwdT61hFglkLx6et/gzyZODDNM0RyStBLRwLUcnG4m97g7p7u/A8E8IonYAnb+v4UGXktxMSXJeDUQJIAuwFT6d1AdYxcpmHEIsqIF0THGw5Vx43I3Suq/qhZoCrsmtlzZ2dDjYU04lYTGCQAQTdLBSHX9ZmdGTLbeWcALiydG1WBwZLFLTyug4gTbVVm4D3anr8T8gkmWWyvSCSHWSS8CiRwf5LzDFL9O1OJ8zSPikFhemwvbLE2RhBY8BzTdmq8ru49HRcvIO51jxYPtHuhe35TS8h/aQKKkJAAN0OCAtNWfU07AXdkoNWLo/ZFAWASQeEckVyeL8qaINCtqN2SfXpBF3RAvg+kWQaNEnn7IB7TuBR5o7pI2ABsUNifugmwa49oIFg0B6H2+6DuCBsEkAkVtt5QQCSQSR9ykBJFAiqopA4EAcBqSKJNk7D0lsHaz7v2kJNgjYfdOsB3G1JI7QXA0QD97QCBexoeUhJBo2B4QCABR8/1SSkDYAkFABIIFElAJa7eqIQAdyLvlJDGBoNkknhBBNEjccboFnxd7bpfYux59hRSSbAXRIPi0EmrJArweUEEAkmgNx90McHEEEkHYgjdTQtzZjO/EmFjdhAvetvSwnTMRk6jxWBrXgSLfZIHxSi7BaRx9lhOmCYup8X38hass/LXjvXxQFBQZYvFmHuMj14K6VyZrWvxJ2vNMMZBN1QorO1vG4y6PV2uaC8iUUObNr0zcgFxAJAJB3o+l5vp1s1qMQkOqUgHkEXsV6SRWxA3N88LbCx5PSaRtYoXvQHCW6oC7KUChdUShgLiQCL5tXs4FEmwfugDyAK8Iom+BXhBAO+4HkFJFXRH8vCADdk3fhFX42HCUCxYBr3Sao3IDTtweNkDc2QK9VynEXRsgIsHa+E7mhkNnYEgE8E2gCtiAR9gl9XZH2QBZ2ITVO4qyNhRFgnaku5AIBJ8kmx/IJzYnODi0AgbAk0gteNiDYG5HAUbgMAAWSCSdilALRYo+h5CQNBNCwRuSVKCSCS0DwDe6NYJKDmgk7+CfKQNaBQ5PJJSgW6jRFbEeEgNWCALOyE3r2cQAAASSOfRTwdjv4ofZI0kkAAAngnygsIAJAChdTf/ACQhxIDbII3TxV03kCyCN7XPPlwYrQ/IljjH3Is/gKkyestNijf8XdJIoUCuClVda6vK7JOmxmoBRd7cmaHo8cDI8qUkycsWeOR+r1EzTk1I8F1bkC+At20jsaWCm0KBFED8Lk5ckOrt/wA/GJtkklEUT5DYDbcaNWVi3mbWNTJaK7zQ9AK66oyxHC2COSnuNuC49FhODhTam6iA0hoUcZo3X5MhQPCTVMqPBwhpuGb8yuVPDKInB3xteQCAHCx+a8one+eR8paaJs1ZAJVl05oMmuZVA9sLK+Ry1ADbc+bt0VS6eRzgS8gg7UaIVhja1qsUjDFkzEsFBq9JweldKwmNrGbK5u/e9WEWnYUDy+LEiaTyQ0WVVzNVQl050smBA/INSlgLln+u9Ply9LbLAHuMTt2haegBQFC6FeBSUgEEEWCKIrlZDp3NdXh5x5qafjeQdge00T6CYHSQuBaXMd9iQQvcBFGGgCNgANgACrVbq2gYGrRVkRhr+BK2gVoZ79JpvN8LW3NiOLqMf6nFfV9272j2CjVsBunnGy8OUyY07e6N3kEGiCma3oWTo2U5kjSY+WyLu0TRZ9Q0vKfP8gghaXxD25X2ahsdlbaLqAzsUWbkjABVb1DpQdeZj/8AztXH0zOYc4xmu14orVyMD2OYQKc0gH7ni1gn4y2XaJnhpqDpnPu8J4s2S0lXuTBHkwPhmNtdtZ5CxkrJ9M1Ku7tkBsEcEErawStnhZI0gggEEGxdb/8AjacgiJTxaRGx+oYUui5zZIpOCDG5brRdQdqenDJe3tPBWe6qDDgMveTuBC4Oltdj0pz48nuML1vx5KG7i5sAULfDc0QbqzYTRwRvsdguLE1rT815jiyf3LvokXYIHBBu10iJcqJNG1g2b/8ABIRVeilAFWSgiyPQ4QaruDZ4G3CAAAR59oBsnxvwgAAna1NBBBvagEVzuKqkEUNwCD5tBFjYAAHk+UpkDQAASAQbq0nF2a+wS2CQa34pAFmzv+PCSUEEbg7oqxY28blAFH2ECyCCPPBSQNq3GyperJTHox4LXuV1X2Cqup+06JMXNDu0qHytj7VP047v4pPTbZ8a9JIXm/02bep5TgeI16T+Fzt0Tb22FkeF5T10Yz1BIYzZqnL1bn7EFeS9bB46imL1JLT6IHDR8cOK7bXBobSNIxy4Ue0rvpdB5cuXrFotARVK1WRCEJIS2kSgJJU1OTUkoS2BykJKAUkAgjblHaUHdFJJUWRwEllCLQesAgkgiyQLI8/hYDVpRPrT7ZQD6peg7EEDbkD7fdefRRB3UIY94IMwBcVjyui34jvd6jjta3Gha0UBGCB6FDZSpAANgAKAArggDYj7JV5C7Vu08kQhCrTKkSpFDJHNDgQ5rSCbp1UK92kc6NtMeY2Aig11DuHoXynONNJAJIBIHgkDheR5+XlTZsjpZZC4OIALia34C348HI6dVMkHu9TlwMOeaOaTGjL2A9jiNx9iOCukGwK2FbUKVd09LLNouK+e/kLTZcrELPPY6WsBrZcWswmfSMqIGi6MrznQdQGj6uyV/cGC2vXqZPuq54u/ssv1D0rFmvfmY8rYZTXc11ALbgyERq5bTd1ZvVmmYsbHxVO6TlrFY6bquNqsJkxZSe2u5rl5RkxHHyHxEg9pIsGwVq+gO1s2Q98jW21aZ8YCntUTxunrXRHS1n4sXv5VwdKa26KUYOQ64nbMW7liZPjvjeCY5AQaPIPgryjUcSTS9Ukg4dFJYcr8HI601c8RN3p3aAQSLNcoAoXVE8k/+ShxHufhwPeQZHNBJBsHb2pq5Fg1sRe1rtHdzOh1BaBZ3BKLIAAFlvtLZIHBSEXe/PIU7oggituRuja6o15tG4O9kH78JCQLJO3JSiUXdtIIGxtABAJIAULnk2ASB6CBIWjcEjz9k0ylNEEEgCrBHlN7SaLqAHH3Sh4LSQQfQ9JO8kAkWB4Uak/mieAg0TZGyaHBwG5ATrJaSDwdimpAFkkGwfHpABuq2G6KJIAINnc+kl0SCSSDQIUyU0BZ3QAQSSTuOEAgWDd+CUOJsAb2eVG5BFtBBooJ4oizyigXUCNjVFAALiBSmkggkewdgEABooENJ3Sgg7mwRwEjqIN7Ann7pQlDkNDseUOJALTZHIFcrzrT6ZrmOWl7miUEHgkWvSZGkRuBAAIIBP4XnOJGJ+oYo5X0109FwWfJ5a8d7K020H2AufNY2bCnY+y1zCCB6IUrGhrQ0GwAACTd0os5xGFkOaacI3EfkArK1vINLiDteii7iGiUr0gABxsEj0V5xp5kl16Jwc1shkXpJHaSD+6uT7WvG6LHk9JpNE2avgJWgucA2gT5PCfHD3Al5NE7KdoAAFWQd1dSqDQFjwSCGg+7TTG5rbJBHpSPgcXEggm7vyB+FKGi7BttbEpujRcl2AADZNH7BdDAGiiNhwSnNaGuqhZ2v2E4NNEUCQdgOU2zRcpabIAJJOx8KT4SW24g+6UxsCwDfBBA2Sj9tlu/sek20gUJgHaCCfzaaWuBDa2PlTkgEUAQebNAIoAgC3Enb0E2zRAaQ0AHY7mkkna5polo8m+Ur3loIAFjz6TCB2AkmqoEeVEdRbdgDwOfaUmzTSCCKSBoa0uAABGxJTY2DsBBIBO4KnUkJLXBpBv2E5rCQSQSLogJr3xxAySPDIwKt5AI9ke1lNc6wH+ExtO48TKqgUgvlpdQ1LG0uBz8qSvQv9zgsxqPXB/u6bF2+3vWTycvJzZDJkSOldQBLjdKEtDRYINrNV8tTEPburUNVmMx+SVxNl25FlWmJ0w875cnb57QuzpWzpr/AF8iugdgNjXN8lcvJyIoXbxcIm2oHdMsbKx0UpDRRpyvxYAJokAAgbCvaX/w3vZAJsgAcXZWTkqDbmJgKWH12US6pL6BpderObjaTh4jSe6u964MkmbV3k0S6RdHUgrU+0nhoXUBoLjX1td0Jg42RoshnibJblfZJw9B0yfIihbG1gumhHTuAzTtFghbyQHn8lS6zgDU9LnxL7S8U0qq7dLZWV0/rx2RnMinxmtieVt7HjirBPm151hdC6g3MjM7oxECvRGgNaGjgAAE/YKMw11DdImkgAkiwASbPhOTSQCCQSDsfVKh17S3meqdYaoM6eOCURxhxAWz6X1g6zpgklFSstsip9S6FGXny5DMoRNkNrQ6PpWPo+CMaEk+XOWqmuqO7qmgjyIzFPG2RhAPa4WCfdpfjaIjExoDaI2FVYrjypbsUeedkXVmidwSsxV9mrxfLBxtXkDu6mSm7FEgFbqGRssMcjSHRuFgjkmvKzfW+EzE1t0jZO4z28hWugGQ6ZGJL5JCnlDQ3TwLtKn6rg7ciKfw9qsOmJg/TjH5Y5J1Sy8Jpq6Kh6TeRFkRqFXCuGuSstXwHajjNiaQ0tNqrb0qwxW6anrREAAE2CdgClokgGiAbPon0szkQ0WrxjtSwuoaVlaYA+SuxxIBap9L6izNONdwli47XKbqmeR2aIe62NF9qoyQG1RJPJXXgqC3n5gKF6BidVadk9rJS6EkfuVzFLDOzuhkZKOQWmwQvKIoJZ3VFGXHmgLXfp2pZWjZQNODbt0ZWpmeNk8brYXpVb2OKtANixsR4VbpeuYupx3HUcvljlZbEg3sDR23v7LQTWyyRPYsgfY+EVYvzewSGy6wNkpJU0TSLonY8Ck4E9wDfW5RQAA5J4Rf8vwoogkbVyi6KAAKI3HpHO5FKZBP7gqnqdodoc1juoivbVanZUvVxrQ3+f3KHytj7VX097f447udTxHTQvTb+xXmf07/AM9yj3GvTQVzt0QvMPqA8nVwwsXp/I3Xm/1IYRqmPL7jUD5Lu6deX6PCDYLbBtWdKr6byGz6THV9zSQ5Wq6cfC5cvWS0iWkEUr1YpFpUlJJEpQAEEBJFlARSRJKBaWqSBKklR2+U20dySUlISL2NoBJO1IIo7EWidwI/vGjsDsPuFgABi9QNBZ8obMD2/wC0SV6CAAATwCFgNbacfqKUusASArHlOrbie71OyALHbsCB5Arj8BKo8dwfjQvBJDowRZ3Aocp68jI0t2j1CEIVaYQQhFg7AWmt9Qi+CBZBsbqon6Z0qfKE7oaNkuaFbkH1R9WhTjk49FCbZGNbGwNYA1rQAGjgAbJyRKqiqrSdGpOaBPnb8rI9d58sUUWMymh37nLXG6BHINihaxvX2n22LPb9mPW3BpyqZeWKDS8kkk3uSeSnDuiIIsb3YNGvSSIiiEPNkAUd97K7+td2X9vROjNUydRxZG5BsQ0GrN9bwfFrZk5+ULSdFYEmJpJlfzObCz3XsndrLW+WRrnwf/oh5XTZabQA5miYod5au8GtqJAJvalXdPB38Exw7Z9KwjNuJJJvaiPK9A8uN9pBVngD7lNsHcX/AD8oAAbVWbQLBIBB+/pTIIog2STyPSjlcQa4B8qQigaNm9ymuAcKO4G5PpN6ofKAihtwUAGrBN+k8xEC2uBHgHwgRE0SdvsrbNVddxG3Ykg0lqgDYAUtANABNeU0tBJAuh7Vd0ozWkgUKIKcAQ6qNUnAChuBRRdmt69+03umQAAUQQLSgXYugTsShwA4P4so3uiBVcpCCRdXsNiSOUE7A3ve32RdkADbwUu9UaFqJIDTiQASTZSmiSaooogjcCyi7uzammCCDQPcPdJKtwGzhW98BKAQKBpKQQBVAXufaSa9ndG4bmwQBfG3heZtiYzWwx4cGCcAr08moyQQQLJA5IAXmcksbeoBMDTPmBNrPPy04/b2OMAMaBuAAATzVKPJYH4szHCw5hBANGiN90+J4liY9pBa4AgjgghMy2l2LM0XZjIFc2QVla3kOmwD+0ccLOBKQF6RG0OkokkAWSvNtMLx1BECbIlI3XqLGBhIaLJNg+Frg6Gy5DepwANAHYcCt0bhxANn0kJLqogi9wBRCA4FxAG3nfdT61B1KSRISBRqjR5RQAomhzRSHtbQBBJ2oHdNLT33uQB74UykokEHcg2D5pNLi00Ad97B3SsAdZB2A3ARQIBaS7Ygj2oGSNJdu0kGrsm7QSS0kGjdGvKAAGksBBA3BP3TS4Ns0Sbo1wpZOJAcAQCB48oklLSRY3NgeUEkE0RRF7+FBOSSCBYby4KQ3F1Oc7uBJBsHj2j9wNkEAj+74CiY4BxJJdZ8jhLKQ6uwk+SAU1NzxKA4gU4eRfATcrMx8SIyZUgYwAkDglREloLgaDRZA5ocrz3qTVHapnl7dombNaq5OjqtiC9z9W1LJ1vUO2J8jo7qNq7tO6bFF2d+A1pXJoepYmEwB8Nyk13rVseyQB7HdwO4IN0uTkzTWr0ODjxTuzep9PU0y4NkcFizz4ZGOLXNIINEEbhekcmwBtyQaUL8bHe8yOhYSeSRyqHKh2V8+AXqqelmvZgydwoOdbVebmzyAKuqXFnZ8GmY/cQLqmMas5k9RZk9tipjUMHNWs5nGA+lrZHsiaXPcGgC7J5VJm9TRROLMeP5fblRx4up5xaGMleHgkXdEBGp6VNp0UDpxTpBaucWu2wz5xNEzCjkytRYWMJJeCQBdC11a0Bja+57tx3ByuumYGM04S0O5zjZUHUOlSZDzlQizQBan7N6Y4LhsvRMCWOfBgkhIMZYCCpg4O4II4sEGivHP4hqMEQxWZEzY2nZiczL1bFAkE88QBBBJIFo4D2NjpPb2IAGxVG/O6iknigLRNI1hcab3EAk/YLzPI6s1nPhZBE/tc0fuczly5Ria1rEzDL+ol9OkQ490d3qDtV09uQIHZUYkIurCnbkwPNMmjcboAOB3XmLOj9VeondPa3id0sccgDDyxylwPKdOr1DJzcXEB/UTxxULIcRaq5er9Fi4yw8+mry6WSafK/67LJ3XTi6yQF1/pNP+MD9YS8iy4N2A9EWn5DpgLekN6p0hz2M/Vi3Lnzus9KxbDZDM4HhiwLtKxyWfHqEZa6q7hRBK7Y+lndwvJaWewo0HbWMHJ6uTUMrI6i1l0rI93UAPQC1uPGYMeOOxbQBYG23K59P0+HT4i1luceHLsWPJmJouvi43DtqrqOF8ulksBPa4Ws/o2qjTJXudGXtettQcCCLBBBB8jysl1JgY2GY3Y+xkslqvxommrzCOy0GDqeJmmopKNX2u5BXaGkUSCN9vItYLH0zUHY/6qCJ5jAsuCli1PUMF47nSfZslkEKXi72Vcf9BrTSa7hSxZ8ryCWuNgp+kaLJm3I+2xNK7sPqKPJIizIm/Z60LQwNHYAWkAgN2H5TLPLE1qnDAydlHjYsOKwNgjDSNia3Kg1DS4NQaBLbSDfeKBXagDyLJPg8LH9vtu4CaSxedpGXgPMtERNNB7VoumtebkRDGzZwJm01vcrBzA5pDmhwI3BNg/ZZPXtJOHP8uOCIXC/s0ro4uXbpuTm4NGy9AsWSCS0CyfFe0XQO9jws/wBJ6qMvDGI8uM8I/qFfEkgbmj9l2iJeciOmUmgADyjcDezaQkE0RQHn0i64NqaJ1AXvR9IO9WeE0E7E0D4TrJqyL+yTcw2OFVdTkt0WWjzTVcEWqfqaON+kuDxxRCh8rY+3F9NCwZOZ77QvQrG/58Lzf6bAHU8l3qNekAiv2iwuduiVeZ/UYudrEfpsa9K5/AO9ry/6gNe3Xrdw6NQfyVr0w4HRY6bwSFcFVHTLWDR43M54crhdR4XLl6yeSmlOpIRtatVkRSOBaO6/AU0zk2vScEtqIzOOUXsgi+UoA7uRVIUf2UCxZ2NpSaPO1I28b368IJo7goyCEztNp6CLvcbBBjM4CLrcI5G6RFk8fuaSbButlhurmu/jb/uFuWgtA2HtZrrTGDooZ2ttwsOKzzNjacbptToDu7RcU33U0BWCzHQmWJ9MdjdtGJ1ly1C8bkx1k7u4dkiAhHG/3Vf7WhZ7q7WZdKxWR49CWXl6vcqduNjSTOFhgJI8kALzXqXXBrORG5sZjYxbcOO3adVV0dUEevarC8SfqpV6Ro2ezUdNinabPDjwSV5xPNiS6DBEx1ZMTiSD/rAq76R6hhw4jiZTu1hrtW/LxibCoOnu3SRAIc0EEEOFghwohFVVg0TRI4H5XGmvbURjyL3F7hQZuJHn4UuLMLbKK9kEcFT2Rt5B3A8D2gAEUAbJNAA7hBREiGryfVNHytNyHxvjcWMJp9Ls6W0ePVs0iaTtZFRIVx13qDCIsOKX7yNXX0RpUmJjvzZuZm1Gu1zTj29Njru00UUcEbYYWiONopjR4A9Lz3rmf5tc7P8AdsXoj3iKN73X2RgkirNDmivKpHjP15zsdpLJJbaHc0Ssv84qrWzdFvdMaYtMxWuNP+MArqjNXdGjVkKNgDWgUAWgD+YCcHEAAEEXvQXpghq4V27pARZ3Fn0gULIJ+6QvA5sV6G6YbJJugeAFOk9oXc4vDgWtBq9ylIDdgQCRVHylYO0DcAnwU1wBI7qJG+3hKYoggEAD2nE7EAbFNNEWSaG1eUodxQ2CjVGyB4/KXaz4+6aSaB82gmxuppiwQDVpzdySADXvwmghwoAgjyeEWdgRZSggtDhd7g8ek6wACSbSEjuA8AbJASAQTe/FeEpnEgb1ZPlFkDgE+0VxuAD4PKAKdRH4KSASALAAtOFWQPKYQTYO29JQA0Ve44I8prZTuea4AopCCaANeaTbJo2DY3tAeDvRBurKBJTZBBBsAihsSPK8zyYmDXnRvNRmYAk7gAlenEgCjbiQQKNUvMM0fHrcu4cRKa8gm9gs8/LTj9vZYQ0RsDKLQBRHFVtSJyRDIW13BpIvi6SYxJxoi4AOLQSBwDSWVgdG5pqiCDfABG6ytbx7ElMXUDJHj5P8OSQOCSV6iHg0R3FwNhp2DQV5e6ARdRiNsgawzmncgC16fIGiUAEkhoBJ3Dh4IIV8WzzlLgKFEk7Udhab2EEFwAo2ACnAhzR4aDYtBoEk7gjYAHdXVLMCa9hL7FWRY/KSOzRuzdEHayn0ACDffVgEoIBA7hRBsGxspdvkeoFtcaHaCdwgkMNgdoIsokcAAQQaO4JXNJKXSAg2KsAoDN0wfsCwl1nf7KEvLC5oHcHHz4KBI9gHbQBTSSDVAE7khSEWcJSGlriSaoGtx9k2yQAXEn0i6ddbcb8osWaBB8KfKnbNJsWSbSgAEEEj7ouhZBI9AbpQAeaAIsBKav1nJOJpORLGe14BaF5wzd5J3F7j3a9QzMZuTiSwvYHBzSAD78FeYvaYZntIILSQQeRRWfIW3Gk10dAkAn7el3aXqs2BKP3EsNAtXJ3tJsEj2PKY8tPIong3ssUE02xmjst9g5sefj/NEKG5LV0UsNo+dJiZTKJLCaIC3DT3NBAIBom/RXLyYmL1d/HyORtqLqHTJ8uQSwDuDG0Vm8fIlwpw6KmuBogiwfsVsNb1AYWKRxK8ENWKoveSTe9k/lbcS67ubnDey2el9V4rmiPMacc+2i2rq6hbjarpD5cd7ZXQjuAasG9gAJBoXW5tS42ZkYveIJC3uFGuCPVLYf43M4m9ld9J5AbNJC48gEBaYGgKJseD4JXneNO+DIZIwkEEG1v8WdmXCySM2HAAk+T5C5uXHvZdvDns03PqGThYbWzZEbS8G2gckhZnW9VGoljWCmNS6/lvytRLKtsf7QFqMbo3GOgOkcHHKfH3BaYABuy5M9uih6FxcJ+NJOGd2U1bCgBQAAGxIGxXmHTmc7SdajEpLGklkoK9O2IBYQWE2CNwQeCPa0q4pLufJKASOLJAsAnYou7G1gjYGz+VHPK2CF8ryA1gLjZoGhxajW67r2wHW+NjQasBjinvb3SLqwuh5MvTG5AyQJH7saqhrZeouobaw1LJ+e0L1mKJsEDIWABrGgADjYKuTqxXbeYZnRWq4sQkDWy+wxcOn6vkYMwjc4mMGnMcvXzexBqjVDYfzWC6/wBJhg+LPgqMvPa5qgR6aTJxdl3xSxzxiSJwcxwJBCkVJ0tkmTAfFx8aulzZGlvQwdgs2WRsMZkeSGsBJI5oDhYvPyDqupUw0CQ2MLSdQ5Jx9Me1poyUFjsfJkxpBJEQHAUCRZH3C34cQ2tzf6M16L0TAnwOn9KjgyMpvdVubys3rvUUebIWYuLHXBe9qqcTCytUnJbbtyXOJur3JWjw+n8XHp8jnTSBaZcgGrDj4XJ22YhwMqeQBkLgSb9ABbXTYHQYMML7+RoopczLhwYjJNQs0AALIToMmCehDM1xIsAEAhYZZOR0XZx4GDpaSrFA1YILvI3VRldQw42QYTG6mmiVc0CSCKPo7ElY/qbFfFqJlJ7hIO5V4wXTW5ckNlosXVMTLJZFLRABAcasnkBdGbCJcSWN21tJBPANel58x7mOD2EgtNgg72u+LXc2GN8YlLg4Ue4Wtnj0iWJzCI3R0xkuxdbY1poSWwr0A7HaqB2Hpef9LNhk1ppnaTdlq37hZsfYV+Nl1ce9Xn8ul2SXe6UGkljagbQtrKdYO97oAJs8oAsFDdhR5tVko2aRQVL1Y0nQ3kEAB6u6Fqh6xdG3SO2Sy5zh2qMnqtgd3H9N4mHPyJHNt7GU1ekUB4C86+mprLym+HtXooC526I4HteafUWEjVo5C/mNel8/ghebfUmMDU4H+41BKw6eDRouOWig5WhFDflU/SzS3RmHnuKuRXkH7LqPC5cvWTzSWrBpFef5IoigCrUTCnWEtEHgFIf3JqiLF0EXfCAKPAQQByKCak0ko2JPkp23gFAbRuqCQJWigAdiUC6O9oANnyEqhadRudgElAGyDflOukXdAeUmppaAQeL4R2g87J9egD4TS2t9vxaezXUlGwTweFwa/inK0mZrSQ5o7hSsQASCQQa2A4Vbq2s4+nQHucHzG6jCqoCNfAd7qDobM+DVHQvf2skavQiCCAasmgvHvnLMr54rBD+8E8g3dL0nQNex9YiEbQW5LW29vhy83n41dl2D0DXCKBItBBBo3/MbpVy//wAtA3RyxR5ELoph3NeCHDigs/L0Vpkn910kS0iFYyQ0OqE/7YXL6FnDrxp2uaqvUOldSwXNqMSg8OYvTbI4IBO3G6ASAQAQPIvY/grU509d1XEbzHT9b1XSOHksNjtkWy6c6hj1i45G9uSFY5ul4OdGG5WNG4A2HAAEEqLB0TA0yUy4sRbJ7LkyzxyHruAnlYAEA2QTZs8V9iqXXuoYNKhkijf3ZnACresM/UIpY8PFa+OJ4svHlUuB0rqGoS92RUbPL3KePAxNrFXoubQ9Ln13Uy6W/jvulevTWNbHGI2A9jQAARQobClDgYUOn4kcELQWs5I5cVJPkRY0RlyZGtjAJomroXQVc83kdBA0bap6o1caZgOj5mnaQxYfp5+JBmHJzJO0R7hoSa5qcms6k5+5juo2odohghdLlTsjFWBySV1cQYBVRyNnlondX4IcajkcnxdVac6UMPyMasQIzLIGRNJs0KFkrU4nQ2VM0OlnbEHBavKD22XzLSwZEORZgmjkFWQOQFMDZHF+yvPs7TdS0PJfYkaBxK1XuhdRx5LW4+aam4a9anIId2eXGhu09kOBJBKCQCCQAfO6YCQd6v8ANpGDuJuyb3V7J/4y93cCQNgeE3v2AohPeBYA2HlMUjKQEGgLI+6D4AG6aDQIugN+E4kAAE3YtRTB4o8fZBBFEc8fyRYryUWDtRSQas3x4KcBYuqIOwTaI4Fn7oNiiTd7UPCUbnAgOJcCfVIBvck7IIJb+0jbwUXWxvjfZKSLBBNfYEootaDsb8+kCgRRsE7g+U4V3EEAA8C03JocLBINe0+rG4BAN+tkwgg2CKCcbDQbBBO98JTA2cSCA0ithZA8rzHU/jZrcoxyS0S2F6bG65aaWgD1sF5t1DQ12ftokPVMzq043u9dwHulwIJHggujBIPINKSUd0Tx7BH9QotNdJJp2O+aMMkMYJb6NKTINQSHu7aaf3etjusbW8YfA46wYYzbhMQDwLteohwLWNltpDA0losWBtVry+Nr5tWIbIC/5CQ87AkFenWTGA63EgWR5Nb0tcAsuRniVzWgEBw4B8190HIBI2LQPAA3TC2gCSQAKA52QQCAAOBdrRBstpOM5eaDQWEEEnlRhv7QASR6JQByeK8IIFWLtDqhVmkAnYbjak4EEWaIGwQNqJGx9IoAGtwUg9QQAdzYPCR1ggbn1XhKQCQNxSCSGmjuOEpijRJFnwlokAgixyElggEkkjkIskk0K9BIdRZDgQdz5KCDe1b7kn2gDb0R78Iog2SCEkE7EEkEcELHdU6NIMh2bjt7mP3c0ctWxG1kij4KHxiRha4BzXCiCoQSkUbymGMPfTnBgJoE8WrfC6ekywXfKwM9hXWo9JRSCWTDdRItrFmg/UNGyC2nRO9FYZCHV1ceY9Np9O0bFwv3WZJeASrPkA7gAkEcbKh03qKORpZm7SeH+HK5D25GODDI0hwJa6/J8UuTId93djljrR7Y7qHL/V6g4NNMj/aFXtcGAACyeSu7M0jMiyHMMbpLN9zRYJK7sHpqSVodkPMa3MgNXM4OSqVHHHNkPDI2l5J2AFrWaTocWOxkuQ3ukddtKsMHBgwIgyENBOxeRZKj1nJdiYEkjKDiO1ZvIrotceIBWzXUbcOPMDcUUR/fXb0vnNHfiuNF1lizxt5Libs7kmySlxp3Y2QyVm5YbAWuutNgZoqVnpcIn6jhjc8C5jZK9b7e3ZoFVVeq4H4Xkehyxu6ixpHx2x0t9q9gP3NqufQUKLuw3WnThlvUsNh7uJWKj0XqXM0yaOPKJkx223tdy1eqG6I9qm1jprA1gXIz45vErEM/41dI7Kpd1npQh7gZC/y3tWY1nXcrXcpsULTFDs1sS4M3T24esOwvkEzGSBpc1el6L05p+mwh8TA95oh71ZdG621O7h6P6dOlXlZJueQUFqKAFAV4v7JSN79ituEqxVXurqYR6NWAAvPPqJlfJqUGMDtE1ehlwaC4kAAEm/AHK8l1nJbqXU0ssQtjpAAr4GhaTahXfTuKcbTgXCnzFWtb/wBU1rQxoa3YAAAek6wKJNAXuOQufJVW9HjNBZ3q6vix1mWtAYSb34I8K46pdIdS7XNrtaFUgUwAEAk2bGy6uM0FxcqOTW3S+UYc4x0akC190CATzRFUvP8AT3lmZF2k33AGjW1r0EmyK4NBZcpp3b8Ds1uyvVj5BlxxmhGBbVRMlkicHNcWnkEGitF1dFbYJR4tqzsZskE3XC14wQsOVTJ7r7B6mexoZlM+SuHK3dLjazgSR472B54DuWlYp7WizYB9JI5ZInhzHEEGwQaRwF2Q5UNM+eKTFnfG8U9pIISRxSZMojiYXPJoACyVZ6do+Zq2QJHAhjjbpHLXaPoONpZMgLpZbsOWoL7YZZAupNA0caZhjuF5D6LvbVabk2aB8keT7TzuSRsT78pDd0QCPYWwB5c6q7ZpNc+eEmw8FPDSbqgEAEKd0QBYoWPacNqFA+yUWSKqvujkUd9vCQgAgng3wqDrQXov4kV/YBCz3WsYdgROdIoy8r4ezfpsxpyMpxNuC9CHJXnv0z7TLl/t/d7XoIIK57eVeafUn/OsPv416Va8v+oUscutgR33MZT1BK46ZjezRYw/lxJVpzta4On5RLouO7y0UV32F1Hhc2XrB4Is2kBBO5NhF27YpQAedlarHcPG6BTiRxXpFUQncHar9qN0zaAG+9ILQaJNJaO9gEFLRIG3Cbo1NF3QH806r3JNeR4S0TXhNs2fQ5TdMgNmhsEV59JQL3AsJQCDuP5WpJIATuSSjuAA+3CUgjkUEhaLFGyfSiSG+0k2BXI8IoEgckiwDyU4Ag1RPoDyqPqbVxgYpx4jc0vDhyxVXRtpBXUnUmsjAh+DHeP1DrB9tWU0/Ck1PJJe4+3OKXTcCTUMj5HkmMEd71rI4mQMEbGBoAANDcj7rm5ORXq9H/P/AJ9m2r5dDxnwBkVsdQp/shUkuLm6XOHxF7SBYe26orXCxuSSTYIPFfZIWhzS1wBadiOQR6WRk77uvP8AzCdNxaN1mYGCLUmul9PC0+NrumZUQkblNaPIcspk6FiS2W3EqfK0PKgJMYMrPbVVwxyuV4sjy9TaCWteKIIsFpsEeEbjbYHmiV5VFqWp4kkfbLKBF/da5Wo631EMFxxLN4H0d1FR7L0C6aSQfuKtBFEVZI3AI4KxrevW7d2Gh3Xjaf24ao8GUMi2QAHggE7k8A+kcGiNwbJ4A9flYyXrzxHiKvk621J4YGBjO1Dgye2fr+F6E5gcAHAGjYDhsL8glcuVqeFhxPdLkxtLBfYCCSV5rJqOq5zt55nIg0bNynEyW0+3rU4g9YCugtJqPXLAO3T8f8vestJPqGqzU6SSUkkgG6Fq6xtAhYyp7e5WcGPDjsqCMNFUSBZWhrE0FtjwK7XRV2l6O3FqTIFyf1DQqvVcs5+cGNvtBDQB7urpaDUpDBp8zgQHAKi6XnxodbjkzCAz25SLpWcqYgFsOmtAZpcRllqSaVqvyAdjxzXooDu7dpBBNggggj2ECtyNxex9rizyV7bINEyWNk8ZjlYJGHlrhYXnfVGjHSM0ZGPtBIbjXo5IG+5r0q3qHT/4lpM0INOaO9i04uREFq5AlTdN6qdRxCyQ3kRf0cryMgAkWTdGxVLB9K5IxtYMbuH21bltigALuj/LyvWxdnVxcgDSEA2OBzaYG/e/wnWNwTYPpBPAAAvxSkq9SAVZABA3IPlIRdkjY8AeEb0RdHynUORuRwEkhAJHaSAlAJKL2vb+XhBN8WUkA2SDsPYRdEVVA7lDTRJO4Ioj0kAq7Bq7H3UbkoABJsm05tvNE0PumgG6sUUC9weebAU7hOoA0TYJ2pAaABubtDACAaJJ2Ca6xQBJfdgUknAAAgCwfacCGtFjbjbwmxuLmkACxyPaeS0EBxIDhR24KSPjDjuSDyCCvNNdDP49M2I3/hF6Qw9pIabokEng/heb5zBNr742tMdzALPPy14/d3r2CXHCgLxTvjF3zdJ05YIXmQgMAPcTwBW6WIdkTG2TQAs8mgm50TZ8KaJ/91zCCsrW8exI459faxp/wRmNL08NawgNB24JXmGmMjj1yMOf2sbKQvTSTYIJIIsG7ta4+WXJ7KaLSHCiRYIF7qIXdEixyQNypCCRZsD0mOsG72HNjlXN2bNFHjevKdVjarvhBOw7RQ82mgAkkggjYUVNHUG9xVDz9kAEGhuPBKNy2juEAgAUkg1R33+3hG4FkivYSB1XwL9hAo7glJLZG4AISWGmxyfHpBHk2R5pIADZG48E+Ek4nckm79oAsbgcbBNFUOb9pQCaIvmrSS7kVW43r2giyKB25QdnGuQPCLBJFkHzaScSTVb0bBPhc2Xh4+bEYsiMPBFKcOHabqhsPZQK2F7k2oSkUspqXSEYifJgyGxwxyzrZczTZALkiIN0V6aaJJoXwPajnxYcppE8TZLBbZAsAqjxiWmHIjuyun9SMloZQqSwAWq9Dg8AtIkB8g7EH0fsqPUujy1skmDJ3ULEaooM/O0+UMJe0MP9x10ubPi12Xbx/wCgfbdG6NEACqI3v7LP9Vgugirhdek6zHn217QyfmhwQrKaJs7HxTAFhH7rHCwBwdt1KchovOwwudTQSSdgBd+l2ZOlTY+E3JlpgcaAWug0zCxXCURhpbYDjxRU2ViR5mKYpKLHCg4GwD4IW30uf4ne2xOhv+LWsVxF1IF7RZNGqJF1fC8ZxmHE1eJj6HZKASeALC9i72CMSA2wNsEHYirTN2Grn1p1Q6lqEGmYUmTkGmtuh5JWI1Dr6aQVgxCP33Kl6m1mfV9QcHGooyRGxRY+EyJoc+nOIog8b+FYADcBXRV8k8087p3kl7iSXAeSrjTeq9V0+miUSM8NkShjQKAAA4AATZYonNqQAAihtRtW6etVnDVuen+qcbV6ilqLJ8NWgO1VyBuF4vj5EumajHkRV3xOseiAvXtNzG6jp8GUwUJWgrLPEDZV8dT84kYU5aA4iMkA8HbgryLSt9aj7qB+Qr1fV5zBpeVIPERI/JBAXlGhgy6vFfJcSpOhpx2pbk7Eke00uDGucf8AVBcb4KcQO4gEEA71vSrNc1BuHhGOu58lhYArou/LLWNkdRy3ZmbJM88nZMYQRY/C6tP0ubP+R8YoMXG9joJTG8FrmmiCNwV1ia1efkK7ZO4slBaSCDYI5BW9015l06GQmyWgEnkkDlYGQguBBsHytxoTw/SYaFBoKz5Trq2/zrvV0ZmNHmY74JBYddH0fBWDzMd2Lkvhcbc00Vq9d1X9JEceA3I8WSqvp7R5dVyP1MtHHa6nkqeIU0z/AEZG9lx6Zo2ZqZBiZTCaL1q8DpPDxi12QTLIPf8AdV9BBHjRCHHYI2DftHkp25uwCDyF1GIe3C8i9E1rQ1vawBoAoNAoADik6qFk7DwEE7b7AbADak296G4VwDyzXfsEg0ACSigDW/3tBsHYoJ2vkpIHNngIJrizaDVC/wCYQlDAJqilBA2N37ScDc2TwU4eb3KUk4A7efyst1zK8YuPE1tx8ly04BPg19lnutmXpkUnFSKMvK+Hs/6au/blRrduIAFrC/TWMfFlzLeUue3mEXWx+xC8s68cJNfk/wD0tXqpXkvW05n6inb20WU1SG2btVo7QzScUDywGxxZXZv4AXLpjXs03GEwAeIwSG8ALqu+F0BouXL1i6OwF+UWa3G/2RwQhxpWolBsWnfgD+ZUYIB5KlBoWRY8BQkJCLokG/sj8EgpSQBZ2J8I3q7USTahZPKKG/pFgIAvkIUyAChua8Uloej+U0GydqTroWfBUyWwRVEoNgjYUgnyPKCDRrbz+E/m6HegLk1LLj07DkynCyzhvBJOwWAjZNrGolzjbnmz9grfq3UjPO3Cjuo6LindP4RgxzPI2i8AtXNyZ6NXb/n49pussXGjxIRFCLAFH/8AUfZUvF3d3ulSLlVe72gAAhCP50mucxrhGXhr3cAmigLFD2d5q680dwUbVYoG+ASEVvVV9rtCCkETskcyNxIcwEkb9wBtccmk4TwQYaJN2F2oUi1Hjxf5VrtBwXm2h7Qmu6fw7FOeKAtWiE/TV+OP/KsGg4Tf945Ss0bCbVR2V3o4BAFkcn39kcl6KxxYBtKNrGRgBrA0DggAFPqwTV17K5snOxsWxJIARv2rPZ2s5GVKRBcbDt2tQxV22WfLhgaDuvs/UoMIDuPe4/6rSqfL6hllBZjt+L2VPpvSWoahUmRcEft612n9MabgC/iErvcqOWOPvbc2XNll0dFhMXTtV1c3HHJI26JKuNP6IyHkOzZRE30FuI2RxNIiY1oO5DRQJHtP4WeXOo6stK7WixoGY2PFBFfbEAGgmztzZUt2SfZQlXP67rSb+6SOPawkGiASCeAaO5TlyanlNwdNyMlwL+1hoDgngBWxFQKFAvMcKYwa62RtGpaXooN1dmxZ+x9LA9PRtytcaZR7cAt9uSTdUd/yvX4xAuLlRYaQAQDRvyFJ5B8elHy6xdoBNmxS0sikvmh5SWQapICON78JwBokg34KUwQQRW48oO43IA4ACKoGr3TDV/fyknloIoGgPI8oJsAXsONlGSeLoKQChZKakUQCUA2aGxISvJZRIsHwmElzgbogbBNUbpCC1o3JNchDHgMJLCT7UZcXgEHa904EgEEmj4Sbjv73EtHaUEk8mwN6rlAAqgAht3R48pTHcGgkigASCPdLzvFHf1PEJeHZFlehyljYZS4gANJJPql5ljEy6tGcdrrMoLQDZ5Web1a8fl7a0AAAcABc2dGZcSaMGi5hAINUSKCnjsRMvmhf5pMyC0Y8hJIAaSSOQKWVreMwQGLVWQSiy2UNPo0ebXqYaAABsGgbfyXlUhA1K2OLx8pIA2NXwvUIzUMV2LaD2k2Qa8la4eWXJ6UlgbgkmtgVHI4ECxR9JxcTXg+SeB9lG6muJsm+bWlmwBY32/CCAK3KCCDe9FFUdzY8JRBArkg+EhJqgLvk+ktAjm0Hjbgc/dJIBY28ewg7njnbZBJJAANUk4JJuz/RJLRFA73yg7EAceUgJH8066BqrSSEWNgKSAkiuAjjYIuiNxxVKZKCASQTf3SmyQa3rnwkDSDZIIPhPAIAsk77BRQFGbogje9k4E1uKI4tOIBuxRCaa4N77ABKdTvXF8pDR3sg+gk3II2Fe0F1muD7STrJINEUOQefyuHUdHxdUi7ZmU8XT2rssjg3fKdHttdgbnfge1CD7SKPV5vqGm5mj5JcA4MY6myqzg6mBwj8rbyGj9vpy2srI5ojHKI5I3AgBwsUfIHgrE6/0wMSP9Vgl0sIsvb5asM+Me9XRx8qdDVeXreZlWHOpq6um8yQ6jHFJI4sKpyCAA/YEWDW59Wr/pTGHdJkOFACgs8gC3wVfat1tpGryhwoly9QlIh6ZJcTTccLzXqS2au5wfZFLfZ0kknRLnSG5X46jpBq5mlLzTDZ8mUCdw0knze6spZWRNt5DQRYaRuVV4U7IHOMgJBFWEs0v6vKAsAEgAnwPaulIgde0kmfNJYYAAdhQJJTmabqM7Q74ZCFptPxtK0uBskmRHI91W4rtOv6aCWDJSsYj2thJ8eeB1TMe2yQC4EWQvSOgpXSaDu++16yHVGpY2d8Axn93xrZ9DBg6dYWeZHKuXZZIDobp6tmMHTuU5voNXnvTETnaj8gYC0A2StH9Rs4hkGE2/8AaKpel8vHgD45HVK801VBMWvxhvu0wABAAocgDa/yshq2Pm5epEmN1uNNAWwNjwQRvv5SbXdAE+VhjkYqt25YGQG7m03GOLhxxPNyAWSOLVdr2jjKacmHaQD93pyu6Pkgk8oBojet/VqTNHZHjE0l5v2ODqIIINURVFbTBI07QjI6yA0kqc6XhunfKYLkcbNmwB7AVP1TkNDY8eJx+7Vp+jNAsPx8xd1TBHJqeptaGueJHiwOQLXo+DgR6fiiGAUGD8FxPJKpejNKEGKc98dSOtrVpiyjVEjwSV2YAF5/JkrR9oBBo7ppAB5IPpPoi9xykLb3Av7q62adzKsb8JPBI5CcaA32HITbAqtyeVI9VUgkA8bo3FkgAIrc0L+6StgOUpkJqj7RaceNxsOEAH0Eom7pwIB3O1IFiwTQ8hAINgC0k4EHglZ7rf8AzbFTeXLQ0e4EClnuti4adEoy8r4ezvppO6srH5aKct6CsH9NSwxZbdvkW8XPdE269kc2vJuttupchet8X5JXkXV2N+l6hnPcHh57lJ7Q+WywyDhQOBFGMAgG7NBTcrnwC39BjlpBBjFdvF1uujkLpPLmfWUUCEGt/ukBqjW1cpbtTRABG4QXbAcHz6SgWnEAeLRhKN6qj7JTTuT6CQtFggH8ApwFA3uCeAq0wB7qkUUhF7UQEfYFJKBZ3/p7QACaOw538osg7c+0AAncpRIBRO+wTZZTFDJIACWtLjZ2BAJFp9WCKHsb8qm6rzji6UY2PLHymqULorhtCxgMup6iXEAl7rPb6JWyY0MYGtFNaAACb2Cz3S8Q+WSWt2haIbEUb2orh5Hbq9n/ADcYG2EJTQFkgD2TQ/qud+bjMBLp4xR9jlVB1dLkD20xcGtLjsGgk39llonyahqoDyT3PsfgHgK4zNSw58SSMZNEtVLoG+psVgQVuXPkHIBtaSCduBsEIu9wK+xQqXYdEiEISQgAnhCDVb2AN0koogkbgGh4J/CrNS1aLEaY4z3SqfU80YOOX2DKQQwKk0TSptZ1EfKHfFZMkivjiBtuXn5U6KDA03M1vKIiaXHlzit9o/TmJpmOA8NyJrDi4qxxMSDCgEOO0RtaAA4CiQp9xRAGwoEDkFYcnKvRcYK7YoUBVACgBwEevY4KCCCAQRftC5977WtvXUUfJJ3vdCBvwg7Keg6nsqSiTWwFXaKI5FJksscEJmlcGRgWXONVX55QFdBHQdz6aBZIA5BJrb3+FgusdZdmZQwcM3FHz2pOpeqTm92Lg2MfhzvLlz9MaQ6eYZeRGfiabZfDiu3g4He2wzzA6rXpXSpMKIzziny0WBXwJdVCiTxaSgAQNwRRaNq+49JQaN8ACgPQXeGjVyLt2zgRwANuTSXc3QN/dMoGwDzugH87cqdUTuKAFFO3G9kpmw4PO+6cKI5tNUxZPJKQto2CSlLkl0DRTujcAEkBKW2CADYSF4ABHPlNaSAXE+eFPdMbne7A2Np7RYuwCEyuRexNlSAbVX81EgAAbAkE70igDyR9igktoDcIIs3dlKNS3QBIIJ8oG4JBvfcJG2bFjZAux754SmbKA+GRpGxaQQfOy840th/j+PGLB+cL0WYEwyhhIJaaPo0vP9FE46hhkiqWRktkHys8/LXj8vY2igB6ACa4AgggEEEH8UlbZAJFEgWEjzQJ5IBIHvZZWt48Q09TENrtOQaXpBAaQAARdbeQAvNNRe1uvyPqj8xJbwAbXpLCHxskYQQ5oIINgmlrhZck4kUAOCfPASHwDR9GuEhIIoigBx90F4a0EivAC0siadhRO3hAOxsXXlAIc0CvO/2QQRYBFUkgihY8oJFAAHjlNNmqO3lKDW5NjhJL552pJe1Am7QDQO34RVUK3KkkhBsEgEpQKsmilsDcIa0uu9weAoYQGFzQQCPygNtx2s/fdONhoAJ29oGxBA342SnUBm5AIsoApteb5KcRW4BB9oJDaGxJ3O6dyQg7EkEfblKGWQQaPhBIINUQlDiRZ2A2CdyjLSCQdyTW6QggCgCbUtd1EgbG+UEAmjYUbmqIggg0QaurQRe9WPIUhAsgWaG9po2O3nlSao1BIFm7BAFjak8EEAGiCDd7h32ITAwOJ3AA3r2jZoBoVd7chQm+qT2zHU/TnyXm6e37PiVNoOpjAlfBkW1jqH3aQvRGmgQDYNgkncA8rCdZ4DcbNjyIq7ZVjyYCXRxciM7qjEDo48uJt8dzgr7onW25uL/DMo3KwU309qq9EnbqGlnHlZZYKLlSahp0+lStljeRTra9tgiliIdN054r2W71PozT8yKse8d6zEvQupxB9GN/kLpwOvp4ccsyoRLJ4erzC630zKFTl+O5FTywspj9F6tMLdEIlO3oTVDFdxh62x6j0gR/J+viXFJ1npEcdtkc5NtO2qMP6etoHKy/yGrSxNw+ndHru7YIhy7klZ7M+oGM2M/pcYvf7estq2t5uuzfvLqNARM4QF9kavqU2v6sHE0HODGD0FJrfTuVopZMadCeHtWw6T6Ybp4bmZTR+pc3Znhq0WZhw52K/GyGB8bk/QdUHTuwOgaoctohnd3Tji1dWDfkgkFYnUseTSdYkjjD2CJ9NK2OJOMrFjnaBTmglY8mIGwu3h5FNNIBQHtLdA7kbchFGwKJJFgJLG24APBvlY7dXT49y1XNCtwSfFbrE6g85utVAbLngNJWxyZRBjvkeQ0gEW7cHYrI9PEydQY/7Wvt66eEd7bj/wBGRpC9JxYjBiwxvIJawA0NiaUgABqrN2E5xskGqBqwgXyRvVArt3u81dzA0G9gPym1dgHYc0nGhud0AAgkCgeVarrbMIHJoi9gVG4AEkCgfSmIsGhQHCiIUmojMs3tsEHcUE4gg0AkoglKqSUTQPPhFgmgSB7KAO4c190EAtoiz7SEBt0SbCACQSBvwlAAqiLPj0lJo0OSEpgAkgrP9ayyRabF28F60NEUVmuuJ424MMJbbnOJUZeVsPaT6aY7qysk8GmrfGgsJ9NG1FlutboEUue6Jy8a6nEg1/KE3l69i/N7cXsvIermzDX8gykEl23ah7LZaaI/4bjmEVGWCgeQaXQFz6dEINPx4xyIwfdWukbcbjyV1HlyvrANDdFk+aHkhNABOyeOKOw8qaIABoEmh5TgXN3ABB9pASCQCKTrBHkfZQu4SgmrIAJ8BANDY88lJuedh4pABOxqlFMpPs2jYbgUgto2EEEtra0okJve7pITtZSgUKItGxSS2LFAjZZXraQfFjx03dxK1F0bIJWN62bWXA++WqMuhtOM7N0nTjHtwXE0A4/tU2oatBi9zWnvlqgAqZuoyY+ltxwKe/cP9BdGh9OZOqvEstx41/ueuJA7W9I5UALgnz87OplPeQeGgrt0/pfU882Y/ib7et/pmkYmlwiPHj/MjuXLtJNUdh4F3SxeYOgslV7erC5HQuQILiyWyzeWrP4YOBqrGTHtMb6d9iF61YBs+N15z1lpgwdTMzN2ZFvV+LkclGeIlfWDuCCCLBSLi0nJjn0+OpLLBTiTVHwF0tnheD2zNNckEbIiN6eHIIK0iEgIcAWEOHsEFKaHJo+lDXEfGEA1yQB5J8Dyi7NULI4JqvuuXU5BFp0xJItvaCObKkNoVOR0KWa1rKOTnPDbLQaar/o3XHRSs02VsbGO4fwbVX0lhtzNZaX0WRAvIKn6o0iTE1H9TjtcWS26m8tWzjsS8nLNXa3owFb7gE0L4BPtBfGGlxfHVgX3gAn83yvLna7rE8DIDPIWcDtTH4OriE90c5jFvIskA82Quc/ztLmN6pRFAbWLFmwfwUAegR9l57oPVsuBcWd3TQ+vLV0ZfXOQ6SQYsYYz/VVHgd6rGRq3Vck1Q9rny8/GwovkyJ42hecZHUeq5sYjMrh92riyoM5kZkyPkDSRZcbsqxwae2KpsLa6j1rhQ7YTTMVk8rU9U1uURySPe1x2Y1T9N6RjamXuyJCBHVRt5ctnBiwYzQyCGNgAAHaL2XVhxAbCwy5E6s9pnSbYnCTPdZ5DGrTBoa0NaA1gAAAGwr0PaUcknYnkhA8AGgOB6XSAdlzKvsE2dhR8oO3i/uikG6oUrHu6oaIJBIIBuklEAm+Uooc7oIsXVDwp3TAsVdFHcRvW32SEjyDfCAav7pQyg7FOBJ22ut1EfYTrrcjnbbympKQWkXRG6ACbBOxSEkncivACUNLzsCANySm4G4IqqKkGwAPCaAXNBFUDX5TgC2ybIPHpVpYsgEAb1ygGxxR9lAFtAujdhO7D208i/B8I9UzS0kAmhfpAJ4AN/dOLe0A0SAU4jucHAUfSjco5WkxPHBLSD/QrznSWvZ1FjiP+8J6C9FzHvixJpGgF4aSB7NLzrQpZBr+PIyP5ZDLYaqcnlrxnW72YXQvmkpTWmwCRRIshOKytbxrqNkDNdyBE4u/whLl6BgFjsLHMYqMRgAkUQQN7CwGu0OqMkt8TL0VhJYCQLcAaHHC04/Gy5J21En8g+1GR3t3NHgfZOBsEHwg7Abbkf0Wtl5NDOxoAIJ5J9hBAO4FeggCm0ObQKIvz4tJAYS7cAbJtEE7WLUgPHed68Jo8+rSjUlkHggINEAcVwngE7WaQGgkg8DhKZjWl1niv/EKQ7tFftrklILArc7oo0SaIHhN0hOITSSCBRF7oBAJ5G2wQLBBJ/FpuQCRZvcHygEDckE8cJxABurJTeU3RG54OyATRA3BQRdbXvub5TgLB8bpTNutjY9IBN2TaeSLAIsAblIABRHH3TqdziAASNiRwowCKJ5tOBBski/CCSediOEkEEkg0D/5ptECwADfCUmyN/wAlI4bVyOdyncnAAOJoWRub2Crtd06PUdMlDxcsbS6Nd5IN7UK3opxJMZ3AAaaJ4G3JUPZ3SKOy8+6XmMWc+FzqDx2q/wBZnbBp0znNDr/bRF2SstiuEOtAtIfUpBI4Nkq06sye0Mxm++5wXDmf+zV6WGQcfdw9M6MNa1EwOcWMa0uWgb9PpA/fJY5qs/p/hmDSHZB5mK1QUuaOi5w33ecTfT7NaLjmjcnDoDNMgBnjEa9GpFKv0Zqw8X09iEdTZh7vbVpdO0TA02MDHx2dwFdx5Ks6TaFg0LHH2UOSmpqL2FIBTk2vRqlV3TYr6h4BdjwZjd+y2uVb0xO1+I6Dl4srY9UwMn6fyg8lga0uXm3Tcoi1Ntk04Fq1TeLuvxKIFptR1PG09lPJdKapio5+qZnCseIRp3UGlTnIdkMuVrlQOikjILmkAHgikwxNd2nJnnvRTS5U+RfySONkk2TX8gu3pU1r+L/7yrA8eRRBJNLv6dNa7in3ItgB6uXJU7vUyBZ3IBN7JCbIBJGycdnVyEw7gne7oLULnTUhJJobgcpQfRSC7IA3HNFLR3oUrQm2TtdjhISOB4QBRIPN3sgglxJIASO6MgDybQQfv6Np5ABs2T7CQgEb2STspO6JhFUDwUt1xwnEEgcEnYH0m1Wx5+yjVE2gSRRu9inAEUnAfuFgpwbRtKdSC7WW65NYmODHy429aY2CaWc65cxunxRu3eXWEy8rYe0300jqLKkW7WL+m/yjTsgOFRd1tWz3IC57eBxzY/N2vHOqAW9QZXc0t/cvZBuObIXkfWc3y6/OHRljmlD2Ws0og6ZjEEm2BdJ+wIHlQ4AAwMftFD4wR/QWunxRJH3pdR5cr6yAgDYbBKHAmtyEAUOQQigTfClogVfGyeRVH36TDuRvSkBG1FVhIN+dx48IFX7SkE2ElADex9wlME0SATX3SAgiyN/SCTYqjfNpxF3QAI8JIvaxt9kWT+TwgEniifQRZPFWPASQATYNbcrM9cxRuxceXh7batQ0BrwCNiFQdZYQn0z9SOYlXM6a2HpZHScKbU86OCMWbFr1aCCPGhZHHXawAChztysR9P3QjNyGnactuNbsADYAgGhv69rzefLvV24GzcXZsk37tHKELmNFaLpVPUmlHVdMMUXb8zT3MVsja7oEg2PsfYU45I7Imy8dkMmPJJCC8UaI4Nj2FZx9OZ8uO2VhYe4WGrS9WdNuy7zsJre4NuRvkrO6NrrsC8fK7nRWPy1elxOOR3Y5KHTV4fm4EpjJkYQaIN0Sulmu5kJp9FbJkmPltBYY5mkAi6JH5HK5ptGwJXFz4AHuWrxD2VT/AEZHVn4+pTZMkIIXPqGsjOwxG6MNeHWC1X8nTeA91t7mNUR6Vwqr5JFX5aeq7/pU0tTdPaxHpEskr4jIXBX0fW+OW3LiHuULelcVpsyuIT/7MYNkl0it+Hyx+gu5G9X4DJHdmnta1cWV1jmTwSRMhjjD13jpjT6pxkT29OYAkJLHEH/VUnG+0/ssRZcboknk82pG/IxwJjF1VObYK3cWi4EDrZEuwQwhpHxtIOxBaP6gp83W2h5D+WS0rVIWmKB8EYBItytdZj+bTZGnkDuFBZvURGNWkEDC1geBS1rgBjEEmvjINjjZc+ajovR4UzxRKj6PkrVgzklppbZoAaK2HgegsBoGSMXW4/RcQvQCRZsAEm9l08aJq8zmNZSb/kp2/mv5BNrY7mvKC6tgtNdWTBNAn0apJY8BBNmv5n0gkqShgGuUEgit69Wkq0nHKaJuAaJ3sekcmyd0UjYcpN7jj2U9jS4GqNHcFKwHkAFP7gCSWgfceVC0hODASCAASRYO9IIBe4EHYUCNrQHBxPIBG35T7NDgGt7UUkwMPaADQBsoJBFE/gUgvANC7QDdk7kcUoFpQmsBa8kiydlNVihRHpR0Q4E73vQ8J1Xu29uUYE4iwQAaAUYBJ3JAra08kEFwJA8ikhALQTRBSnVDk9zcSYiiQwkHnwfCwHSzg3qTFL7NyLc6s6SLScowC3fGaWF6VnfBr+KWt7u6QNWeflrh5eyKNx7QTYAAJJKkUbgCCCLBBsFZ17xnOPzdQylxBucr0pg/a3tvYAb8gVyvMdQMZ1eYtuNvzG/sLXpmMAYIC0kgxgBxO7hXJWnHZcn8nEUQKIAO5PlITZJFkDx6UjiQ0EmiTuOaTACLAPK1smaAeSCCfCCCRZHCcSACSSK9Jtl422CSG8gjnynEkWmg01KeLSSiwd+Ku00PDiRuKPJQHEHbcHakAAkAGid6pIzgQLNg14QHMFEXZ5B8JpFGhRPsBLRAANEHkjwkFnWC6+fZ9IskncEDYX5SA1YFb7fhAAIp1bbggpTBJDbo2fXAQLJ3BI90gihuaB2opWOBBAsnwkigKq6BSkAkjeiL5SC6N3fi/KUbi0kAkAA8HyggggE7Xwg+CdxXKQkCruykggA7gkncV4QbFXx424QCNhZTjsP3XXqkklkDgEeU0GztRFIFgUPPtBBqgSD5SM4AAgVsTWw5tc+ozR4+DkSTWGCMggckkcBTAEDcnY77Ku6hnOLomS5pBNBoUPlOJtsRoMIyNWb4aCXKTqS36w9oop/SzD+ufNViNpK44yc3V7L+wySBcj2rdu9YBeraDjuxdIxoXgAiMGmqyTI29sTGXdAC6+yesl2tQhCEKKYQhCSRIeKPtKgkgHyjG5tRjEuBPG4WHNIAC8l0cMi1ZgdYp5aAvYHtJaQOaIF+SQvINQilwNdeH7SCQlaHYkxdI223J+xNm/K5srAxsuIxzR/gtFELoBtrQd7A48mlx6hqePgNaZrL3WOxvIAWIK6LvUDbV0vTEBaRFK8PAVBiOGBrMTn32xSi/dAq1yOqZe6oI2tYqiKZ82pMmIa57pAS0igSTwujjEe7j5UTq9b5aHAgdwBFb7EI7SSLFAjgpzRcINAAtBAG9GuAo8dpINOLqNG9qXTu4k7l7QLIBB82mkUQAQCRe5q1KSAe29zx91HIAHsNAkc3spHc1qUCgDRBOxPITS0AE1ZPkGwgvJ4JAu6HlRgkkkEg+ByCpoWUkBpABBBo2LQAGmrBBCeHBwAadyKIPITCAAARuDV+EN0aJpIBrceUp2quSkJIfRAO3CcRRBO98AJulJLIokg0KKNzRN+6CUAGwdwTe3IQQSQQaAFJGbQ3IBWV67oxYvly1hIANEgrI9esuPHkVcvKeP2tPpwJxp85f/iO79q2qxf03/zZPb7qTZq2YAsrG3k4r36XlHW1nX5rkaV6xsAF471UAeo8313KT2Wu0R0btJxy15Ipd+wNEk2uLRmCPSMdrRX7QSu0WBRrf0ug1q5V7ZaoCjaBZO3HlJwCdzSNyASCB4pW6o7l7iHVScCCDexTPtuTdcKWNoAJN37pF6gdyEEAUCSloiqBO3CkI2BG5SBpJBBA+xVd1kmdpAuwD6IRWwN2Sd6UhAJs0QOaSAAOJANEJujUyqIDTQ82gtBurv2nkAiyLBPCUgAAXtXgcJuamg0QCQSubVcUZ2mzwVy0kfkCwukXyACB5OyA4AgjwdqOxJ2r+m6hNlYdN5voeYdH1mOWVlhppwXqoILWuG4IBabuxS806swhi6oZGio5N2la/pPUxn6UxhJ+WKmuXn/6MOt3VxuyvUiXY7A7+0hXHq2hCEJIFCyORsCeL9fzWN6o6YsyZ2E37viby1bLyfuKI8IBojcgjYff8q2PI4Oyqg3kMGTlYE4kicWPG1fYeCFbQdV5LXH54mvC2GrdM4Gp90huGaqBCwepdPZ+mW6WIlnh7V6HHzGQd2TgPpaCLqTCewGS2Loi1vT5RYyA2zQDlgxV0b+w9FPbG1xAEjRYsA2t/o2bxl6ANTweP1UaYNX09zXH9TGQwkEmwSVhjijuoSxkkXYNBdEelySNtskZNbAOCkyWq4Ba8avgOj7v1TCmP13TGf8A29rKDRsk8lg9glSx6GTfdIFbb/JrErx/VOE1xqORwpVuodTyT4ojx2mInZyhbojbt01oztNhiwy+MW9pBJVX9JBxGTQsA5WT+olssab+5K1B3BJJs7E1sB6KxenapLgB4ZRBFAFS5eq5eeGRiwBw1l7krmcVe70OPlxw49HsxpONrQ+IglstBejkEtBdyQCT7JC8xEUuLlRiZpY8EEA+rXpoIdEwkg20Hbg7BdHHrVwc3buWiL32pCACSQNyjY8bUtRsNyFCLAQpoYSAVuTZS2Qaq0oaS42E3AkDS7gbBKBTgCAQTynC2kjwUoAIAPk7ItOqUMDTYGxHCaXDcNAI82kIew7gEEbC90bcEUSLpVp8kJA4Iv7Iv2T9knAoDc8FJuDVWUo3OJJAIq+LTg0ULNnk1wgNHaATV+ErWlhobg8/ZKSUWdyNgdkoIIJsgeQEwuLQRRJG4I3TY3lwJIr8hRqndIHmh2gUeQm3ZoDa9kE3ZP7SfA8pC4bDkjge01BodQaZMDJYeDGQCsN0c1/9psft8ONrb6kC/T8gX22wrz/QATruMGOkr5BZaqcnlrxuy9pUErwyJ8hBIaCSByQBdKUcD8eeVFOAYJAeC0g/iisrS8ayntz9be+JhDJZrDV6dAzsZHGwbNaGgn0AvLSPi1WiSwCYkHmha9TYbiYQbBAAIPiuVpxllydakkNEE7gbUm2SNubsfZBIBFEkgVZ8poPJHC0SyGWrBve0gIGwFeEE0Nzt6Rd7gWU1IJrZBPrdG2+9nyEA3xsmpAP2r8oLiKuiT5TQTvtacPBpNUb1KDRII3O4KCb80ElkbkI2ep1NygC04gHb+aY3+8Rew8p9JCAAXEOFgBAAAIog3sUgs3R/I9pxJJBJogVSViCaqjdbIo8kgg+PSBRNH9oItNsUSATvRKSUihRNgpDQqiDSOQRdBHAIFb8hJO22Dhd7gBKCBdCh6KYTQBP8gEE1Vkm/J3pRqnc40dxsU0N3s3vwUDYnYAe0E0KJJHIShep5Aa0l10Bv9z4WX63l7cCKL5Kt1li0tkcEGxwfBWR64kjJgYDcqrm9VuM23N0r3MxsomvjLVz9LwNy+p4bbbO4uXZgk43TD5Ihbn3ad9Pdtef9o1y/9brzNAXpQrx/L8JyaLuzQvwE5ZLuqQhCEphCEJIQhCSTyF5V1lHJF1HNI/hxtq9VXmn1Bd/6db9o1fD3VG9JXGHL82DFIWloLRYPIPhZzqXT5BlHIYHOjcASr7S5XS6ZAXinBoBHv0V1EBwIcAQRuCLBWRk45N3oZYBecCmncWRyCE+B/ZkMeADTgQCaHK2OXoOHkvDqdC4+AsvqGLHh6mYA62NcCXLpwzF0XHycbibb1mCQuxI3uaAXMBIHA22pRxSxtcQ4EXuQPK58KUTYOOQSGlgIBU9Akknf3S6Q6uJe5ZCXOBAAA2APNJhAIJo/zKfW98EcFNIJI9HlSARkGxFWDXlHcSaFWEp2OxuvBRZFmhupokP94mwCRz7Sh5GxAJAobbH7pO6xRCYQK5v7WoKWbRBJuzdn7BTbE2PA2UZAABs0laS0gEEmrBRoGlqgSQLKaXAChyNyFGXEOBJsXQBCcXVZA48hNTc4m23W/pZrrcubgwU1paCtKHDYkkE8LNdd/wCbcf2JFXLynj9pvpqScTKW6tYH6bB95j7Hat4RsKAWN0SWLXkPV4rqTNtvLl66KuvNbeiF4/1EZZeo8kPYGPMik9n8tzpjANOxwQXVGCDxdhdRAG5ACgw2vGLEHkB/YAa4oBTj0d1ueXM+sgINihSUGjsRXpFVZ2AKCLO5G/FKdVWAKJIoX7Cc03YsAngnhNonY8JQCSB4CUlIAKNnceEBoIuySRsOE0E8Gr+6fdkEkCttuUrQ0ANNED7eUAj2d/FJbFggADySkIsg7HfwoGSAEWLNDc3wgkAW2jex+yUkBx3IFVVbFRkk2AQBe4I5ShZpHcSCaHoFIW1QII3sAeD7TzRFAUUlnk0SpqpurNc0walgGNkYfM2zEsbo2qS6HqPcR7bI1ejAAkEDccG6pYjqnRJIMp+Xji4pCSW+WrLkwERtuN103oGPPHlYsU8ZsPAcCPRUlg7ggg8ELz7pPqJmB3Y2Y9wgcvQWuD2iRhBDgCCOKPC8zk43FusdmpUJEqyGsG5Ef0/mLQhJHq6q7KHAOaWvAIIogi0IUGx2Sp8rpjSsq7xvjPtipJ+g22Tj5lN9OWzRYJsgA15FrY5cjxqoPt53P0XqUcgEXbKCuLUOndT0uETyx1H7aV6iTQrcVuARQIKRzWvaWFoIO9EWK/8A4laH+hE3Q4CdXleHqsjXhk4Dm0FeAgkHYAixtyoesdDZhStzMUVFLy1cej5RliMchLnNIIK9Di5DILl5ME7rIWmyMEkb2nYEEGvKVKBZ/G5W7Yjp7s3gtY3VI2SgOYX04Hgi16hiaVp+Jvj4sbborzHUWGLUSRwSHAherYjxLhQPYbDowQV5v+hR2N28YJtvPuuIRHrJkD7LxdLT6RbdGxQ49zyFnOvGVrAd3csV/wBNgHRMY91rfgdgtlygVkWlriRvfNcBMJFWNrKlBoHyCaUYAsivuukufUhaQNtwNtkBpJA4+xSggCiaNpCSD+OCpk0WLI8GqPKlDr8hMP7nA8bboJJFNIsJqFICDfkBK0gnfY3taiBPI5HKUO+24VUg0xDQ4gmyeHXuE07EkkOPAJ5TS4EXtZScc1aRJ+5A33QCG+RZ5KYHEmiAAOKShvspNUlgirH5QXkNIFn0UygCgkADfceEplLiAANr5R3EiqCYXF24oflJRqyQknA2d7P5TiRW/PgqMuoVYTu6xYIJApSUNFMSIpAQHAtIo8ceVhdClOD1NjuILv8ACVQW4mIEMpJolp3JoDZee4Xb/GIPlke1nzAF7TZG+5BWWfltx3tbXBwBHBFqOcXBIB5BRHXa2jYoUTyRSJzUMhsigePwsrW8UzWk6m9oBJMhAHm7XpUBcyCEEkVGGm/BA3BXnTyTrVtlsmU/u9br0YAhrdwSBRJ4d91rxllyMB24BFUK+5TgSAdjSaCByCT5PtFg8WFpYk7c7ncjgIJuyTX4TTsatBskA1X2U7pgCt//AB9p13zt+E3YbUUJujcbtvmilBvYHhIDfINJQB4v8KZLfopdubQCRtQH3SEkc0lM662Aq/acHkgCr8bKIkk77JwIG9m+BSq0DqlDRZAFWNylB3NjYDYnyow6gASbG6Wz5O3hP5W2Etmgbs+B6SEngGwRwEAkAgEEFFVVmxzsoJABqqsooXwP5lIXEGxdJQQRud0ogiiCa38BANE2AQPB8IDSbN2AgCzZ4KmRYuwL+1ou6NfkekVRsIIJNjjyoYRQN3sCb2G9rB9Zyl+sFhr9rQFvLB2uvJK876qeJdemKpyeWnGbdXblvrpeEMYQHkArv+m/+W5Ns/d27OXLrZ7dAxxG6mFWf02xahysn3TVzb6UurN8LcDgUQB69pyQCgATZG1+UqyqkIQhKYQhCSEIQkhebfUNj/4xG6ndpjXpKw31IikdDiyDeNqvh7QuqPQ3F+kw2bVhfFerVJ0qb05/7uHq6FkAkVW1LDkNLejxuwlskUTfo8Usf1Szt1IO8OaFsFkeq2lueHnhzQr8L3Z/6DptzpbmnTMUt4EQC6qPna979Ks6bBboeMXFWQvgm7OwXpD1eQncodexBoeU4kEg3sE0CwRdEeEHggiglCy2Cark8oIIsEEAeb2Kjsb2CR4r2gOJoWSByCpk42CNiU3g2fPAQSATuUC9ybPq0m4IoE83z9kE2bJ3Gw2SWR52PhF34CUakJsAjwbJT2gnfejum8mhyeEsbiT2mxSUwAQSXbjws31zJWnY8RruL1qANib4WK67ez9bjDlwjVMvK/Gd179N4gNJmk/1nSLZLLfT8g6D+JFqrCxtpvj2eQF4/wBVSOl6iyCWdrg5ewELyLq+KRmv5Bf5cpPaP5bnDEhwoPnADxGLA4BralKR74XNpwAwMcCQyUwfuXSRY2J+9hbnlzvsAgbC6PtHOwohFWCLFAcqNrSDYFgHfdTuikIJIoDZA22ukhcCaAIP3SAEjmylHnlKNx+0gkcpwAJBr7FRAdosUa5o7qVhBotBryCUSsMpobGwCd6QSATQoAcpC/egN7uimEkkmwfsFBTuCS7Y3R9I2FjevCO4EChQ8oJJNCiK8qarBBABBBB8JCALskD0nKN7qIABJ8n0knk0NrArlc2aWjCyDQB7DuRZG3pSF5HO48AcqPPcTpuQYiBJ2EAkAgAhQnVI93mccEk8xZAx0jhZAAvYbkrSdOdTuwnfpNQt0HA9sXD0iXRdRRK96m6WdLLJmacwe3xLjzRdN1G9bLWQTRzxMmhkEjHDZw3Fein34K8x0vXc7RJDG7uMQ5ict1pmv4OpRMLZWxSnhj1ycnEnZ2Wo1oNkqQb8Ajfygb/byPuskT2tCEUaujR2FkWfyhJCEE19z6RvttaQNypKFewTZPpG3N7eNqK5tQzYdOxTk5TiI7AAAKkFQCLoqnrTIjh0RzHOqWV1NWN0EU6RJ1BrMut5/cL+IWI2rq0rG+DGDiKc5en/AJ8EAbm5US7kpAJArkWTaRLQPP5tdi3LUWutrJYT5C9D6bcHaBi9timrz3XWgTRn2CCFv+lHiTQMfx22F5/+kLs43qy31AoarHTKuNX2gR/Do2O32LWZ61Mh19wfu2qYtRpY/wDRuOac22g042Vr/nADdlyt3Eg8EEeU0knYJBVpV1dFzyEW6igjYj1ugiyDvsgkmr2vbZN0wDYRY8JtUdzt9kqUS3W/k7I5Tbo+07gpO4SkbUUAeDsUHkfZQFMm4NAJbIB3ARySb/kmkVyOeKUydZJAB8ILQDZNlBPFcoGwPcbB8JRqAdjQ2JRZAu7+yCbFN2CYQWjYi0JOJB8Um3SNzySlpJJIO6J4oEkHY8HbhefYZDddhMrCKnBLV6CSAxxJIoE7fhYLTe+bqbHrd5nWXI9W3HexNILQRsCBQKH2WECrINXwnDgWufNLxiTmKvkEZLb4ujSxtryCf/D6+5r6aTMQSF6C0UGNJJAAbv6AXm+MXP1NolcWOMv7jybvcL0i6ABIJAAuua8rbjseT0nAigkIN2TskGwAocIu+VrZSg2ST4Sg2LAohNve0EngFJO7hsebQD5vb0kAAHr8IoHbcKGSk/ytFVW4RzQPhGxIrkJCUi7F2iiaB8JNhuOR4S+L9pTAGxKARQskIBtFUPFe1NGmW74JS3ZAJNBMJscoJv1agJ3SWQNqI9pwO3IP4UYNjf8AonCgCQCT5AUQnE34JQBvXKL2FEDbe0gNURyebSmU7WKq0l2BR48IdZINkpNgTQ5SanWDueQmk24GyEAgc2guA43TUZ1AEG7sjZeaa2551rIL/D16P3EEEnYGzXhedayxzNena8h5+RZ8hoteHW6y6lcG4GHG0+AVrOhIBF081/mVyxXU9fLjgHYRCgt50Wws6dx+5cr1jdOfbXoFbjg7pybR29UnLOrCEISmEIQkhCEJJFmevt+nfw8LTrN9dNDunpPs9Tj6ULosn0m+48iNaEuDQCSGitiTQIHJWU6bnEDcqQX3NjKrp83IyHXJK41YAsirPFBS8Yq3ScusS1edruJitprhK8ix2rKanqM+oyB01ftsBcoY5wBNAFD2hoBAF3uT5WmOAdljycjlejdKyifRIfHaS1XBABBAs+FnOiHXozwXXUhpq0W5BINVwukdhceRpi/NUfKQkWaOyCCKsgj2EpoCwNir1ZgtBAJ25S2NjsBe9cosAnY0PKSQ2Rvz4QSePXKHAmqvY2Cm2SbO3v7pRKaG53SOIA9JSTRqrSFtmibSRYG43+6Vp3BN81skDQ273B4SjYGuPCQe6T2DdFYzruhlYy2QeSBvde1iOuZg7Pjj/wBlipl5aYe2v6FawaDG5jK7itJuFl/p+550Gn+HrVLG2kXkvWe3U2R3L1peSdbf6SToe0PluMGosDGDYwWiMEAb2COV0lxII+IgEbGlz6S+N2l4rog5jBGAQ7kECiuwWACSTZ2BW49WCG7kIIaQ5pFHZAAugSPQCnyCBGQ8klxFfZRUAbFUBRr2rDsodbmkWbJBTSRewoJxNG658KMoUTgaPNXygOq6JB8EcFN4Ivyg7EVwlG+6VhJvfc+0pJaKoAlQ93BBohPDg4gGztd+k1qLKCSaJBtOsuFAgEHi0w000BSQEE2Rv5KU0g5BA2O1/dR2bIqzacwEkithuLQ9pcQao+QPKFDMArcUD4J8Fc+oFrcDILj2gRnuJU4sGwAKO9iwfwuPWQ52k5BaRGe02XCwQj404+2Y6I7R1Cyx3W0r0YbAEkgg8jeyvN+iYnS66ym32iyvSDQ2HAOy8r/Q/wDq7+PWu6m6h0PG1OGSdw7chjDTm7dy8zIkjeRRDwaJB3BC9ezQTg5AaQ0/GSCfwV5XpwL9QbQskkkne/drX/OuRqrydGysMLq3U8Wg5wmb6etTi9ZabKanBhWfnwMackmMNBGxHtcD9EHLZPdArfL/ADj/ACzOUOm32N1DpWRXblBp9uXYMvHdVZEZ7hY3AteXHRsjwWpjsTOazcPppoc2sX/LXOUb1U5uKLLsmKwaIJFAqvyepNKxJfifkm/PavOhp2Y4B1EA+yQSp4tGkdZmcGlTj/l1Q8oV/ndcyBz24cDS3w96z2Tn6lrMlSzPk89vAXSNGgFXIV3wQR48YEQAHBJ3JC3w4A7SzeTZ1c2Bp4xgDJRkqwV3bmuLA3pH3A28H2kXUAeXOqwgoS14PJ/8EoKh103lgegAvQOlS52g4pcKXnmskOz6BXpWAP02gxGKOnDH7i1vJK8//S70F28RovPuoXnK6inAd3XIGrcwR/DjxRgghrQLBu9gvPsBhy9aYHtJ7pLIXo1DhoIAAAB8ACl0cRoseV2yAcWEvG/P2RxtzaKK2sDyLBJI2CCAfuD59I3NA190EAGwLUlM2iDXI9oTq+yAAE1RqSvfKBYKUgVvwgAVtwkkPo2fuEqOEJTISlG3O9or0iyDvVJqQKPO33QQN/P3SCydtggmhQ39pqjcEngHb0m/c7pEJqS2UA1uUiUfdNSZM4NhkJ2ABFn8LEdNu7OqMW22flWxzzeBkA2P2miOVlei4Ypuo4mzN7qstWPJb8Xl64uPUHOjwch8YtzYyR/IFdi5c9jX4M7Xi2lhBWVreP6M4S67E94u3kkL0MCybAXnukgDXYm3TRIV6ADTiRwtuPyx5PScN7ugUEI+4RZ8rWxkAsoNpyakk7qTwQmk0hNdTc665QLBJ4SWCEt1W3KjUGLBN2B4pOI4rceU0EcEFAJvbb8pTFg7Ug3dXwgizfCKISmKpKlsA73fhJSSATRqkC/dfhISfJ2PFJSCRRNDlJPFkEUL+6cTQJCZYIAF/YoJAonc+hwFFG5TVCzsUFwbVcnhBN7kiqTTvd+OFIbm5LJS8ADklIkJBPnZTqb7iyNztRBK881dgh1yYA0DIF6GKBu6HBB+68612J0Wtzhxsl6y5Tq14Xu7uqB/kh5uJb3o+h05i07uXn3UncTiu7aZ8QW/6No9OY5YuR8Lqze68GwSpNt6/mlWZVhCEJTCEISQhCEkLN9dvY3QHgmi5y0iy/X0YfoH3a9Tj6UNk+lI+589kFlAFqNb0IRMOThgll7tU/SQH6Wc1+5aAkmxsRVWUyyTK6sOMcLzgskjIBBB5oiimuffIIIO1+FvsnT8TKkD5owXAUHNNFUuraDDDjSTwF1tV8eUXVlnwobLv6CkqHKatVZAsgEXR+yw/Q1/xOUd3DFtiSaJ2smwuvF2CXFmaUlBBvbbx9kgscmx6QL5sIJvf+qvU/kVZBGwvlBBsixR8oJA4BISWeAAL8lRJSSDSQkbeb9JbABHJSUKBU0ScA+vaKo3yKQSBzwgEE2Nh901QyjjfjwEoIFk8KMvFkhNJJIs7FNU0hffBoe1j+tq7sVawkA0AaWV62AvGVcjqtxu20/QLC3p5t+XLULM9Bgjp2Ozy5adYXRNXkPWJvqXK2pevFea9baPljVDlxs+SKVJrq02l938JxXSjukdGPQBC7CwusPaaHFHheXjK1VrGQCSeozYaL/bSdLrurPlAfkydzVoOrNw33elPgIILQSQbIJsAex900AkEV22SRtufyvOh1Hq0hZWS64zaU9T6q9zu6fuL1JmFV41t+8kmwCQNjSTfYUTfBrheeR61qeK+/mdbvDk/wDj2rv2E0n8mqfoT5t6AQCCSTQO9IIIokbHi9gR+V5//E9abbPkmoiyKXNJl6kQC+Sagn0J829Gc5rCS5zWjklxAA/knBwcQGEEkWCCKI/C86EOq51ODZ5UsX8VjeHxjJD4/YIpPoR4+vb0W+SBvex9n1SKo2dgRZJNAH1S83dqeo7OdPKKNAkldcPUOq4z6dIX8GnhDkI8behAiiTYBFg3QKUECiQeBYAsn8FYRvV+fb3FkZUkvWGWYmlkcbZE+hDjbbkk2aArcWVxao4N0vKLvLCsYOrNTEokL2nx2ok6qz5cR8Ega4ScuIR5BNQ40d3b0D3jWJO0WPjXoFAbAAgez4XlGk6zkaTLJJjUDKrUda6gJOIyxcPLxObsukdGrfZMZnxJo2kjuaQHA2Qa2Xk8ffhamY3Gy11EhaWbryQsqLDayRZPImM2TJMAQXuLiPIJNq/Bg8bRm7NWqIHixZuyUcmgQB9/KoGazO0AOAKcdbmo0xi7fof25njd17YGwNb8kIBAI3I33tUQ1nJa3hqaNZyBdgI8hQcbX43ABNmuQUnAFih4F7qnZrZJIkjscghSjXITKbjPahyEeNrSrq9jyN90XZJobirJVU7W4wwlsZL7sXxSQa211d0NK30J+GtgABsTfrkI81vfnbhU7tcF0IbamjXHF5uMdqj6BDja6/lt7tHsEUAL53r0qNusyC7YCE4667xEFH0CHG77uZ4ORqwDBZdIAAvTdUlONocrxTS2IgLzKDLji1AZRjJDXBwaCBuFcav1bJqmLJjGERxuXHyYuSJdOLouTpOjrkZLS5bwA2aIJG5ANAff7rzvStVk03IMkUTXkiirMdY5fLoY10YOjVlnirbHYAUb83VD8BFk2dqI224WIb1bqDS801/dxfAQOrNRYQXNjVvoVPm22FigCCPzVJSCBzYWHZ1dqAJLu1yjd1Pqd38lAp9CfNt2Lrk/zFpaJqgST99h+V5+epdU4GSmDXNTDzeQ8Ep9CfNvQw0k7EULuxwgA0CNwbonyvPXazquQ0lssnaBR7VEdZ1BzWNM8lt3CfQp+bejkHncj8coNAcEi6FCiPyvPBrOqHsd+pkq6CfLr2sNcO+eRtJ9CfNvQO0k0ACKsEHYpACd964IrYfe153PrOoZDhI6UgNTY8vUpGkMkmcHCiBZsJ9CfNvRhQNX/MDY/wA0Fp/1QL9XsV50yXVS0tYcktHq01moZ9fGyaS22aBJIpPoT53ouwugQfNjj8IAIFm6Hml5+dZ1JlOdkOohNdrepuBueSkOQo+behUTRAJFbgDj8lBugeQN7A2r7rz92r6o34pjkPAH9xMk1HUZXSB8shc+iQjyE+a221l0jNLyHxmyAsx0ax03UuOQ2+23qtyZtQMTIZnyOYRbQbNhX3Q2m5J1ps74nsjY2+5Zru1xx11eoLh1c1peV5qIrtGw9rk1GN8mBkMiYHyOYQGk0CSKVP7WvHtKdGNWidOC5pcvRTYOwN+jwF5vKMnTs4h7DHOwkEELobr+oMhfEZSQ5bGQFTLFb0IAk1RF715SEAHkj2sD/aPUw0AzpR1JqpHaJlP0KnzbfAEi7BobVuCEAWLAJvwRuB7tecv1XUH1G+eQmwU9+VquT/g3Om9hosJ9J829DI7QDYIvYk0fwmkgAlxAF7EmgvO/1epERu+WY1YbyarkUmSnOe4ueZSTubsUn0hxXo4IIBHHgjcFOLgGkuIAHBOwC80/VZ0QAMsoHIAJpS/LqWa15aZpWtoODbNKHknz1ejB47QQ9jgeCCKH2SgBw23/AJ0F5mG53xEAThrDZFEAKUS6q9oDf1BB2AAKfQp+d6OQSQDRNVvsR90xs0L2kiWMUSDRGxHgrz8Y+t0ZBFlfmikdpmpDFOQ6GYMv0bJKn6E+beiNcHAFpDgTQI3CWr+498FecMGqxsphyAByBZIUpz9Zc3d05AFH9qj6FHzb0EgAgmhRogoDTYBski9t15n8+a2pPklFmgbJ3Usmp6iy2yzyg0BRsWE+hPm3pZJ7S0AA+AdimgEGhRscc3/PwvOv47qbIREZ3hiWTWNVmiozS/Gp+hPm3ohbQHAPonhKBQO4Nbeh+bXmj83MnMRMkgoU0gmiQkycvUpCDPJPtsCbApPoT5t6ZRq6H33tMIIBIA23I5J/mvO5crVYo2B8kwYNwUkes6nEXVNJbzZQ5J8m9FAsgCzZBqqofcrz3X3SHX8izbi5A1zVA4D55Fy5k+TkTunnaQ6wCaoAqubsr8eP5d1v1I0jGwgbJLAtv0YHjp6Br2ELzKXLysoRRvcZBELaByKXe7qbV/gbEMh0bWLBOtWq7d3rlGwT58Wijv5v0eF5Eep9bsSHLkULdZ1WKUzNypg4qpxtG72E2PQHNk+fVJQPvYHnm142dS1WB/ccjIYSSbKaM7UiJGjInN09wDinzm72cg0CBZ9cFIbFir9+F49ja7q+OKiypf3JZde1gyRGXJlDo92p85u9fcCLNbAbGrJP4S0Td8XYrkryY9R6+KccqVc8eq6vFI2ZuVODZpxT5zd7BvZINmqrgD8qk6w092focoa5zXRfurwV57kdQ6zkBgkyZaBsJkGr6vUggyJ3B/8Ae5Kkw07m93X0q6RuU9oFscCtURwPQ5JqysGJc3HshssYNkktIu/PCI9RzgQ9kshLVXPj/Tu6OPlMTTb0AkgUBfIvcH0ubUojNgTsIO4IIHNrFS5uc5xMskoJINGxZUr9V1Ex06WQNAolVOJHe62XOJrV3dIzfBq3b8ZcXLeki6JJF3YFf0+y8qikngIniLmkOsOF0D+eLXa3VtUZMZjLKS+gbBohdmLo03Dnjt2XpB4BoAXR23KK5sEVxZr+o8rzE6nnlxf88tArpOp60+yHz/yYpcz+VDjb0Ugk0OSPBsJKNkAXQvjZeZQ5uowPcI5Jw47kCyVKzV9SZcQyJASACHIZn9nzb0cbGqogURzaCC2w8AEC7J2/mvPv7T6pUbBNRYpYOq9QiDGy1I0XYdyVJmR423BNEVQ2skmwggezXk+Ssc7rPI+UFkEbY/LU2Pq/LApzY1P7KrxtswK2ABvexwkNnbcG+asLIR9YTdxMuM1zPQRL1jM5x+LHa1ifsnzbYXV2QAD65CyfWoqbGcoB1hmkBohjVdqmqnVRG6aPtlYCC4cEKrkJ1XwwR23oH0/N6Du4GnrUrM9BY4g6eZ7kcXLTbrK1hRPAIogEWDZFjlTJpPj2NklD+mhuzDHd3s0WueTStPlmEr8OIv47i0Ls4+44FDhO3ASVYdA0v5jKMKP5CEHQdMdKJDhRdwViBdk73sU4eibKS43aVgPouw4j6/aFIMLGaKbjRAf+6F0pDyCkoP00FgiCMngntCU4uORRgjIPtoU6QqZRMijjoRxtaByGgBHxxkkGNvo2BvamQolXu0rT3RljsSMgmyO0KGXp/TJpRI/EaXhW6RJZ49H6UTLUVCVc46F0odm0ltWpoBFpLPDo3ReTirqHTelNbQxI1blFJLO5fR2k5V/4Ixu9tUJ6G0r1ItPY2tLaTdl5eh9LeDXcuZ30+04soTSgrY2hTtll4+iNIYWWyR9LuPS+jnnCYrpITSiVHj9K6TAxzf0wcHG7coT0ZpFvqAjuWi4SpBbHSfT/AE7lksjVyn6dx/L/AJY4RLd2EGkOpYEfTqpLObbUSfTpvMWYt8i7SWIP08xfOVIukdAaZ5klWtsGim8mq+9+ilNkZfp/p7to55WLrPROk/D2djlpdyEqSyY6C0r3KpD0PpRjDKkWo3Rd+EosuzojS43scO49qnPR2jF4f+nWhQkqNvSujs4xU+XpfSJmgOxGq5RukqT+yui8fomqeTQNLkaGOw4+0KysWRyQLpHP58GuElWjQ9MbOJxhxCUCgpxpWCJDIMSIv9loXUTVXydvyjggbg/1tTLhi0fAhEgZixgSklycNI09pZWHEOzg9oXdaQ7DezfoJLhOkaeecOLm6DQpnafiPFOxoT+WBdJJTRsDt52BUS43aVp72Bhw4qu6DQpmYmNHfZBE3xYaAujhNJoWQT52CmTBBE0ECNgBFEAAArnGlYIlMgxIg8ggntC7K/8A5glLsD9yolXSaLps0fxvw4+1SnTcP4fiOLEWVVBgXYfBTTtVje9gElxt0rT44gwYkXaAeWhOODhmycaKyALDRdeAuwi6Qkuc4WMQCceIlooEtGwUjWtYA1oAFbACgKUm9nah7TSL9ixQ24STwbCaQSnA2lSVdPpGDkZByJ8aOSUii5yjGgaWDf6KNWiVJV79I097S12HCRVf3QmR6JpkUokZhRNd9mqzQkq86Rp5nE5xIflHDu0LoOPFyIWWBse0WuhCS5G4WMOMaIef7o5PKccPGPMEX/dC6UJLldhYpbRxoSPRjBRDiY8Hd8MEbA7ntAFrpQkoDBHRBjjo7EdoohObDGyg2NoA4oAUpUJJv8tvIpNIDhVAj1QIClQkoGwxhxIjYCeSALP5R8EZFGJgB5HaKKnQkuP9Bi8fpoaBuu0cpk+lYOSbmxY3EULLQu9CSr5dKwZojE/EhLPswKVmBiRwiFmNGIwKDQ0UutCS4hp+JTR+lippsU0UCpHYkD2U/HiIu6LQQulCS53Y0DmhroYyBwC0EBMGBiXYxobAoUwLrSJLgk0zCl3fixGiDs0A2E+TTsSVhjfjRFpokdo5C7UJKubpOA1wkbhRBw4IaE6fS8GeJ0b8WItPNNC7kJLgOlYJgEJxIvjAoAtCU6Xg1RxYqAAALQu9CS5JMHGkAD8eJ1CgHNBoJpwMRwI/TRURR/aBsu1CS4otMwoqDcWIVwe0Il07DmeHSYsTiOCWi12oSXM7Ex3tLXQREEUQWhRu03CewRuxYizkAtC7UJLk/h+J2hpxYu0cANCIMDFx3PMOPGwuNkhoXWhJc78aGVpD4Y3A+HNBUUem4URtmJEAfTQuxCglyyYWI+i/GidXBLAUyTTsOWMxvxYnMJBIDRSznV8+ZBkwSDILMMUZGxGnKt1nWsx2Ww6dJKYceIPUy2Y0zT4mCMY0IbZIBaKsqb9HjUAMeLbgdgpY2PMfrWvM+UT/AAxQiQNjU2jatk6hqj5snJdDjscRHH4chLTfwrAogYkVOcHkdo3I4K6RFGG18bAPQApZbHzs/UNHyJsfKazIimc5rfYC6els7O1Uz5uUe2E02ONRqV9+kxw/uEEYcRRIaLpcs+i6fkysklxY3PYbC4+rtRm03STLjbPLw1VEuoZum9MnIZkOlypHg1Jy1TK5n6W0idtHEa2yDbVDJ0fo8s5kdB+WqiHUebnjKMMhjMWMCW1Ra5SaVrOTiGTuyzmR/pvlJ57HIdSux0hooZ2jEUQ6L0YNIMLlR6X1FqJxs8zyW8xGWHuT8bqfPmEETrE8cb3SN8uUytJ+htKlosEkaYOgtMo1JIq7SNekilf8s8uTkSxF9b9rFJ0zkyZpyMjNzZBM8EMZ3JunbWR6K0x5jIc64k2LofS48p0ru57PEaz2gZuSzWY4/wBRK0h7g4yuJa9WfT2fLk5edkZmVIJYyWsYSootjiwRY0DIYQAxgoALoXm+Dl5MJw8uHPklnnmLZICSvRhu0XsklVD1TrrNGwHFpud4pivavn3YXmX1Gke7WY2+GxpLhi6p1zGiYTOSz24KaDrbVWSlz5A5i22g6XiS6Bitmxo321TydMaO+ycGOyksAetdXMpImaGrob15qvw/HUZk8PW3m6a0qf4/kxG1HVIj6Z0mN3c3BjDkliWdf6kGbxxqaL6g5wjp2NE5y056M0gyd/wqcdKaKOMGNJY89faoY6EUQeopeutWkrtEUa2I6Q0gSPcccU/wpoumNKiiMf6VpCSwQ611oXTmqfG6+1OLaWOOVbmHp3S4LMeIyio5OltHkd3OwY0lkH/UPOdtHjRpp+oOoGEt+GIPWnf0TpDjYiUo6Q0cVWNVBJZOL6gag2ANfjRvk8PQz6halw/HiWsi6Q0iIV8HcnS9KaPOQXYySyJ+oWoGMVBEClxvqBmM7/1GPHJ5C1J6N0Ugj9Kkb0Zo4AuCyElmJfqFmGjFixsUjPqHkiQmTEaY1eS9C6TJZa2RinHR2ldrWvjc/tSWcf8AUWfhmGxQu+oOpctgjpacdEaP5iKZF0TpUWPJERI8O4J5CSy56+1Mw0IogbvuRP19qUhYYo44wtRF0RpUbACJHrob0fozeMVJZOP6gZwyHOdjxui8MUg+oeYZdsWMsWif0XpRc4sjdGHCqaom9CaUIBG4SF3lySpJfqJNzFiNCYfqJlllDGj7lcu+n+mWCJJVLH0LpYxzE4yGzYckqEfULMGQXOxozD4ahn1BzrN40ZWiHRWlV2ua4pMfojSYnPc+Myg8BySzX/SDqPxiooe5Ml6/1J8RaI4mla9vR2it/wDuiiPRGj+InJLJDrnVg8WIypWfUHUQz90US1jOj9KY5jhGaaoouidIbMXujLh4a5JZiP6g6iJLfFEWJzvqBnP4iijWmPROjl9/EnzdHaPLF2jGEZ8OaksoPqBqAyA4xRmLyxOi+oGofKS+KIsWlj6H0dnMbnJ7+itIdxAksqevtRMjD8UVBOj+oGeMi3xx/GtXF0dpEW/wJrujNIcXn4DbklkJevNVeCKiapB17qRfHUcf7RTlrWdI6SI42vgDzGmx9HaVFOZhG60lj4+utVZy2MglJL11qUkb2UxhK3EfS2ksxzGcVrmoj6W0iOARnDjcksPhdc6pjs7Ze2dB671f/wBktm/o/SJO28aqT3dJaS6IRjHpqSxJ661UxGOo+5csHV+swc5JkC9CZ0to7f8A7lGVNH0/pkf93DjpJecx9Y61HzP3J4621nc/I1ekHRtNMpkOHEXmhdKBvTmlNMt4kZ+U2Ul583rfWBxJGp5Ov9VeKayJq17ujtHc4uMCni6V0djABhtSXnUXVesxSFzsqRydH1brUAo5JcCvRW9MaQ14eMKNPd07pTgwHCjpiS85PVGvtqU5D6UkvWutT8SNj+7Wr0x+mYT2djsWMtqqLQoToWm/G+MYcYa4UUl5keqNblYKyXUxXnS3VmRJnHHze6UzmmrXyaZp+NhSAY0QY2MglwFUAvL9ELD1NjCJxjZ8yS9kCq9d1mLRcMZErC+zQAVosd9RHVgYY9yqSNGevm8s0+VM/wCkD3psisMeOMY8RbG0AtBIAHpPMUZG8bDfNgbrQ492TyVePqBH/wBglSjr+LzgSruEEQNiNgI2GwQYoyKMbKJvgJ86Ppcg6/wvONKnDr/T/MEqnOLAauCMj1QQcPF3H6ePf7BR82n6FAev9P8AEUqafqBp/iCVdJxMYj/ERjxVBRnCxjRMEZI4NBPmz6FEev8AB4/TTIP1AwfGPKpxi44N/DGT7oIOLjmyYYz/ACCn5z6FH/b/AEzzHMnO690oeJUpwsZ3MEZ8cBR/w3CF/wDVo0+c+hPPXulepU89daR7kUL9OwnCjjRkA3VJBp2GKAxY0+bPoTndfaZViOZMPX+D4xplKMLGHGPGBydglGPA2iIYxR22CfNn0Lkk6+/3WnSlNHX/AJdp0i7+yMWAwAE2dgkMcZ5jaa9gKfnR9KAdf4P+tjTtSH6g4XjGlU5hiPMcZ/ICacaA/wD2EfvgKPmz6lEPqBieMWVDvqDhAisaVSjGgBsQxgk2dhykOLjkUYYz/IJ82fUj+3+meYpkh6/07xFKlGLj7/4GOj4oIOHjEV8Ef4oJ82k5SD1/pn+7lSjr/TPMcyT9FiuonHjJH2CccLFNXBGa2FgI8bPoS/290n/2qnwesMDUMyPGiDg565Tp2HwcaNUs8EUPV2ntY1sbVDghuk5Bdat/n5ceBiSZMxqNgsrM/wBvsHxjTkKz6wo9N5X2auXo3Hhl6cxy+NjlnaXMevcH/suSlHX2B5xp1pTiY5BBgjoij+0cIGBigUMeMD12hJZc9ewH/EYM8iY3ruTzpU61rMaCP/FwxtvmgE8wxnmNn/dCSyB6+j8afOmu689aXOtf+mhsn4Y7IontCDBGauNhoVwElkD1zMa7dKlTh1zNf+aZ1rhDGAAI2ADgADZL8TBxG3bjYJLHnrmUSdv8KlQetM3xpMq15ijJsxsvwaFpRGwXTAL52G6SwWdqsmpuZJkaBJI9qmGs5IEgHT5t7QCtz2j/AGR/QJe0egksFja3qEEplg0ItJaGLmjzHwZ36lvTzhLZK9Goegm9o8gX+AkvOIs17JsiVuhygyg2u7D6lzMDDjgg0WRsTGrc9o8Af0COxp5aCPRASWGzOp3Z+N+mytHkc1y5INRxcaExs0XJdZBt69D+KP8A3bRXGwS9jP8AYB/kElgm6yWmeSLp9wMw7XJINRkxsN8EXTjhFLQct8GgcNA/ACdQ9BJeey6vludT+n7a1naE4alq7ZRkRaC1rw3tDu1egUPQRXqgkvPoNX1LFmfI3p5rS7ktYmxazBjymYdPuZMvQy0HkAphjYeWNN+wN0lgh1DjBkZdocndE4vHamP6gwTljJg0OQ5DlvxHGbAjZXBFBAgiFVGwVxTRsksBja9g6fM2SXQnY77svW+xpWZEDJYzbXtDh+Cs718Ix09J3V3dwpW3TrzJoeG5womMJKysWvKuvRMzW5A82x1Fq9VXmv1Gh/8ASUcnntSWr6NdK/p7GMq0CzfQ8jn9OwB/+qVpEkIQhJCEISQhCEkIQhJCEISQhCEkIQhJCEISQhCEkIQhJCEISQhCEkIQhJCEISQhCEkIQhJCEISQhCEkIQhJCEISQhCEkIQhJCEISQhCEkIQhJCEISXFqbWO03IEjbZ8ZsLyzpWEZHVGOItmteXL1fLaHYszXCwWEEDmqXk2isMHVWLHju4mSXsKxX1F3x8D38q2qxf1GFYWG7wJVJ7Q+XdESYY757Rf9E+1FjEOxIj7YCpeDsug8ud9kRwl9pEonAj0UXfCQISiQhJynkDzsmkEJTJwikt71SKUyQko3uyUqLShnggDcWgkHcghNBI4KA4g2bKO6YIAsg2PXpMPKlJabBBBUTh2mrseChQk0lIlKApokQlpASQQgBIhJKPug0eEEo/CSKIQSQd08bhFWm6ZC5Z7Ns9X6etD2gLPz0/rXBDlTkeq/Gd2q6wZ8nTmV9mpvRju7pvFU3VVHpzN9fGufomh03jLnui0KEJCkmF4Dqs2n2iglSUTnBjS5xAAFkk0AFWxdQ6XNOIY8ppkJpdGrQxz6ZkQySCJr2FpfwAsZA86CMPHysXDy8d0lRzRUXpL0JCwnUxkOqsx8HUpxmTkXGH02NJrObm42dg6V+rlEYiuSaOu56S3e6VYODUNTj0bV2SySdsDbhmdXcuZ02pYeDpOedSlkOS8McxJb2PJhklfCyRpkZ/eaDZCXInjxoXzTODY2Cy48ALC6LgX1dqF5skZicD93rVdT/6O53r4klYY2RFlQMmgcHxvFtcOCFMvN4jn6XoelZ8WdJUjw34uGhq6tZ1CTJzM04ubktdjtDiGkBrUls8vOxsBrHZMgjD3BoJ8krrBtec6xmy6j0lpmTkP/wAKcii5dhzcjSdcxWDUHZcM7CZGneklulyOz8Zmc3DdIBkPBcGeSAvPcrV8uGJmoYubkOYZa/eRTl19TZ0+F1Ji5mMy5f0qS9CTSQASeALKwedkTwdKMzYtRllmllaXyBxpq7dQ1OR3UGkQwZNsfHcoa5JabDz8bODzjyCQRuLXEeCF2LyzTs+eLIlwI5TiwT5Tu6delY0Ygx2Ma8yAAAOcbJ+5KS6UIQkmgAEkDlOQhJZP6h76CPs9Xujb6Ti0KHxhUn1C/wBH/wD5lcaC4/wXEL+TGElYA3/PheY/UR4/jbG+o16cN73PK8t68lceoak3axqS13Q0D4NBYXv7g821aZUfScMMWgwfBZY6yrxJCEKt1zPGnaTkZRNFjSG/cpKyQvGv7Ua5s7+ITr1TRM4ahpWPleXsF/lJWKFwZGp4OLKY8jLhjkoEte8Apn8c0v8A/MMb/mhJWSFy42XjZcZfjzxytBolhBAK6kkIXLk5WPixiTImZCywA55ABJ4FlMbn4r4DkMyojCCQXh4Isci7pJdqFx4+oYmUSMfJikIFkMcCuxJCFyT6hh4p7cjJiiPpzwCnY2XjZTSceeOUDkscCkugJVyz5MOLGZMiVkTAQC55AFngWVHHqGJJCZ2ZUTommi8PBAPom6tJdyFyY2di5d/psmOUjkMIKbNqeFjv+ObLhjf/ALLngFJdqFA1wkaHNcCCLBBsEewpQCknIXPPNFjRGWeRsUbdy5xAA/JKhi1LCmifLFlRPjZQe5rgQEl3JpcAaJAK5cfPxMy242TFKQLIY4FRz5mDjP7cjKhief8AVdIAUl3Ag8EFKSoYux7RJG4FpFgg2CPyiV7WMLnvDGgWXEgAD8lJNy83GwoflypmQx3Xc80EuLlQZkImxpWyxnhzTYKx2qY7dd1uNuXnYjNOi3axs9mRbGGKOCBkUDQyNoAAaKACSnSWByqw6vpfB1HH/nKEh1nSvOpY3/NCStbSrnie2Rgexwc1wBBBsEHggqQAgmySElIktIb8IF1ukmdzSaDgTxQItSWvKtHcT103c1+qevR5dUwIZDHJlwMfwWukAKS70igBLwHNfYIsEGwR7CSbLgxm3kTxxfd7gEl0oXBFq+nzENizcd7vQkC70kIXD/FMH5/0/wCrh+e67O8XaJtTwYJDHNlwxv4LXPAKS7kKFjmvYHMcCCLBBsEfYpZHtjaXPIa0CySaASUqFwDWdOc/sGbjl3oSBdgIcAQbBFggpJ6FXv1TBjyDjvy4RNYBYXgGyny6ngwS/FNlwxycdrngFJdqFzyTxRRmV8jGxgWXEgCvdpmNn4mWSMfJilIFkMcCkutCEJLg1cE6VkhrywmM070vKenZWY3UeM+X9wElL1TXHFujZRaLPxleT9OvMOv4tNDrlASXs9giwsf9RrOl4/r5VsBsAsf9Rt9Lx/8AiqT2PlLgEjBg9dgXSufDs4kIoA9gsBT8crfHwuV9YQlQpkiUIAQklKBuKKQpQSEkFoTKokJ9pHCqKSbdlCSwOUAgq1XcoJtOAOxH9SmXSXu8G+EaRgkk77pAL54S3fCConswtI4NoohPCW1O2aoyCOQi0+7NVtW6YeShv+yVJSVLaUTaRQ7U6rTe21MnA2ixZQBSCFGpBKonUeucFXqz9D+3WKs+Ty04/bZdRsEmg5g/9mVVfT519P8A4kKv9TBdp2Q0C7YVmvp3Y0mf0JVhdFsEIQkkSppcACSaA5KQPaeCko5oI8iF8MwDmPBBB4IKrMfpjSsacTR41vbxZVzaLSVLm9N6VlZT8rIiPyv5d3KXI0PTsnEihmiDo4hTHKq+oBcNEjDHEXM0Kkk1LLfow0K3DMaac7z2JLYQ6NpsGFLjRxgQzbPs3afJo2FLi4+O+K48YgxhYiLIkj6JxXu/deUtBk6zqEuqjTNKjjL44g6R8qSs8jQ9Nlz25skVT2Kda78nGjy8d8Eze6N4oj2FmOoZ8iJ2jjKY0zOmAeGozdd1UaxnYeFFE4Y0YfbkleSaLgy4UGI+K4YCCxqin6b0vIyHTyYwL3Cis8zqvUjiYue/GiGLLKInKw1zW83FyzHhvx6DA4tcLckrN/T+nSYMWG6EGCJ3c1qMbQNNwpXzRYzQ9yph1e49Otzhj3kGT4gzxa7BJqztJzHakIRcJLDEkpf7LaO4GsYU42uuXTsAZcWXMxolaz4mlxWR6Z1vKlxcbTdPa0yMt00kvgKaXVtR1My52PjQuxsF3D+XJLRt0LTYseaARARTm3MJTcfp3SsXIikigaJI7DFS61lS6zpekZmKySn5AL2tXXrUM7+q9IcwPMTQ7uSVn/ANNOLLjnHBjleXu92V3Y0DMaFkMV9jAAATZAXQhJCEISQhCElm+uo+/pyY/wCyV2dNP+fQMV3H7VF1eL6cylF0Sb6ax0loQvKOvv8APz16uvLfqDHWtl3tqS3nTOM3F0LFY0k2wFW6q+npnT6JiSOZ2kxhWiSFgPqRqNNg09nv5HrdFwaCTsACSfsF5JnfP1L1PKzHP+MeQzu4aElfHp+uhL7D+pv9QpfpxqPdFPp7+WH5GKA9GdQ12/xYV6+V6o9NM3TfVMTJ/wD7N4Y+vIKS3WtdJYer5xy58iVji0CmrzzWsTAg1D9Npcks4BoudVE+gtf1z1C/FvTMWw94uR6p+kP4Nhu/XajlsE3DIvSS1/RmlS6TpBbkbSSnvLVo1w6dqWLqcRkw5hKxpokLuSWQ+o/+YWf8YLOdLdOy65hOORkyR4bHHtY3y5aP6j/5hZ/xgn/Tr/Rz/wCs5JYzWsKXpfW4xjTE1UjCtx1Lrb9P0CPIi2nnoBZb6j/59j/4KvurcCTM6VxXQ847WPLR67UlkdNg0nNY6bWNTlZKSaa1pJTcmfG0bOZNomoPlb5sELr6ed05JjmLV4yydpsSdxpyssk9EQi2RumPphckrPq3KGf0OzKHEpY5Z3pLp92t48onyJI8Rjv7rfJWk6yxosXowQQN7Y2OjpN+m3+Zsj/jJLHZsOT0/rz8bCncHtIa1yu9W6P/AE2iSahJlSPymMD5AVwdW/6Zv/4ka3vVe3TOof8ABSVB9OM6SfFycaQ22Ki1bleffTDnO/DV6Cks91r/AKMZaw/SWhya2Z435D4sZtF4b5K3HWv+jGWqT6Zf5Lnf8RqSzOr4svTeuGPDndbKexyvMro8/wAFk1LJypHZgYZHLg+oH+lX/wBNi9B1b/RrK/8Ahj//AKpLKfTfOkecnDebjY0PCqup9Yk1PWn4j5zDiRPLF1fTP/OOX/wgqvWsNumdTyHPhdLjOkL/AF3BJTS6d00ICYNXkEwFgujNK36B1meSd+nTyF7e0mNDWdDFnd/UW9WXTEXT8+dLJpUEgkgAt7kly6h0VpOJDJlZOZOyMWSsViac7U9T/Tac1z2uJ7S+rA9lWnVfUEmr5hgZbMWI0GrRdM53T+iYlfr43ZEgt70lrMDH/SYWPjE2Yowwn3QAXXS5mzxy4oyYXB7HR97T4IqwVl+nOrcjWNU/RyYzIh2kpLZJKSoSXjbo8mbqeWLDcWZD8h7WuV7rfRMeFpUuYzKkklib3P7lwaPv163/AOKet71V/o3qH/BSWf8ApxnSz42TjSHubFRao+oNG0s6rPk6rqxiErrbE3lqi+mXOf8Ahizh+KTqaT+NPeIzKflKSn1PC0GHFM2m6nLJMDsxzFsOgNRlzdMkhnPcYHUCs1rx6ZiwS3S4zJkO4eCaYrb6Yf5Pm/8AvNSWa1dkrur8luNYmORTFoNV6IZBpcuUct8mUxhe/u4cqn/8Q/8A+8Xo2u/5lzf+C9JZH6b58rzk4bzbGNDwqvqfWJNS1l+I7IMOJE8sXR9Nf85ZX/CVdruINM6nkObEZcZ0pk9dwKSlk03pkQn4tZkE3sxmla9A6zM/KdpuRIXsLSY05rOhiwO/q0uerLpiLp+fUJJNJhe2SBu7z5BSWR6oEjusMhsW0hlAarPXukP0Oju1B2TJLktoydy4tb/07f8A/EsW36z/ANGM1JYrp3TsrqS8bJzJRhYy5dUxZOl9fYzGlJDKeCtD9Mt4c78sVR9Q/wDSb/6TEl6fDIHxMJ5cAT/MWpSocb/J4v8A3B/5BTFJVvUL2M0LMc8034yvOOhoxL1JGXgGmly3/VoJ6dyqF/tXnfRjxH1Jj26iSWpL15ZD6jD/ANEwH1Ktesh9RjWiR/eRD2UuCCcKB3uMFdBq6UGnUdPx64+MLoIsrpPLlfZpIFezwlBBFpDulAAFAUklpFJPVoSSkIGyN0AXSSEhNbe08AprgSbpQNCURF3SbuOE8mzuKSEK5V1AGwS0faLRZ9WjTFkBKi0KKSEl2jtNboqkjFA8lDGAGymOJJ24pPYSRv8AyU96hrycWi7pMLe014KlAJG25R8QIsk3XHpRua35RUAUuyeYgBYJG17qMAnerU7o8YNIQQE0pTqcTSz+TbOssEq/sHlUOdQ6w09U5PK/H7q3OqkjTMkjY/GVnvp3/mWX/irQawa0rKrkRlZ36dbaNL95Vz3RbBCRKkmlocCCLBSBoGwAAT0iSVCEJKp17SG6ziMgdIY+14epHaRimR8wjaMh0XxGRWKElmf7Jx/wOPTf1Jpkvyhymz+nBPmtzcXKkxckMDHObw5aFCSos7QTmswRLkuc/FeHlx5clboLRqWdmfIby4vjLfDVeISWZPSsZ0bH0/8AUGoJRKHJczpcT6k/MhypITK0CQLSoSWag6Tx2aK/TZZXPaZDI1/kLpw9GyYcWeDI1CXIEjCxtiu0K7pCSy0XR8eNFjHGyXRZMPMo/wBZD+kd5W4+fNDjzm5YmrVISVLPog/R4eLi5DsePGeHft5Kny9Pkn1PFym5Lo2Q2DHyHqypKkhCSkAUkhKkSpIQhCSoOsn/AB9OZRR0iwM6bxgmdb7dNZK6OloxH09hj/8AQkrc1dfbYLyvr7uPUJDv9leqleS9bSmbqTIsUGU1JehdLPmfoON87aeGq6VF0izs6exR3FyvUlzTwsyIHxP7gyQEO7SQaIo0QqzSumtN0nJORixvElEW5yvEJIVHqnTGm6rk/qMqN5kqiWupXiElns3pLTM+VsuSyUuDBGKk8Bc/9hND/wB3N/zFqUJKt0nR8XRoHw4YcGOd3EOJKskISVdq2k42r44gyw5zA4GmmkulaXjaRi/psQOEdl1ONlWCElSap01pur5IyM1sjnhoaKeQrOGJkETYWimNAaAfQFAffYLoQkqDM6R0bNeXyYxa73GS1NxejtExXdzcUyfaQly0KElwanpmPqmGcXJBMZINA0UzSdHxdGgfDhtc1jndx7nEqyQkqHM6W03OzjmTskMxINh6tM3Eiz8OTFnBMUraIBo0upCSqNH0HB0UyHDbIDLV9ziVboQkuDUcCHU8OTEyATE+g4NNE0QQodI0TC0aORuE1wEhs9xJVqhJUWpdL6bqmV+qymSGWq/a9Wc+NHPivxpBcb2FhANGiKK6kJKm0npzT9Gkkkw2yAyCj3OJXZnabiajGGZkDJW+C4LtQksx/YXQv9zL/wAxW+naThaYxzcOBsYdVlWCElmJOh9Ee4udHL/KRN/sHoX+6n/5q1KElWZkT8LQ5YsGNz3RQ9kTByaFALN9C6BPgumy82B0c3DA5bdCSEiVROPaCaJABJAG5SVND0vpuPqIz2MkGQHl9l6tM3FjzsSXGnsxytLXAGjRVJg5ut6hqjyMduJp7DX+FjPe9aQJKp0jQcHRTIcNrwZaB7nWmaj01peqSfJlY9yeXNJarpCSoI+lNJiw5cZmPtIBbrty6tH0PC0VsgwmuAkonucSrVCSoT0tpp1X+I9sv6j5PlvuNWrTIgZlQywS2WSNLSBsaIo0V1ISVLpPTmn6PLJJhtkBkb2nucSuzO03E1GL48yFko8WLIXchJZj+wuhf7iX/mK307ScLS2ubhQNi7qsjkqwQkqHI6W0zJ1A58jZDOXB9h6stQwodRw5MXIBMclBwBpdiElU6RoeDookGE14ElE9ziVDqnTGm6rk/qcpkhkqra+leISUMUTY2ta0UGgAfgCgpkJCkq/XHBukZRc1zwIzbWrzDpF/b1RjBgNF1L1TUC8YOQY2hzxGSB7NFeU9MTGHqbHc4bmQtSXsKx/1G30eH38i2Cx31GF6Vj+vlUnsujTQRp2P7+MLopRYbe3CgAAFRhTEXutzy58vZK9IpHCDudlNWKvlIT6NfdLRP8kBtjfykkBB3G/3TgkAA4TgDuBRSggEhxsgj15QSCgDchB2StREVdivumkqU/uIA8KMgA7USpGqkAHyEtHhJd+SgXySSnsnBp83ScAAdtlGHEcGwPakaQ4A7X5Ch3CCDvY/mggH7FO34RQ9boM0zA2ud05jQBZH4SGiQCTZKdaLSGu5QANgKKEhPn+qVKZC2xRs+aTgAAAABsi6TSbTcSQtppAFkndIWAuAGwrcj2nXx+aQBfG34QdRKFzS3njwVnsmv7YaetOQCCCLobWsxnXB1dp71TN2U8fpbrVKOmZN8fGVk+hdQxcTSJW5GTHGflWt1IA6dkB2wMZteb9PaRiZ2LLJOzucJCAsgV0W6gbb0Uapgc/q4vv+4JYtTwZnBkWVE4k0AHBY7+zGB6k/HcqrWdJh0gY2Tjl4IkVnBDdQzF0XqaCaXPiyCXFhkBsOaCCfNhRasS3S8otNOEZoqlpPGfiFxaMmMkGiO4Jf1mNufnjoGjuF51oehY+oYAyZZJfkcTZa5WDulMUihPO38uVjBTZVcwdNtnZeM2u6eMXxZCb+vxeP1Mdg0f3BYo9J4vJyJz+XJP7J4nmaVT+Gj6Ftxm4pNDIjJ9dwTv1UBupo9uf3BYhvSOI7f5Z0h6SxuBk5CfNn7LcHJgaLM0YH5Cjk1HDjFyZMbfy4LGjpLG85OQpW9IYHLpJXKHBp/Zaj+M6dx+siSHW9NujmwrLDpTTPUiceltMoD45FPzaP2WrZq2nvvtzIT+HBSDMxnAFs8ZB4IcFkD0jpjr7RIE3+x2F4nnao/DSZltBkQmqljN8U4IM8I5lYPyQsZ/Y/G8ZeQkk6Qg8ZuQn5Z+y2Zy8cczRjx/eCbJn4kQBkyYmg8W4LFf2QxvOTOh3SGGeZpkMGj9lrzrGnN2dmw/f9wTWa1pshpuZCVlI+k9OZz8kiU9Mabx8bmqfm0PIWvdqeCxpc7KiAHJ7gona3prBbs2JZAdJ4PdbpJXD0XKUdLaY3/VkQ42n9lq26zpzxbcyJIdb0wEA5sKyv9lNM7rqRP/sppnlsifNn7Lr6u1TCyenp48fJjkcSFb9Ngt0DDDuexYbqPQsHA00y44cHhy3nT7e3RcQf+zCqiOmsImysALJvYcUvKuuw49RS9w/1V6v6C83+o8Najjy+XxqKbb6AWnRcMsot+IKzWY6FlbJ09GGkktNFadJCEISQhCEkIQhJCEISQhCEkKk6rypsPQcmfGeY5W1TgrtZ7rb/AEZykljtLzeq9WY9+FmPeGc7tCkk6j6h0PKDdRJkvw9Q9JdS42hwZEeRFJIZHXbE3W9Vk6s1PGx8WH4wLDO9Jel4GWzPwYcqMUyZgcF5nFrfUObqjsTEzZC8vIAsL0nSsP8AQabj4gd3fEwNteTYGdNp+vuyoIhLI2R9MSWk/S9d/wC9d/zGLU6ENRj0cjU3E5VuWW/tzrP/AOTj+j1s8Sd+VpUc8rPikkiDnN47SRZCSxXR+ualn9QjHysp8sXa89pVj1X1e3BvD05wORw6TwxYHFzZ8DJkkxnljy0sLvIB2NLRdEaNhajkmfJka98fECSu+lItezi3N1DOlbjciPy9VvVOuanh9SOxsbKfHFbKavQmtDQAAAAKAAoALy7rb/TA/mNJeptNtBPJAJWB621vUdN1hkWJkuiYY1vWf3W/gLzL6j/5/Z/wQktd1BmZGJ0qcrHkMcwYwh4WS0zN6s1WN8mHlvkDDR3atL1Z/oW7/hRLLdJ9TY2h488eRDI8yvDh2pKV3UfUOiZQbqJMntr1u5cmXO0J2Tp9CWWEmL8rzzWtTk6t1TGx8WIRgW1ncvStMxBgabBi3YijDUlif0vXf+9d/wB9i4tUy+rdLja/MzHxh3pzV6DqmpY+k4T8nIdTW8Dy4rzIDP6x1z03/wAImJK/6J1PVtSzpDlTyS47GLlGuakeshhfqn/p/wBV29i3Om6fBpeEzGxm0xg/mSvNf/xD/wD7xJemahnQ6dhvycg1GxYR/U+ua5lGPSIzGxWH1Jmc3T8WJvEkhVj0JixwdORSNG8tucks9PmdYaS39RkkyRj3TlpemepY9bYY3gR5LBZaruRjZWOY4AtcCCDwQdivL9FH6DrhkMB/Z+odEktp1nm5GBoL8jFkMcokaO5qh6G1DJ1HTJpcuUyyCVO6/bfTMv2kaub6bitDl+8qSl641HL07ToJcOYwudJRXX0bmZGfoMeRlSGSUvcO4qt+pLb0WA+pV29BtLemIPu5xSWlQhCSEIQkhCEJIQhCSEIQkhCEJLh1eT49LyZPUZXlHTU5xeo8Z/uTt/cvUtfeGaJlkix8ZXm3RMccvUcQm9EhJetXYsLHfUf/ADbi+/lWyWQ+of8AmrH+8qk9j5dOGCMOAE3/AIMXSltRYxP6SGhVMAKk5BPC3Dq5n2UmhaalJSC6P3UycKRQvc7IoHY+AgCjQ3SrqBR2HhOARW10UAmt9kpI32XHqOp42ntvIkokWGrsJDWkkigCT6oLNaFiM1nWMrNyqljicWMas+TkOMVtOPH9OrtxOo9PyXhgkMZ8dwTMrqPT4HU2Qyn01dmv6DFqGD248TWTN3YpNE0THxMCJsuNGZ+XFcz/AKj87C1+BvVSnqhl03CnIT4+qcIuDJWSRLWCGIVUcYrimhQZGm4WS0tmxo3WKJAAKof7HfZS8BrqzTtXzs2d7NHxhNGzl5Rga9NFmDE1PHMEh4cmz4uX0tmnJwA6XCfu9i5epNawdXxccYocMoPWhyqmuxqvGBptcTVffhANqHGDhixCTdwaASfdKS9/vwussH3UE3x42tOB9JpIA2/oE4CgAlBKkshHCVTTJyikWgGxud1GpHCN+fPpFosJqRd7ALOazt1Ppf2ctGABuABus1rj/wD1n0xrRbmlVy8r4elt9WF6VlebjKxHR1DTpffyLcaoQNMyD6jKw/R1HTJPfyKmHtbk8tCAqvqTGOTo81CyynKztJI0PjLDw4EEH0QtU2JYjpG7OlssZeg4r/LWgFduqAu03IbVkxlY/pXKOka1PpU5qOU3Etu5okBB3BBB/BCwTTpukROrC9HSh+muj8skWg/Kzem1pnUudp7qa2RxdGtEtsXZosMxFnDe0VaaDQThfq1agKYANaAKHkqCXLxmTNx3yATOFhpIBIUwFACiSfvaqNe0MakBNjuMeVGLaVRUOqQF1P13Nl0vThNCO6nAG134k4zMSOZpBEjQfdFVOmsydU0mXC1ONzHt/aXKzwMaLTMJkAk/wbOHOQVdtZANT+0s2IAPhPbsfYXMNTwJ5hCzJjMq6LLXUaF+VYRKqJ7PFEGvHKRji5xBBaB5KcHMGxc0GtwSLSWHO2kafsCCoEmmlshMJF/yTjuNj4XNk52JjOAyJ44yeASLSnW+ikIFEqMlEc8c7e6GRsjfbSCi+ApGq73pjcEk8JK3tLdmjykP2U0SVXCA2kqW6SSDavsltJujhJUXWLh/Ba9uWu0Ig6PilvHxhZHq9t6Mfs5afp8l+hYZdz2LHP23w8rYrA/UqLfFlW/Xnv1JkHy40bmciw5Ur1n9OzehOscSLXrGfThz3aTNb7aJKAWzSQhCEkIQhJCEISQhCEkIQhJCz3W3+jGX+AtCuDUsCHU8OTEyLMclX2mjsQQksX9PsLGzMLM/VY8ctPaLeFx9baHHpOVFmYTTHFIeG8NK3Oj6HiaIyRmJ31IbIe5T6ppuPq2GcbJBMZIP7SkuTpnUxqmjQ5DjcoHbJ/7y886dyocLqoZGTII4mySW5y9G0fQsTRmyNw/kqSrD3Wq2ToTRpHl5GRZ9SJLu/tVon/5lAuyDMx9Qwnz4sjZYiCA5t0SFSf2B0X1kf8xXWmaVj6XgjEx+4R2T+42Ul5l0hhQajrxxsllxvjejVtKzul9RE8D3dl3HMt9pfS2m6XmDKxhIJKIHc5WuZhQ52O/HyIw+J4ogpKm6Z6lg1iMRyUzLHLVlOvsSTH1tmbzHKAtPF0PpMErZYjksc31KrzKwsfMx/gyoxNGasPFpKmwesNInxmPlymwvrdjliNeyh1J1FGMJri01G1bN3QuiPN/HL/KRWemaDp2lC8THDX+XncpKt6wZ8fSM0f8AsNYFS/T/AAMXMwMs5WPHLUoovC2ep6fDqmG/Eye7431faaKg0fQ8TRY5GYgfUhs9zklhOtNDZpGVFmYLTHFJ64aVstD1lmV06zPndvEw/Ku/VdLxtXxDjZTSWXf7TRBXFh9NYOFhZGJD8vwzgh4c9Jec65rMnUGpDukEWODUYdw1bXQ9Q6d0XBGPFqMBdy9/lyd/YHRfWR/zUf2A0T1P/wAxJXGDrem58xhw8qOaSiaavOv/AMQ//wC8W70jpjTtHyjkYYlDyC09z7Tf7KacNV/iP+F/UfJ8l93lJRda6S/U9JuFvdNAe5qznR/VGPp2McDULja02x69HVJqPTGlak8yZGNT/LmftSXFqfWelY2M52NOMiXgNYs30Tps2pa0dVnaRGwl3d7etLB0PosLg4QySfZ71fwQx48TYoYxGxooNaAAB+Akq3qabCg0iQ6hG+THJALWKLpOfT59MI0uOSOBjyKk5Vhq2mY+rYRxcnu+MkE9poqPR9HxtGx3Q4vcGOJcQ42kuHqyfTodOjGqRSSQvfQES6em5sOfR43afG+PHFhrXqXWNGxtZgZDmdxax3cO00pNL02DScJuLi9wjBJHcbNlJd6EISQhCEkIQhJCEISQhCEkJEqQlJVPUjRJoWSCSAWrzrowA9TQ25ehdVMMvT2W1pqmLz7onJZjdQx/Jv8AJbEl60sb9RLOHh/aVbJYz6jA/wAPxXepVJ7Q+XXjO/6vFfloJTyVBikHFh4I7BuFMXCqXQGy5V7ZS6kl2U20Wrao3PLvQQHFMtLaam5RIQdqH2Skl4FbHyEygUoscGk1N0hZcL2uOxBH2FhZPQdbi0bIysaWNz2GS+5iuddyziaZLI004igpultOjh0aN80bTJN+49y4/wDSgaTd0cIrsrqCdmTAyaOy1wBFijRUiA0NaAAAAKAAoBC8x0uy7O4QhCjUgtDgQ4AgiiCLBCzuv9O4+TjuyMNgiyYx3DtWitRZMrIMeSR5ADWkkki6pX41E1VQR3UXT2onP0+5Tc0Z7Hqzo3ss90jF3DKyrJZJItHt4C9nBUFuHIBQgNHKCaRaDatRF7eyi0nG6W0oj8WT6RvwgH0Sku0kvAFndFoJPrjdG9CxufCSLsbWFmtT7n9Yae1aWwFm84n+2mnqmflph7bbVSRpeTXPxlYjo516fMPUi3Gq0NMyb4+MrD9HAfoJ/wDiKnH7Xz8tAhCWltYVVrelnPjEuOe3KiNsKl0frBrKxdYuKdvL1Yhc2Xp+LnCsiFp8WqZY77K+Oeum4urYI8kR6rpskb54KvtU2javFqsP7dpWj9zVx/2Vwu4lksrWn05d+k6Nj6Z3GCyXeXJiI1skSsAKCkY2xZAopoFnfb2VIARYHCstQKHNjnlxXsxZBFKdg4iwFQtwupIpr/VxuC1AA8g7JAbJN0Bzaqm6woaKMOoBjzbgB3G6BPlY7Ucl2r61LhyZPxYsXDWmu5T6vqWRq+ecLTiY4GGpJVSappsOI6OOGSSTKeQsc8x6G6OPjQ2laT9PY7oh+muKUGw9NkwNWmoZGo01q4p9alxY24sTgXNABe5QYE7NQyGR5udMwvcGgNBINlZBmb7tl43+d1p/Bh3EyanJf3ckGiytd3Y+pSX9yu7W+mdO0vTDlXkSlZRuTjhwF5EIrchxO6kFNjVXD+lf3r2nfugyf1DRy0qPC079Y+TM1YXI87ByhxNUyMUsM0gyMUkAPHLSVJ1IyR4gna5zsehYaoXLYLqtjjhpQ3I+9Cz4ZcKXuhlcAY1tAe5oIGxAI+1rDSaIHYzMvCldJVODXLT6FqrdSxqcO2eKg9q34kRF2lzc+COw0NYoKUgbpFvc0lHyl4Qjf8pJQbQaIScHcJTuNklS9V2dFkWi6b30DD/9xZ3qtv8A6EetB0sK6dxK/wBlY5+2/H5XG/5FLzX6jZL3anDj8MYxelEGtlgvqWBWKqV60+n3+YPw9atZjoKUS9ORN/3blp0kIQhJCEISQhCEkIQhJCEISQhCEkIQhJCEISQhCEkIQhJCEISQhCEkIQhJCEISQhCEkIQhJCEISQhCEkIQhJCEISQhCEkIQhJCEISQhCEkIQhJCRKmmklW9QPjZomUZ3drDGV5t0XDDP1BGJmF3LgvSOofhOiZX6ijEI1510RIIupIhezrCS9YWP8AqNtpeP6+VbBY/wCozL0mB3qRD2Pk/FJOLCTV9g4FVspjuocQg4cJBsFg5Uq6jwuR9ZfyjlIl82pokQltACSL9ItFFFeyElQdVOLmYsHh8q2OMwRY0UY2DWgbfYLHa+L1TTr4+RbUUAKFCtl5n+pdhdvCAQj/APkhBXFbhuodQ0zV8rJe6LUviiv9rV1aNjaljNe3UckTeGLj6k07UM+WA4UhDAbKvYWlsLGuNlrQCfZA3K2X/wAnZVDtqLVtZlxdZZg2Io5W0JfLVwO0F+o90f8AGjLNy5qsOrocE6YZcxhLgajLVidC1MaZqbcl4cWLXjN47PSqunTaDp6c6Xly6TlW13cSw+HLUCxYO5WY6t7Jm4Oq4/krSQvLoo3b/uaCb/AXZxZqG7m5AHqfdeKCEEDz5TXu7Wk8rcLNnEAlNsg8bFRd5BsG/sn9xIG1bcImquyd/wDzSpAbCXlKZQTwj2D+Eb1ygUaKUkHYmxYpZvUn/F1dpki0jtxRHPlZrXduo9MJ9qmflbD222s76RlULPxlYzo4VpL/ALyLZavZ0nKDefjKx/RoJ0sj3Kqcftpn5XwAJr7eEtVwDXnZdDIw0Da/ZKRrQAdybPla77sdULG91n1uD7QGk3QtT0GgXsPFJwIA2ATcC5u0ggEUTx5UpioWD+QpCQACSB4CjL7Jv3sm1p0EoAaPB+yAbIAF+0ySWOJhke4BrQSSTQCyebr+fqZMOlRFkXmVVcgNrXxxcnQWkztYwdPaTkZDQ7w0LOz9T52cJI9Pw6Y6wHuWTy4shk5GSHmQncus3+CtxggDChoAEtBNADwsM+VDZdPFwGSjcGgQS4uJKchna8klU7skyT5Wc6+4HsjB4BK0eoZkGNjvEkga4ggC7JNLMY8YlZiMfbWSz2SeCLWOCqqW/JoAHyutM6REdZuqytGJ29xWu0vC0WeJk+n48TmA0HALqy8CDN004T7ETmgft5ArYhRaNpWNomKYIpCQTZL1Zdjcpve7tyPjEDzOAYwCSCLFAelQQ/wLqNkmPBG22q+f8M8bozIxzXAtIBBsEUVWadp2kaJK98EsbJH+XPVcXpps4einYuPmOfkXGGExgLn0Zwz9HdA/ltsW3y9SwGYrzLkxBhBBAcFhOnIv8LkzR22EvPYiqbfS14t71J07M5jp8N/MZJCia7P07WMjKxcYvY7lqSCePE6inErhG0rQF4dEXMIcKJFG72Ufpxdh7auBmIvlzYHVONO8R5jTjyK9jljnaHQyNePbSCvMv02Rn5z2sYS8kk+KFq4i0vUtKDcjDmL3gW5i6jlDQtxPAu0LbhFg8cKn0fXY9RcYJWmLIby1yt+AthE2WCI6Y2PKXjZIhTVqjqkXoc6vulTfTuJ/7qz/AFRvocy0HTDOzp7Eb6asc/bfj8rjmivPvqVDU2LKAvQduCsJ9R5WuGPCH05Ur3X9Oa/hMtXfyLZLJ/TzbQPy9aqkk5Cj3NcgDkUnC0k5CYSALJA+5NJAbF8ivBsFJSISWhJKhJYTQQRsQfwbST0ISWklQhR9wBIJAIFkXwkpEKEyRiiXtAJoEkblKXAAkkAeSSKSUqFD8jNh3gXwLFlI3IhcSBMwkGjuNikp0KCPJgkJDJmEjkAhKJoySBI0kCyLCSmQoDPGCAZGAkWASNx7QJ4izuEjSLqwRVpKdCg+Rln/AAjdudxt6Ti5tgdws8CxZSUqEy7CAb3u/uOEk9CRCSVCjJ4rez49JfIsivAST0JncACSQAOb2pMD2uFhwI8EEEJKZCi747I7m2PFhI+eKJvdJK1o9kgBJTIUBmj7A4SM7bq7FfhKJIwSA9t3uLGySmQou4DckAeyRRR3tALi4Ae7FJKVCiD2kWCCDsDYpJ8rDf8AhGiudxQSUyFCZWCiZGgE0LI3SCaMlwEjSWmiLFhJToXMJ43EASsJINAEEqQkN3JAPBJIFpKVCjBBFgg16N0pEkIQhJCEwAUPH2Sg/YjdJOQm/YFANfkpJyQpN6BIN/ZNvexvZo0eElTdWSvi0DIcxnesP0MZZOog5haNiXLfdTODdBygZWxXGac5ed9DsEvUcXttlJetrJfUKhoTfYkWtWQ+orb0SL7SJJunEnAxyTZLBdccLoUOnisDHFAfsC6KXUeFyPrNq0EIpOJ+9qdSagAkIsWE8CwjJhsIsedk8i0ztJNINGqh6qpgwpvLZVsYH/JBG/8A2mg/1CzfUOMcnR5ABbmDuCs+nMr9XokEl2WgNK87/WPTdnAmtVoubUM+HT8U5M+zQupZrqvA1PUGiLFDXY648AUF6t1Q6rHRtdxtY7hBbXM5a5Wa85xDqmjZxyjhODaAeAFsNK6hw9TcI23HP5Y5X5OIHZ2UDvpjqXTjqGkyMZvI0dzV51iYGRl5rMJkZEhNEEUQAdyvUs7Pg0/HdNkPDQBYHkn0As701hvz9Rn1nIaWd1iJq04snHF3VQU1M6sgGLomDiN8PDVd44IhiBJJDAD/AECz/U2VHla/i4wkaGQbvKtI9V08uDW5Ua6+AQ2tz8vb0VldUU004ewow8PAIIIPBBsFSGgBwAPa6LHf/ZoYASfXhOIBrYAJvdR5ATibFhTIAGwqko2J2r190nCBubvZJOH3KAbNBJSAACTv+Qklqlm+pC4a3pn2K0gs7g2FmuqNtW013pypl5Xw9tvqovScn7xlZPoijpL/AGJVrdQo6ZOau4ysb0U8DTZx21Uqzw3vq1y8tRe4oWE0GyRRBG4R8rKFkA+UwzgHYWPa102GylsFu4oD2o3vDao+NlE+UvNDYXxaaSTVkkA0FIUqE6V4cABe29pvcS0Dx7tFIACnVG7G9Y58jshuEx1MaLKZouuRxgY2QwR+nhT9Y6e/5GZkTbHD1ncfEycsgQx9y5uQHY3VxZJpLdOihnAc5jZABYJF2s1qWpZRzTA55x4rpXekwT4eCG5T7LRf4FcWsnqmWc3OfI6u0EhoXPgbUewurkUBOlrTO0aH+GHNizTkSNolWBwodT0nHDD8ZaAWkLP6dp+Vl9/wOMcdGybAIVjomacYT4rzZYCWlaZ9hqy4xF/XY0eZPmafTv4pI+dpADASr3G0LUNUijyM3VJKeO7tYoumtAh1bSsrIyhcspqM/wCypdE1f+EXpWq3E6M0yRyk14+1VF80UzukvjYTj6hksestBgZuTJkAYz8sxOIc8OJN2tjrHUeNFjmHBeMjJktrQxWHSelO0zTB8wqeU90iKBtjoerA42PiDKEOoQywvvYOJpaqKNsUYYwAMAoAcUl+oDIRp0Lu25zJTCmYgcMWIP8A7/aAVlybQd2/AjvqpOpGRTSQwxx3kPKhz8Q6NGw4+p90nmJVusZMjtVlkaSCDQV7omn4jsVmU4GWQiyXK4mOJs3URz5HToptCypMmF7pogx/BcBRcu+fLgx3ATSBhcdrNWqU9RthynRuiqIGkuriDVcQSYsgdJECe1ZOCu00NuZgIO0p9ZxGT45zcchssQsOarzRs052mRTnmqcvPYJ8s/8AVoHvPyftLBZu1v8ARsN2FpkUDqDgLK7OETYvV5/PkZaQ01gDZQHUmWngeVvc3tT9U0NEkWh6ZbXT+Hf+ws91bY0OT8haPp2xoOH3c9ixz9t+M6rPkj+dheb/AFHAOqwFviNelLyrr2QP19wby1qoG641Xp+q6np47sOSRrP5kLp/tPrkrxWXJ3NWn6Tga3RGX2v7nK1/S44kLxBGHEUXAAWtDjU3UeQHVhB1TrQlMhyZEjde14XWTOflW7OJimwcaMg8ggWUpaxr2gRhpaKaQB+0ehspONo+hYOfWNanoPlyLap4ep9XhjEZyZAtz2tJsgAnckAWT48KN+JBISXwRuJNkkC7R459Cy46m1SYCIyuseWhdI6h1Hl8ki0UePCyQyNhja8gAkAWR6UpawiiwOF2bA3Vfwz6GrPM1TNnoj5XAmrFkFSRZ2cxxDBICLB5V6AGCmNa0Xs1oAAQST4A83XJU/NocyoT1DnxAgmRRnqvMbw6ytB2tdYLG77kUCm/BAW7wx3fNC0+bSchZiXqPUgH3I6nKtl1HUnu7ryLct2Iodh8LHAeCBspGtAIIDAQK4FUnzZ9C83+fU8hwjAnNEUDYorpni6hbcb25JYt+1oa4kNAJN2ABf8AUKQEgG+SKsHf87p+I8l5v+l117y0NyC6IIi07Wi8NZBOC4WS5ek2dyCbIok+U0mt9wPAHhPxR+7zqLSta+SQNjkjcnjSNea7iQE+Q9egmwNwLPrYfztNBINOJI8UpOOPI3nsuka2yRncyR3pyR2n67jxujMUnavRAQQBZIu9ynE2SL2O1Hik+c+l5vJg6yxxHx5Dk2V2tQNYJBktc2yHL0gmwONhX5CiZI5z6IaQNg2rIH80/E+lgY9X1+CAtbJO2NNi6k1qOAwsyJF6FJRYQ4BwAoAgGlyGCEAgQxgO3JAFlPxPoWKb1VrTe0fq3J0/VWtTs3nc0DyxbF+Hjurux4yBuLAspwx4BGG/DGGE2WgCgU+bPoWIHUesxtaTkS8dqgdrWrntecqcBq9AMMTgA6OMgcAgV9jwmiCHtIMMZs2QQKJ9gJ82PIWEdqutZbe0SzuBTYotaA+OIZIFE0vQA0NFNAAGwAAAr+iW6I4oHYAVsjx0fS8+Zh628CRjcinmrUk2k67IKmjnc1ejsdRIAAJ3BAofyUnc6gASbNEnwo/FJyLeZx6VrjgYxFOGBNGn62/uqPJPaaK9PIoEEgkbkk0LUbn1RIPcTvXFDhDGfu8ykj1qxHIMqwaopAzWpYjAP1RjHLTa9LLi4l5ABJsgAFMIIF0LPoV/VT+Nx5LzeI60MZ0bP1IiH5ACZFFqsgkLTOQRbjZ3AXpewugACKNDlIQDQoEcCwAn4o+jebuj1d9B4yCAQAnnA1oMfKWTi7Ll6MCQasUDewQXcjkEbhPxPo3m+NhasXXG2ZrgiR+sdsndLkVELdZK9HBJaQCAPNCiVy6o0nTcrtDQ90Ro0KAAUOGu6Tk2hUn0/wBQyZdTlhlkdJGWL0VeWfT5ndr9/wCyxepqj7aEqRKkUU3DqmUMPTcjJPMbCvKo9c12cvMOXkFpNntXonWXaem8ruWR6G5yVIbaF0bqc6rrkclnKyQ5H8b1ru/yzIXoRYCQS1pIFAkCwm/FH3d/xx9w2Dg0XS0eNs/oWKPUXUUlETygBRM13XwyRwyJu0m3Fb4NaTs1pPkgABRvijIIMTSDzsKT5s+hYPK6k1LPwHYuQ75I3Lt6Ble3XAwML2OYVf62yODSMgxwxtoegAQs/wBBl/8AaCmPAthVE1aCJ1eqrJ/UL/MH5kWrFACuKWR+on+acce5VU9pl04Eafjgij8YXRtdKLFsYkIcbIjFlSgAXe66jwuR9YI8BIGkJ4AS1VqdzU0NHPKOEtWiq4Ub3SElhBrnjzzSdV8Kg6j1N7KwMXeaVVUDbWxxVAmavrbjKcHAYJJHCnOXBpedm9OSkTRmTFebcGrs07AZhwjgyHdzuSSuwtDwQ4AgiiCLXFychkol6vH/AJQx2ulrvB1nAz2Ax5DQTVtcV3g3RBBHOx5WFyNGxpbcwGJ/tqY2DV8UVi6gS305YPEPjqh4sz+bLekWCCAQRuCLXMNOxG5H6huNG2UcOAohZA5vUfHztKa9/UE+0mYGBQcSPtn81daa3zNCx5c1+Xqed3R33BhKjz+qsXGaMbTIzK+u1qp/4MZCDmZMkvsEkBK7J03T7bGAZAKpq1MRDbvVc4k7UCrcrELGmbKBkysgmm+iVoNH6Nh/SiTUbMjuGtVdjM1HO1iDMhw3djKoPXoDHFwBIAJAJA8H0q8vI4gDZIK6OixeXi5nTErZ45XT4LjRDuWq/wAaZmTEyVhtjgCCunVoI8nS8iKQWCwn8EC7We6TnL9KDPMbiF0/5uRzEbm5cANleFpBNAFOJIAA5SA2PyjgLquecCTyEHbhJuUV/UcJTOFnbyfCBfoUmgfkGk4gEEXRAslJK0UDvSzfVl/rNO9960fcC3YWeDfBWd16pdd0uL/9Srl418PS2mpbaTPfiMrHdFMvTJT7lWw1cXpGUKv/AAZWQ6Ks6VIPUiyw9tOTyv3gNNcgjlNr0nSAAA3vaYT5J/kti50ihdBHAI4Re5SG/KmS37sBGxG1pqAaKUyyMbKwxvALSKIIsELP53TZa4z6VKYZPLVorsbIBs7qEE0lbHJHY2Pk1PJxe7F1WAgEUZGpdO0XT5blbJ8zVq5oIp2Fs0YeCKIIulndQ6ckgJyNJkLDyYlz5cSDpurj/wBAoJuXW3nE0p7YB23TR2rIsZOGmZjT2t2LqNbrT42sQvgfFqTalYKLXKOLU8PNL8KPH7Y3A0scVxES6MwzRHRaT6fm9A/Eif1NqGiMhkgzu2SYA0ALKq+k8p2L0zqJbzASsrERL35eUQ57ySS42VYO1sAV1W/SeraVpzn/AKyCpC62Sr0fGyIsqFs2O8PjcLBC8idIZ2OEWM+QVuQNgtX9O82SsjCfwzcJkbNxNTesZjP1Fg4nDGU5dMzxFC97jQaCSfVLg115n60YORExR6/PN8TcbHYSZTRKzyNoXRxdYrZORwllkeCTZJF81ey03S0wfhPj8sKr9S0M4uMyaC3EAd4UnTk36bGypn7Mar5ayx0VMRxy23FrmI7E1F5ItkhsKTS9B1DNcHsBhjPLirjQsCTVso6lmC4wajatZXaAAKAFAAUAt+PBQ3c3JyAuqq0vQcXTae1okl8vcrMi0EnyktbAHRc6q7ZQAOEoITLs7pwU1SpOsXVov5ctVoIrRMPz/gwst1j/AJlP2ctXoRadHxO3j4wseT26MPLuJrfgBeWfUAVr/wCWL1SwvLfqAb6g/DFQ9r9atLozQzScYNFAtBK7rvkFV+gyvl0mAysLDwArEtJog7LoN6udO4og8fcIIBFkWQdqRxdCzX9EAVRJoEb0pqwaJB5NbAeEEgNN8oNg2Bt7Rd1fA5SmASAEGgi/6eN0XfIIPgptkbHwUXaNyjlDcgGrI58IB/aCTRvhFoqyizU8iqPtAcBsUm/G5QB7KbppLFCktqO6FCyPNcp4JF2djRAqqA9qHfsO5wPIAJTTwAQf5DZYvXOqMt2U/EwajDXEF7eXLhi1vXmU+5HAe2qrl/K35dbL0I0RydvCaSSLFV6WY0Xq5s7jBqVROPEq0wALQe4EOr9wNgjwQgrQieyg7bcJdiKPkKLuc15J4HIUoINECgRwVbuqTBbHAEbGyCnENZ+6gCfI3JQ8kNFmjfPpREVuaB9+07pdS95JIqgfahOxNnb7KU0Ae4AkbiioiB3XYo70FY3UYv2TSCaAHgnlU2u68NMqKJlzOFgqpxur8gSVkwtdGq/oHTXMFNlr7o14CVc+HmQ52MJ8dwew/wAiD5BCn882D59Kwj5UdjrUG0cUglBu1OqHZSNfex2I4UsbnlzQCACd7XMSARe58flSMcRd0T4AVUrC3bRFhtOs7kndRSgg00g0dwfCZG+nEEAA+SU+SIvI7SAAbJvchR5TvdG8gGxZPmuE0g7EEH2pXkd1NNAiiTx/JRXexAHo+03udkPobg3e9BFgtAN2ePsgggkAgHzsigduSfXhTRtmg2CCKF8+0p23AS+zRNbUggmtqB+/CbncAkg2QL2pcmqOLNMyvfxkAnjcLpIsng+FX6+QNEyrNDtAULorBtGz/wBPN9fd7+Neohed/TeG8qeZeiBYPt0HkqEJFEsl9QMr4tDEXmVypeiImjFyJW7u4K5euM6TM1w4TBtCQ0K+0LB/QaXFE4Bsrh3OV8BHdTkQKysEUCSALIPJP2RY5AoHweSg2SSTudhtwgbnusWPa33c5B422KCBsNz5Jvn7ILgdzsEEigSSADYIF39k3NFWdSM79EyFn+gpy3XAwMsOar/qZwGiT2FQ9Avmbrw+Pdr2U9Y8nurfj8vUljvqJvg4f3lWx2AAWM+oxrHwfvKszpK75dWOAIYwNwGgA/yUhFgqKA3DEfbRxxwpQa2XWeXK+ytNCink2AUwfcbJ23gUqwk4RR2S0kSmbLIIoXyONBoJKyOkNObm5GoS2bcQ1XvU85h0aXtNF1NVTiTw4GlxGVwH7brySsOZdAXd/kxFV8KytceZnCDIiha0OfIVzR5+dmyduDhOeOASuTMZm42p4z9RiES5jE8Xu78ucdA2gr2ikWCAfCLVLpk4UOTlR4kRklP4Hkn0ApiQ1pJIAAslUunT42p6+wZrqhBqNqtibFsebk+Zo9bpw8HU9e94+KtLp/Tun4AtsQlk8verMOiiaG90bGgUACAAPwnjcWNx7HCwyzXoNFwqrtdwAGtAAAA4AFAIUU2TBjtLppmMA3JJApUGodWQNuDTWnImPBaqGDm9FVQNrdfU2pswNOfG3fIlHaxq4un8R2HpkbHinuslcem6Tkz5n8Q1V3dLy1npX69Tg4vmbfW5OXk26IAre/5JwTSaSggcgro1YjqU71SACN9z+U0G+OUWbN7ngJqblJLiSCQBuE8A3ZJ35TAObFJ/8z+FEgAArNa20v6n01vsrS/YrO6uCOq9LVM/K/H7bjUQXadkD3GViui2lun5B9yrcZYLsOQA0SwrC9G2IsyP1Ks8PbbPy0bgSORympTYBAolNo1vV+aWxczLV37CYlog72hTTCUNJI2533StaSLPPgJx2N/0Saka2uQlLSeAi+PCATdpT1No+b2QCQb/AJJ5IJAPPlIRuKTdGqs1fRMbVYzYEc3IesrpuKdL1gw5gLHUQxy3vHAAKpuqsA5emGZgqWA9yy5MBFLbj5ETdX6AwSM1TRnyCKWezGq7M6a1fDkAfjfPEzy3gqXJbHk6THqLZDHkRgU8ckhWmk5nVb8aOeNonifx3LnF1dGYjsuaJ+uNYG4+lNjYrTp7CydEObqWqhkQemyah1ZKe1mC2NMb09rWryg6zl9sXmNqb67oVTuz4y8sZ0+sfC5+LJIWly0cE0eRC2aMghwBB5IWl/h2MNOOE2NohLaAWG0lrtP1PK015sRuJYs8wTZ6WvDmjprggOBBAIIog+VSa0xpkxsCBgaJXguDV05eu4eMS3uMjx4aqzTc86j1NiyFnaAnFi7FOrTmzAQe7c4+MzGxmQsAAaAAAK3rdSFuwUpNHflMJG5PhegdeXlvdC5pG5qk0jyFK6iL98KMigg1UmgIAspyUAmlMqPrGhop/wDeWr0K/wCDYncAD8YWS6zJGjj7uWu0QVpGKP8A2YWOb3b4eXbZI9E8Lyzr6aOXXyGcsZTl6pQ2JXk3W9N6inLVQ9r2r0GQv0THNcDtVgAQeeVW9Ptc3R8cPYGWO5WQqjX8l0HlzPsE0CeTxVINCjRO29oBA2Jo0m7nYm7PCmidfFV+EDckHb0m8FKKI82PKUdygfYmkCiDRJI8HwjegRVoNEGrBo2milepveASBufad9729rmJHFedyOVLEe4Ft2BuClA7aTmqQTQNbmkDcWgmka04GxdUfSOSL3CARYB3CWwQQByklAO44vgqPJiORizQBxBe0iwaIPsFPJJFmxXH3QDtZ2J4IUPZqk6d3mmNOdG1cySQfJ8ZIDXrRxdb491NhrQ5ODjZrDHkQseCAbdV2FwT9MaXJjua2AxuogOCo497tDI1qptc0nEytLOpaY30ZFZdFzyy6UWSdxAdTSVY4mnQ42mswJIwY6Ic3kEldOJiw4eOIceMNiaSCAaBPuypDTQomp0jASTRJGycwWASQABRs0gva0glwaDsO4gWfsufUMkadiy5bhYYLDVfZqprbGflQ4UAlyH9jAQFnNS6ughIbg3L7c5Z/Mzc7qDNrd3lsYVpg9NRNaH5RJf5YufPlBujj4HLsnHrWXxitVtg9RafmmNjnmKUnhy5ZdBwZBQj+OlQaxox05rZYnF0ZVcOYXVbk/zobr3qTQ5M4nLx95AKMfkqgjnaIzhahiU+wGSV2uabWg6X1l2ZGcWcj5IhbXeXKfW9DOp5EczZAxwoOW2hNlgKdNRaLPNpetfo3utjzRW2IAJANA8379LMZeiyT69AYoiMZgaC9aegGitqAAB3sKcdnVTNHUt0kO6KPJRdrWo9sEkVXPCAacCOQhJe1+VGtzeqc0d3AOJ4ralNGAGAGx6pc7SKBAsHkHkKaAnuIJJPIFbKrWGlLQWkOFitiAuYsJBBBoGwfKSWWQSUbAB2AFgrpB7gDZuuFA6afbnAJ5qvG+6N7AA2HkeFI5luBaDZFkFRiwCeCDRryrDRqQH9xO5A5+6UADeyQeN+EWCRzR8UiiSRxXAPKURs0/YnnlZ/rHJMWlNisD5XLQAA7DckVvwsV1lmiXNGK2OzGqZvVfA21x9N8WRseVknaN1Nat4s70XhvwtAjD+ZLetEsm3gkBVXUGp/wrSpsmrIFNXfJI1jC9zgGtBJJNAAc7ry3q3XDrGeI8dzjjx8KDuUOhYEuramcmZ1saS97lvSSGg2LAoX4CqemsA4WmNL21JLuVa0AAbscm1viaO7DN26lBINgA+tkhBAJfRB8A2QnD924oAcpALJIHHlW3uzTUmxAB3CUAB2xJrYg8UguFEjcj2gEmiRV8V5Smrtfgjn0XI7uGguCz30/aX683t5awkq+6jLxoeQWLP9ASOZr4a3h7Fjn7bcfl6osX9Rq/T4Pr5FtFjvqLtgYv2lVD0rvlPj0ceIgUO0UFKCPN2osZ3dixGuWg7fhTWRWwXUeauV9ZwPpAAPKa02TXKfR4AKh6hISLNCkJe0g7o7SUpqPq2Lu0VzrrtcuHpjRxqv/XM63RMprGq+1jGOXpE8VW4tJCi6Lymz6QIOJICQVy/6FDZdPCmk3X0cccTAyNgaAKAAoAKn6q0w6jptsFzxGwrtFe915xkiN0a6vOcbVc2dpjhxRIYhTlK3Xmt2yMd8ZVrr+jT4uQdT0rZ3MrFWxdQ4stMzsen+bavQ4zDkN700P+jkwdHZQ52s40uHI2InucEmK/SJtEix8iYw5DST3tVgJNDl8Q2U/t0RviBXOIDQ2XJzvIilS5J04ROc7Pyciaj2qBut6qcZsTZ5RG3ggLQmXRWUbgUU+u6bBC9uO0OdRoBqs8RrvVmcjvoqp+KMvTpMn9XJNIBZDroUtD0zFCdKjkZE0PNglVOlwFmmzySU35gSPQBXf0jKTpsjPDJFHFraatufEMBOlr9BICLJTC1dAXDOscJLvhJVJwabFigTsVOqO4AJIAuypBEQbJJKcGhrRZQHECjRPtVVpDXshbQve/8AzTmAEWRvwgEkmygCtx+U3SG4IANAbc/hZzUgX9ZacFoyVm8tpPW+CqZ+Npxhu3eY8Nw5XHgMJWG6M3xco+5VttQIbgTlxoBhsrEdEtP6XKf7kWeHtpl42jIoUmmxunEgkkb0mm7N8Hwt7nlG4BKSwCARRIQHbFAIrff0knCvNIvYeT4TdgNjunDgFIMA2aARVeLQAbsEAEI4PtKZUJDZTgAbs7pJprevJXNqkgi0vIc7xGV1UqbqqYQaJKPL6aoXQ0htCywEjtJxcbxPMvVMOEY+HDG0UGsAA9Gt15tp2MZdW0qAcBoeV6eRXHjZcOXnV2O3W51oQhUom/hYLqKL4eso3cCVi3pFrF9cxhmo6fkqcf7MXSbqfO6abIXyY8lOJNNcuPTcSbTNfxBkUO5yuNcycrGxWvxRz/ePJApZzT8qWfWMV+Q9z6kC04ldK2vMBvRepltkhNLSNj+E8uaJbJ5ApRueTwKo7Fdg7vPQILaAvwoyLJBHlOuyCSbTS4Vvz7U0TaHICcKAqt0MNijV2nGgNzZTbCznWbq0cN9yLY6R/mvFuwfjCyHWjb0cH09a7R3XpeK73GFjn7bYeXaaNFeTdbBg1+cAr1kryzr8RnqKmclg7lQ9rvlptBeHaRjG7ptE8EELvBsc7jhVugODtHxeDTSrCxf28LoPLmfZaRdbpbsDZBFkAigpoZLSgAAi+TaAKNHceEcbkCkhA3oAik4i9jv52TQKJOwHs+E+7BIBJAs7cfcKNg0iUTmB5JH7SOB4Kaxrg+3ChVbJz54YmF8k0YFbkkWP5BcUuuaYxovLjKnZTp/hd90K8eEA3RVO7qfShdSJHdT6axjXfI51qNkMWuxfoUnVX81SDqnSjQ+Vy6HdQaUIg85QIKbJ+WsyfA3RZ22GyrYNc02d1symrpjzsSV3bFkxucTRBNJsiJ0lPdDiylDu0kkkbbnx/P1+UzvaHUXtJJsAEEkf1Wb6s1kY0RwIHVMaLnNUKagK6CstW6hxNPj5bNL4Y1Y3M6h1POkLxKY2+GtUWk6RLqD+42Ir3ctbjafjYgeIomgEAEkXdeaK5s+UHRdvH/n2bbHSS6lkgOkdMQ0UDuAEuTmakMY408khiNEhy3IAAIAAB8Vt/RMlgjnBD2NIIqyNwPssjn71bP8AnNbLH6DqUeBM5szLY+rd5atlG8PaHNohwsEHkez91mda0WLGxjkY76YOWuUnSuVI4vx3EmMC05ATc41xdWi28E0eLUWXjtysZ8EgsOBAJ8HwVPzZob70PCL2qifFc39lgKIl0psRsTpZGJr0VcB9L0IinOAAI5/abpZXWdDEt5GG2pOXNCpIs3VMMuEc0rV38fKa03m8vCrsL0WwfJG3AQsTi9V5kIDZmiZXOJ1Vgzu7ZQYPu5bGY3K8aelek0i7UUGRFlRCTHkbI08EEAqQeQATQ4HN/dXEbNEZSb4QLSCt7O/gBLwFOg7J77SAjtFbWd/spGHtkBAJBNEjwombDdPB43IrflVe6x1dRaGkFoDgTsSOEPppAIskePCjYSW2CaKkBJsCuOVXXe649SOAAtxIN7EJS2yLIF1sB49oGxBJs7ijwR7QAA4gkE3uQLr7ItGpkjDRoAkDalADuSTRGxvcrooNcRZJI2pc8jA1tuPJsirUjEgyCNhkoANBJJNcBea5LpNT10lmz5ZAAtb1ZmnF0342GnzGlWdCaMMzVDlyi4sf/wAXLPN/lpxmu70bEjEGNFFVFrQKHsAWpjQ/87PCKskE787LL9XdRw6diy4kEl5Ug/Pas7S5uuNf/TQDAxXgySX8v2CzvSOkx5jzkz8ROXJoejS6zkGSeRzYgf3PW8xseGCFkcMYaGigAK2Hkq+B3ts88gNFNYLhQBIFEDgBN87m68+EEAkkHciiBsnDtvcGq48BbWM0gHckVzQ2Qa8WAigTvQ3obJAB3EPsDwUoZSw8ggk+fCYHgOFbmyN/afYJO9kbBvASULJIFnYiuEPaas6klfFoWSWAHuprln+gCBr/AKti0PUDg3RpqrwD3LM9FPI6kirtHdYWXJ7bcfl614WK+o2+Ng/eVbVYr6ibR4H2lVD2u+XbjsrFiHFNAr1snhoO5tEX+JjIFDtG38k+xe63FuZO4jaAVJSYNvVKQGyAN1LSf8YI4NbpK2JOycSK3PlMJJ52HhQRmkmqoEHb8rLtmPTnURe7bFyVqSDe6rtewYc3TpBLzGC4OVOTEyEa3G6d16x4ewPaQQ4AgjyCnWsN0z1E/EYzGz7OObEci20b2yMD2EEEWCDYIXk8nG4qJ1doibn7er9gjlUurdM4Op2/tEUvtqukqgyR2OqUH288yeitQgNwGOVcL9G1DFa6SfTyY2r1BBHcCCAQRRBGxC3x/wBCelV4xvMsPHwshpLI9waIdyCuifChGNI1kYBIJBHKfqMUeP1PNHimmEW4BTkWDYu7FL0+NM8RS489jrdz9PaHLrOK4vzHMijJBYu7pZvwT52J4jepuhnduVnwKLQW1rupeg5c2CmaW3I7wFtAQRsiilJBqtyks1zwuw8uRhtXvuU8USAotvdJwJHBKJClO2wOyTYmyaTLJQD7Fn7qoU7pg4Af+VJpcA6wT6pR2aNAAIsc+VOpukskEgrN6iGjq3Ti5X5cd9zRWd1Zp/tLpp9uVczqvxu23mpi9NyB7jKw/RbyzCyW+pFuNRF6dOOB8ZWG6R2wpvvIsuM22nI6LRB2522RfKbZ8HZAIW+rDct2gHwksFKk3Ld88JzSBQ8lMSA0oaaYAAVaCa4TQ6k4OvZNVtwb2RdWD5SC75tBIBSrKCs51nLWHjxf7ci0JI49rMdXEnKwY/HcqcjobTjNpO6eAf1gz1HEvQQsN0jGJepM6bn4wtyuLLXRdK7WVCEKshY/6hWMXDd6kWvWb67iD9Ac7yxynH0h07uOOnwssAgtF3veyotbx48bKw5omBlyAFWmJkxt0+GR7w0Fo5NKj13UsbLfBHFZLHi3JxiZXVyo8fftvQ62gnewDacSCLUMBDoIiOC0Efik+16B5eU+yk2LB2TSb2SpqFEoPaUAk3V1dppNIYf3D0SplS9Zv/8AQvafL1rdGZ8elYrPUYWO603xcX7yrbYQrEhB5EYWOfttgdXQvJ+ut+pJF6wvLvqFQ138xqhXrzpixokVspWtEAKv6bDhoeP3eQrIigL23XQeFzvrNNAGjve4S3br348pKu6CO2xYNkbgKSrABdsPJ/ogA7WCQSQP5cqCfNx8WVkeRMGPlNBTSStgifNIRGxgJLrsAc2m+t06d6lmnjxmCWeRsQBoOdwQsfrvVT5bxtNtkXmXy9VOu6tJqeU7te4wA/taq9zCNxXANXsfwsnLfltjgHbdWFhZuoOPxFxaTu9xNBWLelpvM8aTpnPjgkfDkP7WOWrBsAgAgixXlc3Jmj1dnHx4ptsuOlZfMzUmX0zLFEXxSiUNBNLU7HxX4SiwbAB+xWRyK9ts8Brq81LXMcQ4EEbEHYhPEZIsmr5J32Vz1NgiDIE7f7sqp2uJaSSSBsF0js2XFni4upGNc6QMaTZIAo0L8Kx/gmpRWWxOsC+5pUWjYhy9QiYbDSbJHgBbqzdiwCACL3H3WefJ+bbj4jI7sNLi6lAA9/yhT6Tp82fmiTIa50Y3kc5bI0RRJP3rlANAiiAdq2oD+So8ymrU4Adk2OOOJgjiAaxosADZPArYjjcEoOxuwfArgJpIaCXOAA3JPACxdru6NgalJ4358lU2qa7Fjh0eOe+YO5XFrOuOlc7HxXWzy5c2n6FNkESZVRQ1drbHjA22HJyK6LkLs7WMirdK5aPS8BmjxvlyJmB7mkOba4cjWMXT+7G02JtVRlVZBiajrM1wxyTG6JV0U14WOzF2u21Lda091D56Uw1HCc8MGQ2yFTjoPVvcSjd0brDS6o2u7VDxmtDWP9DaNj2SNBYQRexBu0PYx197GEnk9osj0sdJp2r4DSXxyRVuQmw67qEHMhdf+2FX5J2NY5h9LSy6Lp8she6PkVTSqufpcjuMEwdyWqbD6njf2tyGlh4Llcw5EM7A6GRsgJoA8lFyxrBx5nViJcbP02UB3yREcEE0rfTeqpYOyLMYZYxy7grSFofYeA4cWRYH2VXqGg42W4OjqF/Brhyvjy6dNjn/AJx7K2wtTxM/uGPKHlosjggFdlGyKIPge/wvO342bpWQ6RndGWXTxwQtDonU7JyyDNoSHiRdePIJobi5OJG04AAThsDdHbwmkihQBB8jyggFwAsEmgR4Kudmyz13qcJSwBrRYG5HkflNydUwsOjkTxxWP7qzGt9RvZK7E05p7wac/wA2qyPQ5HRHM1jJdjxni9yVRdVzH/tondb6ax9Nilcu7S+pdP1PtjbIIpXGgx6yJyuncSOsfGkzH+5bC4NPglzdViOLCWAyAirpoBsqu1ruIF6k+6JbuRsR6+35UMwFAjdrdyD59hTkHt5BIABB238ke1z5EAyMaXGLzGHtIDhyCfIVh63Z626vO+ptQGo6kWwbxs2avQdFxsXp3QozkObGSA6Vy80kgytG1M/tBlhNrqL9a159PMmQHcA2GhZorbGgr/qHrcyA4+lUGnmRU+l9OZWoSfPlOLIeS82S5W2ldK48UTJMy3S8lq0oA7QGgAgD9o4AVzHXbZuf8KDExY8THZDCCGsFAk0T9z9ypwKI7bF7mzW/59IP7jZOw2tNsmgdwPHtXDVmu+4BG5AHolKTVgG/I2SAmiDQHICKLh6rg+1O6JCQBZ2I4+6O8OANgkcg8pS0uBNkEDkBDGhoBJJJ4NINCyAiwSCT7pB3BIAB82U8k7kkEjwE0UACbF3YPnZTs/lIVP1G0nRMhUHQkTH9RRl920W1afX6bomU4tu41nPp/vr9l1H41jydtvx+Xqax31Dr9LhfeVbG9hax31FNYWH/AMZUOms9lYwRj9PHsSe0cDY7ILbcAbBHhGNkxHFi/wANGSGgGyNjSJJGlxJkjqtyCKC3EbBJpsE3vulD63rxwofmjIJ+RpHg2E12RC0AmaMA8WQp6q6Ty6i4kXf5SA2FyNz8YuIGRGTdVYUjZ43upsjCfIBBUbI7p3k7UavyuLUSBp2RZ5jIJXaCCACRXN2uLVQ06ZkC7HxkhFNVgdlw9Nabjaj0yI8jy9VuTPqHSmcIIpTPjv3a0rQdHADQI1T9atLNWwpXVS88V5HFNjdagbKxwescCcVkXjvVpFrWmTNtuZGsfJjQS7vjabGxIC53aZinhpF+jS2f8Y9jqzObXpbSfXtMxxbsuM/ZqotR6w+dpx9MicZDw9yq2abisIIjuuLNrojijjvsYBfoAKcP8oO1qvMvQXLh4hie6aZxfM82SfZXbdJEhNNJ8AErsAxNFzqrtp+jX1qGoOSdL2+bOm8OlTOmz8WiarlHly6uk4u3Se7y9xK4+PTyLdOfWAV0AghFgeRvwmlwAskD1uF1iXNpgBACBLGCAXtB9EhIZ4gTckdjncbKdk0z7KOU0SxncSMI+xCY7JhBIM0YI5FjZRsmmlG24TSb8b+SoxkwEUJoz7ohHzx+JGfmwmyaaT8qjz6f1XpbFbmeECzLGB7JCpmytk62wuynKnImuq/GO+7ba0Q3RssnxEVi+kW1pbj7kW01w1o2Z9oisV0nI0aZRcBT1nxunu05N66r+k07BIZGAWXtoc7hMOTANzNGB7sLo2WGmmBvlKCuY5mM3meMDxuEfrMYNJM8YA82FCk03Uhc4zMZwJGRGQOdwmnPxG85MXsW4KNlIP8Ay6qSg+AoBkwOFiaOubBCRuVA7ieMi6sEJsp03VdboNCyVEZ4gLMrAB5JCjOXjnmeMDj+8OU2Ud05JpZjqjfPwPXctF88J4mjJ9AhZvqktdlYJbR/cqZ601+PexSsehhWpaktr5WK6JqLUdRLjTFrzl4zaBnjBPFuC4sh3dS9t0IXL+vxBzlRD/5gn/q8egRPHR4PcFXTRunWf62odOTq4/VY4cAZowTwO4WVSdXuiydBnjiljc9tHtU4jsnViMzTcmbTseeK3NDQC1UxBYQHMLSCDvfhbfS8mN2nw9zmtIABBIBUGsx402nTOZ8Ze0WCrGaOkt8+MTY1/pcok0zHd7jAXSSqjp7KhOi44dI1parH9TAQT80dDzYXaJq85O2mtNNKMZMLv7s0ZviiN04PaeHAnyAQVYSanc8hFgC7pRl3ogIJvckH72nVVqDrK3YuP9pFu8AVhwD/ANmFhOrnVh4/2kW7wTeJARx8YWPJ7b4PVN5HJB5HgLyvrqQP6hkHPaF6tV0vMOv2VrV+e1Ur110tIX6HHfhytwbsql6UdeiR/ZyugNzuAB5XQOgudO7mzM/HwGtdkyCP5CQE8zsGOchpDow0uAJqxXlY7X5zmdRRwSgiJrg0NV/1M5uNoErWH00Kqv8AKxidWYilyNe6hY5/h38mgK66zzzjYrcGPmWi5QdD4xufJVH1HkPydYm7zfa4gKu3TXAUKujaCSQCAeLTydq/kmtfVNOxArdP45872s7T+aontLDYK1Wg6x+oDMSYC2ig7iwFmSAQRQN+VGC6JwLSQRwQaKrliJqtx8iN6PYPBvxxwlFXvx5VN09qpzYzBLXysFhyuaI5G4NHfYnxS5MhG9DjzMjZVXUGI/L0+2W58ZtZGLEnmf8AGyFznk3QBXodi7sAUQbHtMawAktaAa5AorTDkQ0FTPiMna1doemnAx7koSvVmgEbCxxuaKXzX9Pusssldpa44AaGRLuTsDZ5KNvB28I5BAs+wqulNUnQs2wLFihuTwFmte1gyOfi45HxeXLs6g1U4lYsQ3INuVZoGmHLyBNNHcIXRhiBtubPNXRT6HpTQwZ2Saa0WGqHWdadl3jYpqEqTqLUXfKMOAhjGCndquuien+NSzI/vCFqf9bDLLRosQ5r43drwWuBshwog/cFabS+tp8CMRHDhLPbVtdW6e07Vxc8fbJ4lYs3N9O/OPmKRHqy7/tIPqJH5096rNS66zckOjx42xMT/wDo81DzkwIH09z/ADkwKOiWXmzcnIkL5Z5HvIokuJW76V0WLUNBH8Sx2vHcfiXXo/RWFhU/KP6iVadrQ1oa0AAAAACgB6UORrqBYzP6BhLXnBnId4a9ZLL03UtGyKljewtNhzbIXsNWQT42TZImStLZIw9p8OAIVDPvTSbHY3l+n9RyMkrOt0Z9crQ4mTFmQiWEgg2RXLfyF0at0Vp+SXzwSHHd/LtWHysXP0LOMbw5rmGw4XTgpeMyNlthzI6baSMbKwiQBzSKLSNisxqnTj4RLNikOjG4b5aFZ6TrLc1gjmIZkf0DgFakXYoAnYg8EelkZOD3bpjyHXtmdG6nlxGjHyrki4a7y1bOCduQ1kkLg5rgC0gVdcrHa/ozImHIxWHk97U3pvW3QTsxMqQDHXbx8gl5/NxOLstbBgYkEz5IYmd7yXFxFglM1TTo9VxBG80GHuDlU631LHhO+DFDZX8lyoJOo9SlyBOHdvaKpo2WjkHTZGOT2Wsj6O02xI4yvBVzh4GJp7Pjx4wwLH6R1m+KmZ8ZkB5ctfiaji6i0vw5BJQBI8gKBHylE9uoigDVjjlJ2kuDwQW+jylJppJsgc1wT9kxxFgEE3wB4UlWZJjwPcXSwxuLtiHCyQoQ1sX7IwGMGwaBXb+Cp7JsEgkcAnhQHZxsgn3dqwFCrKd7AstG9nygGxQ2SFwIBJFDmvKjJskt2BQFaq9UpJG4IPg/ZJYBokAncegVGAAfJPnflFDe97VtUUhIHJs+0d10AbA5UdCqs16QNjY2TRKXuAcDRaByUAkNBB2BsKIkkEHitwnBxAN0RWw9KNQaQgEkkVfkJANgSe7c0PA2Q0hxABDR6PlKQRYAIva/A+6BWXqqeppRDos9hxMlNAaqP6elg14+zGrzqWhokoVL9PnyR609jIw8OZTneWrHP214/L09V2saRj6xjCHJugbBarAXQC4NY1OPSsCTKl37RQaqWlnZOgMXiLMnaox0B71KVKOt8ltfLpMqG9cycO0qdTto1Pb0Djec7ISnoDB/7VkIj67jdzpuSg9c3fZpk6bZonHoDTfEsygPQDeYtQlant64fzLpWQAlPXkfjTslNs0XKeidQ4bqqc3oKYipNTeuk9dx+dNyUDryLuo6fkptmi429D58W0Wp0xMyuh9SyjcuotlXeOvMYn/IclDuvsfxgZCro3vVbu4mdBZNU/UUO6Bn5ZqK6T163xp2QpB19j+cHIV9v/aujflVu6K1iPaPNjTf7Ga55yo1bHr/ABPGFkIHXsHH6DIUbZoq4dDaq7d+e1A6E1Cv3ag1dzuvo/GnZCB163zp06nb/wBmi5R0NqDYjGNRAYnR9D5rGBo1LtXSOvYvOn5CB19F50/IVTrspe/aP+wuR51WRA6Ck4dqcqkHXsfnTshN/t7/APts6nbRogdAR8u1CVH/AEfw/wDbpUO66d40ue0f289aZOm2aJw6Bgr/AC+dDegMXmTLmcmnrjILx8WlSlqT+3GV50mVNsAnydAYnMeVME0fT+LznSpB144tNaZP3Jo64zfOlSJtmilHQGL5y5126X0dhaZmty2ySPkYbauA9aZzdnaPL3KbTusJJ9SjxMzBdj/Ls1Rtp1afJgZlYskEllkjSDXorIf9H0Ydbc6QNW2ugojkwjYzRj8uAQ2eUdWQ/sA3zqE1JzOgMTiTLmctb+pg/wB9Gf8A5gl+eH/esP4IU7Zosn/0fYPnJlQ36f4PnJmIWs+aP/eR/wDeCPni/wB7H/3go202VH0/07zPOpD0FpXuVacTRniRh/8AmCBJGeHtP4IU7ZZQ9Aaf4ychRO+n2LX7cuVa8yxjmRg/LgmnJgHM0Y/Lgm2aLJjoDHs3nTpw+n+F5y51rPniI2mj/IcEfPF/vY/+8E20asmegcLluXkKM/T7G85sq2PzR1fyMr33BHyx/wC8Z/3gm9zVjh0DEGU3PnTv7AQec6da/wCSPb97d+Nwke9jQO5wF8WQLUU7sifp/ieMudL/AGBx+P1+Qtb88X+9Z/UJpycfgzR/zcEllHdA43jNyEDoDFu3ZuQtYcmAczR/94JP1WP/ANoj/wC+FGpZT/o/wr2y50jvp/i+Mydaw5eOOZ4v++Fm8nWNQblTsxzE8B47SXABTopFDVzt+n2KOMyZOZ0Bh1T8vIUset5zXRmR0dSON0Qe0Bden6zNk5rA+SIQdpLiSAbTb5V0VW7oGCh8WbKoh0LlMNxao5W2drOTFmzxwCN7WtBjHcKJXIzXdTLrLIhbSe0uCkUmi5D0Tn+NVTT0ZqvB1W2rt/tDqVUY4L99wT49Zz5aBLGXGSKcCS5Ns0VaOh8x8rP1GoCSMFbcQNEDIvDQAP5ClmIdX1Nsbf1BjH7TwQSSrzRJ8jIw+7JILrRd0hqsV5r9QG441aw+puxekHggHfkrzb6iMj/i0Zbs4xqJWHSVjRQr2yKO2x3CoukAz+CAx891yK7G4NroDYXPl07sj1FhTM12DKYLEjhXarrqaP5dEyPYpytACaG1kbCga+/2TZYmTRPjlAMbgQ7uFkn2o11T+vGy3RGU25cTkupypNfYYdcn7qdblptN6ak0/VG5TJmuiauXrXEpseSwVZp6ojquZGyqMnQZRjsyMe5GvAJHkEqqPyROLXtIINEEVRWm6Z1APh/RvJEgstVtk6diZh/6xC3u2HcDRIXN9EUfLsOIzBLBiUeQQke5pFGyRuCtPL0tC6zFKQnR9LQCg+VxUnIHZVeHLetVDpZmbls/TkteSBYF0PZC3lEAAgAkAg3zXv0uLC03GwHXAyn1Xc5dlAA+ATuD5+6w5Mherp48XE01TresfoB8EQ7pfbuGqjj6jz2y9zpA9XHUmEJsb9VuCwUqvprLwYsgwahislZKQBIeWLbjxE0lhzZo7GlHVU9tuJq6I+qorqXHIHtrlpJtA0yd1mBv5YaDgVwHpDTaeCZP/wDlaPEPdif6E63cLep8N3LJAocnqeMxuGPEe43TnKg1KCCDPkhxZDLEDQcVf6d0/jDGjnyn+LKzePEbY5MsjRUkUGTqWUGgFz3myTwB5K0GoZUWjYEeJELkc00fLSrHGkxHsfJjhpEQIIaKNAWsplPk1nV2taA10hDAg7dTI/Ju7+kNJOramZZQHwRbydy3Ov63jaDisuMPe6gyJdOi6XFo+AzGiG/Lz5JWH64Mg6mjMwuKm9qnYurBVd2rzOpcbF0VmoPjcx8zbjidy5YOTq7WHvJGV2rVdbYbszQcbJx4+4Rchvhq85AIIBB29DdWAl6r0nr51rGLZWVPEKc5X5JuwKNbgmrWU6D0mbAwpcmegciu1q1lCzW3u1jmG+oQDQuiSeRd0nIQorQo3kMY4mwACTXNAKRMddGgCaNA+duENbKG8s6n6iyNUyTEy48eM0GrY6M2PqHpmNubHvRYHLzbUmvbqE4eKeHmwtv9O9RDsWXT+Xtt7VsmgSg9s5rmh5HT+TC7vL2ncSK50bVTqTHNkbUjAtjq2mwatguxpwauxS8puXRtWcHtp8TyC1UQzNWvHyOL3bigQQRYIogi6+x+6y2raDIJjJix2w8NWkxZxk4rJmh0feLIKlO1VVcn7lYmTg6ux4zkN2Z03p2TvEmZbQKoLQNxcdgAbBGABRoAWpjd3ZP2SqXkXuY8eIaaoz+n8bLFxAQy/wBAqHBzMvp3UrBIo09vghbQ1278A7+7VXrunw5eM+c22Vguwr8fI702PLwiKWn07UYdRxRNAbCWSU9xDTRbyTwVhujs842e/G7qjlC2gI4o35JXdgibvM5BHUG3CySSdz900AG6FVzaUj1sBukIvcbLQ1Zu4FVYr8e0G62FIRYrkqeqDf8AYQgG+EJTAIPCEJEkWL33rekWOd69IqkKFoju3sAE/dKHusWSRxXhJSBYO1E+jwpm91T1Q+MaO8SkiyA0tVZ9OxetSW+qjVh1YL0U0apy4fpzE46xK7wI1z5+3Tx+Xpg4FhZH6iWNIh+0q1wIIsLKfUM1oTfvIqV6/wBMDZdNxnOYLMYXT8Mdk/G2zzsFy6LY0fFB8RhdbiGgkkAAbk8BJNEELbqJgvmgEohibxGwfhoCbFkQzgmGRjwDRLSDSnSURijIoxtI9UE0YsAsiFgvn9oU6ElD8ENV8TK9UEn6aC7+GO/faFOhJc4xMYEkQxgnkhoSHDxjzBGTVf3Qui0WkoRjQNFNhjA+zQmnCxjZMEdnkloU4NlOSXKMDEFkY0QJ5IaE4YmMCCII7HBDQpi4Dk0gOBF2kojjwEAGGMgcbBJ+lx7B+GOxwe0KODOgyJ5YYn9zoqDvQK6u8JKH9LBRHwso8jtFFH6THoD4Y6HA7QpwQVG54aCXEAAEknwB5STTjQEUYYyPXaEHGgNXCw1x+0JmPlQZcZkx5WyMBIJabFjkLoBB4NpKP4Y7v423VcBH6eH/AHTN+f2hTISUQijFUxorigEpjYeWNP5AUiElAIIW2REwXzQAT/jYOGNH4AUiElGWg8gH3YCxnUI7uuNKatusP1G++t9LCS2OQ6sd5BqmkgrE6bp+PlYommDnPcSSS4rbZIvGkHsFZHQzemgenFacYK7qZqGyUaNhDgSf94o/g+L7lH4kKsELTRY7auOkY3HdN/zCgaRje5f+YVYEWkAIQCn9P/bgOkY/iSYfiQoGkR8tmn/5hXegGhQU6J+n/twHSIOXOlP5kJSHScTyx35LjasHkEVVHwmIBVV/7cJ0rG9yAeg8gJDpONxcv/MK7+Uifk/5Rt/7cX8Kx+O+X/mFA0rH/wB5N/zCu4WnAAhNH/Kf01NqGHHhwMmjmnDhIALkJG5VznwNztfw8eYvMRg7qBIVfrIvEYPcrQream9TYA9wlY8gDotuNU20x6a0/wBTf8xKOm9M8xuP5crgpA0CyL3VLSqP7N6YOY3fzclHTmm/7hc+uRZZzceTFEjwOWi6XNLPrXdlOgbJQcAwOCSsh05pn/Z08aBpvH6ZqqjJrr2A/wB2mA128kldODHqH8GymTl5yCT2lyS7P4BpnjGakPT2mcfpgqd0mv4+OI2tdIQBTkB+tx5T5GxyEuAJbWyStx0/po4x04aBpv8A2YKhc/qCaKxGQ9kpIXTNPrNOiEUlO4dVUKSVqNA0v/skaYendM8YwCZ08dQGMWaiCHtoBXSSpx05pt2YFzdOsEOoajBFtDG8BotaFUOiX/GdU/8AfCSu915t9RhMNThs3F2W1ekUa/lV+V5z9SJr1GCEctjU/wBl39JBg0Rvb7Nq7oVsCqXpOhojAG9o7uTy5XRJI5IHsLc8ufL1kIJBB2FpTRNEnYUEXYof1KCABYFnypqyEUQQBVc/ZRZWOzLx5IJQCHgg2OL4KmvayP5JCeDySf6j7qE2ag6d3mcjMjRdUcy6fEVsdPy25uI2ZuxIotO9lHU2kHUMMyRACaO/y5ZTSNUlwcljCaiunNXLy8ey7/8APy6dW1PJq+4gWPASJkUrJYmyRO7o3EkOG9+wnmuRx4K4XY6vRETZBJAG178HhcudnwYMTnSyAvaKDPJJUeragNOxWvDA8vJAWLyJ5MucySuJc4mytuPjXtsOXl0aPafL1TKyrDpXFhsBq4yC0Agi7vY8BPa0NHO/i06qJoAgiiSukA6LhVXuvunuo5MZ7MXKuSI01huu1bPMf8WDPI27DC4H0CNiD5C8pe3tJo7FaHB1x+TouVp+bLuyK4Heb9LQddWbgb2VdpMH6vVgKsdxJVr1Fl98rMKG9iLpcnSYvUXHyGlJjNGbr75HmmNcST6AWOXat1cfQWg0/DGBpxY0W9zS5x9mrAWVwJ2x69BNkGmtlBctnFkwT2MeQSBp3AvY+iqLXtGL3HJxxbjQcwLLDIMkbTlxUNXpcbxIwSMILHAEEHYivax/XekZOb8GVjMc8iw5izWldTajpJoO+WIDtEb16FoevYuswAxPDZuXRFaa07LlROmyegdQaphyRabPimZnoiyFuP4dgmQSnEi7/faFOIow8vEbe/guAAKftYIFf/z9LPLJXUDUNaGigAABQAFABKBQA8DhIDf/AIk/ZF2SPtahDW6Scm7jkivacmhwNirrcpreiMFwABJAA8k1aRjg+ixwNclpBFLy3qvXsrO1CTH7jHDE6gAqvA1TKwMqOaOeQ9pBruNELQ49G6N1317pxx9W/Ui+yZU2h50un6lFLHIYgSA8r1Qsxtf0hjpGXHkR+eWry3W9GyNFzDFMLYbLH+HK4iaZ43sEUzJ4hJE4Oa4Agg2F5/8AUWNzdRgm+PYsq1V9P9T5WkERu/wuMeWOV/17OMrRsHLjFxvVTHTsm6HQJzPpTD5YSKVmRdVQ9XxZ8Kg6SN4s35Cu8mzBKRYJad287DalhmH61ejxv/zqHV9ekgyfhxRXYaLiuZnU+Tbe6OOr3VbiMGTqUccpNOfRtarM0PDyQAG/EQDRatUABLAclUabB1XFz3VE/teBXa5GrTtxdOle4V3AgD0Ssfm4WRp05a6x5Dm2AgS52pSCEOfM4i+1DjF2NGXKhpKx6SxhPqwkLq+K3LdbkHbYm7J2I9Kn6e0tun4kbnMrIkvuT9Z1gaUY7gMoeu3E0XnZP6XVZ0QLsV4CKJokgVwFy6dqWNqcTpMc2W0XN4LbXVsdwOeKHj2rDuoidMFJwd0tV4pBBu1aiCbKQlBCQiubSiDuEuyRKQeUkHjnhAs78AJoFlPqhvVekpgV+fuUbbbgb7koNHkUUckWARZ/l9ylGqp6m+M6LIHuAsjtVZ9PJJDrjw0WwxnuVr1I0O0SRxj7qKp+gJ3x625rGWx7Vhye3Rx+XqKyH1EF6Zjf8Za+qFBZD6iGtJg+8qztLS4DS3CxwaJEYsj8BVHWef8Aw/Q5Aw1JPUbVbaYe7Tsc+4wuDVtBj1XPxZsiS4YDfxeHJLK9LSxaRr8eJHlCaLKiFn09dnUOfrOBqDcfFz2yzTn9sDWcK41DpbDyTBJigYksTw8OYuM9J5I1GTPi1N7J3pLR4QnGHEMogz9o7yOLWaytR1bI6pn03CljjY2MOtwWnxo5IoGMlkMjwKLyKJKr4dGEPUE+q/ISZWBnYkqXC6ky4NO1I5wEs+G/tBaq2HqnVW/DkWZxIR3QtiWlx+m4WnURNIZWZxty58bpnIxiyNupyfp2EUztSXNlanquT1K/AwZI4mGEPt4XDBrWu5WnZszZImfoHU80betNHozWdQP1USm3RhhYubE6bbj4OoYwnJGY8uJSVhoec7UNJx8p4p0jQSqPUtR1R/VP8NwZI2NMPdblfaRgDTNNhxA8vEQoFcw0Zo6i/i3yG/iMfYks1jazr2Vi5pbNC04N9zu029T5/VORHoWDJE2sjL5Kt8TpxuNBqEYnLhmXZ/2VG/peCTScbCdK4SY28cqSp+ntVyotRGBRkins/MIyC1ybPqGus1pmnYuoR5UnMnaygxX+DomTjymSfUZJj2loHaAq/B6TysCd8uPqsgdIbee1JahoIADiCQBf58lNy6GLP/wz/wCRVRlaflz9SYuT3OGLBGbo1ZVzLGJIpGE0Hggn1YpJee6HLquN07k5WFLHHBA9zu0iy9XWbr0p0XByWZMeLLkCyO0lduDoEUGgT6azIMglu3qLI6TjlwsKNuS+ObDFMkSXH091Bl5WozYOS4SVGXsfRauPE1XXszSsvMjyYmsxnnltlyu9O6a/Saqc5+U6WQxlhUmB08zD0fKwBMXfqCT3JKpz+q8mPRNPkiaBkZnJ8NS6Jr+oSaoMTI7siKQGpfiLe1WDul4ZNJxcQykSYtmOULo07RsnFyDLkZ78igQGloCSzcOta5PpmbnNnhDMZ55ap367q8I0zPndEYMx4aYWq2xummwaNmaeJyRlEkuTsnpts+nadiGcgYTg6/Lkleh1gHgEArEaw0Tdf4LFuAKAHNCrKxGss7evsA+XJLaT/wCIf52IWQ0Mf9Q/+YrXzmoH/grI6EbwCf8A2hWnH7Z8h1d6KpBHCVa2MiedxSQC+EtWKSURNGuUA1uAlcKO6QA+OFO+qvct2jjndABJSlptN0k0i+AmkEcjZPAPdtwpAy9ip3NboQLScbKUxG9rTSwjwm5rVW6ySMWP7StJVvnf5/0k+2lVOs/5GPfyNVrn0Nd0j12lYcntvx+WiUZJBqiR7SBzfDgb43Ck2O6ztIFrM6odY/iM/wCjBMXxgBaXuB4IR3D2EllYM3V4GtD2SO4Be5pNezQUs2bqrJpBAwuBcKLmmqqzQWl7h7TS4DkgfkhJZl+q6uzFJfjXLYIIYaoiyCFKNR1OeKQOiMLvhJa0NNkrQl8Y5e0fawgOaeHA/ghJZNup6y6GIPgc1wqx2kmwrJjs90gc58jbmBLaNAVuFe2KtM7gOSB/MJKRCj72cd4v1YQZGDl7R+SElIs9p9jqPUq9NV6Xx/7bf6hUukhrte1Nw8kJK9Xm/wBSf84433YvRyvOvqSf+u4qkl29KuJ0OO33Tirok7CtvaoukWSR6N3SUWucS1qvWiyKO9XS3PLnfWNuKRVC7oIaL3qjwQgAUQCK5FqasEDklFAkAk3SDZN+tkXRBHPBSaJCQCbo1z7P2WU6h6dBLs3FpraJkatYALvySgNFOBAII3BF2FCbNNYURLz/AKf1UYkpgndUTuPTStY0h7Q5hBaeK8rO9WaM3EkGZjCo5DRapemdSM7BhyctFsK4eTj07L0ODl3oZeqIJpoY3MbcbLJWUa4tNAWL8r0cgEEEAsIohwsE+QQq46FgGUvMTrPLbVcOQDTa8vEqI2L+U+QLQDJIQGgk+gLK2Y0DT2kO+M/zcuuLBxIf8TBG0nkgWrPKFkcCvdioNOzMl4YyJ59Eign6npc2nNYZDfcStyCG7gAADwKCoeo8/EOMcXaWXkO8NTHNXyZ8Zie1T09N8WqR2aD7ajPwMnFznxhjj8hIBF72VxYFnNiA57gvQHdoHc8ghoBtwuttyPStlkianHgZHb5V+h6a/AhPykd8gBLVNk6rh4zgyWZpIoloFm1n9a1iTKl/T47qivxy4rr03ozPz4TNK4Y/oPVPwLta7y6NE/LOjZ4NStilPDlR5cJ0zLYcfJBcACHxkghXOqdGZOm4MmW7Jje2NUuj6XPqua3Hg/JceAFqAWLmPhaHD6+zIMYR5ELZpBxIuzE+oXnKxLPtilh6HwYpe6WWSVikl6K01xZ2ukjRB9qmLXGF1RpWaGhmS1sjq/a9XLXB4tpBA4INhea6p0ZNixPlxZDL2rg0fqHP0XKEbi58V06J6q4H8oRL1pMcA9pBBIIII9ghVejdRYWsRXE745ODG9WxNEWQPINrNEZvd5d1J0xladlSzwsdJimyHeQqrS9KydVzGY8EZs1bjdNC1GsdRa5pGozwz/G9jrMdssLgd1tqQgMcWPDFJ5e2Nbi61Qlu8WfD06ODTTktMjAGBqm1DT8bU8cw5UTZBuG2LLTS876b0vP1jUxnmU1FIC5716gDYu7P4pZJp2MO7z7K6CyGSg48wkjUfWcRwNP0/T6LhEP8avRSAQQeOT+F5V1jqDNS1smEuMcYDFbFXtgd9Vh0vGW6eXeHuVvI4NjeSDQaSa3sUuXScYYmnRRXZI7yp57bjykEA9pF+tuVhk7y6vRxNcfdi8GYN1ZklA3ISL4Flbo8kCuL34WH0nsdq8XycBxW3uySeACD9/SvyPlnw/1ufPw483FMLhdj9rhyCPAWU0eZ2ma7GH7drixy2lGtySRxXIKxnU0Ji1RzqoPAKnhy71V/04mt2/NOvckDcEHcfhQ5OJDlxGHIa0tduCeR9wEzSyDpmNRsdg+5JpZBuflQdRA5EsgqWnArvUC8sO3VG102ha92tLmtD6Hdw5pW8Dw5oLCCHCw4GwR6WD6pJdrbjXgLbYNDCxwABUYBHnhRg91uQ0FNYIItAoBAs2gmuLtaf2y/kEbXaCLcPVII2soqz/JNyO2+EAHydkbjc8DZAPIA2KbkqQCgSd0AVYApArcDkpuahG1mvRv8JQkNEgHg7FJqr9cNaRkF19vZRCz3QkU7+oGmKw1ouRX3UjgzRZLJZw0OVB0IA7X2fvLKasOT234/L1hY36iNvTcV3qVbJZjr0X07J9nLO0rzTi04GOWGwY20ftQXWq3p8l2iYZPPxhWSSEIQkhJaVCS4NYzHafpeRlsaHGJhcAs0ep9VgwMfUcrCgOLL5Y6yr3qdpd07nNaCSYisdLoc8PT2FqMT5pXxVI/GfZCS0Wu67lYWVg4+FHG92ULBeurEy9VDZ5M+LGa2Nhc34nkrOdUGPLydIyZYZTjllyBnIVnpL9N/TZkWmx5IcYyXfKkoYutC/SonthEuoSvLWwNXXqOt5+mYmC7Jx4vmyZAxzRw1ZbSNK1HTMOLW8OMySNcRLC7ntV3rs0mt6PiZ2HDITjSh8kPDklc9R6xJpGPjSRRtkMsgYuLP1zUjr38MwMaGQ/EJLeVW6znnqI4OLh409tlD3ueyg1OztLdqHWjonOmiiGMKljsJK20fXMrUm5sDseOPMxTVXYK4NU17XNIhbLlY2J+53a1rX2So+nnS6Dl6nhZEbpAy5WS+Xqtw9SjzdYfqWtRZBEZqCER2GpK+k6gzYBpQnxmskzHU9qn1TXZzqTtK03GGRkBtvLjQaq/XJhqOo6Hk48chjE3lqWczaD1PlZ8mPJNi5TRb2Cy1JdOk6rJgZ8elajhtx3y2Y3tNh67YNYkk6nn0oxtEUcQeHKnc+XqLqHByIceSLFw7cZJBRcrHHZj/ANsMlzGyiYwi3cNSU2BrMmV1Fnaa6MCPHAIcr1ZzTWY46n1BzI5RKWgOcRTVo0kIQhJCEISSFYfqA31zpq3BKw+oWfqHhpLZ5P8Ak8n4KyehUNN/LitXkEDHeT4BKyeiuH8OHruK04/bPk8rByALTCRSd3Ct1rpsZwFFOJABJIAAsk8BMDxVA7qu1uXtw2AksY+QB7vQJULoVrBtC6zkQOaSJYyByQRsoRn4vdQnYnjQ9PyHY80QHxt8NunruOl4JbRxY6XG/wCoOrY4Fq46niRyhjphZIFgEgWu0EEAgggiwRwQqzN0ebEiyP4fHHJDICTE9TaTIH6bFRtzRTgeQRyFtxcpyLqpycf5C7RsU600Ak3Sda3syLQed0A0iwlFW6828EH1IE/qSIT52lsdYtqTXTWm/mQKXXTWpaV7pZptBtMeh1cGdpxgxXSwzTh8dEf4Qng2drWngyDNorZ2my6G1WOAc0tO4IIIPqlHoua3CMmmZju0WfjeeCCmYHZTgr0tw6fifqcNkzsqfudZJEhXQdKHP6nJ/wCYVHguGHlT6e9wBDi6IiiHAlWjQSQApAQdVVR1u4jpQa2zlzj8yFNZgQPldCcvIL2iy35DYCfqz43NGNI2YFxBa9l0D4JKjmfFpQjyJbmyngMFGu5QgelIq6GBpEHmSc/mQqQaRDYqfJHoCQrlGuObfz4cjX+mp518WCcKVQ5YpWcOQey6jpQAr9Xk/wDMKhfpLao5WT/zCopOoWPcI8fHkdJVua4UAF14OezPiLmAtc005vJBUiLo1VTINu9UA0qEVUs/5+Q2E0aVEb7psh33MhViSkBtX0VNtxDSMc8yTn1/hCpuk4RFl6g1pNB66KUPTNjUtR9dwVcwDqtiq92lXnX1JieMrFl5aWr0VeefUlx/VYrVjbf2m6M+V2kuMjrZ3U1X9U6waNVYWc6I7Tps1P37loyCNhuCug8LDL1i9wbNjYfcIqj7I3KQiiCPSWjdnZTVkIB4obooXRJs8kJSLGxpBNAAUSOTSSLugPHlBr3RvcoJoevZQDQO1g+VE9o5Yo52PjmaHBwq3Cx+V51qGNPo2qHttva4ljl6STYAIBrhVPUOljUcB9C5YhbFXLAS048kRKLTsluVhxTBwJcKcPR9ldIAO9b3RJ5KxeiaidOyzHLvG+g4LZhwcQQQQQKIPhedyYad3r8XIZGmUEHccAXf3UGXlw4kRfM+gRYB2J90ptrAO+9gjavysZ1FJkPzyMg32ihSjjwF208mbidU2odRTTh8cDQyIqlDXPdZsg7kk8prSARYtPMhIoCgPS6wANXA5K90+m23UYarZ4C1HUed+mxjAx1SSLJ4ZeMuLtskkEBWXUM/z6l2A2GgNVXHaNpg6HVcdE6GzOldm5DWvhjNBq9FrwNgBQrwFWdO4DNN0iGJhskBzirMWqZO2y/62L+o2e+KCDDj2Eluen9D4oh0cy1+6VyX6hYPy4UOU1v7o1z9A5gfizYVW9h7lrj2TF092sI5INEiiR5RdX4vmvKSgNwbHFekIlsdkoO5IABqlV6toeJqmOWOY2OU8SqzS7jggE82L2QdRBvMM7Ts7prOinB/cDbXrQH6gkRxVi2/b5F1dc9v8Cb7+RYjAOIJiMtri0gjuHj0SEQe2yTTq3MXVWjavKI87GqzTC9XkGk6Q6U5MGPCXVRc1ed5fT9YzZsKQTMK59P1bUNCyj8T3N47mO4KrrfjHFO9XrcUMcMbWRRtY0EkBooBScAkC/sOVjI/qDi8S4Uqhz/qDXaMDG+7jKqOCvdXeq26t15ulYRhideTIsHoeEc7OD5QXRtNucUwjK1/U5JCbkfbj6aFqtLwBp2P8QeHuO7kyTE0W3FgrtLsoCwAKqtvAC4dblEWkzkOouHau/YebAFrN9V5AqGEe+4rLjNu7r5HWAXF0zCZdSDy3uDAStgd/wDxse1S9MYwjwTL5kV2nI7dUcRoGCaIJNEHY+SFjuqXXqQHpoWxo+BRI2J4WC1SWaXUJJMiy4Gir8Jp3U/0Kmrc6E4u0XHNWS0qh6x0+QZQzIwSwtActBo2djZmEwYposaA5vBBXbJEyaIxvAcw2HNIuwu9BALyR0q2A0vCyNY1BheSQ2i5x4AC9AA7WgCwGgAD3XlMgx4caPsghbHHVFrRRI+5UpBAA5Hi/A9KQ1Msl6mg2D4KKqkEGwBYRRF2rL1U1CLohANopJBBBAIsHco5O2w9I4N0SEbA0kjkJTyK2SHb+tIJoi0gzqvzSQgbC6vazwk7gTfARdkkbgDYez7Uk3VfUjom6PJ8wsFwAVL0C2+oLaLAYrzqShoWRYsUAFU/TmMO1mV3qNYcntvx+Xpyyv1AJHT5ry9angLNddgnp2RZ2laaAwR6Jht9RhWSrOnrOhYfd5jCsrCSVCSwhJKhCRJIQCKIsIoVVCvVJbCLSTOwGgQCBwKGyQMG9ACxRoBSISTQABQAA9AUEgaBdAC+aA3T0JJoaBZAAJ9CktC7oWlsIsJJhaCSSASRRKOxn+wP6BPsJUk3tGwobcIIBFEA/kWlsIsJJGgAUAB+BSKAN0LS2EWEkgABJAFnkpySwiwklQkSpIQksItJBWG1Rvd9QcHkLcEgrD6g7/8AqHi2ktnkAHHkHiiFjtGNYP4cVspwDC8ewQsbo4rCPoSELTj9suTy7ySUBFI5W9hGw3XFOwZmrYuI+jGAXuHINLtoLmxqb1HHf+tEQFjzqcalpxApuvI2MiaGRtDWjgAUAuWTUPjyxCceRwJA7gCQF2EgAkmgBZPoLhgGPlZpy4Mgv7QWFoOwIPkLyAHa3fGXqsePKYWMMszeWqr0F4czI72mOUykuZ5aCVw9cNkilxp4G/l7V04ZkOp48swDZZccGQDgkAUV2f5wESx5OxK7JrYJpNIJ2Pg+FGA6ySV3XItICnBNAIAtOCmVbrn+QD7SBT67TtU0pRa6L0x32cFNqwDtT0n7sKo+lpj40wBNlMnxo8hnbNGHA8WNx+Cu4NaKFCwkJDBdClbZ5VDXdWQaPixTidrCXt2BJuh6CsWiqN0SkdKASBVVd+1mdT10T550+KU47W7OeqqYm2tiOToa9ztVxMNpD5A6QAkNaLJNbCgsjqcpyGMyJ3EzSkljdwGAHagnRQs0WV0+RJ8/y7MSTCfNzQ90YAiAcGAglwsHkbLmyzV2eXXhxnGdu1urS9L1XUpmOyHCOL/duNOIXZrPTs7Mr/0dNGP22Irpzl14uuwZOa5+PpsjsqNoaacmahrjsfNikl0mQ5Iae1yrp3sKqq7VqN7Mw47sfKa6KZo7x4LgDuCV06ZlR6bIx9uONkC3cktIC6XZUms5oy3xiIMaWBqrI8o4uPkQPjBiBLQ8EGib8HlQZIqWriOANrIMmHJaHQSNkB9GyFLRWR0/S242OJ25bo5XG2uV7pmc+fvhyKE0YBJHDgeCF1cfKZOrj5OFwNtYhRdOU3VNS+7gnhwKZ03/AJ11H8hWz8q4WlWA+pAhvF8TrfrD/UgH9JjuWNuXH0MGjAn9l60oIHg0sv0MYxi5AaT8nlagWt8fLmy9YsckIDiQa8os1X3SE3zsPNK1WWqHIKaTRoAgJbB28eCkJ8GkCSje7NouzSSgNm3f3QLB3NFJOI3CQ2ACLoGjZ3S3XJBQaJvk1X5Q1/YdJYXqbRXYeQ/Mx98eQ/zCsen9RGTitxztJEFoMzGZl4s2O/iRpBK87imm0fUjQpzCQQeCFz8vGJdnBy6dNu6tc2VhY+U0iaME8WLBUEWs4EjYyZw0uFFq6hkwHieMACzRtcbij1eg5Yobau/s5geWvTh09gNcCGONLsGdiFoIyIwAaF8kqckBlgAiiQ4G/Cn9ZCbqfjjRSwpIxdWJrZkoNN3sA8BdGG06rr8dANEsoNLinlP6uSRhr9xr8ErQ9BYTcnWXSPs/A1dD5tuNdKF6UxoY0MGwaAAPwE9NJ3AIAJ323tOWL3QXLn4sedhS402zJWlpXlV5XTeuOja9wdE6j6c1eu1Yrzdqi6p0KHVcGSRkYGUwW1yvg66o8bowMyHPxGZOPIJGOABI2IPkEeDa6F5do2s5WhZD6b3Nd/fictCevY+4Vh/t8rVNloZGu7Yk0Lqzwo5pY8eIyZEgjYOXHgBYqfrqanNx8Zrf9lyrMnVdX6irHoub4axqrrVLka6peqNYOsZwgxLdjsoMC7R0LlHTROJLyC2zErfpfpE6fMMvONy/6rFrzexrcFUyy06LLbvd5Bh6hmaPK6ORh7bosetKxmFq8Lch0YdYok8g+hStOrOmm6rEcnH2yYm/yesNpGpS6ZMYzHfc4AtdYooimz2248xdNdy9NYbzbS9iWLpnBiNvL5FcAgtJJJFAg1VWL/mmkUbAone+Nvx7WLyZDpus48XvVDjYmPiNqGINFUSOT9r5XFrOsOwJGQxND3nc2ptW1KPT4SQQ6UimBUekYMup5ZysruMYNkq2Ivb5UyzDotOxwdC17h2ggEj0KtY3NlOq604tH95wAC0eufKNNPwSFtbuI5IWc0CaLH1Jrp/wFbAAUqciqD5bKCIQxNjYA0NABA9hPQeQSRRFitwUqwVV3dJoDUVsSbA8G/K4tQ07Gz4yXxgS1QeBRJXb5B8jhABIIGw5KCj1RkCd2EniytIyy1shY4cOaSAQtfo2v42dFFFLIWZFAEuodyquodTxwx2O2OOWQ8v57SFmopTDMyRhPc0gjxRC7uPNAW8zkwNur1TYE1QPmrKXn0FUaBrH8Vx39wAmioEeXK2oA7/usD+q6RG5ER0zgbFEi1HV7FPAobgoA3Njb0p/uqNTKo+/aVBrxf3SDYXvdpTF35IRdezXJQbIIvf7JALFAkJRLs0EjckWmcgk7lPNAUL2CYFJRH5CASCKP5v0hFCxQsnaklx6/R0aaiGqm+nMpZq80Xh8as+qGF+iSULLCCqj6ese7WnFr6AjWHJ7dHH5epLJ/UF9aAB7etWFkPqML0mD7SrO0qvB1fqODBgjixGOiDR2uXQNc6oPGJGrXDAbhQhvAYAFKRdXZrcLUwE22LyI1O3WepmOt+LG4Lsj1nXHNLnYjAu6+fKLT5kORoG6jq5omNia/WtXbxhtK6SaQCaT5kORqyXVeopP8VjtaomZXVT2k3GFdA0fJUgPI9I4BP2tQGTqw8yRJWv6poXkxKyk1XAZKY35UYeDRFroD2vaCwhwIsEGwUMTdLmh3Uvf1U26yIimnK6sZ5icr4GxsfsoyQCCdyOPup/BR9GpHaz1REaOJG5A6g6lLaGDGriQkkEqEzxNkEbpGB5/1SRafghyL4VUdb6o4GLGg6h1XIbHxMVxdoujafMo+jVXd1c9lfPEEd3V/PzxK7jlJIBoDzankNtBBsE1afgGn6Ot2ZOV1d/tRoOb1a7zGFfkEEg8eEhsWB/JPmM+jUIyerfMsSZLqHVOLjmV8kZAFlaCzVn+i4tYcG6TlH1GUcANwzVCt+ms+TU9FhyZ6MjrBVv4Wf6KFdN4yvzVFZPtqWR17XtSi1oafpbY3ODA49y4RrHVTeceNI2UZ3W2VK02yJnar0bm/auYibbPLNHRUztZ6o5/SRLgwMnMyutsWTUIhFL4atQbv8FZ6Lbr/HTLEDZTjmrpt7OLicLqwVjtGFYbx6kK1+Sax3n7GlkdG/yAH24lOP2cnl3UgAg2U4UQjlbrqwCQgFU+o58eNqWPJFckkR/wgb4BXbq+UcXDtn+NeQ1qrIomYmOXONkjue48knlc/NmAj3u7P83A8iq6C0rcnG1PFc2KcASCjRAIsKtxNBn0uUyYGXbXG3MeqsY0MwEjQWEiw5poodAWNJdlzhoFm5DQC88wTenq7XgfTWq01SUTzCPMdHFixEFxsEvI8ABVI1DNy9bc/Cxg4OAawOsdoCMTAmznXiw2wGjNLZCv9J0b9BK+d0xkleACrGRx9j3Y5cZrS7aHHy5P1BxsuP4p6sAGw4ewV1gkEg8Lj1h7ZdWw44qMrLLvsF1Ald/Fm54ilwcgDon3aUG+E20A1xutdWe7k1sXpcqfqxJ1DSPfYVDrbiNOP3cB+bK6NZsanpHqlm+lrh43U6VwNUBSYXEkkk7pXk9xNUE0rQCzV3G17AWsvrfTr5cx2XBbmONvY1aerT+0nfyoQTTWxUdli86J+fHBiY5oM5EhogrkyQ7SMpjInSPeGkSONkUVtMzTsfMBD29r/D27EFZ3UoM/DyGRylj8dwIEpAsitgSuZ43HzsuzHlM+3prduNHp2kYup4s0cUpjBe1/Ei7unHx6nKdQmnZJN20IhwwLMZ8WXl4uGYY3TRRN7CG8NO1khdOg40unamMtwkjibGRIXtACo7TW5/HbdMkjBm6jktpjASAAKAICoNBeJ8qdrh3OLSWdytcZozYpo3F0bnyF5aRRIJ2r7FQy6UMLKE2K4tMtMa30TsSszW0/rb6fyJ4XAyfPz2vwnQmSjQc0V2kLSaFpMmnxOfkSF8z1Z4OA3BxhG2iatzvLj5NqUgg1vsu3j4w7uDk5HN1DRRFqPpnfUdR/94KQchN6a/y7Uf8AiKc/KuFo1gvqU+osNi3qwX1KZtiuWP8Abe5eiHg400bY/wAuWoAItZfogSDFyLafjJoOWnJI5Gy6MfLmy9ZDsbFkcIBINDe+UbUSPewRtdnY8KarBO9DYJAK82Uh2O1FFlJO7vaCQBdJgKf4/PCSACQCAAE6jWwQAKF2D9kV3WBtXtEpgcizQG5WR6u0+PtGYGkvOzlrqFADk7E+lDl48eXiywyn9rwRY5GyhBO6RR2XlbQXE1seT4CUfI0khxB42KdkRfBkvjo0xxFHY7JSQATW/iisELp26orcKJvla/RZ3nR5XSG+1ZNodNIA0EkmgALJK1E4Gl6AGVbpAL9AkLLM8C3410r5ZeZwdIT7JJoV5Xp3QmIINCbLw6Veb6diOz9Rgxm8yPAXsmHAMXEjxwbEbQ0HgGkzdAWL2rTkAbnYcCkXXsf/AMPyuXO1LD08XlZLIvQKx2tdeURHpTfzK9ZmKtG7d7+Ku+fFLk1bNGn6ZPkkgFjT22vLp+pdXyTI0ZMgbIbpq48nO1DKYI8iaaVgoU4khaGGnc7bs0/En6j1m5H2ZTchC256G0muJVienNfGhzSP/TiUvXoegdQ4usw+I5+HRKcth0wuODofSoXlxEkiusHTcTTo+3FibGF11V+hsEiyVfaQGUgEH7m0c83f2SoUa73Jp2r3ex+687690kYuS3OiFRyn9w9OXohI481f8lh/qLqDe2DT27vv5Hq+ArN6d0OgT/PpjC57nlpIKsHv7Gl5ohoJIO5JA2VJ0n8gxZbbTCVdvaHNLCCQ4EEDagdib9rLPRl3d/Grh1YwTMz9SfNmvLYxuaFmhwAF1xalkZefDDhd0UDCA1voBdD+mLnPbNUHtW2n6ZDp7KiHdIRu9auYGizON3tuwgOBDqIIogjY/lZTqDSjjPOTDQicdx4BWsABIvgCzXr2sh1DqZy5TjxX8bCq8e908yBqk0bX3QAQZVui8Hy1akODmgg2HAEHwQeN1jj07njTRm9tt57V06HrMkEjMbKJ+Eq3Jx9bLLi5jYNqvW4FmrJ2/qqHqHVRAw4kQPeRbneQr4AEAkiqv2D91g9ZlM+fK8u77NA+gFTjBe7bmyQ2XJ2l5JJO+93dpxZt6AFJA8NAABJA3TTISbAXR0XF293XpefLp2bFPEaLTR9EFekY08eVjRzwkFjxYI3N+QvKie42ABtVLWdH6oAf0Evm+xa8b3ZZnW211UdiSKv8oJujwSOEEmgLoA1dJxAsgjda7sP7qYTQAqimC9weLUhBojz79KMgDYnf7KxQruAQCTW1JwIAsUaTQSNjVIveuAomp25BArfdRVVgg2pQAdzYrcJd3bkAgeuVJEoeRsCnNbdk7EDb7p522oBN8WbrwRyClGrg183omQbApqo/p7kiLWjHyZWq719jXaJkB4L+0Aqi+nwaeoLviM0FhyHd0cfl6kBSx31GNaTjj3Ktisd9Rv8ANuKfUqzPbS68I3hQUAB8YU1qHDP/AFKHx/gwpT9910HlzvrAN8bJ2wBu9kgH8vslqwfKmg7JoeHGhyPCeoxEWuBHHJT+4cEgKGknAGk2VrnY8jWHte5pAPo1ynAgiwQQOaSjfcCkaDZYiHCkw/kjztKdkkk3MLJolXOi4mVhZxjaXnBfGHNDuWkq5ycmPDgfNOQ2NoskrNT9Q5+fJ26RBUbTXc5UUx7W1Bz6DdqaDCS8gCrJJ2Czud1NG3IdDhQnIkHlqrsl/UD8eRj3hzXiiAl6enhY04johFkD3y5Z58prZa4cCoN1R9TyMl7c7DdCDVFV2qaZJFknMa8zRTEFr2kkglXmfjNy8SSJwuwaPm1XaFqePiYrsPPk7ZGOIAeo4+X99PpOXheN2dlY6BkzZGEWzm3xEsJVqVBjS4zmn9O+MhxshpG5PlTXR3XQb1q5H3uUGiF0wkWQTt4B8Llq9yp4zRB8cH8KU6g/wnlocSWkGud0ze6I3tTsY1oJaBub/KQsBNkf0CgdVkoQNqVP1RP8GiygcvoK6e0BwrgrMa886jreFpsXh4L1GTomJttf05CYNCxY3chiZ1HqrdK0uSU18hBDAu2aaHAwjJM4MiiaATxQAWFLpOqdaOTI1wwIf7ixBW3UDbdfTeE7GwTLLvNOS8q4o7DgoDaaA0UAKAA4CL3rytwA1YLt2y1XkhZ6JrT19Ar8gg1V35WejNdf46ryeU8Z3bvONYz/AMH/AMislohP8ObfsrW5xAx3E+j/AORWT0RpOnD7kkKvG6a/J5WACVLG0mwSn9gC1WwBqDqAy/q8JsTe4ucQAuo9NST4rzkZUhlcDTW7BSaxE4RR5MQuTHcHhXGJkx5mKyeFwLXAH8HyCuD/AEqIl28OTrQ6sbBnCFpgljkD4jTiATVKLMzI8kxwskLQ42SQaFb0VptW0UZrjPiyfDke/Dln5cfXcZ1OxIpfTmtTjeNDbpts+bk0gbLqb1Q/EayM4gewCqiTh1Dm580UUTW47JbHdyVWMy82QEAxROaSCAyiCm4LMgNx8lzQI2zkF3kklaPFgI63tsDNRF0haXExI8UEgl8jjbnuNkldBNINm/6oDQTuV1gBouNVdsoBcnhh2B5KLAAA2/CUOAF8lFpNVfrbawAPcgXTrv8Al+krm1xwOAPtI1dGvGtS0grN9LTHxug8lFD2QEhcDf5TQ5XCpSgACggWmBwtPsBTCCb53XJqrI5dOmD+ALB9EcUuu1W69J8eky+3UFD40472auLpnA/iUskplkhaxoFMK0Tensf5A+eabIo2GvcuXoqMN0t7/LpFoVwK70XW9tl+qYRjz4eTAAHWY1m2O1ButYhzK+MSUA1bDqxoOlB/lsgWVzMIsz8fOExI+Rtt5AulOKCbtDbxoWycDZ9WontTi4u5NDmkwmgQCu43cCkBtb+lH0xX6zUT7lUgddACz5TOmd8zUT7lVc/K2FolgfqSX3i0ajW8JICwX1Jl3xYyFjru2Gj6JaBpsrgXdxetIBQN7krPdFuH8Ic3u4kWhJANA2ujHy58vWabBFe0VYJ83snUQRsL5SGwaIok7FTVmkULTP52pCAHEXZQGg2boekk0b7Vt5Tg0m/sdrQACKuwnGzQPASj+wDWx2QAi7NVt4S37CbrSgEk0LTSSBsBynXW/F7JpFt+x4UMvPerII4Nbk+Ph9OVZjY02W8RxNJJNCuAtN1zDbseUN9glR9JztMEsLW1JyXLn5FDZdXEGWhunSNEGE4SZFGVc3VWW0Qx4rTbrtyvpHhkT3Ek9oJP32WFt+oaqxr3WZZAL8USufjVVbr5QwALZfT/AEsRxSZ8sdSO2jV71BrsGjYjiXg5BsRsVgDDp2BZAZFBGCRwBQXkutahJrGrST+zTfsAtA2q+XJ3RTz5Wq5Rkne58jiTZsgLoh0+OOjIe4lSwQNgYAAASNypQCLJG3g+lbZ4WuOJrbIGNYQQA01VgIO7SCARfkcp1HiyfyEgBJqgfyeFFbQdUEuJFMD+0NPsLlxXyadnsla8tLDYINWByFY8gjck+AuHVGjtY/2SFJ31VyDW71vTM1uoYEOUwUJAF1rJ/T2eWXRnRyUWRvpi1VkggHetiBwVimnVkTk3ccAH8FG45rYDf2VVa9rUOjYZkf2mYi42eXICvVNF1Jr0WjYjqdeS4H42rzaCLJ1nUblcXveSXOSufm67qBe8l8j/AOjQStVpmAzT8YxinPJ3crKYmj214+NXbS4eKzDxWwRGw0Ek+yujahSPFcD7JjnBjHPcQGtFknah7XO7Xd3AYmp3AJJAAG6iyMuDFb3TSNYCNiDZWX1PqCae4oP8HGqV8sjyC9xcfBJsrbHjU23Pnzg6K61LX5skmPHPxw/0Ll3aB0wckfqc62x8hvBVRp2qY2FIHOwY5vferT+2eX3GseNdOABcXJk5NtQ0BnaGgAAAAnYhYzqzRzBKMvGjPxVb64auuLrXGcKlxl1DqXSs1kkErnRROby5aKJqzBHdW6Bq4nYMad1PApqm1LQYsuUyMIiN/uWYyTDDnuOFITGDbCeVucZxfixOeDZaCSfO3K4+QcHZehxJyGmpoOmIGyXNKS1d0Wh4EN/4MuVjZ/8A4JFk8i2xxYlVnp7APcs1PFJo+rANdTo3AgrdAAEEAGjuK5VTr2AzJwjMBUsa04+RHtsuXiE6K/0/NbqGDHkx7d+x9AjmgumqN++CVh+kNSfjah+le6oZP9Vbg3RFAgHcg8Lvxdm7yshFIFDYgn2VE8EOsUBwpaJNAknm014pt+AdyrVEmIA34KCQSCLrzaCSAOAFamUA0aQCKomk3dx/aLCk7aouFX4ChKBmggGhv9ygAAk2SfCUglxoWEBpDbO5B4HIQi9XBrbS/SMhrTRLSs59PjXUX5jK0OuShmkTEuVD9P3MHUDi/kspqx5Pbbj8vUVjvqOL0mD7SrYrH/UbbSIftIsz21ujBB/QY9mz8Ysqe68FQae4u0/HJ/3YXMNWjdFmSMFtxQQXLo2Bc+lWsLrckADcm+Fmtc6qbB3QYO8nl65n6lkw6BLkyyEy5byGBZcNBBs2TuSVTLJ8K+OAdtpsbG1HUcds8uouAdwAlk0LJEZLc+Vz6NW4qs0bVHYEoilNwOWvje17GvYQQRYI4K4+TPMd76vQ4+PjyNa7sK7KzYnPjdkyAgkEFxVppP8AFcuIyRZpaGmqcptU0KfKzzLCWhjldYOGzCxWQs4HJ9lWy5dAj3Ux/wA+1E6qqTA1XMkZFn5AkguyrmGGOCIRxNDWgbACuPakA9Ko1bUJA8YeHvO9Yq8jpugxx4zo7najrIgf8GKDLOqyKQYmUMzOlDpzdRMokWnRQyCUafpzBLmybyS+Wk8i0zHgz9CzXyZWm/qHe3gkLYxA1c+fI73WA6jgNd2PK1EmTo+om5S3u9uFFMy+qcnIiMcWkwsPv41N0/0zNqUj59UhLIXD9qj8B35R9V6QShdoEW0mDkvjP2Ka3N1jSv8AKWjIhVlldJZ+n3JpGUX+43Lki1aSCQY2qwGB/hzgpMsjsdkTj5Ok01rpmq42pC4nBr/LHKzGyy+bpDZKysB/xTNFgt4curRtbOWXYWaBFkNv8uXTx8pl03Ly8DxuzsrDM6ixsN5iozTeGsXNB1TeXHBkYhiEpoKHIZpGKx8BnbDK8/ufy4FdulaDpjHNy4pDknw5xUu99VTWttaZkggx5JCCQ0F1AWSALpY/QdVwsXKytVzXE5DrEUS2zwCCHUQRRB8j0qr+DadDMZWYzO4oi9UCHdVSfxLqeTuybxsEcRK8x4I8aFsMIDWNFAAVaeSG0OABQA8ILgFYxCrlkst0m3ZIAO29pQ4Xwf5pQ8E0p7KnshBqhys7Gy+vcZaOq3N0s/Bv19Cq5+WvGabbZ9HHI4sED+hWb0VhGls/JC0uW3vEbLrucR/UFZ6LR9XxIzDjzQuis13LPFB7r5imi6A7tO4UheCAuUaXrZ5lxwm/wjW+RkwOWn0LP5t0OIoggEEEGxYKo9O/U4GPlZ+M4PhbKe+Eq0OBruzQ3G/JKgbpGtRYORiNjx3Mls33LHm1kAFpxiKtPi9T6fOwFzjEfTk+fqPT4GGpTIfDWqoj6V1b4g1wxk09OawzZkECyP8APx73uv8AR10XG+R2TmzZT2CP5SCG8UAnYjicER892WCAu0dPa0eY4B+XJ+P05rEAipsB7Hl+7l0OtAWYIq1rZI38bJqb/Dtc9YwSfwvXP95jha/ss/w0v7k0mhzumHStb4+bGSHSdbHE+On0J825dY3wq9yAALq1/wDzlpTfTSmP0HVckxtyMmIMDw4hq7td0nLy8jFnwpGB0AIp6zUUS0MUEaIk2gGyof4Trh5lxmo/g+t+MmBXcyz/AA09pQ4g7lRDR9Y85cISHSNb8ZMCj6FJg3STQ2VR1I8/ww+P3Bd38K1s85GMFBm6Bq+ZjmJ88ChzEQpxwRFrTpQVokX3KuFncHTtdwcVuPDJjBjV0CHqEczYy5HBXZdGyk6nF6FOvP8AOytQE2OyVnbCC0ggWCLHJW1zMDXM3HfjyyY4Y9cEvTerSY/xOngUgiOt1sU0i63WzHBzAQbBAKQn0uSPStbZG1gyMemhKdP15p5xnrqMy5XBfLoBAIJKOk93559zLldg66OI8b89ysencDI0+PIOWWd8r+7ZRmiTAR7rorzn6izuGpRRFrSPjXoxXmf1El7taazy2NUtSsOjnE6MQY+Hq+O54rbyqTpFvbon5crsk7E7grc8LB9YoAXuSeKTSCaoEkFKSAa8eEhNEm6U1YsAkgWT7RZvi0fc7ouuN0kWR4r7JQSUhNoBPlSnVG+5x8G/yl5F3skCACR9rUUjOPFHdNIJHGw3TiAPO/lNog3ZSmruoMcZOjZEfJaO8LIdLTlucYgyy8EFbTV5BBpGVJ7jIWG6Xs6s1c/MCXT/AJ1EtbkX+mkDQCS0gA8XSy/S5hb1NjnJ/wBr+jlrSLBB4IIJBsgFYeUfw/WHEixHJYLuQAdiubifS6+cdDb7r1+Q3RD8VCMuqRee6W0GUkmyBYC9Ylgg1rSA09ssUrAQ5eW6vpeVoWaYZfyx44cFqI7LmENbpJ8yOE9td7gbNcBcL8yd7iWkgHegLpdWh6YdVyjG6QMDRZ8kra4ml4mHF8bIWUeXOUujttQcvLAMflUZGlxH4JQc7IGxIFb0RRXo8cMcYpkbGg7kADdcuTpOBluMj8dhdwSoMhp+SeNio9SAIErTY5IS6g+N+M0seCbugeCrnP6Upjn4ctgC+13JWXe1zHFjwQ4EggjcFWNNRE6bffTd7ji5TDfxgrabiiTR8/dZb6f4Jx9JdO7mYrUi6HmhZCxye9VC587LiwcR+RNQYwE1xZ8BeU6jnZfUWqdzvwxv+yFedd6y3KlbgY7yWxm3qLQdJGM0ZM28h4arb/Jtr8eCu7v0zT4cCABgt/Jeu3gbGrNkePygcXtZNk1R/okXMqt6GOIEEgAk7ACyT4HsrK69rX6i8fHNRN5d5cujqHWGmM40FmTiR6zTAHOsmgN10ceGjbcvLyKoSsb3CzwOAfKeQCKIS7Gq2A2TVrv+FydrtmvABIbQFbgjdaDp7S8bJxzNK1xe0qgYwyyhjdySAPuSt9g44xMWKHy0C/uTuVnyKGi6OHAXbV8nTuA6ywSNXFP0s6x8MqudRzxp+MJXRl4JoNHAVIOqTveM0qmLmmy1zx4x0zoel6eC+amrRgBrQ0Cg0ADfwPsuXT8+HUIhJEaeBbmLrFnYEVdknn8LPNXpteMxDpl4q9r9orn7cpjnBrSS4NaDVuNKEahiGf4RODITVE0CqgpusoPd08miaFePaAATuASRRBFg/ZHO448GuUD8gflVBHbSIiFidZidhau8sttEOat3o2c3UNMhl4koCRZrqrHL8eOdraDDRTekdVEEv6GahG82CvQ4stheZz8fbbQGgRdG7N/f19k1zb2B2G9+k4EbiwTZqx4QKO4BJJo+gun+XHrTqj7bBBcDunBoHIJvwnFhcaAB/CQbWCCDxSbo1KAAaqvX5QQRVX3DxyEAAVYJ3QACSbIUO6TRBBJsmif6INAjcX59EoAJsXsOCUEEAHYm+PYUm6F6qrXwDpGR+AVn+gI4pOoLk5ay2K96nYTo8tRh/bR5oNCpPp7H3a8Xf7LFlm92/GdXqSyf1Eo6E37SLWLKfULfQPw9UPbSNLN6Xj/eMBVh0qWDT9SjsETWWK00yhpmP4/wYXUt9CXPtF1YjUmSTdOYr3Rlggd2PXJNocwibPiH5Y3AELdZeLHmYkmPIAWPBFAcGtistpc8ml5j9NyjQBtjljyiAl08CZOmoP0WW62/p5CfwtXoMGRBhCPI4v8Aa1Wf3ofelXatq0eA0t2dKeGrlc3PoLtOM4+93DPqeov1Q4uLGwHwHeQpjl6zAal08u5stWany8ifJGS55ErdwRsRS1Wl9RnK0vIjyHVksjJHty1OMQEuXPlzHY9XE3XsvJuLHxKk49gKExSaXE+aWn5mQaaOSLTMR7otOYITU2XIQXDkC126pG7DysHJIMkUFByqAOg0W21NrtK3wIx0zpMeTKwSZ2W9cvUfVmfiagcbHYyMMFlXWojH6p0sN0/IaJWODgn4ehDLYH65jQSZDaAe1TsO25nat36NOM/TMfKkgbG+QAkdqsABxsANgBskY0MaGsADQKAAoAJSQ0EkgACyTsAFmu2a1RzPMUEjwAS0EgHzQtYPRsr+1GblYup72Li9sWid1ZpTsw4Rk5Pb3VYWMzMbI6Z6jbkcQufbXewr4iCJpj7u7GifQdTOnZTrgcbikKm1LSRmSMnx3/FOOHBdfVc2LqvT8edjODzE5JBODpzJjuBGCfPAVMtiJ03VxJmI9hcUGg4rWXkXNK42XOUEsGRoMwzMB7jCP8ZEVEzV9SmD5oYA+BpKdk69BPp0jKIneCO1SOYjvcyONE1q1uNqEedhxzxcPAJHNFBcSdySFVaBEMHSIxO4RlxunK1FEAggg8EHlegeG/by8vXXkhJKVIRSaXeKVqk66QT6Tb9pRvwknBxAABFfdUGEb+oDFfgDhUWCS3r5n3as+Ty043bbnLBDWFtWCSP6FZ/SdM/ieKcmXLyWyOebDZFoskXCfYBI/oVVdNOEOhfI7wS4rC6IHTw8Z+X/AMxB6db4z8v/AJirsXqLJH6p2U3tbRdDYVtHqch0MZ7ogX0KY02DZASndEenv/3DL/5iP7PHxqWX/wAxcmR1JPAynYlyd1Jzuocqx2YYqh58lKLoHTvrUcv+b0f2df51PL/76mGrSHRnZvw/4RposXAzqHJablxKaLFBNy6T0771DL/5iX+z3/7jl/8AMVZF1NkjDlndEA4vAa1y0eNkiaIAub8wYHOaDfbY2SVeenfeoZf/ADEHp1v/AG/L/wCYuODXMqEP/Ux9zLd2uRB1LNPEPixbkMhakuwdNxeczL/5iQdNR+c3L/5i5XdTyCaKMYhPcD3JT1FlWSMP9ov80CAUlHrOlDT8IZMGXkl4eOZF35moZMWQyGBrf8WHEu9kKPqWT5dEYeO+RijzQRqbP+CApxBdNXJQUpBqWoeokfxTUOO2JR8ppFg+1t8yx+jTDVNQ/wB3GkOqZ/qJQh9ewgi9yp+ZuPI0p1XP/wBmJKNVz/8AZiXPR5o0gbFPwT9t142q5U9MDI2yF/au2tR8mIKn041Mw8H56K0xKwTToth2C1eHZxup4DRqhXPpc2Zg5WW4F+ZGztHDU3UtPERa7Hgkl7iSQHUAomQljHEYEpLwA4Em1Falg07KheCM5poGgVEdIyXW46h7FgqE4oIcRhZIIFi3c/YKTG08T0x2NNGwnclySd/Asvn9cXIiE+mTuZLKX9zbBV7ExsUYjbdNFCzZpVGtO7cph9sSVyACK5ANLy/6guLte+zWL1D88XQXmX1B7hrdPbzHbSpPZXXS8Zbocdtqyrc7c72q/pwE6JiqwNgC979LYerny9mkgHY7DkIAJI3BHjZBIPikUQdlbdTTAoNIJ3tN/Gyds42B/NNNgb7pTBHs390vr8pQNhtQKBQJ3/FKWj+wCATZ8JwNkAcclN5H3/HKcAQbFDbhRTONE3/VNAuwOaTwABv/ADATSWsBc49rWgkm9gFHRT2+VJ1Xlx42kSR20vmqmrOdJ47XZEkrhZYFz6/qLtV1L9tGNh7Y1pdJxTiYLGyANkcLcRRJvgFcvNnrou3/AD4OxbuAsgWDY3A4Cpeo8AZOKcq6fEDbvDl3ahqMGnRAyuPc4Eta2iQVlpMnUdZm+KIPk9MasePF3turmzE1W/RvUZ0+UYWU68eQ0D/sLba3o+NreGYpaDuWS+l5vqHTuo6XjMyZ41c9LdVnGrE1J5dFwx61R3suLZVOqaDqWi5Be3uLBxKxT6f1TJBEIsqIyNHLl6cDDkwgtLZYnixwQQs3qvRWFm2/HJx3qB301jJOygw9UwswB0M7bqi11A2uwtqraeLN+ljNU6V1LSyHsaZWnhzFyN1TVcWXtM0lx1bXJ+T0tTlT23j5AxpkeRTAT3Dah6WBnvWNbIxmUZnigp87qLNz8Q4xY0NPJarb6f4BfqLspw2iarOg3Vzz29W9wMUYWDDjM5jaAuHqPVY9J0uSR28jrbG1Wpc1rSXEgAWb8D7ry3rHUhqerdsRJZEewBZ4m3bZ3HomEdRzy6Xdgt7ytkAA0ACgBQHoLh0PC/SYAaWkPeLNqwJABsgVzvsB+VlyKui7uPEAWNyRW5JoX4+6pdZ1qPFY6HGfc/Bco9Y10QAwYpBfwXqr0rR5tRcZnu7YgRZPJVuPADbRyZqgTdO0x+eZJ57bE0ElyrXANlIBsWQPuLXoUMEcUbYWNBjAotHB28rB6kwR58wDS0BxpvoLTDP9KFhy8f5BfZiR5IadwCUA20EVuLP2UbyHEAA7LXzu5ja6rTp6Azaiy4+4NW0NEgE2bskKp6ewBi4BldfyTq2sbgcBcvI7er0OHFDu4NbYZNKnpYVjbd4FL0DPHdgzAUB8ZC8/AHyVZo7EhacTs1Y/6DsaSCaTFlD43OY4HYg1YWy0bUxnwBr6MjRZWOeLaQRRvY/ZSYOS/EyWSNcQQRfojyCr54GRU4uTTptV1DC6XTSQDbHBY0OPNmxuDZXoBczLwHujNtljIB5JocLAyAxykEEUSDY+6pxf0a3L6I1ro2sSY04ZkSOMJWuY8SRtcwgscLBXnT29tkDY+vC0nTeqWBiTUGiyHJycYmytw8mnTXOpQtydPyI3GrbYPoje1lenGRP1qJksZkBK0WvZbcbAewmpJRSq+iomu1QyFhcWK3EIaan+hHstvQJsg7DY/b0nAgNBBH7tyE03uTVkkgD14tRuaO2zQJOwBXaGwvO8N0xJABNAeKKAS6yCDXI9qAWdrJA8WlBLTbTRPNeVOqNtOG2BRAB5HkJA0CwLIHn2oO8gk2bu08vcSKNDzXlNMHdISGtskE+kWGiwbJFUoTZ3Jv7FIQTuNqTTF6ubWQXaRlCu62FZjoGcQdQtB3+VhatRqcvxaXkPqwGGweCFjukHNHU+MfbljyHdtx+Xr4FBZX6hC9A/D1qllvqAL6fP2eqHtrJpRDtNxyOPjC6wPWwXHpDi7ScUnywLrvxuF0Hhc76xQ9eVVa5o7NTi7mW2dgthVrXJS2oQTTBR2WV0bPe5xwsods8SrdZ0nLlznTRN+QPVz1Lpzmlup4oqWI2+uSp9PzGZuK2ZhskbjyCuLkHjdl6PFkcxpeyysWiahKaMYYpsrQX4eG/IfMO8K/1TUW6fj97gXOJoBZHO1LIz3XK+mDhoUYuWTt6JyY4YGvWsNPxJs/BjMUgY6FxCsX6lDFGMOKKTMe0U4gWFWYGWcfQ5WR/42STtC9A6Y0ePTdNjLmXPKAZHKUN7aHPQBeeuyX4mY12nxz42VYPYtLD1F1GAHv00PalxqyOuco5TR3RtqILU2fZ/CtoQ2VAXtqrT+r8TInGNmRSYk3p6vZSyXHfvbHNI7gb2I5Cp9U0fE1SIieMB/h4WWj1nUuncqTSou3Ia020vUOB6VUS4X6Rgx6iXnU4jjteSfDltsU4XU+lFr4XCJpprnLPYWoaFl5fbqumtx8gn8NWuGo6VhYo7ciFkTeA0qMldaqhpshr2jR9P6PJHHOZP1MgpqnYwxaMG+ojYP3C4svLk6l1oSVWHAf2rr1qYY+mSn2O0KmSqF1cRoVuXpi/4e70XLn1WCPA1PFzWxgsc4BzVYaFAYNMjDhRcO5cfU8lsx4hs8yJiv00VuTEePaVxqkuHIyPEyLucWxc3TGTI+GfGkPd8DyA5SaxpsmfgwGChPFRaVLoWmP0/Fd8puWQ29egb3u8roErIpCEpKFZaknbSWkco2CbZBCoIt+vMdX5I2/KoMZv/AK/QqnI9WnH7b7I3heByQa/NKq6Wo6MB6cVa5N9gI5BP/kVVdK/5tf8AeUrC3rV8ELwA+JhA4BaDSURRtYGCMBg4aAKUyElS65nx6a2K8dkhldRsLlbrTZcjHjZiAmVgernJxIcoxmdjX9hJAO4BIpc40TCbIyRrXAsFAhxSVdB1BHPLkQxYwP6ezIn5WtwwRRvGM1xdEJF2t0fCD+8RUbJJBNmxRBSDRcFtj4ruhRJNAGwAkq6PVo5dNkyRhw1G6i11J7NZEDnGTCEUzmNNCrNjYFd02h4E9h0ZAJDqDiBYUn8IxDfcwvJABLnEmgkuBuomIPhyMVpmY5oIFEU41a78F8U8k7RjNjET+0GhvYBtEemYsTS1rSe4gkkkk1wLXTFAyIvcwEF5s2bs1SScYISQTGwkcHtCT4I+Pjb58DzypkJKj6ooaR/9ViizP85s+0ICl6p/zW3/AIzFz6gSNTH3hCth2lXN6ZaQ9zY2lzzQHP3UQcVDMDPLDCCR3OBJ9ALbN0LYYm0JxzIdyO4gckNNBSY88WQ0/GSSOQRS7pHMgLYxHYdYJAFKohnx36o8Y47QRRHshcvH/oeTIEtsuIBRrBrQBwgsBPFboJA24+yASaXXYfy4g+SAXCQHicUSLFUVZ4+pZDsfKMoYZIhYq6IVY4E+7+cf0orpfjyOcXMJY8ggkCwQfBVPyItrtEHzVM3Pz3tBBh3AR/EswyGMPi7xyACoImswca8iYU2yXHagqXUc4voYIsSO2cTRcfQPNKuSB2U4Crq0rcvPNEuiP8ih+XqAunQrPnTtTbiRyNmAldyzuIoKDDzpMXIe7Jc5zAKcCboqhmKCV3B0o71aM52ocd0X8gVA+fJlzandGajBFNPtEE8WSwSQvDgRY8FRTf5X6/wYWv5NbLL9O9Nql5f19M52rmJeorybrltdQyFyyPbb+Wo6XLzoMBc5W1CgRx5tcWgMkZomKJiDIW2K4DSu4gkEHYD0tTy532iIF15TaNm+CnkAgmvwko2TavVZpAOw2CUAEkcV7S0QigfNfdJNJuwfGwpAAABrdO5A2Fe0mwIN0VP8olAJ32BG9JwAHs70a9ppO4IFg8kJQABZB7QbNcqqPpWJatwr9p4N+Fm+rtYdiQjCgNPlafkVlruqjSsQuaWnII/a0rBRx5Ws5tucXvJsuPACzzyAtePFXouzpvAbk5bpJge2Kir/AFTU26ZE00HyOJICZLLj6HgNYbc4imhZ7TcLK13UxG3uJc65H+Ghcyfp2+XYJxmj2k0zTs3qLPcWnzbyV6RpGhYWjsrHjqQii8qfS9MxtKxhBjRhoFW7y4rtUZP8LHtdtG9jZWFj2BzXbFrhYI/BWK6o6ODg7M0xtHl8S3KTzzX45VTJHtiF5Jpes6no+QWxGR4ZsYnWQFrNP67xJ5S3LiOOKoOWjl0vDldI448YdICCQACQVmtT6FgfjVgOLZOQ1602PTLUYWo4moML8WeORvBpEmBiTuc+XGgeSKJLQSR6JXmR6d17T6kiikHi4nKHF1vV9LnMYlltptzHJ+f+NF6g3RtPa8ObiRghdAjjhaAxjWNBugAAPuV5aOsda8TqAZOu6mTjCXJnDuWp+e+2Dabq3qr4u7BwHNdYqR6xBZJC5kxjc0EgguBFkLYaJ0PP80c2olrWjiNd/wBQMeGPRYe1naY30xSIOif3dFp+SMzBjn5LhTj6I2oJc7Gdk4ckDX9hIoH3+SqvpZ5OA9gddOtXZNm1zZGstl6ODvELP6b08Y5RJmEGuGBX0cUcTQyNga0WQANgTynIRyX2tjxhG9ADwLO1WVk+q4gzNjc0UXMWsVF1VEX4scjY77TTnKeJ02fMbHdlQ6mbUCNgrDRcA5ma0PaTGDbiuGKCSZ4YxpJJoAC1uNIxDhYDGlpY9wBkXRyZgXLxcau0uxrQ1oa0UALH2HpLe2/nZCUbb8VuT6XJtfLvNBpbmzyG4WQXA0GEFYBo/wAIK4u/utnrOfiswJozNG6RwIDWrFtcGuJq9trXTxYoI3HzopqlJsGxveya9pdVbkhN+UiwACCbIPtKZSQQQATsTVbLbTc1oulMp7jJjONgAuCo9QcXZ8pcKIcaASYWU7EyGTM5abrwR6KXOyjlzmYxhllVBHerRzEBmgWANqI8pkbzDKHVu0g0fNJvyG9gAfCfFFLkTBsbC8kgUAeVIL01B13deXm5Os5TGVZNBrQt5o+nM0rBEYbUtAyUuDQ9Ch0+MSzx92Qf6MV055LyAQAOVthgBYcmauoLgLABom7PtISCd+EhJPJtAK1sv5qXxtuk3CWvJKDRCSKFg+9kC7I2rwUIsjZJJ9zdIIG1WCTslRQBB8cD7pLj1Z8bdMyvnJ7Q0rK9ERGXqKHtdXbZWk6hdWizn4zKaoj/AGbKoOgmtd1AO48MWPJ7b8fl6usz123/ANXZVpVnOutum5llaXHoRvRsX12hd5KrtAo6Ljeu1WB5XQeXPl6wSaRfA8+UwmzunA7WpqblkaHMLCAQ4EEfYhZHsOgawYiT+lyDYcteAVVdQ6cM/TndouSOy1Z8mJkI23FyOCJRZOPj5sQbKA9nIohcLtBwBG5wY6wCVlGyzsBAmeKJBAJ2pWmj5MwiynySExiMiybFkLk/CeN3nKZ+ndHo0RzNUxsNotgm7l66AGgAcAUP5Lz/AOnmD8uZPmvGzBTVtc7U8PTmF+VMyNMu3Rc67bPdV6ZPBlR61gi5Yv8AGNXVg6/p+XisldkRxuI3a5cmp9baccKWPF7nyFtNVd0voWkanhmTIkEmU+yWNdu1XFDspFGuM7qfTsaMmKUZEvAYxVGF0xka6JtRznux5ZTcbVp8DprS8Bwkhxrf7cragKAoDwAqPJ/yKt5mGGLNOmaxGC5uzJOCQuodO6fd9rz9i5XXXeLC7SRlmhNE4dpVfBNJLpjJWi3mMEX5NKuS6EdbujhTIRNpc2RktxHw4OBGDISLbyAPJK5dZk/V6jjYPiwXqDS4M52UHGMxkuuSR3JF8BdfUccLIWz2WZDa7aQAQ9ayuleiuWsDWhoFAAAD8LnzsGHOiLJRZANO4IKr9H1d01Y+ZbJqHbYqwn9Q58mJitZFs6RVMUyr/scN+lyYGryaPmfo8iQTQ2Kddlq18cjZGNewgtcAQQbBC8tdTrLnEk7knckrV9H6qX3gzO+8a7uNTpbzOTEew1aci/5oqlJSjOxpbWCSE0aCa42aTxSQtJNgj8IFCTQSCPVqmxH119F92q7DKIJ5HhUkDiOvcevLVTk8r8e927yTURNcAk/0Kx+jZ+pxYjxjxRGMyOILithkmsd5q9ispoZvT/y4rLEF022Shsu6PU9Xv90EFfZynGpZ3mONRgpASXEEEV7Wn4LP9sPz9VdXxxwhIcrWveOpRtRHFqmlg1CLLkndkhsXdYJcAAPRChxDvVJktZnM1oecZMOqaw3mOArjyddxoow2B4mmcQA0Lhyc7NlrHkAx5JD+x7TYJG9FV/8AAgtYM0UOiuDqetHiPHanjL1twsOxly6cckYgGXXyA0Su2JxDqs0dir/gTZZ/tHVGc/XfWMmu1HXGtLj+mXW5hNkA191yZzxBhTPdtTSB+SNk/BrdP7d6rjRsx+fpseRKAHOsGlVZOsaic6eHDjiLIiBblPiZLdJ6cill57ba32Sq/TonshMkoqWUl7vYs3SpiC918lDZQaznajPjxR5EUTYzM2y0qy1EXqbPtCFXa0bx4f8AjNVhqF/xYf8ABCsAIFRVxVow08kbLkycpuPlQkAuew2QBZAVgATSqWadk5f6qQSBpDiA0Cya4BUc+QYo1uDEchXQXc/UWOyhOzJaIwKMThRB9gqqx6dqd4UJc+Rxe4m6G3grllyCCI3RhjwacCaNDld2LrPa9mNj40cJdsXrjx40RLq5DjBB3WkUolBJFEEgg+CFOCuaJgibQJJJsk8knyp2tNiyF6JvRv289RXVzXUhI3HzCv6FdrpSbA2C4SAASDv84H/gV1kAnc+VQO2vk+VVrOFkZb4ZIZNmG3M5DgqKRk8WWC40HPDQ2qLAdrC2YAHCr9aghdhOlc0d7CCHKvJgPZacfIhpuaKXFyJ34j8iQ/ECQ8OILyqbKkJzGxhpIEdg1XcfRK1WndOxPx455HU57QXBoVRKHQaxDikNMTZSAeTVrm6UC6MXQtNpGNmCU5GQBEwihGFYFvfmH7RhdsjQSaoeFyOFZh/4YXWAGrjVydtpgbH4NFeW/UAsOvU3xGvU15p9QsNjNWE8fLm29ZHtvaLp+cT6JjGwe0dpVgCSSCqTo4VoDfFvV4WgjyCPK1PLF9mOIJrgJhB3AH4T+0Ekkigg2BYAIV6rMI2qxaaR4o0pS0EbgXzdppbuKPKd0Sbkb3X3SVYv+ScGkmiUoFHcbebSjU2gADZI8hR5eVDiY78mdwaxvP3NbAKd5bE17nkANBJJ2AA9rzrqDWZNVyBGyxjtNNHtUctFfHFXVDn5U+uaqXAW5xpjVo8aCDRdNL3iyAC8+SVy6BowhEeXLu9wtrVWdQaicvK+KJxMTDQXKrk6u/HE4zb7c7zla7qRbBGXyPJ7WeAF6Z03ozdF04Q8zPoyOVb0RokmnYrsjKjAml3b7AWpryNjVKMnRosVV2xW5JTkiVZ0whCEZJWwHgcJCLu/PKVCGyagi7vgij+FA7Gx3vD5IYy4AgEtBNHxwp0BSKUaLkOlaeWhpw4SAbA7Qp44IYjccbGmqtoANKVIEVZqD6Pkc+Qsz15OIND7SLL3LSk0QftVfdZD6izBulwQ+XSJhtShs90k0VOeXrS/jcKh6Tr9DL93q9/lX2VOT/8ATehw9YjCEIWdtvfcJksTZ4jHKAWOBBHkHwQnoJJ2533HBQU8oQTTcuHp2NhNqFhJIoudubtddWTzZF77hNe5rQS9waALLiar7LNaxr7hKYcI9rfLgtDFye7LLI4yudS1SDAjIc8GWgQxZzJ1zNzpBHACy+GMT9I6ezdYkEstxwHmRy2um6HhaWwGCPulHMhXVhxAbbi5OdXqxuB0vqGePkfUTCeX3at8TomFu2VMZXc/4NawgmjQJOws8fdLRDSCR+FsYhczyK91IOmNKOL2CNxqrcp5On9KLWtOM3+7RcrG7PceQKAuk4Eho3LQTxQIH3U6N1XJqUdMaUJWXj7MBFB2zkmVpGkY2K/InxAI4rJVuAXXwRdkna1z5mNHmYsuNKSGSCj5IPsKyGuqDJ33UkWL0zMwZILWMJ2Y5S/xLQtItsHab/2FUZXR0/OLMHpsXTEUIvOzo2yeWhyouutWgD3ujzuosrPyhHhNLGXQHJK1mMJG40QlNy0O77GtwuHR4NMYHswAHvjNOcVZEVRBBI8+1fEdb3Z5ouiAdiRsL4Tkg2FJQOKV7OX1SLsJACDugEpTKRaQgedkpFhHHG/5SSDigbCDe1gADyluxdAJAODyDsbSXDrIrSMntPEZNqj+npZ/HXXyYlc9Quc3RcjtO6z/AEH8Z6ib389p7Vhye23H5er+As113t05ItKsp9QjWg/mRZ2szRWhukYvrsC7aXJpNjS8ceowusldJ5cz6zaPgWnAe0l0UoO9JQzgLQW9wIO4Ioj8oBpBNKH/AJSXnR0w5GuT4ncIwHEqy1OFmFiR6bii5JyASujV2iDqvHLOXtAck1IiHXtPneLjDwuTPZmF38evmod1tn5jOldCgxMenZUoWR+GTJeZsyR0sjjZDiSBatutopYtbbly2+B7bjVbh6fqGqNMkVRQ8BxQA7q4gvZtgQRgUIwB6pQhztOyI8vGJaWuBIBoEXwV3y9PanEy45mye2qpzXZMLTBlQlryRRUndZ6OzV6/g5AzMKGccSNBT8nIjxcd88zg2NoJJK4enmuboWGJNnCNZXqPPk1vVv4bjurGiNyOWOhX/hUBUC5M7Lm6o1HyzAiVwxrYYwBTWNFDxQCbBBHjRCOIBrGih9/uVQa/rBs4uOfs5yq75HR4XWBwm31urN6ix4LZC0ylc2AcXLyW5Wr5raBtkSzoAAogE1uSrbpzT4suV75o+6Nq3A4zabudyeR0Ot2h1uHB1LFEmLPEJ4hbKK4MQRa7iiPKaRLCaJCbladpEcvxulML1Z6dgQYURGOS4PolypycgghptOLicVFEoItBwI+Yy5cOp6YNPMWdgNoxG3BX5c0EAuAJ4BItD2iRha4Agggg77LIzRFbXLjxRAuvTsxmo4UeSzh3I9EchdDxYBqqWV6ayThalPp0rqaSSxawixS9LFEG8nkxcVKGr39Jw3vZODQDuClAAA2CtuobogOdlRxb9d4q0RAINBZqCndfY6pyIlpx+29y/wDEO/B/8isnoZrTrJFfIVrpxcL/AMFYzTIDPpj4wSKmJBVePe6+flJqWt4+BjvkBEjwe0NVXp2pZeqNc4ZYifZtjVFrOkOa2MzOqMyEFzVBg6Hk4uU2YTNDAs+XNNm9Npw8Yo62T3Z+sxamMUZBO4oqykgnncHZ+QJImCw0AgE+yuM6iZtWdBDNC3gNc7gnyLUU+Tk5Alhlc1rIyQey7dSyXkQV0W5jxi6NpQ6jlQvLRDG2NgIpwFEn7HwF05OZcUceRHHJdBoZIC6/HBXfDjOxNOYIsaPInymEguFgHwAVe6Lo8EeLFNlYcUeXyVDoBfajm7deWYjlyIHBrciSJ/iOcEA/YFWeFqYfIIcpvwzePTl2dYTsjwo3COORvyBsntqpp8NrZhiuk+SKRgkgl5IFWRavjyIbXZVcDPoNNY5Gq5scojgwjILTtbZkSw44bAZGlwdK0GiAKNWqdgaxxMeoOOSwXbjQNeK4V5g58mbhRyuHaSCCPZG1rfDMzULLkweMFoxDPmTMnzqAjAEcA4aBwSu0kkbVyoyT5RZB2WoAdXO5K7bh1tt48P8Axmqx1BzWamS81cIAJ4JVbrDiYscePnarzJYZ84xukEcbIg4kgFZ5qI2uJsS4BmQgUXD7Fccmb+kypJ4HgtDbczw42rtuLA9hc3MaWgWT2Nqk04mKbH62P1Xa1Z5pmIlfHHTsagy9YwMqK5MK5SqzBLG5AsC7Bv1utlJgYzTUmXGKF0WNBpEen47mF8eSwgCyRGDQVcQxNERXa1f+oiBB+QfkFBy4xxIFYjFxjRGbH7A7W2lGJjuIAzYySaADWrb6VPkVKXj9OJCSGmcbkbbWp/1cN7yBWAmONFLGWslDZAAC0AC/NBM/VEf/AHWD+iC6UKENgtyjLiHMgpcWsZEcmF2NcHW4WB6sK3dmEjbFg/oE0ZhF3iwEDfgIqiagAju78bNxG48bfmaCGhZPVp3fxoPg7XQ/IHErSxziTGE36aEC6oNspsjg+ElscTCDyGAn+lLnMQd249NyHLhNf4QbjayjEkZJnP8AiLXVGASPypnh7owQY6Bo/wCDFn78JY3TYzTK1zACe3+4B9/S3c9mtWRgDvde7Vsdq2Xmf1GAbrMZadzEO5em3a8z+ocVasJPk5bXasz20r7pPHZDoMJDaLyXFXNHtvwqvpOIx9P45dy5W90NhZ8ELYerFO6ItABAGx5THD9tcAG1KTexu73pMds6qNEb2rbqpNoAmgeEhJJF7J5FbJh53NlBmpDRIAsm+U4iiKBIrf8ACACDwSQNq8qh6n1pmBiHHx33PJY99qKAsBXRVvV2uCS8DFf3f71//kFBoGjNaG5OSO4kW1i4tC0l2XKMme/hBN3y4q51vUhgQiOK+94oLkzzV0Xfx8YG25te1lsLX40DrkIpzm8BO6J0L9dlDPyo7x4r7fTiq3QNByNcyy/iAG3vcvUsLEhwMZmPjtDYmqFAqZ5K6pTt4FEVR8nwB9k4X558/ZOQs137VhCEKKYQhCSEIQkhCEJIQhCHsmnxRPNFYP6kPJmw47/b6W82sA7g7ELy7riV8/UckfhtBqvx+tGttYdNsLdKbYrvcSra7VUcmPRtLhY91voEMXHH1Sxz6kgqNZuCql24chiA2gQq2LXsB7+0SFvouXe2eNxBbIxwI2oiiqOKHlqcgvTPTXuDWuc4ntaCTXIpPJAN2KrcGq/ks11HqhDjiY7qbX7yFbHBXSVeTkA2NwazrEmoP7WDtiHDVedM9Mio83O/LInKLpDRmz3lZUZIaaatqaHNAAUAPfhd3HxgXmcnKrDWhrQ1gDWAbNAoJAaGwo3RCWyTQuwgOBJA2I2orQNXOqyHawbI9BIRxYIHgpwNVYtHDdze/CmE2qO4Jvgjyls0QL+9IIN2Sa9+kgAoiyb8pTIdmEACr5KYSSKNWnnZpFE7qIkl3oBCqtFltfJjyxMkMb3tIDxy0+1jpOlc6TJPdM148yLaEgcC72ITaonagOAiD7SZJ5VeiaM3S2uuQve7lwVmN/AH2HCWkKwAaKqq7YpNsjhOuuaQNypkfkooA7I48koAG5HCSAhAJQa8coyKQQDWxNbmkIFXtzSglx6q4N0zIdzTCQsx0MIj1HGZNnVbFqNUjdLpmQ2J/aS0gLH9J23qPFAYH05Y8nttx+XsCyH1E30aL7yLXrIfUV1aTA3wZVmWj5T4DQ3T8ceowpzZKTCaRgY4Nk/GE4toroHqwTuYUoalpFHkqd1ZQSlJDQSTQAsk+AgBZ7qbVyxv8Pw7dkSmnKFA21gV0XBHINV6kfktFxRCgpNfyMZ8BxjcmRdxhqgY52nY8WBhtD82Vazp7puLAAyMqpcs8uK4nt23oCYYaPal0TU4dQxBouttIk4jc5GRoWr6Ke7TJDkY3hi0mt9P4urxb1HPy2Rqo2t6k0KLlubA1SI+WIo7G4o+o44z8edjyY8i58iWPqHW8XGx942Huc9Wp6q02chuqaa5j/bo0M6p0TF307AcZPHaxNoaCs5qaaz6p1MaRpAihr5ZR8caotGxBiYVur5ZB3PcuLVcTVM/Gk1nOuJsZuOJys46zdPbZLRI0AkGiNlnydAFtwAq1fqOpvlkOHg3JIdi4Kk1fThp4gs9xcCSVq8HT4MIVE23HlxXB1NB8mnd3JY5MMgQLTkwUVsm/wBCySaA9ra6JinF05jXCnO/cVndB085uUHvv441saAArYAUN9gAp5cjwqcGCdtkeqGBmpg/7QRomqyYs7YZnExOrnwjqeVrtSAaRTQqhzgRsTY3FBaBsBLLLJx5FGuepDJDqIe17qcAQu7p/VjOP007rkA/a5U2bljJwsYF1yR2CPJ9G1yQveJ2OgBMgIoAXZT8CaSfRHY2lkYybqvHDOQLcteXVZAtUXT+lyYvdl5lHKl/q0FXPcTyunjxQBuPlzMlSf8AICdwaSh7atRpAAOFpost0pl8AEWs8T8fXeGfLleVaoRUvXeKs+Q0WnG93oMguNw+xWR0OjiSfaUrXSbsI9grIaJQgyB6mKrxvdpn5ds8Ec8ToZBbHCiFQTQSQGTTZJCA8f4KRaMneguLVMMZmKasSsPcw8EEKeTAyKOLkcGyMuiR4QD8rL7fQCk0Zr53M+K5JXuLQ08EGtynz6hgZbmQ5sUglYe0q36JxB/EsqcCoYraxcu3Wm61B2RpuLq+NqU2PjyxtbFRcLsK7GsZOA/t1WMCLxOxc2rZDcLVo8nCe2aSc9j4WuFkhOnxM/WWfp8qEY2Ly83ZKlBNtTpNtxafiDK1nKlYRk4s9hxc7Zc0+NBjaqYMWR0kOO0k2bDSd6BST6UNM1H9MXyCN4Jjc0kGguMSkxZUeI2msBBJ5J8klZ5K9Fpx4AisxmLHNpEsj20QSQ7gkBdzMiRuTgxwxlrS0EkWQRW9oxpcWbS6BuJracLohcuia4wZhw3G4uInOW3Au0an+nE0JaYgWR90AJSKSEHel2bvPSr9Z2hh/wCM1aNrGyak9jhYdAAQs7qpIih+0zVbZs00erAwPa24RdhY8grotsEDbWUem4sbXNbCAHAAhVUmJIzIeGac0svZ3sBTtzcyqdIwk8ENpQTalkxPY10wBdwRHsPybVHBr/sYliyJ2W7TAZSAKPAA8Wlhjyoe8RYPaHCiPdjdRZGszQXeXGaIsBqmizc6QAnIYLFimIYrHIKfF06N8lz4bWLrZpWEwgthaKNhVcubqETS4zMIBHLV05mfO2WKKB7QSwOeSLolHFHU/RrdBkkA5HgfKAoi4NaTyeAB5KhEkj8eUzEOe6bcgUNrTMqQwMaQCXEggD7K4oLURUCmPcxzQ9tA7Ag8FSlgLT4NHdVb8o5kzCC1hYbJJrxVV5Vkx5c0kiiQbVeLNyHc5MDBAjGy3xQvjIDozx7BRLmDHiBkADXeb3SY7u1pAAJJ8hVWpYmS2UZBkMkYIPb6HoBWQDYU4qul1WYz4Z3iNrh31sCSNgpZ8qX42NJFDhUWVFkTy457TE99AF21q0dE+GFjHuc9w2JIVcNJ2U8prWm1RPFjdeW9f2Ncr5L/AGr1K62sfgry3r5la853dy1VPa9q+mrGgYxc8Sq0ANGvAurWd6W1XCg0aOOXIjicOWq3Gq6eS0jLiHeaabWomrJHfV1AlxFWK3P2QSCSXGweKC5JdX0+IuDs2JRyavp8URe7LjIAshqnZRpu0bgDg8GxwmCiSKsA1fkn7KvPUOlOaCcsAclqmh1HCygwxZUZ7jQ3AoezabJpjUs1mn4UuS8/3BQXnMbJdW1QuIsyvJNcAEq06t1kZmR+kx5Lgi/o5TdPvwsTFEksrGzPWXJkhot+LA3trprY8LEDBQjiYXAcWQsVky5Gr6gAwFz5HUxquuodVjEJxMdwcTVuC6ejRpuA12ZnTRNn5jWOAgqW/LmdBbPQdNGmaTBjdoDw25PuVYEVR8c0FUO6o0dvOY1RN6t0Z0hb+qVUV8sN14XUCdzRogBG453s1sOFQt6w0bzkqN/WmkMBLZHOUflptEL/AP4Hav5paO1kWsueutLbP21IWeHpYut9NkfICHtYzYOUmLqjdpgeSeB5QLrj+YWYZ1zpRhMjhIDdBiceuNI7LuRPyk3aW7GwP4Iq0WVnR1tpJjv5HKU9YaQHsa2cuL1H5Zuvr2sUfujcjYfgqmn6n0iB7GuymuJT29S6RTT+ujtyaZutjtQIJ/HhJfoEqsHUelW8DLjpiaOpdIdF8gzW0n5ZusZ5W48MkzhQY0uJ/AXkORPJq2tF/Pe9bnXup9Nl0TIGLkh0r2lrQsNoUsMGeJZpQwNBWgILWx0pu6eqGluazkt+MAFUwaHAG7PG4Wk6gycXLwx8coL4zYas0x1EgkAFXweu63JrfTBiIuiCnNfMwgtJBHBBKd3AGrR3A+VKFmKeMPy8lwAfJIQOLJXdoGnHWNXigk7iwm5Cq2V1gALedARR4mLLkzyxMMpqNpdRQAeoqnbaZ2JHhxRxwACJo7e316KZQAFUa4N8rom1HTw50EmVECBZBcDQXAc3CEhjZlQu2sEkAALUf42GQ7pqI8mvflLdtJIregVzN1HEkmMLcmMyNFkAigpHZeOGlzsiKgCLDgQFfZV0lKCAKJJHseE4g2BVkb2OFWS63pcDQXZkbibFNUQ6i0oxh/6qh4ao2TS1wSS03sL3Pv8AkmucWECrNWAB49qqd1PpIfX6kd3ly539U6SAXNkkJTZHFrgvcCboECz9742QWl7Qdmmt6Nqvi6g0qVtsymsqhT0h6j0oPNZPBALlOyabrLS0kEAAcklFkbHcVYJO5VY7qrSZHNb3Sei5Mb1Lprn9r5CSDRchkf1ji1s4EVZAJ3/kggKuGu6c+IvGUBTgF3DIgc0ObNGQdwe4bhTsqIk4it+EooHk7rmfqOE3+/lxhA1DCdKIRlRl5FgXQITZTpumyOd0Akjjb2oY8rGfIY2TxueOQHCwifLxoGd008bRdbOBP9Bum5p/5TVW97HbdBAvyPvVrlfqWGyH5TkxlnAPNFQz67p0Hxl2R3A+GpsgNYIv0K2XANZ08vDBlMBTxquAZfjGXGXpsjixqo7tKyQASewrJ9GZBh6hx2hth7qWuy8rG/Syg5MQtpBIIJGyxvTkn6TqTG7ZKY5/aXLLPvu24zRq9hWQ+ogcdGjc3gSLXhZP6hWdEZ/xFmWl16e8y6fjv9xiwnkXZSaawN03HFUPjCnewHhbj1c6d0BYbQGkkD3wnEVyubUM2LTsV+RMaDQSB5J8AKdmtsBXVya7q0elYvud4qNqzEZOn4r87Kt2ZkE9gPItSxuORJJrGpjYf4pis+nNLm1jPGp5zagZvGxc2ee3X8LrwwOM2+tZdJaGcaMajlEnJlWpSAV4AA2AHhOWC7aFV2yICVCimgmxMecATQRvriwCmRafhwHuixo2nkENFrqSKdtGiousn105kqj0lpbpmP7LQV39fy1pMUPmWRVsWfiYkUWPJMA8NAI9GkyFxNXRwIKrq77pNkYyVhjeA4OFEHghMjyIZRbJWOH2IUGpZ8eBimQm3kU1oNkkrEFQPbpcgFXZMycrE0qADZvgMauWGDVtbNi8TFXRoGiOyXDUtT/cXbxsWpADQAAGgCgBsAu3j4Q0vbefy86ujoKgxuktPi3m7pn+3LuGiaYG1+jjVgRYRRFgrcA6C5VXtapydHwosaQ4+DE6SiQ1UTZ8iB1Y+jxQS+XuWvkNH7FVWo6VDqEofLJIKFU0kAhWTflBlr2ZpMGUyN0mXkCV8hsAGw0KxCjggZBE2JgIY0UATalpWDRUXbuS62SopCmSEXsqKF1deYyviL/oqBx7euMK2rLkeq/H7egyGo3E8AFZDRKOLKfcpWtnNQPPGxWT0NoGm37kKpx+2ufl3UFI2lHRTi9sUZkeQGNBJJNUtXzuxO3Vk8/Ahj1rKme26aHsCZnZcmFi4+n4znRiVolkc3l5K6Y55M/PlkijMkkw7I2+ABtZXbLpE2JBHFqMZmjbvHNELMS41FbtNADZaRphAkMcsRAtryCCD7teh6Xqob05Fm5TuGn8uVDKySeF0IzsZ8ThRMoIcAjKyI55cXT4QRhwtsO4D3AKqiVkFAYlyXzyv1PPPa0AiNnhoVBLrMmTkCGKINiLqpvLlaZ+LPnRSmb9sbQfjYPJHkqp6cwjNlfM4UyJVxTSvpa5CJidFaPjc/IjjixBC0jtlaHAgj3SmdoeGIyIo6kG4cqTWcp+NrTpIZCkl1WSPUGZMLyWOALmci/IpX/OSiOt1BwBE3bLSMo5WIQ//GxHsd7JHBXUGlVWhNc4z5ZaYxMQQ3zQCte83wCu3DaG/bz+TRkh5cOsjthh+8zV36o8xaj3hpdUIICr9ZcTjRfaZqtM41qcZ9whVd7N1jxsy7V82fPdGWSRRCwC1IMuQwkZGS6YkkBo4PrdWWq4gdG6RlgOFSBuxr2FSaTgDI1QY0LqhokOu6AWGaii3Th+UEDZd+DpmblPdGwN5BJPDbU4ycjCyHxPIlDCWk80QuzHmyMbFfHjvM8oJDmUN682FUzvjMTAWvbKAe8uNkkrMyR2NbX7QTqs4p5M+Eh0obI1wcAAdgOF0xgNJJJLnGy4mySqTELYc9kLZg0vAdRNlwrhXpFEWDa6+NE2+3LyjioeUMTC+MhoJuUkBTyw5OxbGA9vFnx6KZgvETDI/gTWaF1yuvLlhlmMgeQ0gAggjdZu0TXTWxDp33U0ulZL8psnwxx0bIbwSrMY+UGkiM0RyN/CA9j3kGYE0AQLulYx5uMzHIDiA0UQQSSaUChoKyC7WqY4pG2O4G9yCaoomZJK0NtgognfkAoklaLcTQcbBI4tIx7JWOog0diPK02OhbJEdh0NLqjJMiTHewAGIgnySKUcvySO3aBSZPlyQhn7QS6gTWwTsTNdMHERmwaKriOKha7E22oq1kesOmZNTrLxAXTgV2rYJKWeqbyCTpPWIm3+kcg9J6wGAjEfuV6+i1bbR1eTy9F6qyIObCXlB6K1kNsRtK9XpKm2nq8pyeitVjhEjIw6hZYuaPpTWiz5BiuC9epKm2dXjcvTGsMIBwpDali6U1Z76OM5evABLQUb37TvvZeQHpHWg8A4h3SjpHWH1WKvXaCWglD27vJY+jdYfzjBqmg6I1X5Klib2r1VJQSXmcH0/wA8uIlkjQfp7niUVNGQvTKBRQCS83k+nmXy2eNDPp5mcvy42r0igikl52fp3KDbctqg/sBnGC/kjEi9LoIoFJeXt6D1T3EifoLU2OqN0Ui9QoIoJTu8sb0FqvuJIehNX9RL1SglSi8og6G1eV1PayJI/ojVmysaI2uDuXL1hIkvJj0ZrHjHFhKOjNVOKZTjkSf7C9YSUPXPKjVIpeSno/Vg0E465o+mNXfxhyL2NCmjt9vIj0drLecVQf2Y1jxgyWF7Kikl48OktaLO8YhUf9ntXawSOxZQGuDV7MkoJLxw9PaxRkGJIQE7G6X1fKb3MxXBvty9goJU20aLyFvSeut4xHJR0proP+TSL11CnbNXj0PS2rygkYci6h0Tq5jDhGxeroTbT1eawdA5ksTDLIyJ6ZP0BqDLMMsci9NoIoJtnV5qPp9m02541wx9E6vJLRibGF6xQRQTbLzSPoDPuRrpI/Ha5En09zm0Y5Y3L0xCiXlcvQurM4Eb1wnpvWhL8YxJAvYaQp20aLxqDp7Vsh5jbiSW1SnpbWrYP0biXBev0BwEqbZovI3dJ61FRbjuJUUnTGtV3SY0i9hQm2aLx+PpnW3SiEYsga7yf7qkb0brPnHqivXEJtmrymXofVGt/YzuXLJ0tqsErI5MZ57vLV7AhRtmryYdG6y6Svgpq1nT3R8GnVPm1Nk/1a1a1FBTtmiQEEfalkfqNto8Pr5VsFX6tpcGq4hx8jcKKar07MxzgY9zx38YBBItSHMxmg3kR0OT3BVo+n2D4yZU89Aab5llVzLVm4C7u0ZmM802eM0LoELI6llN1rWxD8gGLj++CtA7oHTy+2TShRj6e4PnJlVclTRXwARajnEer6rFgtmZHixAF7luotQ03GhjhZlRAMAAohUY+nun+J5U9vQGmDmSVZ/jrW67krtrk61pjdzmxJg6h0rgZsarx0LpHp6UdD6P/u3qPwUbu8a/pXP66NSN1rTXcZsarD0Po/8Au3qM9BaT/wC1T5k3XY1PBJI/VxWDR/cEfxLB/wC1xcWf3BUh6C0n3KkPQOmeJJU/BN1P1XnxZ+uYeOyRpgjpyyuqsDNRlAcHtJsFb8dAaZ/vZVGfp7geJ5FYNM/XWrztriw215afsaVx01iDVNZjGVJccZ7nFxWsP08wPGRIj/o+xOY8uVqkDe4qmt1xM/GidTJowwCgA4bfblRieAtJE0ZA82FWN6AxOXZk6d/YHC8Zc61M0NWTxi73dp1DEBIOTGPe4TH6rgAf5XGuVn0/03/WklU56G0gjh6j9s+Z/WU5+F2guyoyCLBsKE6lgh1DKjT3dB6STzInnoXSPT1JyJR8z/sxmTA8EsmjIHJBCBkQXQmjJ/IUUnQGCf8AFZMrE1v0/wATzlyqfo0fO6jPCG2ZY6ursKN2ZjM2dPGONyQoj0Bh+MudDfp9p/L55XJ9GHGUwy8Y1U8ZvYbhUsrw3rTBka+w5W0nQOnk2yWULv0rpPT9MmEze6WXw56hz2aa2OGne68mFwvB4o2svoLSdNPoSFaeRvyRuaNiQQD+Qsth42s4ETsdmJHI0OJDi5VxQdtbIU0XeWgXewG93ws5q+ccyUY8FmEEAgcvKs82HXZ8Z8TcWNpcK7g5cmnaTq2FltmODG8sbTLcmeSmijjxBVr3p/SRp2N8kgvIkouKtyLFHcHkHyqYza/4xIB+XIMuvg/5Ljn8OXO4K7tVHtrCTT8OV/dJixE+y0Ws/wBSGOLUsKIdrGMaXKxGTrvnBg/lIs/reja3q0z5ZMeNttDWgOQwX2nFBG6DLGWEmRpFEkgiqXNhYsuo3+nH6bFBNuaKL1Vx9Ia2xwuO2+W9y1UY1VjGxx6bGxjQAAHK2HGDta/LzqaCZFomnxc44kPlz1yalpEPxg4sUbHtNgBoXeGa67jDib+XprsbXHbfpofz3Lp2eXImW97o8GF0GM1ryS7kg+D6XTS5TDrQ2ODGfw8pTDrXjBj/AJuVzkA1UcFdpQawax4j6maVbZ1v1JnoQgqsl07V80Mjlxo42h4JcHK1zgYc8Ocx5aYgLaLBIVFFErggiXPIWiGQvIDe0gk8UQs1FiTNhccIOiY4m3gEWPQKtcx0mZksg+KWPHBBe4Dcq8iy8aGEQtxpBG0AAFoIWPI7QC04xB3ZvS559LhyAZC4ykBl8gnkqpnlyZtSZAGlsYBJceXDySVpdenuCP8AQ4L3PDrNNAXDgtdlOMubiyRVsGDkrMFfOrcyAVe6mjzcIuBc0mYOLQ7y0jilrcd/yQxveKJAJC5Z8PEkYA3CcKIIIaAbUjZe1oAhk2AHC6eMMdq3Ly5ueutapYWl2LKWmiJdiqTKfmxZYje8yF5IHgAHhX2Mx4wJHOaWAyg/uFGt91zSY0eo5BuQRCIEBx5JKrmmlGtgomy5HN/RxNeyRxmO7u4bfgFdmLKZ4jI8kuAIPq6VdmwOdKzCZPfxmw4iwR9yujAgkxPkbM5pBFjtUca7d1uUANPdZOiY/GYS4WQAQfH3Ri4ULMaQiWgCSAuPKx5JRGYiboEtBoEKLFfIZXtLSIxYBPAI8JvvR7V1s3d0YBc1tggEGjvwkLomueGvG7iSC2qKYyWMZFOjLXEEA3t+VHcZe4iQHelOx7aA0av/2Q==\" width=\"400\" /></div>\n",
        "\n",
        "Minden hívásnál szükség esetén új \"példányok\" jönnek létre a lokális változókból, ezért egymást nem írják felül, nem lesz gond. Viszont el kell kerülni, hogy a \"végtelenségig\" hívja a függvény önmagát!"
      ],
      "metadata": {
        "id": "V0nIAxkoIU6-"
      }
    },
    {
      "cell_type": "code",
      "source": [
        "def rekFibonacci(n):\n",
        "  if n==0 or n==1:\n",
        "    return n\n",
        "  return rekFibonacci(n-2) + rekFibonacci(n-1)\n",
        "\n",
        "print(rekFibonacci(0))\n",
        "print(rekFibonacci(1))\n",
        "print(rekFibonacci(2))\n",
        "print(rekFibonacci(3))\n",
        "print(rekFibonacci(4))\n",
        "print(rekFibonacci(5))"
      ],
      "metadata": {
        "id": "YDjHMn4oI7S5",
        "colab": {
          "base_uri": "https://localhost:8080/"
        },
        "outputId": "6a1ae0dd-fa75-4ed4-a3d6-c55664134a28"
      },
      "execution_count": null,
      "outputs": [
        {
          "output_type": "stream",
          "name": "stdout",
          "text": [
            "0\n",
            "1\n",
            "1\n",
            "2\n",
            "3\n",
            "5\n"
          ]
        }
      ]
    },
    {
      "cell_type": "markdown",
      "source": [
        "A függvények értékül adhatók változóknak, tulajdonképpen új név adható a függvényeknek."
      ],
      "metadata": {
        "id": "1srbOOacKAEv"
      }
    },
    {
      "cell_type": "code",
      "source": [
        "def osszead(a, b):\n",
        "  return a+b\n",
        "\n",
        "def szoroz(a, b):\n",
        "  return a*b\n",
        "\n",
        "muvelet = osszead\n",
        "print(muvelet(2, 3))\n",
        "\n",
        "muvelet = szoroz\n",
        "print(muvelet(2, 3))"
      ],
      "metadata": {
        "id": "DXHQ6bTdJv9O",
        "colab": {
          "base_uri": "https://localhost:8080/"
        },
        "outputId": "48fe681c-7f3d-49b6-e32f-e110ba2e45d1"
      },
      "execution_count": null,
      "outputs": [
        {
          "output_type": "stream",
          "name": "stdout",
          "text": [
            "5\n",
            "6\n"
          ]
        }
      ]
    },
    {
      "cell_type": "markdown",
      "source": [
        "Függvények egymásba is ágyazhatók (nested functions), ha bizonyos részfunkciók elvégzésének módja nem tartozik a külvilágra:"
      ],
      "metadata": {
        "id": "OMKNa2s9LGJT"
      }
    },
    {
      "cell_type": "code",
      "source": [
        "def muvelet(a, op, b):\n",
        "  def osszead(a, b):\n",
        "    return a+b\n",
        "\n",
        "  def kivon(a, b):\n",
        "    return a-b\n",
        "\n",
        "  def szoroz(a, b):\n",
        "    return a*b\n",
        "\n",
        "  def oszt(a, b):\n",
        "    return a/b\n",
        "\n",
        "  muveletek = {\n",
        "      '+' : osszead,\n",
        "      '-' : kivon,\n",
        "      '*' : szoroz,\n",
        "      '/' : oszt\n",
        "  }\n",
        "\n",
        "  return muveletek[op](a, b)\n",
        "\n",
        "print(muvelet(2, '+', 3))\n",
        "print(muvelet(2, '-', 3))\n",
        "print(muvelet(2, '*', 3))\n",
        "print(muvelet(2, '/', 3))"
      ],
      "metadata": {
        "id": "b6SQWy1yKRU9",
        "colab": {
          "base_uri": "https://localhost:8080/"
        },
        "outputId": "4a772a25-7582-49b5-96c6-f73a0ac58181"
      },
      "execution_count": null,
      "outputs": [
        {
          "output_type": "stream",
          "name": "stdout",
          "text": [
            "5\n",
            "-1\n",
            "6\n",
            "0.6666666666666666\n"
          ]
        }
      ]
    },
    {
      "cell_type": "markdown",
      "source": [
        "Zárványok: a visszadott belső függvény \"emlékszik\" arra a környezetre, amiben létrehozták, azaz ebben az esetben a *kitevo* változó értékére, ezért hívásakor már elég csak az alapot megadni.\n",
        "\n",
        "Ha van egy változónk, amit nem akarunk minden hívásnál újra és újra átadni, de a globális változók használatát is el szeretnénk kerülni, jól jön ez a lehetőség."
      ],
      "metadata": {
        "id": "5CGs7d-FM5u-"
      }
    },
    {
      "cell_type": "code",
      "source": [
        "def hatvany(kitevo):\n",
        "  def belso(alap):\n",
        "    return alap**kitevo\n",
        "  return belso\n",
        "\n",
        "negyzet = hatvany(2)\n",
        "kob = hatvany(3)\n",
        "print(negyzet(3))\n",
        "print(kob(3))"
      ],
      "metadata": {
        "id": "Pst4X4EXLpVz",
        "colab": {
          "base_uri": "https://localhost:8080/"
        },
        "outputId": "67f1df5f-06d4-4c84-b67b-9f504e7f09f8"
      },
      "execution_count": null,
      "outputs": [
        {
          "output_type": "stream",
          "name": "stdout",
          "text": [
            "9\n",
            "27\n"
          ]
        }
      ]
    },
    {
      "cell_type": "markdown",
      "source": [
        "## Függvények dokumentálása\n",
        "[Type hinting](https://peps.python.org/pep-0484/): megadható a függvények paramétereinek elvárt típusa és a visszatérési érték típusa is:"
      ],
      "metadata": {
        "id": "DiKhVl_sq0vf"
      }
    },
    {
      "cell_type": "code",
      "source": [
        "def fibonacci(n: int) -> int:\n",
        "  a = 0\n",
        "  b = 1\n",
        "  for i in range(n):\n",
        "    a, b = b, a+b\n",
        "  return a\n",
        "\n",
        "print(fibonacci(4))"
      ],
      "metadata": {
        "id": "bKnBVOq8WQeQ",
        "colab": {
          "base_uri": "https://localhost:8080/"
        },
        "outputId": "3f242985-7ff2-489f-9980-95f6c62e46b1"
      },
      "execution_count": null,
      "outputs": [
        {
          "output_type": "stream",
          "name": "stdout",
          "text": [
            "3\n"
          ]
        }
      ]
    },
    {
      "cell_type": "markdown",
      "source": [
        "Bonyolultabb esetekre használható a [typing](https://docs.python.org/3/library/typing.html) könyvtár.\n",
        "\n",
        "Docstring: minden beépített függvény, objektum rendelkezik egy rövid ismertetővel, amit a *help()* függvénnyel olvashatunk, pl.:"
      ],
      "metadata": {
        "id": "QcUx3va6ZttH"
      }
    },
    {
      "cell_type": "code",
      "source": [
        "help(min)"
      ],
      "metadata": {
        "id": "7dx-YtxKZ6Mk",
        "colab": {
          "base_uri": "https://localhost:8080/"
        },
        "outputId": "0ec48af3-af03-41ed-94d6-ec460d108429"
      },
      "execution_count": null,
      "outputs": [
        {
          "output_type": "stream",
          "name": "stdout",
          "text": [
            "Help on built-in function min in module builtins:\n",
            "\n",
            "min(...)\n",
            "    min(iterable, *[, default=obj, key=func]) -> value\n",
            "    min(arg1, arg2, *args, *[, key=func]) -> value\n",
            "    \n",
            "    With a single iterable argument, return its smallest item. The\n",
            "    default keyword-only argument specifies an object to return if\n",
            "    the provided iterable is empty.\n",
            "    With two or more arguments, return the smallest argument.\n",
            "\n"
          ]
        }
      ]
    },
    {
      "cell_type": "markdown",
      "source": [
        "Hasonló dokumentációt mi is könnyen beépíthetünk saját függvényeinkbe. A szokásos elvárásokat a [PEP 257](https://peps.python.org/pep-0257/) rögzíti:\n",
        "- tripla idézőjelek közé kell tenni,\n",
        "- egy sor ne legyen 72 karakternél hosszabb,\n",
        "- legalább az egy soros összefoglalóból álljon,\n",
        "- az összefoglalót egy üres sor kövesse,\n",
        "- amit további, részletesebb leírás követhet,\n",
        "- amit ha megadunk, újabb üres sorral illik lezárni.\n",
        "\n",
        "A paraméterezés módját és a visszatérési értéket is szokás dokumentálni. Ennek több változata, stílusa is kialakult ([Google](https://github.com/google/styleguide/blob/gh-pages/pyguide.md#38-comments-and-docstrings), [reStructuredText](https://docutils.sourceforge.io/rst.html), [NumPy/SciPy](https://numpydoc.readthedocs.io/en/latest/format.html), [Epytext](http://epydoc.sourceforge.net/epytext.html)), melyet érdemes következetesen használni. Ez lehetővé teszi különféle dokumentáció generátor szoftverek (pl. [Sphinx](http://www.sphinx-doc.org/en/stable/), [Epydoc](http://epydoc.sourceforge.net/), [Doxygen](https://www.doxygen.nl/manual/docblocks.html)) alkalmazását, illetve a felhasználók számára ismerősnek, könnyen értelmezhetőnek tűnik. Az alábbi példa a NumPy/SciPy stílust követi.\n",
        "\n",
        "Az általunk készített fájlok elején is szokás dokumentációt elhelyezni, leírva benne a szkript feladatát, használatának módját, feltételeit, az elérhető függvények listáját és azok céljának vázlatos megadását."
      ],
      "metadata": {
        "id": "Q2DPaI6daB58"
      }
    },
    {
      "cell_type": "code",
      "source": [
        "def fibonacci(n: int) -> int:\n",
        "  \"\"\"A Fibonacci-sorozat elemeinek iteratív kiszámítása.\n",
        "\n",
        "  Parameters\n",
        "  ----------\n",
        "  n : int\n",
        "    A sorozat elemének indexe, nemnegatív egész kell, hogy legyen.\n",
        "\n",
        "  Returns\n",
        "  -------\n",
        "  int\n",
        "    A sorozat n indexű elemének értéke.\n",
        "  \"\"\"\n",
        "\n",
        "  a = 0\n",
        "  b = 1\n",
        "  for i in range(n):\n",
        "    a, b = b, a+b\n",
        "  return a\n",
        "\n",
        "help(fibonacci)"
      ],
      "metadata": {
        "id": "w6LcQvrYaHri",
        "colab": {
          "base_uri": "https://localhost:8080/"
        },
        "outputId": "3c65fb00-0e54-4e44-f7ae-3b180a06a421"
      },
      "execution_count": null,
      "outputs": [
        {
          "output_type": "stream",
          "name": "stdout",
          "text": [
            "Help on function fibonacci in module __main__:\n",
            "\n",
            "fibonacci(n: int) -> int\n",
            "    A Fibonacci-sorozat elemeinek iteratív kiszámítása.\n",
            "    \n",
            "    Parameters\n",
            "    ----------\n",
            "    n : int\n",
            "      A sorozat elemének indexe, nemnegatív egész kell, hogy legyen.\n",
            "      \n",
            "    Returns\n",
            "    -------\n",
            "    int\n",
            "      A sorozat n indexű elemének értéke.\n",
            "\n"
          ]
        }
      ]
    },
    {
      "cell_type": "markdown",
      "source": [
        "## Példák függvények alkalmazására\n",
        "\n",
        "### Integrálérték meghatározása közelítéssel [Forrás (51. old.)](http://www.informatom.hu/sze/01/LGB_SZ001/Algoritmusok_%C3%A9s_adatstrukt%C3%BAr%C3%A1k.pdf)\n",
        "\n",
        "Számítsuk ki egy $f(x)$ függvény adott $[a, b]$ intervallumon vett határozott integrálját!\n",
        "\n",
        "Osszuk be az $[a, b]$ intervallumot $n$ egyenlő részre, majd húzzunk az $y$ tengellyel párhuzamos egyeneseket ezekben az osztáspontokban. Kössük össze a szomszédos párhuzamosok és a függvény metszéspontjának pontjait!\n",
        "\n",
        "![kép.png](data:image/png;base64,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)\n",
        "\n",
        "Olyan trapézrendszert kapunk, amelynek területösszege a függvény határozott integrálját közelíti. A beosztást finomítva (pl. minden részintervallumot megfelezve), a trapézok területösszege a határozott integrál még jobb közelítését adja. A megoldás tehát úgy fogalmazható, hogy készítsük el azt a sorozatot, amely a finomodó beosztáshoz tartozó trapézok területösszegéből áll, ez a sorozat határértékben a keresett integrálértékhez tart, és ha két egymást követő területösszeg alig tér el egymástól (az eltérés abszolút értéke kisebb, mint $ϵ$), akkor a határozott integrál közelítéseként az utolsónak előállított összeget fogadjuk el.\n",
        "\n",
        "Formalizálva, ha az intervallumot $n$ egyenlő részre osztjuk, az $i$-edik\n",
        "osztáspontban felvett függvényértéket $y_i$-vel jelöljük, akkor a trapézok\n",
        "összege így írható fel:\n",
        "\n",
        "$T = h \\left( \\frac{y_0 - y_n}{2} + \\sum^{n-1}_{i=1} y_i\\right)$\n",
        "\n",
        "ahol $y_0$ az $a$-ban, $y_n$ a $b$-ben felvett függvényérték és $h=\\frac{b-a}{n}$."
      ],
      "metadata": {
        "id": "80oYuMbo-n2I"
      }
    },
    {
      "cell_type": "code",
      "source": [
        "from typing import Callable\n",
        "\n",
        "def f(x: float) -> float:\n",
        "  return x**2.\n",
        "\n",
        "# https://docs.python.org/3/library/typing.html#callable\n",
        "def integralKozelites(f: Callable[[float], float], a: float, b: float) -> float:\n",
        "  EPS = 1e-9\n",
        "  if a > b:\n",
        "    a, b = b, a\n",
        "  y0 = f(a)\n",
        "  yn = f(b)\n",
        "  terulet = (b-a) * (y0+yn)/2.\n",
        "  n = 2\n",
        "  while True:\n",
        "    elozo = terulet\n",
        "    hossz = (b-a) / n\n",
        "    terulet = (y0+yn) / 2.\n",
        "    for i in range(1, n):\n",
        "      terulet += f(a+i*hossz)\n",
        "    terulet *= hossz\n",
        "    n *= 2\n",
        "    if abs(terulet - elozo) < EPS:\n",
        "      break\n",
        "  return terulet\n",
        "\n",
        "print(f\"{integralKozelites(f, 0, 1):.9f}\")"
      ],
      "metadata": {
        "id": "pG2vMEoY-rU2",
        "colab": {
          "base_uri": "https://localhost:8080/"
        },
        "outputId": "40001147-7c49-43cc-8532-9db7ddc9c995"
      },
      "execution_count": null,
      "outputs": [
        {
          "output_type": "stream",
          "name": "stdout",
          "text": [
            "0.333333333\n"
          ]
        }
      ]
    },
    {
      "cell_type": "markdown",
      "source": [
        "Ellenőrzésként számítsuk ki analitikus módon a következőt: $\\int^b_a x^2 dx = \\left[ \\frac{x^3}{3} \\right]^1_0 = \\frac{1^3}{3}-\\frac{0^3}{3} = \\frac{1}{3}$\n",
        "\n",
        "![kép.png](data:image/png;base64,iVBORw0KGgoAAAANSUhEUgAAAr4AAAHdCAYAAAD7D3ocAAAABHNCSVQICAgIfAhkiAAAIABJREFUeF7t3Ql8VeWZ+PEnJCEJkAXCLhjCEgRUcCkuVUFtXVoVtLWtXVzamXbaqVOcmbbzbzsjdrrNdBGcLtNOW3FfqhXq2kUJrrWKgMi+hX2HAGFJcpf/+96Qe87NenPvufe+57y/8/nwEe45532f5/te5fHkPe+bF1WHcCCAAAIIIIAAAgggEHCBXgHPj/QQQAABBBBAAAEEEIgJUPjyRUAAAQQQQAABBBCwQoDC14phJkkEEEAAAQQQQAABCl++AwgggAACCCCAAAJWCFD4WjHMJIkAAggggAACCCBA4ct3AAEEEEAAAQQQQMAKAQpfK4aZJBFAAAEEEEAAAQQofPkOIIAAAggggAACCFghQOFrxTCTJAIIIIAAAggggACFL98BBBBAAAEEEEAAASsEKHytGGaSRACBtgKzZ89u+xF/RgABBBAIuEBeVB0Bz5H0EEAAgQSBuro6qa6uloMHD0pFRQU6CCCAAAKWCPDE15KBJk0EEHAE5syZE/vDvHnzYEEAAQQQsEiAJ74WDTapIoBAi4B+ynvo0CEZNWqUbNq0CRYEEEAAAUsEeOJryUCTJgIItAjMnz8/VvTqQ095qK2thQYBBBBAwBIBCl9LBpo0EUCgRaDt9Ia2f8YJAQQQQCC4Akx1CO7YkhkCCLQRqK+vl/79+7dz4SW3diR8gAACCARSgCe+gRxWkkIAgY4E3E93y8vL45fw1LcjLT5DAAEEgifAE9/gjSkZIYBAJwL6ZbbNmze3OztlyhRZsmRJu8/5AAEEEEAgWAI88Q3WeJINAgh0IrB06dIOi159uT6nf3EggAACCARbgMI32ONLdgggcFKgde3ezkC6O9/ZfXyOAAIIIOAfAaY6+GesiBQBBFIU0C+16Z3a9D9POeUU2b59e7ylAQMGyIEDB2I7uOk1fdnJLUVkbkMAAQR8IMATXx8MEiEigEB6AnrtXl306uOGG25IaOy8886L/Vmf19dxIIAAAggEV4DCN7hjS2YIIHBSwL1qw/XXX5/gMnXq1Pif586dixkCCCCAQIAFKHwDPLikhgACLbuzLVq0KEYxbdo0GTFiRAJLZWWlzJgxI/YZL7nxjUEAAQSCLUDhG+zxJTsErBdwP+299dZbO/Rwf86avh0S8SECCCAQCAEK30AMI0kggEBnAq2FrN6worPCd+bMmVJVVRVr4r777uusKT5HAAEEEPC5AIWvzweQ8BFAoHMB/bJa64YVurjt6mgtivVLbjz17UqKcwgggIB/BSh8/Tt2RI4AAt0IuFdpmDVrVpdXu58G89S3SypOIoAAAr4VoPD17dAROAIIdCdQW1sbu2Ty5MmityXu6tDbGeuX3/TRel9X13MOAQQQQMB/AhS+/hszIkYAgSQFZs+eHStm9T+TOfTubfr6O++8M5nLuQYBBBBAwGcC7NzmswEjXAQQSE9g3bp1UlNTE2/knnvukdtvvz29RrkbAQQQQMAXAjzx9cUwESQCCCCAAAIIIIBAugIUvukKcj8CCCCAAAIIIICALwQofH0xTASJAAIIIIAAAgggkK4AhW+6gtyPAAIIIIAAAggg4AsBCl9fDBNBIoAAAggggAACCKQrQOGbriD3I4AAAggggAACCPhCgMLXF8NkYZD1q0X2L7UwcVJGAAE/Cegtrq+//nrJy8uL/brttttEf5bycWK/yM5FKd/OjQgg0LUAhW/XPpzNhcCKn4s8PkHkybNE3vlOLiKgTwQQQCApAb3pyYwZM2ThwoVy7733ylNPPZX0hintOmjYKnL/QJGnp7f896/dBXyAAALpChSk2wD3I+C5wO7XnCbfmyty9rc874IGEUAAAS8EKioq5NZbb403tXTpUrnvvvtEF8Q9Plb8j3NL7CdeUfUrr8fNcAMCCHQuwBPfzm04kyuB0mqn5xP7RPa+natI6BcBBBDoUmDWrFkJ52fOnCnl5eVd3tPpyfWPOKf6jlC/p+jt1IoTCKQoQOGbIhy3ZVDg1A8lNr7luQx2RtMIIICAdwK1tbUJT4CTbnnfOyJHtzmXj/tM0rdyIQIIJC9A4Zu8FVdmS2DwBSKFZU5vWyl8s0VPPwggkLqAfqlNF75tnwIn1eLGJxIvG/3RpG7jIgQQ6JkAhW/PvLg6GwLqzWg59cNOT3veFGk6lI2e6QMBBBBIWUAXvHpur5732+Nj3QPOLXqaw8Cze9wENyCAQPcCFL7dG3FFLgTaTnfY/HQuoqBPBBBAICmB+fPnx570TpkyJanrEy468G7iNIexN/W8De5AAIGkBCh8k2LioqwLVF2b2CXzfLM+BHSIAALJCeiVHPThLnp7tJZv22kO1UxzSE6eqxDouQDLmfXcjDuyIdBbvRU9+DwRPc1BH1ueVSv7qKV99DQIDgQQQMAQAV303nHHHTJ9+nRZtmxZLCpd9E6ePDn5l9zWP+xkUzJY/bdvqiHZEQYCwROg8A3emAYno5FqdYfWwrf5sPr9GyJDLgxOfmSCAAK+FtAF7uzZs9X/k0djG1i4jzvvvDO53A6uFDm8wbl27KeSu4+rEEAgJQEK35TYuCkrAnqe72LXXx5bnqfwzQo8nSBgn4B+cquf2Op/6l933313wtQF/dldd90Vg9E7tOkX2PQvPbc3raPtNAdWc0iLk5sR6E6AOb7dCXE+dwKDzhUpVtt3th4sa5a7saBnBAIuoAvbqqoq2bRpU2xJMj19ofWYN2+enHXWWbEiV/9qndPrCckm1zJmsWkOajlHDgQQyJgAT3wzRkvDngjoZc3W3tfSlF7g/fhekZJBnjRNIwgggECrQOu2w3qurn5JTRe/eiqDLnL1EmUHDx6Uurq62OUprdzQEfWh9SIHljtnRn+c9xg6cuIzBDwU4Imvh5g0lQEBPc/XfWx5JgOd0CQCCCDgCLQWwa1LlOkiWE9r0AWvZ0Wv7m7jY4nsTHPga4hAxgV44ptxYjpIS2DklYm362XNxt+WVpPcjAACCHQloJ/66uO2226LvbSW0oYUXXXQes49v7e32vRi6MXJ3MU1CCCQhgBPfNPA49YsCOhlzYZe5HSk5/lGwlnomC4QQMBWAf1Ut7y8PFbwthbBnls0bBXZ37L+b6xtvWkFyzV6zkyDCLQVoPBtK8KfzRNwT3cIHRPZ/ap5MRIRAggESmDUqFHxOb4ZScy9dq/ugGkOGWGmUQTaClD4thXhz+YJtN2+WG9mwYEAAghkSECv4tB66Pm9GTk2/s5pNjbNYVpGuqFRBBBIFKDw5RthvkDlZJE+w5w4Nz9tfsxEiAACvhTQKznoYlev5KCPjBS+eprDvsWOz5iPifTK96UXQSPgNwEKX7+NmK3xjprpZF6/Wu10tMlWCfJGAIEMCsyaNSu2G1vr3N5FixbFe3M/CU4rhHUPJt4+Ri1jxoEAAlkRoPDNCjOdpC1QdW1iE5sXpN0kDSCAAAL6ie7cuXNj83l1watfbNPze/UxefLk2Oetm1bo33tybHzcaUZPcxh2qSfN0ggCCHQvQOHbvRFXmCAw/HKR/BInEqY7mDAqxICA7wX0E179q7q6OrZBhf596+Fe1kwXxe5zKSeuN61IWM3hk6zmkDImNyLQcwHW8e25GXfkQiC/t4he07dufkvvO2tFmg6J6OXOOBBAAIEUBXQxq6cwzJw5s11hq4tdXQzrJ8D6954cGx5NbEbP7+VAAIGsCVD4Zo2ajtIWOPUap/CNRkS2/lGEvzTSZqUBBGwW0Lu0te7U1tZBr+Orpzl4erinOZQMVqs5XOJp8zSGAAJdCzDVoWsfzpokMGpGYjRbWN3BpOEhFgQQ6EZAT3M4sNy5aLR6qY1NK7pB4zQC3gpQ+HrrSWuZFCgeKDJoqtND3R9EotFM9kjbCCCAgHcC6x9KbIvVHLyzpSUEkhSg8E0SissMEXCv7tB8mF3cDBkWwkAAgSQE1j3gXKSnOQy5MImbuAQBBLwUoPD1UpO2Mi/QblmzZzLfJz0ggAAC6QocXKHWH9/gtDL2U0xzSNeU+xFIQYDCNwU0bsmhALu45RCfrhFAIGWBDY8l3sqLuSlTciMC6QhQ+Kajx725ERh1vdNv/Sp2ccvNKNArAgj0RGD9w87VfUeIDD6/J3dzLQIIeCRA4esRJM1kUaDddAf1khsHAgggYKrAgXcTpzmM+YSpkRIXAoEXoPAN/BAHMMHhl7GLWwCHlZQQCKxAu2kOahkzDgQQyIkAhW9O2Ok0LYHYLm5XOU3sXCgSOpZWk9yMAAIIZExg7f1O03qaw6BzM9YVDSOAQNcCFL5d+3DWVAH3dAe9i9tmNrMwdaiICwGrBfYtFjm6zSEY92mrOUgegVwLUPjmegToPzWBtvN86xak1g53IYAAApkUWP9IYuvM782kNm0j0K0AhW+3RFxgpIDexW3oRU5oW54ViYSNDJWgEEDAUgG9s6R7mkNptYhekpEDAQRyJkDhmzN6Ok5boGqG04TexW3HS2k3SQMIIICAZwK7XhY5sddpbvxtnjVNQwggkJoAhW9qbtxlgkD1RxKjqJtvQlTEgAACCLQIuNfu1Z/o3do4EEAgpwIUvjnlp/O0BMrUjw0rJjpN1D2VVnPcjAACCHgmoKdebXjcaW7Q+0TKRnvWPA0hgEBqAhS+qblxlykCo1zTHY7tFNn7timREQcCCNgssO0FkaZ6R2DsJ23WIHcEjBGg8DVmKAgkJQF34asbYHWHlBi5CQEEPBZoN82BwtdjYZpDICUBCt+U2LjJGIHB54kUVTrhbGZZM2PGhkAQsFUgdEJk05NO9nq3yZLBtmqQNwJGCVD4GjUcBJOSwOiPOrcdWC5yeFNKzXATAggg4InAZvWibbjRaWrsTZ40SyMIIJC+AIVv+oa0kGuBttMd9F86HAgggECuBNybVuQViLBpRa5Ggn4RaCdA4duOhA98JzD8cpH8EifsTRS+vhtDAkYgKALNDSJbnnOyOfVDIoX9gpIdeSDgewEKX98PIQlIfm+RqmsciNii8fuAQQABBLIvsOFRkWjI6ZfVHLI/BvSIQBcCFL5d4HDKRwLuXdx02Juf8VHwhIoAAoERcE9zyC9S/1PuWnIxMEmSCAL+FaDw9e/YEblbQD/xzXN9nVndge8HAghkW+D4nsSt06vVi7cFxdmOgv4QQKALAQrfLnA45SOB3uUiwy51At6qFo8PHfdRAoSKAAK+F1j/UGIKrObg+yElgeAJUPgGb0ztzaj6eif3sFpHc+vz9lqQOQIIZF9g7QNOn/p/xkdenf0Y6BEBBLoUoPDtkoeTvhKoviExXPcC8r5KhGARQMB3AvWrRfYvccIe9+nE6Ve+S4iAEQimAIVvMMfVzqz6DBMZfIGT++an1SLyTXZakDUCCGRXYO39if2N+0x2+6c3BBBISoDCNykmLvKNwOiPOKE2HxHZ/hffhE6gCCDgU4FoVGTtPCf40lHqf8LVduocCCBgnACFr3FDQkBpCVS7Cl/dENMd0uLkZgQQSEJArx1+bKdzYc1tSdzEJQggkAsBCt9cqNNn5gT0k5bKs5z269QubpFw5vqjZQQQQGDdg4kGTHPgO4GAsQIUvsYODYGlLOCe7tB4QGTXopSb4kYEEECgS4FIs8j6h51LhlwoUlbd5S2cRACB3AlQ+ObOnp4zJaAXjXcfm36fqZ5oFwEEbBfY/Ae1ZvgxR0Gv5sCBAALGClD4Gjs0BJayQMV4kYoJzu0bnxTRL59wIIAAAl4LuNfuzSsQGXOT1z3QHgIIeChA4eshJk0ZJOB+ye34LpE9fzUoOEJBAIFACDTWi2x51knl1A+LFFUEIjWSQCCoAhS+QR1Z2/NiMwvbvwHkj0DmBTY8qn6aFHL6YZpD5s3pAYE0BSh80wTkdkMFBqqVHfpVOcFtfMLQQAkLAQR8K+BezaGgj8ioGb5NhcARsEWAwteWkbYxz9E3Olk3bBbZ59pO1EYPckYAAe8Eju4Q2f2a097YT4r0KvSufVpCAIGMCFD4ZoSVRo0QaDfdgae+RowLQSAQBIHVv07MgrV7gzCq5GCBAIWvBYNsbYpDLhApGeqkv+FxaylIHAEEPBZYe6/TYJ9hIkMv9rgDmkMAgUwIUPhmQpU2zRFwT3c4vF5k/zJzYiMSBBDwp8CuV0SO1Dmxj/+sSF6eP3MhagQsE6DwtWzArUt3zMcSU97IU1/rvgMkjIDXAmvuS2xx/Oe87oH2EEAgQwIUvhmCpVlDBIa8X013GOIEw3QHQwaGMBDwqUDohMiGR5zg2aLYpwNJ2LYKUPjaOvK25K1//Djm4062THewZeTJE4HMCGxSO0G6tyiuuSUz/dAqAghkRIDCNyOsNGqUwGimOxg1HgSDgJ8F1rqmOeQXiYz9lJ+zIXYErBOg8LVuyC1MWP8okukOFg48KSPgsYBeu3f7n51GR10vUtjX405oDgEEMilA4ZtJXdo2QyA23eETTixMdzBjXIgCAb8JrLs/MeLxt/otA+JFwHoBCl/rvwKWALRb3eF3liROmggg4JnAql86TRUPFDnlCs+apiEEEMiOAIVvdpzpJdcC7aY7PJbriOgfAQT8JLDnzTZr96olzFi7108jSKwIxAQofPki2CMw9pNOrkx3sGfcyRQBLwTcL7Xp9pjm4IUqbSCQdQEK36yT02HOBNy7uOkgNjLdIWdjQccI+Ekg0iyy/mEn4kFTRSpO81MGxIoAAicFKHz5KtgjMOSCNqs7MN3BnsEnUwTSEKibL9J0yGmAtXvTwORWBHIrQOGbW396z7aAe81NPd1h35JsR0B/CCDgN4E19zoR5xWotXtd06b8lgvxImC5AIWv5V8A69Ifc2Niyu6tR63DIGEEEOhW4NhOka0vOJeNmilSVNHtbVyAAAJmClD4mjkuRJUpgcHni/Qd4bS+/pFM9US7CCAQBIE1v1VZRJ1MTvtsELIiBwSsFaDwtXboLU583Ked5I9uE9n1msUYpI4AAl0KrPqVc7pkqMiIK7u8nJMIIGC2AIWv2eNDdJkQGHtTYqtMd8iEMm0i4H+BHbUiDVucPE77O7V2L39t+n9gycBmAf4Ntnn0bc19wJkiZWOc7Nc9JBIJ26pB3ggg0JlAbJqD69CFLwcCCPhagMLX18NH8CkLjL/NubWpXmTHiyk3xY0IIBBAgeajIhtcSx4Ov0yktCqAiZISAnYJUPjaNd5k2yow7uZEiw2PYoMAAgg4AusfVD8JanL+fJraopgDAQR8L0Dh6/shJIGUBPqNFBl8nnOr3sVN787EgQACCGiB1b9xHArLRKo/ggsCCARAgMI3AINICikKjHG95NbcILLl2RQb4jYEEAiUQP1akb1vOSnVfEYkvyhQKZIMArYKUPjaOvLkLTLmE4kKrOnLtwIBBLTAql8kOkz4Ai4IIBAQAQrfgAwkaaQg0GeIyPDLnRs3/0EkdDyFhrgFAQQCI6CnPK12reZQeZbIgDMCkx6JIGC7AIWv7d8A2/N3r+kbPiFS95TtIuSPgN0CdQtEmg87BrzUZvf3gewDJ0DhG7ghJaEeCYz+mFqQvsC5hekOPeLjYgQCJ+Beu7dXbxH3To+BS5aEELBPgMLXvjEnY7dA71KRUz/sfLL1OZHGgxghgICNAsd2iWx93sl89I0ivcttlCBnBAIrQOEb2KElsaQF3NMdohERnvomTceFCARKYGWbl9qY5hCo4SUZBLQAhS/fAwSqZogU9HUc1j2ACQII2Cag/6d31S+drPuqtb6HTbdNgXwRCLwAhW/gh5gEuxUoKBbRP9JsPfb8VeTwxm5v4wIEEAiQgF7H+/huJ6HTv6zm/+cFKEFSQQABLUDhy/cAAS3Q9gWWdffjggACNgm4n/bm5YuMZ4tim4afXO0RoPC1Z6zJtCuB4ZeJFA9yrlhL4dsVF+cQCJSAfqlti3qxtfUY/VH134PKQKVIMggg0CJA4cs3AQEtoH+kOf42x+LIJpHdb2CDAAI2CKz6X5Vl1MmUndpsGHVytFSAwtfSgSftDgRqbkn8cN2DHVzERwggECgB/VLbSl34njzKxqgdHS8NVIokgwACjgCFL98GBFoF+k9UW5NOdjzWPyyity/lQACB4Aq0falt4heDmyuZIYAAL7fxHUAgQaDmM84fm+oTF7OHCgEEgiew6ldOTvqltppbg5cjGSGAQFyAJ758GRBwC4xzFb7687Ws6csXBIHACsRealPLmLUeYz7OS22BHWwSQ6BFgMKXbwICboGSwSKnfND5pG6+SHMDRgggEESB2BJmvNQWxKElJwQ6E6Dw7UyGz+0VcE93iIZENjxqrwWZIxBUgdhLba4tivVLbcMuCWq25IUAAicFKHz5KiDQVqBa7eKWX+R8ypq+bYX4MwL+F9jyTOJObZP+0f85kQECCHQrQOHbLREXWCegtzCuVgvYtx67XlFbGKt1fTkQQCA4Ait+7uTSqzc7tQVnZMkEgS4FKHy75OGktQJt1/Rd81trKUgcgcAJNGwV2fZHJ60xnxDpXRa4NEkIAQTaC1D4tjfhEwTUC24fEOkzzJFY8xv1DozrJRiMEEDAvwLL5yTGzjQH/44lkSPQQwEK3x6CcbklArEtjD/nJHtsp8iOFy1JnjQRCLBAuFFk9f85CVZOERk8NcAJkxoCCLgFKHz5PiDQmcD4zyaeWTOvsyv5HAEE/CKgd2RsPuJEe/pX/BI5cSKAgAcCFL4eINJEQAXKqkWGupY32vSE+gvzaECTJS0ELBF47x4n0cJSkbE3WZI4aSKAgBag8OV7gEBXAuNvc87qH5Hqp0UcCCDgT4E9fxPZv9SJfcIXEpcu9GdWRI0AAj0QoPDtARaXWiig3/Yu6OMkvuZeCxFIGYGACKx0LWGmUzr9nwKSGGkggECyAhS+yUpxnZ0Cek3fMR93ct/zBmv62vlNIGu/C5w4INH1j8SzODZUbU3eb6TfsyJ+BBDooQCFbw/BuNxCgbYvubnfCLeQg5QR8KWAWpIwL9IUD/07+87xZRoEjQAC6QlQ+Kbnx902CAy9SKR0lJPp2nms6WvDuJNjcAT0Gtyul9p2RPrLU0fHBCc/MkEAgaQFKHyTpuJCqwVO+3snfb2m77YXrOYgeQR8JbD1WZGj2+Ihzwtdqn6v1urmQAAB6wQofK0bchJOSaDm1sTbVrkWwE+pQW5CAIGsCSx3ljBrjBbIw80XZ61rOkIAAbMEKHzNGg+iMVWg73CRkVc70dXNFzmxz9RoiQsBBFoFDq4S2f7nuMf80FRpkBJ8EEDAUgEKX0sHnrRTEJjgmu4gas7gmt+m0Ai3IIBAVgXcG1aojn/VrFZz4EAAAWsFKHytHXoS77FA1QyRokrnthU/63ET3IAAAlkUaFJbE6+9L97hjsKRsiE6LIsB0BUCCJgmQOFr2ogQj7kCeepfF/dT34YtIjsXmRsvkSFgu8CqX4qEj8cV3i0513YR8kfAegEKX+u/AgD0SGDCPyRevvrXPbqdixFAIEsC0YhawmxOvLNoYYnU9R6bpc7pBgEETBWg8DV1ZIjLTIHSKpHhlzuxbXhcpOmQmbESFQI2C2xeoJYw2x4XCA+coFYwYwkzm78S5I6AFqDw5XuAQE8F3NMd9E5Q6x7oaQtcjwACmRZYPjfeQzQvX0KVPO3NNDntI+AHAQpfP4wSMZolUH1D4ktuK9U8Qg4EEDBHQC9h5pp/H6lUu7TlF0qvPDX94eTRi6e/5owXkSCQRQEK3yxi01VABHoVitTc4iRz8D2RvW8HJDnSQCAAAu/+KJ6EWnhQQgNPi/15Ut+j8c8nDx0cgERJAQEEeipA4dtTMa5HQAtM+EKiw2p2cuOLgYARAicOqOlHD8ZDiZYOl2hRaezP55QdlnvGr5RZ59bIL65hPV8jxosgEMiyAIVvlsHpLiACFTUiQ13bnq5V83xDxwKSHGkg4GOBlT8X0XPvTx6hQeMTkrmicr985dxxUl5c5OMkCR0BBFIVoPBNVY77EHC/5KbXCnUtlA8OAgjkQCCsCl7XTm2R3v0k0o8NK3IwEnSJgLECFL7GDg2BGS8w+mMihWVOmCt+anzIBIhAoAXWqykOJ/bGUwwPYgmzQI83ySGQggCFbwpo3IJATCBf/ah0/G0OxsGVIrteBQcBBHIlsPS/4j1H83tLeMDoXEVCvwggYKgAha+hA0NYPhGY9OXEQFf+wieBEyYCARPY+oLIobXxpMKVah5+r4KAJUk6CCCQrgCFb7qC3G+3QLlaFP+UDzgGGx5TP2rdb7cJ2SOQC4F3fxLvNZrXS9q+1JaLkOgTAQTME6DwNW9MiMhvApO+5EQcDYuwtJnfRpB4/S5Qv0Zk+5/jWUT6V4sUFHeYVWMkT7YdUS+jciCAgJUCFL5WDjtJeypQNUOkZIjT5Aq1nFJUL5vPgQACWRFY+v14N7ENKwZP7LDbbSeK5fLFU+Xih16S77781w6v4UMEEAi2AIVvsMeX7LIhoH6sKu65vke3imx9Phs90wcCCBzfk7hhRdkpasMK12orLqFFB/vLvubesU8eX7EaOwQQsFCAwtfCQSflDAhM/KJIXr7TsF5EnwMBBDIvsHyO+gmLmmJ08gjpJcw6OZqjzl95TSHnnk4u52MEEAigAIVvAAeVlHIgUFwpMvpGp+Mtz4o0bMlBIHSJgEUCITVX17WSSqS4XG1Y4Zp2ZBEFqSKAQHICFL7JOXEVAt0LuF9y01eztFn3ZlyBQDoCa34j0lQfbyE85PR0WuNeBBCwQIDC14JBJsUsCQy9WKS/66WaVb8UCTdmqXO6QcAygWhEZNkP40lHC0okXF5lGQLpIoBATwUofHsqxvUIdCUw6XbnbONBkfUPd3U15xBAIFUBvWa2azpRbCWHvLxUW+M+BBCwRIDC15KBJs0sCdTcLFJY6nTmeiKVpQjoBgE7BJZ8J55ntFehhCvVZjIcCCCAQDcCFL7dAHEagR4JFPQRmfB555b6VSI7X+7wUUAvAAAgAElEQVRRE1yMAALdCGx5TuTgyvhF4cGnsT1xN2ScRgCBFgEKX74JCHgtcPpXVIuuH7kun+t1D7SHgN0CS38Qzz+qlhEMDVSFLwcCCCCQhACFbxJIXIJAjwT6jRQZNdO5pe4pNRdRbWrBgQAC6Qvse0dk1yvxdsKV40TyWzalSL9xWkAAgaALUPgGfYTJLzcCZ+invq2H2kR1xf/kJg56RSBoAm/f6fybpXZN7Gx74qClTT4IIOCNAIWvN460gkCiwLBpIhWuHaRW/q9I6BhKCCCQjsChdSJbnom3EOlfrV4mLUm6xaFFzvKCp5T1S/o+LkQAgeAIUPgGZyzJxDSByV9zImo+IrLuAdMiJB4E/CXwzrfj8aqfo0hzDzesuLJyn3x8yA4ZWdZH5l59ub9yJ1oEEPBEgMLXE0YaQaADgbE3iRT1d07wklsHSHyEQJICx3aqdbEfiV8cqVCbVfTu2VNb/crpXWM2yMufvFQmDR6YZMdchgACQRKg8A3SaJKLWQL5RSKTvuzEpJc22/Zns2IkGgT8IrDkuyLRcDzaUA+f9volTeJEAIHMClD4ZtaX1m0XmPiPamWzfEdh+d22i5A/Aj0XOLFPZNWv4vdFSodLtLii5+1wBwIIWC9A4Wv9VwCAjAr0GSIy5hNOF1ufVwvvqye/HAggkLzAku+LRJrj14eGTEr+Xq5EAAEEXAIUvnwdEMi0gPslN93Xuz/MdI+0j0BwBPTT3pU/j+cT6VMpkb6Dg5MfmSCAQFYFKHyzyk1nVgpUniky/DIn9bX3ixzbbSUFSSPQY4Fl6n8Uwyfit4WGTulxE9yAAAIItApQ+PJdQCAbAlNcS5vpF3TeYxvjbLDTh88FGuvVvyv3xJOIPe0tHerzpAgfAQRyKUDhm0t9+rZHYMSVIuU1Tr56Jzc2tLBn/Mk0NQE9LSjhae/k1No5edfRcC/58uoJcslDC+WZtRvSaoubEUDAnwIUvv4cN6L2o8DZ33Kibm4QWf0bP2ZBzAhkR0A/7XWtfR0p7q+e9g5Lq+/n9g2SvxwYKFuPHJNv176eVlvcjAAC/hSg8PXnuBG1HwXGqA0t+gx3ItdLm0UjfsyEmBHIvID+9yN0NN5PaFj6c3uPhgvi7R1pbMp8DvSAAALGCVD4GjckBBRYgV7qL90z/9lJ78gmkU1PBjZdEkMgZQH9E5F3fxy/Pfa0t8z1P40pN8yNCCBguwCFr+3fAPLPrsBpnxcpdG2zuuxH2e2f3hDwg0Dbp71D1cooHAgggIAHAhS+HiDSBAJJC/QuFZn4JefyvX8T2VGb9O1ciEDgBZoOibj+hzD2tLd8RODTJkEEEMiOAIVvdpzpBQFH4Mx/SdzGeMn30EEAgVaBd38i0nw47hEaegY2CCCAgGcCFL6eUdIQAkkKlKhdp2pudi7e/meRvW8neTOXIRBgAf20911n+k+kqEzN7eVpb4BHnNQQyLoAhW/WyekQASUw+d8SGXjqy9cCAZEl309Y3zq2kkNeHjIIIICAZwIUvp5R0hACPRCoUJtZVH/EuaHuKZH6tT1ogEsRCJjAif1ql7Y58aQixeVqbu/IgCVJOgggkGsBCt9cjwD92ytwzuzE3Jd8x14LMkdAf//DjXGH0PBzMEEAAQQ8F6Dw9ZyUBhFIUmDA6SIjr3YuXv+wyJG6JG/mMgQCJHBsl8iKn8UTivQdlPYubQHSIRUEEPBQgMLXQ0yaQqDHAmd907klGlbLOP13j5vgBgR8L/DOt0UizfE0mjP0tLewl7NTYmE+f/35/ntDAgikIMC/+SmgcQsCngkMfb/IsGlOc6t/LXJ8r2fN0xACxgs0bBVZ9ct4mJHS4RLtU5mRsC8qPyj98kOxtmeeNi4jfdAoAgiYLUDha/b4EJ0NAu6nvvqp17s/tCFrckSgRWDxbJGo8yS2edhZGZOpKjkh86e8I49ed4F8+7KLMtYPDSOAgLkCFL7mjg2R2SIw4oMiA10v8qz4uUhjvS3Zk6fNAnolk7Xz4gKR8lMlWlKRUZERRY1y3vABGe2DxhFAwFwBCl9zx4bIbBI4+9+dbENHRZb+wKbsydVWgb99Pf60N6oMmodOtlWCvBFAIEsCFL5ZgqYbBLoUqLpOpP8k55L35oqc2NflLZxEwNcC+94RqZsfTyEyYLREi8t8nRLBI4CA+QIUvuaPERHaIKB3pzrnTifT8Am1wgNzfW0YemtzfO3L8dSjksfTXmu/CCSOQHYFKHyz601vCHQuUP1RkYoJzvn37uGpb+danPGzQN0Ckd1vxDMIDzpNpLCPnzMidgQQ8IkAha9PBoowLRDQT32nfs9JVD/1XfpfFiROilYJ6BUc3vxqPOVorwIJDTnDKgKSRQCB3AlQ+ObOnp4RaC8waqZI5RTn8xU/5alveyU+8bPA6t+IHFoXzyA89EyR/MKsZbTyaF95cs02aQypDWM4EEDAOgEKX+uGnISNF3jfd50Q9VPfJd83PmQCRCApgZD6Pr/l7FYYLSiR0MDxSd3qxUVLj5TKDcvOln9duEw+u+B5L5qkDQQQ8JkAha/PBoxwLRA49UMig89zEl2p1vVlhQcLBt6CFJf/RH2XnZ0JQ8PPFsnL3l9DyxpK48hLd+6xAJwUEUCgrUD2/ovTtmf+jAACnQuc+5/OudhTX9fc387v4gwC5gqcOJCwPnWkuL+E+4/KarzRqJpHf/KIRPXKwRwIIGCbAIWvbSNOvv4Q0Lu5tX3q27DNH7ETJQIdCSz+D7VDxZH4meYRUzu6is8QQACBjApQ+GaUl8YRSENgqmv3tnCjyOLZaTTGrQjkUODgSpGVv4gHECkdLtG+A3MYEF0jgICtAhS+to48eZsvMHy6yIgrnDjX/Fakfo35cRMhAm0FXvkH19bEarOKU85tewV/RgABBLIiQOGbFWY6QSBFgfN/5LpRzUn82/9LsSFuQyBHAlueEdn1SrzzSGWNRIucl8xyFBXdIoCApQIUvpYOPGn7RGCAWth/zE1OsHVPiex92yfBE6b1ApFmkddnxRmi+b3V1sRsVmH99wIABHIoQOGbQ3y6RiApAb2ur3vJJ1chkdT9XIRArgTe+x+RwxvivYf0ZhUFRbmKhn4RQAABofDlS4CA6QJl1SITv+REufs1kS3PmR418dku0HhQvZB5Z1whUlQm4cpxtquQPwII5FiAwjfHA0D3CCQlcM5d6klZH+fSN7+e1G1chEDOBPR89OaGePex5cuyuFlFzvKmYwQQMFqAwtfo4SE4BE4KFA8QmfxVh+PgeyLrHoQHATMF9PJlq34Zjy1SNkKi/YaYGStRIYCAVQIUvlYNN8n6WuBMVfgW9XdSePNrInp9Xw4ETBN4+e/iEUUlT5oMWb5sYl/nCfTkoYNNUyMeBBDIggCFbxaQ6QIBTwQK+4roKQ+tx7GdIu/+2JOmaQQBzwTWPSCy+414c+FBE0R6q++uAcfU8kNyz/iVMuvcGvnlta41sg2IjRAQQCA7AhS+2XGmFwS8EZioNgIoG+O09c53RI7v9aZtWkEgXYEmtSXx63fEW4kWFEvIsOXLrqjcL185d5yUF7O6RLrDzf0I+FGAwtePo0bM9gr0KhS54G4n//BxNrWw99tgXuZvfUOkcX88rtgObb0KzIuTiBBAwFoBCl9rh57EfStQda3IsEuc8Nf8RkS/TMSBQC4FDiwXWfHTeASRvoMlUlGVy4joGwEEEGgnQOHbjoQPEPCBwEW/SFwa6tUv+iBoQgy0QO1t8fSiatmy5pEXBDpdkkMAAX8KUPj6c9yI2naB/hNFJqj5vq3HzpdF6ubbrkL+uRJY/WuRfYvjvYcHT5JoUb9cRUO/CCCAQKcCFL6d0nACAcMF3qdebCssdYJ8/SsikWbDgya8wAk01ov89V/jaUXUCg4hVfhyIIAAAiYKUPiaOCrEhEAyAnpN33Ndy5s1bFHLm/0kmTu5BgHvBN5Qqzg0HYq3F9JTHHrle9e+xy01RvJk2xH1UigHAghYKUDha+Wwk3RgBCb9U+LyZotVIazX9+VAIBsCu14VWTsv3lOkfKREDN6hbduJYrl88VS5+KGX5Lsv/zUbQvSBAAKGCVD4GjYghINAjwT0k7UL5zi36OXNXv1yj5rgYgRSEgip79pLn4rfGs3LVzu0vS+lprJ106KD/WVfc+9Yd4+vWJ2tbukHAQQMEqDwNWgwCAWBlAROvUZk5FXOrXW/F9n+YkpNcRMCSQu8/e8ienrNySM0fIqac16S9O25uLA56vyV1xQK5yIE+kQAgRwLUPjmeADoHgFPBC7+lZpX2fIkK9bey38vEm70pGkaQaCdwL6lIsudjVQiJZUSrhzf7jI+QAABBEwToPA1bUSIB4FUBPqNFDnnTufOI5tElv13Ki1xDwJdC0TUk9KXPikSjcSui63ZW/V+ta50Xtf3cRYBBBAwQIDC14BBIAQEPBGY/FWR8hqnqXfUcmcNWz1pmkYQiAss+y+R+lXxP4aHnKHW7HUtqwcVAgggYLAAha/Bg0NoCPRIoFehyLR7nVsiTSKvfKFHTXAxAl0KHFovsnh2/JJIUZlas1dtpsKBAAII+ESAwtcnA0WYCCQlMPRCkbHOm/ay9XmRTU8mdSsXIdClgJ7a8OLH45ukRCXv5BQH/hrp0o2TCCBglAD/xTJqOAgGAQ8E9PJmha7tYl/9UsIGAx70QBM2Cug54/veiWceVk96oyUDbJQgZwQQ8LEAha+PB4/QEehQoHigyFQ1D7P1OL5HRO+uxYFAqgL1as3bt/8jfnekdz8Jqbm9HAgggIDfBCh8/TZixItAMgITvygyaKpz5Ro193fny8ncyTUIJApEQiJ/+ZhrioOoKQ4XG70tMUOIAAIIdCZA4duZDJ8j4GcBvbTUZQ+q4kS98NZ6LLxZRO+2xYFATwT0k94Dy+N3hIecLtE+THHoCSHXIoCAOQIUvuaMBZEg4K1A+TiRc7/ttNmwWeStb3nbB60FW2DvYpGlP4jnGCku9/UUh3756un1yaNfkWvDl2CPItkhgIBLgMKXrwMCQRY4U63tW6m2km09lv9EvaC0JMgZk5tXAqETLVMcJBprsWWjikvURhX+/Wvjisp9Mr5PQyyfr190nldStIMAAj4S8O9/wXyETKgI5EygV77IpWrKQ576Z+vx4k1qO2O1xi8HAl0JvH67yJGN8StCw86WaHFZV3cYf66sICwLpiyRTf/wYfnoRNdmL8ZHToAIIOCVAIWvV5K0g4CpAgMmiZztmuJwaI3Im18zNVriMkFg01Miq38djyTSd7CEB403ITJiQAABBNISoPBNi4+bEfCJwFmq8O3v2mHrvbkiO2p9EjxhZlWgYZtIrXoR8uQR7VUgTVUXZTUEOkMAAQQyJUDhmylZ2kXAJAFVvMhlj7Sf8tB02KQoiSXXAnrpsj/foNYra5kHq8NpPlXtBlhYkuvI6B8BBBDwRIDC1xNGGkHABwKVZ4q877tOoMd3ibyq1vvlQKBV4K1viux9K+4RHlgjkfKR+CCAAAKBEaDwDcxQkggCSQhMVnN7h1zgXLj+YZG6BUncyCWBF9j+oojelvjkESmukObh5wQ+bRJEAAG7BCh87RpvsrVdQG9scfmj6kfXpY5E7a0ix3baLmN3/if2qaXLPh43iKpVQJqrp/l66TK7B5TsEUCgMwEK385k+ByBoAr0O1Xkop852TXVq3mdH1ULtUaCmjF5dSWgx/1Pal5v4/74Vc2nXiDR3v26usuX5/SKxHduGCOXPLxQ3tujin0OBBCwToDC17ohJ2EElMC4z4iMvtGh2P26yOLZ0NgooJe22/VKPPPwgDESqagKpMQL+wbKY7uHy9bDx2TW8y8FMkeSQgCBrgUofLv24SwCwRW4RK3TWjLUye+d/1RLnC0Mbr5k1l5g0+9F3v1x/PNIUZk0n/K+9tcF5JPdTUXxTLYfPhKQrEgDAQR6IkDh2xMtrkUgSAK91S5cH3xCZaTm/bYeesrDsd1BypJcOhOoXy3y0qfjZ/V6vc3V00X0bn8cCCCAQEAFKHwDOrCkhUBSAkPfLzL1e86ljQda1nFlvm9SfL69SK/T+/yH1dbVx2Mp6LmvzVUXS7TI9dKjb5MjcAQQQKBzAQrfzm04g4AdAlP+TWTElU6uer7v2/9hR+62ZqlXcDiyMZ59eMgZEikbbqsGeSOAgEUCFL4WDTapItCpgF7irI+r8FmiNrpgvm+nXL4+ocd263PxFMKlwySkCl8OBBBAwAYBCl8bRpkcEehOoKhC5Ir5arqv2tq49fjzR0QOO08Fu2uC8z4Q2KIK3re+FQ80opYs01McRK/vzIEAAghYIEDha8EgkyICSQkMVm/zX/AT59LGg2oe6NVq8qeaD8rhf4F976j52+p/Zk4eLS+zXSqSX+j/3MgAAQQQSFKAwjdJKC5DwAqB028XqbrOSfXQWrWjl1rvN6pff+LwrcCRzSLPXqFeZjsRSyH+MluxWtmDAwEEELBIgMLXosEmVQSSErjsIZGKCc6lW19QPx7/RlK3cpGBAk2HVdF7ecLObOFhU3iZzcChIiQEEMi8AIVv5o3pAQF/CRSqrWo/9EeR4oFO3Et/ILLhMX/lQbQikWaRF65Rc7U3xDVCA8ZKaPAkdBBAAAErBSh8rRx2kkagG4F+I0WuUi9C9ertXLjwZpF9S7q5kdNGCegNKtzbEfcbKqERU40KMZvBFPaKxLsrzOevv2za0xcCpgjwb74pI0EcCJgmoF92u+xBJ6pIk3rZ7SqRhi2mRUo8HQm89mWRjY/Hz0SKy6V51DSrV3C4qPyg9MsPxUxmnjauIzU+QwCBgAtQ+AZ8gEkPgbQERqsX26b8P6eJ43tEnlYrAZzYn1az3JxhgSVqN74VP4t3Ei0okabRap5vvmu5ugyHYGLzVSUn5PEzl8qPL5ss377sIhNDJCYEEMiwAIVvhoFpHgHfC7xPbXhQda2Tht7x69kPqGXOjvo+tUAmsOr/1MuI34ynppctaxqjit7CkkCm29OkRpcclxtqRvT0Nq5HAIGACFD4BmQgSQOBjAnozQ0uVz8yH6SmPrQe+5eK/FEVw5GWHxtnrG8a7pmAfgHxlc/H74nm5cee9EbVNAcOBBBAAAH16goICCCAQLcCBcVqpYc/iZTXOJfqLY1fvIk1frvFy9IFele2lz4Z7yya10sVvZdKtK9rdY4shUI3CCCAgKkCFL6mjgxxIWCagN7W+BpV7PZVKz60HpueEHn5cxS/uR6rugXqCfwMNQ4tqxZEJU+aq6dLtN+QXEdG/wgggIBRAhS+Rg0HwSBguEDf4SLXquK3aIAT6Jp7KX5zOWwbfyfyp+tV0dsy7SRW9I66WCKlw3IZFX0jgAACRgpQ+Bo5LASFgMECZWNEPvwXkYI+TpAUv7kZsHVql72/fEz13bKldMtWxO+XSLnrqXxuIqNXBBBAwEgBCl8jh4WgEDBcYOBZLbu7FfR1AqX4ze6grf6tyEK1QcXJo6XovUgiFVXZjcNnva082leeXLNNGkNhn0VOuAgg4IUAha8XirSBgI0CQ9U6qNe8qJ78UvxmffhX/qJlesnJjlumN1xC0dvNQCw9Uio3LDtb/nXhMvnsgue7uZrTCCAQRAEK3yCOKjkhkC2Bwed1XPzqH79HmrMVhV39vPk1kVe/FM9Zr97QPPoypjck8S1Y1lAav2rpTrUZCwcCCFgnQOFr3ZCTMAIeC7QWv4VlTsN6tQe9yUXTEY87s7i5sNoy+k83iCz7YRwh2qtlnd5I6VCLYZJPPRpVa1KfPCLRlnnRyd/NlQggEAQBCt8gjCI5IJBrAV386tUe3MXvzpdFFpwvcmxXrqPzf/8n9on84WKRuqfiubTsyPZBtWTZYP/nRwYIIIBAlgQofLMETTcIBF5g4NkiM14XKXGtHXtwpchT54rUrwl8+hlLsH6tyJPKdu/f4l1EC/tI07irJNqnMmPd0jACCCAQRAEK3yCOKjkhkCuBAZNErn87cYe3o9tV8au2O976x1xF5d9+t6gXsJ46R+To1ngOkeL+0ljzIbYh9u+oEjkCCORQgMI3h/h0jUAgBfqNUMWvejo57BInvWY11/f5q0UW36U+Y25lt+MeVUtt/fWrIi98SKS5IX55uGyEetJ7pVpJo6jbJrgAAQQQQKC9AIVvexM+QQCBdAV6l7dsclH9UVdLquBdPFvkuavUS2+H0+0huPfrOdF6Pu+7P0rIMTRootqGeJqIeqGNAwEEEEAgNQEK39TcuAsBBLoT6FUo8kG1ne65/6mudP2nZtuf1JxVtQHGgRXdtWDf+V1qjvQTZ4jsfiOee2zlhqqLJTRcmXEggAACCKQlQOGbFh83I4BAtwJnf0vk6udE9FPg1uPIxpZ5vyt+qj5h6oOET4jo9XmfVtND9AoOJ49IUZk0qfm8kYpTu2XmAgQQQACB7gUofLs34goEEEhXYKSal/qRZSIDznRaCh8Xee129WN99eN7/QKcrceeN0V+d3rL+rx6bu/JI6y2Hm6quVqiqvjlQAABBBDwRoDC1xtHWkEAge4ESqtaXnobrXZ1cx+7XhF5fKLI2vu6ayFY5/VT3jf+RWT+hSKHNzi55eVLaMR50lyltoTuVRCsnMkGAQQQyLEAhW+OB4DuEbBKIF+tRvCBx0QuvV9NfahwUm9WL7vV3qp+1K+e/tavDj7JRjX3+bEJIst/onKNxPONlAyILVUWqhwbfIMcZDi0qDHe6yll/XIQAV0igECuBSh8cz0C9I+AjQLjPiNyo3q5bZgqdN2H3u3td+rlrte/olZ+OBQ8mf1quseC94v8RT31bqhz8tNPedXLa7FNKYqZ2pCpgb+ycp98Zuh2uWB4pcy9+vJMdUO7CCBgsACFr8GDQ2gIBFqg73C1zXGtyMX/q9aldT19i4ZE3rtH5FH11HPV/ymCALz8dnyPyKLPtezAtlut3OA6Imr3tdhTXrVcmeTlBXrIc52c1v3m6I3y8HXny6TBA3MdDv0jgEAOBCh8c4BOlwgg4BKY8AWRj6mtjYeoua7uQ69u8MrnW+b/rpmnZgSogthvx7EdLU+vHxktsua3KnpnWoPEnvKeLU1jr+Qpr9/GlXgRQMC3AhS+vh06AkcgQAL9RorMeFXN/X1QpF+bpbv0nN9Ft4no4nH5XJGQWg3C9KN+jcjCm0UeUi/06afXoaOuiPMk3L9aGk+7Tj3lVfN8ecpr+mgSHwIIBEiAV4YDNJikgoC/BdQPosd9SmTMjarAnSOy5HuJ83yPblWrIMxSu7/dKaJ3hBv3aZHheo6wIdMDIk0iG9RLa6t/LbKztsOhiPQbJqFTzpZIsevFvg6v5EMEEEAAgUwI8MQ3E6q0iQACqQv06i0yWW3m8Am1xNfp/6SW9FI7wLkP/dLbmt+IPHOpyMOjRP72DZFDa1PvL907D6ppGvplvAeGqae8qhjvoOgNl41QL65dLU1jLqPoTdeb+xFAwDiBefPmyaWXXip33HGH1NXVGRefO6C8qDqMjpDgEEDAboEG9aT3PTXFYdWvRJqPdG7RX20CMeo6kVOvUfOFL+j0unXr1klNTU38/D333CO336420kj20FMtdr8msqNWRG+/vPetTu8MDxgjocET2YSiU6HcnCg68weSVzIiN53TKwIBFJg+fbosWrQontmUKVNk1qxZMmPGDKmoMOsnXEx1COAXkJQQCJSAnv97/o9EzpmtphGoVR70NIiGLe1TPPieiP6lp0gUqzf2q28QGXi2SPl4kYrTRPoMbX9Pd5/oIrdePdHVc3b1k1293JrecKOrQ7+0NrBGwoMnSLSgpKsrOYcAAggEQuDWW2+VpUuXyqFDLctQ6t/rz3TRO3PmTLnllltEF8cmHDzxNWEUiAEBBHomoJ+0rntI/bo/+fsK+qotk0+Xo8295bm/vCKHVU17RO1ncOG0q2Tq2ZNaniY3qSfK+qmynk5xeL3IsZ3Jta92WNPTGSIVIyVcqpZpY8e15NyyfNXRcC/5+rrxsqb5VPn6JRfKNTVjshwB3SEQbIH58+eLnvawYMGCdomOGjUqVgzrIlj/PlcHhW+u5OkXAQTSF2huEFmvCuANaje4HQvTb68HLUQLiiSii93yEbGil8N8gd/tHiL/vqFlmsvgvn3kb59XG6lwIICA5wJ6nq8ugufMmSObN29u175+Ctz6JLjdyQx/QOGbYWCaRwCBLAmE1ePb3W+o6QhqntmOWpE9fxUJn/C0c72lsC50I6WnSKTPAE/bprHMC8zbcYr8oE4ti6eOkoICWXW72lSEAwEEMipQW1sbewqsC+HWqRCtHeqpEK1PgfW84Gwcxha+69evlyeeeEJOnPD2L65soNIHAgiYIVBZsF8GFByUgfl7Rf++f/5B6R1tkOOH90hpsVoyuEhi/2wM5cmxJvVL/fO4+meD+rXnaL5sO5QvW+sLZPvhfKk7kC+N4TwzEiOKlAQO17xPDk69NnZvXlOjjHrhqZTa4SYEEOi5QCgUkn379smuXbukvr6+XQO68G0tgjP5QpyRha8GqayslEjEtctROyI+QAABBBBAIHmBgoGDZNg/f0N6FZfIkVdr5cDvH03+Zq5EAAFPBXr37i1NTWr98w6Ou+++O7YqRCYOIwvfN998U84///xM5EubCCCAAAIWC+QPqJSCigHSuHGdxQqkjoB5AuXl5bEnvvpXJqc9GFn46uG4+eab5YEHHjBvZIgIAQQQQAABBBBAwBOBadOmxQteTxrsphFjC99u4uY0AgggkJJA2htYpNQrNyGAAAJ2Cei1fOfOnRt7qa3tnN7Wp7t6OkO2lzZjAwu7vodkiwACCCCAAAIIZERAF7h6DV+9jJkufNseeic3vYyZns6Qq4PCN1fy9IsAAggggAACCARAQBe8d9xxR4dPd6uqquJTGbL9dLcjWgrfjlT4DAEEEEAAAQQQQBVQx0QAAA46SURBVCApAf0Ud9EitYa669BPd/WTXX3OpIPC16TRIBYEEEAAAQQQQMBnAnoVBl346qe7et6uLnZNeLrbESOFb0cqfIYAAggggAACCCCQlICe05vpZciSCiSJi3olcQ2XIIAAAggggAACCCDQqUAm197ttNMUTlD4poDGLQgggAACCCCAAAL+E6Dw9d+YETECCCCAAAIIIIBACgIUvimgcQsCCCCAAAIIIICA/wQofP03ZkSMAAIIIIAAAgggkIIAhW8KaNyCAAIIIIAAAggg4D8BljPz35gRMQIIZFGgvqle7lp8lyzcvlCmDJwS63nWGbNkSmXL77MYCl2lIbD18BGZ+8Zi2Xr4sDx243VptMStCCDgZwEKXz+PHrEjgEBGBXTRe+nTl8qmI5uk9traWLE7v26+TH96usybPk9mjjJrR6KMYvi08daC94mVa2IZnDdimE8zIWwEEPBCgKkOXijSBgIIBFJg5h9nytL9S2X+FfPjT3h1sat/Xf+n66V2R20g8w5SUk+sWCMfmVRDwRukQSUXBNIQoPBNA49bEUAguAK6qF20c5HMqJoh04dPT0hUT3XQh54CwWG2wB0XnCsXjBgu56tfHAgggACFL98BBBBAoAOBOcvnxD5tW/Tqz1rn99burOWpbwd2Jn50/kgKXxPHhZgQyLYAhW+2xekPAQSMF9BzexdsXhCLs7OX2KYNmxY731ogG58UASKAAAIICIUvXwIEEECgjcD8TfPjn4wqHdWhT+vnukjmQAABBBDwhwCFrz/GiSgRQCCLAnUNdfHeuit89TxgDgQQQAABfwhQ+PpjnIgSAQSyKLB039Is9kZXCCCAAALZEqDwzZY0/SCAgG8Eejp9gWXNfDO0BIoAApYLUPha/gUgfQQQSF+gs+kQ6bdMCwgggAACXgpQ+HqpSVsIIBAIgY6WMOsqMQrfrnQ4hwACCJgjQOFrzlgQCQIIGCjQ2bSH+saW1RzKe5cbGDUhIYAAAgh0JEDh25EKnyGAgNUC04dNj+ff2YtueitjfbivtRqN5BFAAAEfCFD4+mCQCBEBBLIroKc6VPWrinXaWuC2jaDuSF3so5mjZrY9xZ8RQAABBAwVoPA1dGAICwEEcitw6/hbYwHct/a+doHo6Q+bGzbHiuOZ1RS+7YD4AAEEEDBUgMLX0IEhLAQQyK3ArDNmyeQBk2NPfFuf7rZG1LpN8exzZktF74rcBkrvCCCAAAJJC1D4Jk3FhQggYJOALmhrr6uNPdW944074qnPWzNP7lp8l9xSc4u0PhW2ycWvuf5pfV0s9O2HG/yaAnEjgIAHAgUetEETCCCAQCAFYsXvtbWin/BOeWKK5OXlyaYjm+TeafdS9PpkxO+qfV3e3LZDVu7dH4t42+EjcubP75WJgwbKv0+/UCYNqvRJJoSJAAJeCFD4eqFIGwggEFgBvUbvnAvnxPLTUx5Ys9dfQ32nKm45EEAAgVYBpjrwXUAAAQSSFKDoTRKKyxBAAAFDBSh8DR0YwkIAAQQQQAABBBDwVoDC11tPWkMAAQQQQAABBBAwVIDC19CBISwEEEAAAQQQQAABbwUofL31pDUEEEAAAQQQQAABQwUofA0dGMJCAAEEEEAAAQQQ8FaAwtdbT1pDAAEEEEAAAQQQMFSAwtfQgSEsBBBAAAEEEEAAAW8FKHy99aQ1BBBAAAEEEEAAAUMFKHwNHRjCQgABBBBAAAEEEPBWgMLXW09aQwABBBBAAAEEEDBUgMLX0IEhLAQQQAABBBBAAAFvBSh8vfWkNQQQQAABBBBAAAFDBSh8DR0YwkIAAQQQQAABBBDwVoDC11tPWkMAAQQQQAABBBAwVIDC19CBISwEEEAAAQQQQAABbwUofL31pDUEEEAAAQQQQAABQwUofA0dGMJCAAEEEEAAAQQQ8FaAwtdbT1pDAAEEEEAAAQQQMFSAwtfQgSEsBBBAAAEEEEAAAW8FKHy99aQ1BBBAAAEEEEAAAUMFKHwNHRjCQgABBBBAAAEEEPBWgMLXW09aQwABBBBAAAEEEDBUgMLX0IEhLAQQQAABBBBAAAFvBSh8vfWkNQQQQAABBBBAAAFDBSh8DR0YwkIAAQQQQAABBBDwVoDC11tPWkMAAQQQQAABBBAwVIDC19CBISwEEEAAAQQQQAABbwUofL31pDUEEEAAAQQQQAABQwUofA0dGMJCAAEEEEAAAQQQ8FaAwtdbT1pDAAEEEEAAAQQQMFSAwtfQgSEsBBBAAAEEEEAAAW8FKHy99aQ1BBBAAAEEEEAAAUMFKHwNHRjCQgABBBBAAAEEEPBWgMLXW09aQwABBBBAAAEEEDBUgMLX0IEhLAQQQAABBBBAAAFvBSh8vfWkNQQQQAABBBBAAAFDBSh8DR0YwkIAAQQQQAABBBDwVoDC11tPWkMAAQQQQAABBBAwVIDC19CBISwEEEAAAQQQQAABbwUofL31pDUEEEAAAQQQQAABQwUofA0dGMJCAAEEEEAAAQQQ8FaAwtdbT1pDAAEEEEAAAQQQMFSAwtfQgSEsBBBAAAEEEEAAAW8FKHy99aQ1BBBAAAEEEEAAAUMFKHwNHRjCQgABBBBAAAEEEPBWgMLXW09aQwABBBBAAAEEEDBUgMLX0IEhLAQQQAABBBBAAAFvBSh8vfWkNQQQQAABBBBAAAFDBSh8DR0YwkIAAQQQQAABBBDwVoDC11tPWkMAAQQQQAABBBAwVIDC19CBISwEEEAAAQQQQAABbwUofL31pDUEEEAAAQQQQAABQwUofA0dGMJCAAEEEEAAAQQQ8FaAwtdbT1pDAAEEEEAAAQQQMFSAwtfQgSEsBBBAAAEEEEAAAW8FKHy99aQ1BBBAAAEEEEAAAUMFKHwNHRjCQgABBBBAAAEEEPBWgMLXW09aQwABBBBAAAEEEDBUgMLX0IEhLAQQQAABBBBAAAFvBSh8vfWkNQQQQAABBBBAAAFDBSh8DR0YwkIAAQQQQAABBBDwVoDC11tPWkMAAQQQQAABBBAwVIDC19CBISwEEEAAAQQQQAABbwUofL31pDUEEEAAAQQQQAABQwUofA0dGMJCAAEEEEAAAQQQ8FaAwtdbT1pDAAEEEEAAAQQQMFSAwtfQgSEsBBBAAAEEEEAAAW8FKHy99aQ1BBBAAAEEEEAAAUMFKHwNHRjCQgABBBBAAAEEEPBWgMLXW09aQwABBBBAAAEEEDBUgMLX0IEhLAQQQAABBBBAAAFvBSh8vfWkNQQQQAABBBBAAAFDBSh8DR0YwkIAAQQQQAABBBDwVoDC11tPWkMAAQQQQAABBBAwVIDC19CBISwEEEAAAQQQQAABbwUofL31pDUEEEAAAQQQQAABQwUofA0dGMJCAAEEEEAAAQQQ8FaAwtdbT1pDAAEEEEAAAQQQMFSAwtfQgSEsBBBAAAEEEEAAAW8FKHy99aQ1BBBAAAEEEEAAAUMFKHwNHRjCQgABBBBAAAEEEPBWgMLXW09aQwABBBBAAAEEEDBUgMLX0IEhLAQQQAABBBBAAAFvBSh8vfWkNQQQQAABBBBAAAFDBSh8DR0YwkIAAQQQQAABBBDwVoDC11tPWkMAAQQQQAABBBAwVIDC19CBISwEEEAAAQQQQAABbwUofL31pDUEEEAAAQQQQAABQwUofA0dGMJCAAEEEEAAAQQQ8FaAwtdbT1pDAAEEEEAAAQQQMFSAwtfQgSEsBBBAAAEEEEAAAW8FKHy99aQ1BBBAAAEEEEAAAUMFKHwNHRjCQgABBBBAAAEEEPBWgMLXW09aQwABBBBAAAEEEDBUgMLX0IEhLAQQQAABBBBAAAFvBSh8vfWkNQQQQAABBBBAAAFDBSh8DR0YwkIAAQQQQAABBBDwVoDC11tPWkMAAQQQQAABBBAwVIDC19CBISwEEEAAAQQQQAABbwUofL31pDUEEEAAAQQQQAABQwUofA0dGMJCAAEEEEAAAQQQ8FaAwtdbT1pDAAEEEEAAAQQQMFSAwtfQgSEsBBBAAAEEEEAAAW8FKHy99aQ1BBBAAAEEEEAAAUMFKHwNHRjCQgABBBBAAAEEEPBWgMLXW09aQwABBBBAAAEEEDBUgMLX0IEhLAQQQAABBBBAAAFvBSh8vfWkNQQQQAABBBBAAAFDBSh8DR0YwkIAAQQQQAABBBDwVoDC11tPWkMAAQQQQAABBBAwVIDC19CBISwEEEAAAQQQQAABbwUofL31pDUEEEAAAQQQQAABQwUofA0dGMJCAAEEEEAAAQQQ8FaAwtdbT1pDAAHDBcrKyhIiLC0tNTxiwkMAAQQQ8EqAwtcrSdpBAAFfCAwZMkSuuuqqWKz69zNmzPBF3ASJAAIIIJC+QF5UHek3QwsIIICAvwRWrlwpEydO9FfQRIsAAgggkJYAhW9afNyMAAIIIIAAAggg4BcBpjr4ZaSIEwEEEEAAAQQQQCAtAQrftPi4GQEEEEAAAQQQQMAvAhS+fhkp4kQAAQQQQAABBBBIS4DCNy0+bkYAAQQQQAABBBDwiwCFr19GijgRQAABBBBAAAEE0hKg8E2Lj5sRQAABBBBAAAEE/CJA4euXkSJOBBBAAAEEEEAAgbQEKHzT4uNmBBBAAAEEEEAAAb8IUPj6ZaSIEwEEEEAAAQQQQCAtAQrftPi4GQEEEEAAAQQQQMAvAhS+fhkp4kQAAQQQQAABBBBIS4DCNy0+bkYAAQQQQAABBBDwiwCFr19GijgRQAABBBBAAAEE0hKg8E2Lj5sRQAABBBBAAAEE/CJA4euXkSJOBBBAAAEEEEAAgbQEKHzT4uNmBBBAAAEEEEAAAb8IUPj6ZaSIEwEEEEAAAQQQQCAtAQrftPi4GQEEEEAAAQQQQMAvAv8fRzYLdqgp7B8AAAAASUVORK5CYII=)\n",
        "\n",
        "[Forrás](https://www.mateking.hu/matek-1/hatarozott-integralas/a-gorbe-alatti-terulet-es-a-hatarozott-integralas#20)"
      ],
      "metadata": {
        "id": "R2mUui5TP9r2"
      }
    },
    {
      "cell_type": "markdown",
      "source": [
        "### $\\pi$ értékének közelítése\n",
        "\n",
        "Meghatározása többféle képpen is lehetséges, de az [egyik legismertebb módszer](https://hu.wikipedia.org/wiki/P%C3%AD_(sz%C3%A1m)#A_matematikai_anal%C3%ADzisben) a $cos(\\frac{\\pi}{2}) = 0$ függvény zérushelyének megkeresésével oldja meg a problémát.\n",
        "\n",
        "Egy függvény zérushelyének megkeresése sokszor, így ebben az esetben is megoldható [Newton-módszerrel](https://hu.wikipedia.org/wiki/Newton-m%C3%B3dszer), amennyiben a megoldáshoz kellően közeli helyről indítjuk a keresést (ez a példában 4). A megoldandó függvénynek deriválhatónak kell lennie, de ez esetünkben nem gond, mert tudjuk, hogy $cos(x)' = -sin(x)$. A módszer iteratív, azaz több lépésben közelítünk az eredményhez, de nem végtelen sokkal, mivel egyre kisebb javulást tudunk csak elérni az újabb és újabb közelítésekkel: *EPSZILON*-nál kisebb javulás esetén meg fogunk állni.\n",
        "\n",
        "A *math* könyvtárban természetesen rendelkezésre áll a *cos* függvény, de érdekességképpen ezt is megírhatjuk, ha ismerjük a [*cos* függvény Taylor-sorát](https://hu.wikipedia.org/wiki/Sz%C3%B6gf%C3%BCggv%C3%A9nyek#Defin%C3%ADci%C3%B3_v%C3%A9gtelen_sorral). Ez egyre csökkenő értékű tagok összegzését jelenti. Nyilván nincs értelme, és lehetőségünk sem a végtelenségig pontosítani az eredményt, ezért egy adott *EPSZILON* pontosság elérésekor leállunk. Bár tudunk Python-ban hatványozni (\\*\\* operátor) és faktoriálist számolni is ([*math.factorial()*](https://docs.python.org/3/library/math.html#math.factorial)), a műveletek számát csökkenthetjük, ha a korábban kiszámolt hatványokat, illetve faktoriálisokat szorozzuk tovább.\n",
        "\n",
        "Mivel tudjuk, hogy $sin(x) = cos(\\frac{\\pi}{2} - x)$, csábító lenne a *sin* függvény kiszámítását is a meglévő *cos* függvényünkre bízni, de éppen $\\pi$ értékét keressük. Taylor-sorfejltéssel viszont a *sin* értéke is nagyon hasonló módon számolható lenne."
      ],
      "metadata": {
        "id": "A_CZ6LRuXPJT"
      }
    },
    {
      "cell_type": "code",
      "source": [
        "import math\n",
        "from typing import Callable\n",
        "\n",
        "EPSZILON = 1e-6\n",
        "\n",
        "def my_cos(x: float) -> float:\n",
        "  szamlalo = 1\n",
        "  kitevo = 0\n",
        "  nevezo = 1\n",
        "  elojel = 1\n",
        "  tag = 1\n",
        "  osszeg = tag\n",
        "  while(abs(tag) > EPSZILON):\n",
        "    szamlalo *= x*x\n",
        "    kitevo += 2\n",
        "    nevezo *= (kitevo-1)*kitevo\n",
        "    elojel *= -1\n",
        "    tag = elojel * szamlalo / nevezo\n",
        "    osszeg += tag\n",
        "  return osszeg\n",
        "\n",
        "def Fx(x: float) -> float:\n",
        "  return my_cos(x/2.)\n",
        "def dFx(x: float) -> float:\n",
        "  return -math.sin(x/2.)\n",
        "\n",
        "def Erinto(Fx: Callable[[float], float], dFx: Callable[[float], float], x0: float) -> float:\n",
        "  x1 = x0 - Fx(x0)/dFx(x0)\n",
        "  while abs(x1-x0) > EPSZILON:\n",
        "    x0, x1 = x1, x1 - Fx(x1)/dFx(x1)\n",
        "  return x1\n",
        "\n",
        "print(f'\\N{Greek Small Letter Pi} \\N{Almost Equal To} {Erinto(Fx, dFx, 4.)} vs. {math.pi}')"
      ],
      "metadata": {
        "id": "DRQN9wqjf21c",
        "colab": {
          "base_uri": "https://localhost:8080/"
        },
        "outputId": "1080c473-b84e-471a-9af9-7bf347000c67"
      },
      "execution_count": 2,
      "outputs": [
        {
          "output_type": "stream",
          "name": "stdout",
          "text": [
            "π ≈ 3.1415934169317814 vs. 3.141592653589793\n"
          ]
        }
      ]
    },
    {
      "cell_type": "markdown",
      "source": [
        "# Bepillantás az objektum-orientált (OO) programozásba\n",
        "Eddigi programjaink *procedurális* megközelítésben készültek, azaz elsősorban arra koncentráltunk, hogy egy-egy konkrét feladatot milyen adatszerkezet segítségével, és azon milyen műveleteket, milyen sorrendben végrehajtva tudunk elérni a célig.\n",
        "\n",
        "Ezzel szemben az *OO* programozás során az egymással kapcsolatban álló programegységek hierarchiájának megtervezése kerül a fókuszba. OO programok készítése során számos OO alapelvet kell betartani, illetve lehetőségekkel lehet élni, mint pl. egységbezárás, adatrejtés, származtatás, többalakúság. Ennek a tárgynak a keretében nem célunk az OO programozás teljeskörű elsajátíttatása, azonban a Python függvénykönyvtára széles körben támaszkodik az OO lehetőségekre, ezért fontosnak tartjuk, hogy legalább az alapjait értsék annak, hogy mi történik ezekben a könyvtárakban, hogyan kell használni azokat.\n",
        "\n",
        "Fontos fogalom a *class* kulcsszóval megjelölt *osztály*, ami a logikailag összetartozó adatokat és a rajtuk elvégezhető műveleteket egy egységbe zárja (egységbezárás elve). Pl. egy téglalap osztály egységbe zárja a téglalap két oldalhosszát (ezek az ún. *adattagok* vagy *attribútumok*), és a kerületet, területet kiszámító függvényeket (ezek pedig a  *metódusok*). Ez az osztály általánosságban megmondja, milyen adatok fontosak egy téglalap jellemzéséhez, és milyen műveletek végezhetők téglalapokkal, de önmagában az osztály még nem működőképes, mert nem tartozik hozzá memóriaterület. Az osztály tehát *típusként viselkedik*, nem változóként.\n",
        "\n",
        "Az osztály használatba vételéhez *példányosítani* kell, vagy másképp fogalmazva *objektumot* kell létrehozni belőle; ezek már változók lesznek. A példányosítás során rendelünk memóriaterületet az osztályhoz, amin annak adattagjai már tárolhatók. Ha több téglalappal is szeretnénk dolgozni, akkor több példányt fogunk létrehozni, melyek különböző oldalhossz párokat tartalmazhatnak.\n",
        "\n",
        "Az objektumok adattagjainak inicializálását egy speciális metódus, az ún. *konstruktor* végzi. Ennek paramétereket megadva az adattagok kezdeti értéke már beállítható. Pythonban a konstruktor definíciója során az \\_\\_init\\_\\_ metódusnevet kell alkalmazni, de a példányosításnál már az osztály nevével egyező metódusnak kell átadni az inicializáláshoz használt értékeket.\n",
        "\n",
        "Mivel tehát általánosságban elmondható, hogy az osztályt egyszer definiáljuk, de több példányt is létrehozhatunk belőle, az adatoknak annyiszor foglalunk helyet a tárban, ahány példányra szükség van, de a metódusokat elegendő egyszer tárolni, hiszen eltérő adatokon ugyan, de mindig ugyanazokat a műveleteket hajtjuk végre. Ebből következik, hogy a metódusoknak valahonnan tudniuk kell, mikor-melyik példány adattagjaival kell műveleteket végezniük. Erre a célra szolgál egy speciális változó, a *self*, ami az aktuális példányt jelöli ki. Ezt minden metódus első formális paramétereként fel kell tüntetni, de a metódus hívásakor automatikusan fog értéket kapni, tehát azt nekünk nem kell szolgáltatnunk (értéke a példány nevéből automatizáltan kikövetkeztethető).\n",
        "\n",
        "OO programok írásakor elkerülhetetlenül szükségünk lesz a . (pont) operátor használatára. Ezzel választjuk el egymástól pl. a self kulcsszót és egy adattag/metódus nevét, amikor azt az osztály kódján belül használni szeretnénk, de egy példány adott metódusának hívásához is meg kell nevezni a példányt, és attól a . operátorral elválasztva a hívandó metódust.\n",
        "\n"
      ],
      "metadata": {
        "id": "YdRe730tmLuL"
      }
    },
    {
      "cell_type": "code",
      "source": [
        "class Teglalap:             # osztálydefiníció kezdete\n",
        "  def __init__(self, a : float, b : float): # konstruktor\n",
        "    self.a = a              # adattagok inicializálása\n",
        "    self.b = b\n",
        "\n",
        "  def kerulet(self) -> float:        # metódus\n",
        "    return (self.a + self.b) * 2\n",
        "\n",
        "  def terulet(self) -> float:\n",
        "    return self.a * self.b\n",
        "\n",
        "t1 = Teglalap(2, 5);\n",
        "print('Az első téglalap kerülete: ', t1.kerulet(), ', területe: ', t1.terulet())\n",
        "t2 = Teglalap(3, 6);\n",
        "print('A második téglalap kerülete: ', t2.kerulet(), ', területe: ', t2.terulet())"
      ],
      "metadata": {
        "id": "Vx9kWBu0vXp9",
        "colab": {
          "base_uri": "https://localhost:8080/"
        },
        "outputId": "a61f44a1-d980-43c1-b1cf-760166df6b5d"
      },
      "execution_count": null,
      "outputs": [
        {
          "output_type": "stream",
          "name": "stdout",
          "text": [
            "Az első téglalap kerülete:  14 , területe:  10\n",
            "A második téglalap kerülete:  18 , területe:  18\n"
          ]
        }
      ]
    },
    {
      "cell_type": "markdown",
      "source": [
        "A következő példa két osztály együttes használatát mutatja be. A Koordinata osztály egy síkbeli koordinátát tárol. Ezt használja a Poligon osztály az őt alkotó szakaszok végpontjainak meghatározására (az utolsó pontot automatikusan összeköti az elsővel)."
      ],
      "metadata": {
        "id": "eC6ICdmn5Fyq"
      }
    },
    {
      "cell_type": "code",
      "source": [
        "import math\n",
        "\n",
        "class Koordinata:\n",
        "  def __init__(self, x : float, y : float) -> None:\n",
        "    self.x = x\n",
        "    self.y = y\n",
        "\n",
        "class Poligon:\n",
        "  def __init__(self) -> None:\n",
        "    self.pontok = [] # A Koordinata osztály több példányát fogjuk tárolni itt\n",
        "  def hozzaad(self, pont: Koordinata) -> None:\n",
        "    self.pontok.append(pont)\n",
        "  def szakasz(self, a: Koordinata, b: Koordinata) -> float: # Egy szakasz hossza\n",
        "    return math.sqrt((a.x-b.x)**2 + (a.y-b.y)**2)\n",
        "  def kerulet(self) -> float:\n",
        "    if len(self.pontok) == 0:\n",
        "      return 0.\n",
        "    kerulet = 0.\n",
        "    elozo = self.pontok[0]\n",
        "    for i in range(1, len(self.pontok)):\n",
        "      akt = self.pontok[i]\n",
        "      kerulet += self.szakasz(elozo, akt) # A kerület a szakaszok hosszának összege\n",
        "      elozo = akt\n",
        "    return kerulet + self.szakasz(elozo, self.pontok[0])\n",
        "\n",
        "p1 = Poligon()\n",
        "p1.hozzaad(Koordinata(0, 0))\n",
        "p1.hozzaad(Koordinata(2, 0))\n",
        "p1.hozzaad(Koordinata(2, 2))\n",
        "p1.hozzaad(Koordinata(0, 2))\n",
        "print(\"A poligon kerülete: \", p1.kerulet())\n",
        "\n",
        "p2 = Poligon()\n",
        "p2.hozzaad(Koordinata(1, 1))\n",
        "print(\"A poligon kerülete: \", p2.kerulet())\n",
        "\n",
        "p3 = Poligon()\n",
        "print(\"A poligon kerülete: \", p3.kerulet())"
      ],
      "metadata": {
        "id": "PCTvvzxKx8ju",
        "colab": {
          "base_uri": "https://localhost:8080/"
        },
        "outputId": "8a6bb839-8f72-4411-a665-f3ae8e1a4835"
      },
      "execution_count": null,
      "outputs": [
        {
          "output_type": "stream",
          "name": "stdout",
          "text": [
            "A poligon kerülete:  8.0\n",
            "A poligon kerülete:  0.0\n",
            "A poligon kerülete:  0.0\n"
          ]
        }
      ]
    }
  ]
}